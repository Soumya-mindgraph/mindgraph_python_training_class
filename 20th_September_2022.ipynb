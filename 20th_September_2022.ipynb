{
 "cells": [
  {
   "cell_type": "markdown",
   "id": "b3d67cf3",
   "metadata": {},
   "source": [
    "## using '.format()'"
   ]
  },
  {
   "cell_type": "code",
   "execution_count": 1,
   "id": "e4674587",
   "metadata": {},
   "outputs": [],
   "source": [
    "s = 'Mindgraph'"
   ]
  },
  {
   "cell_type": "code",
   "execution_count": 2,
   "id": "ee0c9797",
   "metadata": {},
   "outputs": [
    {
     "name": "stdout",
     "output_type": "stream",
     "text": [
      "I work for \n"
     ]
    }
   ],
   "source": [
    "print('I work for ')"
   ]
  },
  {
   "cell_type": "code",
   "execution_count": 4,
   "id": "acc98282",
   "metadata": {},
   "outputs": [
    {
     "name": "stdout",
     "output_type": "stream",
     "text": [
      "I work for Mindgraph\n"
     ]
    }
   ],
   "source": [
    "print('I work for', s) # appending a string print statement"
   ]
  },
  {
   "cell_type": "code",
   "execution_count": 5,
   "id": "db5668d8",
   "metadata": {},
   "outputs": [
    {
     "data": {
      "text/plain": [
       "'I work for'"
      ]
     },
     "execution_count": 5,
     "metadata": {},
     "output_type": "execute_result"
    }
   ],
   "source": [
    "'I work for'"
   ]
  },
  {
   "cell_type": "code",
   "execution_count": 6,
   "id": "01fbe199",
   "metadata": {},
   "outputs": [
    {
     "data": {
      "text/plain": [
       "'Mindgraph'"
      ]
     },
     "execution_count": 6,
     "metadata": {},
     "output_type": "execute_result"
    }
   ],
   "source": [
    "s"
   ]
  },
  {
   "cell_type": "code",
   "execution_count": 7,
   "id": "5373208b",
   "metadata": {},
   "outputs": [
    {
     "data": {
      "text/plain": [
       "'I work for'"
      ]
     },
     "execution_count": 7,
     "metadata": {},
     "output_type": "execute_result"
    }
   ],
   "source": [
    "'I work for'.format(s)"
   ]
  },
  {
   "cell_type": "code",
   "execution_count": 8,
   "id": "3d5190f5",
   "metadata": {},
   "outputs": [
    {
     "data": {
      "text/plain": [
       "'I work for Mindgraph'"
      ]
     },
     "execution_count": 8,
     "metadata": {},
     "output_type": "execute_result"
    }
   ],
   "source": [
    "'I work for {}'.format(s) # {} braces is the placeholder."
   ]
  },
  {
   "cell_type": "code",
   "execution_count": 9,
   "id": "342a34e9",
   "metadata": {},
   "outputs": [
    {
     "data": {
      "text/plain": [
       "'2 is an even number'"
      ]
     },
     "execution_count": 9,
     "metadata": {},
     "output_type": "execute_result"
    }
   ],
   "source": [
    "'{} is an even number'.format(2) # parameter or argument passed inside the format will get converted to string."
   ]
  },
  {
   "cell_type": "code",
   "execution_count": 10,
   "id": "13a00831",
   "metadata": {},
   "outputs": [
    {
     "name": "stdout",
     "output_type": "stream",
     "text": [
      "Enter your name: Shubha\n"
     ]
    },
    {
     "data": {
      "text/plain": [
       "'My name is Shubha'"
      ]
     },
     "execution_count": 10,
     "metadata": {},
     "output_type": "execute_result"
    }
   ],
   "source": [
    "i = input('Enter your name: ') # Taking the input from user.\n",
    "'My name is {}'.format(i) # using format function to put it in the right place."
   ]
  },
  {
   "cell_type": "markdown",
   "id": "ee4cd64f",
   "metadata": {},
   "source": [
    "### Diffrence between, string appending to print statement and .format()"
   ]
  },
  {
   "cell_type": "code",
   "execution_count": 11,
   "id": "c94c2dc2",
   "metadata": {},
   "outputs": [
    {
     "name": "stdout",
     "output_type": "stream",
     "text": [
      "I work for \n"
     ]
    }
   ],
   "source": [
    "print('I work for ')"
   ]
  },
  {
   "cell_type": "code",
   "execution_count": 13,
   "id": "635c10d8",
   "metadata": {},
   "outputs": [
    {
     "name": "stdout",
     "output_type": "stream",
     "text": [
      "I work for Mindgraph\n"
     ]
    }
   ],
   "source": [
    "print('I work for', 'Mindgraph') # string appending, will be appended to the last"
   ]
  },
  {
   "cell_type": "code",
   "execution_count": 14,
   "id": "1dfc7aa7",
   "metadata": {},
   "outputs": [
    {
     "name": "stdout",
     "output_type": "stream",
     "text": [
      "I work Mindgraph for\n"
     ]
    }
   ],
   "source": [
    "print('I work {} for'.format('Mindgraph')) # using .format() we can change the position of the string."
   ]
  },
  {
   "cell_type": "code",
   "execution_count": 15,
   "id": "00fac5b2",
   "metadata": {},
   "outputs": [
    {
     "name": "stdout",
     "output_type": "stream",
     "text": [
      "Mindgraph I work for\n"
     ]
    }
   ],
   "source": [
    "print('{} I work for'.format('Mindgraph'))"
   ]
  },
  {
   "cell_type": "code",
   "execution_count": 18,
   "id": "9e5d75b1",
   "metadata": {},
   "outputs": [
    {
     "name": "stdout",
     "output_type": "stream",
     "text": [
      "Enter Your Name: Shubha\n",
      "Enter your company name: Mindgraph\n",
      "Enter your employee id: E007\n"
     ]
    },
    {
     "data": {
      "text/plain": [
       "'my name is Shubha, i work for E007, my employee id is Mindgraph'"
      ]
     },
     "execution_count": 18,
     "metadata": {},
     "output_type": "execute_result"
    }
   ],
   "source": [
    "# arrange the args according to the placeholder\n",
    "name = input('Enter Your Name: ')\n",
    "company_name = input('Enter your company name: ')\n",
    "emp_id = input('Enter your employee id: ')\n",
    "'my name is {}, i work for {}, my employee id is {}'.format(name, emp_id, company_name)  # wrong placement of arguments"
   ]
  },
  {
   "cell_type": "code",
   "execution_count": 19,
   "id": "b0f9dbfe",
   "metadata": {},
   "outputs": [
    {
     "name": "stdout",
     "output_type": "stream",
     "text": [
      "Enter Your Name: Shubha\n",
      "Enter your company name: Mindgraph\n",
      "Enter your employee id: E007\n"
     ]
    },
    {
     "data": {
      "text/plain": [
       "'my name is Shubha, i work for Mindgraph, my employee id is E007'"
      ]
     },
     "execution_count": 19,
     "metadata": {},
     "output_type": "execute_result"
    }
   ],
   "source": [
    "# arrange the args according to the placeholder\n",
    "name = input('Enter Your Name: ')\n",
    "company_name = input('Enter your company name: ')\n",
    "emp_id = input('Enter your employee id: ')\n",
    "'my name is {}, i work for {}, my employee id is {}'.format(name, company_name, emp_id) # right placement of arguments"
   ]
  },
  {
   "cell_type": "code",
   "execution_count": 20,
   "id": "e7d92358",
   "metadata": {},
   "outputs": [],
   "source": [
    "l = [1, 2, 3, 4, 5, 6, 7, 'Shubha', 'Mindgraph', 'ByteIQ']"
   ]
  },
  {
   "cell_type": "markdown",
   "id": "8e3657e6",
   "metadata": {},
   "source": [
    "### len()"
   ]
  },
  {
   "cell_type": "code",
   "execution_count": 21,
   "id": "ca255821",
   "metadata": {},
   "outputs": [
    {
     "data": {
      "text/plain": [
       "10"
      ]
     },
     "execution_count": 21,
     "metadata": {},
     "output_type": "execute_result"
    }
   ],
   "source": [
    "len(l) # will calculate the number of elements present in the list, or size of the list"
   ]
  },
  {
   "cell_type": "code",
   "execution_count": 22,
   "id": "0633bc45",
   "metadata": {},
   "outputs": [
    {
     "data": {
      "text/plain": [
       "'Mindgraph'"
      ]
     },
     "execution_count": 22,
     "metadata": {},
     "output_type": "execute_result"
    }
   ],
   "source": [
    "l[8] "
   ]
  },
  {
   "cell_type": "code",
   "execution_count": 23,
   "id": "149783c7",
   "metadata": {},
   "outputs": [
    {
     "data": {
      "text/plain": [
       "9"
      ]
     },
     "execution_count": 23,
     "metadata": {},
     "output_type": "execute_result"
    }
   ],
   "source": [
    "len(l[8]) # length of the string 'Mindgraph'"
   ]
  },
  {
   "cell_type": "code",
   "execution_count": 24,
   "id": "e57f9dec",
   "metadata": {},
   "outputs": [],
   "source": [
    "l = [1, 2, 3, 4, 5, 6, 7, 'Shubha', 'Mindgraph', 'ByteIQ', ]# no elements have been defined after comma"
   ]
  },
  {
   "cell_type": "code",
   "execution_count": 25,
   "id": "07435106",
   "metadata": {},
   "outputs": [
    {
     "data": {
      "text/plain": [
       "10"
      ]
     },
     "execution_count": 25,
     "metadata": {},
     "output_type": "execute_result"
    }
   ],
   "source": [
    "len(l)"
   ]
  },
  {
   "cell_type": "code",
   "execution_count": 26,
   "id": "cbcafaff",
   "metadata": {},
   "outputs": [
    {
     "ename": "SyntaxError",
     "evalue": "invalid syntax (Temp/ipykernel_76708/3228466246.py, line 1)",
     "output_type": "error",
     "traceback": [
      "\u001b[1;36m  File \u001b[1;32m\"C:\\Users\\Acer\\AppData\\Local\\Temp/ipykernel_76708/3228466246.py\"\u001b[1;36m, line \u001b[1;32m1\u001b[0m\n\u001b[1;33m    l = [1, 2, 3, 4, 5, 6, 7, 'Shubha', 'Mindgraph', 'ByteIQ', ,]\u001b[0m\n\u001b[1;37m                                                               ^\u001b[0m\n\u001b[1;31mSyntaxError\u001b[0m\u001b[1;31m:\u001b[0m invalid syntax\n"
     ]
    }
   ],
   "source": [
    "l = [1, 2, 3, 4, 5, 6, 7, 'Shubha', 'Mindgraph', 'ByteIQ', ,]"
   ]
  },
  {
   "cell_type": "markdown",
   "id": "25ef7f07",
   "metadata": {},
   "source": [
    "### Membership Operators (in, not in)"
   ]
  },
  {
   "cell_type": "code",
   "execution_count": 27,
   "id": "79169d0d",
   "metadata": {},
   "outputs": [
    {
     "data": {
      "text/plain": [
       "[1, 2, 3, 4, 5, 6, 7, 'Shubha', 'Mindgraph', 'ByteIQ']"
      ]
     },
     "execution_count": 27,
     "metadata": {},
     "output_type": "execute_result"
    }
   ],
   "source": [
    "l"
   ]
  },
  {
   "cell_type": "code",
   "execution_count": 28,
   "id": "9a208ef4",
   "metadata": {},
   "outputs": [
    {
     "data": {
      "text/plain": [
       "True"
      ]
     },
     "execution_count": 28,
     "metadata": {},
     "output_type": "execute_result"
    }
   ],
   "source": [
    "5 in l"
   ]
  },
  {
   "cell_type": "code",
   "execution_count": 29,
   "id": "f49c0473",
   "metadata": {},
   "outputs": [
    {
     "data": {
      "text/plain": [
       "False"
      ]
     },
     "execution_count": 29,
     "metadata": {},
     "output_type": "execute_result"
    }
   ],
   "source": [
    "5 not in l"
   ]
  },
  {
   "cell_type": "code",
   "execution_count": 30,
   "id": "a85720ee",
   "metadata": {},
   "outputs": [
    {
     "ename": "NameError",
     "evalue": "name 'Shubha' is not defined",
     "output_type": "error",
     "traceback": [
      "\u001b[1;31m---------------------------------------------------------------------------\u001b[0m",
      "\u001b[1;31mNameError\u001b[0m                                 Traceback (most recent call last)",
      "\u001b[1;32m~\\AppData\\Local\\Temp/ipykernel_76708/4174392171.py\u001b[0m in \u001b[0;36m<module>\u001b[1;34m\u001b[0m\n\u001b[1;32m----> 1\u001b[1;33m \u001b[0mShubha\u001b[0m \u001b[1;32min\u001b[0m \u001b[0ml\u001b[0m\u001b[1;33m\u001b[0m\u001b[1;33m\u001b[0m\u001b[0m\n\u001b[0m",
      "\u001b[1;31mNameError\u001b[0m: name 'Shubha' is not defined"
     ]
    }
   ],
   "source": [
    "Shubha in l"
   ]
  },
  {
   "cell_type": "code",
   "execution_count": 31,
   "id": "8549062a",
   "metadata": {},
   "outputs": [
    {
     "data": {
      "text/plain": [
       "True"
      ]
     },
     "execution_count": 31,
     "metadata": {},
     "output_type": "execute_result"
    }
   ],
   "source": [
    "'Shubha' in l # 'Shubha' is present in l, so true"
   ]
  },
  {
   "cell_type": "code",
   "execution_count": 32,
   "id": "d15b60b5",
   "metadata": {},
   "outputs": [
    {
     "data": {
      "text/plain": [
       "False"
      ]
     },
     "execution_count": 32,
     "metadata": {},
     "output_type": "execute_result"
    }
   ],
   "source": [
    "'Shubha' not in l # 'Shubha' is present in l, so 'not in' condition is false."
   ]
  },
  {
   "cell_type": "code",
   "execution_count": 33,
   "id": "37bf9056",
   "metadata": {},
   "outputs": [
    {
     "data": {
      "text/plain": [
       "False"
      ]
     },
     "execution_count": 33,
     "metadata": {},
     "output_type": "execute_result"
    }
   ],
   "source": [
    "'mindgraph' in l # 'mindgraph' is not present in l, difference in 'm' and 'M'"
   ]
  },
  {
   "cell_type": "code",
   "execution_count": 34,
   "id": "7aef0bbd",
   "metadata": {},
   "outputs": [
    {
     "data": {
      "text/plain": [
       "True"
      ]
     },
     "execution_count": 34,
     "metadata": {},
     "output_type": "execute_result"
    }
   ],
   "source": [
    "'Mindgraph' in l # 'Mindgraph' is present in l"
   ]
  },
  {
   "cell_type": "code",
   "execution_count": 35,
   "id": "19fcb6cb",
   "metadata": {},
   "outputs": [
    {
     "data": {
      "text/plain": [
       "[1, 2, 3, 4, 5, 6, 7, 'Shubha', 'Mindgraph', 'ByteIQ']"
      ]
     },
     "execution_count": 35,
     "metadata": {},
     "output_type": "execute_result"
    }
   ],
   "source": [
    "l"
   ]
  },
  {
   "cell_type": "code",
   "execution_count": 39,
   "id": "30dc25c8",
   "metadata": {},
   "outputs": [
    {
     "data": {
      "text/plain": [
       "False"
      ]
     },
     "execution_count": 39,
     "metadata": {},
     "output_type": "execute_result"
    }
   ],
   "source": [
    "'1' in l # '1' is a string"
   ]
  },
  {
   "cell_type": "code",
   "execution_count": 40,
   "id": "9f3a415a",
   "metadata": {},
   "outputs": [
    {
     "data": {
      "text/plain": [
       "True"
      ]
     },
     "execution_count": 40,
     "metadata": {},
     "output_type": "execute_result"
    }
   ],
   "source": [
    "2 in l # 2 is an integer"
   ]
  },
  {
   "cell_type": "code",
   "execution_count": 36,
   "id": "f8cb66a1",
   "metadata": {},
   "outputs": [
    {
     "data": {
      "text/plain": [
       "False"
      ]
     },
     "execution_count": 36,
     "metadata": {},
     "output_type": "execute_result"
    }
   ],
   "source": [
    "23456 in l # 23456 is an integer and not present in l"
   ]
  },
  {
   "cell_type": "code",
   "execution_count": 37,
   "id": "5e002ffd",
   "metadata": {},
   "outputs": [
    {
     "data": {
      "text/plain": [
       "(2, 3, 4, 5, True)"
      ]
     },
     "execution_count": 37,
     "metadata": {},
     "output_type": "execute_result"
    }
   ],
   "source": [
    "2, 3, 4, 5, 6 in l # 6 is  present in l, so true"
   ]
  },
  {
   "cell_type": "code",
   "execution_count": 38,
   "id": "807c9ad4",
   "metadata": {},
   "outputs": [
    {
     "data": {
      "text/plain": [
       "(2, 3, 4, False)"
      ]
     },
     "execution_count": 38,
     "metadata": {},
     "output_type": "execute_result"
    }
   ],
   "source": [
    "2, 3, 4, (5, 6) in l # (5, 6) will be considered as tuple"
   ]
  },
  {
   "cell_type": "code",
   "execution_count": 41,
   "id": "c009081d",
   "metadata": {},
   "outputs": [
    {
     "data": {
      "text/plain": [
       "[1, 2, 3, 4, 5, 6, 7, 'Shubha', 'Mindgraph', 'ByteIQ']"
      ]
     },
     "execution_count": 41,
     "metadata": {},
     "output_type": "execute_result"
    }
   ],
   "source": [
    "l"
   ]
  },
  {
   "cell_type": "code",
   "execution_count": 45,
   "id": "1dc174f5",
   "metadata": {},
   "outputs": [
    {
     "data": {
      "text/plain": [
       "True"
      ]
     },
     "execution_count": 45,
     "metadata": {},
     "output_type": "execute_result"
    }
   ],
   "source": [
    "'Soumya' not in l # string 'Soumya' is not present in l, so 'not in' condition is true."
   ]
  },
  {
   "cell_type": "code",
   "execution_count": 44,
   "id": "d8d6211c",
   "metadata": {},
   "outputs": [
    {
     "data": {
      "text/plain": [
       "False"
      ]
     },
     "execution_count": 44,
     "metadata": {},
     "output_type": "execute_result"
    }
   ],
   "source": [
    "'Soumya' in l # string 'Soumya' is not present in l, so 'in' condition is False."
   ]
  },
  {
   "cell_type": "code",
   "execution_count": 43,
   "id": "be3b1e31",
   "metadata": {},
   "outputs": [
    {
     "data": {
      "text/plain": [
       "False"
      ]
     },
     "execution_count": 43,
     "metadata": {},
     "output_type": "execute_result"
    }
   ],
   "source": [
    "5 not in l # 5 is present in l, so 'not in' condition is False"
   ]
  },
  {
   "cell_type": "code",
   "execution_count": 42,
   "id": "09d5d489",
   "metadata": {},
   "outputs": [
    {
     "ename": "NameError",
     "evalue": "name 'ByteIQ' is not defined",
     "output_type": "error",
     "traceback": [
      "\u001b[1;31m---------------------------------------------------------------------------\u001b[0m",
      "\u001b[1;31mNameError\u001b[0m                                 Traceback (most recent call last)",
      "\u001b[1;32m~\\AppData\\Local\\Temp/ipykernel_76708/2526943924.py\u001b[0m in \u001b[0;36m<module>\u001b[1;34m\u001b[0m\n\u001b[1;32m----> 1\u001b[1;33m \u001b[0mByteIQ\u001b[0m \u001b[1;32mnot\u001b[0m \u001b[1;32min\u001b[0m \u001b[0ml\u001b[0m\u001b[1;33m\u001b[0m\u001b[1;33m\u001b[0m\u001b[0m\n\u001b[0m",
      "\u001b[1;31mNameError\u001b[0m: name 'ByteIQ' is not defined"
     ]
    }
   ],
   "source": [
    "ByteIQ not in l # Error, ByteIQ will be considered as an undefined Variable."
   ]
  },
  {
   "cell_type": "markdown",
   "id": "1e25f13c",
   "metadata": {},
   "source": [
    "### append()"
   ]
  },
  {
   "cell_type": "code",
   "execution_count": 46,
   "id": "cc5cecba",
   "metadata": {},
   "outputs": [
    {
     "data": {
      "text/plain": [
       "[1, 2, 3, 4, 5, 6, 7, 'Shubha', 'Mindgraph', 'ByteIQ']"
      ]
     },
     "execution_count": 46,
     "metadata": {},
     "output_type": "execute_result"
    }
   ],
   "source": [
    "l"
   ]
  },
  {
   "cell_type": "code",
   "execution_count": 47,
   "id": "245fc867",
   "metadata": {},
   "outputs": [],
   "source": [
    "l.append('Soumya') # append function adds element to the tail/end position of the list."
   ]
  },
  {
   "cell_type": "code",
   "execution_count": 48,
   "id": "68e3e0c7",
   "metadata": {},
   "outputs": [
    {
     "data": {
      "text/plain": [
       "[1, 2, 3, 4, 5, 6, 7, 'Shubha', 'Mindgraph', 'ByteIQ', 'Soumya']"
      ]
     },
     "execution_count": 48,
     "metadata": {},
     "output_type": "execute_result"
    }
   ],
   "source": [
    "l"
   ]
  },
  {
   "cell_type": "code",
   "execution_count": 49,
   "id": "f65929f4",
   "metadata": {},
   "outputs": [],
   "source": [
    "l.append([9, 10, 11])"
   ]
  },
  {
   "cell_type": "code",
   "execution_count": 50,
   "id": "936769a6",
   "metadata": {},
   "outputs": [
    {
     "data": {
      "text/plain": [
       "[1, 2, 3, 4, 5, 6, 7, 'Shubha', 'Mindgraph', 'ByteIQ', 'Soumya', [9, 10, 11]]"
      ]
     },
     "execution_count": 50,
     "metadata": {},
     "output_type": "execute_result"
    }
   ],
   "source": [
    "l"
   ]
  },
  {
   "cell_type": "code",
   "execution_count": 51,
   "id": "a4d6e391",
   "metadata": {},
   "outputs": [],
   "source": [
    "l.append(35.8)"
   ]
  },
  {
   "cell_type": "code",
   "execution_count": 52,
   "id": "cd34050a",
   "metadata": {},
   "outputs": [
    {
     "data": {
      "text/plain": [
       "[1,\n",
       " 2,\n",
       " 3,\n",
       " 4,\n",
       " 5,\n",
       " 6,\n",
       " 7,\n",
       " 'Shubha',\n",
       " 'Mindgraph',\n",
       " 'ByteIQ',\n",
       " 'Soumya',\n",
       " [9, 10, 11],\n",
       " 35.8]"
      ]
     },
     "execution_count": 52,
     "metadata": {},
     "output_type": "execute_result"
    }
   ],
   "source": [
    "l"
   ]
  },
  {
   "cell_type": "markdown",
   "id": "42bc3253",
   "metadata": {},
   "source": [
    "### .pop()"
   ]
  },
  {
   "cell_type": "code",
   "execution_count": 53,
   "id": "a39f1e72",
   "metadata": {},
   "outputs": [
    {
     "data": {
      "text/plain": [
       "[1,\n",
       " 2,\n",
       " 3,\n",
       " 4,\n",
       " 5,\n",
       " 6,\n",
       " 7,\n",
       " 'Shubha',\n",
       " 'Mindgraph',\n",
       " 'ByteIQ',\n",
       " 'Soumya',\n",
       " [9, 10, 11],\n",
       " 35.8]"
      ]
     },
     "execution_count": 53,
     "metadata": {},
     "output_type": "execute_result"
    }
   ],
   "source": [
    "l"
   ]
  },
  {
   "cell_type": "code",
   "execution_count": 54,
   "id": "0b7ef407",
   "metadata": {},
   "outputs": [
    {
     "data": {
      "text/plain": [
       "35.8"
      ]
     },
     "execution_count": 54,
     "metadata": {},
     "output_type": "execute_result"
    }
   ],
   "source": [
    "l.pop() # removes the last element from the list."
   ]
  },
  {
   "cell_type": "code",
   "execution_count": 55,
   "id": "c10d27fb",
   "metadata": {},
   "outputs": [
    {
     "data": {
      "text/plain": [
       "[1, 2, 3, 4, 5, 6, 7, 'Shubha', 'Mindgraph', 'ByteIQ', 'Soumya', [9, 10, 11]]"
      ]
     },
     "execution_count": 55,
     "metadata": {},
     "output_type": "execute_result"
    }
   ],
   "source": [
    "l"
   ]
  },
  {
   "cell_type": "code",
   "execution_count": 60,
   "id": "6af1c859",
   "metadata": {},
   "outputs": [
    {
     "data": {
      "text/plain": [
       "[9, 10, 11]"
      ]
     },
     "execution_count": 60,
     "metadata": {},
     "output_type": "execute_result"
    }
   ],
   "source": [
    "l.pop()"
   ]
  },
  {
   "cell_type": "code",
   "execution_count": 61,
   "id": "53aca19d",
   "metadata": {},
   "outputs": [
    {
     "data": {
      "text/plain": [
       "[1, 2, 3, 4, 5, 6, 7, 'Shubha', 'Mindgraph', 'ByteIQ', 'Soumya']"
      ]
     },
     "execution_count": 61,
     "metadata": {},
     "output_type": "execute_result"
    }
   ],
   "source": [
    "l"
   ]
  },
  {
   "cell_type": "code",
   "execution_count": 62,
   "id": "c5ec497c",
   "metadata": {},
   "outputs": [],
   "source": [
    "l.append([1, 2, 3, 5])"
   ]
  },
  {
   "cell_type": "code",
   "execution_count": 63,
   "id": "fc201f37",
   "metadata": {},
   "outputs": [
    {
     "data": {
      "text/plain": [
       "[1, 2, 3, 4, 5, 6, 7, 'Shubha', 'Mindgraph', 'ByteIQ', 'Soumya', [1, 2, 3, 5]]"
      ]
     },
     "execution_count": 63,
     "metadata": {},
     "output_type": "execute_result"
    }
   ],
   "source": [
    "l"
   ]
  },
  {
   "cell_type": "code",
   "execution_count": 64,
   "id": "cc23bc44",
   "metadata": {},
   "outputs": [
    {
     "ename": "AttributeError",
     "evalue": "'int' object has no attribute 'pop'",
     "output_type": "error",
     "traceback": [
      "\u001b[1;31m---------------------------------------------------------------------------\u001b[0m",
      "\u001b[1;31mAttributeError\u001b[0m                            Traceback (most recent call last)",
      "\u001b[1;32m~\\AppData\\Local\\Temp/ipykernel_76708/479735025.py\u001b[0m in \u001b[0;36m<module>\u001b[1;34m\u001b[0m\n\u001b[1;32m----> 1\u001b[1;33m \u001b[0ml\u001b[0m\u001b[1;33m[\u001b[0m\u001b[1;33m-\u001b[0m\u001b[1;36m1\u001b[0m\u001b[1;33m]\u001b[0m\u001b[1;33m[\u001b[0m\u001b[1;33m-\u001b[0m\u001b[1;36m2\u001b[0m\u001b[1;33m]\u001b[0m\u001b[1;33m.\u001b[0m\u001b[0mpop\u001b[0m\u001b[1;33m(\u001b[0m\u001b[1;33m)\u001b[0m\u001b[1;33m\u001b[0m\u001b[1;33m\u001b[0m\u001b[0m\n\u001b[0m",
      "\u001b[1;31mAttributeError\u001b[0m: 'int' object has no attribute 'pop'"
     ]
    }
   ],
   "source": [
    "l[-1][-2].pop()"
   ]
  },
  {
   "cell_type": "code",
   "execution_count": 67,
   "id": "d1f8d206",
   "metadata": {},
   "outputs": [
    {
     "data": {
      "text/plain": [
       "[1, 2, 3]"
      ]
     },
     "execution_count": 67,
     "metadata": {},
     "output_type": "execute_result"
    }
   ],
   "source": [
    "l[-1]"
   ]
  },
  {
   "cell_type": "code",
   "execution_count": 65,
   "id": "14c519a6",
   "metadata": {},
   "outputs": [
    {
     "data": {
      "text/plain": [
       "5"
      ]
     },
     "execution_count": 65,
     "metadata": {},
     "output_type": "execute_result"
    }
   ],
   "source": [
    "l[-1].pop()"
   ]
  },
  {
   "cell_type": "code",
   "execution_count": 66,
   "id": "fa56a453",
   "metadata": {},
   "outputs": [
    {
     "data": {
      "text/plain": [
       "[1, 2, 3, 4, 5, 6, 7, 'Shubha', 'Mindgraph', 'ByteIQ', 'Soumya', [1, 2, 3]]"
      ]
     },
     "execution_count": 66,
     "metadata": {},
     "output_type": "execute_result"
    }
   ],
   "source": [
    "l"
   ]
  },
  {
   "cell_type": "markdown",
   "id": "9fc7acba",
   "metadata": {},
   "source": [
    "### .pop(index)"
   ]
  },
  {
   "cell_type": "code",
   "execution_count": 68,
   "id": "7756675c",
   "metadata": {},
   "outputs": [
    {
     "data": {
      "text/plain": [
       "3"
      ]
     },
     "execution_count": 68,
     "metadata": {},
     "output_type": "execute_result"
    }
   ],
   "source": [
    "l[-1].pop(-1) # removes the element from the list as per, the index specified."
   ]
  },
  {
   "cell_type": "code",
   "execution_count": 69,
   "id": "4cc6a6ea",
   "metadata": {},
   "outputs": [
    {
     "data": {
      "text/plain": [
       "[1, 2, 3, 4, 5, 6, 7, 'Shubha', 'Mindgraph', 'ByteIQ', 'Soumya', [1, 2]]"
      ]
     },
     "execution_count": 69,
     "metadata": {},
     "output_type": "execute_result"
    }
   ],
   "source": [
    "l"
   ]
  },
  {
   "cell_type": "code",
   "execution_count": 70,
   "id": "2859448a",
   "metadata": {},
   "outputs": [
    {
     "data": {
      "text/plain": [
       "1"
      ]
     },
     "execution_count": 70,
     "metadata": {},
     "output_type": "execute_result"
    }
   ],
   "source": [
    "l[-1].pop(0)"
   ]
  },
  {
   "cell_type": "code",
   "execution_count": 71,
   "id": "bf8e53c2",
   "metadata": {},
   "outputs": [
    {
     "data": {
      "text/plain": [
       "[1, 2, 3, 4, 5, 6, 7, 'Shubha', 'Mindgraph', 'ByteIQ', 'Soumya', [2]]"
      ]
     },
     "execution_count": 71,
     "metadata": {},
     "output_type": "execute_result"
    }
   ],
   "source": [
    "l"
   ]
  },
  {
   "cell_type": "code",
   "execution_count": 72,
   "id": "9f6df726",
   "metadata": {},
   "outputs": [
    {
     "ename": "TypeError",
     "evalue": "'list' object cannot be interpreted as an integer",
     "output_type": "error",
     "traceback": [
      "\u001b[1;31m---------------------------------------------------------------------------\u001b[0m",
      "\u001b[1;31mTypeError\u001b[0m                                 Traceback (most recent call last)",
      "\u001b[1;32m~\\AppData\\Local\\Temp/ipykernel_76708/1630656775.py\u001b[0m in \u001b[0;36m<module>\u001b[1;34m\u001b[0m\n\u001b[1;32m----> 1\u001b[1;33m \u001b[0ml\u001b[0m\u001b[1;33m.\u001b[0m\u001b[0mpop\u001b[0m\u001b[1;33m(\u001b[0m\u001b[1;33m[\u001b[0m\u001b[1;36m2\u001b[0m\u001b[1;33m]\u001b[0m\u001b[1;33m)\u001b[0m\u001b[1;33m\u001b[0m\u001b[1;33m\u001b[0m\u001b[0m\n\u001b[0m",
      "\u001b[1;31mTypeError\u001b[0m: 'list' object cannot be interpreted as an integer"
     ]
    }
   ],
   "source": [
    "l.pop([2])"
   ]
  },
  {
   "cell_type": "code",
   "execution_count": 73,
   "id": "b793c021",
   "metadata": {},
   "outputs": [
    {
     "data": {
      "text/plain": [
       "[2]"
      ]
     },
     "execution_count": 73,
     "metadata": {},
     "output_type": "execute_result"
    }
   ],
   "source": [
    "l.pop(-1)"
   ]
  },
  {
   "cell_type": "code",
   "execution_count": 74,
   "id": "fa57f98c",
   "metadata": {},
   "outputs": [
    {
     "data": {
      "text/plain": [
       "[1, 2, 3, 4, 5, 6, 7, 'Shubha', 'Mindgraph', 'ByteIQ', 'Soumya']"
      ]
     },
     "execution_count": 74,
     "metadata": {},
     "output_type": "execute_result"
    }
   ],
   "source": [
    "l"
   ]
  },
  {
   "cell_type": "code",
   "execution_count": 75,
   "id": "61531475",
   "metadata": {},
   "outputs": [
    {
     "data": {
      "text/plain": [
       "7"
      ]
     },
     "execution_count": 75,
     "metadata": {},
     "output_type": "execute_result"
    }
   ],
   "source": [
    "l.pop(6)"
   ]
  },
  {
   "cell_type": "code",
   "execution_count": 76,
   "id": "ee0020de",
   "metadata": {},
   "outputs": [
    {
     "data": {
      "text/plain": [
       "[1, 2, 3, 4, 5, 6, 'Shubha', 'Mindgraph', 'ByteIQ', 'Soumya']"
      ]
     },
     "execution_count": 76,
     "metadata": {},
     "output_type": "execute_result"
    }
   ],
   "source": [
    "l"
   ]
  },
  {
   "cell_type": "code",
   "execution_count": 77,
   "id": "9640fa25",
   "metadata": {},
   "outputs": [
    {
     "data": {
      "text/plain": [
       "[1, 2, 3, 4, 5, 6, 'Shubha', 'Mindgraph', 'ByteIQ', 'Soumya']"
      ]
     },
     "execution_count": 77,
     "metadata": {},
     "output_type": "execute_result"
    }
   ],
   "source": [
    "l"
   ]
  },
  {
   "cell_type": "markdown",
   "id": "85167698",
   "metadata": {},
   "source": [
    "### reverse()"
   ]
  },
  {
   "cell_type": "code",
   "execution_count": 84,
   "id": "d30c0153",
   "metadata": {},
   "outputs": [
    {
     "data": {
      "text/plain": [
       "[1, 2, 3, 4, 5, 6, 'Shubha', 'Mindgraph', 'ByteIQ', 'Soumya']"
      ]
     },
     "execution_count": 84,
     "metadata": {},
     "output_type": "execute_result"
    }
   ],
   "source": [
    "l"
   ]
  },
  {
   "cell_type": "code",
   "execution_count": 85,
   "id": "6d2f7697",
   "metadata": {},
   "outputs": [
    {
     "data": {
      "text/plain": [
       "['Soumya', 'ByteIQ', 'Mindgraph', 'Shubha', 6, 5, 4, 3, 2, 1]"
      ]
     },
     "execution_count": 85,
     "metadata": {},
     "output_type": "execute_result"
    }
   ],
   "source": [
    "l[::-1] # will only display"
   ]
  },
  {
   "cell_type": "code",
   "execution_count": 86,
   "id": "7e5877c5",
   "metadata": {},
   "outputs": [
    {
     "data": {
      "text/plain": [
       "[1, 2, 3, 4, 5, 6, 'Shubha', 'Mindgraph', 'ByteIQ', 'Soumya']"
      ]
     },
     "execution_count": 86,
     "metadata": {},
     "output_type": "execute_result"
    }
   ],
   "source": [
    "l"
   ]
  },
  {
   "cell_type": "code",
   "execution_count": 87,
   "id": "4d3b75d4",
   "metadata": {},
   "outputs": [],
   "source": [
    "l.reverse() # will reverse and store the elements in the list"
   ]
  },
  {
   "cell_type": "code",
   "execution_count": 88,
   "id": "8e367c5a",
   "metadata": {},
   "outputs": [
    {
     "data": {
      "text/plain": [
       "['Soumya', 'ByteIQ', 'Mindgraph', 'Shubha', 6, 5, 4, 3, 2, 1]"
      ]
     },
     "execution_count": 88,
     "metadata": {},
     "output_type": "execute_result"
    }
   ],
   "source": [
    "l"
   ]
  },
  {
   "cell_type": "code",
   "execution_count": 89,
   "id": "48ec214f",
   "metadata": {},
   "outputs": [],
   "source": [
    "l.reverse()"
   ]
  },
  {
   "cell_type": "code",
   "execution_count": 90,
   "id": "81003bf2",
   "metadata": {},
   "outputs": [
    {
     "data": {
      "text/plain": [
       "[1, 2, 3, 4, 5, 6, 'Shubha', 'Mindgraph', 'ByteIQ', 'Soumya']"
      ]
     },
     "execution_count": 90,
     "metadata": {},
     "output_type": "execute_result"
    }
   ],
   "source": [
    "l"
   ]
  },
  {
   "cell_type": "markdown",
   "id": "9f17e8c4",
   "metadata": {},
   "source": [
    "### insert()"
   ]
  },
  {
   "cell_type": "code",
   "execution_count": 91,
   "id": "2e6289bc",
   "metadata": {},
   "outputs": [],
   "source": [
    "l.insert(2, 'Brahma') # will take two arguments, left arugment is the index and right argument is the element to be inserted."
   ]
  },
  {
   "cell_type": "code",
   "execution_count": 92,
   "id": "85189d93",
   "metadata": {
    "scrolled": true
   },
   "outputs": [
    {
     "data": {
      "text/plain": [
       "[1, 2, 'Brahma', 3, 4, 5, 6, 'Shubha', 'Mindgraph', 'ByteIQ', 'Soumya']"
      ]
     },
     "execution_count": 92,
     "metadata": {},
     "output_type": "execute_result"
    }
   ],
   "source": [
    "l"
   ]
  },
  {
   "cell_type": "code",
   "execution_count": 93,
   "id": "54a0b2b2",
   "metadata": {},
   "outputs": [],
   "source": [
    "l.insert(0, 1)"
   ]
  },
  {
   "cell_type": "code",
   "execution_count": 94,
   "id": "7a9b1c19",
   "metadata": {},
   "outputs": [
    {
     "data": {
      "text/plain": [
       "[1, 1, 2, 'Brahma', 3, 4, 5, 6, 'Shubha', 'Mindgraph', 'ByteIQ', 'Soumya']"
      ]
     },
     "execution_count": 94,
     "metadata": {},
     "output_type": "execute_result"
    }
   ],
   "source": [
    "l"
   ]
  },
  {
   "cell_type": "code",
   "execution_count": 95,
   "id": "5538b769",
   "metadata": {},
   "outputs": [],
   "source": [
    "l.insert(20, 21)"
   ]
  },
  {
   "cell_type": "code",
   "execution_count": 96,
   "id": "0b628ab1",
   "metadata": {},
   "outputs": [
    {
     "data": {
      "text/plain": [
       "[1, 1, 2, 'Brahma', 3, 4, 5, 6, 'Shubha', 'Mindgraph', 'ByteIQ', 'Soumya', 21]"
      ]
     },
     "execution_count": 96,
     "metadata": {},
     "output_type": "execute_result"
    }
   ],
   "source": [
    "l"
   ]
  },
  {
   "cell_type": "code",
   "execution_count": 97,
   "id": "6ba67d51",
   "metadata": {},
   "outputs": [],
   "source": [
    "l.insert(20, 'Brahma')"
   ]
  },
  {
   "cell_type": "code",
   "execution_count": 98,
   "id": "84674a7f",
   "metadata": {},
   "outputs": [
    {
     "data": {
      "text/plain": [
       "[1,\n",
       " 1,\n",
       " 2,\n",
       " 'Brahma',\n",
       " 3,\n",
       " 4,\n",
       " 5,\n",
       " 6,\n",
       " 'Shubha',\n",
       " 'Mindgraph',\n",
       " 'ByteIQ',\n",
       " 'Soumya',\n",
       " 21,\n",
       " 'Brahma']"
      ]
     },
     "execution_count": 98,
     "metadata": {},
     "output_type": "execute_result"
    }
   ],
   "source": [
    "l"
   ]
  },
  {
   "cell_type": "markdown",
   "id": "c15fc600",
   "metadata": {},
   "source": [
    "### remove()"
   ]
  },
  {
   "cell_type": "code",
   "execution_count": 99,
   "id": "eed33a09",
   "metadata": {},
   "outputs": [],
   "source": [
    "l.remove('Brahma') # will remove the first occurence of the element"
   ]
  },
  {
   "cell_type": "code",
   "execution_count": 100,
   "id": "fd208c00",
   "metadata": {},
   "outputs": [
    {
     "data": {
      "text/plain": [
       "[1, 1, 2, 3, 4, 5, 6, 'Shubha', 'Mindgraph', 'ByteIQ', 'Soumya', 21, 'Brahma']"
      ]
     },
     "execution_count": 100,
     "metadata": {},
     "output_type": "execute_result"
    }
   ],
   "source": [
    "l"
   ]
  },
  {
   "cell_type": "code",
   "execution_count": 101,
   "id": "e6724c68",
   "metadata": {},
   "outputs": [],
   "source": [
    "l.remove(1)"
   ]
  },
  {
   "cell_type": "code",
   "execution_count": 102,
   "id": "9b788f43",
   "metadata": {},
   "outputs": [
    {
     "data": {
      "text/plain": [
       "[1, 2, 3, 4, 5, 6, 'Shubha', 'Mindgraph', 'ByteIQ', 'Soumya', 21, 'Brahma']"
      ]
     },
     "execution_count": 102,
     "metadata": {},
     "output_type": "execute_result"
    }
   ],
   "source": [
    "l"
   ]
  },
  {
   "cell_type": "markdown",
   "id": "d334f290",
   "metadata": {},
   "source": [
    "### Adding two lists"
   ]
  },
  {
   "cell_type": "code",
   "execution_count": 103,
   "id": "c9631a82",
   "metadata": {},
   "outputs": [],
   "source": [
    "l1 = [1, 2, 3, 4, 5]"
   ]
  },
  {
   "cell_type": "code",
   "execution_count": 104,
   "id": "a27eb225",
   "metadata": {},
   "outputs": [],
   "source": [
    "l2 = [6, 7, 8, 9, 10]"
   ]
  },
  {
   "cell_type": "code",
   "execution_count": 105,
   "id": "3c739856",
   "metadata": {},
   "outputs": [
    {
     "data": {
      "text/plain": [
       "[1, 2, 3, 4, 5, 6, 7, 8, 9, 10]"
      ]
     },
     "execution_count": 105,
     "metadata": {},
     "output_type": "execute_result"
    }
   ],
   "source": [
    "l1 + l2 # will add two lists and give a final list containing all the elements from both the lists."
   ]
  },
  {
   "cell_type": "code",
   "execution_count": 106,
   "id": "1171ea0f",
   "metadata": {},
   "outputs": [],
   "source": [
    "l1.append(l2) # will add the list at the end of another list as an element."
   ]
  },
  {
   "cell_type": "code",
   "execution_count": 107,
   "id": "38e91640",
   "metadata": {},
   "outputs": [
    {
     "data": {
      "text/plain": [
       "[1, 2, 3, 4, 5, [6, 7, 8, 9, 10]]"
      ]
     },
     "execution_count": 107,
     "metadata": {},
     "output_type": "execute_result"
    }
   ],
   "source": [
    "l1"
   ]
  },
  {
   "cell_type": "code",
   "execution_count": 110,
   "id": "f025988c",
   "metadata": {},
   "outputs": [],
   "source": [
    "l1 = [1, 2, 3, 4, 5]"
   ]
  },
  {
   "cell_type": "code",
   "execution_count": 111,
   "id": "dc8cc95b",
   "metadata": {},
   "outputs": [],
   "source": [
    "l2 = [6, 7, 8, 9, 10]"
   ]
  },
  {
   "cell_type": "code",
   "execution_count": 112,
   "id": "04581502",
   "metadata": {},
   "outputs": [],
   "source": [
    "# adding the list inside another list at a certain position, and pushing the element present in the position to next index\n",
    "l1.insert(-1, l2) "
   ]
  },
  {
   "cell_type": "code",
   "execution_count": 113,
   "id": "9e6699b6",
   "metadata": {},
   "outputs": [
    {
     "data": {
      "text/plain": [
       "[1, 2, 3, 4, [6, 7, 8, 9, 10], 5]"
      ]
     },
     "execution_count": 113,
     "metadata": {},
     "output_type": "execute_result"
    }
   ],
   "source": [
    "l1"
   ]
  },
  {
   "cell_type": "markdown",
   "id": "7c1c288c",
   "metadata": {},
   "source": [
    "### extend()"
   ]
  },
  {
   "cell_type": "code",
   "execution_count": 114,
   "id": "3c0f7d1a",
   "metadata": {},
   "outputs": [
    {
     "data": {
      "text/plain": [
       "[1, 2, 3, 4, [6, 7, 8, 9, 10], 5]"
      ]
     },
     "execution_count": 114,
     "metadata": {},
     "output_type": "execute_result"
    }
   ],
   "source": [
    "l1"
   ]
  },
  {
   "cell_type": "code",
   "execution_count": 115,
   "id": "19ea74a6",
   "metadata": {},
   "outputs": [
    {
     "data": {
      "text/plain": [
       "[6, 7, 8, 9, 10]"
      ]
     },
     "execution_count": 115,
     "metadata": {},
     "output_type": "execute_result"
    }
   ],
   "source": [
    "l2"
   ]
  },
  {
   "cell_type": "code",
   "execution_count": 116,
   "id": "ef60cc3c",
   "metadata": {},
   "outputs": [],
   "source": [
    "# it will unwrap the elements the list passed in the arguments first and then will add the elements of that list to the given list.\n",
    "l1.extend(l2) "
   ]
  },
  {
   "cell_type": "code",
   "execution_count": 117,
   "id": "7c8608d9",
   "metadata": {},
   "outputs": [
    {
     "data": {
      "text/plain": [
       "[1, 2, 3, 4, [6, 7, 8, 9, 10], 5, 6, 7, 8, 9, 10]"
      ]
     },
     "execution_count": 117,
     "metadata": {},
     "output_type": "execute_result"
    }
   ],
   "source": [
    "l1"
   ]
  },
  {
   "cell_type": "code",
   "execution_count": 118,
   "id": "23c5f1de",
   "metadata": {},
   "outputs": [],
   "source": [
    "l1 = [1, 2]\n",
    "l2 = [3, 4]"
   ]
  },
  {
   "cell_type": "code",
   "execution_count": 119,
   "id": "42073b93",
   "metadata": {},
   "outputs": [
    {
     "data": {
      "text/plain": [
       "[1, 2]"
      ]
     },
     "execution_count": 119,
     "metadata": {},
     "output_type": "execute_result"
    }
   ],
   "source": [
    "l1"
   ]
  },
  {
   "cell_type": "code",
   "execution_count": 120,
   "id": "aa781ecc",
   "metadata": {},
   "outputs": [
    {
     "data": {
      "text/plain": [
       "[3, 4]"
      ]
     },
     "execution_count": 120,
     "metadata": {},
     "output_type": "execute_result"
    }
   ],
   "source": [
    "l2"
   ]
  },
  {
   "cell_type": "code",
   "execution_count": 121,
   "id": "7113e79a",
   "metadata": {},
   "outputs": [],
   "source": [
    "l1.extend(l2)"
   ]
  },
  {
   "cell_type": "code",
   "execution_count": 122,
   "id": "6a71b26a",
   "metadata": {},
   "outputs": [
    {
     "data": {
      "text/plain": [
       "[1, 2, 3, 4]"
      ]
     },
     "execution_count": 122,
     "metadata": {},
     "output_type": "execute_result"
    }
   ],
   "source": [
    "l1"
   ]
  }
 ],
 "metadata": {
  "kernelspec": {
   "display_name": "Python 3 (ipykernel)",
   "language": "python",
   "name": "python3"
  },
  "language_info": {
   "codemirror_mode": {
    "name": "ipython",
    "version": 3
   },
   "file_extension": ".py",
   "mimetype": "text/x-python",
   "name": "python",
   "nbconvert_exporter": "python",
   "pygments_lexer": "ipython3",
   "version": "3.9.7"
  }
 },
 "nbformat": 4,
 "nbformat_minor": 5
}
