{
 "cells": [
  {
   "cell_type": "markdown",
   "id": "6e7d528c",
   "metadata": {},
   "source": [
    "## using '.format()'"
   ]
  },
  {
   "cell_type": "code",
   "execution_count": 1,
   "id": "259650aa",
   "metadata": {},
   "outputs": [],
   "source": [
    "s = 'Mindgraph'"
   ]
  },
  {
   "cell_type": "code",
   "execution_count": 2,
   "id": "857329c5",
   "metadata": {},
   "outputs": [
    {
     "name": "stdout",
     "output_type": "stream",
     "text": [
      "I work for \n"
     ]
    }
   ],
   "source": [
    "print('I work for ')"
   ]
  },
  {
   "cell_type": "code",
   "execution_count": 4,
   "id": "d63c60f4",
   "metadata": {},
   "outputs": [
    {
     "name": "stdout",
     "output_type": "stream",
     "text": [
      "I work for Mindgraph\n"
     ]
    }
   ],
   "source": [
    "print('I work for', s) # appending a string print statement"
   ]
  },
  {
   "cell_type": "code",
   "execution_count": 5,
   "id": "2f9e7e00",
   "metadata": {},
   "outputs": [
    {
     "data": {
      "text/plain": [
       "'I work for'"
      ]
     },
     "execution_count": 5,
     "metadata": {},
     "output_type": "execute_result"
    }
   ],
   "source": [
    "'I work for'"
   ]
  },
  {
   "cell_type": "code",
   "execution_count": 6,
   "id": "60af2565",
   "metadata": {},
   "outputs": [
    {
     "data": {
      "text/plain": [
       "'Mindgraph'"
      ]
     },
     "execution_count": 6,
     "metadata": {},
     "output_type": "execute_result"
    }
   ],
   "source": [
    "s"
   ]
  },
  {
   "cell_type": "code",
   "execution_count": 7,
   "id": "77e3041a",
   "metadata": {},
   "outputs": [
    {
     "data": {
      "text/plain": [
       "'I work for'"
      ]
     },
     "execution_count": 7,
     "metadata": {},
     "output_type": "execute_result"
    }
   ],
   "source": [
    "'I work for'.format(s)"
   ]
  },
  {
   "cell_type": "code",
   "execution_count": 8,
   "id": "0787617a",
   "metadata": {},
   "outputs": [
    {
     "data": {
      "text/plain": [
       "'I work for Mindgraph'"
      ]
     },
     "execution_count": 8,
     "metadata": {},
     "output_type": "execute_result"
    }
   ],
   "source": [
    "'I work for {}'.format(s) # {} braces is the placeholder."
   ]
  },
  {
   "cell_type": "code",
   "execution_count": 9,
   "id": "c15ccbb9",
   "metadata": {},
   "outputs": [
    {
     "data": {
      "text/plain": [
       "'2 is an even number'"
      ]
     },
     "execution_count": 9,
     "metadata": {},
     "output_type": "execute_result"
    }
   ],
   "source": [
    "'{} is an even number'.format(2) # parameter or argument passed inside the format will get converted to string."
   ]
  },
  {
   "cell_type": "code",
   "execution_count": 10,
   "id": "b867dd8f",
   "metadata": {},
   "outputs": [
    {
     "name": "stdout",
     "output_type": "stream",
     "text": [
      "Enter your name: Shubha\n"
     ]
    },
    {
     "data": {
      "text/plain": [
       "'My name is Shubha'"
      ]
     },
     "execution_count": 10,
     "metadata": {},
     "output_type": "execute_result"
    }
   ],
   "source": [
    "i = input('Enter your name: ') # Taking the input from user.\n",
    "'My name is {}'.format(i) # using format function to put it in the right place."
   ]
  },
  {
   "cell_type": "markdown",
   "id": "6134867e",
   "metadata": {},
   "source": [
    "### Diffrence between, string appending to print statement and .format()"
   ]
  },
  {
   "cell_type": "code",
   "execution_count": 11,
   "id": "6978ae6a",
   "metadata": {},
   "outputs": [
    {
     "name": "stdout",
     "output_type": "stream",
     "text": [
      "I work for \n"
     ]
    }
   ],
   "source": [
    "print('I work for ')"
   ]
  },
  {
   "cell_type": "code",
   "execution_count": 13,
   "id": "207ad626",
   "metadata": {},
   "outputs": [
    {
     "name": "stdout",
     "output_type": "stream",
     "text": [
      "I work for Mindgraph\n"
     ]
    }
   ],
   "source": [
    "print('I work for', 'Mindgraph') # string appending, will be appended to the last"
   ]
  },
  {
   "cell_type": "code",
   "execution_count": 14,
   "id": "19e27d1d",
   "metadata": {},
   "outputs": [
    {
     "name": "stdout",
     "output_type": "stream",
     "text": [
      "I work Mindgraph for\n"
     ]
    }
   ],
   "source": [
    "print('I work {} for'.format('Mindgraph')) # using .format() we can change the position of the string."
   ]
  },
  {
   "cell_type": "code",
   "execution_count": 15,
   "id": "1301957e",
   "metadata": {},
   "outputs": [
    {
     "name": "stdout",
     "output_type": "stream",
     "text": [
      "Mindgraph I work for\n"
     ]
    }
   ],
   "source": [
    "print('{} I work for'.format('Mindgraph'))"
   ]
  },
  {
   "cell_type": "code",
   "execution_count": 18,
   "id": "7f6dc66f",
   "metadata": {},
   "outputs": [
    {
     "name": "stdout",
     "output_type": "stream",
     "text": [
      "Enter Your Name: Shubha\n",
      "Enter your company name: Mindgraph\n",
      "Enter your employee id: E007\n"
     ]
    },
    {
     "data": {
      "text/plain": [
       "'my name is Shubha, i work for E007, my employee id is Mindgraph'"
      ]
     },
     "execution_count": 18,
     "metadata": {},
     "output_type": "execute_result"
    }
   ],
   "source": [
    "# arrange the args according to the placeholder\n",
    "name = input('Enter Your Name: ')\n",
    "company_name = input('Enter your company name: ')\n",
    "emp_id = input('Enter your employee id: ')\n",
    "'my name is {}, i work for {}, my employee id is {}'.format(name, emp_id, company_name)  # wrong placement of arguments"
   ]
  },
  {
   "cell_type": "code",
   "execution_count": 19,
   "id": "061c9a57",
   "metadata": {},
   "outputs": [
    {
     "name": "stdout",
     "output_type": "stream",
     "text": [
      "Enter Your Name: Shubha\n",
      "Enter your company name: Mindgraph\n",
      "Enter your employee id: E007\n"
     ]
    },
    {
     "data": {
      "text/plain": [
       "'my name is Shubha, i work for Mindgraph, my employee id is E007'"
      ]
     },
     "execution_count": 19,
     "metadata": {},
     "output_type": "execute_result"
    }
   ],
   "source": [
    "# arrange the args according to the placeholder\n",
    "name = input('Enter Your Name: ')\n",
    "company_name = input('Enter your company name: ')\n",
    "emp_id = input('Enter your employee id: ')\n",
    "'my name is {}, i work for {}, my employee id is {}'.format(name, company_name, emp_id) # right placement of arguments"
   ]
  },
  {
   "cell_type": "code",
   "execution_count": 20,
   "id": "5c33231a",
   "metadata": {},
   "outputs": [],
   "source": [
    "l = [1, 2, 3, 4, 5, 6, 7, 'Shubha', 'Mindgraph', 'ByteIQ']"
   ]
  },
  {
   "cell_type": "markdown",
   "id": "49588753",
   "metadata": {},
   "source": [
    "### len()"
   ]
  },
  {
   "cell_type": "code",
   "execution_count": 21,
   "id": "1f2fccee",
   "metadata": {},
   "outputs": [
    {
     "data": {
      "text/plain": [
       "10"
      ]
     },
     "execution_count": 21,
     "metadata": {},
     "output_type": "execute_result"
    }
   ],
   "source": [
    "len(l) # will calculate the number of elements present in the list, or size of the list"
   ]
  },
  {
   "cell_type": "code",
   "execution_count": 22,
   "id": "21678310",
   "metadata": {},
   "outputs": [
    {
     "data": {
      "text/plain": [
       "'Mindgraph'"
      ]
     },
     "execution_count": 22,
     "metadata": {},
     "output_type": "execute_result"
    }
   ],
   "source": [
    "l[8] "
   ]
  },
  {
   "cell_type": "code",
   "execution_count": 23,
   "id": "5b6b8f67",
   "metadata": {},
   "outputs": [
    {
     "data": {
      "text/plain": [
       "9"
      ]
     },
     "execution_count": 23,
     "metadata": {},
     "output_type": "execute_result"
    }
   ],
   "source": [
    "len(l[8]) # length of the string 'Mindgraph'"
   ]
  },
  {
   "cell_type": "code",
   "execution_count": 24,
   "id": "74c7f84f",
   "metadata": {},
   "outputs": [],
   "source": [
    "l = [1, 2, 3, 4, 5, 6, 7, 'Shubha', 'Mindgraph', 'ByteIQ', ]# no elements have been defined after comma"
   ]
  },
  {
   "cell_type": "code",
   "execution_count": 25,
   "id": "e8d035e9",
   "metadata": {},
   "outputs": [
    {
     "data": {
      "text/plain": [
       "10"
      ]
     },
     "execution_count": 25,
     "metadata": {},
     "output_type": "execute_result"
    }
   ],
   "source": [
    "len(l)"
   ]
  },
  {
   "cell_type": "code",
   "execution_count": 26,
   "id": "b0df725b",
   "metadata": {},
   "outputs": [
    {
     "ename": "SyntaxError",
     "evalue": "invalid syntax (Temp/ipykernel_76708/3228466246.py, line 1)",
     "output_type": "error",
     "traceback": [
      "\u001b[1;36m  File \u001b[1;32m\"C:\\Users\\Acer\\AppData\\Local\\Temp/ipykernel_76708/3228466246.py\"\u001b[1;36m, line \u001b[1;32m1\u001b[0m\n\u001b[1;33m    l = [1, 2, 3, 4, 5, 6, 7, 'Shubha', 'Mindgraph', 'ByteIQ', ,]\u001b[0m\n\u001b[1;37m                                                               ^\u001b[0m\n\u001b[1;31mSyntaxError\u001b[0m\u001b[1;31m:\u001b[0m invalid syntax\n"
     ]
    }
   ],
   "source": [
    "l = [1, 2, 3, 4, 5, 6, 7, 'Shubha', 'Mindgraph', 'ByteIQ', ,]"
   ]
  },
  {
   "cell_type": "markdown",
   "id": "75a9d743",
   "metadata": {},
   "source": [
    "### Membership Operators (in, not in)"
   ]
  },
  {
   "cell_type": "code",
   "execution_count": 27,
   "id": "aed8230e",
   "metadata": {},
   "outputs": [
    {
     "data": {
      "text/plain": [
       "[1, 2, 3, 4, 5, 6, 7, 'Shubha', 'Mindgraph', 'ByteIQ']"
      ]
     },
     "execution_count": 27,
     "metadata": {},
     "output_type": "execute_result"
    }
   ],
   "source": [
    "l"
   ]
  },
  {
   "cell_type": "code",
   "execution_count": 28,
   "id": "2b28ea13",
   "metadata": {},
   "outputs": [
    {
     "data": {
      "text/plain": [
       "True"
      ]
     },
     "execution_count": 28,
     "metadata": {},
     "output_type": "execute_result"
    }
   ],
   "source": [
    "5 in l"
   ]
  },
  {
   "cell_type": "code",
   "execution_count": 29,
   "id": "b36c4d55",
   "metadata": {},
   "outputs": [
    {
     "data": {
      "text/plain": [
       "False"
      ]
     },
     "execution_count": 29,
     "metadata": {},
     "output_type": "execute_result"
    }
   ],
   "source": [
    "5 not in l"
   ]
  },
  {
   "cell_type": "code",
   "execution_count": 30,
   "id": "b0698aad",
   "metadata": {},
   "outputs": [
    {
     "ename": "NameError",
     "evalue": "name 'Shubha' is not defined",
     "output_type": "error",
     "traceback": [
      "\u001b[1;31m---------------------------------------------------------------------------\u001b[0m",
      "\u001b[1;31mNameError\u001b[0m                                 Traceback (most recent call last)",
      "\u001b[1;32m~\\AppData\\Local\\Temp/ipykernel_76708/4174392171.py\u001b[0m in \u001b[0;36m<module>\u001b[1;34m\u001b[0m\n\u001b[1;32m----> 1\u001b[1;33m \u001b[0mShubha\u001b[0m \u001b[1;32min\u001b[0m \u001b[0ml\u001b[0m\u001b[1;33m\u001b[0m\u001b[1;33m\u001b[0m\u001b[0m\n\u001b[0m",
      "\u001b[1;31mNameError\u001b[0m: name 'Shubha' is not defined"
     ]
    }
   ],
   "source": [
    "Shubha in l"
   ]
  },
  {
   "cell_type": "code",
   "execution_count": 31,
   "id": "f32c3446",
   "metadata": {},
   "outputs": [
    {
     "data": {
      "text/plain": [
       "True"
      ]
     },
     "execution_count": 31,
     "metadata": {},
     "output_type": "execute_result"
    }
   ],
   "source": [
    "'Shubha' in l # 'Shubha' is present in l, so true"
   ]
  },
  {
   "cell_type": "code",
   "execution_count": 32,
   "id": "235c0841",
   "metadata": {},
   "outputs": [
    {
     "data": {
      "text/plain": [
       "False"
      ]
     },
     "execution_count": 32,
     "metadata": {},
     "output_type": "execute_result"
    }
   ],
   "source": [
    "'Shubha' not in l # 'Shubha' is present in l, so 'not in' condition is false."
   ]
  },
  {
   "cell_type": "code",
   "execution_count": 33,
   "id": "d8d83f84",
   "metadata": {},
   "outputs": [
    {
     "data": {
      "text/plain": [
       "False"
      ]
     },
     "execution_count": 33,
     "metadata": {},
     "output_type": "execute_result"
    }
   ],
   "source": [
    "'mindgraph' in l # 'mindgraph' is not present in l, difference in 'm' and 'M'"
   ]
  },
  {
   "cell_type": "code",
   "execution_count": 34,
   "id": "8a62de9c",
   "metadata": {},
   "outputs": [
    {
     "data": {
      "text/plain": [
       "True"
      ]
     },
     "execution_count": 34,
     "metadata": {},
     "output_type": "execute_result"
    }
   ],
   "source": [
    "'Mindgraph' in l # 'Mindgraph' is present in l"
   ]
  },
  {
   "cell_type": "code",
   "execution_count": 35,
   "id": "eb8537e1",
   "metadata": {},
   "outputs": [
    {
     "data": {
      "text/plain": [
       "[1, 2, 3, 4, 5, 6, 7, 'Shubha', 'Mindgraph', 'ByteIQ']"
      ]
     },
     "execution_count": 35,
     "metadata": {},
     "output_type": "execute_result"
    }
   ],
   "source": [
    "l"
   ]
  },
  {
   "cell_type": "code",
   "execution_count": 39,
   "id": "6abb6f8a",
   "metadata": {},
   "outputs": [
    {
     "data": {
      "text/plain": [
       "False"
      ]
     },
     "execution_count": 39,
     "metadata": {},
     "output_type": "execute_result"
    }
   ],
   "source": [
    "'1' in l # '1' is a string"
   ]
  },
  {
   "cell_type": "code",
   "execution_count": 40,
   "id": "9af3efcb",
   "metadata": {},
   "outputs": [
    {
     "data": {
      "text/plain": [
       "True"
      ]
     },
     "execution_count": 40,
     "metadata": {},
     "output_type": "execute_result"
    }
   ],
   "source": [
    "2 in l # 2 is an integer"
   ]
  },
  {
   "cell_type": "code",
   "execution_count": 36,
   "id": "9655a61c",
   "metadata": {},
   "outputs": [
    {
     "data": {
      "text/plain": [
       "False"
      ]
     },
     "execution_count": 36,
     "metadata": {},
     "output_type": "execute_result"
    }
   ],
   "source": [
    "23456 in l # 23456 is an integer and not present in l"
   ]
  },
  {
   "cell_type": "code",
   "execution_count": 37,
   "id": "830eca82",
   "metadata": {},
   "outputs": [
    {
     "data": {
      "text/plain": [
       "(2, 3, 4, 5, True)"
      ]
     },
     "execution_count": 37,
     "metadata": {},
     "output_type": "execute_result"
    }
   ],
   "source": [
    "2, 3, 4, 5, 6 in l # 6 is  present in l, so true"
   ]
  },
  {
   "cell_type": "code",
   "execution_count": 38,
   "id": "f9fe2768",
   "metadata": {},
   "outputs": [
    {
     "data": {
      "text/plain": [
       "(2, 3, 4, False)"
      ]
     },
     "execution_count": 38,
     "metadata": {},
     "output_type": "execute_result"
    }
   ],
   "source": [
    "2, 3, 4, (5, 6) in l # (5, 6) will be considered as tuple"
   ]
  },
  {
   "cell_type": "code",
   "execution_count": 41,
   "id": "ae4e6178",
   "metadata": {},
   "outputs": [
    {
     "data": {
      "text/plain": [
       "[1, 2, 3, 4, 5, 6, 7, 'Shubha', 'Mindgraph', 'ByteIQ']"
      ]
     },
     "execution_count": 41,
     "metadata": {},
     "output_type": "execute_result"
    }
   ],
   "source": [
    "l"
   ]
  },
  {
   "cell_type": "code",
   "execution_count": 45,
   "id": "3ba28a08",
   "metadata": {},
   "outputs": [
    {
     "data": {
      "text/plain": [
       "True"
      ]
     },
     "execution_count": 45,
     "metadata": {},
     "output_type": "execute_result"
    }
   ],
   "source": [
    "'Soumya' not in l # string 'Soumya' is not present in l, so 'not in' condition is true."
   ]
  },
  {
   "cell_type": "code",
   "execution_count": 44,
   "id": "c97c696c",
   "metadata": {},
   "outputs": [
    {
     "data": {
      "text/plain": [
       "False"
      ]
     },
     "execution_count": 44,
     "metadata": {},
     "output_type": "execute_result"
    }
   ],
   "source": [
    "'Soumya' in l # string 'Soumya' is not present in l, so 'in' condition is False."
   ]
  },
  {
   "cell_type": "code",
   "execution_count": 43,
   "id": "6e8e947a",
   "metadata": {},
   "outputs": [
    {
     "data": {
      "text/plain": [
       "False"
      ]
     },
     "execution_count": 43,
     "metadata": {},
     "output_type": "execute_result"
    }
   ],
   "source": [
    "5 not in l # 5 is present in l, so 'not in' condition is False"
   ]
  },
  {
   "cell_type": "code",
   "execution_count": 42,
   "id": "e3ada766",
   "metadata": {},
   "outputs": [
    {
     "ename": "NameError",
     "evalue": "name 'ByteIQ' is not defined",
     "output_type": "error",
     "traceback": [
      "\u001b[1;31m---------------------------------------------------------------------------\u001b[0m",
      "\u001b[1;31mNameError\u001b[0m                                 Traceback (most recent call last)",
      "\u001b[1;32m~\\AppData\\Local\\Temp/ipykernel_76708/2526943924.py\u001b[0m in \u001b[0;36m<module>\u001b[1;34m\u001b[0m\n\u001b[1;32m----> 1\u001b[1;33m \u001b[0mByteIQ\u001b[0m \u001b[1;32mnot\u001b[0m \u001b[1;32min\u001b[0m \u001b[0ml\u001b[0m\u001b[1;33m\u001b[0m\u001b[1;33m\u001b[0m\u001b[0m\n\u001b[0m",
      "\u001b[1;31mNameError\u001b[0m: name 'ByteIQ' is not defined"
     ]
    }
   ],
   "source": [
    "ByteIQ not in l # Error, ByteIQ will be considered as an undefined Variable."
   ]
  },
  {
   "cell_type": "markdown",
   "id": "1e5e689c",
   "metadata": {},
   "source": [
    "### append()"
   ]
  },
  {
   "cell_type": "code",
   "execution_count": 46,
   "id": "7ad27756",
   "metadata": {},
   "outputs": [
    {
     "data": {
      "text/plain": [
       "[1, 2, 3, 4, 5, 6, 7, 'Shubha', 'Mindgraph', 'ByteIQ']"
      ]
     },
     "execution_count": 46,
     "metadata": {},
     "output_type": "execute_result"
    }
   ],
   "source": [
    "l"
   ]
  },
  {
   "cell_type": "code",
   "execution_count": 47,
   "id": "aa6a1b24",
   "metadata": {},
   "outputs": [],
   "source": [
    "l.append('Soumya') # append function adds element to the tail/end position of the list."
   ]
  },
  {
   "cell_type": "code",
   "execution_count": 48,
   "id": "c807c47b",
   "metadata": {},
   "outputs": [
    {
     "data": {
      "text/plain": [
       "[1, 2, 3, 4, 5, 6, 7, 'Shubha', 'Mindgraph', 'ByteIQ', 'Soumya']"
      ]
     },
     "execution_count": 48,
     "metadata": {},
     "output_type": "execute_result"
    }
   ],
   "source": [
    "l"
   ]
  },
  {
   "cell_type": "code",
   "execution_count": 49,
   "id": "6b20d961",
   "metadata": {},
   "outputs": [],
   "source": [
    "l.append([9, 10, 11])"
   ]
  },
  {
   "cell_type": "code",
   "execution_count": 50,
   "id": "1eec5090",
   "metadata": {},
   "outputs": [
    {
     "data": {
      "text/plain": [
       "[1, 2, 3, 4, 5, 6, 7, 'Shubha', 'Mindgraph', 'ByteIQ', 'Soumya', [9, 10, 11]]"
      ]
     },
     "execution_count": 50,
     "metadata": {},
     "output_type": "execute_result"
    }
   ],
   "source": [
    "l"
   ]
  },
  {
   "cell_type": "code",
   "execution_count": 51,
   "id": "3a50bdf5",
   "metadata": {},
   "outputs": [],
   "source": [
    "l.append(35.8)"
   ]
  },
  {
   "cell_type": "code",
   "execution_count": 52,
   "id": "4ae6805d",
   "metadata": {},
   "outputs": [
    {
     "data": {
      "text/plain": [
       "[1,\n",
       " 2,\n",
       " 3,\n",
       " 4,\n",
       " 5,\n",
       " 6,\n",
       " 7,\n",
       " 'Shubha',\n",
       " 'Mindgraph',\n",
       " 'ByteIQ',\n",
       " 'Soumya',\n",
       " [9, 10, 11],\n",
       " 35.8]"
      ]
     },
     "execution_count": 52,
     "metadata": {},
     "output_type": "execute_result"
    }
   ],
   "source": [
    "l"
   ]
  },
  {
   "cell_type": "markdown",
   "id": "869767d9",
   "metadata": {},
   "source": [
    "### .pop()"
   ]
  },
  {
   "cell_type": "code",
   "execution_count": 53,
   "id": "a66d6e14",
   "metadata": {},
   "outputs": [
    {
     "data": {
      "text/plain": [
       "[1,\n",
       " 2,\n",
       " 3,\n",
       " 4,\n",
       " 5,\n",
       " 6,\n",
       " 7,\n",
       " 'Shubha',\n",
       " 'Mindgraph',\n",
       " 'ByteIQ',\n",
       " 'Soumya',\n",
       " [9, 10, 11],\n",
       " 35.8]"
      ]
     },
     "execution_count": 53,
     "metadata": {},
     "output_type": "execute_result"
    }
   ],
   "source": [
    "l"
   ]
  },
  {
   "cell_type": "code",
   "execution_count": 54,
   "id": "d94313ee",
   "metadata": {},
   "outputs": [
    {
     "data": {
      "text/plain": [
       "35.8"
      ]
     },
     "execution_count": 54,
     "metadata": {},
     "output_type": "execute_result"
    }
   ],
   "source": [
    "l.pop() # removes the last element from the list."
   ]
  },
  {
   "cell_type": "code",
   "execution_count": 55,
   "id": "f3072427",
   "metadata": {},
   "outputs": [
    {
     "data": {
      "text/plain": [
       "[1, 2, 3, 4, 5, 6, 7, 'Shubha', 'Mindgraph', 'ByteIQ', 'Soumya', [9, 10, 11]]"
      ]
     },
     "execution_count": 55,
     "metadata": {},
     "output_type": "execute_result"
    }
   ],
   "source": [
    "l"
   ]
  },
  {
   "cell_type": "code",
   "execution_count": 60,
   "id": "02fc4571",
   "metadata": {},
   "outputs": [
    {
     "data": {
      "text/plain": [
       "[9, 10, 11]"
      ]
     },
     "execution_count": 60,
     "metadata": {},
     "output_type": "execute_result"
    }
   ],
   "source": [
    "l.pop()"
   ]
  },
  {
   "cell_type": "code",
   "execution_count": 61,
   "id": "e73363fd",
   "metadata": {},
   "outputs": [
    {
     "data": {
      "text/plain": [
       "[1, 2, 3, 4, 5, 6, 7, 'Shubha', 'Mindgraph', 'ByteIQ', 'Soumya']"
      ]
     },
     "execution_count": 61,
     "metadata": {},
     "output_type": "execute_result"
    }
   ],
   "source": [
    "l"
   ]
  },
  {
   "cell_type": "code",
   "execution_count": 62,
   "id": "661cdbfd",
   "metadata": {},
   "outputs": [],
   "source": [
    "l.append([1, 2, 3, 5])"
   ]
  },
  {
   "cell_type": "code",
   "execution_count": 63,
   "id": "76dfdee7",
   "metadata": {},
   "outputs": [
    {
     "data": {
      "text/plain": [
       "[1, 2, 3, 4, 5, 6, 7, 'Shubha', 'Mindgraph', 'ByteIQ', 'Soumya', [1, 2, 3, 5]]"
      ]
     },
     "execution_count": 63,
     "metadata": {},
     "output_type": "execute_result"
    }
   ],
   "source": [
    "l"
   ]
  },
  {
   "cell_type": "code",
   "execution_count": 64,
   "id": "b8ffdc2f",
   "metadata": {},
   "outputs": [
    {
     "ename": "AttributeError",
     "evalue": "'int' object has no attribute 'pop'",
     "output_type": "error",
     "traceback": [
      "\u001b[1;31m---------------------------------------------------------------------------\u001b[0m",
      "\u001b[1;31mAttributeError\u001b[0m                            Traceback (most recent call last)",
      "\u001b[1;32m~\\AppData\\Local\\Temp/ipykernel_76708/479735025.py\u001b[0m in \u001b[0;36m<module>\u001b[1;34m\u001b[0m\n\u001b[1;32m----> 1\u001b[1;33m \u001b[0ml\u001b[0m\u001b[1;33m[\u001b[0m\u001b[1;33m-\u001b[0m\u001b[1;36m1\u001b[0m\u001b[1;33m]\u001b[0m\u001b[1;33m[\u001b[0m\u001b[1;33m-\u001b[0m\u001b[1;36m2\u001b[0m\u001b[1;33m]\u001b[0m\u001b[1;33m.\u001b[0m\u001b[0mpop\u001b[0m\u001b[1;33m(\u001b[0m\u001b[1;33m)\u001b[0m\u001b[1;33m\u001b[0m\u001b[1;33m\u001b[0m\u001b[0m\n\u001b[0m",
      "\u001b[1;31mAttributeError\u001b[0m: 'int' object has no attribute 'pop'"
     ]
    }
   ],
   "source": [
    "l[-1][-2].pop()"
   ]
  },
  {
   "cell_type": "code",
   "execution_count": 67,
   "id": "1697c026",
   "metadata": {},
   "outputs": [
    {
     "data": {
      "text/plain": [
       "[1, 2, 3]"
      ]
     },
     "execution_count": 67,
     "metadata": {},
     "output_type": "execute_result"
    }
   ],
   "source": [
    "l[-1]"
   ]
  },
  {
   "cell_type": "code",
   "execution_count": 65,
   "id": "6337b480",
   "metadata": {},
   "outputs": [
    {
     "data": {
      "text/plain": [
       "5"
      ]
     },
     "execution_count": 65,
     "metadata": {},
     "output_type": "execute_result"
    }
   ],
   "source": [
    "l[-1].pop()"
   ]
  },
  {
   "cell_type": "code",
   "execution_count": 66,
   "id": "629fc8e3",
   "metadata": {},
   "outputs": [
    {
     "data": {
      "text/plain": [
       "[1, 2, 3, 4, 5, 6, 7, 'Shubha', 'Mindgraph', 'ByteIQ', 'Soumya', [1, 2, 3]]"
      ]
     },
     "execution_count": 66,
     "metadata": {},
     "output_type": "execute_result"
    }
   ],
   "source": [
    "l"
   ]
  },
  {
   "cell_type": "markdown",
   "id": "65c3a9f4",
   "metadata": {},
   "source": [
    "### .pop(index)"
   ]
  },
  {
   "cell_type": "code",
   "execution_count": 68,
   "id": "454faccd",
   "metadata": {},
   "outputs": [
    {
     "data": {
      "text/plain": [
       "3"
      ]
     },
     "execution_count": 68,
     "metadata": {},
     "output_type": "execute_result"
    }
   ],
   "source": [
    "l[-1].pop(-1) # removes the element from the list as per, the index specified."
   ]
  },
  {
   "cell_type": "code",
   "execution_count": 69,
   "id": "1f755b6f",
   "metadata": {},
   "outputs": [
    {
     "data": {
      "text/plain": [
       "[1, 2, 3, 4, 5, 6, 7, 'Shubha', 'Mindgraph', 'ByteIQ', 'Soumya', [1, 2]]"
      ]
     },
     "execution_count": 69,
     "metadata": {},
     "output_type": "execute_result"
    }
   ],
   "source": [
    "l"
   ]
  },
  {
   "cell_type": "code",
   "execution_count": 70,
   "id": "b5d72c71",
   "metadata": {},
   "outputs": [
    {
     "data": {
      "text/plain": [
       "1"
      ]
     },
     "execution_count": 70,
     "metadata": {},
     "output_type": "execute_result"
    }
   ],
   "source": [
    "l[-1].pop(0)"
   ]
  },
  {
   "cell_type": "code",
   "execution_count": 71,
   "id": "770f6e93",
   "metadata": {},
   "outputs": [
    {
     "data": {
      "text/plain": [
       "[1, 2, 3, 4, 5, 6, 7, 'Shubha', 'Mindgraph', 'ByteIQ', 'Soumya', [2]]"
      ]
     },
     "execution_count": 71,
     "metadata": {},
     "output_type": "execute_result"
    }
   ],
   "source": [
    "l"
   ]
  },
  {
   "cell_type": "code",
   "execution_count": 72,
   "id": "837b39b4",
   "metadata": {},
   "outputs": [
    {
     "ename": "TypeError",
     "evalue": "'list' object cannot be interpreted as an integer",
     "output_type": "error",
     "traceback": [
      "\u001b[1;31m---------------------------------------------------------------------------\u001b[0m",
      "\u001b[1;31mTypeError\u001b[0m                                 Traceback (most recent call last)",
      "\u001b[1;32m~\\AppData\\Local\\Temp/ipykernel_76708/1630656775.py\u001b[0m in \u001b[0;36m<module>\u001b[1;34m\u001b[0m\n\u001b[1;32m----> 1\u001b[1;33m \u001b[0ml\u001b[0m\u001b[1;33m.\u001b[0m\u001b[0mpop\u001b[0m\u001b[1;33m(\u001b[0m\u001b[1;33m[\u001b[0m\u001b[1;36m2\u001b[0m\u001b[1;33m]\u001b[0m\u001b[1;33m)\u001b[0m\u001b[1;33m\u001b[0m\u001b[1;33m\u001b[0m\u001b[0m\n\u001b[0m",
      "\u001b[1;31mTypeError\u001b[0m: 'list' object cannot be interpreted as an integer"
     ]
    }
   ],
   "source": [
    "l.pop([2])"
   ]
  },
  {
   "cell_type": "code",
   "execution_count": 73,
   "id": "5f14b4c4",
   "metadata": {},
   "outputs": [
    {
     "data": {
      "text/plain": [
       "[2]"
      ]
     },
     "execution_count": 73,
     "metadata": {},
     "output_type": "execute_result"
    }
   ],
   "source": [
    "l.pop(-1)"
   ]
  },
  {
   "cell_type": "code",
   "execution_count": 74,
   "id": "ac277167",
   "metadata": {},
   "outputs": [
    {
     "data": {
      "text/plain": [
       "[1, 2, 3, 4, 5, 6, 7, 'Shubha', 'Mindgraph', 'ByteIQ', 'Soumya']"
      ]
     },
     "execution_count": 74,
     "metadata": {},
     "output_type": "execute_result"
    }
   ],
   "source": [
    "l"
   ]
  },
  {
   "cell_type": "code",
   "execution_count": 75,
   "id": "d22a2b0d",
   "metadata": {},
   "outputs": [
    {
     "data": {
      "text/plain": [
       "7"
      ]
     },
     "execution_count": 75,
     "metadata": {},
     "output_type": "execute_result"
    }
   ],
   "source": [
    "l.pop(6)"
   ]
  },
  {
   "cell_type": "code",
   "execution_count": 76,
   "id": "93c22b3c",
   "metadata": {},
   "outputs": [
    {
     "data": {
      "text/plain": [
       "[1, 2, 3, 4, 5, 6, 'Shubha', 'Mindgraph', 'ByteIQ', 'Soumya']"
      ]
     },
     "execution_count": 76,
     "metadata": {},
     "output_type": "execute_result"
    }
   ],
   "source": [
    "l"
   ]
  },
  {
   "cell_type": "code",
   "execution_count": 77,
   "id": "64eb2e33",
   "metadata": {},
   "outputs": [
    {
     "data": {
      "text/plain": [
       "[1, 2, 3, 4, 5, 6, 'Shubha', 'Mindgraph', 'ByteIQ', 'Soumya']"
      ]
     },
     "execution_count": 77,
     "metadata": {},
     "output_type": "execute_result"
    }
   ],
   "source": [
    "l"
   ]
  },
  {
   "cell_type": "markdown",
   "id": "98f61a3c",
   "metadata": {},
   "source": [
    "### reverse()"
   ]
  },
  {
   "cell_type": "code",
   "execution_count": 84,
   "id": "981d8b1a",
   "metadata": {},
   "outputs": [
    {
     "data": {
      "text/plain": [
       "[1, 2, 3, 4, 5, 6, 'Shubha', 'Mindgraph', 'ByteIQ', 'Soumya']"
      ]
     },
     "execution_count": 84,
     "metadata": {},
     "output_type": "execute_result"
    }
   ],
   "source": [
    "l"
   ]
  },
  {
   "cell_type": "code",
   "execution_count": 85,
   "id": "41f1f2fe",
   "metadata": {},
   "outputs": [
    {
     "data": {
      "text/plain": [
       "['Soumya', 'ByteIQ', 'Mindgraph', 'Shubha', 6, 5, 4, 3, 2, 1]"
      ]
     },
     "execution_count": 85,
     "metadata": {},
     "output_type": "execute_result"
    }
   ],
   "source": [
    "l[::-1] # will only display"
   ]
  },
  {
   "cell_type": "code",
   "execution_count": 86,
   "id": "c1100236",
   "metadata": {},
   "outputs": [
    {
     "data": {
      "text/plain": [
       "[1, 2, 3, 4, 5, 6, 'Shubha', 'Mindgraph', 'ByteIQ', 'Soumya']"
      ]
     },
     "execution_count": 86,
     "metadata": {},
     "output_type": "execute_result"
    }
   ],
   "source": [
    "l"
   ]
  },
  {
   "cell_type": "code",
   "execution_count": 87,
   "id": "17cfe560",
   "metadata": {},
   "outputs": [],
   "source": [
    "l.reverse() # will reverse and store the elements in the list"
   ]
  },
  {
   "cell_type": "code",
   "execution_count": 88,
   "id": "79b636c4",
   "metadata": {},
   "outputs": [
    {
     "data": {
      "text/plain": [
       "['Soumya', 'ByteIQ', 'Mindgraph', 'Shubha', 6, 5, 4, 3, 2, 1]"
      ]
     },
     "execution_count": 88,
     "metadata": {},
     "output_type": "execute_result"
    }
   ],
   "source": [
    "l"
   ]
  },
  {
   "cell_type": "code",
   "execution_count": 89,
   "id": "4d3b938e",
   "metadata": {},
   "outputs": [],
   "source": [
    "l.reverse()"
   ]
  },
  {
   "cell_type": "code",
   "execution_count": 90,
   "id": "3dd742fd",
   "metadata": {},
   "outputs": [
    {
     "data": {
      "text/plain": [
       "[1, 2, 3, 4, 5, 6, 'Shubha', 'Mindgraph', 'ByteIQ', 'Soumya']"
      ]
     },
     "execution_count": 90,
     "metadata": {},
     "output_type": "execute_result"
    }
   ],
   "source": [
    "l"
   ]
  },
  {
   "cell_type": "markdown",
   "id": "fee0a90c",
   "metadata": {},
   "source": [
    "### insert()"
   ]
  },
  {
   "cell_type": "code",
   "execution_count": 91,
   "id": "b438be90",
   "metadata": {},
   "outputs": [],
   "source": [
    "l.insert(2, 'Brahma') # will take two arguments, left arugment is the index and right argument is the element to be inserted."
   ]
  },
  {
   "cell_type": "code",
   "execution_count": 92,
   "id": "d46fe98a",
   "metadata": {
    "scrolled": true
   },
   "outputs": [
    {
     "data": {
      "text/plain": [
       "[1, 2, 'Brahma', 3, 4, 5, 6, 'Shubha', 'Mindgraph', 'ByteIQ', 'Soumya']"
      ]
     },
     "execution_count": 92,
     "metadata": {},
     "output_type": "execute_result"
    }
   ],
   "source": [
    "l"
   ]
  },
  {
   "cell_type": "code",
   "execution_count": 93,
   "id": "7a17de31",
   "metadata": {},
   "outputs": [],
   "source": [
    "l.insert(0, 1)"
   ]
  },
  {
   "cell_type": "code",
   "execution_count": 94,
   "id": "fab08f8f",
   "metadata": {},
   "outputs": [
    {
     "data": {
      "text/plain": [
       "[1, 1, 2, 'Brahma', 3, 4, 5, 6, 'Shubha', 'Mindgraph', 'ByteIQ', 'Soumya']"
      ]
     },
     "execution_count": 94,
     "metadata": {},
     "output_type": "execute_result"
    }
   ],
   "source": [
    "l"
   ]
  },
  {
   "cell_type": "code",
   "execution_count": 95,
   "id": "732df690",
   "metadata": {},
   "outputs": [],
   "source": [
    "l.insert(20, 21)"
   ]
  },
  {
   "cell_type": "code",
   "execution_count": 96,
   "id": "08acf6cd",
   "metadata": {},
   "outputs": [
    {
     "data": {
      "text/plain": [
       "[1, 1, 2, 'Brahma', 3, 4, 5, 6, 'Shubha', 'Mindgraph', 'ByteIQ', 'Soumya', 21]"
      ]
     },
     "execution_count": 96,
     "metadata": {},
     "output_type": "execute_result"
    }
   ],
   "source": [
    "l"
   ]
  },
  {
   "cell_type": "code",
   "execution_count": 97,
   "id": "891575f4",
   "metadata": {},
   "outputs": [],
   "source": [
    "l.insert(20, 'Brahma')"
   ]
  },
  {
   "cell_type": "code",
   "execution_count": 98,
   "id": "f6bd0422",
   "metadata": {},
   "outputs": [
    {
     "data": {
      "text/plain": [
       "[1,\n",
       " 1,\n",
       " 2,\n",
       " 'Brahma',\n",
       " 3,\n",
       " 4,\n",
       " 5,\n",
       " 6,\n",
       " 'Shubha',\n",
       " 'Mindgraph',\n",
       " 'ByteIQ',\n",
       " 'Soumya',\n",
       " 21,\n",
       " 'Brahma']"
      ]
     },
     "execution_count": 98,
     "metadata": {},
     "output_type": "execute_result"
    }
   ],
   "source": [
    "l"
   ]
  },
  {
   "cell_type": "markdown",
   "id": "c02ad39f",
   "metadata": {},
   "source": [
    "### remove()"
   ]
  },
  {
   "cell_type": "code",
   "execution_count": 99,
   "id": "c32e0a84",
   "metadata": {},
   "outputs": [],
   "source": [
    "l.remove('Brahma') # will remove the first occurence of the element"
   ]
  },
  {
   "cell_type": "code",
   "execution_count": 100,
   "id": "92b98639",
   "metadata": {},
   "outputs": [
    {
     "data": {
      "text/plain": [
       "[1, 1, 2, 3, 4, 5, 6, 'Shubha', 'Mindgraph', 'ByteIQ', 'Soumya', 21, 'Brahma']"
      ]
     },
     "execution_count": 100,
     "metadata": {},
     "output_type": "execute_result"
    }
   ],
   "source": [
    "l"
   ]
  },
  {
   "cell_type": "code",
   "execution_count": 101,
   "id": "b6fae504",
   "metadata": {},
   "outputs": [],
   "source": [
    "l.remove(1)"
   ]
  },
  {
   "cell_type": "code",
   "execution_count": 102,
   "id": "3186c5c1",
   "metadata": {},
   "outputs": [
    {
     "data": {
      "text/plain": [
       "[1, 2, 3, 4, 5, 6, 'Shubha', 'Mindgraph', 'ByteIQ', 'Soumya', 21, 'Brahma']"
      ]
     },
     "execution_count": 102,
     "metadata": {},
     "output_type": "execute_result"
    }
   ],
   "source": [
    "l"
   ]
  },
  {
   "cell_type": "markdown",
   "id": "3a315033",
   "metadata": {},
   "source": [
    "### Adding two lists"
   ]
  },
  {
   "cell_type": "code",
   "execution_count": 103,
   "id": "d27aeed5",
   "metadata": {},
   "outputs": [],
   "source": [
    "l1 = [1, 2, 3, 4, 5]"
   ]
  },
  {
   "cell_type": "code",
   "execution_count": 104,
   "id": "be3e6b01",
   "metadata": {},
   "outputs": [],
   "source": [
    "l2 = [6, 7, 8, 9, 10]"
   ]
  },
  {
   "cell_type": "code",
   "execution_count": 105,
   "id": "4141d621",
   "metadata": {},
   "outputs": [
    {
     "data": {
      "text/plain": [
       "[1, 2, 3, 4, 5, 6, 7, 8, 9, 10]"
      ]
     },
     "execution_count": 105,
     "metadata": {},
     "output_type": "execute_result"
    }
   ],
   "source": [
    "l1 + l2 # will add two lists and give a final list containing all the elements from both the lists."
   ]
  },
  {
   "cell_type": "code",
   "execution_count": 106,
   "id": "09fcd6a6",
   "metadata": {},
   "outputs": [],
   "source": [
    "l1.append(l2) # will add the list at the end of another list as an element."
   ]
  },
  {
   "cell_type": "code",
   "execution_count": 107,
   "id": "ab578f2a",
   "metadata": {},
   "outputs": [
    {
     "data": {
      "text/plain": [
       "[1, 2, 3, 4, 5, [6, 7, 8, 9, 10]]"
      ]
     },
     "execution_count": 107,
     "metadata": {},
     "output_type": "execute_result"
    }
   ],
   "source": [
    "l1"
   ]
  },
  {
   "cell_type": "code",
   "execution_count": 110,
   "id": "36d1bc3a",
   "metadata": {},
   "outputs": [],
   "source": [
    "l1 = [1, 2, 3, 4, 5]"
   ]
  },
  {
   "cell_type": "code",
   "execution_count": 111,
   "id": "72292415",
   "metadata": {},
   "outputs": [],
   "source": [
    "l2 = [6, 7, 8, 9, 10]"
   ]
  },
  {
   "cell_type": "code",
   "execution_count": 112,
   "id": "004ddb0e",
   "metadata": {},
   "outputs": [],
   "source": [
    "# adding the list inside another list at a certain position, and pushing the element present in the position to next index\n",
    "l1.insert(-1, l2) "
   ]
  },
  {
   "cell_type": "code",
   "execution_count": 113,
   "id": "a69f9e8d",
   "metadata": {},
   "outputs": [
    {
     "data": {
      "text/plain": [
       "[1, 2, 3, 4, [6, 7, 8, 9, 10], 5]"
      ]
     },
     "execution_count": 113,
     "metadata": {},
     "output_type": "execute_result"
    }
   ],
   "source": [
    "l1"
   ]
  },
  {
   "cell_type": "markdown",
   "id": "f2c069d1",
   "metadata": {},
   "source": [
    "### extend()"
   ]
  },
  {
   "cell_type": "code",
   "execution_count": 114,
   "id": "4c621c07",
   "metadata": {},
   "outputs": [
    {
     "data": {
      "text/plain": [
       "[1, 2, 3, 4, [6, 7, 8, 9, 10], 5]"
      ]
     },
     "execution_count": 114,
     "metadata": {},
     "output_type": "execute_result"
    }
   ],
   "source": [
    "l1"
   ]
  },
  {
   "cell_type": "code",
   "execution_count": 115,
   "id": "c9788f9b",
   "metadata": {},
   "outputs": [
    {
     "data": {
      "text/plain": [
       "[6, 7, 8, 9, 10]"
      ]
     },
     "execution_count": 115,
     "metadata": {},
     "output_type": "execute_result"
    }
   ],
   "source": [
    "l2"
   ]
  },
  {
   "cell_type": "code",
   "execution_count": 116,
   "id": "141060a0",
   "metadata": {},
   "outputs": [],
   "source": [
    "# it will unwrap the elements the list passed in the arguments first and then will add the elements of that list to the given list.\n",
    "l1.extend(l2) "
   ]
  },
  {
   "cell_type": "code",
   "execution_count": 117,
   "id": "4d0e2e64",
   "metadata": {},
   "outputs": [
    {
     "data": {
      "text/plain": [
       "[1, 2, 3, 4, [6, 7, 8, 9, 10], 5, 6, 7, 8, 9, 10]"
      ]
     },
     "execution_count": 117,
     "metadata": {},
     "output_type": "execute_result"
    }
   ],
   "source": [
    "l1"
   ]
  },
  {
   "cell_type": "code",
   "execution_count": 118,
   "id": "150e2a98",
   "metadata": {},
   "outputs": [],
   "source": [
    "l1 = [1, 2]\n",
    "l2 = [3, 4]"
   ]
  },
  {
   "cell_type": "code",
   "execution_count": 119,
   "id": "ca06408e",
   "metadata": {},
   "outputs": [
    {
     "data": {
      "text/plain": [
       "[1, 2]"
      ]
     },
     "execution_count": 119,
     "metadata": {},
     "output_type": "execute_result"
    }
   ],
   "source": [
    "l1"
   ]
  },
  {
   "cell_type": "code",
   "execution_count": 120,
   "id": "9b523455",
   "metadata": {},
   "outputs": [
    {
     "data": {
      "text/plain": [
       "[3, 4]"
      ]
     },
     "execution_count": 120,
     "metadata": {},
     "output_type": "execute_result"
    }
   ],
   "source": [
    "l2"
   ]
  },
  {
   "cell_type": "code",
   "execution_count": 121,
   "id": "9e30b5f1",
   "metadata": {},
   "outputs": [],
   "source": [
    "l1.extend(l2)"
   ]
  },
  {
   "cell_type": "code",
   "execution_count": 122,
   "id": "d2ab50a0",
   "metadata": {},
   "outputs": [
    {
     "data": {
      "text/plain": [
       "[1, 2, 3, 4]"
      ]
     },
     "execution_count": 122,
     "metadata": {},
     "output_type": "execute_result"
    }
   ],
   "source": [
    "l1"
   ]
  },
  {
   "cell_type": "markdown",
   "id": "0718a51c",
   "metadata": {},
   "source": [
    "### Task1:"
   ]
  },
  {
   "cell_type": "markdown",
   "id": "ce279226",
   "metadata": {},
   "source": [
    "* WAP to find the integer values in the list and replace them with their respective character.\n",
    "\n",
    "* Sample input:\n",
    "    \n",
    "    * [\"soumya\", \"ByteIQ\", 2, 4, \"Mindgraph\", 8.53, 7]\n",
    "\n",
    "\n",
    "* Sample output:\n",
    "    \n",
    "    * [\"soumya\", \"ByteIQ\", \"Two\", \"Four\", \"Mindgraph\", 8.53, \"Seven\"]\n",
    "    "
   ]
  },
  {
   "cell_type": "markdown",
   "id": "27048590",
   "metadata": {},
   "source": [
    "### Task2:"
   ]
  },
  {
   "cell_type": "markdown",
   "id": "c14c68c0",
   "metadata": {},
   "source": [
    "* WAP to print the the length of the every element inside the list.\n",
    "\n",
    "* Sample input: \n",
    "    \n",
    "    * [\"Hii\", \"ByteIQ\", \"Mindgraph\", \"Shubha\"]\n",
    "\n",
    "\n",
    "* Sample output:\n",
    "        \n",
    "        \n",
    "        * [3, 6, 9, 6]\n",
    "    "
   ]
  },
  {
   "cell_type": "markdown",
   "id": "3ccc0e8a",
   "metadata": {},
   "source": [
    "### Task3:\n"
   ]
  },
  {
   "cell_type": "markdown",
   "id": "87be1862",
   "metadata": {},
   "source": [
    "* WAP to return True if there is any duplicate character in a string, otherwise false. \n",
    "    \n",
    "    * Sample input1:\n",
    "        \n",
    "       * \"Soumya\"\n",
    "    \n",
    "    * Sample output1:\n",
    "        \n",
    "        * False\n",
    "    \n",
    "    * Sample input2:\n",
    "        \n",
    "        * \"cuttack\"\n",
    "    \n",
    "    * Sample output2:\n",
    "        \n",
    "        * True"
   ]
  },
  {
   "cell_type": "markdown",
   "id": "1730634b",
   "metadata": {},
   "source": [
    "### Task4:"
   ]
  },
  {
   "cell_type": "markdown",
   "id": "82a821e9",
   "metadata": {},
   "source": [
    "* WAP to convert a list of character into a string.\n",
    "\n",
    "    * Sample input:\n",
    "       \n",
    "        * [\"s\", \"o\", \"u\", \"m\", \"y\", \"a\"]\n",
    "        \n",
    "    * Sample output:\n",
    "        \n",
    "        * \"soumya\""
   ]
  },
  {
   "cell_type": "markdown",
   "id": "198cd660",
   "metadata": {},
   "source": [
    "### Task5:"
   ]
  },
  {
   "cell_type": "markdown",
   "id": "c45e06b7",
   "metadata": {},
   "source": [
    "* WAP to remove all the characters from a string except integers.\n",
    "\n",
    "    \n",
    "    * Sample input:       \n",
    "        \n",
    "        * \"I bought 5 pens and 6 pencils\"\n",
    "    \n",
    "   \n",
    "   * Sample output:\n",
    "        \n",
    "        \n",
    "        * \"56\""
   ]
  }
 ],
 "metadata": {
  "kernelspec": {
   "display_name": "Python 3 (ipykernel)",
   "language": "python",
   "name": "python3"
  },
  "language_info": {
   "codemirror_mode": {
    "name": "ipython",
    "version": 3
   },
   "file_extension": ".py",
   "mimetype": "text/x-python",
   "name": "python",
   "nbconvert_exporter": "python",
   "pygments_lexer": "ipython3",
   "version": "3.9.7"
  }
 },
 "nbformat": 4,
 "nbformat_minor": 5
}
