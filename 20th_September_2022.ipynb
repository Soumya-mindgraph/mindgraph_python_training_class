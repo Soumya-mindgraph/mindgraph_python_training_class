{
 "cells": [
  {
   "cell_type": "markdown",
   "id": "f5564f2e",
   "metadata": {},
   "source": [
    "## using '.format()'"
   ]
  },
  {
   "cell_type": "code",
   "execution_count": 1,
   "id": "201a5920",
   "metadata": {},
   "outputs": [],
   "source": [
    "s = 'Mindgraph'"
   ]
  },
  {
   "cell_type": "code",
   "execution_count": 2,
   "id": "7d95ccb1",
   "metadata": {},
   "outputs": [
    {
     "name": "stdout",
     "output_type": "stream",
     "text": [
      "I work for \n"
     ]
    }
   ],
   "source": [
    "print('I work for ')"
   ]
  },
  {
   "cell_type": "code",
   "execution_count": 4,
   "id": "10b79839",
   "metadata": {},
   "outputs": [
    {
     "name": "stdout",
     "output_type": "stream",
     "text": [
      "I work for Mindgraph\n"
     ]
    }
   ],
   "source": [
    "print('I work for', s) # appending a string print statement"
   ]
  },
  {
   "cell_type": "code",
   "execution_count": 5,
   "id": "816509e4",
   "metadata": {},
   "outputs": [
    {
     "data": {
      "text/plain": [
       "'I work for'"
      ]
     },
     "execution_count": 5,
     "metadata": {},
     "output_type": "execute_result"
    }
   ],
   "source": [
    "'I work for'"
   ]
  },
  {
   "cell_type": "code",
   "execution_count": 6,
   "id": "379546f3",
   "metadata": {},
   "outputs": [
    {
     "data": {
      "text/plain": [
       "'Mindgraph'"
      ]
     },
     "execution_count": 6,
     "metadata": {},
     "output_type": "execute_result"
    }
   ],
   "source": [
    "s"
   ]
  },
  {
   "cell_type": "code",
   "execution_count": 7,
   "id": "bd317621",
   "metadata": {},
   "outputs": [
    {
     "data": {
      "text/plain": [
       "'I work for'"
      ]
     },
     "execution_count": 7,
     "metadata": {},
     "output_type": "execute_result"
    }
   ],
   "source": [
    "'I work for'.format(s)"
   ]
  },
  {
   "cell_type": "code",
   "execution_count": 8,
   "id": "dda124c7",
   "metadata": {},
   "outputs": [
    {
     "data": {
      "text/plain": [
       "'I work for Mindgraph'"
      ]
     },
     "execution_count": 8,
     "metadata": {},
     "output_type": "execute_result"
    }
   ],
   "source": [
    "'I work for {}'.format(s) # {} braces is the placeholder."
   ]
  },
  {
   "cell_type": "code",
   "execution_count": 9,
   "id": "eb58d5ac",
   "metadata": {},
   "outputs": [
    {
     "data": {
      "text/plain": [
       "'2 is an even number'"
      ]
     },
     "execution_count": 9,
     "metadata": {},
     "output_type": "execute_result"
    }
   ],
   "source": [
    "'{} is an even number'.format(2) # parameter or argument passed inside the format will get converted to string."
   ]
  },
  {
   "cell_type": "code",
   "execution_count": 10,
   "id": "3ef33f2d",
   "metadata": {},
   "outputs": [
    {
     "name": "stdout",
     "output_type": "stream",
     "text": [
      "Enter your name: Shubha\n"
     ]
    },
    {
     "data": {
      "text/plain": [
       "'My name is Shubha'"
      ]
     },
     "execution_count": 10,
     "metadata": {},
     "output_type": "execute_result"
    }
   ],
   "source": [
    "i = input('Enter your name: ') # Taking the input from user.\n",
    "'My name is {}'.format(i) # using format function to put it in the right place."
   ]
  },
  {
   "cell_type": "markdown",
   "id": "a38546ff",
   "metadata": {},
   "source": [
    "### Diffrence between, string appending to print statement and .format()"
   ]
  },
  {
   "cell_type": "code",
   "execution_count": 11,
   "id": "4b9aaea7",
   "metadata": {},
   "outputs": [
    {
     "name": "stdout",
     "output_type": "stream",
     "text": [
      "I work for \n"
     ]
    }
   ],
   "source": [
    "print('I work for ')"
   ]
  },
  {
   "cell_type": "code",
   "execution_count": 13,
   "id": "f05d4432",
   "metadata": {},
   "outputs": [
    {
     "name": "stdout",
     "output_type": "stream",
     "text": [
      "I work for Mindgraph\n"
     ]
    }
   ],
   "source": [
    "print('I work for', 'Mindgraph') # string appending, will be appended to the last"
   ]
  },
  {
   "cell_type": "code",
   "execution_count": 14,
   "id": "9f13147b",
   "metadata": {},
   "outputs": [
    {
     "name": "stdout",
     "output_type": "stream",
     "text": [
      "I work Mindgraph for\n"
     ]
    }
   ],
   "source": [
    "print('I work {} for'.format('Mindgraph')) # using .format() we can change the position of the string."
   ]
  },
  {
   "cell_type": "code",
   "execution_count": 15,
   "id": "7ee4bb55",
   "metadata": {},
   "outputs": [
    {
     "name": "stdout",
     "output_type": "stream",
     "text": [
      "Mindgraph I work for\n"
     ]
    }
   ],
   "source": [
    "print('{} I work for'.format('Mindgraph'))"
   ]
  },
  {
   "cell_type": "code",
   "execution_count": 18,
   "id": "c25027d2",
   "metadata": {},
   "outputs": [
    {
     "name": "stdout",
     "output_type": "stream",
     "text": [
      "Enter Your Name: Shubha\n",
      "Enter your company name: Mindgraph\n",
      "Enter your employee id: E007\n"
     ]
    },
    {
     "data": {
      "text/plain": [
       "'my name is Shubha, i work for E007, my employee id is Mindgraph'"
      ]
     },
     "execution_count": 18,
     "metadata": {},
     "output_type": "execute_result"
    }
   ],
   "source": [
    "# arrange the args according to the placeholder\n",
    "name = input('Enter Your Name: ')\n",
    "company_name = input('Enter your company name: ')\n",
    "emp_id = input('Enter your employee id: ')\n",
    "'my name is {}, i work for {}, my employee id is {}'.format(name, emp_id, company_name)  # wrong placement of arguments"
   ]
  },
  {
   "cell_type": "code",
   "execution_count": 19,
   "id": "51057540",
   "metadata": {},
   "outputs": [
    {
     "name": "stdout",
     "output_type": "stream",
     "text": [
      "Enter Your Name: Shubha\n",
      "Enter your company name: Mindgraph\n",
      "Enter your employee id: E007\n"
     ]
    },
    {
     "data": {
      "text/plain": [
       "'my name is Shubha, i work for Mindgraph, my employee id is E007'"
      ]
     },
     "execution_count": 19,
     "metadata": {},
     "output_type": "execute_result"
    }
   ],
   "source": [
    "# arrange the args according to the placeholder\n",
    "name = input('Enter Your Name: ')\n",
    "company_name = input('Enter your company name: ')\n",
    "emp_id = input('Enter your employee id: ')\n",
    "'my name is {}, i work for {}, my employee id is {}'.format(name, company_name, emp_id) # right placement of arguments"
   ]
  },
  {
   "cell_type": "code",
   "execution_count": 20,
   "id": "7433fbdc",
   "metadata": {},
   "outputs": [],
   "source": [
    "l = [1, 2, 3, 4, 5, 6, 7, 'Shubha', 'Mindgraph', 'ByteIQ']"
   ]
  },
  {
   "cell_type": "markdown",
   "id": "b8ab5937",
   "metadata": {},
   "source": [
    "### len()"
   ]
  },
  {
   "cell_type": "code",
   "execution_count": 21,
   "id": "5ea572ec",
   "metadata": {},
   "outputs": [
    {
     "data": {
      "text/plain": [
       "10"
      ]
     },
     "execution_count": 21,
     "metadata": {},
     "output_type": "execute_result"
    }
   ],
   "source": [
    "len(l) # will calculate the number of elements present in the list, or size of the list"
   ]
  },
  {
   "cell_type": "code",
   "execution_count": 22,
   "id": "8af40b32",
   "metadata": {},
   "outputs": [
    {
     "data": {
      "text/plain": [
       "'Mindgraph'"
      ]
     },
     "execution_count": 22,
     "metadata": {},
     "output_type": "execute_result"
    }
   ],
   "source": [
    "l[8] "
   ]
  },
  {
   "cell_type": "code",
   "execution_count": 23,
   "id": "dbfb6c64",
   "metadata": {},
   "outputs": [
    {
     "data": {
      "text/plain": [
       "9"
      ]
     },
     "execution_count": 23,
     "metadata": {},
     "output_type": "execute_result"
    }
   ],
   "source": [
    "len(l[8]) # length of the string 'Mindgraph'"
   ]
  },
  {
   "cell_type": "code",
   "execution_count": 24,
   "id": "42bb7268",
   "metadata": {},
   "outputs": [],
   "source": [
    "l = [1, 2, 3, 4, 5, 6, 7, 'Shubha', 'Mindgraph', 'ByteIQ', ]# no elements have been defined after comma"
   ]
  },
  {
   "cell_type": "code",
   "execution_count": 25,
   "id": "e4244309",
   "metadata": {},
   "outputs": [
    {
     "data": {
      "text/plain": [
       "10"
      ]
     },
     "execution_count": 25,
     "metadata": {},
     "output_type": "execute_result"
    }
   ],
   "source": [
    "len(l)"
   ]
  },
  {
   "cell_type": "code",
   "execution_count": 26,
   "id": "224483fc",
   "metadata": {},
   "outputs": [
    {
     "ename": "SyntaxError",
     "evalue": "invalid syntax (Temp/ipykernel_76708/3228466246.py, line 1)",
     "output_type": "error",
     "traceback": [
      "\u001b[1;36m  File \u001b[1;32m\"C:\\Users\\Acer\\AppData\\Local\\Temp/ipykernel_76708/3228466246.py\"\u001b[1;36m, line \u001b[1;32m1\u001b[0m\n\u001b[1;33m    l = [1, 2, 3, 4, 5, 6, 7, 'Shubha', 'Mindgraph', 'ByteIQ', ,]\u001b[0m\n\u001b[1;37m                                                               ^\u001b[0m\n\u001b[1;31mSyntaxError\u001b[0m\u001b[1;31m:\u001b[0m invalid syntax\n"
     ]
    }
   ],
   "source": [
    "l = [1, 2, 3, 4, 5, 6, 7, 'Shubha', 'Mindgraph', 'ByteIQ', ,]"
   ]
  },
  {
   "cell_type": "markdown",
   "id": "ca102e22",
   "metadata": {},
   "source": [
    "### Membership Operators (in, not in)"
   ]
  },
  {
   "cell_type": "code",
   "execution_count": 27,
   "id": "5f41c922",
   "metadata": {},
   "outputs": [
    {
     "data": {
      "text/plain": [
       "[1, 2, 3, 4, 5, 6, 7, 'Shubha', 'Mindgraph', 'ByteIQ']"
      ]
     },
     "execution_count": 27,
     "metadata": {},
     "output_type": "execute_result"
    }
   ],
   "source": [
    "l"
   ]
  },
  {
   "cell_type": "code",
   "execution_count": 28,
   "id": "77d45d1a",
   "metadata": {},
   "outputs": [
    {
     "data": {
      "text/plain": [
       "True"
      ]
     },
     "execution_count": 28,
     "metadata": {},
     "output_type": "execute_result"
    }
   ],
   "source": [
    "5 in l"
   ]
  },
  {
   "cell_type": "code",
   "execution_count": 29,
   "id": "d5b5cb7c",
   "metadata": {},
   "outputs": [
    {
     "data": {
      "text/plain": [
       "False"
      ]
     },
     "execution_count": 29,
     "metadata": {},
     "output_type": "execute_result"
    }
   ],
   "source": [
    "5 not in l"
   ]
  },
  {
   "cell_type": "code",
   "execution_count": 30,
   "id": "b78de969",
   "metadata": {},
   "outputs": [
    {
     "ename": "NameError",
     "evalue": "name 'Shubha' is not defined",
     "output_type": "error",
     "traceback": [
      "\u001b[1;31m---------------------------------------------------------------------------\u001b[0m",
      "\u001b[1;31mNameError\u001b[0m                                 Traceback (most recent call last)",
      "\u001b[1;32m~\\AppData\\Local\\Temp/ipykernel_76708/4174392171.py\u001b[0m in \u001b[0;36m<module>\u001b[1;34m\u001b[0m\n\u001b[1;32m----> 1\u001b[1;33m \u001b[0mShubha\u001b[0m \u001b[1;32min\u001b[0m \u001b[0ml\u001b[0m\u001b[1;33m\u001b[0m\u001b[1;33m\u001b[0m\u001b[0m\n\u001b[0m",
      "\u001b[1;31mNameError\u001b[0m: name 'Shubha' is not defined"
     ]
    }
   ],
   "source": [
    "Shubha in l"
   ]
  },
  {
   "cell_type": "code",
   "execution_count": 31,
   "id": "b9558f04",
   "metadata": {},
   "outputs": [
    {
     "data": {
      "text/plain": [
       "True"
      ]
     },
     "execution_count": 31,
     "metadata": {},
     "output_type": "execute_result"
    }
   ],
   "source": [
    "'Shubha' in l # 'Shubha' is present in l, so true"
   ]
  },
  {
   "cell_type": "code",
   "execution_count": 32,
   "id": "f61dd8a9",
   "metadata": {},
   "outputs": [
    {
     "data": {
      "text/plain": [
       "False"
      ]
     },
     "execution_count": 32,
     "metadata": {},
     "output_type": "execute_result"
    }
   ],
   "source": [
    "'Shubha' not in l # 'Shubha' is present in l, so 'not in' condition is false."
   ]
  },
  {
   "cell_type": "code",
   "execution_count": 33,
   "id": "2c5b4db5",
   "metadata": {},
   "outputs": [
    {
     "data": {
      "text/plain": [
       "False"
      ]
     },
     "execution_count": 33,
     "metadata": {},
     "output_type": "execute_result"
    }
   ],
   "source": [
    "'mindgraph' in l # 'mindgraph' is not present in l, difference in 'm' and 'M'"
   ]
  },
  {
   "cell_type": "code",
   "execution_count": 34,
   "id": "dd473757",
   "metadata": {},
   "outputs": [
    {
     "data": {
      "text/plain": [
       "True"
      ]
     },
     "execution_count": 34,
     "metadata": {},
     "output_type": "execute_result"
    }
   ],
   "source": [
    "'Mindgraph' in l # 'Mindgraph' is present in l"
   ]
  },
  {
   "cell_type": "code",
   "execution_count": 35,
   "id": "b156432b",
   "metadata": {},
   "outputs": [
    {
     "data": {
      "text/plain": [
       "[1, 2, 3, 4, 5, 6, 7, 'Shubha', 'Mindgraph', 'ByteIQ']"
      ]
     },
     "execution_count": 35,
     "metadata": {},
     "output_type": "execute_result"
    }
   ],
   "source": [
    "l"
   ]
  },
  {
   "cell_type": "code",
   "execution_count": 39,
   "id": "510601fb",
   "metadata": {},
   "outputs": [
    {
     "data": {
      "text/plain": [
       "False"
      ]
     },
     "execution_count": 39,
     "metadata": {},
     "output_type": "execute_result"
    }
   ],
   "source": [
    "'1' in l # '1' is a string"
   ]
  },
  {
   "cell_type": "code",
   "execution_count": 40,
   "id": "a3afe97f",
   "metadata": {},
   "outputs": [
    {
     "data": {
      "text/plain": [
       "True"
      ]
     },
     "execution_count": 40,
     "metadata": {},
     "output_type": "execute_result"
    }
   ],
   "source": [
    "2 in l # 2 is an integer"
   ]
  },
  {
   "cell_type": "code",
   "execution_count": 36,
   "id": "274de15f",
   "metadata": {},
   "outputs": [
    {
     "data": {
      "text/plain": [
       "False"
      ]
     },
     "execution_count": 36,
     "metadata": {},
     "output_type": "execute_result"
    }
   ],
   "source": [
    "23456 in l # 23456 is an integer and not present in l"
   ]
  },
  {
   "cell_type": "code",
   "execution_count": 37,
   "id": "5e7b2412",
   "metadata": {},
   "outputs": [
    {
     "data": {
      "text/plain": [
       "(2, 3, 4, 5, True)"
      ]
     },
     "execution_count": 37,
     "metadata": {},
     "output_type": "execute_result"
    }
   ],
   "source": [
    "2, 3, 4, 5, 6 in l # 6 is  present in l, so true"
   ]
  },
  {
   "cell_type": "code",
   "execution_count": 38,
   "id": "e4631dd8",
   "metadata": {},
   "outputs": [
    {
     "data": {
      "text/plain": [
       "(2, 3, 4, False)"
      ]
     },
     "execution_count": 38,
     "metadata": {},
     "output_type": "execute_result"
    }
   ],
   "source": [
    "2, 3, 4, (5, 6) in l # (5, 6) will be considered as tuple"
   ]
  },
  {
   "cell_type": "code",
   "execution_count": 41,
   "id": "08a441cb",
   "metadata": {},
   "outputs": [
    {
     "data": {
      "text/plain": [
       "[1, 2, 3, 4, 5, 6, 7, 'Shubha', 'Mindgraph', 'ByteIQ']"
      ]
     },
     "execution_count": 41,
     "metadata": {},
     "output_type": "execute_result"
    }
   ],
   "source": [
    "l"
   ]
  },
  {
   "cell_type": "code",
   "execution_count": 45,
   "id": "90a1393c",
   "metadata": {},
   "outputs": [
    {
     "data": {
      "text/plain": [
       "True"
      ]
     },
     "execution_count": 45,
     "metadata": {},
     "output_type": "execute_result"
    }
   ],
   "source": [
    "'Soumya' not in l # string 'Soumya' is not present in l, so 'not in' condition is true."
   ]
  },
  {
   "cell_type": "code",
   "execution_count": 44,
   "id": "578e6984",
   "metadata": {},
   "outputs": [
    {
     "data": {
      "text/plain": [
       "False"
      ]
     },
     "execution_count": 44,
     "metadata": {},
     "output_type": "execute_result"
    }
   ],
   "source": [
    "'Soumya' in l # string 'Soumya' is not present in l, so 'in' condition is False."
   ]
  },
  {
   "cell_type": "code",
   "execution_count": 43,
   "id": "9da349e6",
   "metadata": {},
   "outputs": [
    {
     "data": {
      "text/plain": [
       "False"
      ]
     },
     "execution_count": 43,
     "metadata": {},
     "output_type": "execute_result"
    }
   ],
   "source": [
    "5 not in l # 5 is present in l, so 'not in' condition is False"
   ]
  },
  {
   "cell_type": "code",
   "execution_count": 42,
   "id": "d7c728ec",
   "metadata": {},
   "outputs": [
    {
     "ename": "NameError",
     "evalue": "name 'ByteIQ' is not defined",
     "output_type": "error",
     "traceback": [
      "\u001b[1;31m---------------------------------------------------------------------------\u001b[0m",
      "\u001b[1;31mNameError\u001b[0m                                 Traceback (most recent call last)",
      "\u001b[1;32m~\\AppData\\Local\\Temp/ipykernel_76708/2526943924.py\u001b[0m in \u001b[0;36m<module>\u001b[1;34m\u001b[0m\n\u001b[1;32m----> 1\u001b[1;33m \u001b[0mByteIQ\u001b[0m \u001b[1;32mnot\u001b[0m \u001b[1;32min\u001b[0m \u001b[0ml\u001b[0m\u001b[1;33m\u001b[0m\u001b[1;33m\u001b[0m\u001b[0m\n\u001b[0m",
      "\u001b[1;31mNameError\u001b[0m: name 'ByteIQ' is not defined"
     ]
    }
   ],
   "source": [
    "ByteIQ not in l # Error, ByteIQ will be considered as an undefined Variable."
   ]
  },
  {
   "cell_type": "markdown",
   "id": "32e4ed01",
   "metadata": {},
   "source": [
    "### append()"
   ]
  },
  {
   "cell_type": "code",
   "execution_count": 46,
   "id": "2df400ea",
   "metadata": {},
   "outputs": [
    {
     "data": {
      "text/plain": [
       "[1, 2, 3, 4, 5, 6, 7, 'Shubha', 'Mindgraph', 'ByteIQ']"
      ]
     },
     "execution_count": 46,
     "metadata": {},
     "output_type": "execute_result"
    }
   ],
   "source": [
    "l"
   ]
  },
  {
   "cell_type": "code",
   "execution_count": 47,
   "id": "ec92e582",
   "metadata": {},
   "outputs": [],
   "source": [
    "l.append('Soumya') # append function adds element to the tail/end position of the list."
   ]
  },
  {
   "cell_type": "code",
   "execution_count": 48,
   "id": "9e5118dc",
   "metadata": {},
   "outputs": [
    {
     "data": {
      "text/plain": [
       "[1, 2, 3, 4, 5, 6, 7, 'Shubha', 'Mindgraph', 'ByteIQ', 'Soumya']"
      ]
     },
     "execution_count": 48,
     "metadata": {},
     "output_type": "execute_result"
    }
   ],
   "source": [
    "l"
   ]
  },
  {
   "cell_type": "code",
   "execution_count": 49,
   "id": "af54f257",
   "metadata": {},
   "outputs": [],
   "source": [
    "l.append([9, 10, 11])"
   ]
  },
  {
   "cell_type": "code",
   "execution_count": 50,
   "id": "59e150d6",
   "metadata": {},
   "outputs": [
    {
     "data": {
      "text/plain": [
       "[1, 2, 3, 4, 5, 6, 7, 'Shubha', 'Mindgraph', 'ByteIQ', 'Soumya', [9, 10, 11]]"
      ]
     },
     "execution_count": 50,
     "metadata": {},
     "output_type": "execute_result"
    }
   ],
   "source": [
    "l"
   ]
  },
  {
   "cell_type": "code",
   "execution_count": 51,
   "id": "3bed5d82",
   "metadata": {},
   "outputs": [],
   "source": [
    "l.append(35.8)"
   ]
  },
  {
   "cell_type": "code",
   "execution_count": 52,
   "id": "9498e1b0",
   "metadata": {},
   "outputs": [
    {
     "data": {
      "text/plain": [
       "[1,\n",
       " 2,\n",
       " 3,\n",
       " 4,\n",
       " 5,\n",
       " 6,\n",
       " 7,\n",
       " 'Shubha',\n",
       " 'Mindgraph',\n",
       " 'ByteIQ',\n",
       " 'Soumya',\n",
       " [9, 10, 11],\n",
       " 35.8]"
      ]
     },
     "execution_count": 52,
     "metadata": {},
     "output_type": "execute_result"
    }
   ],
   "source": [
    "l"
   ]
  },
  {
   "cell_type": "markdown",
   "id": "faa7c4a4",
   "metadata": {},
   "source": [
    "### .pop()"
   ]
  },
  {
   "cell_type": "code",
   "execution_count": 53,
   "id": "9feb8ad1",
   "metadata": {},
   "outputs": [
    {
     "data": {
      "text/plain": [
       "[1,\n",
       " 2,\n",
       " 3,\n",
       " 4,\n",
       " 5,\n",
       " 6,\n",
       " 7,\n",
       " 'Shubha',\n",
       " 'Mindgraph',\n",
       " 'ByteIQ',\n",
       " 'Soumya',\n",
       " [9, 10, 11],\n",
       " 35.8]"
      ]
     },
     "execution_count": 53,
     "metadata": {},
     "output_type": "execute_result"
    }
   ],
   "source": [
    "l"
   ]
  },
  {
   "cell_type": "code",
   "execution_count": 54,
   "id": "165a66ff",
   "metadata": {},
   "outputs": [
    {
     "data": {
      "text/plain": [
       "35.8"
      ]
     },
     "execution_count": 54,
     "metadata": {},
     "output_type": "execute_result"
    }
   ],
   "source": [
    "l.pop() # removes the last element from the list."
   ]
  },
  {
   "cell_type": "code",
   "execution_count": 55,
   "id": "e58295a3",
   "metadata": {},
   "outputs": [
    {
     "data": {
      "text/plain": [
       "[1, 2, 3, 4, 5, 6, 7, 'Shubha', 'Mindgraph', 'ByteIQ', 'Soumya', [9, 10, 11]]"
      ]
     },
     "execution_count": 55,
     "metadata": {},
     "output_type": "execute_result"
    }
   ],
   "source": [
    "l"
   ]
  },
  {
   "cell_type": "code",
   "execution_count": 60,
   "id": "d8309480",
   "metadata": {},
   "outputs": [
    {
     "data": {
      "text/plain": [
       "[9, 10, 11]"
      ]
     },
     "execution_count": 60,
     "metadata": {},
     "output_type": "execute_result"
    }
   ],
   "source": [
    "l.pop()"
   ]
  },
  {
   "cell_type": "code",
   "execution_count": 61,
   "id": "706bacfd",
   "metadata": {},
   "outputs": [
    {
     "data": {
      "text/plain": [
       "[1, 2, 3, 4, 5, 6, 7, 'Shubha', 'Mindgraph', 'ByteIQ', 'Soumya']"
      ]
     },
     "execution_count": 61,
     "metadata": {},
     "output_type": "execute_result"
    }
   ],
   "source": [
    "l"
   ]
  },
  {
   "cell_type": "code",
   "execution_count": 62,
   "id": "06e53c63",
   "metadata": {},
   "outputs": [],
   "source": [
    "l.append([1, 2, 3, 5])"
   ]
  },
  {
   "cell_type": "code",
   "execution_count": 63,
   "id": "67654e3f",
   "metadata": {},
   "outputs": [
    {
     "data": {
      "text/plain": [
       "[1, 2, 3, 4, 5, 6, 7, 'Shubha', 'Mindgraph', 'ByteIQ', 'Soumya', [1, 2, 3, 5]]"
      ]
     },
     "execution_count": 63,
     "metadata": {},
     "output_type": "execute_result"
    }
   ],
   "source": [
    "l"
   ]
  },
  {
   "cell_type": "code",
   "execution_count": 64,
   "id": "1a0ccce9",
   "metadata": {},
   "outputs": [
    {
     "ename": "AttributeError",
     "evalue": "'int' object has no attribute 'pop'",
     "output_type": "error",
     "traceback": [
      "\u001b[1;31m---------------------------------------------------------------------------\u001b[0m",
      "\u001b[1;31mAttributeError\u001b[0m                            Traceback (most recent call last)",
      "\u001b[1;32m~\\AppData\\Local\\Temp/ipykernel_76708/479735025.py\u001b[0m in \u001b[0;36m<module>\u001b[1;34m\u001b[0m\n\u001b[1;32m----> 1\u001b[1;33m \u001b[0ml\u001b[0m\u001b[1;33m[\u001b[0m\u001b[1;33m-\u001b[0m\u001b[1;36m1\u001b[0m\u001b[1;33m]\u001b[0m\u001b[1;33m[\u001b[0m\u001b[1;33m-\u001b[0m\u001b[1;36m2\u001b[0m\u001b[1;33m]\u001b[0m\u001b[1;33m.\u001b[0m\u001b[0mpop\u001b[0m\u001b[1;33m(\u001b[0m\u001b[1;33m)\u001b[0m\u001b[1;33m\u001b[0m\u001b[1;33m\u001b[0m\u001b[0m\n\u001b[0m",
      "\u001b[1;31mAttributeError\u001b[0m: 'int' object has no attribute 'pop'"
     ]
    }
   ],
   "source": [
    "l[-1][-2].pop()"
   ]
  },
  {
   "cell_type": "code",
   "execution_count": 67,
   "id": "5a54c7f3",
   "metadata": {},
   "outputs": [
    {
     "data": {
      "text/plain": [
       "[1, 2, 3]"
      ]
     },
     "execution_count": 67,
     "metadata": {},
     "output_type": "execute_result"
    }
   ],
   "source": [
    "l[-1]"
   ]
  },
  {
   "cell_type": "code",
   "execution_count": 65,
   "id": "aea2c0da",
   "metadata": {},
   "outputs": [
    {
     "data": {
      "text/plain": [
       "5"
      ]
     },
     "execution_count": 65,
     "metadata": {},
     "output_type": "execute_result"
    }
   ],
   "source": [
    "l[-1].pop()"
   ]
  },
  {
   "cell_type": "code",
   "execution_count": 66,
   "id": "5c0f3c2c",
   "metadata": {},
   "outputs": [
    {
     "data": {
      "text/plain": [
       "[1, 2, 3, 4, 5, 6, 7, 'Shubha', 'Mindgraph', 'ByteIQ', 'Soumya', [1, 2, 3]]"
      ]
     },
     "execution_count": 66,
     "metadata": {},
     "output_type": "execute_result"
    }
   ],
   "source": [
    "l"
   ]
  },
  {
   "cell_type": "markdown",
   "id": "2e20698d",
   "metadata": {},
   "source": [
    "### .pop(index)"
   ]
  },
  {
   "cell_type": "code",
   "execution_count": 68,
   "id": "b765e25c",
   "metadata": {},
   "outputs": [
    {
     "data": {
      "text/plain": [
       "3"
      ]
     },
     "execution_count": 68,
     "metadata": {},
     "output_type": "execute_result"
    }
   ],
   "source": [
    "l[-1].pop(-1)"
   ]
  },
  {
   "cell_type": "code",
   "execution_count": 69,
   "id": "05086911",
   "metadata": {},
   "outputs": [
    {
     "data": {
      "text/plain": [
       "[1, 2, 3, 4, 5, 6, 7, 'Shubha', 'Mindgraph', 'ByteIQ', 'Soumya', [1, 2]]"
      ]
     },
     "execution_count": 69,
     "metadata": {},
     "output_type": "execute_result"
    }
   ],
   "source": [
    "l"
   ]
  },
  {
   "cell_type": "code",
   "execution_count": 70,
   "id": "2aa140db",
   "metadata": {},
   "outputs": [
    {
     "data": {
      "text/plain": [
       "1"
      ]
     },
     "execution_count": 70,
     "metadata": {},
     "output_type": "execute_result"
    }
   ],
   "source": [
    "l[-1].pop(0)"
   ]
  },
  {
   "cell_type": "code",
   "execution_count": 71,
   "id": "bce6ca01",
   "metadata": {},
   "outputs": [
    {
     "data": {
      "text/plain": [
       "[1, 2, 3, 4, 5, 6, 7, 'Shubha', 'Mindgraph', 'ByteIQ', 'Soumya', [2]]"
      ]
     },
     "execution_count": 71,
     "metadata": {},
     "output_type": "execute_result"
    }
   ],
   "source": [
    "l"
   ]
  },
  {
   "cell_type": "code",
   "execution_count": 72,
   "id": "981ba86c",
   "metadata": {},
   "outputs": [
    {
     "ename": "TypeError",
     "evalue": "'list' object cannot be interpreted as an integer",
     "output_type": "error",
     "traceback": [
      "\u001b[1;31m---------------------------------------------------------------------------\u001b[0m",
      "\u001b[1;31mTypeError\u001b[0m                                 Traceback (most recent call last)",
      "\u001b[1;32m~\\AppData\\Local\\Temp/ipykernel_76708/1630656775.py\u001b[0m in \u001b[0;36m<module>\u001b[1;34m\u001b[0m\n\u001b[1;32m----> 1\u001b[1;33m \u001b[0ml\u001b[0m\u001b[1;33m.\u001b[0m\u001b[0mpop\u001b[0m\u001b[1;33m(\u001b[0m\u001b[1;33m[\u001b[0m\u001b[1;36m2\u001b[0m\u001b[1;33m]\u001b[0m\u001b[1;33m)\u001b[0m\u001b[1;33m\u001b[0m\u001b[1;33m\u001b[0m\u001b[0m\n\u001b[0m",
      "\u001b[1;31mTypeError\u001b[0m: 'list' object cannot be interpreted as an integer"
     ]
    }
   ],
   "source": [
    "l.pop([2])"
   ]
  },
  {
   "cell_type": "code",
   "execution_count": 73,
   "id": "98c26cce",
   "metadata": {},
   "outputs": [
    {
     "data": {
      "text/plain": [
       "[2]"
      ]
     },
     "execution_count": 73,
     "metadata": {},
     "output_type": "execute_result"
    }
   ],
   "source": [
    "l.pop(-1)"
   ]
  },
  {
   "cell_type": "code",
   "execution_count": 74,
   "id": "7c55c35e",
   "metadata": {},
   "outputs": [
    {
     "data": {
      "text/plain": [
       "[1, 2, 3, 4, 5, 6, 7, 'Shubha', 'Mindgraph', 'ByteIQ', 'Soumya']"
      ]
     },
     "execution_count": 74,
     "metadata": {},
     "output_type": "execute_result"
    }
   ],
   "source": [
    "l"
   ]
  },
  {
   "cell_type": "code",
   "execution_count": 75,
   "id": "7419b40b",
   "metadata": {},
   "outputs": [
    {
     "data": {
      "text/plain": [
       "7"
      ]
     },
     "execution_count": 75,
     "metadata": {},
     "output_type": "execute_result"
    }
   ],
   "source": [
    "l.pop(6)"
   ]
  },
  {
   "cell_type": "code",
   "execution_count": 76,
   "id": "aaa0c12f",
   "metadata": {},
   "outputs": [
    {
     "data": {
      "text/plain": [
       "[1, 2, 3, 4, 5, 6, 'Shubha', 'Mindgraph', 'ByteIQ', 'Soumya']"
      ]
     },
     "execution_count": 76,
     "metadata": {},
     "output_type": "execute_result"
    }
   ],
   "source": [
    "l"
   ]
  }
 ],
 "metadata": {
  "kernelspec": {
   "display_name": "Python 3 (ipykernel)",
   "language": "python",
   "name": "python3"
  },
  "language_info": {
   "codemirror_mode": {
    "name": "ipython",
    "version": 3
   },
   "file_extension": ".py",
   "mimetype": "text/x-python",
   "name": "python",
   "nbconvert_exporter": "python",
   "pygments_lexer": "ipython3",
   "version": "3.9.7"
  }
 },
 "nbformat": 4,
 "nbformat_minor": 5
}
