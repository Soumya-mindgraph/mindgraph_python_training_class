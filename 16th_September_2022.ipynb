{
 "cells": [
  {
   "cell_type": "markdown",
   "id": "096cfc9a",
   "metadata": {},
   "source": [
    "# Task 1"
   ]
  },
  {
   "cell_type": "code",
   "execution_count": 56,
   "id": "c94041e4",
   "metadata": {},
   "outputs": [],
   "source": [
    "list_elements = [1, 2, 3, 4, 5, 6, 7, 7, [1, 2, 3, 4, 5], [1, 2, 3, 4, 5]]"
   ]
  },
  {
   "cell_type": "code",
   "execution_count": 6,
   "id": "d7f89d82",
   "metadata": {},
   "outputs": [
    {
     "data": {
      "text/plain": [
       "[1, 2, 3, 4, 5, 6, 7, 7, [1, 2, 3, 4, 5], [1, 2, 3, 4, 5]]"
      ]
     },
     "execution_count": 6,
     "metadata": {},
     "output_type": "execute_result"
    }
   ],
   "source": [
    "list_elements"
   ]
  },
  {
   "cell_type": "code",
   "execution_count": 10,
   "id": "59e3cc7d",
   "metadata": {
    "scrolled": true
   },
   "outputs": [
    {
     "ename": "TypeError",
     "evalue": "unhashable type: 'list'",
     "output_type": "error",
     "traceback": [
      "\u001b[1;31m---------------------------------------------------------------------------\u001b[0m",
      "\u001b[1;31mTypeError\u001b[0m                                 Traceback (most recent call last)",
      "\u001b[1;32m~\\AppData\\Local\\Temp/ipykernel_21180/3270300423.py\u001b[0m in \u001b[0;36m<module>\u001b[1;34m\u001b[0m\n\u001b[1;32m----> 1\u001b[1;33m \u001b[0mset\u001b[0m\u001b[1;33m(\u001b[0m\u001b[0mlist_elements\u001b[0m\u001b[1;33m)\u001b[0m\u001b[1;33m\u001b[0m\u001b[1;33m\u001b[0m\u001b[0m\n\u001b[0m",
      "\u001b[1;31mTypeError\u001b[0m: unhashable type: 'list'"
     ]
    }
   ],
   "source": [
    "set(list_elements) # Hash value cannot be generated for a collection"
   ]
  },
  {
   "cell_type": "markdown",
   "id": "84937aac",
   "metadata": {},
   "source": [
    "* Eliminate the inner lists\n",
    "    * Print and check the elements and its types.\n",
    "* Store the remaining elements in a set, to avoid repetation."
   ]
  },
  {
   "cell_type": "code",
   "execution_count": 11,
   "id": "5e013b70",
   "metadata": {},
   "outputs": [
    {
     "data": {
      "text/plain": [
       "[1, 2, 3, 4, 5, 6, 7, 7, [1, 2, 3, 4, 5], [1, 2, 3, 4, 5]]"
      ]
     },
     "execution_count": 11,
     "metadata": {},
     "output_type": "execute_result"
    }
   ],
   "source": [
    "list_elements"
   ]
  },
  {
   "cell_type": "markdown",
   "id": "ff22bf81",
   "metadata": {},
   "source": [
    " ### Step 0 - Declare an Empty Set -"
   ]
  },
  {
   "cell_type": "code",
   "execution_count": 45,
   "id": "cc0886a7",
   "metadata": {},
   "outputs": [],
   "source": [
    "s = set()"
   ]
  },
  {
   "cell_type": "code",
   "execution_count": 25,
   "id": "87be03cf",
   "metadata": {},
   "outputs": [
    {
     "data": {
      "text/plain": [
       "set()"
      ]
     },
     "execution_count": 25,
     "metadata": {},
     "output_type": "execute_result"
    }
   ],
   "source": [
    "s"
   ]
  },
  {
   "cell_type": "code",
   "execution_count": 31,
   "id": "8ff24779",
   "metadata": {},
   "outputs": [
    {
     "data": {
      "text/plain": [
       "set"
      ]
     },
     "execution_count": 31,
     "metadata": {},
     "output_type": "execute_result"
    }
   ],
   "source": [
    "type(s)"
   ]
  },
  {
   "cell_type": "markdown",
   "id": "6577e886",
   "metadata": {},
   "source": [
    "### Step 1 - Iterate through list and print the elements"
   ]
  },
  {
   "cell_type": "code",
   "execution_count": 8,
   "id": "2956f75e",
   "metadata": {
    "scrolled": true
   },
   "outputs": [
    {
     "name": "stdout",
     "output_type": "stream",
     "text": [
      "1\n",
      "2\n",
      "3\n",
      "4\n",
      "5\n",
      "6\n",
      "7\n",
      "7\n",
      "[1, 2, 3, 4, 5]\n",
      "[1, 2, 3, 4, 5]\n"
     ]
    }
   ],
   "source": [
    "s = set()\n",
    "for element in list_elements:\n",
    "    print(element)"
   ]
  },
  {
   "cell_type": "markdown",
   "id": "ee58dfcf",
   "metadata": {},
   "source": [
    "### Step 2 - Iterate through list and print the elements and element types"
   ]
  },
  {
   "cell_type": "code",
   "execution_count": 27,
   "id": "d1d608cc",
   "metadata": {},
   "outputs": [
    {
     "name": "stdout",
     "output_type": "stream",
     "text": [
      "1\n",
      "<class 'int'>\n",
      "2\n",
      "<class 'int'>\n",
      "3\n",
      "<class 'int'>\n",
      "4\n",
      "<class 'int'>\n",
      "5\n",
      "<class 'int'>\n",
      "6\n",
      "<class 'int'>\n",
      "7\n",
      "<class 'int'>\n",
      "7\n",
      "<class 'int'>\n",
      "[1, 2, 3, 4, 5]\n",
      "<class 'list'>\n",
      "[1, 2, 3, 4, 5]\n",
      "<class 'list'>\n"
     ]
    }
   ],
   "source": [
    "s = set()\n",
    "for element in list_elements:\n",
    "    print(element)\n",
    "    print(type(element))"
   ]
  },
  {
   "cell_type": "markdown",
   "id": "92098cf7",
   "metadata": {},
   "source": [
    "### Step 3  - Check and Print the elements those are not lists."
   ]
  },
  {
   "cell_type": "code",
   "execution_count": 28,
   "id": "9054616e",
   "metadata": {},
   "outputs": [
    {
     "data": {
      "text/plain": [
       "[1, 2, 3, 4, 5, 6, 7, 7, [1, 2, 3, 4, 5], [1, 2, 3, 4, 5]]"
      ]
     },
     "execution_count": 28,
     "metadata": {},
     "output_type": "execute_result"
    }
   ],
   "source": [
    "list_elements"
   ]
  },
  {
   "cell_type": "code",
   "execution_count": 29,
   "id": "f969875c",
   "metadata": {},
   "outputs": [
    {
     "name": "stdout",
     "output_type": "stream",
     "text": [
      "1\n",
      "2\n",
      "3\n",
      "4\n",
      "5\n",
      "6\n",
      "7\n",
      "7\n"
     ]
    }
   ],
   "source": [
    "s = set()\n",
    "for element in list_elements:\n",
    "    if type(element) != list: \n",
    "        print(element) # print elements which are not list"
   ]
  },
  {
   "cell_type": "markdown",
   "id": "dd410bf3",
   "metadata": {},
   "source": [
    "### Step 4 - Check and Print the elements those are not lists."
   ]
  },
  {
   "cell_type": "code",
   "execution_count": 47,
   "id": "4a73d119",
   "metadata": {
    "scrolled": true
   },
   "outputs": [
    {
     "name": "stdout",
     "output_type": "stream",
     "text": [
      "1\n",
      "{1}\n",
      "2\n",
      "{1, 2}\n",
      "3\n",
      "{1, 2, 3}\n",
      "4\n",
      "{1, 2, 3, 4}\n",
      "5\n",
      "{1, 2, 3, 4, 5}\n",
      "6\n",
      "{1, 2, 3, 4, 5, 6}\n",
      "7\n",
      "{1, 2, 3, 4, 5, 6, 7}\n",
      "7\n",
      "{1, 2, 3, 4, 5, 6, 7}\n"
     ]
    }
   ],
   "source": [
    "s = set()\n",
    "for element in list_elements:\n",
    "    if type(element) != list:\n",
    "        print(element) # just for displaying and understanding\n",
    "        s.add(element)\n",
    "        print(s)  # just for displaying and understanding"
   ]
  },
  {
   "cell_type": "code",
   "execution_count": 49,
   "id": "106945ab",
   "metadata": {},
   "outputs": [
    {
     "data": {
      "text/plain": [
       "[1, 2, 3, 4, 5, 6, 7, 7, [1, 2, 3, 4, 5], [1, 2, 3, 4, 5]]"
      ]
     },
     "execution_count": 49,
     "metadata": {},
     "output_type": "execute_result"
    }
   ],
   "source": [
    "list_elements"
   ]
  },
  {
   "cell_type": "markdown",
   "id": "ffdf7a29",
   "metadata": {},
   "source": [
    "### Step 5 - print the elements elements present in set."
   ]
  },
  {
   "cell_type": "code",
   "execution_count": 53,
   "id": "eb91d609",
   "metadata": {},
   "outputs": [
    {
     "name": "stdout",
     "output_type": "stream",
     "text": [
      "{1, 2, 3, 4, 5, 6, 7}\n"
     ]
    }
   ],
   "source": [
    "s = set()\n",
    "for element in list_elements:\n",
    "    if type(element) != list:\n",
    "        s.add(element)\n",
    "print(s)"
   ]
  },
  {
   "cell_type": "markdown",
   "id": "65fd1e0e",
   "metadata": {},
   "source": [
    "# Task - 2"
   ]
  },
  {
   "cell_type": "code",
   "execution_count": 54,
   "id": "5db33a45",
   "metadata": {},
   "outputs": [],
   "source": [
    "byteiq = {'Shubha', 'Satya', 'Lalit', 'Soumya', 'Priyanka', 'Prity'}"
   ]
  },
  {
   "cell_type": "code",
   "execution_count": 55,
   "id": "5e1d797a",
   "metadata": {},
   "outputs": [
    {
     "name": "stdout",
     "output_type": "stream",
     "text": [
      "Shubha\n",
      "Satya\n",
      "Soumya\n",
      "Priyanka\n",
      "Lalit\n",
      "Prity\n"
     ]
    }
   ],
   "source": [
    "for employee in byteiq:\n",
    "    print(employee) # Set never stores elements in a ordered fashion"
   ]
  },
  {
   "cell_type": "markdown",
   "id": "6da7a546",
   "metadata": {},
   "source": [
    "# Task - 3"
   ]
  },
  {
   "cell_type": "code",
   "execution_count": 65,
   "id": "4031db22",
   "metadata": {},
   "outputs": [],
   "source": [
    "list_elements = [1, 2, 3, 4, 5, 6, 7, 7, [1, 2, 3, 4, 5], [1, 2, 3, 4, 5], {1, 2, 3, 4, 54, \"Mindgraph\"}, 'string']"
   ]
  },
  {
   "cell_type": "markdown",
   "id": "53a317ca",
   "metadata": {},
   "source": [
    "## Write a program to display \n",
    "\n",
    "### * the elements present inside the set which is present inside 'list_elements' , \n",
    "### * and store the elements present in  set to a new  list."
   ]
  },
  {
   "cell_type": "markdown",
   "id": "e2a825fb",
   "metadata": {},
   "source": [
    "### Step 0 : Initializing the empty list."
   ]
  },
  {
   "cell_type": "code",
   "execution_count": 81,
   "id": "7691ef4b",
   "metadata": {},
   "outputs": [],
   "source": [
    "l = [] # initializing an empty list"
   ]
  },
  {
   "cell_type": "code",
   "execution_count": 82,
   "id": "08068e50",
   "metadata": {},
   "outputs": [
    {
     "data": {
      "text/plain": [
       "[]"
      ]
     },
     "execution_count": 82,
     "metadata": {},
     "output_type": "execute_result"
    }
   ],
   "source": [
    "l # display the list"
   ]
  },
  {
   "cell_type": "code",
   "execution_count": 83,
   "id": "bf260fe0",
   "metadata": {
    "scrolled": true
   },
   "outputs": [
    {
     "data": {
      "text/plain": [
       "list"
      ]
     },
     "execution_count": 83,
     "metadata": {},
     "output_type": "execute_result"
    }
   ],
   "source": [
    "type(l) # check the type"
   ]
  },
  {
   "cell_type": "markdown",
   "id": "ce051d12",
   "metadata": {},
   "source": [
    "### Step 1 - Iterate through list and print the elements."
   ]
  },
  {
   "cell_type": "code",
   "execution_count": 59,
   "id": "d4a2d6db",
   "metadata": {
    "scrolled": true
   },
   "outputs": [
    {
     "name": "stdout",
     "output_type": "stream",
     "text": [
      "1\n",
      "2\n",
      "3\n",
      "4\n",
      "5\n",
      "6\n",
      "7\n",
      "7\n",
      "[1, 2, 3, 4, 5]\n",
      "[1, 2, 3, 4, 5]\n",
      "{1, 2, 3, 4, 54, 'Mindgraph'}\n",
      "string\n"
     ]
    }
   ],
   "source": [
    "for element in list_elements:\n",
    "    print(element)"
   ]
  },
  {
   "cell_type": "markdown",
   "id": "f3bde1ba",
   "metadata": {},
   "source": [
    "### Step 2 - Iterate through list and print the elements and element types"
   ]
  },
  {
   "cell_type": "code",
   "execution_count": 77,
   "id": "448e04b2",
   "metadata": {
    "scrolled": true
   },
   "outputs": [
    {
     "name": "stdout",
     "output_type": "stream",
     "text": [
      "1\n",
      "<class 'int'>\n",
      "2\n",
      "<class 'int'>\n",
      "3\n",
      "<class 'int'>\n",
      "4\n",
      "<class 'int'>\n",
      "5\n",
      "<class 'int'>\n",
      "6\n",
      "<class 'int'>\n",
      "7\n",
      "<class 'int'>\n",
      "7\n",
      "<class 'int'>\n",
      "[1, 2, 3, 4, 5]\n",
      "<class 'list'>\n",
      "[1, 2, 3, 4, 5]\n",
      "<class 'list'>\n",
      "{1, 2, 3, 4, 54, 'Mindgraph'}\n",
      "<class 'set'>\n",
      "string\n",
      "<class 'str'>\n"
     ]
    }
   ],
   "source": [
    "l=[]\n",
    "for element in list_elements:\n",
    "    print(element)\n",
    "    print(type(element))"
   ]
  },
  {
   "cell_type": "markdown",
   "id": "4c35dc0b",
   "metadata": {},
   "source": [
    "### Step 3 - Display the element which is set"
   ]
  },
  {
   "cell_type": "code",
   "execution_count": 76,
   "id": "cca03dde",
   "metadata": {},
   "outputs": [
    {
     "name": "stdout",
     "output_type": "stream",
     "text": [
      "{1, 2, 3, 4, 54, 'Mindgraph'}\n"
     ]
    }
   ],
   "source": [
    "l=[]\n",
    "for element in list_elements:\n",
    "    if type(element) == set:\n",
    "        print(element)"
   ]
  },
  {
   "cell_type": "markdown",
   "id": "ae36c7d3",
   "metadata": {},
   "source": [
    "### Step 4 - Displaying the elements inside the set"
   ]
  },
  {
   "cell_type": "code",
   "execution_count": 75,
   "id": "748d5772",
   "metadata": {},
   "outputs": [
    {
     "name": "stdout",
     "output_type": "stream",
     "text": [
      "{1, 2, 3, 4, 54, 'Mindgraph'}\n",
      "1\n",
      "2\n",
      "3\n",
      "4\n",
      "54\n",
      "Mindgraph\n"
     ]
    }
   ],
   "source": [
    "l=[]\n",
    "for element in list_elements:\n",
    "    if type(element) == set: # set element detected\n",
    "        print(element) # printed the set\n",
    "        for i in element: # iterating through elements of set\n",
    "            print(i) # individually printing the elements of the set"
   ]
  },
  {
   "cell_type": "markdown",
   "id": "31db86c1",
   "metadata": {},
   "source": [
    "### Step 5 - Appending the elements present inside the set to list and printing the list (Final Step)"
   ]
  },
  {
   "cell_type": "code",
   "execution_count": 73,
   "id": "f2a2c723",
   "metadata": {},
   "outputs": [
    {
     "name": "stdout",
     "output_type": "stream",
     "text": [
      "[1, 2, 3, 4, 54, 'Mindgraph']\n"
     ]
    }
   ],
   "source": [
    "l=[]\n",
    "for element in list_elements:\n",
    "    if type(element) == set: \n",
    "        for i in element:\n",
    "            l.append(i)\n",
    "print(l)"
   ]
  },
  {
   "cell_type": "markdown",
   "id": "18b8b807",
   "metadata": {},
   "source": [
    "### Task 4"
   ]
  },
  {
   "cell_type": "markdown",
   "id": "6b5b3cb9",
   "metadata": {},
   "source": [
    "### WAP to find out all the  unique elements of integer type and store those element in another new list."
   ]
  },
  {
   "cell_type": "code",
   "execution_count": 88,
   "id": "a5697792",
   "metadata": {},
   "outputs": [],
   "source": [
    "ls = [2, 3, \"Mindgraph\", 3, 2, 2, 3, {4, 8, 9}, \"Soumya\", 4.53]   # Output should be [2, 3]"
   ]
  },
  {
   "cell_type": "code",
   "execution_count": 92,
   "id": "aeff25f4",
   "metadata": {},
   "outputs": [
    {
     "name": "stdout",
     "output_type": "stream",
     "text": [
      "[2, 3]\n"
     ]
    }
   ],
   "source": [
    "s = set()\n",
    "for element in ls:\n",
    "    if type(element) == int:\n",
    "        s.add(element)\n",
    "l = list(s)\n",
    "print(l)"
   ]
  }
 ],
 "metadata": {
  "kernelspec": {
   "display_name": "Python 3 (ipykernel)",
   "language": "python",
   "name": "python3"
  },
  "language_info": {
   "codemirror_mode": {
    "name": "ipython",
    "version": 3
   },
   "file_extension": ".py",
   "mimetype": "text/x-python",
   "name": "python",
   "nbconvert_exporter": "python",
   "pygments_lexer": "ipython3",
   "version": "3.9.7"
  }
 },
 "nbformat": 4,
 "nbformat_minor": 5
}
