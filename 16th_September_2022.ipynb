{
 "cells": [
  {
   "cell_type": "markdown",
   "id": "e18c4f20",
   "metadata": {},
   "source": [
    "# Task 1"
   ]
  },
  {
   "cell_type": "code",
   "execution_count": 56,
   "id": "397c051f",
   "metadata": {},
   "outputs": [],
   "source": [
    "list_elements = [1, 2, 3, 4, 5, 6, 7, 7, [1, 2, 3, 4, 5], [1, 2, 3, 4, 5]]"
   ]
  },
  {
   "cell_type": "code",
   "execution_count": 6,
   "id": "fe8fa8b6",
   "metadata": {},
   "outputs": [
    {
     "data": {
      "text/plain": [
       "[1, 2, 3, 4, 5, 6, 7, 7, [1, 2, 3, 4, 5], [1, 2, 3, 4, 5]]"
      ]
     },
     "execution_count": 6,
     "metadata": {},
     "output_type": "execute_result"
    }
   ],
   "source": [
    "list_elements"
   ]
  },
  {
   "cell_type": "code",
   "execution_count": 10,
   "id": "2ea396d5",
   "metadata": {
    "scrolled": true
   },
   "outputs": [
    {
     "ename": "TypeError",
     "evalue": "unhashable type: 'list'",
     "output_type": "error",
     "traceback": [
      "\u001b[1;31m---------------------------------------------------------------------------\u001b[0m",
      "\u001b[1;31mTypeError\u001b[0m                                 Traceback (most recent call last)",
      "\u001b[1;32m~\\AppData\\Local\\Temp/ipykernel_21180/3270300423.py\u001b[0m in \u001b[0;36m<module>\u001b[1;34m\u001b[0m\n\u001b[1;32m----> 1\u001b[1;33m \u001b[0mset\u001b[0m\u001b[1;33m(\u001b[0m\u001b[0mlist_elements\u001b[0m\u001b[1;33m)\u001b[0m\u001b[1;33m\u001b[0m\u001b[1;33m\u001b[0m\u001b[0m\n\u001b[0m",
      "\u001b[1;31mTypeError\u001b[0m: unhashable type: 'list'"
     ]
    }
   ],
   "source": [
    "set(list_elements) # Hash value cannot be generated for a collection"
   ]
  },
  {
   "cell_type": "markdown",
   "id": "7e400232",
   "metadata": {},
   "source": [
    "* Eliminate the inner lists\n",
    "    * Print and check the elements and its types.\n",
    "* Store the remaining elements in a set, to avoid repetation."
   ]
  },
  {
   "cell_type": "code",
   "execution_count": 11,
   "id": "6bdbac60",
   "metadata": {},
   "outputs": [
    {
     "data": {
      "text/plain": [
       "[1, 2, 3, 4, 5, 6, 7, 7, [1, 2, 3, 4, 5], [1, 2, 3, 4, 5]]"
      ]
     },
     "execution_count": 11,
     "metadata": {},
     "output_type": "execute_result"
    }
   ],
   "source": [
    "list_elements"
   ]
  },
  {
   "cell_type": "markdown",
   "id": "04825837",
   "metadata": {},
   "source": [
    " ### Step 0 - Declare an Empty Set -"
   ]
  },
  {
   "cell_type": "code",
   "execution_count": 45,
   "id": "805de156",
   "metadata": {},
   "outputs": [],
   "source": [
    "s = set()"
   ]
  },
  {
   "cell_type": "code",
   "execution_count": 25,
   "id": "e8275ddf",
   "metadata": {},
   "outputs": [
    {
     "data": {
      "text/plain": [
       "set()"
      ]
     },
     "execution_count": 25,
     "metadata": {},
     "output_type": "execute_result"
    }
   ],
   "source": [
    "s"
   ]
  },
  {
   "cell_type": "code",
   "execution_count": 31,
   "id": "9e8e2e63",
   "metadata": {},
   "outputs": [
    {
     "data": {
      "text/plain": [
       "set"
      ]
     },
     "execution_count": 31,
     "metadata": {},
     "output_type": "execute_result"
    }
   ],
   "source": [
    "type(s)"
   ]
  },
  {
   "cell_type": "markdown",
   "id": "e9cb58d7",
   "metadata": {},
   "source": [
    "### Step 1 - Iterate through list and print the elements"
   ]
  },
  {
   "cell_type": "code",
   "execution_count": 8,
   "id": "bd2c2265",
   "metadata": {
    "scrolled": true
   },
   "outputs": [
    {
     "name": "stdout",
     "output_type": "stream",
     "text": [
      "1\n",
      "2\n",
      "3\n",
      "4\n",
      "5\n",
      "6\n",
      "7\n",
      "7\n",
      "[1, 2, 3, 4, 5]\n",
      "[1, 2, 3, 4, 5]\n"
     ]
    }
   ],
   "source": [
    "s = set()\n",
    "for element in list_elements:\n",
    "    print(element)"
   ]
  },
  {
   "cell_type": "markdown",
   "id": "fdf33e54",
   "metadata": {},
   "source": [
    "### Step 2 - Iterate through list and print the elements and element types"
   ]
  },
  {
   "cell_type": "code",
   "execution_count": 27,
   "id": "2cf85b4d",
   "metadata": {},
   "outputs": [
    {
     "name": "stdout",
     "output_type": "stream",
     "text": [
      "1\n",
      "<class 'int'>\n",
      "2\n",
      "<class 'int'>\n",
      "3\n",
      "<class 'int'>\n",
      "4\n",
      "<class 'int'>\n",
      "5\n",
      "<class 'int'>\n",
      "6\n",
      "<class 'int'>\n",
      "7\n",
      "<class 'int'>\n",
      "7\n",
      "<class 'int'>\n",
      "[1, 2, 3, 4, 5]\n",
      "<class 'list'>\n",
      "[1, 2, 3, 4, 5]\n",
      "<class 'list'>\n"
     ]
    }
   ],
   "source": [
    "s = set()\n",
    "for element in list_elements:\n",
    "    print(element)\n",
    "    print(type(element))"
   ]
  },
  {
   "cell_type": "markdown",
   "id": "d561c729",
   "metadata": {},
   "source": [
    "### Step 3  - Check and Print the elements those are not lists."
   ]
  },
  {
   "cell_type": "code",
   "execution_count": 28,
   "id": "5801bd2f",
   "metadata": {},
   "outputs": [
    {
     "data": {
      "text/plain": [
       "[1, 2, 3, 4, 5, 6, 7, 7, [1, 2, 3, 4, 5], [1, 2, 3, 4, 5]]"
      ]
     },
     "execution_count": 28,
     "metadata": {},
     "output_type": "execute_result"
    }
   ],
   "source": [
    "list_elements"
   ]
  },
  {
   "cell_type": "code",
   "execution_count": 29,
   "id": "a8a09a6f",
   "metadata": {},
   "outputs": [
    {
     "name": "stdout",
     "output_type": "stream",
     "text": [
      "1\n",
      "2\n",
      "3\n",
      "4\n",
      "5\n",
      "6\n",
      "7\n",
      "7\n"
     ]
    }
   ],
   "source": [
    "s = set()\n",
    "for element in list_elements:\n",
    "    if type(element) != list: \n",
    "        print(element) # print elements which are not list"
   ]
  },
  {
   "cell_type": "markdown",
   "id": "45fce005",
   "metadata": {},
   "source": [
    "### Step 4 - Check and Print the elements those are not lists."
   ]
  },
  {
   "cell_type": "code",
   "execution_count": 47,
   "id": "e0c5d495",
   "metadata": {
    "scrolled": true
   },
   "outputs": [
    {
     "name": "stdout",
     "output_type": "stream",
     "text": [
      "1\n",
      "{1}\n",
      "2\n",
      "{1, 2}\n",
      "3\n",
      "{1, 2, 3}\n",
      "4\n",
      "{1, 2, 3, 4}\n",
      "5\n",
      "{1, 2, 3, 4, 5}\n",
      "6\n",
      "{1, 2, 3, 4, 5, 6}\n",
      "7\n",
      "{1, 2, 3, 4, 5, 6, 7}\n",
      "7\n",
      "{1, 2, 3, 4, 5, 6, 7}\n"
     ]
    }
   ],
   "source": [
    "s = set()\n",
    "for element in list_elements:\n",
    "    if type(element) != list:\n",
    "        print(element) # just for displaying and understanding\n",
    "        s.add(element)\n",
    "        print(s)  # just for displaying and understanding"
   ]
  },
  {
   "cell_type": "code",
   "execution_count": 49,
   "id": "740e9a52",
   "metadata": {},
   "outputs": [
    {
     "data": {
      "text/plain": [
       "[1, 2, 3, 4, 5, 6, 7, 7, [1, 2, 3, 4, 5], [1, 2, 3, 4, 5]]"
      ]
     },
     "execution_count": 49,
     "metadata": {},
     "output_type": "execute_result"
    }
   ],
   "source": [
    "list_elements"
   ]
  },
  {
   "cell_type": "markdown",
   "id": "035b73cf",
   "metadata": {},
   "source": [
    "### Step 5 - print the elements elements present in set."
   ]
  },
  {
   "cell_type": "code",
   "execution_count": 53,
   "id": "f50f6529",
   "metadata": {},
   "outputs": [
    {
     "name": "stdout",
     "output_type": "stream",
     "text": [
      "{1, 2, 3, 4, 5, 6, 7}\n"
     ]
    }
   ],
   "source": [
    "s = set()\n",
    "for element in list_elements:\n",
    "    if type(element) != list:\n",
    "        s.add(element)\n",
    "print(s)"
   ]
  },
  {
   "cell_type": "markdown",
   "id": "09091f05",
   "metadata": {},
   "source": [
    "# Task - 2"
   ]
  },
  {
   "cell_type": "code",
   "execution_count": 54,
   "id": "62e4c170",
   "metadata": {},
   "outputs": [],
   "source": [
    "byteiq = {'Shubha', 'Satya', 'Lalit', 'Soumya', 'Priyanka', 'Prity'}"
   ]
  },
  {
   "cell_type": "code",
   "execution_count": 55,
   "id": "3766d301",
   "metadata": {},
   "outputs": [
    {
     "name": "stdout",
     "output_type": "stream",
     "text": [
      "Shubha\n",
      "Satya\n",
      "Soumya\n",
      "Priyanka\n",
      "Lalit\n",
      "Prity\n"
     ]
    }
   ],
   "source": [
    "for employee in byteiq:\n",
    "    print(employee) # Set never stores elements in a ordered fashion"
   ]
  },
  {
   "cell_type": "markdown",
   "id": "d1ecb1eb",
   "metadata": {},
   "source": [
    "# Task - 3"
   ]
  },
  {
   "cell_type": "code",
   "execution_count": 65,
   "id": "f3fac26a",
   "metadata": {},
   "outputs": [],
   "source": [
    "list_elements = [1, 2, 3, 4, 5, 6, 7, 7, [1, 2, 3, 4, 5], [1, 2, 3, 4, 5], {1, 2, 3, 4, 54, \"Mindgraph\"}, 'string']"
   ]
  },
  {
   "cell_type": "markdown",
   "id": "a26e5b01",
   "metadata": {},
   "source": [
    "## Write a program to display \n",
    "\n",
    "### * the elements present inside the set which is present inside 'list_elements' , \n",
    "### * and store the elements present in  set to a new  list."
   ]
  },
  {
   "cell_type": "markdown",
   "id": "95d240db",
   "metadata": {},
   "source": [
    "### Step 0 : Initializing the empty list."
   ]
  },
  {
   "cell_type": "code",
   "execution_count": 81,
   "id": "87dbfcf8",
   "metadata": {},
   "outputs": [],
   "source": [
    "l = [] # initializing an empty list"
   ]
  },
  {
   "cell_type": "code",
   "execution_count": 82,
   "id": "bf4181ab",
   "metadata": {},
   "outputs": [
    {
     "data": {
      "text/plain": [
       "[]"
      ]
     },
     "execution_count": 82,
     "metadata": {},
     "output_type": "execute_result"
    }
   ],
   "source": [
    "l # display the list"
   ]
  },
  {
   "cell_type": "code",
   "execution_count": 83,
   "id": "b7b9a7f3",
   "metadata": {
    "scrolled": true
   },
   "outputs": [
    {
     "data": {
      "text/plain": [
       "list"
      ]
     },
     "execution_count": 83,
     "metadata": {},
     "output_type": "execute_result"
    }
   ],
   "source": [
    "type(l) # check the type"
   ]
  },
  {
   "cell_type": "markdown",
   "id": "35b1e698",
   "metadata": {},
   "source": [
    "### Step 1 - Iterate through list and print the elements."
   ]
  },
  {
   "cell_type": "code",
   "execution_count": 59,
   "id": "035eb091",
   "metadata": {
    "scrolled": true
   },
   "outputs": [
    {
     "name": "stdout",
     "output_type": "stream",
     "text": [
      "1\n",
      "2\n",
      "3\n",
      "4\n",
      "5\n",
      "6\n",
      "7\n",
      "7\n",
      "[1, 2, 3, 4, 5]\n",
      "[1, 2, 3, 4, 5]\n",
      "{1, 2, 3, 4, 54, 'Mindgraph'}\n",
      "string\n"
     ]
    }
   ],
   "source": [
    "for element in list_elements:\n",
    "    print(element)"
   ]
  },
  {
   "cell_type": "markdown",
   "id": "9b680ea3",
   "metadata": {},
   "source": [
    "### Step 2 - Iterate through list and print the elements and element types"
   ]
  },
  {
   "cell_type": "code",
   "execution_count": 77,
   "id": "8226d2f8",
   "metadata": {
    "scrolled": true
   },
   "outputs": [
    {
     "name": "stdout",
     "output_type": "stream",
     "text": [
      "1\n",
      "<class 'int'>\n",
      "2\n",
      "<class 'int'>\n",
      "3\n",
      "<class 'int'>\n",
      "4\n",
      "<class 'int'>\n",
      "5\n",
      "<class 'int'>\n",
      "6\n",
      "<class 'int'>\n",
      "7\n",
      "<class 'int'>\n",
      "7\n",
      "<class 'int'>\n",
      "[1, 2, 3, 4, 5]\n",
      "<class 'list'>\n",
      "[1, 2, 3, 4, 5]\n",
      "<class 'list'>\n",
      "{1, 2, 3, 4, 54, 'Mindgraph'}\n",
      "<class 'set'>\n",
      "string\n",
      "<class 'str'>\n"
     ]
    }
   ],
   "source": [
    "l=[]\n",
    "for element in list_elements:\n",
    "    print(element)\n",
    "    print(type(element))"
   ]
  },
  {
   "cell_type": "markdown",
   "id": "af35bcdc",
   "metadata": {},
   "source": [
    "### Step 3 - Display the element which is set"
   ]
  },
  {
   "cell_type": "code",
   "execution_count": 76,
   "id": "bf238e52",
   "metadata": {},
   "outputs": [
    {
     "name": "stdout",
     "output_type": "stream",
     "text": [
      "{1, 2, 3, 4, 54, 'Mindgraph'}\n"
     ]
    }
   ],
   "source": [
    "l=[]\n",
    "for element in list_elements:\n",
    "    if type(element) == set:\n",
    "        print(element)"
   ]
  },
  {
   "cell_type": "markdown",
   "id": "28fe9b33",
   "metadata": {},
   "source": [
    "### Step 4 - Displaying the elements inside the set"
   ]
  },
  {
   "cell_type": "code",
   "execution_count": 75,
   "id": "1c11403e",
   "metadata": {},
   "outputs": [
    {
     "name": "stdout",
     "output_type": "stream",
     "text": [
      "{1, 2, 3, 4, 54, 'Mindgraph'}\n",
      "1\n",
      "2\n",
      "3\n",
      "4\n",
      "54\n",
      "Mindgraph\n"
     ]
    }
   ],
   "source": [
    "l=[]\n",
    "for element in list_elements:\n",
    "    if type(element) == set: # set element detected\n",
    "        print(element) # printed the set\n",
    "        for i in element: # iterating through elements of set\n",
    "            print(i) # individually printing the elements of the set"
   ]
  },
  {
   "cell_type": "markdown",
   "id": "9366a42f",
   "metadata": {},
   "source": [
    "### Step 5 - Appending the elements present inside the set to list and printing the list (Final Step)"
   ]
  },
  {
   "cell_type": "code",
   "execution_count": 73,
   "id": "a8143029",
   "metadata": {},
   "outputs": [
    {
     "name": "stdout",
     "output_type": "stream",
     "text": [
      "[1, 2, 3, 4, 54, 'Mindgraph']\n"
     ]
    }
   ],
   "source": [
    "l=[]\n",
    "for element in list_elements:\n",
    "    if type(element) == set: \n",
    "        for i in element:\n",
    "            l.append(i)\n",
    "print(l)"
   ]
  },
  {
   "cell_type": "code",
   "execution_count": null,
   "id": "376b9662",
   "metadata": {},
   "outputs": [],
   "source": []
  },
  {
   "cell_type": "code",
   "execution_count": null,
   "id": "d748d8b8",
   "metadata": {},
   "outputs": [],
   "source": []
  },
  {
   "cell_type": "code",
   "execution_count": null,
   "id": "a3865a02",
   "metadata": {},
   "outputs": [],
   "source": []
  },
  {
   "cell_type": "code",
   "execution_count": null,
   "id": "d2749371",
   "metadata": {},
   "outputs": [],
   "source": []
  },
  {
   "cell_type": "code",
   "execution_count": null,
   "id": "69224ef8",
   "metadata": {},
   "outputs": [],
   "source": []
  },
  {
   "cell_type": "code",
   "execution_count": null,
   "id": "01461bae",
   "metadata": {},
   "outputs": [],
   "source": []
  },
  {
   "cell_type": "code",
   "execution_count": null,
   "id": "c7119754",
   "metadata": {},
   "outputs": [],
   "source": []
  },
  {
   "cell_type": "code",
   "execution_count": null,
   "id": "1bc7243e",
   "metadata": {},
   "outputs": [],
   "source": []
  },
  {
   "cell_type": "code",
   "execution_count": null,
   "id": "175953a1",
   "metadata": {},
   "outputs": [],
   "source": []
  },
  {
   "cell_type": "code",
   "execution_count": null,
   "id": "426c0820",
   "metadata": {},
   "outputs": [],
   "source": []
  },
  {
   "cell_type": "code",
   "execution_count": null,
   "id": "b856e5b6",
   "metadata": {},
   "outputs": [],
   "source": []
  },
  {
   "cell_type": "code",
   "execution_count": null,
   "id": "135b8339",
   "metadata": {},
   "outputs": [],
   "source": []
  },
  {
   "cell_type": "code",
   "execution_count": null,
   "id": "92a58680",
   "metadata": {},
   "outputs": [],
   "source": []
  },
  {
   "cell_type": "code",
   "execution_count": null,
   "id": "72a2a4c5",
   "metadata": {},
   "outputs": [],
   "source": []
  },
  {
   "cell_type": "code",
   "execution_count": null,
   "id": "124d1cee",
   "metadata": {},
   "outputs": [],
   "source": []
  }
 ],
 "metadata": {
  "kernelspec": {
   "display_name": "Python 3 (ipykernel)",
   "language": "python",
   "name": "python3"
  },
  "language_info": {
   "codemirror_mode": {
    "name": "ipython",
    "version": 3
   },
   "file_extension": ".py",
   "mimetype": "text/x-python",
   "name": "python",
   "nbconvert_exporter": "python",
   "pygments_lexer": "ipython3",
   "version": "3.9.7"
  }
 },
 "nbformat": 4,
 "nbformat_minor": 5
}
