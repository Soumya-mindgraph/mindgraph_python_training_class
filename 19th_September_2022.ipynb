{
 "cells": [
  {
   "cell_type": "markdown",
   "id": "3012b4cb",
   "metadata": {},
   "source": [
    "# Inbuilt functions of lists and strings"
   ]
  },
  {
   "cell_type": "code",
   "execution_count": 1,
   "id": "a1c45939",
   "metadata": {},
   "outputs": [],
   "source": [
    "s = 'Mindgraph'"
   ]
  },
  {
   "cell_type": "code",
   "execution_count": 3,
   "id": "15a815a1",
   "metadata": {},
   "outputs": [
    {
     "data": {
      "text/plain": [
       "9"
      ]
     },
     "execution_count": 3,
     "metadata": {},
     "output_type": "execute_result"
    }
   ],
   "source": [
    "len(s) # calculates the length of the string"
   ]
  },
  {
   "cell_type": "code",
   "execution_count": 7,
   "id": "54d111ad",
   "metadata": {},
   "outputs": [],
   "source": [
    "s = 'Mind     graph' # string with spaces"
   ]
  },
  {
   "cell_type": "code",
   "execution_count": 8,
   "id": "72dcf69b",
   "metadata": {
    "scrolled": true
   },
   "outputs": [
    {
     "data": {
      "text/plain": [
       "14"
      ]
     },
     "execution_count": 8,
     "metadata": {},
     "output_type": "execute_result"
    }
   ],
   "source": [
    "len(s)"
   ]
  },
  {
   "cell_type": "code",
   "execution_count": 9,
   "id": "ea66fd8e",
   "metadata": {},
   "outputs": [],
   "source": [
    "s = 'Mindgraph'"
   ]
  },
  {
   "cell_type": "markdown",
   "id": "364d90f1",
   "metadata": {},
   "source": [
    "### find()"
   ]
  },
  {
   "cell_type": "code",
   "execution_count": 10,
   "id": "3e413ccf",
   "metadata": {},
   "outputs": [
    {
     "data": {
      "text/plain": [
       "4"
      ]
     },
     "execution_count": 10,
     "metadata": {},
     "output_type": "execute_result"
    }
   ],
   "source": [
    "s.find('g') # find - displays the index number of the character"
   ]
  },
  {
   "cell_type": "code",
   "execution_count": 11,
   "id": "f74425c7",
   "metadata": {},
   "outputs": [],
   "source": [
    "s = 'Cuttack'"
   ]
  },
  {
   "cell_type": "code",
   "execution_count": 12,
   "id": "8644f769",
   "metadata": {},
   "outputs": [
    {
     "data": {
      "text/plain": [
       "2"
      ]
     },
     "execution_count": 12,
     "metadata": {},
     "output_type": "execute_result"
    }
   ],
   "source": [
    "s.find('t') #  't' is present in both index 2 and index 3. find() will give the first occurence of the element."
   ]
  },
  {
   "cell_type": "code",
   "execution_count": 13,
   "id": "cd920dba",
   "metadata": {},
   "outputs": [
    {
     "data": {
      "text/plain": [
       "'Cuttack'"
      ]
     },
     "execution_count": 13,
     "metadata": {},
     "output_type": "execute_result"
    }
   ],
   "source": [
    "s"
   ]
  },
  {
   "cell_type": "code",
   "execution_count": 14,
   "id": "9a55078b",
   "metadata": {},
   "outputs": [
    {
     "data": {
      "text/plain": [
       "-1"
      ]
     },
     "execution_count": 14,
     "metadata": {},
     "output_type": "execute_result"
    }
   ],
   "source": [
    "s.find('s')  # if the element is not available, it gives -1 by default."
   ]
  },
  {
   "cell_type": "code",
   "execution_count": 15,
   "id": "5ac7a882",
   "metadata": {},
   "outputs": [
    {
     "data": {
      "text/plain": [
       "'Cuttack'"
      ]
     },
     "execution_count": 15,
     "metadata": {},
     "output_type": "execute_result"
    }
   ],
   "source": [
    "s "
   ]
  },
  {
   "cell_type": "code",
   "execution_count": 16,
   "id": "e26f852a",
   "metadata": {},
   "outputs": [
    {
     "data": {
      "text/plain": [
       "1"
      ]
     },
     "execution_count": 16,
     "metadata": {},
     "output_type": "execute_result"
    }
   ],
   "source": [
    "# even if there are n number of characters, find() will display the index of the first character of the string mentioned.\n",
    "s.find('ut')"
   ]
  },
  {
   "cell_type": "markdown",
   "id": "4ed13620",
   "metadata": {},
   "source": [
    "### count()"
   ]
  },
  {
   "cell_type": "code",
   "execution_count": 17,
   "id": "ae2d4520",
   "metadata": {},
   "outputs": [
    {
     "data": {
      "text/plain": [
       "'Cuttack'"
      ]
     },
     "execution_count": 17,
     "metadata": {},
     "output_type": "execute_result"
    }
   ],
   "source": [
    "s"
   ]
  },
  {
   "cell_type": "code",
   "execution_count": 18,
   "id": "23493733",
   "metadata": {},
   "outputs": [
    {
     "data": {
      "text/plain": [
       "2"
      ]
     },
     "execution_count": 18,
     "metadata": {},
     "output_type": "execute_result"
    }
   ],
   "source": [
    "s.count('t') # counts the number of occurence of a character in a string"
   ]
  },
  {
   "cell_type": "code",
   "execution_count": 19,
   "id": "fa27de64",
   "metadata": {},
   "outputs": [
    {
     "data": {
      "text/plain": [
       "0"
      ]
     },
     "execution_count": 19,
     "metadata": {},
     "output_type": "execute_result"
    }
   ],
   "source": [
    "s.count('b') # if the element is not present in the string, by default it will display 0."
   ]
  },
  {
   "cell_type": "code",
   "execution_count": 20,
   "id": "ab461c8e",
   "metadata": {},
   "outputs": [
    {
     "data": {
      "text/plain": [
       "1"
      ]
     },
     "execution_count": 20,
     "metadata": {},
     "output_type": "execute_result"
    }
   ],
   "source": [
    "s.count('a')"
   ]
  },
  {
   "cell_type": "markdown",
   "id": "27736355",
   "metadata": {},
   "source": [
    "### split()"
   ]
  },
  {
   "cell_type": "code",
   "execution_count": 21,
   "id": "a6bef18a",
   "metadata": {},
   "outputs": [],
   "source": [
    "s = 'My name is soumya bisoyi'"
   ]
  },
  {
   "cell_type": "code",
   "execution_count": 22,
   "id": "9d506f87",
   "metadata": {},
   "outputs": [
    {
     "data": {
      "text/plain": [
       "['My', 'name', 'is', 'soumya', 'bisoyi']"
      ]
     },
     "execution_count": 22,
     "metadata": {},
     "output_type": "execute_result"
    }
   ],
   "source": [
    "s.split(' ') # will separate the strings, based on the character or string specified and will put them into a list."
   ]
  },
  {
   "cell_type": "code",
   "execution_count": 23,
   "id": "e6a220b1",
   "metadata": {},
   "outputs": [],
   "source": [
    "s = 'My,name,is,soumya,bisoyi'"
   ]
  },
  {
   "cell_type": "code",
   "execution_count": 24,
   "id": "1ef5e4a7",
   "metadata": {},
   "outputs": [
    {
     "data": {
      "text/plain": [
       "['My', 'name', 'is', 'soumya', 'bisoyi']"
      ]
     },
     "execution_count": 24,
     "metadata": {},
     "output_type": "execute_result"
    }
   ],
   "source": [
    "s.split(',')"
   ]
  },
  {
   "cell_type": "code",
   "execution_count": 33,
   "id": "495615c6",
   "metadata": {},
   "outputs": [],
   "source": [
    "s = 'Myznameziszsoumyazbisoyi'"
   ]
  },
  {
   "cell_type": "code",
   "execution_count": 34,
   "id": "84924716",
   "metadata": {},
   "outputs": [
    {
     "data": {
      "text/plain": [
       "['My', 'name', 'is', 'soumya', 'bisoyi']"
      ]
     },
     "execution_count": 34,
     "metadata": {},
     "output_type": "execute_result"
    }
   ],
   "source": [
    "s.split('z')"
   ]
  },
  {
   "cell_type": "code",
   "execution_count": 35,
   "id": "4da0aeea",
   "metadata": {},
   "outputs": [],
   "source": [
    "s = 'WeareMindgraphByteIQ'"
   ]
  },
  {
   "cell_type": "code",
   "execution_count": 36,
   "id": "05e0f78c",
   "metadata": {},
   "outputs": [
    {
     "data": {
      "text/plain": [
       "['W', 'ar', 'MindgraphByt', 'IQ']"
      ]
     },
     "execution_count": 36,
     "metadata": {},
     "output_type": "execute_result"
    }
   ],
   "source": [
    "s.split('e')"
   ]
  },
  {
   "cell_type": "markdown",
   "id": "66751261",
   "metadata": {},
   "source": [
    "### upper()"
   ]
  },
  {
   "cell_type": "code",
   "execution_count": 37,
   "id": "7625abd7",
   "metadata": {},
   "outputs": [],
   "source": [
    "s = 'Mindgraph' "
   ]
  },
  {
   "cell_type": "code",
   "execution_count": 38,
   "id": "cc48bce4",
   "metadata": {},
   "outputs": [
    {
     "data": {
      "text/plain": [
       "'MINDGRAPH'"
      ]
     },
     "execution_count": 38,
     "metadata": {},
     "output_type": "execute_result"
    }
   ],
   "source": [
    "s.upper() # will give the output in upper case"
   ]
  },
  {
   "cell_type": "code",
   "execution_count": 39,
   "id": "19fd3327",
   "metadata": {},
   "outputs": [],
   "source": [
    "s = 'mIndGRAph'"
   ]
  },
  {
   "cell_type": "code",
   "execution_count": 40,
   "id": "3388b3b9",
   "metadata": {},
   "outputs": [
    {
     "data": {
      "text/plain": [
       "'MINDGRAPH'"
      ]
     },
     "execution_count": 40,
     "metadata": {},
     "output_type": "execute_result"
    }
   ],
   "source": [
    "s.upper()"
   ]
  },
  {
   "cell_type": "markdown",
   "id": "703338e3",
   "metadata": {},
   "source": [
    "### lower()"
   ]
  },
  {
   "cell_type": "code",
   "execution_count": 42,
   "id": "d82f4ad8",
   "metadata": {},
   "outputs": [],
   "source": [
    "s = 'ByteIQ' "
   ]
  },
  {
   "cell_type": "code",
   "execution_count": 43,
   "id": "953df908",
   "metadata": {},
   "outputs": [
    {
     "data": {
      "text/plain": [
       "'byteiq'"
      ]
     },
     "execution_count": 43,
     "metadata": {},
     "output_type": "execute_result"
    }
   ],
   "source": [
    "s.lower() # will give the output in lower case"
   ]
  },
  {
   "cell_type": "code",
   "execution_count": 44,
   "id": "ab396023",
   "metadata": {},
   "outputs": [],
   "source": [
    "s = 'byteiQ'"
   ]
  },
  {
   "cell_type": "code",
   "execution_count": 45,
   "id": "6e758679",
   "metadata": {},
   "outputs": [
    {
     "data": {
      "text/plain": [
       "'byteiq'"
      ]
     },
     "execution_count": 45,
     "metadata": {},
     "output_type": "execute_result"
    }
   ],
   "source": [
    "s.lower()"
   ]
  },
  {
   "cell_type": "code",
   "execution_count": 46,
   "id": "85aafd36",
   "metadata": {},
   "outputs": [],
   "source": [
    "s = 'byteiQ'"
   ]
  },
  {
   "cell_type": "code",
   "execution_count": 68,
   "id": "4f1d3a9f",
   "metadata": {},
   "outputs": [
    {
     "name": "stdout",
     "output_type": "stream",
     "text": [
      "ByteiQ\n"
     ]
    }
   ],
   "source": [
    "ns = ''\n",
    "for i in s:\n",
    "    if i == 'b':\n",
    "        ns = ns + i.upper()\n",
    "    else:\n",
    "        ns = ns + i\n",
    "print(ns)"
   ]
  },
  {
   "cell_type": "markdown",
   "id": "c6779d2c",
   "metadata": {},
   "source": [
    "### swapcase()"
   ]
  },
  {
   "cell_type": "code",
   "execution_count": 69,
   "id": "69266657",
   "metadata": {},
   "outputs": [],
   "source": [
    "s = 'Mindgraph' # will reverse the cases, upper to lower, and lower to upper."
   ]
  },
  {
   "cell_type": "code",
   "execution_count": 71,
   "id": "f9061c0d",
   "metadata": {},
   "outputs": [
    {
     "data": {
      "text/plain": [
       "'mINDGRAPH'"
      ]
     },
     "execution_count": 71,
     "metadata": {},
     "output_type": "execute_result"
    }
   ],
   "source": [
    "s.swapcase()"
   ]
  },
  {
   "cell_type": "code",
   "execution_count": 72,
   "id": "9f2d61f4",
   "metadata": {},
   "outputs": [],
   "source": [
    "s = 'ByteIQ'"
   ]
  },
  {
   "cell_type": "code",
   "execution_count": 73,
   "id": "e07dd39c",
   "metadata": {},
   "outputs": [
    {
     "data": {
      "text/plain": [
       "'bYTEiq'"
      ]
     },
     "execution_count": 73,
     "metadata": {},
     "output_type": "execute_result"
    }
   ],
   "source": [
    "s.swapcase()"
   ]
  },
  {
   "cell_type": "markdown",
   "id": "b4bc1a46",
   "metadata": {},
   "source": [
    "### capitalize()"
   ]
  },
  {
   "cell_type": "code",
   "execution_count": 74,
   "id": "62b207aa",
   "metadata": {},
   "outputs": [],
   "source": [
    "s = 'mindgraph'"
   ]
  },
  {
   "cell_type": "code",
   "execution_count": 75,
   "id": "5fa908d1",
   "metadata": {},
   "outputs": [
    {
     "data": {
      "text/plain": [
       "'Mindgraph'"
      ]
     },
     "execution_count": 75,
     "metadata": {},
     "output_type": "execute_result"
    }
   ],
   "source": [
    "s.capitalize() # will capitalize the first letter of the string."
   ]
  },
  {
   "cell_type": "code",
   "execution_count": 76,
   "id": "7d5a3826",
   "metadata": {},
   "outputs": [],
   "source": [
    "s = 'byteiq'"
   ]
  },
  {
   "cell_type": "code",
   "execution_count": 77,
   "id": "aa8d2950",
   "metadata": {},
   "outputs": [
    {
     "data": {
      "text/plain": [
       "'Byteiq'"
      ]
     },
     "execution_count": 77,
     "metadata": {},
     "output_type": "execute_result"
    }
   ],
   "source": [
    "s.capitalize()"
   ]
  },
  {
   "cell_type": "code",
   "execution_count": 78,
   "id": "6398af1a",
   "metadata": {},
   "outputs": [],
   "source": [
    "s = 'Byteiq'"
   ]
  },
  {
   "cell_type": "code",
   "execution_count": 79,
   "id": "d407dc3a",
   "metadata": {
    "scrolled": true
   },
   "outputs": [
    {
     "data": {
      "text/plain": [
       "'Byteiq'"
      ]
     },
     "execution_count": 79,
     "metadata": {},
     "output_type": "execute_result"
    }
   ],
   "source": [
    "s.capitalize()"
   ]
  },
  {
   "cell_type": "markdown",
   "id": "00f51d9f",
   "metadata": {},
   "source": [
    "### reversed()"
   ]
  },
  {
   "cell_type": "code",
   "execution_count": 80,
   "id": "2db4d64b",
   "metadata": {},
   "outputs": [],
   "source": [
    "s = 'Mindgraph'"
   ]
  },
  {
   "cell_type": "code",
   "execution_count": 81,
   "id": "0449e8c7",
   "metadata": {},
   "outputs": [
    {
     "data": {
      "text/plain": [
       "<reversed at 0x18e1bb97b80>"
      ]
     },
     "execution_count": 81,
     "metadata": {},
     "output_type": "execute_result"
    }
   ],
   "source": [
    "reversed(s) # it will create an reversed object"
   ]
  },
  {
   "cell_type": "code",
   "execution_count": 82,
   "id": "66e24835",
   "metadata": {},
   "outputs": [
    {
     "data": {
      "text/plain": [
       "['h', 'p', 'a', 'r', 'g', 'd', 'n', 'i', 'M']"
      ]
     },
     "execution_count": 82,
     "metadata": {},
     "output_type": "execute_result"
    }
   ],
   "source": [
    "list(reversed(s)) # passing the reverse object through list"
   ]
  },
  {
   "cell_type": "code",
   "execution_count": 83,
   "id": "18b8a3c2",
   "metadata": {},
   "outputs": [
    {
     "data": {
      "text/plain": [
       "('h', 'p', 'a', 'r', 'g', 'd', 'n', 'i', 'M')"
      ]
     },
     "execution_count": 83,
     "metadata": {},
     "output_type": "execute_result"
    }
   ],
   "source": [
    "tuple(reversed(s)) # passing the reverse object through tuple"
   ]
  },
  {
   "cell_type": "code",
   "execution_count": 88,
   "id": "aeac0c48",
   "metadata": {},
   "outputs": [
    {
     "data": {
      "text/plain": [
       "{'M', 'a', 'd', 'g', 'h', 'i', 'n', 'p', 'r'}"
      ]
     },
     "execution_count": 88,
     "metadata": {},
     "output_type": "execute_result"
    }
   ],
   "source": [
    "# passing the reverse object through set, it will give the characters present in sting-but not in a proper order, \n",
    "# since set does not store elements in sequence.\n",
    "set(reversed(s)) "
   ]
  },
  {
   "cell_type": "code",
   "execution_count": 87,
   "id": "da5f9a08",
   "metadata": {},
   "outputs": [
    {
     "ename": "ValueError",
     "evalue": "dictionary update sequence element #0 has length 1; 2 is required",
     "output_type": "error",
     "traceback": [
      "\u001b[1;31m---------------------------------------------------------------------------\u001b[0m",
      "\u001b[1;31mValueError\u001b[0m                                Traceback (most recent call last)",
      "\u001b[1;32m~\\AppData\\Local\\Temp/ipykernel_18120/2949998017.py\u001b[0m in \u001b[0;36m<module>\u001b[1;34m\u001b[0m\n\u001b[1;32m----> 1\u001b[1;33m \u001b[0mdict\u001b[0m\u001b[1;33m(\u001b[0m\u001b[0mreversed\u001b[0m\u001b[1;33m(\u001b[0m\u001b[0ms\u001b[0m\u001b[1;33m)\u001b[0m\u001b[1;33m)\u001b[0m\u001b[1;33m\u001b[0m\u001b[1;33m\u001b[0m\u001b[0m\n\u001b[0m",
      "\u001b[1;31mValueError\u001b[0m: dictionary update sequence element #0 has length 1; 2 is required"
     ]
    }
   ],
   "source": [
    "dict(reversed(s)) # dict stores value in the form of key value pair."
   ]
  },
  {
   "cell_type": "code",
   "execution_count": 89,
   "id": "8cb134e2",
   "metadata": {},
   "outputs": [
    {
     "data": {
      "text/plain": [
       "'Mindgraph'"
      ]
     },
     "execution_count": 89,
     "metadata": {},
     "output_type": "execute_result"
    }
   ],
   "source": [
    "s"
   ]
  },
  {
   "cell_type": "code",
   "execution_count": 90,
   "id": "0c826dcf",
   "metadata": {},
   "outputs": [
    {
     "data": {
      "text/plain": [
       "'hpargdniM'"
      ]
     },
     "execution_count": 90,
     "metadata": {},
     "output_type": "execute_result"
    }
   ],
   "source": [
    "s[::-1]"
   ]
  },
  {
   "cell_type": "markdown",
   "id": "dc0939e0",
   "metadata": {},
   "source": [
    "### strip()"
   ]
  },
  {
   "cell_type": "code",
   "execution_count": 92,
   "id": "8cead428",
   "metadata": {},
   "outputs": [],
   "source": [
    "s = 'Mindgraph'"
   ]
  },
  {
   "cell_type": "code",
   "execution_count": 94,
   "id": "7a532c9a",
   "metadata": {},
   "outputs": [
    {
     "data": {
      "text/plain": [
       "'Mindgraph'"
      ]
     },
     "execution_count": 94,
     "metadata": {},
     "output_type": "execute_result"
    }
   ],
   "source": [
    "s.strip() # in this case no changes"
   ]
  },
  {
   "cell_type": "code",
   "execution_count": 96,
   "id": "3fd16c93",
   "metadata": {},
   "outputs": [],
   "source": [
    "s = ' Mindgraph   ' # one space added to left, three spaces added to right"
   ]
  },
  {
   "cell_type": "code",
   "execution_count": 102,
   "id": "8e87333a",
   "metadata": {},
   "outputs": [
    {
     "data": {
      "text/plain": [
       "' Mindgraph   '"
      ]
     },
     "execution_count": 102,
     "metadata": {},
     "output_type": "execute_result"
    }
   ],
   "source": [
    "s"
   ]
  },
  {
   "cell_type": "code",
   "execution_count": 103,
   "id": "885685be",
   "metadata": {},
   "outputs": [
    {
     "data": {
      "text/plain": [
       "'Mindgraph'"
      ]
     },
     "execution_count": 103,
     "metadata": {},
     "output_type": "execute_result"
    }
   ],
   "source": [
    "s.strip() # spaces from both the sides are remove."
   ]
  },
  {
   "cell_type": "code",
   "execution_count": 109,
   "id": "bfeb6d26",
   "metadata": {},
   "outputs": [],
   "source": [
    "s = ' Mind graph '"
   ]
  },
  {
   "cell_type": "code",
   "execution_count": 110,
   "id": "6df8eaa6",
   "metadata": {},
   "outputs": [
    {
     "data": {
      "text/plain": [
       "' Mind graph '"
      ]
     },
     "execution_count": 110,
     "metadata": {},
     "output_type": "execute_result"
    }
   ],
   "source": [
    "s"
   ]
  },
  {
   "cell_type": "code",
   "execution_count": 111,
   "id": "1e9072ed",
   "metadata": {},
   "outputs": [
    {
     "data": {
      "text/plain": [
       "'Mind graph'"
      ]
     },
     "execution_count": 111,
     "metadata": {},
     "output_type": "execute_result"
    }
   ],
   "source": [
    "s.strip() # spaces from both the sides of the string will be removed, not the the spaces in the middle."
   ]
  },
  {
   "cell_type": "markdown",
   "id": "e06c9b5d",
   "metadata": {},
   "source": [
    "### lstrip()"
   ]
  },
  {
   "cell_type": "code",
   "execution_count": 112,
   "id": "7f7d3077",
   "metadata": {},
   "outputs": [],
   "source": [
    "s = '    saiteja toleti  '"
   ]
  },
  {
   "cell_type": "code",
   "execution_count": 113,
   "id": "e0544d07",
   "metadata": {},
   "outputs": [
    {
     "data": {
      "text/plain": [
       "'    saiteja toleti  '"
      ]
     },
     "execution_count": 113,
     "metadata": {},
     "output_type": "execute_result"
    }
   ],
   "source": [
    "s"
   ]
  },
  {
   "cell_type": "code",
   "execution_count": 114,
   "id": "a8b14aa0",
   "metadata": {},
   "outputs": [
    {
     "data": {
      "text/plain": [
       "'saiteja toleti  '"
      ]
     },
     "execution_count": 114,
     "metadata": {},
     "output_type": "execute_result"
    }
   ],
   "source": [
    "s.lstrip() # will remove spaces from the left side of the string."
   ]
  },
  {
   "cell_type": "markdown",
   "id": "5e077539",
   "metadata": {},
   "source": [
    "### rstrip()"
   ]
  },
  {
   "cell_type": "code",
   "execution_count": 115,
   "id": "90b3b04e",
   "metadata": {},
   "outputs": [],
   "source": [
    "s = ' chai tanya  '"
   ]
  },
  {
   "cell_type": "code",
   "execution_count": 116,
   "id": "15750555",
   "metadata": {},
   "outputs": [
    {
     "data": {
      "text/plain": [
       "' chai tanya  '"
      ]
     },
     "execution_count": 116,
     "metadata": {},
     "output_type": "execute_result"
    }
   ],
   "source": [
    "s"
   ]
  },
  {
   "cell_type": "code",
   "execution_count": 117,
   "id": "b918388b",
   "metadata": {},
   "outputs": [
    {
     "data": {
      "text/plain": [
       "' chai tanya'"
      ]
     },
     "execution_count": 117,
     "metadata": {},
     "output_type": "execute_result"
    }
   ],
   "source": [
    "s.rstrip()  # will remove spaces from the right side of the string."
   ]
  },
  {
   "cell_type": "code",
   "execution_count": 118,
   "id": "51f531d6",
   "metadata": {},
   "outputs": [],
   "source": [
    "s = 'test1'"
   ]
  },
  {
   "cell_type": "markdown",
   "id": "ccf3d44b",
   "metadata": {},
   "source": [
    "## difference between find and index\n",
    "\n",
    "* Refer this for more clarity : https://www.geeksforgeeks.org/difference-between-find-and-index-in-python/"
   ]
  },
  {
   "cell_type": "code",
   "execution_count": 123,
   "id": "9be34d08",
   "metadata": {},
   "outputs": [
    {
     "data": {
      "text/plain": [
       "-1"
      ]
     },
     "execution_count": 123,
     "metadata": {},
     "output_type": "execute_result"
    }
   ],
   "source": [
    "s.find('2') # find() will give -1 if the element is not present"
   ]
  },
  {
   "cell_type": "code",
   "execution_count": 124,
   "id": "0f49f039",
   "metadata": {},
   "outputs": [
    {
     "ename": "ValueError",
     "evalue": "substring not found",
     "output_type": "error",
     "traceback": [
      "\u001b[1;31m---------------------------------------------------------------------------\u001b[0m",
      "\u001b[1;31mValueError\u001b[0m                                Traceback (most recent call last)",
      "\u001b[1;32m~\\AppData\\Local\\Temp/ipykernel_18120/2091062808.py\u001b[0m in \u001b[0;36m<module>\u001b[1;34m\u001b[0m\n\u001b[1;32m----> 1\u001b[1;33m \u001b[0ms\u001b[0m\u001b[1;33m.\u001b[0m\u001b[0mindex\u001b[0m\u001b[1;33m(\u001b[0m\u001b[1;34m'2'\u001b[0m\u001b[1;33m)\u001b[0m\u001b[1;33m\u001b[0m\u001b[1;33m\u001b[0m\u001b[0m\n\u001b[0m",
      "\u001b[1;31mValueError\u001b[0m: substring not found"
     ]
    }
   ],
   "source": [
    "s.index('2') # index() will throw error if the element is not present."
   ]
  },
  {
   "cell_type": "markdown",
   "id": "08710778",
   "metadata": {},
   "source": [
    "### .join()"
   ]
  },
  {
   "cell_type": "code",
   "execution_count": 129,
   "id": "42c5b0f9",
   "metadata": {},
   "outputs": [
    {
     "data": {
      "text/plain": [
       "'Welcome to Mindgraph'"
      ]
     },
     "execution_count": 129,
     "metadata": {},
     "output_type": "execute_result"
    }
   ],
   "source": [
    "\"Welcome to Mindgraph\""
   ]
  },
  {
   "cell_type": "code",
   "execution_count": 125,
   "id": "5a17307d",
   "metadata": {},
   "outputs": [
    {
     "data": {
      "text/plain": [
       "'W e l c o m e   t o   M i n d g r a p h'"
      ]
     },
     "execution_count": 125,
     "metadata": {},
     "output_type": "execute_result"
    }
   ],
   "source": [
    "' '.join(\"Welcome to Mindgraph\") # will add whatever string value specified before ., after every character inside join()"
   ]
  },
  {
   "cell_type": "code",
   "execution_count": 126,
   "id": "9653481e",
   "metadata": {},
   "outputs": [
    {
     "data": {
      "text/plain": [
       "'Wseslscsosmses stsos sMsisnsdsgsrsaspsh'"
      ]
     },
     "execution_count": 126,
     "metadata": {},
     "output_type": "execute_result"
    }
   ],
   "source": [
    "'s'.join(\"Welcome to Mindgraph\")"
   ]
  },
  {
   "cell_type": "code",
   "execution_count": 128,
   "id": "631dd77f",
   "metadata": {},
   "outputs": [
    {
     "data": {
      "text/plain": [
       "'W2e2l2c2o2m2e2 2t2o2 2M2i2n2d2g2r2a2p2h'"
      ]
     },
     "execution_count": 128,
     "metadata": {},
     "output_type": "execute_result"
    }
   ],
   "source": [
    "'2'.join(\"Welcome to Mindgraph\")"
   ]
  },
  {
   "cell_type": "code",
   "execution_count": 130,
   "id": "2b0ff27e",
   "metadata": {},
   "outputs": [
    {
     "ename": "SyntaxError",
     "evalue": "invalid syntax (Temp/ipykernel_18120/3834892417.py, line 1)",
     "output_type": "error",
     "traceback": [
      "\u001b[1;36m  File \u001b[1;32m\"C:\\Users\\Acer\\AppData\\Local\\Temp/ipykernel_18120/3834892417.py\"\u001b[1;36m, line \u001b[1;32m1\u001b[0m\n\u001b[1;33m    2.join(\"Welcome to Mindgraph\")\u001b[0m\n\u001b[1;37m       ^\u001b[0m\n\u001b[1;31mSyntaxError\u001b[0m\u001b[1;31m:\u001b[0m invalid syntax\n"
     ]
    }
   ],
   "source": [
    "2.join(\"Welcome to Mindgraph\")"
   ]
  },
  {
   "cell_type": "code",
   "execution_count": 131,
   "id": "266efbc3",
   "metadata": {},
   "outputs": [
    {
     "data": {
      "text/plain": [
       "'W2e2l2c2o2m2e2 2t2o2 2 2M2i2n2d2g2r2a2p2h'"
      ]
     },
     "execution_count": 131,
     "metadata": {},
     "output_type": "execute_result"
    }
   ],
   "source": [
    "'2'.join(\"Welcome to  Mindgraph\")"
   ]
  },
  {
   "cell_type": "markdown",
   "id": "3add73c0",
   "metadata": {},
   "source": [
    "### replace()"
   ]
  },
  {
   "cell_type": "code",
   "execution_count": 132,
   "id": "ac034346",
   "metadata": {},
   "outputs": [],
   "source": [
    "s = 'I work for Mindgraph' # original string"
   ]
  },
  {
   "cell_type": "code",
   "execution_count": 133,
   "id": "91716a11",
   "metadata": {},
   "outputs": [
    {
     "data": {
      "text/plain": [
       "'I work for ByteIQ'"
      ]
     },
     "execution_count": 133,
     "metadata": {},
     "output_type": "execute_result"
    }
   ],
   "source": [
    "# will replace the string specified in left from the original string with the string specified in right.\n",
    "s.replace('Mindgraph', 'ByteIQ') "
   ]
  },
  {
   "cell_type": "code",
   "execution_count": 134,
   "id": "275793f6",
   "metadata": {},
   "outputs": [],
   "source": [
    "s = 'ByteIQ'"
   ]
  },
  {
   "cell_type": "code",
   "execution_count": 135,
   "id": "5f4089bf",
   "metadata": {},
   "outputs": [
    {
     "data": {
      "text/plain": [
       "'ByteIQ'"
      ]
     },
     "execution_count": 135,
     "metadata": {},
     "output_type": "execute_result"
    }
   ],
   "source": [
    "s.replace('Mindgraph', 'ByteIQ') # wrong strings specified, so original string got displayed."
   ]
  },
  {
   "cell_type": "code",
   "execution_count": 137,
   "id": "b26030f7",
   "metadata": {},
   "outputs": [],
   "source": [
    "s = 'ByteIQ'"
   ]
  },
  {
   "cell_type": "code",
   "execution_count": 138,
   "id": "56633b5f",
   "metadata": {},
   "outputs": [
    {
     "data": {
      "text/plain": [
       "'Mindgraph'"
      ]
     },
     "execution_count": 138,
     "metadata": {},
     "output_type": "execute_result"
    }
   ],
   "source": [
    "s.replace('ByteIQ', 'Mindgraph')"
   ]
  },
  {
   "cell_type": "code",
   "execution_count": 139,
   "id": "7d6cd090",
   "metadata": {},
   "outputs": [
    {
     "data": {
      "text/plain": [
       "'ByteIQ'"
      ]
     },
     "execution_count": 139,
     "metadata": {},
     "output_type": "execute_result"
    }
   ],
   "source": [
    "s"
   ]
  },
  {
   "cell_type": "code",
   "execution_count": 140,
   "id": "52daeadd",
   "metadata": {},
   "outputs": [
    {
     "data": {
      "text/plain": [
       "'ByteIq'"
      ]
     },
     "execution_count": 140,
     "metadata": {},
     "output_type": "execute_result"
    }
   ],
   "source": [
    "s.replace('Q', 'q')"
   ]
  },
  {
   "cell_type": "code",
   "execution_count": 141,
   "id": "ad6a86eb",
   "metadata": {},
   "outputs": [],
   "source": [
    "s = 'I work for Mindgraph' # original string"
   ]
  },
  {
   "cell_type": "code",
   "execution_count": 142,
   "id": "4fa76701",
   "metadata": {},
   "outputs": [
    {
     "data": {
      "text/plain": [
       "'IworkforMindgraph'"
      ]
     },
     "execution_count": 142,
     "metadata": {},
     "output_type": "execute_result"
    }
   ],
   "source": [
    "s.replace(' ', '')"
   ]
  },
  {
   "cell_type": "markdown",
   "id": "e327a033",
   "metadata": {},
   "source": [
    "### appending string in the print statement"
   ]
  },
  {
   "cell_type": "code",
   "execution_count": 143,
   "id": "d2822fae",
   "metadata": {},
   "outputs": [
    {
     "name": "stdout",
     "output_type": "stream",
     "text": [
      "I work for Mindgraph\n"
     ]
    }
   ],
   "source": [
    "print('I work for Mindgraph')"
   ]
  },
  {
   "cell_type": "code",
   "execution_count": 144,
   "id": "781c7435",
   "metadata": {},
   "outputs": [
    {
     "name": "stdout",
     "output_type": "stream",
     "text": [
      "I work for Mindgraph and ByteIQ\n"
     ]
    }
   ],
   "source": [
    "print('I work for Mindgraph', 'and ByteIQ')"
   ]
  },
  {
   "cell_type": "code",
   "execution_count": 145,
   "id": "cafdca86",
   "metadata": {},
   "outputs": [],
   "source": [
    "s = 'I work for Mindgraph'"
   ]
  },
  {
   "cell_type": "code",
   "execution_count": 147,
   "id": "993d24e7",
   "metadata": {},
   "outputs": [
    {
     "data": {
      "text/plain": [
       "'I work for Mindgraph'"
      ]
     },
     "execution_count": 147,
     "metadata": {},
     "output_type": "execute_result"
    }
   ],
   "source": [
    "s"
   ]
  },
  {
   "cell_type": "code",
   "execution_count": 146,
   "id": "90eb2890",
   "metadata": {},
   "outputs": [
    {
     "name": "stdout",
     "output_type": "stream",
     "text": [
      "I work for Mindgraph and ByteIQ\n"
     ]
    }
   ],
   "source": [
    "print(s, 'and ByteIQ')"
   ]
  },
  {
   "cell_type": "markdown",
   "id": "dcb1500e",
   "metadata": {},
   "source": [
    "### shift + tab inside () to get the information/details about the fucntion"
   ]
  },
  {
   "cell_type": "markdown",
   "id": "7b79224d",
   "metadata": {},
   "source": [
    "* print(shift + tab)"
   ]
  },
  {
   "cell_type": "code",
   "execution_count": 150,
   "id": "9f3c9562",
   "metadata": {},
   "outputs": [],
   "source": [
    "s = \"Mindgraph\""
   ]
  },
  {
   "cell_type": "code",
   "execution_count": 153,
   "id": "5a11aa39",
   "metadata": {},
   "outputs": [
    {
     "data": {
      "text/plain": [
       "9"
      ]
     },
     "execution_count": 153,
     "metadata": {},
     "output_type": "execute_result"
    }
   ],
   "source": [
    "len(s)"
   ]
  },
  {
   "cell_type": "code",
   "execution_count": 151,
   "id": "c4fcb8f3",
   "metadata": {},
   "outputs": [
    {
     "data": {
      "text/plain": [
       "'cccccMindgraphcccccc'"
      ]
     },
     "execution_count": 151,
     "metadata": {},
     "output_type": "execute_result"
    }
   ],
   "source": [
    " # will get the original string to the center and add 'c' on both the sides till the new string does not reached 20 characters.\n",
    "s.center(20, 'c') # 2nd argument, where c is present should be a character, with no character or string it will fail."
   ]
  },
  {
   "cell_type": "code",
   "execution_count": 157,
   "id": "3282f8fc",
   "metadata": {},
   "outputs": [
    {
     "data": {
      "text/plain": [
       "' Mindgraph '"
      ]
     },
     "execution_count": 157,
     "metadata": {},
     "output_type": "execute_result"
    }
   ],
   "source": [
    "# will get the original string to the center and add ' ' on both the sides till the new string does not reached 11 characters.\n",
    "s.center(11, ' ') "
   ]
  },
  {
   "cell_type": "code",
   "execution_count": 154,
   "id": "fea3b169",
   "metadata": {},
   "outputs": [
    {
     "data": {
      "text/plain": [
       "'Mindgraph'"
      ]
     },
     "execution_count": 154,
     "metadata": {},
     "output_type": "execute_result"
    }
   ],
   "source": [
    "s.center(8, ' ') # if the first argument is less than the length of the string, the original string will be displayed."
   ]
  },
  {
   "cell_type": "code",
   "execution_count": 155,
   "id": "768a2d7c",
   "metadata": {},
   "outputs": [
    {
     "ename": "TypeError",
     "evalue": "The fill character must be exactly one character long",
     "output_type": "error",
     "traceback": [
      "\u001b[1;31m---------------------------------------------------------------------------\u001b[0m",
      "\u001b[1;31mTypeError\u001b[0m                                 Traceback (most recent call last)",
      "\u001b[1;32m~\\AppData\\Local\\Temp/ipykernel_18120/404212427.py\u001b[0m in \u001b[0;36m<module>\u001b[1;34m\u001b[0m\n\u001b[1;32m----> 1\u001b[1;33m \u001b[0ms\u001b[0m\u001b[1;33m.\u001b[0m\u001b[0mcenter\u001b[0m\u001b[1;33m(\u001b[0m\u001b[1;36m8\u001b[0m\u001b[1;33m,\u001b[0m \u001b[1;34m' q'\u001b[0m\u001b[1;33m)\u001b[0m\u001b[1;33m\u001b[0m\u001b[1;33m\u001b[0m\u001b[0m\n\u001b[0m",
      "\u001b[1;31mTypeError\u001b[0m: The fill character must be exactly one character long"
     ]
    }
   ],
   "source": [
    "s.center(8, ' q') # must be a character, ' ' + 'q' is a string ' q'"
   ]
  },
  {
   "cell_type": "markdown",
   "id": "0f9d8523",
   "metadata": {},
   "source": [
    "### expandtabs()"
   ]
  },
  {
   "cell_type": "code",
   "execution_count": 159,
   "id": "aeab85f5",
   "metadata": {},
   "outputs": [],
   "source": [
    "#'\\t' is a tab symbol"
   ]
  },
  {
   "cell_type": "code",
   "execution_count": 160,
   "id": "07857109",
   "metadata": {},
   "outputs": [
    {
     "data": {
      "text/plain": [
       "'ByteIQ\\tMindgraph'"
      ]
     },
     "execution_count": 160,
     "metadata": {},
     "output_type": "execute_result"
    }
   ],
   "source": [
    "'ByteIQ\\tMindgraph' # is a string with '\\t' in between."
   ]
  },
  {
   "cell_type": "code",
   "execution_count": 158,
   "id": "a68e0ac0",
   "metadata": {},
   "outputs": [
    {
     "data": {
      "text/plain": [
       "'ByteIQ  Mindgraph'"
      ]
     },
     "execution_count": 158,
     "metadata": {},
     "output_type": "execute_result"
    }
   ],
   "source": [
    "'ByteIQ\\tMindgraph'.expandtabs()"
   ]
  },
  {
   "cell_type": "code",
   "execution_count": 162,
   "id": "1be10be3",
   "metadata": {},
   "outputs": [
    {
     "data": {
      "text/plain": [
       "'ByteIQ                  Mindgraph'"
      ]
     },
     "execution_count": 162,
     "metadata": {},
     "output_type": "execute_result"
    }
   ],
   "source": [
    "'ByteIQ\\t\\t\\tMindgraph'.expandtabs()"
   ]
  },
  {
   "cell_type": "code",
   "execution_count": 163,
   "id": "12d3ef4e",
   "metadata": {},
   "outputs": [],
   "source": [
    "s = ' '"
   ]
  },
  {
   "cell_type": "code",
   "execution_count": 200,
   "id": "03a54578",
   "metadata": {},
   "outputs": [
    {
     "data": {
      "text/plain": [
       "1"
      ]
     },
     "execution_count": 200,
     "metadata": {},
     "output_type": "execute_result"
    }
   ],
   "source": [
    "len(s)"
   ]
  },
  {
   "cell_type": "code",
   "execution_count": 206,
   "id": "b7996d9a",
   "metadata": {},
   "outputs": [
    {
     "data": {
      "text/plain": [
       "1"
      ]
     },
     "execution_count": 206,
     "metadata": {},
     "output_type": "execute_result"
    }
   ],
   "source": [
    "len('\\t') # '\\' is ignored, so length of t is 1"
   ]
  },
  {
   "cell_type": "code",
   "execution_count": 207,
   "id": "4aac0ad5",
   "metadata": {},
   "outputs": [
    {
     "data": {
      "text/plain": [
       "1"
      ]
     },
     "execution_count": 207,
     "metadata": {},
     "output_type": "execute_result"
    }
   ],
   "source": [
    "len('t') # length of t is 1"
   ]
  },
  {
   "cell_type": "code",
   "execution_count": 208,
   "id": "2cd24f49",
   "metadata": {},
   "outputs": [
    {
     "ename": "SyntaxError",
     "evalue": "EOL while scanning string literal (Temp/ipykernel_18120/2185153787.py, line 1)",
     "output_type": "error",
     "traceback": [
      "\u001b[1;36m  File \u001b[1;32m\"C:\\Users\\Acer\\AppData\\Local\\Temp/ipykernel_18120/2185153787.py\"\u001b[1;36m, line \u001b[1;32m1\u001b[0m\n\u001b[1;33m    len('\\')\u001b[0m\n\u001b[1;37m            ^\u001b[0m\n\u001b[1;31mSyntaxError\u001b[0m\u001b[1;31m:\u001b[0m EOL while scanning string literal\n"
     ]
    }
   ],
   "source": [
    "# not taking as character\n",
    "len('\\')"
   ]
  },
  {
   "cell_type": "code",
   "execution_count": 204,
   "id": "482cd64e",
   "metadata": {},
   "outputs": [
    {
     "data": {
      "text/plain": [
       "8"
      ]
     },
     "execution_count": 204,
     "metadata": {},
     "output_type": "execute_result"
    }
   ],
   "source": [
    "len(et) # by default tab size is it."
   ]
  },
  {
   "cell_type": "markdown",
   "id": "c91d0f76",
   "metadata": {},
   "source": [
    "### isupper()"
   ]
  },
  {
   "cell_type": "code",
   "execution_count": 209,
   "id": "3c7456da",
   "metadata": {},
   "outputs": [],
   "source": [
    "s = 'chaitanya'"
   ]
  },
  {
   "cell_type": "code",
   "execution_count": 210,
   "id": "dde5cc2b",
   "metadata": {},
   "outputs": [
    {
     "data": {
      "text/plain": [
       "False"
      ]
     },
     "execution_count": 210,
     "metadata": {},
     "output_type": "execute_result"
    }
   ],
   "source": [
    "# will detect if the string is completely in upper case or not, and will retrun a boolean(TRUE/FALSE) value accordingly.\n",
    "s.isupper() "
   ]
  },
  {
   "cell_type": "code",
   "execution_count": 211,
   "id": "298417f6",
   "metadata": {},
   "outputs": [],
   "source": [
    "s = 'Chaitanya'"
   ]
  },
  {
   "cell_type": "code",
   "execution_count": 212,
   "id": "7c698dc5",
   "metadata": {},
   "outputs": [
    {
     "data": {
      "text/plain": [
       "False"
      ]
     },
     "execution_count": 212,
     "metadata": {},
     "output_type": "execute_result"
    }
   ],
   "source": [
    "s.isupper()"
   ]
  },
  {
   "cell_type": "code",
   "execution_count": 213,
   "id": "5b948681",
   "metadata": {},
   "outputs": [],
   "source": [
    "s = 'CHAITANYA'"
   ]
  },
  {
   "cell_type": "code",
   "execution_count": 214,
   "id": "eff70edc",
   "metadata": {},
   "outputs": [
    {
     "data": {
      "text/plain": [
       "True"
      ]
     },
     "execution_count": 214,
     "metadata": {},
     "output_type": "execute_result"
    }
   ],
   "source": [
    "s.isupper()"
   ]
  },
  {
   "cell_type": "markdown",
   "id": "8e55e23d",
   "metadata": {},
   "source": [
    "### islower()"
   ]
  },
  {
   "cell_type": "code",
   "execution_count": 216,
   "id": "3f387821",
   "metadata": {},
   "outputs": [],
   "source": [
    "s = 'chaitanyA'"
   ]
  },
  {
   "cell_type": "code",
   "execution_count": 217,
   "id": "eb05651f",
   "metadata": {},
   "outputs": [
    {
     "data": {
      "text/plain": [
       "False"
      ]
     },
     "execution_count": 217,
     "metadata": {},
     "output_type": "execute_result"
    }
   ],
   "source": [
    "# will detect if the string is completely in lowercase case or not, and will retrun a boolean(TRUE/FALSE) value accordingly.\n",
    "s.islower()"
   ]
  },
  {
   "cell_type": "code",
   "execution_count": 218,
   "id": "55566985",
   "metadata": {},
   "outputs": [],
   "source": [
    "s = 'chaitanya'"
   ]
  },
  {
   "cell_type": "code",
   "execution_count": 219,
   "id": "86e62a5d",
   "metadata": {},
   "outputs": [
    {
     "data": {
      "text/plain": [
       "True"
      ]
     },
     "execution_count": 219,
     "metadata": {},
     "output_type": "execute_result"
    }
   ],
   "source": [
    "s.islower()"
   ]
  },
  {
   "cell_type": "code",
   "execution_count": 221,
   "id": "130c34bf",
   "metadata": {},
   "outputs": [],
   "source": [
    "s = 'Chaitanya'"
   ]
  },
  {
   "cell_type": "code",
   "execution_count": 222,
   "id": "26e8c457",
   "metadata": {},
   "outputs": [
    {
     "data": {
      "text/plain": [
       "False"
      ]
     },
     "execution_count": 222,
     "metadata": {},
     "output_type": "execute_result"
    }
   ],
   "source": [
    "s.islower()"
   ]
  },
  {
   "cell_type": "markdown",
   "id": "3e19d237",
   "metadata": {},
   "source": [
    "### isspace()"
   ]
  },
  {
   "cell_type": "markdown",
   "id": "fbce4735",
   "metadata": {},
   "source": [
    "* for spaces before, after and inbetween string it will be false.\n",
    "* will work only with ' '"
   ]
  },
  {
   "cell_type": "code",
   "execution_count": 223,
   "id": "03e744e7",
   "metadata": {},
   "outputs": [],
   "source": [
    "s = ' Mind Graph '"
   ]
  },
  {
   "cell_type": "code",
   "execution_count": 224,
   "id": "d5becf44",
   "metadata": {},
   "outputs": [
    {
     "data": {
      "text/plain": [
       "False"
      ]
     },
     "execution_count": 224,
     "metadata": {},
     "output_type": "execute_result"
    }
   ],
   "source": [
    "s.isspace()"
   ]
  },
  {
   "cell_type": "code",
   "execution_count": 225,
   "id": "2c71325b",
   "metadata": {},
   "outputs": [],
   "source": [
    "s = ' MindGraph'"
   ]
  },
  {
   "cell_type": "code",
   "execution_count": 226,
   "id": "e556d746",
   "metadata": {},
   "outputs": [
    {
     "data": {
      "text/plain": [
       "False"
      ]
     },
     "execution_count": 226,
     "metadata": {},
     "output_type": "execute_result"
    }
   ],
   "source": [
    "s.isspace()"
   ]
  },
  {
   "cell_type": "code",
   "execution_count": 227,
   "id": "c4b8cad8",
   "metadata": {},
   "outputs": [],
   "source": [
    "s = ' ' # will only work for this statement"
   ]
  },
  {
   "cell_type": "code",
   "execution_count": 228,
   "id": "dc48a01a",
   "metadata": {},
   "outputs": [
    {
     "data": {
      "text/plain": [
       "True"
      ]
     },
     "execution_count": 228,
     "metadata": {},
     "output_type": "execute_result"
    }
   ],
   "source": [
    "s.isspace()"
   ]
  },
  {
   "cell_type": "markdown",
   "id": "b414ebfa",
   "metadata": {},
   "source": [
    "### Open Account in https://www.typing.com/ and Take 3, 5 minutes test regularly"
   ]
  },
  {
   "cell_type": "markdown",
   "id": "edb6d408",
   "metadata": {},
   "source": [
    "### isdigit()"
   ]
  },
  {
   "cell_type": "code",
   "execution_count": 230,
   "id": "38c73fd6",
   "metadata": {},
   "outputs": [],
   "source": [
    "d = '123yhdyudhye'"
   ]
  },
  {
   "cell_type": "code",
   "execution_count": 231,
   "id": "358ed01e",
   "metadata": {},
   "outputs": [
    {
     "data": {
      "text/plain": [
       "False"
      ]
     },
     "execution_count": 231,
     "metadata": {},
     "output_type": "execute_result"
    }
   ],
   "source": [
    "d.isdigit()"
   ]
  },
  {
   "cell_type": "code",
   "execution_count": 234,
   "id": "a3274682",
   "metadata": {},
   "outputs": [],
   "source": [
    "d = '23'"
   ]
  },
  {
   "cell_type": "code",
   "execution_count": 233,
   "id": "f8b59082",
   "metadata": {},
   "outputs": [
    {
     "data": {
      "text/plain": [
       "True"
      ]
     },
     "execution_count": 233,
     "metadata": {},
     "output_type": "execute_result"
    }
   ],
   "source": [
    "d.isdigit()"
   ]
  },
  {
   "cell_type": "code",
   "execution_count": 235,
   "id": "14c83151",
   "metadata": {},
   "outputs": [],
   "source": [
    "d = 23"
   ]
  },
  {
   "cell_type": "code",
   "execution_count": 236,
   "id": "b85b4dd3",
   "metadata": {},
   "outputs": [
    {
     "ename": "AttributeError",
     "evalue": "'int' object has no attribute 'isdigit'",
     "output_type": "error",
     "traceback": [
      "\u001b[1;31m---------------------------------------------------------------------------\u001b[0m",
      "\u001b[1;31mAttributeError\u001b[0m                            Traceback (most recent call last)",
      "\u001b[1;32m~\\AppData\\Local\\Temp/ipykernel_18120/1226673045.py\u001b[0m in \u001b[0;36m<module>\u001b[1;34m\u001b[0m\n\u001b[1;32m----> 1\u001b[1;33m \u001b[0md\u001b[0m\u001b[1;33m.\u001b[0m\u001b[0misdigit\u001b[0m\u001b[1;33m(\u001b[0m\u001b[1;33m)\u001b[0m\u001b[1;33m\u001b[0m\u001b[1;33m\u001b[0m\u001b[0m\n\u001b[0m",
      "\u001b[1;31mAttributeError\u001b[0m: 'int' object has no attribute 'isdigit'"
     ]
    }
   ],
   "source": [
    "d.isdigit() # isdigit() is a string function."
   ]
  },
  {
   "cell_type": "code",
   "execution_count": 243,
   "id": "34da170e",
   "metadata": {},
   "outputs": [],
   "source": [
    "d = '547' + str(ord('8'))"
   ]
  },
  {
   "cell_type": "code",
   "execution_count": 246,
   "id": "4a3675fc",
   "metadata": {},
   "outputs": [
    {
     "data": {
      "text/plain": [
       "56"
      ]
     },
     "execution_count": 246,
     "metadata": {},
     "output_type": "execute_result"
    }
   ],
   "source": [
    "ord('8') "
   ]
  },
  {
   "cell_type": "code",
   "execution_count": 245,
   "id": "1eb05141",
   "metadata": {},
   "outputs": [
    {
     "data": {
      "text/plain": [
       "'56'"
      ]
     },
     "execution_count": 245,
     "metadata": {},
     "output_type": "execute_result"
    }
   ],
   "source": [
    "str(ord('8'))"
   ]
  },
  {
   "cell_type": "code",
   "execution_count": 244,
   "id": "9d00551c",
   "metadata": {},
   "outputs": [
    {
     "data": {
      "text/plain": [
       "True"
      ]
     },
     "execution_count": 244,
     "metadata": {},
     "output_type": "execute_result"
    }
   ],
   "source": [
    "d.isdigit()"
   ]
  },
  {
   "cell_type": "markdown",
   "id": "d432e0c2",
   "metadata": {},
   "source": [
    "### startswith()"
   ]
  },
  {
   "cell_type": "code",
   "execution_count": 247,
   "id": "1dcc567f",
   "metadata": {},
   "outputs": [],
   "source": [
    "s = '4sgsudiewbdwugefc'"
   ]
  },
  {
   "cell_type": "code",
   "execution_count": 248,
   "id": "b1d3e1ac",
   "metadata": {},
   "outputs": [
    {
     "data": {
      "text/plain": [
       "False"
      ]
     },
     "execution_count": 248,
     "metadata": {},
     "output_type": "execute_result"
    }
   ],
   "source": [
    "s.startswith('s') # will check if the first character of the string is starting with the specified argument or not."
   ]
  },
  {
   "cell_type": "code",
   "execution_count": 249,
   "id": "eb7eada3",
   "metadata": {},
   "outputs": [
    {
     "ename": "TypeError",
     "evalue": "startswith first arg must be str or a tuple of str, not int",
     "output_type": "error",
     "traceback": [
      "\u001b[1;31m---------------------------------------------------------------------------\u001b[0m",
      "\u001b[1;31mTypeError\u001b[0m                                 Traceback (most recent call last)",
      "\u001b[1;32m~\\AppData\\Local\\Temp/ipykernel_18120/3559679510.py\u001b[0m in \u001b[0;36m<module>\u001b[1;34m\u001b[0m\n\u001b[1;32m----> 1\u001b[1;33m \u001b[0ms\u001b[0m\u001b[1;33m.\u001b[0m\u001b[0mstartswith\u001b[0m\u001b[1;33m(\u001b[0m\u001b[1;36m4\u001b[0m\u001b[1;33m)\u001b[0m\u001b[1;33m\u001b[0m\u001b[1;33m\u001b[0m\u001b[0m\n\u001b[0m",
      "\u001b[1;31mTypeError\u001b[0m: startswith first arg must be str or a tuple of str, not int"
     ]
    }
   ],
   "source": [
    "s.startswith(4) # these are string operations and do not take any other values as input"
   ]
  },
  {
   "cell_type": "code",
   "execution_count": 250,
   "id": "d0b3f89c",
   "metadata": {},
   "outputs": [
    {
     "data": {
      "text/plain": [
       "True"
      ]
     },
     "execution_count": 250,
     "metadata": {},
     "output_type": "execute_result"
    }
   ],
   "source": [
    "s.startswith('4')"
   ]
  },
  {
   "cell_type": "markdown",
   "id": "6cab23c1",
   "metadata": {},
   "source": [
    "### endswith()"
   ]
  },
  {
   "cell_type": "code",
   "execution_count": 251,
   "id": "b02cd02b",
   "metadata": {},
   "outputs": [
    {
     "data": {
      "text/plain": [
       "'4sgsudiewbdwugefc'"
      ]
     },
     "execution_count": 251,
     "metadata": {},
     "output_type": "execute_result"
    }
   ],
   "source": [
    "s"
   ]
  },
  {
   "cell_type": "code",
   "execution_count": 252,
   "id": "5d6fd66b",
   "metadata": {},
   "outputs": [
    {
     "data": {
      "text/plain": [
       "True"
      ]
     },
     "execution_count": 252,
     "metadata": {},
     "output_type": "execute_result"
    }
   ],
   "source": [
    "s.endswith('c') # will check if the last character of the string is starting with the specified argument or not."
   ]
  },
  {
   "cell_type": "code",
   "execution_count": 253,
   "id": "097d59c7",
   "metadata": {},
   "outputs": [
    {
     "data": {
      "text/plain": [
       "False"
      ]
     },
     "execution_count": 253,
     "metadata": {},
     "output_type": "execute_result"
    }
   ],
   "source": [
    "s.endswith('g')"
   ]
  },
  {
   "cell_type": "markdown",
   "id": "f221c570",
   "metadata": {},
   "source": [
    "### isalpha()"
   ]
  },
  {
   "cell_type": "code",
   "execution_count": 254,
   "id": "02886a6e",
   "metadata": {},
   "outputs": [],
   "source": [
    "s = 'a'"
   ]
  },
  {
   "cell_type": "code",
   "execution_count": 255,
   "id": "c3329920",
   "metadata": {},
   "outputs": [
    {
     "data": {
      "text/plain": [
       "True"
      ]
     },
     "execution_count": 255,
     "metadata": {},
     "output_type": "execute_result"
    }
   ],
   "source": [
    "s.isalpha()"
   ]
  },
  {
   "cell_type": "code",
   "execution_count": null,
   "id": "fddac3e8",
   "metadata": {},
   "outputs": [],
   "source": [
    "s = 'A'"
   ]
  },
  {
   "cell_type": "code",
   "execution_count": 256,
   "id": "225aa8f7",
   "metadata": {},
   "outputs": [
    {
     "data": {
      "text/plain": [
       "True"
      ]
     },
     "execution_count": 256,
     "metadata": {},
     "output_type": "execute_result"
    }
   ],
   "source": [
    "s.isalpha()"
   ]
  },
  {
   "cell_type": "code",
   "execution_count": 257,
   "id": "f22003dc",
   "metadata": {},
   "outputs": [],
   "source": [
    "s = 'QA'"
   ]
  },
  {
   "cell_type": "code",
   "execution_count": 258,
   "id": "70c84e25",
   "metadata": {},
   "outputs": [
    {
     "data": {
      "text/plain": [
       "True"
      ]
     },
     "execution_count": 258,
     "metadata": {},
     "output_type": "execute_result"
    }
   ],
   "source": [
    "s.isalpha()"
   ]
  },
  {
   "cell_type": "code",
   "execution_count": 259,
   "id": "0d78a93c",
   "metadata": {},
   "outputs": [],
   "source": [
    "s = 'QA8'"
   ]
  },
  {
   "cell_type": "code",
   "execution_count": 260,
   "id": "ed1fd610",
   "metadata": {},
   "outputs": [
    {
     "data": {
      "text/plain": [
       "False"
      ]
     },
     "execution_count": 260,
     "metadata": {},
     "output_type": "execute_result"
    }
   ],
   "source": [
    "s.isalpha()"
   ]
  },
  {
   "cell_type": "markdown",
   "id": "1d028cae",
   "metadata": {},
   "source": [
    "### isalnum()"
   ]
  },
  {
   "cell_type": "code",
   "execution_count": 261,
   "id": "17f4bd59",
   "metadata": {},
   "outputs": [
    {
     "data": {
      "text/plain": [
       "'QA8'"
      ]
     },
     "execution_count": 261,
     "metadata": {},
     "output_type": "execute_result"
    }
   ],
   "source": [
    "s"
   ]
  },
  {
   "cell_type": "code",
   "execution_count": 262,
   "id": "10b99910",
   "metadata": {},
   "outputs": [
    {
     "data": {
      "text/plain": [
       "True"
      ]
     },
     "execution_count": 262,
     "metadata": {},
     "output_type": "execute_result"
    }
   ],
   "source": [
    "s.isalnum()"
   ]
  },
  {
   "cell_type": "code",
   "execution_count": 263,
   "id": "efc5a6ca",
   "metadata": {},
   "outputs": [],
   "source": [
    "s = True"
   ]
  },
  {
   "cell_type": "code",
   "execution_count": 264,
   "id": "cf8e2eec",
   "metadata": {},
   "outputs": [
    {
     "ename": "AttributeError",
     "evalue": "'bool' object has no attribute 'isalnum'",
     "output_type": "error",
     "traceback": [
      "\u001b[1;31m---------------------------------------------------------------------------\u001b[0m",
      "\u001b[1;31mAttributeError\u001b[0m                            Traceback (most recent call last)",
      "\u001b[1;32m~\\AppData\\Local\\Temp/ipykernel_18120/4183204920.py\u001b[0m in \u001b[0;36m<module>\u001b[1;34m\u001b[0m\n\u001b[1;32m----> 1\u001b[1;33m \u001b[0ms\u001b[0m\u001b[1;33m.\u001b[0m\u001b[0misalnum\u001b[0m\u001b[1;33m(\u001b[0m\u001b[1;33m)\u001b[0m\u001b[1;33m\u001b[0m\u001b[1;33m\u001b[0m\u001b[0m\n\u001b[0m",
      "\u001b[1;31mAttributeError\u001b[0m: 'bool' object has no attribute 'isalnum'"
     ]
    }
   ],
   "source": [
    "s.isalnum() # we are working with string functions"
   ]
  },
  {
   "cell_type": "code",
   "execution_count": 265,
   "id": "1742a1cc",
   "metadata": {},
   "outputs": [],
   "source": [
    "s = '804167thjkffbgreajkgfr'"
   ]
  },
  {
   "cell_type": "code",
   "execution_count": 266,
   "id": "c7dde9d5",
   "metadata": {},
   "outputs": [
    {
     "data": {
      "text/plain": [
       "True"
      ]
     },
     "execution_count": 266,
     "metadata": {},
     "output_type": "execute_result"
    }
   ],
   "source": [
    "s.isalnum()"
   ]
  }
 ],
 "metadata": {
  "kernelspec": {
   "display_name": "Python 3 (ipykernel)",
   "language": "python",
   "name": "python3"
  },
  "language_info": {
   "codemirror_mode": {
    "name": "ipython",
    "version": 3
   },
   "file_extension": ".py",
   "mimetype": "text/x-python",
   "name": "python",
   "nbconvert_exporter": "python",
   "pygments_lexer": "ipython3",
   "version": "3.9.7"
  }
 },
 "nbformat": 4,
 "nbformat_minor": 5
}
