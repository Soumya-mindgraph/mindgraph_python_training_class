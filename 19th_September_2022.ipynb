{
 "cells": [
  {
   "cell_type": "markdown",
   "id": "bbebd2c5",
   "metadata": {},
   "source": [
    "# Inbuilt functions of lists and strings"
   ]
  },
  {
   "cell_type": "code",
   "execution_count": 1,
   "id": "5b3800cc",
   "metadata": {},
   "outputs": [],
   "source": [
    "s = 'Mindgraph'"
   ]
  },
  {
   "cell_type": "code",
   "execution_count": 3,
   "id": "4d32ce0f",
   "metadata": {},
   "outputs": [
    {
     "data": {
      "text/plain": [
       "9"
      ]
     },
     "execution_count": 3,
     "metadata": {},
     "output_type": "execute_result"
    }
   ],
   "source": [
    "len(s) # calculates the length of the string"
   ]
  },
  {
   "cell_type": "code",
   "execution_count": 7,
   "id": "d0f72327",
   "metadata": {},
   "outputs": [],
   "source": [
    "s = 'Mind     graph' # string with spaces"
   ]
  },
  {
   "cell_type": "code",
   "execution_count": 8,
   "id": "6f41813a",
   "metadata": {
    "scrolled": true
   },
   "outputs": [
    {
     "data": {
      "text/plain": [
       "14"
      ]
     },
     "execution_count": 8,
     "metadata": {},
     "output_type": "execute_result"
    }
   ],
   "source": [
    "len(s)"
   ]
  },
  {
   "cell_type": "code",
   "execution_count": 9,
   "id": "5646b53b",
   "metadata": {},
   "outputs": [],
   "source": [
    "s = 'Mindgraph'"
   ]
  },
  {
   "cell_type": "markdown",
   "id": "a234ab11",
   "metadata": {},
   "source": [
    "### find()"
   ]
  },
  {
   "cell_type": "code",
   "execution_count": 10,
   "id": "22db0a97",
   "metadata": {},
   "outputs": [
    {
     "data": {
      "text/plain": [
       "4"
      ]
     },
     "execution_count": 10,
     "metadata": {},
     "output_type": "execute_result"
    }
   ],
   "source": [
    "s.find('g') # find - displays the index number of the character"
   ]
  },
  {
   "cell_type": "code",
   "execution_count": 11,
   "id": "f3c87a39",
   "metadata": {},
   "outputs": [],
   "source": [
    "s = 'Cuttack'"
   ]
  },
  {
   "cell_type": "code",
   "execution_count": 12,
   "id": "b1c40b4f",
   "metadata": {},
   "outputs": [
    {
     "data": {
      "text/plain": [
       "2"
      ]
     },
     "execution_count": 12,
     "metadata": {},
     "output_type": "execute_result"
    }
   ],
   "source": [
    "s.find('t') #  't' is present in both index 2 and index 3. find() will give the first occurence of the element."
   ]
  },
  {
   "cell_type": "code",
   "execution_count": 13,
   "id": "664083a0",
   "metadata": {},
   "outputs": [
    {
     "data": {
      "text/plain": [
       "'Cuttack'"
      ]
     },
     "execution_count": 13,
     "metadata": {},
     "output_type": "execute_result"
    }
   ],
   "source": [
    "s"
   ]
  },
  {
   "cell_type": "code",
   "execution_count": 14,
   "id": "77418bba",
   "metadata": {},
   "outputs": [
    {
     "data": {
      "text/plain": [
       "-1"
      ]
     },
     "execution_count": 14,
     "metadata": {},
     "output_type": "execute_result"
    }
   ],
   "source": [
    "s.find('s')  # if the element is not available, it gives -1 by default."
   ]
  },
  {
   "cell_type": "code",
   "execution_count": 15,
   "id": "0d9de2f8",
   "metadata": {},
   "outputs": [
    {
     "data": {
      "text/plain": [
       "'Cuttack'"
      ]
     },
     "execution_count": 15,
     "metadata": {},
     "output_type": "execute_result"
    }
   ],
   "source": [
    "s "
   ]
  },
  {
   "cell_type": "code",
   "execution_count": 16,
   "id": "aebadc44",
   "metadata": {},
   "outputs": [
    {
     "data": {
      "text/plain": [
       "1"
      ]
     },
     "execution_count": 16,
     "metadata": {},
     "output_type": "execute_result"
    }
   ],
   "source": [
    "# even if there are n number of characters, find() will display the index of the first character of the string mentioned.\n",
    "s.find('ut')"
   ]
  },
  {
   "cell_type": "markdown",
   "id": "dcc18450",
   "metadata": {},
   "source": [
    "### count()"
   ]
  },
  {
   "cell_type": "code",
   "execution_count": 17,
   "id": "22088cb1",
   "metadata": {},
   "outputs": [
    {
     "data": {
      "text/plain": [
       "'Cuttack'"
      ]
     },
     "execution_count": 17,
     "metadata": {},
     "output_type": "execute_result"
    }
   ],
   "source": [
    "s"
   ]
  },
  {
   "cell_type": "code",
   "execution_count": 18,
   "id": "28fc0d9c",
   "metadata": {},
   "outputs": [
    {
     "data": {
      "text/plain": [
       "2"
      ]
     },
     "execution_count": 18,
     "metadata": {},
     "output_type": "execute_result"
    }
   ],
   "source": [
    "s.count('t') # counts the number of occurence of a character in a string"
   ]
  },
  {
   "cell_type": "code",
   "execution_count": 19,
   "id": "41c7ae3f",
   "metadata": {},
   "outputs": [
    {
     "data": {
      "text/plain": [
       "0"
      ]
     },
     "execution_count": 19,
     "metadata": {},
     "output_type": "execute_result"
    }
   ],
   "source": [
    "s.count('b') # if the element is not present in the string, by default it will display 0."
   ]
  },
  {
   "cell_type": "code",
   "execution_count": 20,
   "id": "9bfe1791",
   "metadata": {},
   "outputs": [
    {
     "data": {
      "text/plain": [
       "1"
      ]
     },
     "execution_count": 20,
     "metadata": {},
     "output_type": "execute_result"
    }
   ],
   "source": [
    "s.count('a')"
   ]
  },
  {
   "cell_type": "markdown",
   "id": "7f20427c",
   "metadata": {},
   "source": [
    "### split()"
   ]
  },
  {
   "cell_type": "code",
   "execution_count": 21,
   "id": "e8fc4de7",
   "metadata": {},
   "outputs": [],
   "source": [
    "s = 'My name is soumya bisoyi'"
   ]
  },
  {
   "cell_type": "code",
   "execution_count": 22,
   "id": "7b2eaad6",
   "metadata": {},
   "outputs": [
    {
     "data": {
      "text/plain": [
       "['My', 'name', 'is', 'soumya', 'bisoyi']"
      ]
     },
     "execution_count": 22,
     "metadata": {},
     "output_type": "execute_result"
    }
   ],
   "source": [
    "s.split(' ') # will separate the strings, based on the character or string specified and will put them into a list."
   ]
  },
  {
   "cell_type": "code",
   "execution_count": 23,
   "id": "3853d0ff",
   "metadata": {},
   "outputs": [],
   "source": [
    "s = 'My,name,is,soumya,bisoyi'"
   ]
  },
  {
   "cell_type": "code",
   "execution_count": 24,
   "id": "537812f0",
   "metadata": {},
   "outputs": [
    {
     "data": {
      "text/plain": [
       "['My', 'name', 'is', 'soumya', 'bisoyi']"
      ]
     },
     "execution_count": 24,
     "metadata": {},
     "output_type": "execute_result"
    }
   ],
   "source": [
    "s.split(',')"
   ]
  },
  {
   "cell_type": "code",
   "execution_count": 33,
   "id": "8321495c",
   "metadata": {},
   "outputs": [],
   "source": [
    "s = 'Myznameziszsoumyazbisoyi'"
   ]
  },
  {
   "cell_type": "code",
   "execution_count": 34,
   "id": "9f5ea030",
   "metadata": {},
   "outputs": [
    {
     "data": {
      "text/plain": [
       "['My', 'name', 'is', 'soumya', 'bisoyi']"
      ]
     },
     "execution_count": 34,
     "metadata": {},
     "output_type": "execute_result"
    }
   ],
   "source": [
    "s.split('z')"
   ]
  },
  {
   "cell_type": "code",
   "execution_count": 35,
   "id": "1eb8fb65",
   "metadata": {},
   "outputs": [],
   "source": [
    "s = 'WeareMindgraphByteIQ'"
   ]
  },
  {
   "cell_type": "code",
   "execution_count": 36,
   "id": "95570a29",
   "metadata": {},
   "outputs": [
    {
     "data": {
      "text/plain": [
       "['W', 'ar', 'MindgraphByt', 'IQ']"
      ]
     },
     "execution_count": 36,
     "metadata": {},
     "output_type": "execute_result"
    }
   ],
   "source": [
    "s.split('e')"
   ]
  },
  {
   "cell_type": "markdown",
   "id": "73a8133f",
   "metadata": {},
   "source": [
    "### upper()"
   ]
  },
  {
   "cell_type": "code",
   "execution_count": 37,
   "id": "f15f342a",
   "metadata": {},
   "outputs": [],
   "source": [
    "s = 'Mindgraph' "
   ]
  },
  {
   "cell_type": "code",
   "execution_count": 38,
   "id": "313e73e5",
   "metadata": {},
   "outputs": [
    {
     "data": {
      "text/plain": [
       "'MINDGRAPH'"
      ]
     },
     "execution_count": 38,
     "metadata": {},
     "output_type": "execute_result"
    }
   ],
   "source": [
    "s.upper() # will give the output in upper case"
   ]
  },
  {
   "cell_type": "code",
   "execution_count": 39,
   "id": "e112c597",
   "metadata": {},
   "outputs": [],
   "source": [
    "s = 'mIndGRAph'"
   ]
  },
  {
   "cell_type": "code",
   "execution_count": 40,
   "id": "27375367",
   "metadata": {},
   "outputs": [
    {
     "data": {
      "text/plain": [
       "'MINDGRAPH'"
      ]
     },
     "execution_count": 40,
     "metadata": {},
     "output_type": "execute_result"
    }
   ],
   "source": [
    "s.upper()"
   ]
  },
  {
   "cell_type": "markdown",
   "id": "3a15fbbd",
   "metadata": {},
   "source": [
    "### lower()"
   ]
  },
  {
   "cell_type": "code",
   "execution_count": 42,
   "id": "087f9cd5",
   "metadata": {},
   "outputs": [],
   "source": [
    "s = 'ByteIQ' "
   ]
  },
  {
   "cell_type": "code",
   "execution_count": 43,
   "id": "d761ac47",
   "metadata": {},
   "outputs": [
    {
     "data": {
      "text/plain": [
       "'byteiq'"
      ]
     },
     "execution_count": 43,
     "metadata": {},
     "output_type": "execute_result"
    }
   ],
   "source": [
    "s.lower() # will give the output in lower case"
   ]
  },
  {
   "cell_type": "code",
   "execution_count": 44,
   "id": "803f1972",
   "metadata": {},
   "outputs": [],
   "source": [
    "s = 'byteiQ'"
   ]
  },
  {
   "cell_type": "code",
   "execution_count": 45,
   "id": "fe12f081",
   "metadata": {},
   "outputs": [
    {
     "data": {
      "text/plain": [
       "'byteiq'"
      ]
     },
     "execution_count": 45,
     "metadata": {},
     "output_type": "execute_result"
    }
   ],
   "source": [
    "s.lower()"
   ]
  },
  {
   "cell_type": "code",
   "execution_count": 46,
   "id": "1ce20bfc",
   "metadata": {},
   "outputs": [],
   "source": [
    "s = 'byteiQ'"
   ]
  },
  {
   "cell_type": "code",
   "execution_count": 68,
   "id": "f47a9a75",
   "metadata": {},
   "outputs": [
    {
     "name": "stdout",
     "output_type": "stream",
     "text": [
      "ByteiQ\n"
     ]
    }
   ],
   "source": [
    "ns = ''\n",
    "for i in s:\n",
    "    if i == 'b':\n",
    "        ns = ns + i.upper()\n",
    "    else:\n",
    "        ns = ns + i\n",
    "print(ns)"
   ]
  },
  {
   "cell_type": "markdown",
   "id": "f92fa6e4",
   "metadata": {},
   "source": [
    "### swapcase()"
   ]
  },
  {
   "cell_type": "code",
   "execution_count": 69,
   "id": "8d2ab837",
   "metadata": {},
   "outputs": [],
   "source": [
    "s = 'Mindgraph' # will reverse the cases, upper to lower, and lower to upper."
   ]
  },
  {
   "cell_type": "code",
   "execution_count": 71,
   "id": "bd04fc86",
   "metadata": {},
   "outputs": [
    {
     "data": {
      "text/plain": [
       "'mINDGRAPH'"
      ]
     },
     "execution_count": 71,
     "metadata": {},
     "output_type": "execute_result"
    }
   ],
   "source": [
    "s.swapcase()"
   ]
  },
  {
   "cell_type": "code",
   "execution_count": 72,
   "id": "9b1bb489",
   "metadata": {},
   "outputs": [],
   "source": [
    "s = 'ByteIQ'"
   ]
  },
  {
   "cell_type": "code",
   "execution_count": 73,
   "id": "2e44a3ff",
   "metadata": {},
   "outputs": [
    {
     "data": {
      "text/plain": [
       "'bYTEiq'"
      ]
     },
     "execution_count": 73,
     "metadata": {},
     "output_type": "execute_result"
    }
   ],
   "source": [
    "s.swapcase()"
   ]
  },
  {
   "cell_type": "markdown",
   "id": "48777cc6",
   "metadata": {},
   "source": [
    "### capitalize()"
   ]
  },
  {
   "cell_type": "code",
   "execution_count": 74,
   "id": "71ee70e7",
   "metadata": {},
   "outputs": [],
   "source": [
    "s = 'mindgraph'"
   ]
  },
  {
   "cell_type": "code",
   "execution_count": 75,
   "id": "37687c88",
   "metadata": {},
   "outputs": [
    {
     "data": {
      "text/plain": [
       "'Mindgraph'"
      ]
     },
     "execution_count": 75,
     "metadata": {},
     "output_type": "execute_result"
    }
   ],
   "source": [
    "s.capitalize() # will capitalize the first letter of the string."
   ]
  },
  {
   "cell_type": "code",
   "execution_count": 76,
   "id": "cb5cf575",
   "metadata": {},
   "outputs": [],
   "source": [
    "s = 'byteiq'"
   ]
  },
  {
   "cell_type": "code",
   "execution_count": 77,
   "id": "74db5297",
   "metadata": {},
   "outputs": [
    {
     "data": {
      "text/plain": [
       "'Byteiq'"
      ]
     },
     "execution_count": 77,
     "metadata": {},
     "output_type": "execute_result"
    }
   ],
   "source": [
    "s.capitalize()"
   ]
  },
  {
   "cell_type": "code",
   "execution_count": 78,
   "id": "4dca0ca7",
   "metadata": {},
   "outputs": [],
   "source": [
    "s = 'Byteiq'"
   ]
  },
  {
   "cell_type": "code",
   "execution_count": 79,
   "id": "77b96cff",
   "metadata": {
    "scrolled": true
   },
   "outputs": [
    {
     "data": {
      "text/plain": [
       "'Byteiq'"
      ]
     },
     "execution_count": 79,
     "metadata": {},
     "output_type": "execute_result"
    }
   ],
   "source": [
    "s.capitalize()"
   ]
  },
  {
   "cell_type": "markdown",
   "id": "be2d6148",
   "metadata": {},
   "source": [
    "### reversed()"
   ]
  },
  {
   "cell_type": "code",
   "execution_count": 80,
   "id": "8cae5800",
   "metadata": {},
   "outputs": [],
   "source": [
    "s = 'Mindgraph'"
   ]
  },
  {
   "cell_type": "code",
   "execution_count": 81,
   "id": "5ef7ead0",
   "metadata": {},
   "outputs": [
    {
     "data": {
      "text/plain": [
       "<reversed at 0x18e1bb97b80>"
      ]
     },
     "execution_count": 81,
     "metadata": {},
     "output_type": "execute_result"
    }
   ],
   "source": [
    "reversed(s) # it will create an reversed object"
   ]
  },
  {
   "cell_type": "code",
   "execution_count": 82,
   "id": "33fd5440",
   "metadata": {},
   "outputs": [
    {
     "data": {
      "text/plain": [
       "['h', 'p', 'a', 'r', 'g', 'd', 'n', 'i', 'M']"
      ]
     },
     "execution_count": 82,
     "metadata": {},
     "output_type": "execute_result"
    }
   ],
   "source": [
    "list(reversed(s)) # passing the reverse object through list"
   ]
  },
  {
   "cell_type": "code",
   "execution_count": 83,
   "id": "99b5b3d8",
   "metadata": {},
   "outputs": [
    {
     "data": {
      "text/plain": [
       "('h', 'p', 'a', 'r', 'g', 'd', 'n', 'i', 'M')"
      ]
     },
     "execution_count": 83,
     "metadata": {},
     "output_type": "execute_result"
    }
   ],
   "source": [
    "tuple(reversed(s)) # passing the reverse object through tuple"
   ]
  },
  {
   "cell_type": "code",
   "execution_count": 88,
   "id": "c75857b5",
   "metadata": {},
   "outputs": [
    {
     "data": {
      "text/plain": [
       "{'M', 'a', 'd', 'g', 'h', 'i', 'n', 'p', 'r'}"
      ]
     },
     "execution_count": 88,
     "metadata": {},
     "output_type": "execute_result"
    }
   ],
   "source": [
    "# passing the reverse object through set, it will give the characters present in sting-but not in a proper order, \n",
    "# since set does not store elements in sequence.\n",
    "set(reversed(s)) "
   ]
  },
  {
   "cell_type": "code",
   "execution_count": 87,
   "id": "1c6cd062",
   "metadata": {},
   "outputs": [
    {
     "ename": "ValueError",
     "evalue": "dictionary update sequence element #0 has length 1; 2 is required",
     "output_type": "error",
     "traceback": [
      "\u001b[1;31m---------------------------------------------------------------------------\u001b[0m",
      "\u001b[1;31mValueError\u001b[0m                                Traceback (most recent call last)",
      "\u001b[1;32m~\\AppData\\Local\\Temp/ipykernel_18120/2949998017.py\u001b[0m in \u001b[0;36m<module>\u001b[1;34m\u001b[0m\n\u001b[1;32m----> 1\u001b[1;33m \u001b[0mdict\u001b[0m\u001b[1;33m(\u001b[0m\u001b[0mreversed\u001b[0m\u001b[1;33m(\u001b[0m\u001b[0ms\u001b[0m\u001b[1;33m)\u001b[0m\u001b[1;33m)\u001b[0m\u001b[1;33m\u001b[0m\u001b[1;33m\u001b[0m\u001b[0m\n\u001b[0m",
      "\u001b[1;31mValueError\u001b[0m: dictionary update sequence element #0 has length 1; 2 is required"
     ]
    }
   ],
   "source": [
    "dict(reversed(s)) # dict stores value in the form of key value pair."
   ]
  },
  {
   "cell_type": "code",
   "execution_count": 89,
   "id": "f2338766",
   "metadata": {},
   "outputs": [
    {
     "data": {
      "text/plain": [
       "'Mindgraph'"
      ]
     },
     "execution_count": 89,
     "metadata": {},
     "output_type": "execute_result"
    }
   ],
   "source": [
    "s"
   ]
  },
  {
   "cell_type": "code",
   "execution_count": 90,
   "id": "07781845",
   "metadata": {},
   "outputs": [
    {
     "data": {
      "text/plain": [
       "'hpargdniM'"
      ]
     },
     "execution_count": 90,
     "metadata": {},
     "output_type": "execute_result"
    }
   ],
   "source": [
    "s[::-1]"
   ]
  }
 ],
 "metadata": {
  "kernelspec": {
   "display_name": "Python 3 (ipykernel)",
   "language": "python",
   "name": "python3"
  },
  "language_info": {
   "codemirror_mode": {
    "name": "ipython",
    "version": 3
   },
   "file_extension": ".py",
   "mimetype": "text/x-python",
   "name": "python",
   "nbconvert_exporter": "python",
   "pygments_lexer": "ipython3",
   "version": "3.9.7"
  }
 },
 "nbformat": 4,
 "nbformat_minor": 5
}
