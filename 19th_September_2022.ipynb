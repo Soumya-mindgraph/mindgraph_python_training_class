{
 "cells": [
  {
   "cell_type": "markdown",
   "id": "256df0a8",
   "metadata": {},
   "source": [
    "# Inbuilt functions of lists and strings"
   ]
  },
  {
   "cell_type": "code",
   "execution_count": 1,
   "id": "81fa1d5c",
   "metadata": {},
   "outputs": [],
   "source": [
    "s = 'Mindgraph'"
   ]
  },
  {
   "cell_type": "code",
   "execution_count": 3,
   "id": "b22ada58",
   "metadata": {},
   "outputs": [
    {
     "data": {
      "text/plain": [
       "9"
      ]
     },
     "execution_count": 3,
     "metadata": {},
     "output_type": "execute_result"
    }
   ],
   "source": [
    "len(s) # calculates the length of the string"
   ]
  },
  {
   "cell_type": "code",
   "execution_count": 7,
   "id": "86830087",
   "metadata": {},
   "outputs": [],
   "source": [
    "s = 'Mind     graph' # string with spaces"
   ]
  },
  {
   "cell_type": "code",
   "execution_count": 8,
   "id": "304ba553",
   "metadata": {
    "scrolled": true
   },
   "outputs": [
    {
     "data": {
      "text/plain": [
       "14"
      ]
     },
     "execution_count": 8,
     "metadata": {},
     "output_type": "execute_result"
    }
   ],
   "source": [
    "len(s)"
   ]
  },
  {
   "cell_type": "code",
   "execution_count": 9,
   "id": "8fb92b2d",
   "metadata": {},
   "outputs": [],
   "source": [
    "s = 'Mindgraph'"
   ]
  },
  {
   "cell_type": "markdown",
   "id": "357752bc",
   "metadata": {},
   "source": [
    "### find()"
   ]
  },
  {
   "cell_type": "code",
   "execution_count": 10,
   "id": "887fcd97",
   "metadata": {},
   "outputs": [
    {
     "data": {
      "text/plain": [
       "4"
      ]
     },
     "execution_count": 10,
     "metadata": {},
     "output_type": "execute_result"
    }
   ],
   "source": [
    "s.find('g') # find - displays the index number of the character"
   ]
  },
  {
   "cell_type": "code",
   "execution_count": 11,
   "id": "f8a62a88",
   "metadata": {},
   "outputs": [],
   "source": [
    "s = 'Cuttack'"
   ]
  },
  {
   "cell_type": "code",
   "execution_count": 12,
   "id": "4de08075",
   "metadata": {},
   "outputs": [
    {
     "data": {
      "text/plain": [
       "2"
      ]
     },
     "execution_count": 12,
     "metadata": {},
     "output_type": "execute_result"
    }
   ],
   "source": [
    "s.find('t') #  't' is present in both index 2 and index 3. find() will give the first occurence of the element."
   ]
  },
  {
   "cell_type": "code",
   "execution_count": 13,
   "id": "638ccada",
   "metadata": {},
   "outputs": [
    {
     "data": {
      "text/plain": [
       "'Cuttack'"
      ]
     },
     "execution_count": 13,
     "metadata": {},
     "output_type": "execute_result"
    }
   ],
   "source": [
    "s"
   ]
  },
  {
   "cell_type": "code",
   "execution_count": 14,
   "id": "1fde4f56",
   "metadata": {},
   "outputs": [
    {
     "data": {
      "text/plain": [
       "-1"
      ]
     },
     "execution_count": 14,
     "metadata": {},
     "output_type": "execute_result"
    }
   ],
   "source": [
    "s.find('s')  # if the element is not available, it gives -1 by default."
   ]
  },
  {
   "cell_type": "code",
   "execution_count": 15,
   "id": "67dd7f81",
   "metadata": {},
   "outputs": [
    {
     "data": {
      "text/plain": [
       "'Cuttack'"
      ]
     },
     "execution_count": 15,
     "metadata": {},
     "output_type": "execute_result"
    }
   ],
   "source": [
    "s "
   ]
  },
  {
   "cell_type": "code",
   "execution_count": 16,
   "id": "aa5150c1",
   "metadata": {},
   "outputs": [
    {
     "data": {
      "text/plain": [
       "1"
      ]
     },
     "execution_count": 16,
     "metadata": {},
     "output_type": "execute_result"
    }
   ],
   "source": [
    "# even if there are n number of characters, find() will display the index of the first character of the string mentioned.\n",
    "s.find('ut')"
   ]
  },
  {
   "cell_type": "markdown",
   "id": "f330cdf2",
   "metadata": {},
   "source": [
    "### count()"
   ]
  },
  {
   "cell_type": "code",
   "execution_count": 17,
   "id": "3112d4a3",
   "metadata": {},
   "outputs": [
    {
     "data": {
      "text/plain": [
       "'Cuttack'"
      ]
     },
     "execution_count": 17,
     "metadata": {},
     "output_type": "execute_result"
    }
   ],
   "source": [
    "s"
   ]
  },
  {
   "cell_type": "code",
   "execution_count": 18,
   "id": "318f329e",
   "metadata": {},
   "outputs": [
    {
     "data": {
      "text/plain": [
       "2"
      ]
     },
     "execution_count": 18,
     "metadata": {},
     "output_type": "execute_result"
    }
   ],
   "source": [
    "s.count('t') # counts the number of occurence of a character in a string"
   ]
  },
  {
   "cell_type": "code",
   "execution_count": 19,
   "id": "2b80df44",
   "metadata": {},
   "outputs": [
    {
     "data": {
      "text/plain": [
       "0"
      ]
     },
     "execution_count": 19,
     "metadata": {},
     "output_type": "execute_result"
    }
   ],
   "source": [
    "s.count('b') # if the element is not present in the string, by default it will display 0."
   ]
  },
  {
   "cell_type": "code",
   "execution_count": 20,
   "id": "6ea189e1",
   "metadata": {},
   "outputs": [
    {
     "data": {
      "text/plain": [
       "1"
      ]
     },
     "execution_count": 20,
     "metadata": {},
     "output_type": "execute_result"
    }
   ],
   "source": [
    "s.count('a')"
   ]
  },
  {
   "cell_type": "markdown",
   "id": "c7700892",
   "metadata": {},
   "source": [
    "### split()"
   ]
  },
  {
   "cell_type": "code",
   "execution_count": 21,
   "id": "9ded015c",
   "metadata": {},
   "outputs": [],
   "source": [
    "s = 'My name is soumya bisoyi'"
   ]
  },
  {
   "cell_type": "code",
   "execution_count": 22,
   "id": "887068e2",
   "metadata": {},
   "outputs": [
    {
     "data": {
      "text/plain": [
       "['My', 'name', 'is', 'soumya', 'bisoyi']"
      ]
     },
     "execution_count": 22,
     "metadata": {},
     "output_type": "execute_result"
    }
   ],
   "source": [
    "s.split(' ') # will separate the strings, based on the character or string specified and will put them into a list."
   ]
  },
  {
   "cell_type": "code",
   "execution_count": 23,
   "id": "033dab67",
   "metadata": {},
   "outputs": [],
   "source": [
    "s = 'My,name,is,soumya,bisoyi'"
   ]
  },
  {
   "cell_type": "code",
   "execution_count": 24,
   "id": "028fb250",
   "metadata": {},
   "outputs": [
    {
     "data": {
      "text/plain": [
       "['My', 'name', 'is', 'soumya', 'bisoyi']"
      ]
     },
     "execution_count": 24,
     "metadata": {},
     "output_type": "execute_result"
    }
   ],
   "source": [
    "s.split(',')"
   ]
  },
  {
   "cell_type": "code",
   "execution_count": 33,
   "id": "78d09fc0",
   "metadata": {},
   "outputs": [],
   "source": [
    "s = 'Myznameziszsoumyazbisoyi'"
   ]
  },
  {
   "cell_type": "code",
   "execution_count": 34,
   "id": "3190f493",
   "metadata": {},
   "outputs": [
    {
     "data": {
      "text/plain": [
       "['My', 'name', 'is', 'soumya', 'bisoyi']"
      ]
     },
     "execution_count": 34,
     "metadata": {},
     "output_type": "execute_result"
    }
   ],
   "source": [
    "s.split('z')"
   ]
  },
  {
   "cell_type": "code",
   "execution_count": 35,
   "id": "a8792e02",
   "metadata": {},
   "outputs": [],
   "source": [
    "s = 'WeareMindgraphByteIQ'"
   ]
  },
  {
   "cell_type": "code",
   "execution_count": 36,
   "id": "b226a8d4",
   "metadata": {},
   "outputs": [
    {
     "data": {
      "text/plain": [
       "['W', 'ar', 'MindgraphByt', 'IQ']"
      ]
     },
     "execution_count": 36,
     "metadata": {},
     "output_type": "execute_result"
    }
   ],
   "source": [
    "s.split('e')"
   ]
  },
  {
   "cell_type": "markdown",
   "id": "ca90ed78",
   "metadata": {},
   "source": [
    "### upper()"
   ]
  },
  {
   "cell_type": "code",
   "execution_count": 37,
   "id": "043c9c5e",
   "metadata": {},
   "outputs": [],
   "source": [
    "s = 'Mindgraph' "
   ]
  },
  {
   "cell_type": "code",
   "execution_count": 38,
   "id": "d80ceb42",
   "metadata": {},
   "outputs": [
    {
     "data": {
      "text/plain": [
       "'MINDGRAPH'"
      ]
     },
     "execution_count": 38,
     "metadata": {},
     "output_type": "execute_result"
    }
   ],
   "source": [
    "s.upper() # will give the output in upper case"
   ]
  },
  {
   "cell_type": "code",
   "execution_count": 39,
   "id": "b579af88",
   "metadata": {},
   "outputs": [],
   "source": [
    "s = 'mIndGRAph'"
   ]
  },
  {
   "cell_type": "code",
   "execution_count": 40,
   "id": "2ef9de7a",
   "metadata": {},
   "outputs": [
    {
     "data": {
      "text/plain": [
       "'MINDGRAPH'"
      ]
     },
     "execution_count": 40,
     "metadata": {},
     "output_type": "execute_result"
    }
   ],
   "source": [
    "s.upper()"
   ]
  },
  {
   "cell_type": "markdown",
   "id": "9aadfd1a",
   "metadata": {},
   "source": [
    "### lower()"
   ]
  },
  {
   "cell_type": "code",
   "execution_count": 42,
   "id": "5bc0271b",
   "metadata": {},
   "outputs": [],
   "source": [
    "s = 'ByteIQ' "
   ]
  },
  {
   "cell_type": "code",
   "execution_count": 43,
   "id": "4f07a2f9",
   "metadata": {},
   "outputs": [
    {
     "data": {
      "text/plain": [
       "'byteiq'"
      ]
     },
     "execution_count": 43,
     "metadata": {},
     "output_type": "execute_result"
    }
   ],
   "source": [
    "s.lower() # will give the output in lower case"
   ]
  },
  {
   "cell_type": "code",
   "execution_count": 44,
   "id": "e83149b3",
   "metadata": {},
   "outputs": [],
   "source": [
    "s = 'byteiQ'"
   ]
  },
  {
   "cell_type": "code",
   "execution_count": 45,
   "id": "7b1f5619",
   "metadata": {},
   "outputs": [
    {
     "data": {
      "text/plain": [
       "'byteiq'"
      ]
     },
     "execution_count": 45,
     "metadata": {},
     "output_type": "execute_result"
    }
   ],
   "source": [
    "s.lower()"
   ]
  },
  {
   "cell_type": "code",
   "execution_count": 46,
   "id": "211b5ae2",
   "metadata": {},
   "outputs": [],
   "source": [
    "s = 'byteiQ'"
   ]
  },
  {
   "cell_type": "code",
   "execution_count": 68,
   "id": "0dda388a",
   "metadata": {},
   "outputs": [
    {
     "name": "stdout",
     "output_type": "stream",
     "text": [
      "ByteiQ\n"
     ]
    }
   ],
   "source": [
    "ns = ''\n",
    "for i in s:\n",
    "    if i == 'b':\n",
    "        ns = ns + i.upper()\n",
    "    else:\n",
    "        ns = ns + i\n",
    "print(ns)"
   ]
  },
  {
   "cell_type": "markdown",
   "id": "31969aa2",
   "metadata": {},
   "source": [
    "### swapcase()"
   ]
  },
  {
   "cell_type": "code",
   "execution_count": 69,
   "id": "60a5b3b6",
   "metadata": {},
   "outputs": [],
   "source": [
    "s = 'Mindgraph' # will reverse the cases, upper to lower, and lower to upper."
   ]
  },
  {
   "cell_type": "code",
   "execution_count": 71,
   "id": "99035f3f",
   "metadata": {},
   "outputs": [
    {
     "data": {
      "text/plain": [
       "'mINDGRAPH'"
      ]
     },
     "execution_count": 71,
     "metadata": {},
     "output_type": "execute_result"
    }
   ],
   "source": [
    "s.swapcase()"
   ]
  },
  {
   "cell_type": "code",
   "execution_count": 72,
   "id": "983e63a0",
   "metadata": {},
   "outputs": [],
   "source": [
    "s = 'ByteIQ'"
   ]
  },
  {
   "cell_type": "code",
   "execution_count": 73,
   "id": "13dcde3e",
   "metadata": {},
   "outputs": [
    {
     "data": {
      "text/plain": [
       "'bYTEiq'"
      ]
     },
     "execution_count": 73,
     "metadata": {},
     "output_type": "execute_result"
    }
   ],
   "source": [
    "s.swapcase()"
   ]
  },
  {
   "cell_type": "markdown",
   "id": "787cb377",
   "metadata": {},
   "source": [
    "### capitalize()"
   ]
  },
  {
   "cell_type": "code",
   "execution_count": 74,
   "id": "8e38ea9c",
   "metadata": {},
   "outputs": [],
   "source": [
    "s = 'mindgraph'"
   ]
  },
  {
   "cell_type": "code",
   "execution_count": 75,
   "id": "355a376b",
   "metadata": {},
   "outputs": [
    {
     "data": {
      "text/plain": [
       "'Mindgraph'"
      ]
     },
     "execution_count": 75,
     "metadata": {},
     "output_type": "execute_result"
    }
   ],
   "source": [
    "s.capitalize() # will capitalize the first letter of the string."
   ]
  },
  {
   "cell_type": "code",
   "execution_count": 76,
   "id": "6c8ff689",
   "metadata": {},
   "outputs": [],
   "source": [
    "s = 'byteiq'"
   ]
  },
  {
   "cell_type": "code",
   "execution_count": 77,
   "id": "ea1a46e3",
   "metadata": {},
   "outputs": [
    {
     "data": {
      "text/plain": [
       "'Byteiq'"
      ]
     },
     "execution_count": 77,
     "metadata": {},
     "output_type": "execute_result"
    }
   ],
   "source": [
    "s.capitalize()"
   ]
  },
  {
   "cell_type": "code",
   "execution_count": 78,
   "id": "0b81d268",
   "metadata": {},
   "outputs": [],
   "source": [
    "s = 'Byteiq'"
   ]
  },
  {
   "cell_type": "code",
   "execution_count": 79,
   "id": "96650508",
   "metadata": {
    "scrolled": true
   },
   "outputs": [
    {
     "data": {
      "text/plain": [
       "'Byteiq'"
      ]
     },
     "execution_count": 79,
     "metadata": {},
     "output_type": "execute_result"
    }
   ],
   "source": [
    "s.capitalize()"
   ]
  },
  {
   "cell_type": "markdown",
   "id": "51c7b5f5",
   "metadata": {},
   "source": [
    "### reversed()"
   ]
  },
  {
   "cell_type": "code",
   "execution_count": 80,
   "id": "b93618db",
   "metadata": {},
   "outputs": [],
   "source": [
    "s = 'Mindgraph'"
   ]
  },
  {
   "cell_type": "code",
   "execution_count": 81,
   "id": "d96d997f",
   "metadata": {},
   "outputs": [
    {
     "data": {
      "text/plain": [
       "<reversed at 0x18e1bb97b80>"
      ]
     },
     "execution_count": 81,
     "metadata": {},
     "output_type": "execute_result"
    }
   ],
   "source": [
    "reversed(s) # it will create an reversed object"
   ]
  },
  {
   "cell_type": "code",
   "execution_count": 82,
   "id": "9c3926e4",
   "metadata": {},
   "outputs": [
    {
     "data": {
      "text/plain": [
       "['h', 'p', 'a', 'r', 'g', 'd', 'n', 'i', 'M']"
      ]
     },
     "execution_count": 82,
     "metadata": {},
     "output_type": "execute_result"
    }
   ],
   "source": [
    "list(reversed(s)) # passing the reverse object through list"
   ]
  },
  {
   "cell_type": "code",
   "execution_count": 83,
   "id": "97bbaa9c",
   "metadata": {},
   "outputs": [
    {
     "data": {
      "text/plain": [
       "('h', 'p', 'a', 'r', 'g', 'd', 'n', 'i', 'M')"
      ]
     },
     "execution_count": 83,
     "metadata": {},
     "output_type": "execute_result"
    }
   ],
   "source": [
    "tuple(reversed(s)) # passing the reverse object through tuple"
   ]
  },
  {
   "cell_type": "code",
   "execution_count": 88,
   "id": "63820e1a",
   "metadata": {},
   "outputs": [
    {
     "data": {
      "text/plain": [
       "{'M', 'a', 'd', 'g', 'h', 'i', 'n', 'p', 'r'}"
      ]
     },
     "execution_count": 88,
     "metadata": {},
     "output_type": "execute_result"
    }
   ],
   "source": [
    "# passing the reverse object through set, it will give the characters present in sting-but not in a proper order, \n",
    "# since set does not store elements in sequence.\n",
    "set(reversed(s)) "
   ]
  },
  {
   "cell_type": "code",
   "execution_count": 87,
   "id": "d967fbea",
   "metadata": {},
   "outputs": [
    {
     "ename": "ValueError",
     "evalue": "dictionary update sequence element #0 has length 1; 2 is required",
     "output_type": "error",
     "traceback": [
      "\u001b[1;31m---------------------------------------------------------------------------\u001b[0m",
      "\u001b[1;31mValueError\u001b[0m                                Traceback (most recent call last)",
      "\u001b[1;32m~\\AppData\\Local\\Temp/ipykernel_18120/2949998017.py\u001b[0m in \u001b[0;36m<module>\u001b[1;34m\u001b[0m\n\u001b[1;32m----> 1\u001b[1;33m \u001b[0mdict\u001b[0m\u001b[1;33m(\u001b[0m\u001b[0mreversed\u001b[0m\u001b[1;33m(\u001b[0m\u001b[0ms\u001b[0m\u001b[1;33m)\u001b[0m\u001b[1;33m)\u001b[0m\u001b[1;33m\u001b[0m\u001b[1;33m\u001b[0m\u001b[0m\n\u001b[0m",
      "\u001b[1;31mValueError\u001b[0m: dictionary update sequence element #0 has length 1; 2 is required"
     ]
    }
   ],
   "source": [
    "dict(reversed(s)) # dict stores value in the form of key value pair."
   ]
  },
  {
   "cell_type": "code",
   "execution_count": 89,
   "id": "300ec5a3",
   "metadata": {},
   "outputs": [
    {
     "data": {
      "text/plain": [
       "'Mindgraph'"
      ]
     },
     "execution_count": 89,
     "metadata": {},
     "output_type": "execute_result"
    }
   ],
   "source": [
    "s"
   ]
  },
  {
   "cell_type": "code",
   "execution_count": 90,
   "id": "c79153d4",
   "metadata": {},
   "outputs": [
    {
     "data": {
      "text/plain": [
       "'hpargdniM'"
      ]
     },
     "execution_count": 90,
     "metadata": {},
     "output_type": "execute_result"
    }
   ],
   "source": [
    "s[::-1]"
   ]
  },
  {
   "cell_type": "markdown",
   "id": "89e64b04",
   "metadata": {},
   "source": [
    "### strip()"
   ]
  },
  {
   "cell_type": "code",
   "execution_count": 92,
   "id": "cbcdde8f",
   "metadata": {},
   "outputs": [],
   "source": [
    "s = 'Mindgraph'"
   ]
  },
  {
   "cell_type": "code",
   "execution_count": 94,
   "id": "78afab91",
   "metadata": {},
   "outputs": [
    {
     "data": {
      "text/plain": [
       "'Mindgraph'"
      ]
     },
     "execution_count": 94,
     "metadata": {},
     "output_type": "execute_result"
    }
   ],
   "source": [
    "s.strip() # in this case no changes"
   ]
  },
  {
   "cell_type": "code",
   "execution_count": 96,
   "id": "c3fad077",
   "metadata": {},
   "outputs": [],
   "source": [
    "s = ' Mindgraph   ' # one space added to left, three spaces added to right"
   ]
  },
  {
   "cell_type": "code",
   "execution_count": 102,
   "id": "23752b34",
   "metadata": {},
   "outputs": [
    {
     "data": {
      "text/plain": [
       "' Mindgraph   '"
      ]
     },
     "execution_count": 102,
     "metadata": {},
     "output_type": "execute_result"
    }
   ],
   "source": [
    "s"
   ]
  },
  {
   "cell_type": "code",
   "execution_count": 103,
   "id": "77a0b3eb",
   "metadata": {},
   "outputs": [
    {
     "data": {
      "text/plain": [
       "'Mindgraph'"
      ]
     },
     "execution_count": 103,
     "metadata": {},
     "output_type": "execute_result"
    }
   ],
   "source": [
    "s.strip() # spaces from both the sides are remove."
   ]
  },
  {
   "cell_type": "code",
   "execution_count": 109,
   "id": "c8d89b99",
   "metadata": {},
   "outputs": [],
   "source": [
    "s = ' Mind graph '"
   ]
  },
  {
   "cell_type": "code",
   "execution_count": 110,
   "id": "58b6593d",
   "metadata": {},
   "outputs": [
    {
     "data": {
      "text/plain": [
       "' Mind graph '"
      ]
     },
     "execution_count": 110,
     "metadata": {},
     "output_type": "execute_result"
    }
   ],
   "source": [
    "s"
   ]
  },
  {
   "cell_type": "code",
   "execution_count": 111,
   "id": "d83632e7",
   "metadata": {},
   "outputs": [
    {
     "data": {
      "text/plain": [
       "'Mind graph'"
      ]
     },
     "execution_count": 111,
     "metadata": {},
     "output_type": "execute_result"
    }
   ],
   "source": [
    "s.strip() # spaces from both the sides of the string will be removed, not the the spaces in the middle."
   ]
  },
  {
   "cell_type": "markdown",
   "id": "cd7305ba",
   "metadata": {},
   "source": [
    "### lstrip()"
   ]
  },
  {
   "cell_type": "code",
   "execution_count": 112,
   "id": "8b10ec96",
   "metadata": {},
   "outputs": [],
   "source": [
    "s = '    saiteja toleti  '"
   ]
  },
  {
   "cell_type": "code",
   "execution_count": 113,
   "id": "c80e39cc",
   "metadata": {},
   "outputs": [
    {
     "data": {
      "text/plain": [
       "'    saiteja toleti  '"
      ]
     },
     "execution_count": 113,
     "metadata": {},
     "output_type": "execute_result"
    }
   ],
   "source": [
    "s"
   ]
  },
  {
   "cell_type": "code",
   "execution_count": 114,
   "id": "abdf5f47",
   "metadata": {},
   "outputs": [
    {
     "data": {
      "text/plain": [
       "'saiteja toleti  '"
      ]
     },
     "execution_count": 114,
     "metadata": {},
     "output_type": "execute_result"
    }
   ],
   "source": [
    "s.lstrip() # will remove spaces from the left side of the string."
   ]
  },
  {
   "cell_type": "markdown",
   "id": "86237960",
   "metadata": {},
   "source": [
    "### rstrip()"
   ]
  },
  {
   "cell_type": "code",
   "execution_count": 115,
   "id": "7abf6e0c",
   "metadata": {},
   "outputs": [],
   "source": [
    "s = ' chai tanya  '"
   ]
  },
  {
   "cell_type": "code",
   "execution_count": 116,
   "id": "d85a2987",
   "metadata": {},
   "outputs": [
    {
     "data": {
      "text/plain": [
       "' chai tanya  '"
      ]
     },
     "execution_count": 116,
     "metadata": {},
     "output_type": "execute_result"
    }
   ],
   "source": [
    "s"
   ]
  },
  {
   "cell_type": "code",
   "execution_count": 117,
   "id": "6afb8aaf",
   "metadata": {},
   "outputs": [
    {
     "data": {
      "text/plain": [
       "' chai tanya'"
      ]
     },
     "execution_count": 117,
     "metadata": {},
     "output_type": "execute_result"
    }
   ],
   "source": [
    "s.rstrip()  # will remove spaces from the right side of the string."
   ]
  }
 ],
 "metadata": {
  "kernelspec": {
   "display_name": "Python 3 (ipykernel)",
   "language": "python",
   "name": "python3"
  },
  "language_info": {
   "codemirror_mode": {
    "name": "ipython",
    "version": 3
   },
   "file_extension": ".py",
   "mimetype": "text/x-python",
   "name": "python",
   "nbconvert_exporter": "python",
   "pygments_lexer": "ipython3",
   "version": "3.9.7"
  }
 },
 "nbformat": 4,
 "nbformat_minor": 5
}
