{
 "cells": [
  {
   "cell_type": "markdown",
   "id": "1840ebd0",
   "metadata": {},
   "source": [
    "# Inbuilt functions of lists and strings"
   ]
  },
  {
   "cell_type": "code",
   "execution_count": 1,
   "id": "74dd13ad",
   "metadata": {},
   "outputs": [],
   "source": [
    "s = 'Mindgraph'"
   ]
  },
  {
   "cell_type": "code",
   "execution_count": 3,
   "id": "b56d1330",
   "metadata": {},
   "outputs": [
    {
     "data": {
      "text/plain": [
       "9"
      ]
     },
     "execution_count": 3,
     "metadata": {},
     "output_type": "execute_result"
    }
   ],
   "source": [
    "len(s) # calculates the length of the string"
   ]
  },
  {
   "cell_type": "code",
   "execution_count": 7,
   "id": "cde5a280",
   "metadata": {},
   "outputs": [],
   "source": [
    "s = 'Mind     graph' # string with spaces"
   ]
  },
  {
   "cell_type": "code",
   "execution_count": 8,
   "id": "ec0b45a5",
   "metadata": {
    "scrolled": true
   },
   "outputs": [
    {
     "data": {
      "text/plain": [
       "14"
      ]
     },
     "execution_count": 8,
     "metadata": {},
     "output_type": "execute_result"
    }
   ],
   "source": [
    "len(s)"
   ]
  },
  {
   "cell_type": "code",
   "execution_count": 9,
   "id": "b1bb6d91",
   "metadata": {},
   "outputs": [],
   "source": [
    "s = 'Mindgraph'"
   ]
  },
  {
   "cell_type": "markdown",
   "id": "ffbf5c32",
   "metadata": {},
   "source": [
    "### find()"
   ]
  },
  {
   "cell_type": "code",
   "execution_count": 10,
   "id": "90c8f652",
   "metadata": {},
   "outputs": [
    {
     "data": {
      "text/plain": [
       "4"
      ]
     },
     "execution_count": 10,
     "metadata": {},
     "output_type": "execute_result"
    }
   ],
   "source": [
    "s.find('g') # find - displays the index number of the character"
   ]
  },
  {
   "cell_type": "code",
   "execution_count": 11,
   "id": "9cfb8c4b",
   "metadata": {},
   "outputs": [],
   "source": [
    "s = 'Cuttack'"
   ]
  },
  {
   "cell_type": "code",
   "execution_count": 12,
   "id": "4923f16a",
   "metadata": {},
   "outputs": [
    {
     "data": {
      "text/plain": [
       "2"
      ]
     },
     "execution_count": 12,
     "metadata": {},
     "output_type": "execute_result"
    }
   ],
   "source": [
    "s.find('t') #  't' is present in both index 2 and index 3. find() will give the first occurence of the element."
   ]
  },
  {
   "cell_type": "code",
   "execution_count": 13,
   "id": "3cde2063",
   "metadata": {},
   "outputs": [
    {
     "data": {
      "text/plain": [
       "'Cuttack'"
      ]
     },
     "execution_count": 13,
     "metadata": {},
     "output_type": "execute_result"
    }
   ],
   "source": [
    "s"
   ]
  },
  {
   "cell_type": "code",
   "execution_count": 14,
   "id": "dff4e1ca",
   "metadata": {},
   "outputs": [
    {
     "data": {
      "text/plain": [
       "-1"
      ]
     },
     "execution_count": 14,
     "metadata": {},
     "output_type": "execute_result"
    }
   ],
   "source": [
    "s.find('s')  # if the element is not available, it gives -1 by default."
   ]
  },
  {
   "cell_type": "code",
   "execution_count": 15,
   "id": "e8c8f3b1",
   "metadata": {},
   "outputs": [
    {
     "data": {
      "text/plain": [
       "'Cuttack'"
      ]
     },
     "execution_count": 15,
     "metadata": {},
     "output_type": "execute_result"
    }
   ],
   "source": [
    "s "
   ]
  },
  {
   "cell_type": "code",
   "execution_count": 16,
   "id": "d8340d1f",
   "metadata": {},
   "outputs": [
    {
     "data": {
      "text/plain": [
       "1"
      ]
     },
     "execution_count": 16,
     "metadata": {},
     "output_type": "execute_result"
    }
   ],
   "source": [
    "# even if there are n number of characters, find() will display the index of the first character of the string mentioned.\n",
    "s.find('ut')"
   ]
  },
  {
   "cell_type": "markdown",
   "id": "52360176",
   "metadata": {},
   "source": [
    "### count()"
   ]
  },
  {
   "cell_type": "code",
   "execution_count": 17,
   "id": "94c5e6e6",
   "metadata": {},
   "outputs": [
    {
     "data": {
      "text/plain": [
       "'Cuttack'"
      ]
     },
     "execution_count": 17,
     "metadata": {},
     "output_type": "execute_result"
    }
   ],
   "source": [
    "s"
   ]
  },
  {
   "cell_type": "code",
   "execution_count": 18,
   "id": "d595e836",
   "metadata": {},
   "outputs": [
    {
     "data": {
      "text/plain": [
       "2"
      ]
     },
     "execution_count": 18,
     "metadata": {},
     "output_type": "execute_result"
    }
   ],
   "source": [
    "s.count('t') # counts the number of occurence of a character in a string"
   ]
  },
  {
   "cell_type": "code",
   "execution_count": 19,
   "id": "c0070a69",
   "metadata": {},
   "outputs": [
    {
     "data": {
      "text/plain": [
       "0"
      ]
     },
     "execution_count": 19,
     "metadata": {},
     "output_type": "execute_result"
    }
   ],
   "source": [
    "s.count('b') # if the element is not present in the string, by default it will display 0."
   ]
  },
  {
   "cell_type": "code",
   "execution_count": 20,
   "id": "840ebe84",
   "metadata": {},
   "outputs": [
    {
     "data": {
      "text/plain": [
       "1"
      ]
     },
     "execution_count": 20,
     "metadata": {},
     "output_type": "execute_result"
    }
   ],
   "source": [
    "s.count('a')"
   ]
  },
  {
   "cell_type": "markdown",
   "id": "eac77e2f",
   "metadata": {},
   "source": [
    "### split()"
   ]
  },
  {
   "cell_type": "code",
   "execution_count": 21,
   "id": "60f36f5e",
   "metadata": {},
   "outputs": [],
   "source": [
    "s = 'My name is soumya bisoyi'"
   ]
  },
  {
   "cell_type": "code",
   "execution_count": 22,
   "id": "edfd2e6e",
   "metadata": {},
   "outputs": [
    {
     "data": {
      "text/plain": [
       "['My', 'name', 'is', 'soumya', 'bisoyi']"
      ]
     },
     "execution_count": 22,
     "metadata": {},
     "output_type": "execute_result"
    }
   ],
   "source": [
    "s.split(' ') # will separate the strings, based on the character or string specified and will put them into a list."
   ]
  },
  {
   "cell_type": "code",
   "execution_count": 23,
   "id": "b7de563c",
   "metadata": {},
   "outputs": [],
   "source": [
    "s = 'My,name,is,soumya,bisoyi'"
   ]
  },
  {
   "cell_type": "code",
   "execution_count": 24,
   "id": "7217ae29",
   "metadata": {},
   "outputs": [
    {
     "data": {
      "text/plain": [
       "['My', 'name', 'is', 'soumya', 'bisoyi']"
      ]
     },
     "execution_count": 24,
     "metadata": {},
     "output_type": "execute_result"
    }
   ],
   "source": [
    "s.split(',')"
   ]
  },
  {
   "cell_type": "code",
   "execution_count": 33,
   "id": "a40852bf",
   "metadata": {},
   "outputs": [],
   "source": [
    "s = 'Myznameziszsoumyazbisoyi'"
   ]
  },
  {
   "cell_type": "code",
   "execution_count": 34,
   "id": "90ed6c3f",
   "metadata": {},
   "outputs": [
    {
     "data": {
      "text/plain": [
       "['My', 'name', 'is', 'soumya', 'bisoyi']"
      ]
     },
     "execution_count": 34,
     "metadata": {},
     "output_type": "execute_result"
    }
   ],
   "source": [
    "s.split('z')"
   ]
  },
  {
   "cell_type": "code",
   "execution_count": 35,
   "id": "ee6ed60a",
   "metadata": {},
   "outputs": [],
   "source": [
    "s = 'WeareMindgraphByteIQ'"
   ]
  },
  {
   "cell_type": "code",
   "execution_count": 36,
   "id": "0e1969fa",
   "metadata": {},
   "outputs": [
    {
     "data": {
      "text/plain": [
       "['W', 'ar', 'MindgraphByt', 'IQ']"
      ]
     },
     "execution_count": 36,
     "metadata": {},
     "output_type": "execute_result"
    }
   ],
   "source": [
    "s.split('e')"
   ]
  },
  {
   "cell_type": "markdown",
   "id": "441a13ad",
   "metadata": {},
   "source": [
    "### upper()"
   ]
  },
  {
   "cell_type": "code",
   "execution_count": null,
   "id": "c8cf06d2",
   "metadata": {},
   "outputs": [],
   "source": []
  },
  {
   "cell_type": "code",
   "execution_count": null,
   "id": "a0b4486d",
   "metadata": {},
   "outputs": [],
   "source": []
  },
  {
   "cell_type": "code",
   "execution_count": null,
   "id": "e8a9568c",
   "metadata": {},
   "outputs": [],
   "source": []
  }
 ],
 "metadata": {
  "kernelspec": {
   "display_name": "Python 3 (ipykernel)",
   "language": "python",
   "name": "python3"
  },
  "language_info": {
   "codemirror_mode": {
    "name": "ipython",
    "version": 3
   },
   "file_extension": ".py",
   "mimetype": "text/x-python",
   "name": "python",
   "nbconvert_exporter": "python",
   "pygments_lexer": "ipython3",
   "version": "3.9.7"
  }
 },
 "nbformat": 4,
 "nbformat_minor": 5
}
