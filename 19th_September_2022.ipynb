{
 "cells": [
  {
   "cell_type": "markdown",
   "id": "b9720da5",
   "metadata": {},
   "source": [
    "# Inbuilt functions of lists and strings"
   ]
  },
  {
   "cell_type": "code",
   "execution_count": 1,
   "id": "da3de004",
   "metadata": {},
   "outputs": [],
   "source": [
    "s = 'Mindgraph'"
   ]
  },
  {
   "cell_type": "code",
   "execution_count": 3,
   "id": "c7c059ce",
   "metadata": {},
   "outputs": [
    {
     "data": {
      "text/plain": [
       "9"
      ]
     },
     "execution_count": 3,
     "metadata": {},
     "output_type": "execute_result"
    }
   ],
   "source": [
    "len(s) # calculates the length of the string"
   ]
  },
  {
   "cell_type": "code",
   "execution_count": 7,
   "id": "76e193eb",
   "metadata": {},
   "outputs": [],
   "source": [
    "s = 'Mind     graph' # string with spaces"
   ]
  },
  {
   "cell_type": "code",
   "execution_count": 8,
   "id": "8c690ae4",
   "metadata": {
    "scrolled": true
   },
   "outputs": [
    {
     "data": {
      "text/plain": [
       "14"
      ]
     },
     "execution_count": 8,
     "metadata": {},
     "output_type": "execute_result"
    }
   ],
   "source": [
    "len(s)"
   ]
  },
  {
   "cell_type": "code",
   "execution_count": 9,
   "id": "37e7da61",
   "metadata": {},
   "outputs": [],
   "source": [
    "s = 'Mindgraph'"
   ]
  },
  {
   "cell_type": "markdown",
   "id": "ed3b99e9",
   "metadata": {},
   "source": [
    "### find()"
   ]
  },
  {
   "cell_type": "code",
   "execution_count": 10,
   "id": "edff7c7b",
   "metadata": {},
   "outputs": [
    {
     "data": {
      "text/plain": [
       "4"
      ]
     },
     "execution_count": 10,
     "metadata": {},
     "output_type": "execute_result"
    }
   ],
   "source": [
    "s.find('g') # find - displays the index number of the character"
   ]
  },
  {
   "cell_type": "code",
   "execution_count": 11,
   "id": "0714e0d0",
   "metadata": {},
   "outputs": [],
   "source": [
    "s = 'Cuttack'"
   ]
  },
  {
   "cell_type": "code",
   "execution_count": 12,
   "id": "dd5fadf9",
   "metadata": {},
   "outputs": [
    {
     "data": {
      "text/plain": [
       "2"
      ]
     },
     "execution_count": 12,
     "metadata": {},
     "output_type": "execute_result"
    }
   ],
   "source": [
    "s.find('t') #  't' is present in both index 2 and index 3. find() will give the first occurence of the element."
   ]
  },
  {
   "cell_type": "code",
   "execution_count": 13,
   "id": "b2711933",
   "metadata": {},
   "outputs": [
    {
     "data": {
      "text/plain": [
       "'Cuttack'"
      ]
     },
     "execution_count": 13,
     "metadata": {},
     "output_type": "execute_result"
    }
   ],
   "source": [
    "s"
   ]
  },
  {
   "cell_type": "code",
   "execution_count": 14,
   "id": "79893635",
   "metadata": {},
   "outputs": [
    {
     "data": {
      "text/plain": [
       "-1"
      ]
     },
     "execution_count": 14,
     "metadata": {},
     "output_type": "execute_result"
    }
   ],
   "source": [
    "s.find('s')  # if the element is not available, it gives -1 by default."
   ]
  },
  {
   "cell_type": "code",
   "execution_count": 15,
   "id": "4e6211ec",
   "metadata": {},
   "outputs": [
    {
     "data": {
      "text/plain": [
       "'Cuttack'"
      ]
     },
     "execution_count": 15,
     "metadata": {},
     "output_type": "execute_result"
    }
   ],
   "source": [
    "s "
   ]
  },
  {
   "cell_type": "code",
   "execution_count": 16,
   "id": "5816c9b6",
   "metadata": {},
   "outputs": [
    {
     "data": {
      "text/plain": [
       "1"
      ]
     },
     "execution_count": 16,
     "metadata": {},
     "output_type": "execute_result"
    }
   ],
   "source": [
    "# even if there are n number of characters, find() will display the index of the first character of the string mentioned.\n",
    "s.find('ut')"
   ]
  },
  {
   "cell_type": "markdown",
   "id": "586f61fa",
   "metadata": {},
   "source": [
    "### count()"
   ]
  },
  {
   "cell_type": "code",
   "execution_count": 17,
   "id": "441415ea",
   "metadata": {},
   "outputs": [
    {
     "data": {
      "text/plain": [
       "'Cuttack'"
      ]
     },
     "execution_count": 17,
     "metadata": {},
     "output_type": "execute_result"
    }
   ],
   "source": [
    "s"
   ]
  },
  {
   "cell_type": "code",
   "execution_count": 18,
   "id": "9fcc28d4",
   "metadata": {},
   "outputs": [
    {
     "data": {
      "text/plain": [
       "2"
      ]
     },
     "execution_count": 18,
     "metadata": {},
     "output_type": "execute_result"
    }
   ],
   "source": [
    "s.count('t') # counts the number of occurence of a character in a string"
   ]
  },
  {
   "cell_type": "code",
   "execution_count": 19,
   "id": "517b81d8",
   "metadata": {},
   "outputs": [
    {
     "data": {
      "text/plain": [
       "0"
      ]
     },
     "execution_count": 19,
     "metadata": {},
     "output_type": "execute_result"
    }
   ],
   "source": [
    "s.count('b') # if the element is not present in the string, by default it will display 0."
   ]
  },
  {
   "cell_type": "code",
   "execution_count": 20,
   "id": "bd3d521c",
   "metadata": {},
   "outputs": [
    {
     "data": {
      "text/plain": [
       "1"
      ]
     },
     "execution_count": 20,
     "metadata": {},
     "output_type": "execute_result"
    }
   ],
   "source": [
    "s.count('a')"
   ]
  },
  {
   "cell_type": "markdown",
   "id": "b21faf8f",
   "metadata": {},
   "source": [
    "### split()"
   ]
  },
  {
   "cell_type": "code",
   "execution_count": 21,
   "id": "d3631b57",
   "metadata": {},
   "outputs": [],
   "source": [
    "s = 'My name is soumya bisoyi'"
   ]
  },
  {
   "cell_type": "code",
   "execution_count": 22,
   "id": "e0f78a59",
   "metadata": {},
   "outputs": [
    {
     "data": {
      "text/plain": [
       "['My', 'name', 'is', 'soumya', 'bisoyi']"
      ]
     },
     "execution_count": 22,
     "metadata": {},
     "output_type": "execute_result"
    }
   ],
   "source": [
    "s.split(' ') # will separate the strings, based on the character or string specified and will put them into a list."
   ]
  },
  {
   "cell_type": "code",
   "execution_count": 23,
   "id": "0eba39e0",
   "metadata": {},
   "outputs": [],
   "source": [
    "s = 'My,name,is,soumya,bisoyi'"
   ]
  },
  {
   "cell_type": "code",
   "execution_count": 24,
   "id": "9955610b",
   "metadata": {},
   "outputs": [
    {
     "data": {
      "text/plain": [
       "['My', 'name', 'is', 'soumya', 'bisoyi']"
      ]
     },
     "execution_count": 24,
     "metadata": {},
     "output_type": "execute_result"
    }
   ],
   "source": [
    "s.split(',')"
   ]
  },
  {
   "cell_type": "code",
   "execution_count": 33,
   "id": "5ca9ef6e",
   "metadata": {},
   "outputs": [],
   "source": [
    "s = 'Myznameziszsoumyazbisoyi'"
   ]
  },
  {
   "cell_type": "code",
   "execution_count": 34,
   "id": "9cb65748",
   "metadata": {},
   "outputs": [
    {
     "data": {
      "text/plain": [
       "['My', 'name', 'is', 'soumya', 'bisoyi']"
      ]
     },
     "execution_count": 34,
     "metadata": {},
     "output_type": "execute_result"
    }
   ],
   "source": [
    "s.split('z')"
   ]
  },
  {
   "cell_type": "code",
   "execution_count": 35,
   "id": "a7d1c86f",
   "metadata": {},
   "outputs": [],
   "source": [
    "s = 'WeareMindgraphByteIQ'"
   ]
  },
  {
   "cell_type": "code",
   "execution_count": 36,
   "id": "ac06c585",
   "metadata": {},
   "outputs": [
    {
     "data": {
      "text/plain": [
       "['W', 'ar', 'MindgraphByt', 'IQ']"
      ]
     },
     "execution_count": 36,
     "metadata": {},
     "output_type": "execute_result"
    }
   ],
   "source": [
    "s.split('e')"
   ]
  },
  {
   "cell_type": "markdown",
   "id": "49d33368",
   "metadata": {},
   "source": [
    "### upper()"
   ]
  },
  {
   "cell_type": "code",
   "execution_count": 37,
   "id": "86991799",
   "metadata": {},
   "outputs": [],
   "source": [
    "s = 'Mindgraph' "
   ]
  },
  {
   "cell_type": "code",
   "execution_count": 38,
   "id": "83a7e515",
   "metadata": {},
   "outputs": [
    {
     "data": {
      "text/plain": [
       "'MINDGRAPH'"
      ]
     },
     "execution_count": 38,
     "metadata": {},
     "output_type": "execute_result"
    }
   ],
   "source": [
    "s.upper() # will give the output in upper case"
   ]
  },
  {
   "cell_type": "code",
   "execution_count": 39,
   "id": "ebe512ca",
   "metadata": {},
   "outputs": [],
   "source": [
    "s = 'mIndGRAph'"
   ]
  },
  {
   "cell_type": "code",
   "execution_count": 40,
   "id": "a1fc3357",
   "metadata": {},
   "outputs": [
    {
     "data": {
      "text/plain": [
       "'MINDGRAPH'"
      ]
     },
     "execution_count": 40,
     "metadata": {},
     "output_type": "execute_result"
    }
   ],
   "source": [
    "s.upper()"
   ]
  },
  {
   "cell_type": "markdown",
   "id": "a33d5bbc",
   "metadata": {},
   "source": [
    "### lower()"
   ]
  },
  {
   "cell_type": "code",
   "execution_count": 42,
   "id": "34a60f3e",
   "metadata": {},
   "outputs": [],
   "source": [
    "s = 'ByteIQ' "
   ]
  },
  {
   "cell_type": "code",
   "execution_count": 43,
   "id": "f1f6e972",
   "metadata": {},
   "outputs": [
    {
     "data": {
      "text/plain": [
       "'byteiq'"
      ]
     },
     "execution_count": 43,
     "metadata": {},
     "output_type": "execute_result"
    }
   ],
   "source": [
    "s.lower() # will give the output in lower case"
   ]
  },
  {
   "cell_type": "code",
   "execution_count": 44,
   "id": "6ade19e8",
   "metadata": {},
   "outputs": [],
   "source": [
    "s = 'byteiQ'"
   ]
  },
  {
   "cell_type": "code",
   "execution_count": 45,
   "id": "05673e6f",
   "metadata": {},
   "outputs": [
    {
     "data": {
      "text/plain": [
       "'byteiq'"
      ]
     },
     "execution_count": 45,
     "metadata": {},
     "output_type": "execute_result"
    }
   ],
   "source": [
    "s.lower()"
   ]
  },
  {
   "cell_type": "code",
   "execution_count": 46,
   "id": "e350bc96",
   "metadata": {},
   "outputs": [],
   "source": [
    "s = 'byteiQ'"
   ]
  },
  {
   "cell_type": "code",
   "execution_count": 68,
   "id": "c4264ac8",
   "metadata": {},
   "outputs": [
    {
     "name": "stdout",
     "output_type": "stream",
     "text": [
      "ByteiQ\n"
     ]
    }
   ],
   "source": [
    "ns = ''\n",
    "for i in s:\n",
    "    if i == 'b':\n",
    "        ns = ns + i.upper()\n",
    "    else:\n",
    "        ns = ns + i\n",
    "print(ns)"
   ]
  },
  {
   "cell_type": "markdown",
   "id": "b4a46ca3",
   "metadata": {},
   "source": [
    "### swapcase()"
   ]
  },
  {
   "cell_type": "code",
   "execution_count": 69,
   "id": "7117a1a3",
   "metadata": {},
   "outputs": [],
   "source": [
    "s = 'Mindgraph' # will reverse the cases, upper to lower, and lower to upper."
   ]
  },
  {
   "cell_type": "code",
   "execution_count": 71,
   "id": "878b113e",
   "metadata": {},
   "outputs": [
    {
     "data": {
      "text/plain": [
       "'mINDGRAPH'"
      ]
     },
     "execution_count": 71,
     "metadata": {},
     "output_type": "execute_result"
    }
   ],
   "source": [
    "s.swapcase()"
   ]
  },
  {
   "cell_type": "code",
   "execution_count": 72,
   "id": "badd63ed",
   "metadata": {},
   "outputs": [],
   "source": [
    "s = 'ByteIQ'"
   ]
  },
  {
   "cell_type": "code",
   "execution_count": 73,
   "id": "ae857a96",
   "metadata": {},
   "outputs": [
    {
     "data": {
      "text/plain": [
       "'bYTEiq'"
      ]
     },
     "execution_count": 73,
     "metadata": {},
     "output_type": "execute_result"
    }
   ],
   "source": [
    "s.swapcase()"
   ]
  },
  {
   "cell_type": "markdown",
   "id": "09112364",
   "metadata": {},
   "source": [
    "### capitalize()"
   ]
  },
  {
   "cell_type": "code",
   "execution_count": 74,
   "id": "97dd4bd0",
   "metadata": {},
   "outputs": [],
   "source": [
    "s = 'mindgraph'"
   ]
  },
  {
   "cell_type": "code",
   "execution_count": 75,
   "id": "d9ebbd09",
   "metadata": {},
   "outputs": [
    {
     "data": {
      "text/plain": [
       "'Mindgraph'"
      ]
     },
     "execution_count": 75,
     "metadata": {},
     "output_type": "execute_result"
    }
   ],
   "source": [
    "s.capitalize() # will capitalize the first letter of the string."
   ]
  },
  {
   "cell_type": "code",
   "execution_count": 76,
   "id": "59ee6232",
   "metadata": {},
   "outputs": [],
   "source": [
    "s = 'byteiq'"
   ]
  },
  {
   "cell_type": "code",
   "execution_count": 77,
   "id": "da964fc8",
   "metadata": {},
   "outputs": [
    {
     "data": {
      "text/plain": [
       "'Byteiq'"
      ]
     },
     "execution_count": 77,
     "metadata": {},
     "output_type": "execute_result"
    }
   ],
   "source": [
    "s.capitalize()"
   ]
  },
  {
   "cell_type": "code",
   "execution_count": 78,
   "id": "d405c083",
   "metadata": {},
   "outputs": [],
   "source": [
    "s = 'Byteiq'"
   ]
  },
  {
   "cell_type": "code",
   "execution_count": 79,
   "id": "1f9a83d6",
   "metadata": {
    "scrolled": true
   },
   "outputs": [
    {
     "data": {
      "text/plain": [
       "'Byteiq'"
      ]
     },
     "execution_count": 79,
     "metadata": {},
     "output_type": "execute_result"
    }
   ],
   "source": [
    "s.capitalize()"
   ]
  },
  {
   "cell_type": "markdown",
   "id": "60c43f2a",
   "metadata": {},
   "source": [
    "### reversed()"
   ]
  },
  {
   "cell_type": "code",
   "execution_count": 6,
   "id": "8a4744b3",
   "metadata": {},
   "outputs": [],
   "source": [
    "s = 'Mindgraph'"
   ]
  },
  {
   "cell_type": "code",
   "execution_count": 7,
   "id": "a3c05375",
   "metadata": {},
   "outputs": [
    {
     "data": {
      "text/plain": [
       "<reversed at 0x7fcaf0786bb0>"
      ]
     },
     "execution_count": 7,
     "metadata": {},
     "output_type": "execute_result"
    }
   ],
   "source": [
    "reversed(s) # it will create an reversed object"
   ]
  },
  {
   "cell_type": "code",
   "execution_count": 8,
   "id": "9826183b",
   "metadata": {},
   "outputs": [
    {
     "data": {
      "text/plain": [
       "['h', 'p', 'a', 'r', 'g', 'd', 'n', 'i', 'M']"
      ]
     },
     "execution_count": 8,
     "metadata": {},
     "output_type": "execute_result"
    }
   ],
   "source": [
    "list(reversed(s)) # passing the reverse object through list"
   ]
  },
  {
   "cell_type": "code",
   "execution_count": 9,
   "id": "b1f86c84",
   "metadata": {},
   "outputs": [
    {
     "data": {
      "text/plain": [
       "('h', 'p', 'a', 'r', 'g', 'd', 'n', 'i', 'M')"
      ]
     },
     "execution_count": 9,
     "metadata": {},
     "output_type": "execute_result"
    }
   ],
   "source": [
    "tuple(reversed(s)) # passing the reverse object through tuple"
   ]
  },
  {
   "cell_type": "code",
   "execution_count": 10,
   "id": "197b032d",
   "metadata": {},
   "outputs": [
    {
     "data": {
      "text/plain": [
       "{'M', 'a', 'd', 'g', 'h', 'i', 'n', 'p', 'r'}"
      ]
     },
     "execution_count": 10,
     "metadata": {},
     "output_type": "execute_result"
    }
   ],
   "source": [
    "# passing the reverse object through set, it will give the characters present in sting-but not in a proper order, \n",
    "# since set does not store elements in sequence.\n",
    "# Repeated element will be deleted as it is type casted to set.\n",
    "set(reversed(s)) "
   ]
  },
  {
   "cell_type": "code",
   "execution_count": 11,
   "id": "fe4e79d5",
   "metadata": {},
   "outputs": [
    {
     "ename": "ValueError",
     "evalue": "dictionary update sequence element #0 has length 1; 2 is required",
     "output_type": "error",
     "traceback": [
      "\u001b[0;31m---------------------------------------------------------------------------\u001b[0m",
      "\u001b[0;31mValueError\u001b[0m                                Traceback (most recent call last)",
      "\u001b[0;32m<ipython-input-11-f42d99ac804f>\u001b[0m in \u001b[0;36m<module>\u001b[0;34m\u001b[0m\n\u001b[0;32m----> 1\u001b[0;31m \u001b[0mdict\u001b[0m\u001b[0;34m(\u001b[0m\u001b[0mreversed\u001b[0m\u001b[0;34m(\u001b[0m\u001b[0ms\u001b[0m\u001b[0;34m)\u001b[0m\u001b[0;34m)\u001b[0m \u001b[0;31m# dict stores value in the form of key value pair.\u001b[0m\u001b[0;34m\u001b[0m\u001b[0;34m\u001b[0m\u001b[0m\n\u001b[0m",
      "\u001b[0;31mValueError\u001b[0m: dictionary update sequence element #0 has length 1; 2 is required"
     ]
    }
   ],
   "source": [
    "dict(reversed(s)) # dict stores value in the form of key value pair."
   ]
  },
  {
   "cell_type": "code",
   "execution_count": 89,
   "id": "c34e95a9",
   "metadata": {},
   "outputs": [
    {
     "data": {
      "text/plain": [
       "'Mindgraph'"
      ]
     },
     "execution_count": 89,
     "metadata": {},
     "output_type": "execute_result"
    }
   ],
   "source": [
    "s"
   ]
  },
  {
   "cell_type": "code",
   "execution_count": 90,
   "id": "4cfce28d",
   "metadata": {},
   "outputs": [
    {
     "data": {
      "text/plain": [
       "'hpargdniM'"
      ]
     },
     "execution_count": 90,
     "metadata": {},
     "output_type": "execute_result"
    }
   ],
   "source": [
    "s[::-1]"
   ]
  },
  {
   "cell_type": "markdown",
   "id": "56e6e9ce",
   "metadata": {},
   "source": [
    "### strip()"
   ]
  },
  {
   "cell_type": "code",
   "execution_count": 92,
   "id": "4cccb3e9",
   "metadata": {},
   "outputs": [],
   "source": [
    "s = 'Mindgraph'"
   ]
  },
  {
   "cell_type": "code",
   "execution_count": 94,
   "id": "656e48a6",
   "metadata": {},
   "outputs": [
    {
     "data": {
      "text/plain": [
       "'Mindgraph'"
      ]
     },
     "execution_count": 94,
     "metadata": {},
     "output_type": "execute_result"
    }
   ],
   "source": [
    "s.strip() # in this case no changes"
   ]
  },
  {
   "cell_type": "code",
   "execution_count": 96,
   "id": "d3b328d9",
   "metadata": {},
   "outputs": [],
   "source": [
    "s = ' Mindgraph   ' # one space added to left, three spaces added to right"
   ]
  },
  {
   "cell_type": "code",
   "execution_count": 102,
   "id": "57baae7a",
   "metadata": {},
   "outputs": [
    {
     "data": {
      "text/plain": [
       "' Mindgraph   '"
      ]
     },
     "execution_count": 102,
     "metadata": {},
     "output_type": "execute_result"
    }
   ],
   "source": [
    "s"
   ]
  },
  {
   "cell_type": "code",
   "execution_count": 103,
   "id": "bbee1af2",
   "metadata": {},
   "outputs": [
    {
     "data": {
      "text/plain": [
       "'Mindgraph'"
      ]
     },
     "execution_count": 103,
     "metadata": {},
     "output_type": "execute_result"
    }
   ],
   "source": [
    "s.strip() # spaces from both the sides are remove."
   ]
  },
  {
   "cell_type": "code",
   "execution_count": 109,
   "id": "4f2611b6",
   "metadata": {},
   "outputs": [],
   "source": [
    "s = ' Mind graph '"
   ]
  },
  {
   "cell_type": "code",
   "execution_count": 110,
   "id": "09f0cf2f",
   "metadata": {},
   "outputs": [
    {
     "data": {
      "text/plain": [
       "' Mind graph '"
      ]
     },
     "execution_count": 110,
     "metadata": {},
     "output_type": "execute_result"
    }
   ],
   "source": [
    "s"
   ]
  },
  {
   "cell_type": "code",
   "execution_count": 111,
   "id": "2e08f967",
   "metadata": {},
   "outputs": [
    {
     "data": {
      "text/plain": [
       "'Mind graph'"
      ]
     },
     "execution_count": 111,
     "metadata": {},
     "output_type": "execute_result"
    }
   ],
   "source": [
    "s.strip() # spaces from both the sides of the string will be removed, not the the spaces in the middle."
   ]
  },
  {
   "cell_type": "markdown",
   "id": "be0b6631",
   "metadata": {},
   "source": [
    "### lstrip()"
   ]
  },
  {
   "cell_type": "code",
   "execution_count": 112,
   "id": "9a9b0528",
   "metadata": {},
   "outputs": [],
   "source": [
    "s = '    saiteja toleti  '"
   ]
  },
  {
   "cell_type": "code",
   "execution_count": 113,
   "id": "de2c4ad1",
   "metadata": {},
   "outputs": [
    {
     "data": {
      "text/plain": [
       "'    saiteja toleti  '"
      ]
     },
     "execution_count": 113,
     "metadata": {},
     "output_type": "execute_result"
    }
   ],
   "source": [
    "s"
   ]
  },
  {
   "cell_type": "code",
   "execution_count": 114,
   "id": "412a2594",
   "metadata": {},
   "outputs": [
    {
     "data": {
      "text/plain": [
       "'saiteja toleti  '"
      ]
     },
     "execution_count": 114,
     "metadata": {},
     "output_type": "execute_result"
    }
   ],
   "source": [
    "s.lstrip() # will remove spaces from the left side of the string."
   ]
  },
  {
   "cell_type": "markdown",
   "id": "aaf9a85f",
   "metadata": {},
   "source": [
    "### rstrip()"
   ]
  },
  {
   "cell_type": "code",
   "execution_count": 115,
   "id": "2280e43c",
   "metadata": {},
   "outputs": [],
   "source": [
    "s = ' chai tanya  '"
   ]
  },
  {
   "cell_type": "code",
   "execution_count": 116,
   "id": "d555fc56",
   "metadata": {},
   "outputs": [
    {
     "data": {
      "text/plain": [
       "' chai tanya  '"
      ]
     },
     "execution_count": 116,
     "metadata": {},
     "output_type": "execute_result"
    }
   ],
   "source": [
    "s"
   ]
  },
  {
   "cell_type": "code",
   "execution_count": 117,
   "id": "931b9a82",
   "metadata": {},
   "outputs": [
    {
     "data": {
      "text/plain": [
       "' chai tanya'"
      ]
     },
     "execution_count": 117,
     "metadata": {},
     "output_type": "execute_result"
    }
   ],
   "source": [
    "s.rstrip()  # will remove spaces from the right side of the string."
   ]
  },
  {
   "cell_type": "code",
   "execution_count": 118,
   "id": "cca61b09",
   "metadata": {},
   "outputs": [],
   "source": [
    "s = 'test1'"
   ]
  },
  {
   "cell_type": "markdown",
   "id": "62b4cd95",
   "metadata": {},
   "source": [
    "## difference between find and index\n",
    "\n",
    "* Refer this for more clarity : https://www.geeksforgeeks.org/difference-between-find-and-index-in-python/"
   ]
  },
  {
   "cell_type": "code",
   "execution_count": 123,
   "id": "b71ceab6",
   "metadata": {},
   "outputs": [
    {
     "data": {
      "text/plain": [
       "-1"
      ]
     },
     "execution_count": 123,
     "metadata": {},
     "output_type": "execute_result"
    }
   ],
   "source": [
    "s.find('2') # find() will give -1 if the element is not present"
   ]
  },
  {
   "cell_type": "code",
   "execution_count": 124,
   "id": "03b87ff7",
   "metadata": {},
   "outputs": [
    {
     "ename": "ValueError",
     "evalue": "substring not found",
     "output_type": "error",
     "traceback": [
      "\u001b[1;31m---------------------------------------------------------------------------\u001b[0m",
      "\u001b[1;31mValueError\u001b[0m                                Traceback (most recent call last)",
      "\u001b[1;32m~\\AppData\\Local\\Temp/ipykernel_18120/2091062808.py\u001b[0m in \u001b[0;36m<module>\u001b[1;34m\u001b[0m\n\u001b[1;32m----> 1\u001b[1;33m \u001b[0ms\u001b[0m\u001b[1;33m.\u001b[0m\u001b[0mindex\u001b[0m\u001b[1;33m(\u001b[0m\u001b[1;34m'2'\u001b[0m\u001b[1;33m)\u001b[0m\u001b[1;33m\u001b[0m\u001b[1;33m\u001b[0m\u001b[0m\n\u001b[0m",
      "\u001b[1;31mValueError\u001b[0m: substring not found"
     ]
    }
   ],
   "source": [
    "s.index('2') # index() will throw error if the element is not present."
   ]
  },
  {
   "cell_type": "markdown",
   "id": "398220f3",
   "metadata": {},
   "source": [
    "### .join()"
   ]
  },
  {
   "cell_type": "code",
   "execution_count": 129,
   "id": "0e0e42e7",
   "metadata": {},
   "outputs": [
    {
     "data": {
      "text/plain": [
       "'Welcome to Mindgraph'"
      ]
     },
     "execution_count": 129,
     "metadata": {},
     "output_type": "execute_result"
    }
   ],
   "source": [
    "\"Welcome to Mindgraph\""
   ]
  },
  {
   "cell_type": "code",
   "execution_count": 125,
   "id": "6fe67e18",
   "metadata": {},
   "outputs": [
    {
     "data": {
      "text/plain": [
       "'W e l c o m e   t o   M i n d g r a p h'"
      ]
     },
     "execution_count": 125,
     "metadata": {},
     "output_type": "execute_result"
    }
   ],
   "source": [
    "' '.join(\"Welcome to Mindgraph\") # will add whatever string value specified before ., after every character inside join()"
   ]
  },
  {
   "cell_type": "code",
   "execution_count": 126,
   "id": "1356d083",
   "metadata": {},
   "outputs": [
    {
     "data": {
      "text/plain": [
       "'Wseslscsosmses stsos sMsisnsdsgsrsaspsh'"
      ]
     },
     "execution_count": 126,
     "metadata": {},
     "output_type": "execute_result"
    }
   ],
   "source": [
    "'s'.join(\"Welcome to Mindgraph\")"
   ]
  },
  {
   "cell_type": "code",
   "execution_count": 128,
   "id": "5f05839e",
   "metadata": {},
   "outputs": [
    {
     "data": {
      "text/plain": [
       "'W2e2l2c2o2m2e2 2t2o2 2M2i2n2d2g2r2a2p2h'"
      ]
     },
     "execution_count": 128,
     "metadata": {},
     "output_type": "execute_result"
    }
   ],
   "source": [
    "'2'.join(\"Welcome to Mindgraph\")"
   ]
  },
  {
   "cell_type": "code",
   "execution_count": 130,
   "id": "3a81bbed",
   "metadata": {},
   "outputs": [
    {
     "ename": "SyntaxError",
     "evalue": "invalid syntax (Temp/ipykernel_18120/3834892417.py, line 1)",
     "output_type": "error",
     "traceback": [
      "\u001b[1;36m  File \u001b[1;32m\"C:\\Users\\Acer\\AppData\\Local\\Temp/ipykernel_18120/3834892417.py\"\u001b[1;36m, line \u001b[1;32m1\u001b[0m\n\u001b[1;33m    2.join(\"Welcome to Mindgraph\")\u001b[0m\n\u001b[1;37m       ^\u001b[0m\n\u001b[1;31mSyntaxError\u001b[0m\u001b[1;31m:\u001b[0m invalid syntax\n"
     ]
    }
   ],
   "source": [
    "2.join(\"Welcome to Mindgraph\")"
   ]
  },
  {
   "cell_type": "code",
   "execution_count": 131,
   "id": "e1fd6ec7",
   "metadata": {},
   "outputs": [
    {
     "data": {
      "text/plain": [
       "'W2e2l2c2o2m2e2 2t2o2 2 2M2i2n2d2g2r2a2p2h'"
      ]
     },
     "execution_count": 131,
     "metadata": {},
     "output_type": "execute_result"
    }
   ],
   "source": [
    "'2'.join(\"Welcome to  Mindgraph\")"
   ]
  },
  {
   "cell_type": "markdown",
   "id": "8e559eca",
   "metadata": {},
   "source": [
    "### replace()"
   ]
  },
  {
   "cell_type": "code",
   "execution_count": 132,
   "id": "b001bc55",
   "metadata": {},
   "outputs": [],
   "source": [
    "s = 'I work for Mindgraph' # original string"
   ]
  },
  {
   "cell_type": "code",
   "execution_count": 133,
   "id": "3d069438",
   "metadata": {},
   "outputs": [
    {
     "data": {
      "text/plain": [
       "'I work for ByteIQ'"
      ]
     },
     "execution_count": 133,
     "metadata": {},
     "output_type": "execute_result"
    }
   ],
   "source": [
    "# will replace the string specified in left from the original string with the string specified in right.\n",
    "s.replace('Mindgraph', 'ByteIQ') "
   ]
  },
  {
   "cell_type": "code",
   "execution_count": 134,
   "id": "3dcde75b",
   "metadata": {},
   "outputs": [],
   "source": [
    "s = 'ByteIQ'"
   ]
  },
  {
   "cell_type": "code",
   "execution_count": 135,
   "id": "5002c9b8",
   "metadata": {},
   "outputs": [
    {
     "data": {
      "text/plain": [
       "'ByteIQ'"
      ]
     },
     "execution_count": 135,
     "metadata": {},
     "output_type": "execute_result"
    }
   ],
   "source": [
    "s.replace('Mindgraph', 'ByteIQ') # wrong strings specified, so original string got displayed."
   ]
  },
  {
   "cell_type": "code",
   "execution_count": 137,
   "id": "d039082d",
   "metadata": {},
   "outputs": [],
   "source": [
    "s = 'ByteIQ'"
   ]
  },
  {
   "cell_type": "code",
   "execution_count": 138,
   "id": "a54ecd09",
   "metadata": {},
   "outputs": [
    {
     "data": {
      "text/plain": [
       "'Mindgraph'"
      ]
     },
     "execution_count": 138,
     "metadata": {},
     "output_type": "execute_result"
    }
   ],
   "source": [
    "s.replace('ByteIQ', 'Mindgraph')"
   ]
  },
  {
   "cell_type": "code",
   "execution_count": 139,
   "id": "3be81b0b",
   "metadata": {},
   "outputs": [
    {
     "data": {
      "text/plain": [
       "'ByteIQ'"
      ]
     },
     "execution_count": 139,
     "metadata": {},
     "output_type": "execute_result"
    }
   ],
   "source": [
    "s"
   ]
  },
  {
   "cell_type": "code",
   "execution_count": 140,
   "id": "5dfd29a7",
   "metadata": {},
   "outputs": [
    {
     "data": {
      "text/plain": [
       "'ByteIq'"
      ]
     },
     "execution_count": 140,
     "metadata": {},
     "output_type": "execute_result"
    }
   ],
   "source": [
    "s.replace('Q', 'q')"
   ]
  },
  {
   "cell_type": "code",
   "execution_count": 141,
   "id": "332ad704",
   "metadata": {},
   "outputs": [],
   "source": [
    "s = 'I work for Mindgraph' # original string"
   ]
  },
  {
   "cell_type": "code",
   "execution_count": 142,
   "id": "46678705",
   "metadata": {},
   "outputs": [
    {
     "data": {
      "text/plain": [
       "'IworkforMindgraph'"
      ]
     },
     "execution_count": 142,
     "metadata": {},
     "output_type": "execute_result"
    }
   ],
   "source": [
    "s.replace(' ', '')"
   ]
  },
  {
   "cell_type": "markdown",
   "id": "501dd680",
   "metadata": {},
   "source": [
    "### appending string in the print statement"
   ]
  },
  {
   "cell_type": "code",
   "execution_count": 143,
   "id": "8e75cd79",
   "metadata": {},
   "outputs": [
    {
     "name": "stdout",
     "output_type": "stream",
     "text": [
      "I work for Mindgraph\n"
     ]
    }
   ],
   "source": [
    "print('I work for Mindgraph')"
   ]
  },
  {
   "cell_type": "code",
   "execution_count": 144,
   "id": "be35ce83",
   "metadata": {},
   "outputs": [
    {
     "name": "stdout",
     "output_type": "stream",
     "text": [
      "I work for Mindgraph and ByteIQ\n"
     ]
    }
   ],
   "source": [
    "print('I work for Mindgraph', 'and ByteIQ')"
   ]
  },
  {
   "cell_type": "code",
   "execution_count": 145,
   "id": "00bc1558",
   "metadata": {},
   "outputs": [],
   "source": [
    "s = 'I work for Mindgraph'"
   ]
  },
  {
   "cell_type": "code",
   "execution_count": 147,
   "id": "d2c84344",
   "metadata": {},
   "outputs": [
    {
     "data": {
      "text/plain": [
       "'I work for Mindgraph'"
      ]
     },
     "execution_count": 147,
     "metadata": {},
     "output_type": "execute_result"
    }
   ],
   "source": [
    "s"
   ]
  },
  {
   "cell_type": "code",
   "execution_count": 146,
   "id": "da00bbba",
   "metadata": {},
   "outputs": [
    {
     "name": "stdout",
     "output_type": "stream",
     "text": [
      "I work for Mindgraph and ByteIQ\n"
     ]
    }
   ],
   "source": [
    "print(s, 'and ByteIQ')"
   ]
  },
  {
   "cell_type": "markdown",
   "id": "5dc3252f",
   "metadata": {},
   "source": [
    "### shift + tab inside () to get the information/details about the fucntion"
   ]
  },
  {
   "cell_type": "markdown",
   "id": "d072c14a",
   "metadata": {},
   "source": [
    "* print(shift + tab)"
   ]
  },
  {
   "cell_type": "code",
   "execution_count": 150,
   "id": "187abbea",
   "metadata": {},
   "outputs": [],
   "source": [
    "s = \"Mindgraph\""
   ]
  },
  {
   "cell_type": "code",
   "execution_count": 153,
   "id": "79d7cd1e",
   "metadata": {},
   "outputs": [
    {
     "data": {
      "text/plain": [
       "9"
      ]
     },
     "execution_count": 153,
     "metadata": {},
     "output_type": "execute_result"
    }
   ],
   "source": [
    "len(s)"
   ]
  },
  {
   "cell_type": "code",
   "execution_count": 151,
   "id": "f5e9bd92",
   "metadata": {},
   "outputs": [
    {
     "data": {
      "text/plain": [
       "'cccccMindgraphcccccc'"
      ]
     },
     "execution_count": 151,
     "metadata": {},
     "output_type": "execute_result"
    }
   ],
   "source": [
    " # will get the original string to the center and add 'c' on both the sides till the new string does not reached 20 characters.\n",
    "s.center(20, 'c') # 2nd argument, where c is present should be a character, with no character or string it will fail."
   ]
  },
  {
   "cell_type": "code",
   "execution_count": 157,
   "id": "ea633ce0",
   "metadata": {},
   "outputs": [
    {
     "data": {
      "text/plain": [
       "' Mindgraph '"
      ]
     },
     "execution_count": 157,
     "metadata": {},
     "output_type": "execute_result"
    }
   ],
   "source": [
    "# will get the original string to the center and add ' ' on both the sides till the new string does not reached 11 characters.\n",
    "s.center(11, ' ') "
   ]
  },
  {
   "cell_type": "code",
   "execution_count": 154,
   "id": "0f84b61c",
   "metadata": {},
   "outputs": [
    {
     "data": {
      "text/plain": [
       "'Mindgraph'"
      ]
     },
     "execution_count": 154,
     "metadata": {},
     "output_type": "execute_result"
    }
   ],
   "source": [
    "s.center(8, ' ') # if the first argument is less than the length of the string, the original string will be displayed."
   ]
  },
  {
   "cell_type": "code",
   "execution_count": 155,
   "id": "f5a4723c",
   "metadata": {},
   "outputs": [
    {
     "ename": "TypeError",
     "evalue": "The fill character must be exactly one character long",
     "output_type": "error",
     "traceback": [
      "\u001b[1;31m---------------------------------------------------------------------------\u001b[0m",
      "\u001b[1;31mTypeError\u001b[0m                                 Traceback (most recent call last)",
      "\u001b[1;32m~\\AppData\\Local\\Temp/ipykernel_18120/404212427.py\u001b[0m in \u001b[0;36m<module>\u001b[1;34m\u001b[0m\n\u001b[1;32m----> 1\u001b[1;33m \u001b[0ms\u001b[0m\u001b[1;33m.\u001b[0m\u001b[0mcenter\u001b[0m\u001b[1;33m(\u001b[0m\u001b[1;36m8\u001b[0m\u001b[1;33m,\u001b[0m \u001b[1;34m' q'\u001b[0m\u001b[1;33m)\u001b[0m\u001b[1;33m\u001b[0m\u001b[1;33m\u001b[0m\u001b[0m\n\u001b[0m",
      "\u001b[1;31mTypeError\u001b[0m: The fill character must be exactly one character long"
     ]
    }
   ],
   "source": [
    "s.center(8, ' q') # must be a character, ' ' + 'q' is a string ' q'"
   ]
  },
  {
   "cell_type": "markdown",
   "id": "1d2f5196",
   "metadata": {},
   "source": [
    "### expandtabs()"
   ]
  },
  {
   "cell_type": "code",
   "execution_count": 159,
   "id": "fd8abf7a",
   "metadata": {},
   "outputs": [],
   "source": [
    "#'\\t' is a tab symbol"
   ]
  },
  {
   "cell_type": "code",
   "execution_count": 160,
   "id": "fb5e18b8",
   "metadata": {},
   "outputs": [
    {
     "data": {
      "text/plain": [
       "'ByteIQ\\tMindgraph'"
      ]
     },
     "execution_count": 160,
     "metadata": {},
     "output_type": "execute_result"
    }
   ],
   "source": [
    "'ByteIQ\\tMindgraph' # is a string with '\\t' in between."
   ]
  },
  {
   "cell_type": "code",
   "execution_count": 158,
   "id": "39242aa8",
   "metadata": {},
   "outputs": [
    {
     "data": {
      "text/plain": [
       "'ByteIQ  Mindgraph'"
      ]
     },
     "execution_count": 158,
     "metadata": {},
     "output_type": "execute_result"
    }
   ],
   "source": [
    "'ByteIQ\\tMindgraph'.expandtabs()"
   ]
  },
  {
   "cell_type": "code",
   "execution_count": 162,
   "id": "44b3ce99",
   "metadata": {},
   "outputs": [
    {
     "data": {
      "text/plain": [
       "'ByteIQ                  Mindgraph'"
      ]
     },
     "execution_count": 162,
     "metadata": {},
     "output_type": "execute_result"
    }
   ],
   "source": [
    "'ByteIQ\\t\\t\\tMindgraph'.expandtabs()"
   ]
  },
  {
   "cell_type": "code",
   "execution_count": 163,
   "id": "8e8a3d02",
   "metadata": {},
   "outputs": [],
   "source": [
    "s = ' '"
   ]
  },
  {
   "cell_type": "code",
   "execution_count": 200,
   "id": "030e97b0",
   "metadata": {},
   "outputs": [
    {
     "data": {
      "text/plain": [
       "1"
      ]
     },
     "execution_count": 200,
     "metadata": {},
     "output_type": "execute_result"
    }
   ],
   "source": [
    "len(s)"
   ]
  },
  {
   "cell_type": "code",
   "execution_count": 206,
   "id": "a0f382a5",
   "metadata": {},
   "outputs": [
    {
     "data": {
      "text/plain": [
       "1"
      ]
     },
     "execution_count": 206,
     "metadata": {},
     "output_type": "execute_result"
    }
   ],
   "source": [
    "len('\\t') # '\\' is ignored, so length of t is 1"
   ]
  },
  {
   "cell_type": "code",
   "execution_count": 207,
   "id": "dc7aed69",
   "metadata": {},
   "outputs": [
    {
     "data": {
      "text/plain": [
       "1"
      ]
     },
     "execution_count": 207,
     "metadata": {},
     "output_type": "execute_result"
    }
   ],
   "source": [
    "len('t') # length of t is 1"
   ]
  },
  {
   "cell_type": "code",
   "execution_count": 208,
   "id": "c8e81f95",
   "metadata": {},
   "outputs": [
    {
     "ename": "SyntaxError",
     "evalue": "EOL while scanning string literal (Temp/ipykernel_18120/2185153787.py, line 1)",
     "output_type": "error",
     "traceback": [
      "\u001b[1;36m  File \u001b[1;32m\"C:\\Users\\Acer\\AppData\\Local\\Temp/ipykernel_18120/2185153787.py\"\u001b[1;36m, line \u001b[1;32m1\u001b[0m\n\u001b[1;33m    len('\\')\u001b[0m\n\u001b[1;37m            ^\u001b[0m\n\u001b[1;31mSyntaxError\u001b[0m\u001b[1;31m:\u001b[0m EOL while scanning string literal\n"
     ]
    }
   ],
   "source": [
    "# not taking as character\n",
    "len('\\')"
   ]
  },
  {
   "cell_type": "code",
   "execution_count": 204,
   "id": "c87d407e",
   "metadata": {},
   "outputs": [
    {
     "data": {
      "text/plain": [
       "8"
      ]
     },
     "execution_count": 204,
     "metadata": {},
     "output_type": "execute_result"
    }
   ],
   "source": [
    "len(et) # by default tab size is it."
   ]
  },
  {
   "cell_type": "markdown",
   "id": "e3a13efe",
   "metadata": {},
   "source": [
    "### isupper()"
   ]
  },
  {
   "cell_type": "code",
   "execution_count": 209,
   "id": "9565ebb6",
   "metadata": {},
   "outputs": [],
   "source": [
    "s = 'chaitanya'"
   ]
  },
  {
   "cell_type": "code",
   "execution_count": 210,
   "id": "56da232a",
   "metadata": {},
   "outputs": [
    {
     "data": {
      "text/plain": [
       "False"
      ]
     },
     "execution_count": 210,
     "metadata": {},
     "output_type": "execute_result"
    }
   ],
   "source": [
    "# will detect if the string is completely in upper case or not, and will retrun a boolean(TRUE/FALSE) value accordingly.\n",
    "s.isupper() "
   ]
  },
  {
   "cell_type": "code",
   "execution_count": 211,
   "id": "a5f991af",
   "metadata": {},
   "outputs": [],
   "source": [
    "s = 'Chaitanya'"
   ]
  },
  {
   "cell_type": "code",
   "execution_count": 212,
   "id": "806e56c5",
   "metadata": {},
   "outputs": [
    {
     "data": {
      "text/plain": [
       "False"
      ]
     },
     "execution_count": 212,
     "metadata": {},
     "output_type": "execute_result"
    }
   ],
   "source": [
    "s.isupper()"
   ]
  },
  {
   "cell_type": "code",
   "execution_count": 213,
   "id": "b2e353a1",
   "metadata": {},
   "outputs": [],
   "source": [
    "s = 'CHAITANYA'"
   ]
  },
  {
   "cell_type": "code",
   "execution_count": 214,
   "id": "bd6e96df",
   "metadata": {},
   "outputs": [
    {
     "data": {
      "text/plain": [
       "True"
      ]
     },
     "execution_count": 214,
     "metadata": {},
     "output_type": "execute_result"
    }
   ],
   "source": [
    "s.isupper()"
   ]
  },
  {
   "cell_type": "markdown",
   "id": "87d4037f",
   "metadata": {},
   "source": [
    "### islower()"
   ]
  },
  {
   "cell_type": "code",
   "execution_count": 216,
   "id": "fba2607b",
   "metadata": {},
   "outputs": [],
   "source": [
    "s = 'chaitanyA'"
   ]
  },
  {
   "cell_type": "code",
   "execution_count": 217,
   "id": "75666a88",
   "metadata": {},
   "outputs": [
    {
     "data": {
      "text/plain": [
       "False"
      ]
     },
     "execution_count": 217,
     "metadata": {},
     "output_type": "execute_result"
    }
   ],
   "source": [
    "# will detect if the string is completely in lowercase case or not, and will retrun a boolean(TRUE/FALSE) value accordingly.\n",
    "s.islower()"
   ]
  },
  {
   "cell_type": "code",
   "execution_count": 218,
   "id": "b16c75c6",
   "metadata": {},
   "outputs": [],
   "source": [
    "s = 'chaitanya'"
   ]
  },
  {
   "cell_type": "code",
   "execution_count": 219,
   "id": "fe55118e",
   "metadata": {},
   "outputs": [
    {
     "data": {
      "text/plain": [
       "True"
      ]
     },
     "execution_count": 219,
     "metadata": {},
     "output_type": "execute_result"
    }
   ],
   "source": [
    "s.islower()"
   ]
  },
  {
   "cell_type": "code",
   "execution_count": 221,
   "id": "a2f0d1b0",
   "metadata": {},
   "outputs": [],
   "source": [
    "s = 'Chaitanya'"
   ]
  },
  {
   "cell_type": "code",
   "execution_count": 222,
   "id": "ca2673c1",
   "metadata": {},
   "outputs": [
    {
     "data": {
      "text/plain": [
       "False"
      ]
     },
     "execution_count": 222,
     "metadata": {},
     "output_type": "execute_result"
    }
   ],
   "source": [
    "s.islower()"
   ]
  },
  {
   "cell_type": "markdown",
   "id": "d2a1ff2e",
   "metadata": {},
   "source": [
    "### isspace()"
   ]
  },
  {
   "cell_type": "markdown",
   "id": "86565076",
   "metadata": {},
   "source": [
    "* for spaces before, after and inbetween string it will be false.\n",
    "* will work only with ' '"
   ]
  },
  {
   "cell_type": "code",
   "execution_count": 223,
   "id": "3a997b52",
   "metadata": {},
   "outputs": [],
   "source": [
    "s = ' Mind Graph '"
   ]
  },
  {
   "cell_type": "code",
   "execution_count": 224,
   "id": "2529498f",
   "metadata": {},
   "outputs": [
    {
     "data": {
      "text/plain": [
       "False"
      ]
     },
     "execution_count": 224,
     "metadata": {},
     "output_type": "execute_result"
    }
   ],
   "source": [
    "s.isspace()"
   ]
  },
  {
   "cell_type": "code",
   "execution_count": 225,
   "id": "eca79f77",
   "metadata": {},
   "outputs": [],
   "source": [
    "s = ' MindGraph'"
   ]
  },
  {
   "cell_type": "code",
   "execution_count": 226,
   "id": "9a1ef77b",
   "metadata": {},
   "outputs": [
    {
     "data": {
      "text/plain": [
       "False"
      ]
     },
     "execution_count": 226,
     "metadata": {},
     "output_type": "execute_result"
    }
   ],
   "source": [
    "s.isspace()"
   ]
  },
  {
   "cell_type": "code",
   "execution_count": 227,
   "id": "8f0e6f2f",
   "metadata": {},
   "outputs": [],
   "source": [
    "s = ' ' # will only work for this statement"
   ]
  },
  {
   "cell_type": "code",
   "execution_count": 228,
   "id": "3add4b9a",
   "metadata": {},
   "outputs": [
    {
     "data": {
      "text/plain": [
       "True"
      ]
     },
     "execution_count": 228,
     "metadata": {},
     "output_type": "execute_result"
    }
   ],
   "source": [
    "s.isspace()"
   ]
  },
  {
   "cell_type": "markdown",
   "id": "4acc6a61",
   "metadata": {},
   "source": [
    "### Open Account in https://www.typing.com/ and Take 3, 5 minutes test regularly"
   ]
  },
  {
   "cell_type": "markdown",
   "id": "3a8b0303",
   "metadata": {},
   "source": [
    "### isdigit()"
   ]
  },
  {
   "cell_type": "code",
   "execution_count": 230,
   "id": "99b1e38b",
   "metadata": {},
   "outputs": [],
   "source": [
    "d = '123yhdyudhye'"
   ]
  },
  {
   "cell_type": "code",
   "execution_count": 231,
   "id": "f9834ac2",
   "metadata": {},
   "outputs": [
    {
     "data": {
      "text/plain": [
       "False"
      ]
     },
     "execution_count": 231,
     "metadata": {},
     "output_type": "execute_result"
    }
   ],
   "source": [
    "d.isdigit()"
   ]
  },
  {
   "cell_type": "code",
   "execution_count": 234,
   "id": "e6cdaf0e",
   "metadata": {},
   "outputs": [],
   "source": [
    "d = '23'"
   ]
  },
  {
   "cell_type": "code",
   "execution_count": 233,
   "id": "b64699e1",
   "metadata": {},
   "outputs": [
    {
     "data": {
      "text/plain": [
       "True"
      ]
     },
     "execution_count": 233,
     "metadata": {},
     "output_type": "execute_result"
    }
   ],
   "source": [
    "d.isdigit()"
   ]
  },
  {
   "cell_type": "code",
   "execution_count": 235,
   "id": "a471c419",
   "metadata": {},
   "outputs": [],
   "source": [
    "d = 23"
   ]
  },
  {
   "cell_type": "code",
   "execution_count": 236,
   "id": "714d582f",
   "metadata": {},
   "outputs": [
    {
     "ename": "AttributeError",
     "evalue": "'int' object has no attribute 'isdigit'",
     "output_type": "error",
     "traceback": [
      "\u001b[1;31m---------------------------------------------------------------------------\u001b[0m",
      "\u001b[1;31mAttributeError\u001b[0m                            Traceback (most recent call last)",
      "\u001b[1;32m~\\AppData\\Local\\Temp/ipykernel_18120/1226673045.py\u001b[0m in \u001b[0;36m<module>\u001b[1;34m\u001b[0m\n\u001b[1;32m----> 1\u001b[1;33m \u001b[0md\u001b[0m\u001b[1;33m.\u001b[0m\u001b[0misdigit\u001b[0m\u001b[1;33m(\u001b[0m\u001b[1;33m)\u001b[0m\u001b[1;33m\u001b[0m\u001b[1;33m\u001b[0m\u001b[0m\n\u001b[0m",
      "\u001b[1;31mAttributeError\u001b[0m: 'int' object has no attribute 'isdigit'"
     ]
    }
   ],
   "source": [
    "d.isdigit() # isdigit() is a string function."
   ]
  },
  {
   "cell_type": "code",
   "execution_count": 243,
   "id": "2f9c0cd4",
   "metadata": {},
   "outputs": [],
   "source": [
    "d = '547' + str(ord('8'))"
   ]
  },
  {
   "cell_type": "code",
   "execution_count": 246,
   "id": "8ed1f1cb",
   "metadata": {},
   "outputs": [
    {
     "data": {
      "text/plain": [
       "56"
      ]
     },
     "execution_count": 246,
     "metadata": {},
     "output_type": "execute_result"
    }
   ],
   "source": [
    "ord('8') "
   ]
  },
  {
   "cell_type": "code",
   "execution_count": 245,
   "id": "3da7018a",
   "metadata": {},
   "outputs": [
    {
     "data": {
      "text/plain": [
       "'56'"
      ]
     },
     "execution_count": 245,
     "metadata": {},
     "output_type": "execute_result"
    }
   ],
   "source": [
    "str(ord('8'))"
   ]
  },
  {
   "cell_type": "code",
   "execution_count": 244,
   "id": "aef2b496",
   "metadata": {},
   "outputs": [
    {
     "data": {
      "text/plain": [
       "True"
      ]
     },
     "execution_count": 244,
     "metadata": {},
     "output_type": "execute_result"
    }
   ],
   "source": [
    "d.isdigit()"
   ]
  },
  {
   "cell_type": "markdown",
   "id": "9f0d8405",
   "metadata": {},
   "source": [
    "### startswith()"
   ]
  },
  {
   "cell_type": "code",
   "execution_count": 247,
   "id": "df731bc9",
   "metadata": {},
   "outputs": [],
   "source": [
    "s = '4sgsudiewbdwugefc'"
   ]
  },
  {
   "cell_type": "code",
   "execution_count": 248,
   "id": "da06b948",
   "metadata": {},
   "outputs": [
    {
     "data": {
      "text/plain": [
       "False"
      ]
     },
     "execution_count": 248,
     "metadata": {},
     "output_type": "execute_result"
    }
   ],
   "source": [
    "s.startswith('s') # will check if the first character of the string is starting with the specified argument or not."
   ]
  },
  {
   "cell_type": "code",
   "execution_count": 249,
   "id": "d34d01a8",
   "metadata": {},
   "outputs": [
    {
     "ename": "TypeError",
     "evalue": "startswith first arg must be str or a tuple of str, not int",
     "output_type": "error",
     "traceback": [
      "\u001b[1;31m---------------------------------------------------------------------------\u001b[0m",
      "\u001b[1;31mTypeError\u001b[0m                                 Traceback (most recent call last)",
      "\u001b[1;32m~\\AppData\\Local\\Temp/ipykernel_18120/3559679510.py\u001b[0m in \u001b[0;36m<module>\u001b[1;34m\u001b[0m\n\u001b[1;32m----> 1\u001b[1;33m \u001b[0ms\u001b[0m\u001b[1;33m.\u001b[0m\u001b[0mstartswith\u001b[0m\u001b[1;33m(\u001b[0m\u001b[1;36m4\u001b[0m\u001b[1;33m)\u001b[0m\u001b[1;33m\u001b[0m\u001b[1;33m\u001b[0m\u001b[0m\n\u001b[0m",
      "\u001b[1;31mTypeError\u001b[0m: startswith first arg must be str or a tuple of str, not int"
     ]
    }
   ],
   "source": [
    "s.startswith(4) # these are string operations and do not take any other values as input"
   ]
  },
  {
   "cell_type": "code",
   "execution_count": 250,
   "id": "aa90679e",
   "metadata": {},
   "outputs": [
    {
     "data": {
      "text/plain": [
       "True"
      ]
     },
     "execution_count": 250,
     "metadata": {},
     "output_type": "execute_result"
    }
   ],
   "source": [
    "s.startswith('4')"
   ]
  },
  {
   "cell_type": "markdown",
   "id": "258c209d",
   "metadata": {},
   "source": [
    "### endswith()"
   ]
  },
  {
   "cell_type": "code",
   "execution_count": 251,
   "id": "9524cebd",
   "metadata": {},
   "outputs": [
    {
     "data": {
      "text/plain": [
       "'4sgsudiewbdwugefc'"
      ]
     },
     "execution_count": 251,
     "metadata": {},
     "output_type": "execute_result"
    }
   ],
   "source": [
    "s"
   ]
  },
  {
   "cell_type": "code",
   "execution_count": 252,
   "id": "47352397",
   "metadata": {},
   "outputs": [
    {
     "data": {
      "text/plain": [
       "True"
      ]
     },
     "execution_count": 252,
     "metadata": {},
     "output_type": "execute_result"
    }
   ],
   "source": [
    "s.endswith('c') # will check if the last character of the string is starting with the specified argument or not."
   ]
  },
  {
   "cell_type": "code",
   "execution_count": 253,
   "id": "d1e59c8d",
   "metadata": {},
   "outputs": [
    {
     "data": {
      "text/plain": [
       "False"
      ]
     },
     "execution_count": 253,
     "metadata": {},
     "output_type": "execute_result"
    }
   ],
   "source": [
    "s.endswith('g')"
   ]
  },
  {
   "cell_type": "markdown",
   "id": "6d899644",
   "metadata": {},
   "source": [
    "### isalpha()"
   ]
  },
  {
   "cell_type": "code",
   "execution_count": 254,
   "id": "f45a869b",
   "metadata": {},
   "outputs": [],
   "source": [
    "s = 'a'"
   ]
  },
  {
   "cell_type": "code",
   "execution_count": 255,
   "id": "c8e450cf",
   "metadata": {},
   "outputs": [
    {
     "data": {
      "text/plain": [
       "True"
      ]
     },
     "execution_count": 255,
     "metadata": {},
     "output_type": "execute_result"
    }
   ],
   "source": [
    "s.isalpha()"
   ]
  },
  {
   "cell_type": "code",
   "execution_count": null,
   "id": "6f136fc5",
   "metadata": {},
   "outputs": [],
   "source": [
    "s = 'A'"
   ]
  },
  {
   "cell_type": "code",
   "execution_count": 256,
   "id": "00f068c3",
   "metadata": {},
   "outputs": [
    {
     "data": {
      "text/plain": [
       "True"
      ]
     },
     "execution_count": 256,
     "metadata": {},
     "output_type": "execute_result"
    }
   ],
   "source": [
    "s.isalpha()"
   ]
  },
  {
   "cell_type": "code",
   "execution_count": 257,
   "id": "3d89ff71",
   "metadata": {},
   "outputs": [],
   "source": [
    "s = 'QA'"
   ]
  },
  {
   "cell_type": "code",
   "execution_count": 258,
   "id": "c18438ee",
   "metadata": {},
   "outputs": [
    {
     "data": {
      "text/plain": [
       "True"
      ]
     },
     "execution_count": 258,
     "metadata": {},
     "output_type": "execute_result"
    }
   ],
   "source": [
    "s.isalpha()"
   ]
  },
  {
   "cell_type": "code",
   "execution_count": 259,
   "id": "9e09665b",
   "metadata": {},
   "outputs": [],
   "source": [
    "s = 'QA8'"
   ]
  },
  {
   "cell_type": "code",
   "execution_count": 260,
   "id": "5bc44b2b",
   "metadata": {},
   "outputs": [
    {
     "data": {
      "text/plain": [
       "False"
      ]
     },
     "execution_count": 260,
     "metadata": {},
     "output_type": "execute_result"
    }
   ],
   "source": [
    "s.isalpha()"
   ]
  },
  {
   "cell_type": "markdown",
   "id": "851b7b0e",
   "metadata": {},
   "source": [
    "### isalnum()"
   ]
  },
  {
   "cell_type": "code",
   "execution_count": 261,
   "id": "5b6683bc",
   "metadata": {},
   "outputs": [
    {
     "data": {
      "text/plain": [
       "'QA8'"
      ]
     },
     "execution_count": 261,
     "metadata": {},
     "output_type": "execute_result"
    }
   ],
   "source": [
    "s"
   ]
  },
  {
   "cell_type": "code",
   "execution_count": 262,
   "id": "a10970b1",
   "metadata": {},
   "outputs": [
    {
     "data": {
      "text/plain": [
       "True"
      ]
     },
     "execution_count": 262,
     "metadata": {},
     "output_type": "execute_result"
    }
   ],
   "source": [
    "s.isalnum()"
   ]
  },
  {
   "cell_type": "code",
   "execution_count": 263,
   "id": "17ae69eb",
   "metadata": {},
   "outputs": [],
   "source": [
    "s = True"
   ]
  },
  {
   "cell_type": "code",
   "execution_count": 264,
   "id": "196a4c7f",
   "metadata": {},
   "outputs": [
    {
     "ename": "AttributeError",
     "evalue": "'bool' object has no attribute 'isalnum'",
     "output_type": "error",
     "traceback": [
      "\u001b[1;31m---------------------------------------------------------------------------\u001b[0m",
      "\u001b[1;31mAttributeError\u001b[0m                            Traceback (most recent call last)",
      "\u001b[1;32m~\\AppData\\Local\\Temp/ipykernel_18120/4183204920.py\u001b[0m in \u001b[0;36m<module>\u001b[1;34m\u001b[0m\n\u001b[1;32m----> 1\u001b[1;33m \u001b[0ms\u001b[0m\u001b[1;33m.\u001b[0m\u001b[0misalnum\u001b[0m\u001b[1;33m(\u001b[0m\u001b[1;33m)\u001b[0m\u001b[1;33m\u001b[0m\u001b[1;33m\u001b[0m\u001b[0m\n\u001b[0m",
      "\u001b[1;31mAttributeError\u001b[0m: 'bool' object has no attribute 'isalnum'"
     ]
    }
   ],
   "source": [
    "s.isalnum() # we are working with string functions"
   ]
  },
  {
   "cell_type": "code",
   "execution_count": 265,
   "id": "0bc60d73",
   "metadata": {},
   "outputs": [],
   "source": [
    "s = '804167thjkffbgreajkgfr'"
   ]
  },
  {
   "cell_type": "code",
   "execution_count": 266,
   "id": "4734b342",
   "metadata": {},
   "outputs": [
    {
     "data": {
      "text/plain": [
       "True"
      ]
     },
     "execution_count": 266,
     "metadata": {},
     "output_type": "execute_result"
    }
   ],
   "source": [
    "s.isalnum()"
   ]
  },
  {
   "cell_type": "markdown",
   "id": "b744f524",
   "metadata": {},
   "source": [
    "### Task-1:"
   ]
  },
  {
   "cell_type": "markdown",
   "id": "2ac0c2db",
   "metadata": {},
   "source": [
    "* WAP to replace ByteIQ with Mindgraph.\n",
    "\n",
    "    \n",
    "        * Sample input: \n",
    "                \n",
    "                * st = \"I am working in ByteIQ\"\n",
    "        \n",
    "        * Sample output:        \n",
    "        \n",
    "                * new_str = \"I am working in Mindgraph\""
   ]
  },
  {
   "cell_type": "markdown",
   "id": "9f8b8506",
   "metadata": {},
   "source": [
    "### Task-2:"
   ]
  },
  {
   "cell_type": "markdown",
   "id": "092370c3",
   "metadata": {},
   "source": [
    "* WAP to print all the alphanumeric words from a list. \n",
    "    \n",
    "    * Sample input: \n",
    "            \n",
    "            * [\"soumya\", \"123abc\", \"1s34r\", \"Shubha\", \"5\", True]\n",
    "    \n",
    "    * Sample Output:\n",
    "            \n",
    "            * [\"123abc\", \"1s34r\"]\n",
    "           "
   ]
  },
  {
   "cell_type": "markdown",
   "id": "35db01e3",
   "metadata": {},
   "source": [
    "### Task-3:"
   ]
  },
  {
   "cell_type": "markdown",
   "id": "ef02fdfb",
   "metadata": {},
   "source": [
    "*  WAP to print a string by joining all the elements from a list.\n",
    "    \n",
    "    \n",
    "    * Sample input:\n",
    "        \n",
    "        \n",
    "        * lst = [\"I\", \"want\", \"to\", \"be\", \"a\", \"Data\", \"Engineer\"]\n",
    "     \n",
    "     \n",
    "     * Sample output:\n",
    "         \n",
    "         \n",
    "         * st = \"I want to be a Data Engineer\"."
   ]
  },
  {
   "cell_type": "markdown",
   "id": "5e35eae2",
   "metadata": {},
   "source": [
    "### Task-4:"
   ]
  },
  {
   "cell_type": "markdown",
   "id": "45d8275d",
   "metadata": {},
   "source": [
    "* WAP to ask the user to enter their first name and surname in lower\n",
    "case. Change the case to upper case and join them together separated by a space.\n",
    "Display the finished result.\n",
    "\n",
    "    * Sample input:    \n",
    "                 * first_name: soumya\n",
    "                 * Second_name: ranjan\n",
    "    * Sample output: \n",
    "                 * SOUMYA RANJAN"
   ]
  },
  {
   "cell_type": "markdown",
   "id": "a3310542",
   "metadata": {},
   "source": [
    "### Task-5:"
   ]
  },
  {
   "cell_type": "markdown",
   "id": "4ea6b570",
   "metadata": {},
   "source": [
    "* WAP to store the even length words of a string in a list.\n",
    "    \n",
    "    \n",
    "    * Sample input1: \n",
    "                \n",
    "        * \"I am working in Mindgraph\"\n",
    "     \n",
    "    * Sample output1: \n",
    "             \n",
    "        * [\"am\", \"in\"]\n",
    "    \n",
    "    \n",
    "    * Sample input2: \n",
    "                \n",
    "            * \"How is your training going on\"\n",
    "                \n",
    "     * Sample output2: \n",
    "                \n",
    "            * [\"is\", \"your\", \"training\", \"on\"]\n"
   ]
  },
  {
   "cell_type": "code",
   "execution_count": null,
   "id": "f87c805a",
   "metadata": {},
   "outputs": [],
   "source": []
  }
 ],
 "metadata": {
  "kernelspec": {
   "display_name": "Python 3",
   "language": "python",
   "name": "python3"
  },
  "language_info": {
   "codemirror_mode": {
    "name": "ipython",
    "version": 3
   },
   "file_extension": ".py",
   "mimetype": "text/x-python",
   "name": "python",
   "nbconvert_exporter": "python",
   "pygments_lexer": "ipython3",
   "version": "3.8.8"
  }
 },
 "nbformat": 4,
 "nbformat_minor": 5
}
