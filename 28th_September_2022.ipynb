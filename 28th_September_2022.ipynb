{
 "cells": [
  {
   "cell_type": "markdown",
   "id": "df837ce4",
   "metadata": {},
   "source": [
    "# While Loop\n",
    "\n",
    "* Till the condition is not satisfied, the loop will keep on executing, unless any external function is provided inside the loop to stop it."
   ]
  },
  {
   "cell_type": "code",
   "execution_count": 2,
   "id": "2e1e96b9",
   "metadata": {},
   "outputs": [],
   "source": [
    "i = 5"
   ]
  },
  {
   "cell_type": "code",
   "execution_count": 3,
   "id": "d5318527",
   "metadata": {
    "scrolled": true
   },
   "outputs": [
    {
     "name": "stdout",
     "output_type": "stream",
     "text": [
      "5\n",
      "6\n",
      "7\n",
      "8\n",
      "9\n"
     ]
    }
   ],
   "source": [
    "while(i<10):\n",
    "    print(i)\n",
    "    i += 1"
   ]
  },
  {
   "cell_type": "markdown",
   "id": "6f9efeac",
   "metadata": {},
   "source": [
    "# Syntax of While Loop"
   ]
  },
  {
   "cell_type": "code",
   "execution_count": null,
   "id": "4ace6477",
   "metadata": {},
   "outputs": [],
   "source": [
    "while(condition):\n",
    "    statement"
   ]
  },
  {
   "cell_type": "code",
   "execution_count": 4,
   "id": "56dc5b5f",
   "metadata": {},
   "outputs": [
    {
     "data": {
      "text/plain": [
       "10"
      ]
     },
     "execution_count": 4,
     "metadata": {},
     "output_type": "execute_result"
    }
   ],
   "source": [
    "i"
   ]
  },
  {
   "cell_type": "code",
   "execution_count": 5,
   "id": "56ab0813",
   "metadata": {},
   "outputs": [],
   "source": [
    "# Nothing will be displayed\n",
    "while(i>10):\n",
    "    print(i)\n",
    "    i += 1"
   ]
  },
  {
   "cell_type": "markdown",
   "id": "a3b6c12c",
   "metadata": {},
   "source": [
    "### Example - 1"
   ]
  },
  {
   "cell_type": "code",
   "execution_count": 6,
   "id": "be1ab37e",
   "metadata": {},
   "outputs": [],
   "source": [
    "n = 1"
   ]
  },
  {
   "cell_type": "code",
   "execution_count": 7,
   "id": "7b32ff53",
   "metadata": {},
   "outputs": [
    {
     "name": "stdout",
     "output_type": "stream",
     "text": [
      "We are Mindgraph\n",
      "We are Mindgraph\n"
     ]
    }
   ],
   "source": [
    "# usage of brackets is not mandatory for every condition.\n",
    "while n<5:\n",
    "    print('We are Mindgraph')\n",
    "    n += 2"
   ]
  },
  {
   "cell_type": "code",
   "execution_count": 8,
   "id": "07c253da",
   "metadata": {},
   "outputs": [
    {
     "name": "stdout",
     "output_type": "stream",
     "text": [
      "We are Mindgraph\n",
      "We are Mindgraph\n",
      "We are Mindgraph\n",
      "We are Mindgraph\n",
      "We are Mindgraph\n",
      "We are Mindgraph\n",
      "We are Mindgraph\n",
      "We are Mindgraph\n"
     ]
    }
   ],
   "source": [
    "n = 1\n",
    "while n<5:\n",
    "    print('We are Mindgraph')\n",
    "    n += 0.5"
   ]
  },
  {
   "cell_type": "markdown",
   "id": "0183104a",
   "metadata": {},
   "source": [
    "### While Loop using 'break' statement."
   ]
  },
  {
   "cell_type": "code",
   "execution_count": 9,
   "id": "46b3de17",
   "metadata": {},
   "outputs": [
    {
     "name": "stdout",
     "output_type": "stream",
     "text": [
      "We are Mindgraph\n",
      "We are Mindgraph\n"
     ]
    }
   ],
   "source": [
    "n = 1\n",
    "while n<5:\n",
    "    print('We are Mindgraph')\n",
    "    n += 1\n",
    "    if n == 3:\n",
    "        break"
   ]
  },
  {
   "cell_type": "code",
   "execution_count": 10,
   "id": "2af2c7ad",
   "metadata": {},
   "outputs": [
    {
     "name": "stdout",
     "output_type": "stream",
     "text": [
      "We are Mindgraph\n"
     ]
    }
   ],
   "source": [
    "n = 1\n",
    "while n<5:\n",
    "    print('We are Mindgraph')\n",
    "    n += 2\n",
    "    if n == 3:\n",
    "        break"
   ]
  },
  {
   "cell_type": "code",
   "execution_count": 12,
   "id": "a329821f",
   "metadata": {},
   "outputs": [
    {
     "name": "stdout",
     "output_type": "stream",
     "text": [
      "We are Mindgraph\n",
      "We are Mindgraph\n",
      "7\n"
     ]
    }
   ],
   "source": [
    "n = 1\n",
    "while n<5:\n",
    "    print('We are Mindgraph')\n",
    "    n += 3\n",
    "    if n == 3:\n",
    "        break\n",
    "print(n)"
   ]
  },
  {
   "cell_type": "markdown",
   "id": "b5055f09",
   "metadata": {},
   "source": [
    "### While using 'continue' statement"
   ]
  },
  {
   "cell_type": "code",
   "execution_count": 13,
   "id": "df3d4026",
   "metadata": {},
   "outputs": [
    {
     "name": "stdout",
     "output_type": "stream",
     "text": [
      "We are Mindgraph\n",
      "We are Mindgraph\n",
      "We are Mindgraph\n"
     ]
    }
   ],
   "source": [
    "n = 1\n",
    "while n != 5:\n",
    "    if n == 2:\n",
    "        n = n+1\n",
    "        continue\n",
    "    print('We are Mindgraph')\n",
    "    n = n+1"
   ]
  },
  {
   "cell_type": "markdown",
   "id": "8c8390c8",
   "metadata": {},
   "source": [
    "### While using if-elif-else statements"
   ]
  },
  {
   "cell_type": "code",
   "execution_count": 21,
   "id": "94190ab4",
   "metadata": {},
   "outputs": [
    {
     "name": "stdout",
     "output_type": "stream",
     "text": [
      "z is : 0\n",
      "z is : 1\n",
      "z is : 2\n",
      "z is : 3\n",
      "z is : 5\n",
      "z is : 6\n",
      "z is : 7\n",
      "z is : 8\n",
      "z is : 9\n",
      "11\n"
     ]
    }
   ],
   "source": [
    "z = 0\n",
    "\n",
    "while z < 10:\n",
    "    if z % 2 == 0:\n",
    "        print(\"z is :\", z)\n",
    "        z += 1\n",
    "    elif z % 3 == 0:\n",
    "        print(\"z is :\", z)\n",
    "        z += 2\n",
    "    else:\n",
    "        print(\"z is :\", z)\n",
    "        z += 1\n",
    "print(z)"
   ]
  },
  {
   "cell_type": "markdown",
   "id": "d584d6ed",
   "metadata": {},
   "source": [
    "### Adding elements to a list using While Loop"
   ]
  },
  {
   "cell_type": "code",
   "execution_count": 22,
   "id": "9ef47c43",
   "metadata": {},
   "outputs": [
    {
     "name": "stdout",
     "output_type": "stream",
     "text": [
      "[0, 3, 6, 9, 12, 15, 18, 21, 24, 27]\n"
     ]
    }
   ],
   "source": [
    "# this program will execute till the no. of elements in the list is 10\n",
    "empty_list = [] # define an empty list\n",
    "i = 0\n",
    "\n",
    "while len(empty_list)<10:\n",
    "    empty_list.append(i)\n",
    "    i += 3\n",
    "print(empty_list)"
   ]
  },
  {
   "cell_type": "code",
   "execution_count": 23,
   "id": "6a0d3ea6",
   "metadata": {},
   "outputs": [
    {
     "name": "stdout",
     "output_type": "stream",
     "text": [
      "[0, 3, 6, 9]\n"
     ]
    }
   ],
   "source": [
    "empty_list = [] # define an empty list\n",
    "i = 0\n",
    "\n",
    "while i<10:\n",
    "    empty_list.append(i)\n",
    "    i += 3\n",
    "print(empty_list)"
   ]
  },
  {
   "cell_type": "markdown",
   "id": "cced72fe",
   "metadata": {},
   "source": [
    "### While loop to print a number series :\n",
    "\n",
    "* Expected output : 10,20,30,40,50,60,70,80,90,100"
   ]
  },
  {
   "cell_type": "code",
   "execution_count": 28,
   "id": "33d1ed1b",
   "metadata": {},
   "outputs": [
    {
     "name": "stdout",
     "output_type": "stream",
     "text": [
      "10,20,30,40,50,60,70,80,90,100,"
     ]
    }
   ],
   "source": [
    "# with comma at the end.\n",
    "n = 10\n",
    "while n<=100:\n",
    "    print(n, end = ',')\n",
    "    n += 10"
   ]
  },
  {
   "cell_type": "code",
   "execution_count": 27,
   "id": "7b8d1075",
   "metadata": {},
   "outputs": [
    {
     "name": "stdout",
     "output_type": "stream",
     "text": [
      "10,20,30,40,50,60,70,80,90,100\n"
     ]
    }
   ],
   "source": [
    "# without comma at the end\n",
    "n = 10\n",
    "while n<=100:\n",
    "    if n == 100:\n",
    "        print(n)\n",
    "        n += 10\n",
    "    else:\n",
    "        print(n, end = ',')\n",
    "        n += 10"
   ]
  },
  {
   "cell_type": "markdown",
   "id": "ccacb721",
   "metadata": {},
   "source": [
    "### Print the items present in the tuple using while Loop.\n",
    "\n",
    "* t = (10, 20, 30, 40, 50, 60)"
   ]
  },
  {
   "cell_type": "code",
   "execution_count": 29,
   "id": "f38bbbdc",
   "metadata": {},
   "outputs": [],
   "source": [
    "t = (10, 20, 30, 40, 50, 60)"
   ]
  },
  {
   "cell_type": "code",
   "execution_count": 32,
   "id": "2d611108",
   "metadata": {},
   "outputs": [
    {
     "data": {
      "text/plain": [
       "50"
      ]
     },
     "execution_count": 32,
     "metadata": {},
     "output_type": "execute_result"
    }
   ],
   "source": [
    "t[4]"
   ]
  },
  {
   "cell_type": "code",
   "execution_count": 30,
   "id": "a826499c",
   "metadata": {},
   "outputs": [
    {
     "data": {
      "text/plain": [
       "tuple"
      ]
     },
     "execution_count": 30,
     "metadata": {},
     "output_type": "execute_result"
    }
   ],
   "source": [
    "type(t)"
   ]
  },
  {
   "cell_type": "code",
   "execution_count": 31,
   "id": "278d2f6e",
   "metadata": {},
   "outputs": [
    {
     "name": "stdout",
     "output_type": "stream",
     "text": [
      "10\n",
      "20\n",
      "30\n",
      "40\n",
      "50\n",
      "60\n"
     ]
    }
   ],
   "source": [
    "i = 0\n",
    "while i<len(t):\n",
    "    print(t[i])\n",
    "    i += 1"
   ]
  },
  {
   "cell_type": "markdown",
   "id": "1222c08a",
   "metadata": {},
   "source": [
    "### Find the sum of numbers in a list using while loop, take the input from the user."
   ]
  },
  {
   "cell_type": "code",
   "execution_count": 39,
   "id": "e8c156c2",
   "metadata": {},
   "outputs": [
    {
     "name": "stdout",
     "output_type": "stream",
     "text": [
      "Enter a list of elements[1, 4, 5, 8, 10]\n"
     ]
    }
   ],
   "source": [
    "l = input('Enter a list of elements')"
   ]
  },
  {
   "cell_type": "markdown",
   "id": "9606e3a3",
   "metadata": {},
   "source": [
    "### list input issue"
   ]
  },
  {
   "cell_type": "code",
   "execution_count": 40,
   "id": "99bdb8ef",
   "metadata": {},
   "outputs": [
    {
     "data": {
      "text/plain": [
       "'[1, 4, 5, 8, 10]'"
      ]
     },
     "execution_count": 40,
     "metadata": {},
     "output_type": "execute_result"
    }
   ],
   "source": [
    "l"
   ]
  },
  {
   "cell_type": "code",
   "execution_count": 41,
   "id": "d4650b90",
   "metadata": {},
   "outputs": [
    {
     "data": {
      "text/plain": [
       "str"
      ]
     },
     "execution_count": 41,
     "metadata": {},
     "output_type": "execute_result"
    }
   ],
   "source": [
    "type(l)"
   ]
  },
  {
   "cell_type": "code",
   "execution_count": 50,
   "id": "4a104563",
   "metadata": {},
   "outputs": [
    {
     "name": "stdout",
     "output_type": "stream",
     "text": [
      "Enter a list of elements12345\n"
     ]
    }
   ],
   "source": [
    "l = list(input('Enter a list of elements'))"
   ]
  },
  {
   "cell_type": "code",
   "execution_count": 52,
   "id": "0a465ac9",
   "metadata": {},
   "outputs": [
    {
     "data": {
      "text/plain": [
       "['1', '2', '3', '4', '5']"
      ]
     },
     "execution_count": 52,
     "metadata": {},
     "output_type": "execute_result"
    }
   ],
   "source": [
    "l"
   ]
  },
  {
   "cell_type": "code",
   "execution_count": 72,
   "id": "b4e6182b",
   "metadata": {},
   "outputs": [
    {
     "name": "stdout",
     "output_type": "stream",
     "text": [
      "Enter the number of elements you want in your list5\n"
     ]
    }
   ],
   "source": [
    "empty_list = []\n",
    "n = int(input(\"Enter the number of elements you want in your list\"))"
   ]
  },
  {
   "cell_type": "code",
   "execution_count": 71,
   "id": "1936d5df",
   "metadata": {},
   "outputs": [],
   "source": [
    "i = 0"
   ]
  },
  {
   "cell_type": "code",
   "execution_count": 73,
   "id": "c371e35d",
   "metadata": {},
   "outputs": [
    {
     "name": "stdout",
     "output_type": "stream",
     "text": [
      "Enter the 1 element for the list5\n",
      "Enter the 2 element for the list6\n",
      "Enter the 3 element for the list4\n",
      "Enter the 4 element for the list2\n",
      "Enter the 5 element for the list1\n"
     ]
    }
   ],
   "source": [
    "while i<n:\n",
    "    ele = int(input('Enter the {} element for the list'.format(i+1)))\n",
    "    empty_list.append(ele)\n",
    "    i += 1"
   ]
  },
  {
   "cell_type": "code",
   "execution_count": 74,
   "id": "9b56e6ec",
   "metadata": {},
   "outputs": [
    {
     "data": {
      "text/plain": [
       "[5, 6, 4, 2, 1]"
      ]
     },
     "execution_count": 74,
     "metadata": {},
     "output_type": "execute_result"
    }
   ],
   "source": [
    "empty_list"
   ]
  },
  {
   "cell_type": "code",
   "execution_count": 79,
   "id": "9c274dcb",
   "metadata": {},
   "outputs": [
    {
     "name": "stdout",
     "output_type": "stream",
     "text": [
      "Enter the number of elements you want in your list : 6\n",
      "Enter the 1 element for the list : 10\n",
      "Enter the 2 element for the list : 20\n",
      "Enter the 3 element for the list : 30\n",
      "Enter the 4 element for the list : 40\n",
      "Enter the 5 element for the list : 50\n",
      "Enter the 6 element for the list : 60\n",
      "The sum of the elements of the list entered is 210 :\n"
     ]
    }
   ],
   "source": [
    "# taking input from the user\n",
    "empty_list = []\n",
    "n = int(input(\"Enter the number of elements you want in your list : \"))\n",
    "i = 0\n",
    "while i<n:\n",
    "    ele = int(input('Enter the {} element for the list : '.format(i+1)))\n",
    "    empty_list.append(ele)\n",
    "    i += 1\n",
    "# finding the sum of elements present in the list\n",
    "j = 0\n",
    "sum_of_ele = 0\n",
    "while j<len(empty_list):\n",
    "    sum_of_ele += empty_list[j]\n",
    "    j += 1\n",
    "print('The sum of the elements of the list entered is {} :'.format(sum_of_ele))"
   ]
  },
  {
   "cell_type": "code",
   "execution_count": null,
   "id": "8725f6e8",
   "metadata": {},
   "outputs": [],
   "source": []
  }
 ],
 "metadata": {
  "kernelspec": {
   "display_name": "Python 3 (ipykernel)",
   "language": "python",
   "name": "python3"
  },
  "language_info": {
   "codemirror_mode": {
    "name": "ipython",
    "version": 3
   },
   "file_extension": ".py",
   "mimetype": "text/x-python",
   "name": "python",
   "nbconvert_exporter": "python",
   "pygments_lexer": "ipython3",
   "version": "3.9.7"
  }
 },
 "nbformat": 4,
 "nbformat_minor": 5
}
