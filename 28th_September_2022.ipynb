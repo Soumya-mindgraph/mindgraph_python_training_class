{
 "cells": [
  {
   "cell_type": "markdown",
   "id": "a8a1e3af",
   "metadata": {},
   "source": [
    "# While Loop\n",
    "\n",
    "* Till the condition is not satisfied, the loop will keep on executing, unless any external function is provided inside the loop to stop it."
   ]
  },
  {
   "cell_type": "code",
   "execution_count": 2,
   "id": "a541a98b",
   "metadata": {},
   "outputs": [],
   "source": [
    "i = 5"
   ]
  },
  {
   "cell_type": "code",
   "execution_count": 3,
   "id": "032e6683",
   "metadata": {
    "scrolled": true
   },
   "outputs": [
    {
     "name": "stdout",
     "output_type": "stream",
     "text": [
      "5\n",
      "6\n",
      "7\n",
      "8\n",
      "9\n"
     ]
    }
   ],
   "source": [
    "while(i<10):\n",
    "    print(i)\n",
    "    i += 1"
   ]
  },
  {
   "cell_type": "markdown",
   "id": "abcf4416",
   "metadata": {},
   "source": [
    "# Syntax of While Loop"
   ]
  },
  {
   "cell_type": "code",
   "execution_count": null,
   "id": "ef73f668",
   "metadata": {},
   "outputs": [],
   "source": [
    "while(condition):\n",
    "    statement"
   ]
  },
  {
   "cell_type": "code",
   "execution_count": 4,
   "id": "5845108a",
   "metadata": {},
   "outputs": [
    {
     "data": {
      "text/plain": [
       "10"
      ]
     },
     "execution_count": 4,
     "metadata": {},
     "output_type": "execute_result"
    }
   ],
   "source": [
    "i"
   ]
  },
  {
   "cell_type": "code",
   "execution_count": 5,
   "id": "2c4c080c",
   "metadata": {},
   "outputs": [],
   "source": [
    "# Nothing will be displayed\n",
    "while(i>10):\n",
    "    print(i)\n",
    "    i += 1"
   ]
  },
  {
   "cell_type": "markdown",
   "id": "88ce6662",
   "metadata": {},
   "source": [
    "### Example - 1"
   ]
  },
  {
   "cell_type": "code",
   "execution_count": 6,
   "id": "d880c455",
   "metadata": {},
   "outputs": [],
   "source": [
    "n = 1"
   ]
  },
  {
   "cell_type": "code",
   "execution_count": 7,
   "id": "f5714077",
   "metadata": {},
   "outputs": [
    {
     "name": "stdout",
     "output_type": "stream",
     "text": [
      "We are Mindgraph\n",
      "We are Mindgraph\n"
     ]
    }
   ],
   "source": [
    "# usage of brackets is not mandatory for every condition.\n",
    "while n<5:\n",
    "    print('We are Mindgraph')\n",
    "    n += 2"
   ]
  },
  {
   "cell_type": "code",
   "execution_count": 8,
   "id": "0daecfb3",
   "metadata": {},
   "outputs": [
    {
     "name": "stdout",
     "output_type": "stream",
     "text": [
      "We are Mindgraph\n",
      "We are Mindgraph\n",
      "We are Mindgraph\n",
      "We are Mindgraph\n",
      "We are Mindgraph\n",
      "We are Mindgraph\n",
      "We are Mindgraph\n",
      "We are Mindgraph\n"
     ]
    }
   ],
   "source": [
    "n = 1\n",
    "while n<5:\n",
    "    print('We are Mindgraph')\n",
    "    n += 0.5"
   ]
  },
  {
   "cell_type": "markdown",
   "id": "c60816bc",
   "metadata": {},
   "source": [
    "### While Loop using 'break' statement."
   ]
  },
  {
   "cell_type": "code",
   "execution_count": 9,
   "id": "47597200",
   "metadata": {},
   "outputs": [
    {
     "name": "stdout",
     "output_type": "stream",
     "text": [
      "We are Mindgraph\n",
      "We are Mindgraph\n"
     ]
    }
   ],
   "source": [
    "n = 1\n",
    "while n<5:\n",
    "    print('We are Mindgraph')\n",
    "    n += 1\n",
    "    if n == 3:\n",
    "        break"
   ]
  },
  {
   "cell_type": "code",
   "execution_count": 10,
   "id": "b654bca6",
   "metadata": {},
   "outputs": [
    {
     "name": "stdout",
     "output_type": "stream",
     "text": [
      "We are Mindgraph\n"
     ]
    }
   ],
   "source": [
    "n = 1\n",
    "while n<5:\n",
    "    print('We are Mindgraph')\n",
    "    n += 2\n",
    "    if n == 3:\n",
    "        break"
   ]
  },
  {
   "cell_type": "code",
   "execution_count": 12,
   "id": "daa82d2d",
   "metadata": {},
   "outputs": [
    {
     "name": "stdout",
     "output_type": "stream",
     "text": [
      "We are Mindgraph\n",
      "We are Mindgraph\n",
      "7\n"
     ]
    }
   ],
   "source": [
    "n = 1\n",
    "while n<5:\n",
    "    print('We are Mindgraph')\n",
    "    n += 3\n",
    "    if n == 3:\n",
    "        break\n",
    "print(n)"
   ]
  },
  {
   "cell_type": "markdown",
   "id": "95701fcb",
   "metadata": {},
   "source": [
    "### While using 'continue' statement"
   ]
  },
  {
   "cell_type": "code",
   "execution_count": 13,
   "id": "efc2eba0",
   "metadata": {},
   "outputs": [
    {
     "name": "stdout",
     "output_type": "stream",
     "text": [
      "We are Mindgraph\n",
      "We are Mindgraph\n",
      "We are Mindgraph\n"
     ]
    }
   ],
   "source": [
    "n = 1\n",
    "while n != 5:\n",
    "    if n == 2:\n",
    "        n = n+1\n",
    "        continue\n",
    "    print('We are Mindgraph')\n",
    "    n = n+1"
   ]
  },
  {
   "cell_type": "markdown",
   "id": "1540c484",
   "metadata": {},
   "source": [
    "### While using if-elif-else statements"
   ]
  },
  {
   "cell_type": "code",
   "execution_count": 21,
   "id": "ca33e014",
   "metadata": {},
   "outputs": [
    {
     "name": "stdout",
     "output_type": "stream",
     "text": [
      "z is : 0\n",
      "z is : 1\n",
      "z is : 2\n",
      "z is : 3\n",
      "z is : 5\n",
      "z is : 6\n",
      "z is : 7\n",
      "z is : 8\n",
      "z is : 9\n",
      "11\n"
     ]
    }
   ],
   "source": [
    "z = 0\n",
    "\n",
    "while z < 10:\n",
    "    if z % 2 == 0:\n",
    "        print(\"z is :\", z)\n",
    "        z += 1\n",
    "    elif z % 3 == 0:\n",
    "        print(\"z is :\", z)\n",
    "        z += 2\n",
    "    else:\n",
    "        print(\"z is :\", z)\n",
    "        z += 1\n",
    "print(z)"
   ]
  },
  {
   "cell_type": "markdown",
   "id": "0721d18c",
   "metadata": {},
   "source": [
    "### Adding elements to a list using While Loop"
   ]
  },
  {
   "cell_type": "code",
   "execution_count": 22,
   "id": "a85a1683",
   "metadata": {},
   "outputs": [
    {
     "name": "stdout",
     "output_type": "stream",
     "text": [
      "[0, 3, 6, 9, 12, 15, 18, 21, 24, 27]\n"
     ]
    }
   ],
   "source": [
    "# this program will execute till the no. of elements in the list is 10\n",
    "empty_list = [] # define an empty list\n",
    "i = 0\n",
    "\n",
    "while len(empty_list)<10:\n",
    "    empty_list.append(i)\n",
    "    i += 3\n",
    "print(empty_list)"
   ]
  },
  {
   "cell_type": "code",
   "execution_count": 23,
   "id": "1ecc268a",
   "metadata": {},
   "outputs": [
    {
     "name": "stdout",
     "output_type": "stream",
     "text": [
      "[0, 3, 6, 9]\n"
     ]
    }
   ],
   "source": [
    "empty_list = [] # define an empty list\n",
    "i = 0\n",
    "\n",
    "while i<10:\n",
    "    empty_list.append(i)\n",
    "    i += 3\n",
    "print(empty_list)"
   ]
  },
  {
   "cell_type": "markdown",
   "id": "1ce57469",
   "metadata": {},
   "source": [
    "### While loop to print a number series :\n",
    "\n",
    "* Expected output : 10,20,30,40,50,60,70,80,90,100"
   ]
  },
  {
   "cell_type": "code",
   "execution_count": 28,
   "id": "817745fd",
   "metadata": {},
   "outputs": [
    {
     "name": "stdout",
     "output_type": "stream",
     "text": [
      "10,20,30,40,50,60,70,80,90,100,"
     ]
    }
   ],
   "source": [
    "# with comma at the end.\n",
    "n = 10\n",
    "while n<=100:\n",
    "    print(n, end = ',')\n",
    "    n += 10"
   ]
  },
  {
   "cell_type": "code",
   "execution_count": 27,
   "id": "4507d6ee",
   "metadata": {},
   "outputs": [
    {
     "name": "stdout",
     "output_type": "stream",
     "text": [
      "10,20,30,40,50,60,70,80,90,100\n"
     ]
    }
   ],
   "source": [
    "# without comma at the end\n",
    "n = 10\n",
    "while n<=100:\n",
    "    if n == 100:\n",
    "        print(n)\n",
    "        n += 10\n",
    "    else:\n",
    "        print(n, end = ',')\n",
    "        n += 10"
   ]
  },
  {
   "cell_type": "markdown",
   "id": "6e024491",
   "metadata": {},
   "source": [
    "### Print the items present in the tuple using while Loop.\n",
    "\n",
    "* t = (10, 20, 30, 40, 50, 60)"
   ]
  },
  {
   "cell_type": "code",
   "execution_count": 29,
   "id": "b7758a10",
   "metadata": {},
   "outputs": [],
   "source": [
    "t = (10, 20, 30, 40, 50, 60)"
   ]
  },
  {
   "cell_type": "code",
   "execution_count": 32,
   "id": "7e4f7e2d",
   "metadata": {},
   "outputs": [
    {
     "data": {
      "text/plain": [
       "50"
      ]
     },
     "execution_count": 32,
     "metadata": {},
     "output_type": "execute_result"
    }
   ],
   "source": [
    "t[4]"
   ]
  },
  {
   "cell_type": "code",
   "execution_count": 30,
   "id": "43ac3a73",
   "metadata": {},
   "outputs": [
    {
     "data": {
      "text/plain": [
       "tuple"
      ]
     },
     "execution_count": 30,
     "metadata": {},
     "output_type": "execute_result"
    }
   ],
   "source": [
    "type(t)"
   ]
  },
  {
   "cell_type": "code",
   "execution_count": 31,
   "id": "0c30f204",
   "metadata": {},
   "outputs": [
    {
     "name": "stdout",
     "output_type": "stream",
     "text": [
      "10\n",
      "20\n",
      "30\n",
      "40\n",
      "50\n",
      "60\n"
     ]
    }
   ],
   "source": [
    "i = 0\n",
    "while i<len(t):\n",
    "    print(t[i])\n",
    "    i += 1"
   ]
  },
  {
   "cell_type": "markdown",
   "id": "6dbd8de4",
   "metadata": {},
   "source": [
    "### Find the sum of numbers in a list using while loop, take the input from the user."
   ]
  },
  {
   "cell_type": "code",
   "execution_count": 39,
   "id": "3f52d7b6",
   "metadata": {},
   "outputs": [
    {
     "name": "stdout",
     "output_type": "stream",
     "text": [
      "Enter a list of elements[1, 4, 5, 8, 10]\n"
     ]
    }
   ],
   "source": [
    "l = input('Enter a list of elements')"
   ]
  },
  {
   "cell_type": "markdown",
   "id": "67ec8f1f",
   "metadata": {},
   "source": [
    "### list input issue"
   ]
  },
  {
   "cell_type": "code",
   "execution_count": 40,
   "id": "16571918",
   "metadata": {},
   "outputs": [
    {
     "data": {
      "text/plain": [
       "'[1, 4, 5, 8, 10]'"
      ]
     },
     "execution_count": 40,
     "metadata": {},
     "output_type": "execute_result"
    }
   ],
   "source": [
    "l"
   ]
  },
  {
   "cell_type": "code",
   "execution_count": 41,
   "id": "56aba5f0",
   "metadata": {},
   "outputs": [
    {
     "data": {
      "text/plain": [
       "str"
      ]
     },
     "execution_count": 41,
     "metadata": {},
     "output_type": "execute_result"
    }
   ],
   "source": [
    "type(l)"
   ]
  },
  {
   "cell_type": "code",
   "execution_count": 50,
   "id": "8ebeb7b8",
   "metadata": {},
   "outputs": [
    {
     "name": "stdout",
     "output_type": "stream",
     "text": [
      "Enter a list of elements12345\n"
     ]
    }
   ],
   "source": [
    "l = list(input('Enter a list of elements'))"
   ]
  },
  {
   "cell_type": "code",
   "execution_count": 52,
   "id": "4ed843dc",
   "metadata": {},
   "outputs": [
    {
     "data": {
      "text/plain": [
       "['1', '2', '3', '4', '5']"
      ]
     },
     "execution_count": 52,
     "metadata": {},
     "output_type": "execute_result"
    }
   ],
   "source": [
    "l"
   ]
  },
  {
   "cell_type": "code",
   "execution_count": 72,
   "id": "0cf57048",
   "metadata": {},
   "outputs": [
    {
     "name": "stdout",
     "output_type": "stream",
     "text": [
      "Enter the number of elements you want in your list5\n"
     ]
    }
   ],
   "source": [
    "empty_list = []\n",
    "n = int(input(\"Enter the number of elements you want in your list\"))"
   ]
  },
  {
   "cell_type": "code",
   "execution_count": 71,
   "id": "e2c4f126",
   "metadata": {},
   "outputs": [],
   "source": [
    "i = 0"
   ]
  },
  {
   "cell_type": "code",
   "execution_count": 73,
   "id": "ae1ab0e9",
   "metadata": {},
   "outputs": [
    {
     "name": "stdout",
     "output_type": "stream",
     "text": [
      "Enter the 1 element for the list5\n",
      "Enter the 2 element for the list6\n",
      "Enter the 3 element for the list4\n",
      "Enter the 4 element for the list2\n",
      "Enter the 5 element for the list1\n"
     ]
    }
   ],
   "source": [
    "while i<n:\n",
    "    ele = int(input('Enter the {} element for the list'.format(i+1)))\n",
    "    empty_list.append(ele)\n",
    "    i += 1"
   ]
  },
  {
   "cell_type": "code",
   "execution_count": 74,
   "id": "fbccf614",
   "metadata": {},
   "outputs": [
    {
     "data": {
      "text/plain": [
       "[5, 6, 4, 2, 1]"
      ]
     },
     "execution_count": 74,
     "metadata": {},
     "output_type": "execute_result"
    }
   ],
   "source": [
    "empty_list"
   ]
  },
  {
   "cell_type": "code",
   "execution_count": 84,
   "id": "27fc51d7",
   "metadata": {},
   "outputs": [
    {
     "name": "stdout",
     "output_type": "stream",
     "text": [
      "Enter the number of elements you want in your list : 4\n",
      "Enter the 1 element for the list : 10\n",
      "Enter the 2 element for the list : 20\n",
      "Enter the 3 element for the list : 30\n",
      "Enter the 4 element for the list : 40\n",
      "The sum of the elements of the list entered is 100 :\n"
     ]
    }
   ],
   "source": [
    "# taking input from the user\n",
    "empty_list = []\n",
    "n = int(input(\"Enter the number of elements you want in your list : \"))\n",
    "i = 0\n",
    "while i<n:\n",
    "    ele = int(input('Enter the {} element for the list : '.format(i+1)))\n",
    "    empty_list.append(ele)\n",
    "    i += 1\n",
    "# finding the sum of elements present in the list\n",
    "j = 0\n",
    "sum_of_ele = 0\n",
    "while j<len(empty_list):\n",
    "    sum_of_ele += empty_list[j]\n",
    "    j += 1\n",
    "print('The sum of the elements of the list entered is {} :'.format(sum_of_ele))"
   ]
  },
  {
   "cell_type": "markdown",
   "id": "c917c6bc",
   "metadata": {},
   "source": [
    "```python\n",
    "# taking input from the user\n",
    "empty_list = []\n",
    "n = int(input(\"Enter the number of elements you want in your list : \"))\n",
    "i = 0\n",
    "while i<n:\n",
    "    ele = int(input('Enter the {} element for the list : '.format(i+1)))\n",
    "    empty_list.append(ele)\n",
    "    i += 1\n",
    "# finding the sum of elements present in the list\n",
    "j = 0\n",
    "sum_of_ele = 0\n",
    "while j<len(empty_list):\n",
    "    sum_of_ele += empty_list[j]\n",
    "    j += 1\n",
    "print('The sum of the elements of the list entered is {} :'.format(sum_of_ele))\n",
    "```"
   ]
  },
  {
   "cell_type": "code",
   "execution_count": 85,
   "id": "ff995a0e",
   "metadata": {},
   "outputs": [
    {
     "data": {
      "text/plain": [
       "4"
      ]
     },
     "execution_count": 85,
     "metadata": {},
     "output_type": "execute_result"
    }
   ],
   "source": [
    "j"
   ]
  },
  {
   "cell_type": "markdown",
   "id": "e763d98f",
   "metadata": {},
   "source": [
    "### Pop out the elements from a list using while loop. List will be entered by the user"
   ]
  },
  {
   "cell_type": "code",
   "execution_count": 86,
   "id": "21b07383",
   "metadata": {},
   "outputs": [],
   "source": [
    "l = ['Shubha', 'Soumya', 'Lalit', 'Satya']"
   ]
  },
  {
   "cell_type": "markdown",
   "id": "a0be600c",
   "metadata": {},
   "source": [
    "```python\n",
    "Output Expectation\n",
    "\n",
    "Satya\n",
    "Lalit\n",
    "Soumya\n",
    "Shubha\n",
    "```"
   ]
  },
  {
   "cell_type": "code",
   "execution_count": 87,
   "id": "e96c3f00",
   "metadata": {},
   "outputs": [
    {
     "data": {
      "text/plain": [
       "'Satya'"
      ]
     },
     "execution_count": 87,
     "metadata": {},
     "output_type": "execute_result"
    }
   ],
   "source": [
    "l.pop()"
   ]
  },
  {
   "cell_type": "code",
   "execution_count": 88,
   "id": "9838bfc8",
   "metadata": {},
   "outputs": [
    {
     "data": {
      "text/plain": [
       "['Shubha', 'Soumya', 'Lalit']"
      ]
     },
     "execution_count": 88,
     "metadata": {},
     "output_type": "execute_result"
    }
   ],
   "source": [
    "l"
   ]
  },
  {
   "cell_type": "code",
   "execution_count": 89,
   "id": "43907cb9",
   "metadata": {},
   "outputs": [],
   "source": [
    "employee_list = ['Shubha', 'Soumya', 'Lalit', 'Satya'] # give the input by user, while you practice at home."
   ]
  },
  {
   "cell_type": "code",
   "execution_count": 90,
   "id": "ed96dc07",
   "metadata": {},
   "outputs": [
    {
     "name": "stdout",
     "output_type": "stream",
     "text": [
      "Satya\n",
      "Lalit\n",
      "Soumya\n",
      "Shubha\n"
     ]
    }
   ],
   "source": [
    "while employee_list:\n",
    "    print(employee_list.pop())"
   ]
  },
  {
   "cell_type": "code",
   "execution_count": 91,
   "id": "b9b6ba79",
   "metadata": {},
   "outputs": [
    {
     "name": "stdout",
     "output_type": "stream",
     "text": [
      "[]\n"
     ]
    }
   ],
   "source": [
    "print(employee_list)"
   ]
  },
  {
   "cell_type": "markdown",
   "id": "9b7bfe44",
   "metadata": {},
   "source": [
    "### Write a while loop which will terminate when the user enters number as 0"
   ]
  },
  {
   "cell_type": "code",
   "execution_count": 94,
   "id": "f1767998",
   "metadata": {},
   "outputs": [
    {
     "name": "stdout",
     "output_type": "stream",
     "text": [
      "Enter a number, Enter 0 if you want to terminate the program : 5\n"
     ]
    }
   ],
   "source": [
    "num = int(input('Enter a number, Enter 0 if you want to terminate the program : '))"
   ]
  },
  {
   "cell_type": "code",
   "execution_count": 95,
   "id": "92c074e5",
   "metadata": {},
   "outputs": [
    {
     "data": {
      "text/plain": [
       "int"
      ]
     },
     "execution_count": 95,
     "metadata": {},
     "output_type": "execute_result"
    }
   ],
   "source": [
    "type(num)"
   ]
  },
  {
   "cell_type": "code",
   "execution_count": 101,
   "id": "07b8dbb8",
   "metadata": {},
   "outputs": [
    {
     "name": "stdout",
     "output_type": "stream",
     "text": [
      "Enter a number, Enter 0 if you want to terminate the program : 0\n"
     ]
    }
   ],
   "source": [
    "num = int(input('Enter a number, Enter 0 if you want to terminate the program : '))\n",
    "while num != 0:\n",
    "    num = int(input('Enter a number, Enter 0 if you want to terminate the program : '))"
   ]
  },
  {
   "cell_type": "markdown",
   "id": "1f9b3b00",
   "metadata": {},
   "source": [
    "```python\n",
    "num = int(input('Enter a number, Enter 0 if you want to terminate the program : '))\n",
    "while num != 0:\n",
    "    num = int(input('Enter a number, Enter 0 if you want to terminate the program : '))\n",
    "```"
   ]
  },
  {
   "cell_type": "code",
   "execution_count": 110,
   "id": "a41b3495",
   "metadata": {},
   "outputs": [
    {
     "name": "stdout",
     "output_type": "stream",
     "text": [
      "Enter a number, Enter 0 if you want to terminate the program : 100\n"
     ]
    }
   ],
   "source": [
    "num = int(input('Enter a number, Enter 0 if you want to terminate the program : '))\n",
    "while num %10 != 0:\n",
    "    num = int(input('Enter a number, Enter 0 if you want to terminate the program : '))"
   ]
  }
 ],
 "metadata": {
  "kernelspec": {
   "display_name": "Python 3 (ipykernel)",
   "language": "python",
   "name": "python3"
  },
  "language_info": {
   "codemirror_mode": {
    "name": "ipython",
    "version": 3
   },
   "file_extension": ".py",
   "mimetype": "text/x-python",
   "name": "python",
   "nbconvert_exporter": "python",
   "pygments_lexer": "ipython3",
   "version": "3.9.7"
  }
 },
 "nbformat": 4,
 "nbformat_minor": 5
}
