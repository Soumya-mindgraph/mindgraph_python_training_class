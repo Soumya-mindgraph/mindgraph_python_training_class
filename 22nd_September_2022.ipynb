{
 "cells": [
  {
   "cell_type": "markdown",
   "id": "686371ae",
   "metadata": {},
   "source": [
    "### Brahma's Question"
   ]
  },
  {
   "cell_type": "code",
   "execution_count": 1,
   "id": "0ddffd2e",
   "metadata": {},
   "outputs": [],
   "source": [
    "l = 'Shubha'"
   ]
  },
  {
   "cell_type": "code",
   "execution_count": 2,
   "id": "42e296b0",
   "metadata": {},
   "outputs": [
    {
     "data": {
      "text/plain": [
       "2"
      ]
     },
     "execution_count": 2,
     "metadata": {},
     "output_type": "execute_result"
    }
   ],
   "source": [
    "l.count('h')"
   ]
  },
  {
   "cell_type": "code",
   "execution_count": 4,
   "id": "1bd086cf",
   "metadata": {},
   "outputs": [
    {
     "name": "stdout",
     "output_type": "stream",
     "text": [
      "2\n"
     ]
    }
   ],
   "source": [
    "c = 0\n",
    "for i in l:\n",
    "    if i == 'h':\n",
    "        c += 1\n",
    "print(c)"
   ]
  },
  {
   "cell_type": "markdown",
   "id": "218f72d3",
   "metadata": {},
   "source": [
    "### if-elif-else"
   ]
  },
  {
   "cell_type": "code",
   "execution_count": 5,
   "id": "7b66eb29",
   "metadata": {},
   "outputs": [
    {
     "name": "stdout",
     "output_type": "stream",
     "text": [
      "This is my alternate statement\n"
     ]
    }
   ],
   "source": [
    "a = 10\n",
    "# block-1 starts\n",
    "if a>20:\n",
    "    print('this is a number')\n",
    "# block-1 ends\n",
    "# block-2 starts\n",
    "if a==10:\n",
    "    print('This is my alternate statement')\n",
    "elif a<20:\n",
    "    print('Print from elif')\n",
    "else:\n",
    "    print('This is statement')\n",
    "# block-2 ends"
   ]
  },
  {
   "cell_type": "code",
   "execution_count": 6,
   "id": "95890a8d",
   "metadata": {},
   "outputs": [
    {
     "name": "stdout",
     "output_type": "stream",
     "text": [
      "this is a number\n",
      "This is my alternate statement\n"
     ]
    }
   ],
   "source": [
    "a = 10\n",
    "# block-1 starts\n",
    "if a<20:\n",
    "    print('this is a number')\n",
    "# block-1 ends\n",
    "# block-2 starts\n",
    "if a==10:\n",
    "    print('This is my alternate statement')\n",
    "elif a<20:\n",
    "    print('Print from elif')\n",
    "else:\n",
    "    print('This is statement')\n",
    "# block-2 ends"
   ]
  },
  {
   "cell_type": "code",
   "execution_count": 7,
   "id": "809406c9",
   "metadata": {},
   "outputs": [
    {
     "name": "stdout",
     "output_type": "stream",
     "text": [
      "Print from elif\n"
     ]
    }
   ],
   "source": [
    "a = 10\n",
    "# block-1 starts\n",
    "if a>20:\n",
    "    print('this is a number')\n",
    "# block-1 ends\n",
    "# block-2 starts\n",
    "if a==30:\n",
    "    print('This is my alternate statement')\n",
    "elif a<20:\n",
    "    print('Print from elif')\n",
    "else:\n",
    "    print('This is statement')\n",
    "# block-2 ends"
   ]
  },
  {
   "cell_type": "code",
   "execution_count": 8,
   "id": "c60a755e",
   "metadata": {},
   "outputs": [
    {
     "name": "stdout",
     "output_type": "stream",
     "text": [
      "I am checking the type of var\n"
     ]
    }
   ],
   "source": [
    "a = 10\n",
    "# block starts\n",
    "if a==30:\n",
    "    print('This is my alternate statement') # False\n",
    "elif type(a) == int:\n",
    "    print('I am checking the type of var') # True\n",
    "elif a<20:\n",
    "     print('Print from elif')\n",
    "else:\n",
    "    print('Print this statement')\n",
    "# block ends"
   ]
  },
  {
   "cell_type": "markdown",
   "id": "0087b222",
   "metadata": {},
   "source": [
    "* If it is if-if, i.e., if followed by if - Different Blocks\n",
    "* If it is if-else, i.e., if followed by else - Same Block\n",
    "* If it is if-elif-else, i.e., if followed by if-elif-else - Same Block"
   ]
  },
  {
   "cell_type": "code",
   "execution_count": 9,
   "id": "0d05a7f5",
   "metadata": {},
   "outputs": [
    {
     "name": "stdout",
     "output_type": "stream",
     "text": [
      "String Without Message\n"
     ]
    },
    {
     "data": {
      "text/plain": [
       "'String Without Message'"
      ]
     },
     "execution_count": 9,
     "metadata": {},
     "output_type": "execute_result"
    }
   ],
   "source": [
    "input()"
   ]
  },
  {
   "cell_type": "code",
   "execution_count": 10,
   "id": "0aeead96",
   "metadata": {},
   "outputs": [
    {
     "name": "stdout",
     "output_type": "stream",
     "text": [
      "56\n"
     ]
    },
    {
     "data": {
      "text/plain": [
       "56"
      ]
     },
     "execution_count": 10,
     "metadata": {},
     "output_type": "execute_result"
    }
   ],
   "source": [
    "int(input())"
   ]
  },
  {
   "cell_type": "code",
   "execution_count": 12,
   "id": "7a8668fc",
   "metadata": {},
   "outputs": [
    {
     "name": "stdout",
     "output_type": "stream",
     "text": [
      "Enter a String: Shubha\n"
     ]
    },
    {
     "data": {
      "text/plain": [
       "'Shubha'"
      ]
     },
     "execution_count": 12,
     "metadata": {},
     "output_type": "execute_result"
    }
   ],
   "source": [
    "input('Enter a String: ')"
   ]
  },
  {
   "cell_type": "code",
   "execution_count": 13,
   "id": "e8e4bccd",
   "metadata": {},
   "outputs": [
    {
     "name": "stdout",
     "output_type": "stream",
     "text": [
      "Enter a number: 54\n"
     ]
    },
    {
     "data": {
      "text/plain": [
       "54"
      ]
     },
     "execution_count": 13,
     "metadata": {},
     "output_type": "execute_result"
    }
   ],
   "source": [
    "int(input('Enter a number: '))"
   ]
  },
  {
   "cell_type": "code",
   "execution_count": 14,
   "id": "bebc298c",
   "metadata": {},
   "outputs": [
    {
     "name": "stdout",
     "output_type": "stream",
     "text": [
      "Enter a number: wnkfcn\n"
     ]
    },
    {
     "ename": "ValueError",
     "evalue": "invalid literal for int() with base 10: 'wnkfcn'",
     "output_type": "error",
     "traceback": [
      "\u001b[1;31m---------------------------------------------------------------------------\u001b[0m",
      "\u001b[1;31mValueError\u001b[0m                                Traceback (most recent call last)",
      "\u001b[1;32m~\\AppData\\Local\\Temp/ipykernel_7344/1505287367.py\u001b[0m in \u001b[0;36m<module>\u001b[1;34m\u001b[0m\n\u001b[1;32m----> 1\u001b[1;33m \u001b[0mint\u001b[0m\u001b[1;33m(\u001b[0m\u001b[0minput\u001b[0m\u001b[1;33m(\u001b[0m\u001b[1;34m'Enter a number: '\u001b[0m\u001b[1;33m)\u001b[0m\u001b[1;33m)\u001b[0m\u001b[1;33m\u001b[0m\u001b[1;33m\u001b[0m\u001b[0m\n\u001b[0m",
      "\u001b[1;31mValueError\u001b[0m: invalid literal for int() with base 10: 'wnkfcn'"
     ]
    }
   ],
   "source": [
    "int(input('Enter a number: '))"
   ]
  },
  {
   "cell_type": "code",
   "execution_count": 15,
   "id": "f6bd116c",
   "metadata": {},
   "outputs": [
    {
     "name": "stdout",
     "output_type": "stream",
     "text": [
      "Enter a number: 25.6\n"
     ]
    },
    {
     "ename": "ValueError",
     "evalue": "invalid literal for int() with base 10: '25.6'",
     "output_type": "error",
     "traceback": [
      "\u001b[1;31m---------------------------------------------------------------------------\u001b[0m",
      "\u001b[1;31mValueError\u001b[0m                                Traceback (most recent call last)",
      "\u001b[1;32m~\\AppData\\Local\\Temp/ipykernel_7344/1505287367.py\u001b[0m in \u001b[0;36m<module>\u001b[1;34m\u001b[0m\n\u001b[1;32m----> 1\u001b[1;33m \u001b[0mint\u001b[0m\u001b[1;33m(\u001b[0m\u001b[0minput\u001b[0m\u001b[1;33m(\u001b[0m\u001b[1;34m'Enter a number: '\u001b[0m\u001b[1;33m)\u001b[0m\u001b[1;33m)\u001b[0m\u001b[1;33m\u001b[0m\u001b[1;33m\u001b[0m\u001b[0m\n\u001b[0m",
      "\u001b[1;31mValueError\u001b[0m: invalid literal for int() with base 10: '25.6'"
     ]
    }
   ],
   "source": [
    "int(input('Enter a number: '))"
   ]
  },
  {
   "cell_type": "code",
   "execution_count": 16,
   "id": "6c610f34",
   "metadata": {
    "scrolled": true
   },
   "outputs": [
    {
     "name": "stdout",
     "output_type": "stream",
     "text": [
      "Enter a number: /\n"
     ]
    },
    {
     "ename": "ValueError",
     "evalue": "invalid literal for int() with base 10: '/'",
     "output_type": "error",
     "traceback": [
      "\u001b[1;31m---------------------------------------------------------------------------\u001b[0m",
      "\u001b[1;31mValueError\u001b[0m                                Traceback (most recent call last)",
      "\u001b[1;32m~\\AppData\\Local\\Temp/ipykernel_7344/1505287367.py\u001b[0m in \u001b[0;36m<module>\u001b[1;34m\u001b[0m\n\u001b[1;32m----> 1\u001b[1;33m \u001b[0mint\u001b[0m\u001b[1;33m(\u001b[0m\u001b[0minput\u001b[0m\u001b[1;33m(\u001b[0m\u001b[1;34m'Enter a number: '\u001b[0m\u001b[1;33m)\u001b[0m\u001b[1;33m)\u001b[0m\u001b[1;33m\u001b[0m\u001b[1;33m\u001b[0m\u001b[0m\n\u001b[0m",
      "\u001b[1;31mValueError\u001b[0m: invalid literal for int() with base 10: '/'"
     ]
    }
   ],
   "source": [
    "int(input('Enter a number: '))"
   ]
  },
  {
   "cell_type": "code",
   "execution_count": 18,
   "id": "41afc32d",
   "metadata": {},
   "outputs": [
    {
     "name": "stdout",
     "output_type": "stream",
     "text": [
      "50\n",
      "You can buy all the listed items in row one\n"
     ]
    }
   ],
   "source": [
    "Discount = int(input()) # will give the output in integer format\n",
    "if Discount == 50:\n",
    "    print('You can buy all the listed items in row one')\n",
    "elif Discount == 30:\n",
    "    print('You can buy all the items from row 2')\n",
    "elif Discount == 20:\n",
    "    print('Send user to row 2')\n",
    "elif Discount > 10:\n",
    "    print('Send him to the 4th row')\n",
    "else:\n",
    "    print('There is no item available')"
   ]
  },
  {
   "cell_type": "code",
   "execution_count": 19,
   "id": "373754a6",
   "metadata": {},
   "outputs": [
    {
     "name": "stdout",
     "output_type": "stream",
     "text": [
      "11\n",
      "Send him to the 4th row\n"
     ]
    }
   ],
   "source": [
    "Discount = int(input()) # will give the output in integer format\n",
    "if Discount == 50:\n",
    "    print('You can buy all the listed items in row one')\n",
    "elif Discount == 30:\n",
    "    print('You can buy all the items from row 2')\n",
    "elif Discount == 20:\n",
    "    print('Send user to row 2')\n",
    "elif Discount > 10:\n",
    "    print('Send him to the 4th row')\n",
    "else:\n",
    "    print('There is no item available')"
   ]
  },
  {
   "cell_type": "code",
   "execution_count": 20,
   "id": "0650f8c9",
   "metadata": {},
   "outputs": [
    {
     "name": "stdout",
     "output_type": "stream",
     "text": [
      "100\n",
      "Send him to the 4th row\n"
     ]
    }
   ],
   "source": [
    "Discount = int(input()) # will give the output in integer format\n",
    "if Discount == 50:\n",
    "    print('You can buy all the listed items in row one')\n",
    "elif Discount == 30:\n",
    "    print('You can buy all the items from row 2')\n",
    "elif Discount == 20:\n",
    "    print('Send user to row 2')\n",
    "elif Discount > 10:\n",
    "    print('Send him to the 4th row')\n",
    "else:\n",
    "    print('There is no item available')"
   ]
  },
  {
   "cell_type": "code",
   "execution_count": 31,
   "id": "639a4f94",
   "metadata": {},
   "outputs": [
    {
     "name": "stdout",
     "output_type": "stream",
     "text": [
      "0\n",
      "Steal Nikki's Card\n"
     ]
    }
   ],
   "source": [
    "income = int(input())\n",
    "if income>1000:\n",
    "    print('You can get a platinum card')\n",
    "elif income>800:\n",
    "    print('You can get a gold card')\n",
    "else:\n",
    "    print(\"Steal Nikki's Card\")"
   ]
  },
  {
   "cell_type": "code",
   "execution_count": 32,
   "id": "8e6c1537",
   "metadata": {},
   "outputs": [
    {
     "name": "stdout",
     "output_type": "stream",
     "text": [
      "800\n",
      "Steal Nikki's Card\n"
     ]
    }
   ],
   "source": [
    "income = int(input())\n",
    "if income>1000:\n",
    "    print('You can get a platinum card')\n",
    "elif income>800:\n",
    "    print('You can get a gold card')\n",
    "else:\n",
    "    print(\"Steal Nikki's Card\")"
   ]
  },
  {
   "cell_type": "code",
   "execution_count": 33,
   "id": "ac09a916",
   "metadata": {},
   "outputs": [
    {
     "name": "stdout",
     "output_type": "stream",
     "text": [
      "800.01\n",
      "You can get a gold card\n"
     ]
    }
   ],
   "source": [
    "income = float(input())\n",
    "if income>1000:\n",
    "    print('You can get a platinum card')\n",
    "elif income>800:\n",
    "    print('You can get a gold card')\n",
    "else:\n",
    "    print(\"Steal Nikki's Card\")"
   ]
  },
  {
   "cell_type": "markdown",
   "id": "6879b859",
   "metadata": {},
   "source": [
    "### nested if statements"
   ]
  },
  {
   "cell_type": "code",
   "execution_count": 34,
   "id": "d162085e",
   "metadata": {},
   "outputs": [
    {
     "name": "stdout",
     "output_type": "stream",
     "text": [
      "3000\n",
      "You can get a platinum card\n",
      "You will be able to get other facilities\n"
     ]
    }
   ],
   "source": [
    "income = int(input())\n",
    "# block starts\n",
    "if income>1000:\n",
    "    print('You can get a platinum card') \n",
    "    # nested block starts\n",
    "    if income>2000:\n",
    "        print('You will be able to get other facilities')\n",
    "    # nested block ends\n",
    "elif income>800:\n",
    "    print('You will be able to get gold card')\n",
    "else:\n",
    "    print(\"You won't be able to get any card\")\n",
    "# block ends"
   ]
  },
  {
   "cell_type": "code",
   "execution_count": 35,
   "id": "63bbe60c",
   "metadata": {},
   "outputs": [
    {
     "name": "stdout",
     "output_type": "stream",
     "text": [
      "1800\n",
      "You can get a platinum card\n",
      "No Option\n"
     ]
    }
   ],
   "source": [
    "income = int(input())\n",
    "# block starts\n",
    "if income>1000:\n",
    "    print('You can get a platinum card')\n",
    "    # nested block starts\n",
    "    if income>2000:\n",
    "        print('You will be able to get other facilities')\n",
    "    elif income < 1500:\n",
    "        print('You will get another things')\n",
    "    else:\n",
    "        print('No Option')\n",
    "    # nested block ends\n",
    "elif income>800:\n",
    "    print('You will be able to get gold card')\n",
    "else:\n",
    "    print(\"You won't be able to get any card\")\n",
    "# block ends"
   ]
  },
  {
   "cell_type": "code",
   "execution_count": 36,
   "id": "2a56b775",
   "metadata": {},
   "outputs": [
    {
     "name": "stdout",
     "output_type": "stream",
     "text": [
      "1499\n",
      "You can get a platinum card\n",
      "You will get another things\n"
     ]
    }
   ],
   "source": [
    "income = int(input())\n",
    "# block starts\n",
    "if income>1000:\n",
    "    print('You can get a platinum card')\n",
    "    # nested block starts\n",
    "    if income>2000:\n",
    "        print('You will be able to get other facilities')\n",
    "    elif income < 1500:\n",
    "        print('You will get another things')\n",
    "    else:\n",
    "        print('No Option')\n",
    "    # nested block ends\n",
    "elif income>800:\n",
    "    print('You will be able to get gold card')\n",
    "else:\n",
    "    print(\"You won't be able to get any card\")\n",
    "# block ends"
   ]
  },
  {
   "cell_type": "code",
   "execution_count": 37,
   "id": "311a5f9b",
   "metadata": {},
   "outputs": [
    {
     "name": "stdout",
     "output_type": "stream",
     "text": [
      "2300\n",
      "You can get a platinum card\n",
      "You will be able to get another facilities\n",
      "You'll be able to get discount in services\n",
      "There is no option available\n"
     ]
    }
   ],
   "source": [
    "income = int(input())\n",
    "# block starts here\n",
    "if income>1000:\n",
    "    print('You can get a platinum card') # print\n",
    "    # nested block starts here\n",
    "    if income>2000:\n",
    "        print('You will be able to get another facilities')\n",
    "        # sub-nested-block-1 starts here\n",
    "        if income > 2200:\n",
    "            print(\"You'll be able to get discount in services\")\n",
    "        # sub-nested-block-1 ends here\n",
    "        # sub-nested-block-2 starts here\n",
    "        if income > 2300:\n",
    "            print(\"You'll be able to get the air tickets\")\n",
    "        else:\n",
    "            print('There is no option available')\n",
    "        # sub-nested-block-2 ends here\n",
    "    elif income < 1500:\n",
    "        print('You will get another things')\n",
    "    else:\n",
    "        print('No Option')\n",
    "    # nested block starts here\n",
    "elif income>800:\n",
    "    print('You will be able to get gold card')\n",
    "else:\n",
    "    print(\"You won't be able to get any card\")\n",
    "# block ends here"
   ]
  },
  {
   "cell_type": "code",
   "execution_count": 38,
   "id": "cee71236",
   "metadata": {},
   "outputs": [
    {
     "name": "stdout",
     "output_type": "stream",
     "text": [
      "2301\n",
      "You can get a platinum card\n",
      "You will be able to get another facilities\n",
      "You'll be able to get discount in services\n",
      "You'll be able to get the air tickets\n"
     ]
    }
   ],
   "source": [
    "income = int(input())\n",
    "# block starts here\n",
    "if income>1000:\n",
    "    print('You can get a platinum card') # print\n",
    "    # nested block starts here\n",
    "    if income>2000:\n",
    "        print('You will be able to get another facilities')\n",
    "        # sub-nested-block-1 starts here\n",
    "        if income > 2200:\n",
    "            print(\"You'll be able to get discount in services\")\n",
    "        # sub-nested-block-1 ends here\n",
    "        # sub-nested-block-2 starts here\n",
    "        if income > 2300:\n",
    "            print(\"You'll be able to get the air tickets\")\n",
    "        else:\n",
    "            print('There is no option available')\n",
    "        # sub-nested-block-2 ends here\n",
    "    elif income < 1500:\n",
    "        print('You will get another things')\n",
    "    else:\n",
    "        print('No Option')\n",
    "    # nested block starts here\n",
    "elif income>800:\n",
    "    print('You will be able to get gold card')\n",
    "else:\n",
    "    print(\"You won't be able to get any card\")\n",
    "# block ends here"
   ]
  },
  {
   "cell_type": "code",
   "execution_count": 39,
   "id": "18302b01",
   "metadata": {
    "scrolled": true
   },
   "outputs": [
    {
     "name": "stdout",
     "output_type": "stream",
     "text": [
      "2302\n",
      "You can get a platinum card\n",
      "You will be able to get another facilities\n",
      "You'll be able to get discount in services\n",
      "You'll be able to get the air tickets\n"
     ]
    }
   ],
   "source": [
    "income = int(input())\n",
    "# block starts here\n",
    "if income>1000:\n",
    "    print('You can get a platinum card') # print\n",
    "    pass # in this scenario pass doesn't do annything\n",
    "    # nested block starts here\n",
    "    if income>2000:\n",
    "        print('You will be able to get another facilities')\n",
    "        # sub-nested-block-1 starts here\n",
    "        if income > 2200:\n",
    "            print(\"You'll be able to get discount in services\")\n",
    "        # sub-nested-block-1 ends here\n",
    "        # sub-nested-block-2 starts here\n",
    "        if income > 2300:\n",
    "            print(\"You'll be able to get the air tickets\")\n",
    "        else:\n",
    "            print('There is no option available')\n",
    "        # sub-nested-block-2 ends here\n",
    "    elif income < 1500:\n",
    "        print('You will get another things')\n",
    "    else:\n",
    "        print('No Option')\n",
    "    # nested block starts here\n",
    "elif income>800:\n",
    "    print('You will be able to get gold card')\n",
    "else:\n",
    "    print(\"You won't be able to get any card\")\n",
    "# block ends here"
   ]
  },
  {
   "cell_type": "code",
   "execution_count": 44,
   "id": "d2a7dfa9",
   "metadata": {},
   "outputs": [
    {
     "ename": "IndentationError",
     "evalue": "expected an indented block (Temp/ipykernel_7344/354860128.py, line 2)",
     "output_type": "error",
     "traceback": [
      "\u001b[1;36m  File \u001b[1;32m\"C:\\Users\\Acer\\AppData\\Local\\Temp/ipykernel_7344/354860128.py\"\u001b[1;36m, line \u001b[1;32m2\u001b[0m\n\u001b[1;33m    else:\u001b[0m\n\u001b[1;37m    ^\u001b[0m\n\u001b[1;31mIndentationError\u001b[0m\u001b[1;31m:\u001b[0m expected an indented block\n"
     ]
    }
   ],
   "source": [
    "if 1:\n",
    "else:\n",
    "    print('one')"
   ]
  },
  {
   "cell_type": "code",
   "execution_count": 45,
   "id": "319ce6ac",
   "metadata": {},
   "outputs": [],
   "source": [
    "if 1:\n",
    "    pass\n",
    "else:\n",
    "    print('one')"
   ]
  },
  {
   "cell_type": "code",
   "execution_count": 46,
   "id": "3253bad6",
   "metadata": {
    "scrolled": true
   },
   "outputs": [
    {
     "name": "stdout",
     "output_type": "stream",
     "text": [
      "999\n",
      "You will be able to get gold card\n"
     ]
    }
   ],
   "source": [
    "income = int(input())\n",
    "# block starts here\n",
    "if income>1000:\n",
    "    print('You can get a platinum card') # print\n",
    "    pass # in this scenario pass doesn't do annything\n",
    "    # nested block starts here\n",
    "    if income>2000:\n",
    "        print('You will be able to get another facilities')\n",
    "        # sub-nested-block-1 starts here\n",
    "        if income > 2200:\n",
    "            print(\"You'll be able to get discount in services\")\n",
    "        # sub-nested-block-1 ends here\n",
    "        # sub-nested-block-2 starts here\n",
    "        if income > 2300:\n",
    "            print(\"You'll be able to get the air tickets\")\n",
    "        else:\n",
    "            print('There is no option available')\n",
    "        # sub-nested-block-2 ends here\n",
    "    elif income < 1500:\n",
    "        print('You will get another things')\n",
    "    else:\n",
    "        print('No Option')\n",
    "    # nested block starts here\n",
    "elif income>800:\n",
    "    print('You will be able to get gold card')\n",
    "else:\n",
    "    print(\"You won't be able to get any card\")\n",
    "# block ends here"
   ]
  },
  {
   "cell_type": "markdown",
   "id": "b16a353b",
   "metadata": {},
   "source": [
    "### Not Recommended Practice"
   ]
  },
  {
   "cell_type": "code",
   "execution_count": 47,
   "id": "1e1bf342",
   "metadata": {},
   "outputs": [
    {
     "name": "stdout",
     "output_type": "stream",
     "text": [
      "10\n",
      "This is 10\n"
     ]
    }
   ],
   "source": [
    "val = int(input())\n",
    "if val == 10: print('This is 10') # not recommended, because body and column in the same line"
   ]
  },
  {
   "cell_type": "markdown",
   "id": "85c44674",
   "metadata": {},
   "source": [
    "# Looping"
   ]
  },
  {
   "cell_type": "code",
   "execution_count": 48,
   "id": "90e9c86e",
   "metadata": {},
   "outputs": [],
   "source": [
    "l = [2, 3, 4, 5, 6, 1, 2, 3, 3]"
   ]
  },
  {
   "cell_type": "code",
   "execution_count": 49,
   "id": "7f2d256e",
   "metadata": {},
   "outputs": [
    {
     "data": {
      "text/plain": [
       "list"
      ]
     },
     "execution_count": 49,
     "metadata": {},
     "output_type": "execute_result"
    }
   ],
   "source": [
    "type(l)"
   ]
  },
  {
   "cell_type": "code",
   "execution_count": 50,
   "id": "2344a3c7",
   "metadata": {},
   "outputs": [
    {
     "data": {
      "text/plain": [
       "[2, 3, 4, 5, 6, 1, 2, 3, 3]"
      ]
     },
     "execution_count": 50,
     "metadata": {},
     "output_type": "execute_result"
    }
   ],
   "source": [
    "l[::]"
   ]
  },
  {
   "cell_type": "code",
   "execution_count": 51,
   "id": "096f766e",
   "metadata": {},
   "outputs": [
    {
     "ename": "AttributeError",
     "evalue": "'list' object has no attribute 'split'",
     "output_type": "error",
     "traceback": [
      "\u001b[1;31m---------------------------------------------------------------------------\u001b[0m",
      "\u001b[1;31mAttributeError\u001b[0m                            Traceback (most recent call last)",
      "\u001b[1;32m~\\AppData\\Local\\Temp/ipykernel_7344/2971211148.py\u001b[0m in \u001b[0;36m<module>\u001b[1;34m\u001b[0m\n\u001b[1;32m----> 1\u001b[1;33m \u001b[0ml\u001b[0m\u001b[1;33m.\u001b[0m\u001b[0msplit\u001b[0m\u001b[1;33m(\u001b[0m\u001b[1;34m','\u001b[0m\u001b[1;33m)\u001b[0m\u001b[1;33m\u001b[0m\u001b[1;33m\u001b[0m\u001b[0m\n\u001b[0m",
      "\u001b[1;31mAttributeError\u001b[0m: 'list' object has no attribute 'split'"
     ]
    }
   ],
   "source": [
    "l.split(',') # comma in lists are separators, split is a string function()"
   ]
  },
  {
   "cell_type": "code",
   "execution_count": 52,
   "id": "63f0d224",
   "metadata": {},
   "outputs": [
    {
     "name": "stdout",
     "output_type": "stream",
     "text": [
      "2\n"
     ]
    }
   ],
   "source": [
    "print(2)"
   ]
  },
  {
   "cell_type": "code",
   "execution_count": 55,
   "id": "708e7df3",
   "metadata": {},
   "outputs": [
    {
     "name": "stdout",
     "output_type": "stream",
     "text": [
      "2\n",
      "3\n"
     ]
    }
   ],
   "source": [
    "print(2)\n",
    "print(3)"
   ]
  },
  {
   "cell_type": "code",
   "execution_count": 56,
   "id": "336f9eb9",
   "metadata": {},
   "outputs": [
    {
     "data": {
      "text/plain": [
       "[2, 3, 4, 5, 6, 1, 2, 3, 3]"
      ]
     },
     "execution_count": 56,
     "metadata": {},
     "output_type": "execute_result"
    }
   ],
   "source": [
    "l"
   ]
  },
  {
   "cell_type": "code",
   "execution_count": 57,
   "id": "5a353e96",
   "metadata": {},
   "outputs": [
    {
     "name": "stdout",
     "output_type": "stream",
     "text": [
      "2\n",
      "3\n",
      "4\n",
      "5\n",
      "6\n",
      "1\n",
      "2\n",
      "3\n",
      "3\n"
     ]
    }
   ],
   "source": [
    "print(2)\n",
    "print(3)\n",
    "print(4)\n",
    "print(5)\n",
    "print(6)\n",
    "print(1)\n",
    "print(2)\n",
    "print(3)\n",
    "print(3)"
   ]
  },
  {
   "cell_type": "code",
   "execution_count": 58,
   "id": "e90625df",
   "metadata": {},
   "outputs": [
    {
     "name": "stdout",
     "output_type": "stream",
     "text": [
      "2\n",
      "3\n",
      "4\n",
      "5\n",
      "6\n",
      "1\n",
      "2\n",
      "3\n",
      "3\n"
     ]
    }
   ],
   "source": [
    "for i in l:\n",
    "    print(i)"
   ]
  },
  {
   "cell_type": "code",
   "execution_count": 60,
   "id": "9086411b",
   "metadata": {},
   "outputs": [
    {
     "data": {
      "text/plain": [
       "[2, 3, 4, 5, 6, 1, 2, 3, 3]"
      ]
     },
     "execution_count": 60,
     "metadata": {},
     "output_type": "execute_result"
    }
   ],
   "source": [
    "l"
   ]
  },
  {
   "cell_type": "code",
   "execution_count": 59,
   "id": "41cab90a",
   "metadata": {},
   "outputs": [
    {
     "name": "stdout",
     "output_type": "stream",
     "text": [
      "2\n",
      "3\n",
      "4\n",
      "5\n",
      "6\n",
      "1\n",
      "2\n",
      "3\n",
      "3\n"
     ]
    }
   ],
   "source": [
    "for brahma in l:\n",
    "    print(brahma)"
   ]
  },
  {
   "cell_type": "code",
   "execution_count": 61,
   "id": "ba4695c7",
   "metadata": {},
   "outputs": [
    {
     "name": "stdout",
     "output_type": "stream",
     "text": [
      "Shubha\n",
      "[1, 2, 3, 4, 5]\n",
      "(2, 3, 4, 5, 6)\n",
      "56\n",
      "67\n",
      "(6+7j)\n",
      "True\n",
      "45.67\n"
     ]
    }
   ],
   "source": [
    "for i in ['Shubha', [1, 2, 3, 4, 5], (2, 3, 4, 5, 6), 56, 67, 6+7j, True, 45.67]:\n",
    "    print(i)"
   ]
  },
  {
   "cell_type": "code",
   "execution_count": 62,
   "id": "f925a420",
   "metadata": {},
   "outputs": [
    {
     "name": "stdout",
     "output_type": "stream",
     "text": [
      "Shubha\n",
      "[1, 2, 3, 4, 5]\n",
      "(2, 3, 4, 5, 6)\n",
      "56\n",
      "67\n",
      "(6+7j)\n",
      "True\n",
      "45.67\n"
     ]
    }
   ],
   "source": [
    "l = ['Shubha', [1, 2, 3, 4, 5], (2, 3, 4, 5, 6), 56, 67, 6+7j, True, 45.67]\n",
    "for i in l:\n",
    "    print(i)"
   ]
  },
  {
   "cell_type": "code",
   "execution_count": 63,
   "id": "f528b53e",
   "metadata": {},
   "outputs": [
    {
     "data": {
      "text/plain": [
       "['Shubha', [1, 2, 3, 4, 5], (2, 3, 4, 5, 6), 56, 67, (6+7j), True, 45.67]"
      ]
     },
     "execution_count": 63,
     "metadata": {},
     "output_type": "execute_result"
    }
   ],
   "source": [
    "l"
   ]
  },
  {
   "cell_type": "markdown",
   "id": "fd06e82c",
   "metadata": {},
   "source": [
    "### Print the string element present in the list"
   ]
  },
  {
   "cell_type": "code",
   "execution_count": null,
   "id": "752afbab",
   "metadata": {},
   "outputs": [],
   "source": [
    "# Satya 2 - Revise\n",
    "for ele in l:\n",
    "    if l== 'string':\n",
    "        print('ele')"
   ]
  },
  {
   "cell_type": "code",
   "execution_count": null,
   "id": "dbb2bc41",
   "metadata": {},
   "outputs": [],
   "source": [
    "# Satya 2 - Revise\n",
    "for ele in l:\n",
    "    if l== str:\n",
    "        print('ele')"
   ]
  },
  {
   "cell_type": "code",
   "execution_count": null,
   "id": "43998d78",
   "metadata": {},
   "outputs": [],
   "source": [
    "# Chaiytanya - Revise\n",
    "for ele in l:\n",
    "    if type(ele) == str(l)"
   ]
  },
  {
   "cell_type": "code",
   "execution_count": 64,
   "id": "7a28acee",
   "metadata": {},
   "outputs": [
    {
     "name": "stdout",
     "output_type": "stream",
     "text": [
      "Shubha\n"
     ]
    }
   ],
   "source": [
    "# Saiteja - Correct Answer\n",
    "for ele in l:\n",
    "    if type(ele) == str:\n",
    "        print(ele)"
   ]
  },
  {
   "cell_type": "code",
   "execution_count": 65,
   "id": "dcd66974",
   "metadata": {},
   "outputs": [
    {
     "name": "stdout",
     "output_type": "stream",
     "text": [
      "Shubha\n",
      "Mindgraph\n",
      "True\n",
      "ByteIQ\n"
     ]
    }
   ],
   "source": [
    "# Satya 2 - Correct\n",
    "for j in ['Shubha', [1, 2, 3, 4, 5], (2, 3, 4, 5, 6), 56,'Mindgraph' ,67, (6+7j), 'True', 45.67, 'ByteIQ']:\n",
    "    if type(j) == str:\n",
    "        print(j)"
   ]
  },
  {
   "cell_type": "markdown",
   "id": "040f00df",
   "metadata": {},
   "source": [
    "### Print the reverse of the list present inside the main list, [5, 4, 3, 2, 1]"
   ]
  },
  {
   "cell_type": "code",
   "execution_count": 66,
   "id": "866f7e49",
   "metadata": {},
   "outputs": [],
   "source": [
    "l = ['Shubha', [1, 2, 3, 4, 5], (2, 3, 4, 5, 6), 56,'Mindgraph' ,67, (6+7j), True, 45.67, 'ByteIQ']"
   ]
  },
  {
   "cell_type": "code",
   "execution_count": 68,
   "id": "2497d6f6",
   "metadata": {},
   "outputs": [
    {
     "name": "stdout",
     "output_type": "stream",
     "text": [
      "[1, 2, 3, 4, 5]\n"
     ]
    }
   ],
   "source": [
    "for i in l:\n",
    "#     print(i)\n",
    "    if type(i) == list:\n",
    "        print(i)"
   ]
  },
  {
   "cell_type": "code",
   "execution_count": 69,
   "id": "bb05f9e0",
   "metadata": {},
   "outputs": [
    {
     "name": "stdout",
     "output_type": "stream",
     "text": [
      "[1, 2, 3, 4, 5]\n",
      "[5, 4, 3, 2, 1]\n"
     ]
    }
   ],
   "source": [
    "for i in l:\n",
    "#     print(i)\n",
    "    if type(i) == list:\n",
    "        print(i)\n",
    "        print(i[::-1])"
   ]
  },
  {
   "cell_type": "code",
   "execution_count": null,
   "id": "72a32c42",
   "metadata": {},
   "outputs": [],
   "source": [
    "for i in l:\n",
    "#     print(i)\n",
    "    if type(i) == list:\n",
    "        print(i)\n",
    "        print(i[::-1])"
   ]
  },
  {
   "cell_type": "code",
   "execution_count": 74,
   "id": "b140f353",
   "metadata": {},
   "outputs": [
    {
     "name": "stdout",
     "output_type": "stream",
     "text": [
      "[1, 2, 3, 4, 5]\n"
     ]
    },
    {
     "ename": "AttributeError",
     "evalue": "type object 'list' has no attribute 'reversed'",
     "output_type": "error",
     "traceback": [
      "\u001b[1;31m---------------------------------------------------------------------------\u001b[0m",
      "\u001b[1;31mAttributeError\u001b[0m                            Traceback (most recent call last)",
      "\u001b[1;32m~\\AppData\\Local\\Temp/ipykernel_7344/1533973454.py\u001b[0m in \u001b[0;36m<module>\u001b[1;34m\u001b[0m\n\u001b[0;32m      4\u001b[0m     \u001b[1;32mif\u001b[0m \u001b[0mtype\u001b[0m\u001b[1;33m(\u001b[0m\u001b[0mi\u001b[0m\u001b[1;33m)\u001b[0m \u001b[1;33m==\u001b[0m \u001b[0mlist\u001b[0m\u001b[1;33m:\u001b[0m\u001b[1;33m\u001b[0m\u001b[1;33m\u001b[0m\u001b[0m\n\u001b[0;32m      5\u001b[0m         \u001b[0mprint\u001b[0m\u001b[1;33m(\u001b[0m\u001b[0mi\u001b[0m\u001b[1;33m)\u001b[0m\u001b[1;33m\u001b[0m\u001b[1;33m\u001b[0m\u001b[0m\n\u001b[1;32m----> 6\u001b[1;33m         \u001b[0mprint\u001b[0m\u001b[1;33m(\u001b[0m\u001b[0mlist\u001b[0m\u001b[1;33m.\u001b[0m\u001b[0mreversed\u001b[0m\u001b[1;33m(\u001b[0m\u001b[0mi\u001b[0m\u001b[1;33m)\u001b[0m\u001b[1;33m)\u001b[0m\u001b[1;33m\u001b[0m\u001b[1;33m\u001b[0m\u001b[0m\n\u001b[0m",
      "\u001b[1;31mAttributeError\u001b[0m: type object 'list' has no attribute 'reversed'"
     ]
    }
   ],
   "source": [
    "for i in l:\n",
    "#     print(i)\n",
    "    if type(i) == list:\n",
    "        print(i)\n",
    "        print(list.reversed(i))"
   ]
  },
  {
   "cell_type": "code",
   "execution_count": 73,
   "id": "e733b972",
   "metadata": {},
   "outputs": [
    {
     "name": "stdout",
     "output_type": "stream",
     "text": [
      "[1, 2, 3, 4, 5]\n",
      "[5, 4, 3, 2, 1]\n"
     ]
    }
   ],
   "source": [
    "for i in l:\n",
    "#     print(i)\n",
    "    if type(i) == list:\n",
    "        print(i)\n",
    "        print(list(reversed(i)))"
   ]
  },
  {
   "cell_type": "markdown",
   "id": "61689f2b",
   "metadata": {},
   "source": [
    "* To Print Statements\n",
    "    * print(' ') - normal print statement\n",
    "    * print(' ', ' ') - appending a string to the last\n",
    "    * print('{}'.format()) - print as per placeholder\n",
    "    * print(f'') - to include and print the special characters"
   ]
  },
  {
   "cell_type": "code",
   "execution_count": 76,
   "id": "8fc9f059",
   "metadata": {},
   "outputs": [
    {
     "name": "stdout",
     "output_type": "stream",
     "text": [
      "Original List: [1, 2, 3, 4, 5]\n",
      "Reversed List:[5, 4, 3, 2, 1]\n"
     ]
    }
   ],
   "source": [
    "### Print with message\n",
    "for i in l:\n",
    "#     print(i)\n",
    "    if type(i) == list:\n",
    "        print('Original List: {}'.format(i))\n",
    "        print('Reversed List:{}'.format(i[::-1]))"
   ]
  },
  {
   "cell_type": "code",
   "execution_count": 77,
   "id": "aff64c57",
   "metadata": {},
   "outputs": [
    {
     "name": "stdout",
     "output_type": "stream",
     "text": [
      "M\n",
      "I\n",
      "N\n",
      "D\n",
      "G\n",
      "R\n",
      "A\n",
      "P\n",
      "H\n",
      " \n",
      "T\n",
      "E\n",
      "C\n",
      "H\n",
      "N\n",
      "O\n",
      "L\n",
      "O\n",
      "G\n",
      "I\n",
      "E\n",
      "S\n",
      " \n",
      "P\n",
      "R\n",
      "I\n",
      "V\n",
      "A\n",
      "T\n",
      "E\n",
      " \n",
      "L\n",
      "I\n",
      "M\n",
      "I\n",
      "T\n",
      "E\n",
      "D\n"
     ]
    }
   ],
   "source": [
    "string = 'MINDGRAPH TECHNOLOGIES PRIVATE LIMITED'\n",
    "for i in string:\n",
    "    print(i)"
   ]
  },
  {
   "cell_type": "code",
   "execution_count": 78,
   "id": "0aed2356",
   "metadata": {},
   "outputs": [
    {
     "name": "stdout",
     "output_type": "stream",
     "text": [
      "M1\n",
      "I1\n",
      "N1\n",
      "D1\n",
      "G1\n",
      "R1\n",
      "A1\n",
      "P1\n",
      "H1\n",
      " 1\n",
      "T1\n",
      "E1\n",
      "C1\n",
      "H1\n",
      "N1\n",
      "O1\n",
      "L1\n",
      "O1\n",
      "G1\n",
      "I1\n",
      "E1\n",
      "S1\n",
      " 1\n",
      "P1\n",
      "R1\n",
      "I1\n",
      "V1\n",
      "A1\n",
      "T1\n",
      "E1\n",
      " 1\n",
      "L1\n",
      "I1\n",
      "M1\n",
      "I1\n",
      "T1\n",
      "E1\n",
      "D1\n"
     ]
    }
   ],
   "source": [
    "string = 'MINDGRAPH TECHNOLOGIES PRIVATE LIMITED'\n",
    "for i in string:\n",
    "    print(i + '1')"
   ]
  },
  {
   "cell_type": "code",
   "execution_count": 81,
   "id": "a3e43a99",
   "metadata": {},
   "outputs": [
    {
     "name": "stdout",
     "output_type": "stream",
     "text": [
      "MMM\n",
      "III\n",
      "NNN\n",
      "DDD\n",
      "GGG\n",
      "RRR\n",
      "AAA\n",
      "PPP\n",
      "HHH\n",
      "   \n",
      "TTT\n",
      "EEE\n",
      "CCC\n",
      "HHH\n",
      "NNN\n",
      "OOO\n",
      "LLL\n",
      "OOO\n",
      "GGG\n",
      "III\n",
      "EEE\n",
      "SSS\n",
      "   \n",
      "PPP\n",
      "RRR\n",
      "III\n",
      "VVV\n",
      "AAA\n",
      "TTT\n",
      "EEE\n",
      "   \n",
      "LLL\n",
      "III\n",
      "MMM\n",
      "III\n",
      "TTT\n",
      "EEE\n",
      "DDD\n"
     ]
    }
   ],
   "source": [
    "string = 'MINDGRAPH TECHNOLOGIES PRIVATE LIMITED'\n",
    "for i in string:\n",
    "    print(i + i + i)"
   ]
  },
  {
   "cell_type": "code",
   "execution_count": 79,
   "id": "cff22ef6",
   "metadata": {},
   "outputs": [
    {
     "name": "stdout",
     "output_type": "stream",
     "text": [
      "M M M\n",
      "I I I\n",
      "N N N\n",
      "D D D\n",
      "G G G\n",
      "R R R\n",
      "A A A\n",
      "P P P\n",
      "H H H\n",
      "     \n",
      "T T T\n",
      "E E E\n",
      "C C C\n",
      "H H H\n",
      "N N N\n",
      "O O O\n",
      "L L L\n",
      "O O O\n",
      "G G G\n",
      "I I I\n",
      "E E E\n",
      "S S S\n",
      "     \n",
      "P P P\n",
      "R R R\n",
      "I I I\n",
      "V V V\n",
      "A A A\n",
      "T T T\n",
      "E E E\n",
      "     \n",
      "L L L\n",
      "I I I\n",
      "M M M\n",
      "I I I\n",
      "T T T\n",
      "E E E\n",
      "D D D\n"
     ]
    }
   ],
   "source": [
    "string = 'MINDGRAPH TECHNOLOGIES PRIVATE LIMITED'\n",
    "for i in string:\n",
    "    print(i + ' ' + i + ' ' +i)"
   ]
  },
  {
   "cell_type": "code",
   "execution_count": 80,
   "id": "7eedaf14",
   "metadata": {},
   "outputs": [
    {
     "name": "stdout",
     "output_type": "stream",
     "text": [
      "M   M   M\n",
      "I   I   I\n",
      "N   N   N\n",
      "D   D   D\n",
      "G   G   G\n",
      "R   R   R\n",
      "A   A   A\n",
      "P   P   P\n",
      "H   H   H\n",
      "         \n",
      "T   T   T\n",
      "E   E   E\n",
      "C   C   C\n",
      "H   H   H\n",
      "N   N   N\n",
      "O   O   O\n",
      "L   L   L\n",
      "O   O   O\n",
      "G   G   G\n",
      "I   I   I\n",
      "E   E   E\n",
      "S   S   S\n",
      "         \n",
      "P   P   P\n",
      "R   R   R\n",
      "I   I   I\n",
      "V   V   V\n",
      "A   A   A\n",
      "T   T   T\n",
      "E   E   E\n",
      "         \n",
      "L   L   L\n",
      "I   I   I\n",
      "M   M   M\n",
      "I   I   I\n",
      "T   T   T\n",
      "E   E   E\n",
      "D   D   D\n"
     ]
    }
   ],
   "source": [
    "string = 'MINDGRAPH TECHNOLOGIES PRIVATE LIMITED'\n",
    "for i in string:\n",
    "    print(i , ' ' , i , ' ' ,i)"
   ]
  },
  {
   "cell_type": "code",
   "execution_count": 82,
   "id": "908f3f54",
   "metadata": {},
   "outputs": [
    {
     "data": {
      "text/plain": [
       "range(0, 10)"
      ]
     },
     "execution_count": 82,
     "metadata": {},
     "output_type": "execute_result"
    }
   ],
   "source": [
    "range(0, 10)"
   ]
  },
  {
   "cell_type": "code",
   "execution_count": 83,
   "id": "e271aedb",
   "metadata": {},
   "outputs": [
    {
     "name": "stdout",
     "output_type": "stream",
     "text": [
      "0\n",
      "1\n",
      "2\n",
      "3\n",
      "4\n",
      "5\n",
      "6\n",
      "7\n",
      "8\n",
      "9\n"
     ]
    }
   ],
   "source": [
    "for i in range(0, 10):\n",
    "    print(i)"
   ]
  },
  {
   "cell_type": "code",
   "execution_count": 85,
   "id": "4d6a7e5a",
   "metadata": {},
   "outputs": [
    {
     "data": {
      "text/plain": [
       "range(0, 10)"
      ]
     },
     "execution_count": 85,
     "metadata": {},
     "output_type": "execute_result"
    }
   ],
   "source": [
    "range(0, 10)"
   ]
  },
  {
   "cell_type": "code",
   "execution_count": 86,
   "id": "7fcdb319",
   "metadata": {},
   "outputs": [
    {
     "data": {
      "text/plain": [
       "range(0, 10)"
      ]
     },
     "execution_count": 86,
     "metadata": {},
     "output_type": "execute_result"
    }
   ],
   "source": [
    "range(10)"
   ]
  },
  {
   "cell_type": "code",
   "execution_count": 84,
   "id": "ceba2db4",
   "metadata": {},
   "outputs": [
    {
     "data": {
      "text/plain": [
       "[0, 1, 2, 3, 4, 5, 6, 7, 8, 9]"
      ]
     },
     "execution_count": 84,
     "metadata": {},
     "output_type": "execute_result"
    }
   ],
   "source": [
    "list(range(0, 10))"
   ]
  },
  {
   "cell_type": "code",
   "execution_count": 87,
   "id": "7e1bc86e",
   "metadata": {},
   "outputs": [
    {
     "data": {
      "text/plain": [
       "(0, 1, 2, 3, 4, 5, 6, 7, 8, 9)"
      ]
     },
     "execution_count": 87,
     "metadata": {},
     "output_type": "execute_result"
    }
   ],
   "source": [
    "tuple(range(10))"
   ]
  },
  {
   "cell_type": "code",
   "execution_count": 88,
   "id": "c8bacf42",
   "metadata": {},
   "outputs": [
    {
     "name": "stdout",
     "output_type": "stream",
     "text": [
      "0\n",
      "1\n",
      "2\n",
      "3\n",
      "4\n",
      "5\n",
      "6\n",
      "7\n",
      "8\n",
      "9\n"
     ]
    }
   ],
   "source": [
    "for i in range(10):\n",
    "    print(i)"
   ]
  },
  {
   "cell_type": "code",
   "execution_count": 89,
   "id": "869dce3c",
   "metadata": {},
   "outputs": [
    {
     "name": "stdout",
     "output_type": "stream",
     "text": [
      "1\n",
      "0\n",
      "3\n",
      "4\n",
      "5\n",
      "4\n"
     ]
    }
   ],
   "source": [
    "a = 103454\n",
    "for i in str(a):\n",
    "    print(i)"
   ]
  },
  {
   "cell_type": "code",
   "execution_count": 90,
   "id": "8c957ad3",
   "metadata": {},
   "outputs": [],
   "source": [
    "l = ['Shubha', [1, 2, 3, 4, 5], (2, 3, 4, 5, 6), 56,'Mindgraph' ,67, (6+7j), True, 45.67, 'ByteIQ']"
   ]
  },
  {
   "cell_type": "code",
   "execution_count": 92,
   "id": "c1f4e4a7",
   "metadata": {},
   "outputs": [
    {
     "name": "stdout",
     "output_type": "stream",
     "text": [
      "Shubha\n",
      "[1, 2, 3, 4, 5]\n",
      "(2, 3, 4, 5, 6)\n",
      "56 is an integer\n",
      "Mindgraph\n",
      "67 is an integer\n",
      "Others\n",
      "Others\n",
      "Others\n",
      "ByteIQ\n"
     ]
    }
   ],
   "source": [
    "for i in l:\n",
    "    if type(i) == list or type(i) == tuple or type(i) == str:\n",
    "        print(i)\n",
    "    elif type(i) == int:\n",
    "        print('{} is an integer'.format(i))\n",
    "    else:\n",
    "        print('Others')"
   ]
  },
  {
   "cell_type": "markdown",
<<<<<<< HEAD
   "id": "2fe16897",
   "metadata": {},
   "source": [
    "* shubha\n",
    "* list\n",
    "* tuple\n",
    "* 56 is an integer\n",
    "* Mindgraph\n",
    "* 67 is an integer\n",
    "* Others\n",
    "* Others\n",
    "* Others\n",
    "* ByteIQ"
   ]
  },
  {
=======
   "id": "32ca40be",
   "metadata": {},
   "source": [
    "### Task 1:"
   ]
  },
  {
   "cell_type": "markdown",
   "id": "25ca7bf3",
   "metadata": {},
   "source": [
    "### WAP to take a list as input and return True if the list contains a 3 next to a 3 somewhere.\n",
    "\n",
    "* Desired output:\n",
    "\n",
    "    * [1, 3, 3] → True\n",
    "\n",
    "    * [1, 3, 1, 3] → False\n",
    "\n",
    "    * [3, 1, 3] → False\n",
    "\n",
    "    * [3,3,1] → True"
   ]
  },
  {
   "cell_type": "markdown",
   "id": "4a5c6130",
   "metadata": {},
   "source": [
    "### Task 2:"
   ]
  },
  {
   "cell_type": "markdown",
   "id": "63d3b972",
   "metadata": {},
   "source": [
    "### Write a program that takes a two-word string and returns True if both words begin with same letter\n",
    "\n",
    "    * Sample input1:\n",
    "        \n",
    "        * s1 = \"Mind Graph\"\n",
    "    \n",
    "    * Sample output1:\n",
    "        \n",
    "        * False\n",
    "        \n",
    "    * Sample input2:\n",
    "        \n",
    "        * s2 = \"Crispy Corn\"\n",
    "        \n",
    "    * Sample output2:\n",
    "        \n",
    "        * True"
   ]
  },
  {
   "cell_type": "markdown",
   "id": "d25c06a1",
   "metadata": {},
   "source": [
    "### Task 3:"
   ]
  },
  {
   "cell_type": "markdown",
   "id": "7f45626f",
   "metadata": {},
   "source": [
    "### WAP to take a string as input having 5 words. If the word starts with vowel and upper case, then convert it to lower case. If the word starts with consonant, then replace that first character with its next character.\n",
    "\n",
    "* Sample input1:\n",
    "\n",
    "    * s = \"I am working in Mindgraph.\"\n",
    "    \n",
    "* Sample output1:\n",
    "\n",
    "    * i am xorking in Nindgraph.\n",
    "    \n",
    "* Sample input2:\n",
    "\n",
    "    * st = \"What are you doing now\"\n",
    "    \n",
    "* Sample output2:\n",
    "\n",
    "    * Xhat are you eoing oow\"\n",
    "\n",
    "     "
   ]
  },
  {
   "cell_type": "markdown",
   "id": "9ac05420",
   "metadata": {},
   "source": [
    "### Task 4:"
   ]
  },
  {
   "cell_type": "markdown",
   "id": "97edd16b",
   "metadata": {},
   "source": [
    "### WAP to make small inventory management system project.\n",
    "* Hint: take the inventories product and its price in a dictionary.\n",
    "    * Then ask the user what he/she wants to buy?\n",
    "    * After that calculate the bill for that user."
   ]
  },
  {
   "cell_type": "markdown",
   "id": "3bbb3da8",
   "metadata": {},
   "source": [
    "### Task 5:"
   ]
  },
  {
   "cell_type": "markdown",
   "id": "4451824e",
   "metadata": {},
   "source": [
    "### WAP to make a small project where there is a menu available for lunch, breakfast and dinner in a dictionary. then sort the items in separate 3 list and show these 3 list to the user. \n",
    "\n",
    "\n",
    "* Sample output:\n",
    "\n",
    "* Here is our menu Bar\n",
    "\n",
    "\n",
    "\n",
    "* In Breakfast: ['Noodles', 'Puri', 'Dosa']\n",
    "------------------------------------------\n",
    "* In Lunch: ['Biriyani', 'Mushroom', 'Paneer', 'Rice']\n",
    "-------------------------------------------\n",
    "* In Dinner ['Pizza', 'Chicken', 'Roti']"
   ]
  },
  {
   "cell_type": "code",
   "execution_count": null,
   "id": "8e733fa9",
   "metadata": {},
   "outputs": [],
   "source": []
  },
  {
   "cell_type": "code",
   "execution_count": null,
   "id": "8d331902",
   "metadata": {},
   "outputs": [],
   "source": []
  },
  {
   "cell_type": "code",
   "execution_count": null,
   "id": "99e2270f",
   "metadata": {},
   "outputs": [],
   "source": []
  },
  {
>>>>>>> 65902033ebc4d0a7dc8c7c88c190f2b8e3535b29
   "cell_type": "markdown",
   "id": "216896bb",
   "metadata": {},
   "source": [
    "### Struggle-Nightmare-Pattern Problems"
   ]
  },
  {
   "cell_type": "code",
   "execution_count": 29,
   "id": "fd1fcaea",
   "metadata": {},
   "outputs": [
    {
     "name": "stdout",
     "output_type": "stream",
     "text": [
      "Enter the maximum number of * to print at the end: 5\n",
      "*  \n",
      "* *  \n",
      "* * *  \n",
      "* * * *  \n",
      "* * * * *  \n",
      "* * * * * *  \n"
     ]
    }
   ],
   "source": [
    "n = int(input(\"Enter the maximum number of * to print at the end: \"))\n",
    "for i in range(0, n+1):\n",
    "#     print(i)\n",
    "    for j in range(i+1):\n",
    "        print('*', end = ' ')\n",
    "    print(' ')"
   ]
  }
 ],
 "metadata": {
  "kernelspec": {
   "display_name": "Python 3",
   "language": "python",
   "name": "python3"
  },
  "language_info": {
   "codemirror_mode": {
    "name": "ipython",
    "version": 3
   },
   "file_extension": ".py",
   "mimetype": "text/x-python",
   "name": "python",
   "nbconvert_exporter": "python",
   "pygments_lexer": "ipython3",
   "version": "3.8.8"
  }
 },
 "nbformat": 4,
 "nbformat_minor": 5
}
