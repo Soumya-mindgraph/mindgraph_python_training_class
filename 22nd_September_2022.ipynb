{
 "cells": [
  {
   "cell_type": "markdown",
   "id": "e99aed0d",
   "metadata": {},
   "source": [
    "### Brahma's Question"
   ]
  },
  {
   "cell_type": "code",
   "execution_count": 1,
   "id": "cfeba97e",
   "metadata": {},
   "outputs": [],
   "source": [
    "l = 'Shubha'"
   ]
  },
  {
   "cell_type": "code",
   "execution_count": 2,
   "id": "4d6f1913",
   "metadata": {},
   "outputs": [
    {
     "data": {
      "text/plain": [
       "2"
      ]
     },
     "execution_count": 2,
     "metadata": {},
     "output_type": "execute_result"
    }
   ],
   "source": [
    "l.count('h')"
   ]
  },
  {
   "cell_type": "code",
   "execution_count": 4,
   "id": "a922d671",
   "metadata": {},
   "outputs": [
    {
     "name": "stdout",
     "output_type": "stream",
     "text": [
      "2\n"
     ]
    }
   ],
   "source": [
    "c = 0\n",
    "for i in l:\n",
    "    if i == 'h':\n",
    "        c += 1\n",
    "print(c)"
   ]
  },
  {
   "cell_type": "markdown",
   "id": "37f97deb",
   "metadata": {},
   "source": [
    "### if-elif-else"
   ]
  },
  {
   "cell_type": "code",
   "execution_count": 5,
   "id": "41f179b7",
   "metadata": {},
   "outputs": [
    {
     "name": "stdout",
     "output_type": "stream",
     "text": [
      "This is my alternate statement\n"
     ]
    }
   ],
   "source": [
    "a = 10\n",
    "# block-1 starts\n",
    "if a>20:\n",
    "    print('this is a number')\n",
    "# block-1 ends\n",
    "# block-2 starts\n",
    "if a==10:\n",
    "    print('This is my alternate statement')\n",
    "elif a<20:\n",
    "    print('Print from elif')\n",
    "else:\n",
    "    print('This is statement')\n",
    "# block-2 ends"
   ]
  },
  {
   "cell_type": "code",
   "execution_count": 6,
   "id": "91274564",
   "metadata": {},
   "outputs": [
    {
     "name": "stdout",
     "output_type": "stream",
     "text": [
      "this is a number\n",
      "This is my alternate statement\n"
     ]
    }
   ],
   "source": [
    "a = 10\n",
    "# block-1 starts\n",
    "if a<20:\n",
    "    print('this is a number')\n",
    "# block-1 ends\n",
    "# block-2 starts\n",
    "if a==10:\n",
    "    print('This is my alternate statement')\n",
    "elif a<20:\n",
    "    print('Print from elif')\n",
    "else:\n",
    "    print('This is statement')\n",
    "# block-2 ends"
   ]
  },
  {
   "cell_type": "code",
   "execution_count": 7,
   "id": "bfa3e7a3",
   "metadata": {},
   "outputs": [
    {
     "name": "stdout",
     "output_type": "stream",
     "text": [
      "Print from elif\n"
     ]
    }
   ],
   "source": [
    "a = 10\n",
    "# block-1 starts\n",
    "if a>20:\n",
    "    print('this is a number')\n",
    "# block-1 ends\n",
    "# block-2 starts\n",
    "if a==30:\n",
    "    print('This is my alternate statement')\n",
    "elif a<20:\n",
    "    print('Print from elif')\n",
    "else:\n",
    "    print('This is statement')\n",
    "# block-2 ends"
   ]
  },
  {
   "cell_type": "code",
   "execution_count": 8,
   "id": "5e34f46b",
   "metadata": {},
   "outputs": [
    {
     "name": "stdout",
     "output_type": "stream",
     "text": [
      "I am checking the type of var\n"
     ]
    }
   ],
   "source": [
    "a = 10\n",
    "# block starts\n",
    "if a==30:\n",
    "    print('This is my alternate statement') # False\n",
    "elif type(a) == int:\n",
    "    print('I am checking the type of var') # True\n",
    "elif a<20:\n",
    "     print('Print from elif')\n",
    "else:\n",
    "    print('Print this statement')\n",
    "# block ends"
   ]
  },
  {
   "cell_type": "markdown",
   "id": "59c741c2",
   "metadata": {},
   "source": [
    "* If it is if-if, i.e., if followed by if - Different Blocks\n",
    "* If it is if-else, i.e., if followed by else - Same Block\n",
    "* If it is if-elif-else, i.e., if followed by if-elif-else - Same Block"
   ]
  },
  {
   "cell_type": "code",
   "execution_count": 9,
   "id": "c382fae4",
   "metadata": {},
   "outputs": [
    {
     "name": "stdout",
     "output_type": "stream",
     "text": [
      "String Without Message\n"
     ]
    },
    {
     "data": {
      "text/plain": [
       "'String Without Message'"
      ]
     },
     "execution_count": 9,
     "metadata": {},
     "output_type": "execute_result"
    }
   ],
   "source": [
    "input()"
   ]
  },
  {
   "cell_type": "code",
   "execution_count": 10,
   "id": "70b7928d",
   "metadata": {},
   "outputs": [
    {
     "name": "stdout",
     "output_type": "stream",
     "text": [
      "56\n"
     ]
    },
    {
     "data": {
      "text/plain": [
       "56"
      ]
     },
     "execution_count": 10,
     "metadata": {},
     "output_type": "execute_result"
    }
   ],
   "source": [
    "int(input())"
   ]
  },
  {
   "cell_type": "code",
   "execution_count": 12,
   "id": "f216f93a",
   "metadata": {},
   "outputs": [
    {
     "name": "stdout",
     "output_type": "stream",
     "text": [
      "Enter a String: Shubha\n"
     ]
    },
    {
     "data": {
      "text/plain": [
       "'Shubha'"
      ]
     },
     "execution_count": 12,
     "metadata": {},
     "output_type": "execute_result"
    }
   ],
   "source": [
    "input('Enter a String: ')"
   ]
  },
  {
   "cell_type": "code",
   "execution_count": 13,
   "id": "f6cf1e44",
   "metadata": {},
   "outputs": [
    {
     "name": "stdout",
     "output_type": "stream",
     "text": [
      "Enter a number: 54\n"
     ]
    },
    {
     "data": {
      "text/plain": [
       "54"
      ]
     },
     "execution_count": 13,
     "metadata": {},
     "output_type": "execute_result"
    }
   ],
   "source": [
    "int(input('Enter a number: '))"
   ]
  },
  {
   "cell_type": "code",
   "execution_count": 14,
   "id": "aefabd14",
   "metadata": {},
   "outputs": [
    {
     "name": "stdout",
     "output_type": "stream",
     "text": [
      "Enter a number: wnkfcn\n"
     ]
    },
    {
     "ename": "ValueError",
     "evalue": "invalid literal for int() with base 10: 'wnkfcn'",
     "output_type": "error",
     "traceback": [
      "\u001b[1;31m---------------------------------------------------------------------------\u001b[0m",
      "\u001b[1;31mValueError\u001b[0m                                Traceback (most recent call last)",
      "\u001b[1;32m~\\AppData\\Local\\Temp/ipykernel_7344/1505287367.py\u001b[0m in \u001b[0;36m<module>\u001b[1;34m\u001b[0m\n\u001b[1;32m----> 1\u001b[1;33m \u001b[0mint\u001b[0m\u001b[1;33m(\u001b[0m\u001b[0minput\u001b[0m\u001b[1;33m(\u001b[0m\u001b[1;34m'Enter a number: '\u001b[0m\u001b[1;33m)\u001b[0m\u001b[1;33m)\u001b[0m\u001b[1;33m\u001b[0m\u001b[1;33m\u001b[0m\u001b[0m\n\u001b[0m",
      "\u001b[1;31mValueError\u001b[0m: invalid literal for int() with base 10: 'wnkfcn'"
     ]
    }
   ],
   "source": [
    "int(input('Enter a number: '))"
   ]
  },
  {
   "cell_type": "code",
   "execution_count": 15,
   "id": "2120bf2d",
   "metadata": {},
   "outputs": [
    {
     "name": "stdout",
     "output_type": "stream",
     "text": [
      "Enter a number: 25.6\n"
     ]
    },
    {
     "ename": "ValueError",
     "evalue": "invalid literal for int() with base 10: '25.6'",
     "output_type": "error",
     "traceback": [
      "\u001b[1;31m---------------------------------------------------------------------------\u001b[0m",
      "\u001b[1;31mValueError\u001b[0m                                Traceback (most recent call last)",
      "\u001b[1;32m~\\AppData\\Local\\Temp/ipykernel_7344/1505287367.py\u001b[0m in \u001b[0;36m<module>\u001b[1;34m\u001b[0m\n\u001b[1;32m----> 1\u001b[1;33m \u001b[0mint\u001b[0m\u001b[1;33m(\u001b[0m\u001b[0minput\u001b[0m\u001b[1;33m(\u001b[0m\u001b[1;34m'Enter a number: '\u001b[0m\u001b[1;33m)\u001b[0m\u001b[1;33m)\u001b[0m\u001b[1;33m\u001b[0m\u001b[1;33m\u001b[0m\u001b[0m\n\u001b[0m",
      "\u001b[1;31mValueError\u001b[0m: invalid literal for int() with base 10: '25.6'"
     ]
    }
   ],
   "source": [
    "int(input('Enter a number: '))"
   ]
  },
  {
   "cell_type": "code",
   "execution_count": 16,
   "id": "6d0be523",
   "metadata": {
    "scrolled": true
   },
   "outputs": [
    {
     "name": "stdout",
     "output_type": "stream",
     "text": [
      "Enter a number: /\n"
     ]
    },
    {
     "ename": "ValueError",
     "evalue": "invalid literal for int() with base 10: '/'",
     "output_type": "error",
     "traceback": [
      "\u001b[1;31m---------------------------------------------------------------------------\u001b[0m",
      "\u001b[1;31mValueError\u001b[0m                                Traceback (most recent call last)",
      "\u001b[1;32m~\\AppData\\Local\\Temp/ipykernel_7344/1505287367.py\u001b[0m in \u001b[0;36m<module>\u001b[1;34m\u001b[0m\n\u001b[1;32m----> 1\u001b[1;33m \u001b[0mint\u001b[0m\u001b[1;33m(\u001b[0m\u001b[0minput\u001b[0m\u001b[1;33m(\u001b[0m\u001b[1;34m'Enter a number: '\u001b[0m\u001b[1;33m)\u001b[0m\u001b[1;33m)\u001b[0m\u001b[1;33m\u001b[0m\u001b[1;33m\u001b[0m\u001b[0m\n\u001b[0m",
      "\u001b[1;31mValueError\u001b[0m: invalid literal for int() with base 10: '/'"
     ]
    }
   ],
   "source": [
    "int(input('Enter a number: '))"
   ]
  },
  {
   "cell_type": "code",
   "execution_count": 18,
   "id": "6bf1a476",
   "metadata": {},
   "outputs": [
    {
     "name": "stdout",
     "output_type": "stream",
     "text": [
      "50\n",
      "You can buy all the listed items in row one\n"
     ]
    }
   ],
   "source": [
    "Discount = int(input()) # will give the output in integer format\n",
    "if Discount == 50:\n",
    "    print('You can buy all the listed items in row one')\n",
    "elif Discount == 30:\n",
    "    print('You can buy all the items from row 2')\n",
    "elif Discount == 20:\n",
    "    print('Send user to row 2')\n",
    "elif Discount > 10:\n",
    "    print('Send him to the 4th row')\n",
    "else:\n",
    "    print('There is no item available')"
   ]
  },
  {
   "cell_type": "code",
   "execution_count": 19,
   "id": "5905062b",
   "metadata": {},
   "outputs": [
    {
     "name": "stdout",
     "output_type": "stream",
     "text": [
      "11\n",
      "Send him to the 4th row\n"
     ]
    }
   ],
   "source": [
    "Discount = int(input()) # will give the output in integer format\n",
    "if Discount == 50:\n",
    "    print('You can buy all the listed items in row one')\n",
    "elif Discount == 30:\n",
    "    print('You can buy all the items from row 2')\n",
    "elif Discount == 20:\n",
    "    print('Send user to row 2')\n",
    "elif Discount > 10:\n",
    "    print('Send him to the 4th row')\n",
    "else:\n",
    "    print('There is no item available')"
   ]
  },
  {
   "cell_type": "code",
   "execution_count": 20,
   "id": "beb9c6fd",
   "metadata": {},
   "outputs": [
    {
     "name": "stdout",
     "output_type": "stream",
     "text": [
      "100\n",
      "Send him to the 4th row\n"
     ]
    }
   ],
   "source": [
    "Discount = int(input()) # will give the output in integer format\n",
    "if Discount == 50:\n",
    "    print('You can buy all the listed items in row one')\n",
    "elif Discount == 30:\n",
    "    print('You can buy all the items from row 2')\n",
    "elif Discount == 20:\n",
    "    print('Send user to row 2')\n",
    "elif Discount > 10:\n",
    "    print('Send him to the 4th row')\n",
    "else:\n",
    "    print('There is no item available')"
   ]
  },
  {
   "cell_type": "code",
   "execution_count": 31,
   "id": "1b6d237d",
   "metadata": {},
   "outputs": [
    {
     "name": "stdout",
     "output_type": "stream",
     "text": [
      "0\n",
      "Steal Nikki's Card\n"
     ]
    }
   ],
   "source": [
    "income = int(input())\n",
    "if income>1000:\n",
    "    print('You can get a platinum card')\n",
    "elif income>800:\n",
    "    print('You can get a gold card')\n",
    "else:\n",
    "    print(\"Steal Nikki's Card\")"
   ]
  },
  {
   "cell_type": "code",
   "execution_count": 32,
   "id": "d3b26db3",
   "metadata": {},
   "outputs": [
    {
     "name": "stdout",
     "output_type": "stream",
     "text": [
      "800\n",
      "Steal Nikki's Card\n"
     ]
    }
   ],
   "source": [
    "income = int(input())\n",
    "if income>1000:\n",
    "    print('You can get a platinum card')\n",
    "elif income>800:\n",
    "    print('You can get a gold card')\n",
    "else:\n",
    "    print(\"Steal Nikki's Card\")"
   ]
  },
  {
   "cell_type": "code",
   "execution_count": 33,
   "id": "a42eac27",
   "metadata": {},
   "outputs": [
    {
     "name": "stdout",
     "output_type": "stream",
     "text": [
      "800.01\n",
      "You can get a gold card\n"
     ]
    }
   ],
   "source": [
    "income = float(input())\n",
    "if income>1000:\n",
    "    print('You can get a platinum card')\n",
    "elif income>800:\n",
    "    print('You can get a gold card')\n",
    "else:\n",
    "    print(\"Steal Nikki's Card\")"
   ]
  },
  {
   "cell_type": "markdown",
   "id": "15aa502e",
   "metadata": {},
   "source": [
    "### nested if statements"
   ]
  },
  {
   "cell_type": "code",
   "execution_count": 34,
   "id": "f06a2516",
   "metadata": {},
   "outputs": [
    {
     "name": "stdout",
     "output_type": "stream",
     "text": [
      "3000\n",
      "You can get a platinum card\n",
      "You will be able to get other facilities\n"
     ]
    }
   ],
   "source": [
    "income = int(input())\n",
    "# block starts\n",
    "if income>1000:\n",
    "    print('You can get a platinum card') \n",
    "    # nested block starts\n",
    "    if income>2000:\n",
    "        print('You will be able to get other facilities')\n",
    "    # nested block ends\n",
    "elif income>800:\n",
    "    print('You will be able to get gold card')\n",
    "else:\n",
    "    print(\"You won't be able to get any card\")\n",
    "# block ends"
   ]
  },
  {
   "cell_type": "code",
   "execution_count": 35,
   "id": "a68f8729",
   "metadata": {},
   "outputs": [
    {
     "name": "stdout",
     "output_type": "stream",
     "text": [
      "1800\n",
      "You can get a platinum card\n",
      "No Option\n"
     ]
    }
   ],
   "source": [
    "income = int(input())\n",
    "# block starts\n",
    "if income>1000:\n",
    "    print('You can get a platinum card')\n",
    "    # nested block starts\n",
    "    if income>2000:\n",
    "        print('You will be able to get other facilities')\n",
    "    elif income < 1500:\n",
    "        print('You will get another things')\n",
    "    else:\n",
    "        print('No Option')\n",
    "    # nested block ends\n",
    "elif income>800:\n",
    "    print('You will be able to get gold card')\n",
    "else:\n",
    "    print(\"You won't be able to get any card\")\n",
    "# block ends"
   ]
  },
  {
   "cell_type": "code",
   "execution_count": 36,
   "id": "0116bef6",
   "metadata": {},
   "outputs": [
    {
     "name": "stdout",
     "output_type": "stream",
     "text": [
      "1499\n",
      "You can get a platinum card\n",
      "You will get another things\n"
     ]
    }
   ],
   "source": [
    "income = int(input())\n",
    "# block starts\n",
    "if income>1000:\n",
    "    print('You can get a platinum card')\n",
    "    # nested block starts\n",
    "    if income>2000:\n",
    "        print('You will be able to get other facilities')\n",
    "    elif income < 1500:\n",
    "        print('You will get another things')\n",
    "    else:\n",
    "        print('No Option')\n",
    "    # nested block ends\n",
    "elif income>800:\n",
    "    print('You will be able to get gold card')\n",
    "else:\n",
    "    print(\"You won't be able to get any card\")\n",
    "# block ends"
   ]
  },
  {
   "cell_type": "code",
   "execution_count": 37,
   "id": "be26128d",
   "metadata": {},
   "outputs": [
    {
     "name": "stdout",
     "output_type": "stream",
     "text": [
      "2300\n",
      "You can get a platinum card\n",
      "You will be able to get another facilities\n",
      "You'll be able to get discount in services\n",
      "There is no option available\n"
     ]
    }
   ],
   "source": [
    "income = int(input())\n",
    "# block starts here\n",
    "if income>1000:\n",
    "    print('You can get a platinum card') # print\n",
    "    # nested block starts here\n",
    "    if income>2000:\n",
    "        print('You will be able to get another facilities')\n",
    "        # sub-nested-block-1 starts here\n",
    "        if income > 2200:\n",
    "            print(\"You'll be able to get discount in services\")\n",
    "        # sub-nested-block-1 ends here\n",
    "        # sub-nested-block-2 starts here\n",
    "        if income > 2300:\n",
    "            print(\"You'll be able to get the air tickets\")\n",
    "        else:\n",
    "            print('There is no option available')\n",
    "        # sub-nested-block-2 ends here\n",
    "    elif income < 1500:\n",
    "        print('You will get another things')\n",
    "    else:\n",
    "        print('No Option')\n",
    "    # nested block starts here\n",
    "elif income>800:\n",
    "    print('You will be able to get gold card')\n",
    "else:\n",
    "    print(\"You won't be able to get any card\")\n",
    "# block ends here"
   ]
  },
  {
   "cell_type": "code",
   "execution_count": 38,
   "id": "93dd9d35",
   "metadata": {},
   "outputs": [
    {
     "name": "stdout",
     "output_type": "stream",
     "text": [
      "2301\n",
      "You can get a platinum card\n",
      "You will be able to get another facilities\n",
      "You'll be able to get discount in services\n",
      "You'll be able to get the air tickets\n"
     ]
    }
   ],
   "source": [
    "income = int(input())\n",
    "# block starts here\n",
    "if income>1000:\n",
    "    print('You can get a platinum card') # print\n",
    "    # nested block starts here\n",
    "    if income>2000:\n",
    "        print('You will be able to get another facilities')\n",
    "        # sub-nested-block-1 starts here\n",
    "        if income > 2200:\n",
    "            print(\"You'll be able to get discount in services\")\n",
    "        # sub-nested-block-1 ends here\n",
    "        # sub-nested-block-2 starts here\n",
    "        if income > 2300:\n",
    "            print(\"You'll be able to get the air tickets\")\n",
    "        else:\n",
    "            print('There is no option available')\n",
    "        # sub-nested-block-2 ends here\n",
    "    elif income < 1500:\n",
    "        print('You will get another things')\n",
    "    else:\n",
    "        print('No Option')\n",
    "    # nested block starts here\n",
    "elif income>800:\n",
    "    print('You will be able to get gold card')\n",
    "else:\n",
    "    print(\"You won't be able to get any card\")\n",
    "# block ends here"
   ]
  },
  {
   "cell_type": "code",
   "execution_count": 39,
   "id": "e8d3001f",
   "metadata": {
    "scrolled": true
   },
   "outputs": [
    {
     "name": "stdout",
     "output_type": "stream",
     "text": [
      "2302\n",
      "You can get a platinum card\n",
      "You will be able to get another facilities\n",
      "You'll be able to get discount in services\n",
      "You'll be able to get the air tickets\n"
     ]
    }
   ],
   "source": [
    "income = int(input())\n",
    "# block starts here\n",
    "if income>1000:\n",
    "    print('You can get a platinum card') # print\n",
    "    pass # in this scenario pass doesn't do annything\n",
    "    # nested block starts here\n",
    "    if income>2000:\n",
    "        print('You will be able to get another facilities')\n",
    "        # sub-nested-block-1 starts here\n",
    "        if income > 2200:\n",
    "            print(\"You'll be able to get discount in services\")\n",
    "        # sub-nested-block-1 ends here\n",
    "        # sub-nested-block-2 starts here\n",
    "        if income > 2300:\n",
    "            print(\"You'll be able to get the air tickets\")\n",
    "        else:\n",
    "            print('There is no option available')\n",
    "        # sub-nested-block-2 ends here\n",
    "    elif income < 1500:\n",
    "        print('You will get another things')\n",
    "    else:\n",
    "        print('No Option')\n",
    "    # nested block starts here\n",
    "elif income>800:\n",
    "    print('You will be able to get gold card')\n",
    "else:\n",
    "    print(\"You won't be able to get any card\")\n",
    "# block ends here"
   ]
  },
  {
   "cell_type": "code",
   "execution_count": 44,
   "id": "7fe2d29e",
   "metadata": {},
   "outputs": [
    {
     "ename": "IndentationError",
     "evalue": "expected an indented block (Temp/ipykernel_7344/354860128.py, line 2)",
     "output_type": "error",
     "traceback": [
      "\u001b[1;36m  File \u001b[1;32m\"C:\\Users\\Acer\\AppData\\Local\\Temp/ipykernel_7344/354860128.py\"\u001b[1;36m, line \u001b[1;32m2\u001b[0m\n\u001b[1;33m    else:\u001b[0m\n\u001b[1;37m    ^\u001b[0m\n\u001b[1;31mIndentationError\u001b[0m\u001b[1;31m:\u001b[0m expected an indented block\n"
     ]
    }
   ],
   "source": [
    "if 1:\n",
    "else:\n",
    "    print('one')"
   ]
  },
  {
   "cell_type": "code",
   "execution_count": 45,
   "id": "7999d4df",
   "metadata": {},
   "outputs": [],
   "source": [
    "if 1:\n",
    "    pass\n",
    "else:\n",
    "    print('one')"
   ]
  },
  {
   "cell_type": "code",
   "execution_count": 46,
   "id": "5077faa2",
   "metadata": {
    "scrolled": true
   },
   "outputs": [
    {
     "name": "stdout",
     "output_type": "stream",
     "text": [
      "999\n",
      "You will be able to get gold card\n"
     ]
    }
   ],
   "source": [
    "income = int(input())\n",
    "# block starts here\n",
    "if income>1000:\n",
    "    print('You can get a platinum card') # print\n",
    "    pass # in this scenario pass doesn't do annything\n",
    "    # nested block starts here\n",
    "    if income>2000:\n",
    "        print('You will be able to get another facilities')\n",
    "        # sub-nested-block-1 starts here\n",
    "        if income > 2200:\n",
    "            print(\"You'll be able to get discount in services\")\n",
    "        # sub-nested-block-1 ends here\n",
    "        # sub-nested-block-2 starts here\n",
    "        if income > 2300:\n",
    "            print(\"You'll be able to get the air tickets\")\n",
    "        else:\n",
    "            print('There is no option available')\n",
    "        # sub-nested-block-2 ends here\n",
    "    elif income < 1500:\n",
    "        print('You will get another things')\n",
    "    else:\n",
    "        print('No Option')\n",
    "    # nested block starts here\n",
    "elif income>800:\n",
    "    print('You will be able to get gold card')\n",
    "else:\n",
    "    print(\"You won't be able to get any card\")\n",
    "# block ends here"
   ]
  },
  {
   "cell_type": "markdown",
   "id": "817a4428",
   "metadata": {},
   "source": [
    "### Not Recommended Practice"
   ]
  },
  {
   "cell_type": "code",
   "execution_count": 47,
   "id": "b85370e5",
   "metadata": {},
   "outputs": [
    {
     "name": "stdout",
     "output_type": "stream",
     "text": [
      "10\n",
      "This is 10\n"
     ]
    }
   ],
   "source": [
    "val = int(input())\n",
    "if val == 10: print('This is 10') # not recommended, because body and column in the same line"
   ]
  },
  {
   "cell_type": "markdown",
   "id": "bfb6ae5a",
   "metadata": {},
   "source": [
    "# Looping"
   ]
  },
  {
   "cell_type": "code",
   "execution_count": null,
   "id": "aeb423ac",
   "metadata": {},
   "outputs": [],
   "source": []
  },
  {
   "cell_type": "code",
   "execution_count": null,
   "id": "9f8fd53f",
   "metadata": {},
   "outputs": [],
   "source": []
  },
  {
   "cell_type": "code",
   "execution_count": null,
   "id": "706b3f4d",
   "metadata": {},
   "outputs": [],
   "source": []
  },
  {
   "cell_type": "code",
   "execution_count": null,
   "id": "8e951ece",
   "metadata": {},
   "outputs": [],
   "source": []
  },
  {
   "cell_type": "code",
   "execution_count": null,
   "id": "ce3d9e8f",
   "metadata": {},
   "outputs": [],
   "source": []
  },
  {
   "cell_type": "code",
   "execution_count": null,
   "id": "250973d3",
   "metadata": {},
   "outputs": [],
   "source": []
  },
  {
   "cell_type": "code",
   "execution_count": null,
   "id": "bda78ec0",
   "metadata": {},
   "outputs": [],
   "source": []
  },
  {
   "cell_type": "code",
   "execution_count": null,
   "id": "66b29294",
   "metadata": {},
   "outputs": [],
   "source": []
  },
  {
   "cell_type": "code",
   "execution_count": null,
   "id": "49844785",
   "metadata": {},
   "outputs": [],
   "source": []
  },
  {
   "cell_type": "code",
   "execution_count": null,
   "id": "e5c73457",
   "metadata": {},
   "outputs": [],
   "source": []
  },
  {
   "cell_type": "code",
   "execution_count": null,
   "id": "efd2aa19",
   "metadata": {},
   "outputs": [],
   "source": []
  },
  {
   "cell_type": "code",
   "execution_count": null,
   "id": "77119a90",
   "metadata": {},
   "outputs": [],
   "source": []
  },
  {
   "cell_type": "markdown",
   "id": "cdc620d0",
   "metadata": {},
   "source": [
    "### Struggle-Nightmare-Pattern Problems"
   ]
  },
  {
   "cell_type": "code",
   "execution_count": 29,
   "id": "c5f44673",
   "metadata": {},
   "outputs": [
    {
     "name": "stdout",
     "output_type": "stream",
     "text": [
      "Enter the maximum number of * to print at the end: 5\n",
      "*  \n",
      "* *  \n",
      "* * *  \n",
      "* * * *  \n",
      "* * * * *  \n",
      "* * * * * *  \n"
     ]
    }
   ],
   "source": [
    "n = int(input(\"Enter the maximum number of * to print at the end: \"))\n",
    "for i in range(0, n+1):\n",
    "#     print(i)\n",
    "    for j in range(i+1):\n",
    "        print('*', end = ' ')\n",
    "    print(' ')"
   ]
  },
  {
   "cell_type": "code",
   "execution_count": null,
   "id": "64c3f088",
   "metadata": {},
   "outputs": [],
   "source": []
  },
  {
   "cell_type": "code",
   "execution_count": null,
   "id": "dbf2c452",
   "metadata": {},
   "outputs": [],
   "source": []
  },
  {
   "cell_type": "code",
   "execution_count": null,
   "id": "07cbb5b0",
   "metadata": {},
   "outputs": [],
   "source": []
  },
  {
   "cell_type": "code",
   "execution_count": null,
   "id": "9f2f3614",
   "metadata": {},
   "outputs": [],
   "source": []
  }
 ],
 "metadata": {
  "kernelspec": {
   "display_name": "Python 3 (ipykernel)",
   "language": "python",
   "name": "python3"
  },
  "language_info": {
   "codemirror_mode": {
    "name": "ipython",
    "version": 3
   },
   "file_extension": ".py",
   "mimetype": "text/x-python",
   "name": "python",
   "nbconvert_exporter": "python",
   "pygments_lexer": "ipython3",
   "version": "3.9.7"
  }
 },
 "nbformat": 4,
 "nbformat_minor": 5
}
