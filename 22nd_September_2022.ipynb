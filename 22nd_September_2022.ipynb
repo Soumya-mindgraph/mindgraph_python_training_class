{
 "cells": [
  {
   "cell_type": "markdown",
   "id": "868699b9",
   "metadata": {},
   "source": [
    "### Brahma's Question"
   ]
  },
  {
   "cell_type": "code",
   "execution_count": 1,
   "id": "6f54e2cc",
   "metadata": {},
   "outputs": [],
   "source": [
    "l = 'Shubha'"
   ]
  },
  {
   "cell_type": "code",
   "execution_count": 2,
   "id": "9e4bda28",
   "metadata": {},
   "outputs": [
    {
     "data": {
      "text/plain": [
       "2"
      ]
     },
     "execution_count": 2,
     "metadata": {},
     "output_type": "execute_result"
    }
   ],
   "source": [
    "l.count('h')"
   ]
  },
  {
   "cell_type": "code",
   "execution_count": 4,
   "id": "4fdf8c43",
   "metadata": {},
   "outputs": [
    {
     "name": "stdout",
     "output_type": "stream",
     "text": [
      "2\n"
     ]
    }
   ],
   "source": [
    "c = 0\n",
    "for i in l:\n",
    "    if i == 'h':\n",
    "        c += 1\n",
    "print(c)"
   ]
  },
  {
   "cell_type": "markdown",
   "id": "93150e49",
   "metadata": {},
   "source": [
    "### if-elif-else"
   ]
  },
  {
   "cell_type": "code",
   "execution_count": 5,
   "id": "6d7ff7f3",
   "metadata": {},
   "outputs": [
    {
     "name": "stdout",
     "output_type": "stream",
     "text": [
      "This is my alternate statement\n"
     ]
    }
   ],
   "source": [
    "a = 10\n",
    "# block-1 starts\n",
    "if a>20:\n",
    "    print('this is a number')\n",
    "# block-1 ends\n",
    "# block-2 starts\n",
    "if a==10:\n",
    "    print('This is my alternate statement')\n",
    "elif a<20:\n",
    "    print('Print from elif')\n",
    "else:\n",
    "    print('This is statement')\n",
    "# block-2 ends"
   ]
  },
  {
   "cell_type": "code",
   "execution_count": 6,
   "id": "b0d46b2d",
   "metadata": {},
   "outputs": [
    {
     "name": "stdout",
     "output_type": "stream",
     "text": [
      "this is a number\n",
      "This is my alternate statement\n"
     ]
    }
   ],
   "source": [
    "a = 10\n",
    "# block-1 starts\n",
    "if a<20:\n",
    "    print('this is a number')\n",
    "# block-1 ends\n",
    "# block-2 starts\n",
    "if a==10:\n",
    "    print('This is my alternate statement')\n",
    "elif a<20:\n",
    "    print('Print from elif')\n",
    "else:\n",
    "    print('This is statement')\n",
    "# block-2 ends"
   ]
  },
  {
   "cell_type": "code",
   "execution_count": 7,
   "id": "0819a35d",
   "metadata": {},
   "outputs": [
    {
     "name": "stdout",
     "output_type": "stream",
     "text": [
      "Print from elif\n"
     ]
    }
   ],
   "source": [
    "a = 10\n",
    "# block-1 starts\n",
    "if a>20:\n",
    "    print('this is a number')\n",
    "# block-1 ends\n",
    "# block-2 starts\n",
    "if a==30:\n",
    "    print('This is my alternate statement')\n",
    "elif a<20:\n",
    "    print('Print from elif')\n",
    "else:\n",
    "    print('This is statement')\n",
    "# block-2 ends"
   ]
  },
  {
   "cell_type": "code",
   "execution_count": 8,
   "id": "be9b24aa",
   "metadata": {},
   "outputs": [
    {
     "name": "stdout",
     "output_type": "stream",
     "text": [
      "I am checking the type of var\n"
     ]
    }
   ],
   "source": [
    "a = 10\n",
    "# block starts\n",
    "if a==30:\n",
    "    print('This is my alternate statement') # False\n",
    "elif type(a) == int:\n",
    "    print('I am checking the type of var') # True\n",
    "elif a<20:\n",
    "     print('Print from elif')\n",
    "else:\n",
    "    print('Print this statement')\n",
    "# block ends"
   ]
  },
  {
   "cell_type": "markdown",
   "id": "0013e1a9",
   "metadata": {},
   "source": [
    "* If it is if-if, i.e., if followed by if - Different Blocks\n",
    "* If it is if-else, i.e., if followed by else - Same Block\n",
    "* If it is if-elif-else, i.e., if followed by if-elif-else - Same Block"
   ]
  },
  {
   "cell_type": "code",
   "execution_count": 9,
   "id": "3622784b",
   "metadata": {},
   "outputs": [
    {
     "name": "stdout",
     "output_type": "stream",
     "text": [
      "String Without Message\n"
     ]
    },
    {
     "data": {
      "text/plain": [
       "'String Without Message'"
      ]
     },
     "execution_count": 9,
     "metadata": {},
     "output_type": "execute_result"
    }
   ],
   "source": [
    "input()"
   ]
  },
  {
   "cell_type": "code",
   "execution_count": 10,
   "id": "961b1ef0",
   "metadata": {},
   "outputs": [
    {
     "name": "stdout",
     "output_type": "stream",
     "text": [
      "56\n"
     ]
    },
    {
     "data": {
      "text/plain": [
       "56"
      ]
     },
     "execution_count": 10,
     "metadata": {},
     "output_type": "execute_result"
    }
   ],
   "source": [
    "int(input())"
   ]
  },
  {
   "cell_type": "code",
   "execution_count": 12,
   "id": "3e6ef987",
   "metadata": {},
   "outputs": [
    {
     "name": "stdout",
     "output_type": "stream",
     "text": [
      "Enter a String: Shubha\n"
     ]
    },
    {
     "data": {
      "text/plain": [
       "'Shubha'"
      ]
     },
     "execution_count": 12,
     "metadata": {},
     "output_type": "execute_result"
    }
   ],
   "source": [
    "input('Enter a String: ')"
   ]
  },
  {
   "cell_type": "code",
   "execution_count": 13,
   "id": "85cfb3fa",
   "metadata": {},
   "outputs": [
    {
     "name": "stdout",
     "output_type": "stream",
     "text": [
      "Enter a number: 54\n"
     ]
    },
    {
     "data": {
      "text/plain": [
       "54"
      ]
     },
     "execution_count": 13,
     "metadata": {},
     "output_type": "execute_result"
    }
   ],
   "source": [
    "int(input('Enter a number: '))"
   ]
  },
  {
   "cell_type": "code",
   "execution_count": 14,
   "id": "9037836e",
   "metadata": {},
   "outputs": [
    {
     "name": "stdout",
     "output_type": "stream",
     "text": [
      "Enter a number: wnkfcn\n"
     ]
    },
    {
     "ename": "ValueError",
     "evalue": "invalid literal for int() with base 10: 'wnkfcn'",
     "output_type": "error",
     "traceback": [
      "\u001b[1;31m---------------------------------------------------------------------------\u001b[0m",
      "\u001b[1;31mValueError\u001b[0m                                Traceback (most recent call last)",
      "\u001b[1;32m~\\AppData\\Local\\Temp/ipykernel_7344/1505287367.py\u001b[0m in \u001b[0;36m<module>\u001b[1;34m\u001b[0m\n\u001b[1;32m----> 1\u001b[1;33m \u001b[0mint\u001b[0m\u001b[1;33m(\u001b[0m\u001b[0minput\u001b[0m\u001b[1;33m(\u001b[0m\u001b[1;34m'Enter a number: '\u001b[0m\u001b[1;33m)\u001b[0m\u001b[1;33m)\u001b[0m\u001b[1;33m\u001b[0m\u001b[1;33m\u001b[0m\u001b[0m\n\u001b[0m",
      "\u001b[1;31mValueError\u001b[0m: invalid literal for int() with base 10: 'wnkfcn'"
     ]
    }
   ],
   "source": [
    "int(input('Enter a number: '))"
   ]
  },
  {
   "cell_type": "code",
   "execution_count": 15,
   "id": "a8fe3774",
   "metadata": {},
   "outputs": [
    {
     "name": "stdout",
     "output_type": "stream",
     "text": [
      "Enter a number: 25.6\n"
     ]
    },
    {
     "ename": "ValueError",
     "evalue": "invalid literal for int() with base 10: '25.6'",
     "output_type": "error",
     "traceback": [
      "\u001b[1;31m---------------------------------------------------------------------------\u001b[0m",
      "\u001b[1;31mValueError\u001b[0m                                Traceback (most recent call last)",
      "\u001b[1;32m~\\AppData\\Local\\Temp/ipykernel_7344/1505287367.py\u001b[0m in \u001b[0;36m<module>\u001b[1;34m\u001b[0m\n\u001b[1;32m----> 1\u001b[1;33m \u001b[0mint\u001b[0m\u001b[1;33m(\u001b[0m\u001b[0minput\u001b[0m\u001b[1;33m(\u001b[0m\u001b[1;34m'Enter a number: '\u001b[0m\u001b[1;33m)\u001b[0m\u001b[1;33m)\u001b[0m\u001b[1;33m\u001b[0m\u001b[1;33m\u001b[0m\u001b[0m\n\u001b[0m",
      "\u001b[1;31mValueError\u001b[0m: invalid literal for int() with base 10: '25.6'"
     ]
    }
   ],
   "source": [
    "int(input('Enter a number: '))"
   ]
  },
  {
   "cell_type": "code",
   "execution_count": 16,
   "id": "8d274bcb",
   "metadata": {
    "scrolled": true
   },
   "outputs": [
    {
     "name": "stdout",
     "output_type": "stream",
     "text": [
      "Enter a number: /\n"
     ]
    },
    {
     "ename": "ValueError",
     "evalue": "invalid literal for int() with base 10: '/'",
     "output_type": "error",
     "traceback": [
      "\u001b[1;31m---------------------------------------------------------------------------\u001b[0m",
      "\u001b[1;31mValueError\u001b[0m                                Traceback (most recent call last)",
      "\u001b[1;32m~\\AppData\\Local\\Temp/ipykernel_7344/1505287367.py\u001b[0m in \u001b[0;36m<module>\u001b[1;34m\u001b[0m\n\u001b[1;32m----> 1\u001b[1;33m \u001b[0mint\u001b[0m\u001b[1;33m(\u001b[0m\u001b[0minput\u001b[0m\u001b[1;33m(\u001b[0m\u001b[1;34m'Enter a number: '\u001b[0m\u001b[1;33m)\u001b[0m\u001b[1;33m)\u001b[0m\u001b[1;33m\u001b[0m\u001b[1;33m\u001b[0m\u001b[0m\n\u001b[0m",
      "\u001b[1;31mValueError\u001b[0m: invalid literal for int() with base 10: '/'"
     ]
    }
   ],
   "source": [
    "int(input('Enter a number: '))"
   ]
  },
  {
   "cell_type": "code",
   "execution_count": 18,
   "id": "def0e667",
   "metadata": {},
   "outputs": [
    {
     "name": "stdout",
     "output_type": "stream",
     "text": [
      "50\n",
      "You can buy all the listed items in row one\n"
     ]
    }
   ],
   "source": [
    "Discount = int(input()) # will give the output in integer format\n",
    "if Discount == 50:\n",
    "    print('You can buy all the listed items in row one')\n",
    "elif Discount == 30:\n",
    "    print('You can buy all the items from row 2')\n",
    "elif Discount == 20:\n",
    "    print('Send user to row 2')\n",
    "elif Discount > 10:\n",
    "    print('Send him to the 4th row')\n",
    "else:\n",
    "    print('There is no item available')"
   ]
  },
  {
   "cell_type": "code",
   "execution_count": 19,
   "id": "01f79dbc",
   "metadata": {},
   "outputs": [
    {
     "name": "stdout",
     "output_type": "stream",
     "text": [
      "11\n",
      "Send him to the 4th row\n"
     ]
    }
   ],
   "source": [
    "Discount = int(input()) # will give the output in integer format\n",
    "if Discount == 50:\n",
    "    print('You can buy all the listed items in row one')\n",
    "elif Discount == 30:\n",
    "    print('You can buy all the items from row 2')\n",
    "elif Discount == 20:\n",
    "    print('Send user to row 2')\n",
    "elif Discount > 10:\n",
    "    print('Send him to the 4th row')\n",
    "else:\n",
    "    print('There is no item available')"
   ]
  },
  {
   "cell_type": "code",
   "execution_count": 20,
   "id": "58f50266",
   "metadata": {},
   "outputs": [
    {
     "name": "stdout",
     "output_type": "stream",
     "text": [
      "100\n",
      "Send him to the 4th row\n"
     ]
    }
   ],
   "source": [
    "Discount = int(input()) # will give the output in integer format\n",
    "if Discount == 50:\n",
    "    print('You can buy all the listed items in row one')\n",
    "elif Discount == 30:\n",
    "    print('You can buy all the items from row 2')\n",
    "elif Discount == 20:\n",
    "    print('Send user to row 2')\n",
    "elif Discount > 10:\n",
    "    print('Send him to the 4th row')\n",
    "else:\n",
    "    print('There is no item available')"
   ]
  },
  {
   "cell_type": "code",
   "execution_count": 31,
   "id": "dfd0596a",
   "metadata": {},
   "outputs": [
    {
     "name": "stdout",
     "output_type": "stream",
     "text": [
      "0\n",
      "Steal Nikki's Card\n"
     ]
    }
   ],
   "source": [
    "income = int(input())\n",
    "if income>1000:\n",
    "    print('You can get a platinum card')\n",
    "elif income>800:\n",
    "    print('You can get a gold card')\n",
    "else:\n",
    "    print(\"Steal Nikki's Card\")"
   ]
  },
  {
   "cell_type": "code",
   "execution_count": 32,
   "id": "4ad523bc",
   "metadata": {},
   "outputs": [
    {
     "name": "stdout",
     "output_type": "stream",
     "text": [
      "800\n",
      "Steal Nikki's Card\n"
     ]
    }
   ],
   "source": [
    "income = int(input())\n",
    "if income>1000:\n",
    "    print('You can get a platinum card')\n",
    "elif income>800:\n",
    "    print('You can get a gold card')\n",
    "else:\n",
    "    print(\"Steal Nikki's Card\")"
   ]
  },
  {
   "cell_type": "code",
   "execution_count": 33,
   "id": "f36d4864",
   "metadata": {},
   "outputs": [
    {
     "name": "stdout",
     "output_type": "stream",
     "text": [
      "800.01\n",
      "You can get a gold card\n"
     ]
    }
   ],
   "source": [
    "income = float(input())\n",
    "if income>1000:\n",
    "    print('You can get a platinum card')\n",
    "elif income>800:\n",
    "    print('You can get a gold card')\n",
    "else:\n",
    "    print(\"Steal Nikki's Card\")"
   ]
  },
  {
   "cell_type": "markdown",
   "id": "e9ecabfe",
   "metadata": {},
   "source": [
    "### Nested If"
   ]
  },
  {
   "cell_type": "code",
   "execution_count": null,
   "id": "b7d48acb",
   "metadata": {},
   "outputs": [],
   "source": []
  },
  {
   "cell_type": "code",
   "execution_count": null,
   "id": "4b0746bd",
   "metadata": {},
   "outputs": [],
   "source": []
  },
  {
   "cell_type": "code",
   "execution_count": null,
   "id": "7bff45ae",
   "metadata": {},
   "outputs": [],
   "source": []
  },
  {
   "cell_type": "code",
   "execution_count": null,
   "id": "b6cb0110",
   "metadata": {},
   "outputs": [],
   "source": []
  },
  {
   "cell_type": "code",
   "execution_count": null,
   "id": "99fad6bb",
   "metadata": {},
   "outputs": [],
   "source": []
  },
  {
   "cell_type": "code",
   "execution_count": null,
   "id": "81ca2952",
   "metadata": {},
   "outputs": [],
   "source": []
  },
  {
   "cell_type": "code",
   "execution_count": null,
   "id": "59449b85",
   "metadata": {},
   "outputs": [],
   "source": []
  },
  {
   "cell_type": "code",
   "execution_count": null,
   "id": "231bf4d8",
   "metadata": {},
   "outputs": [],
   "source": []
  },
  {
   "cell_type": "code",
   "execution_count": null,
   "id": "42040d37",
   "metadata": {},
   "outputs": [],
   "source": []
  },
  {
   "cell_type": "code",
   "execution_count": null,
   "id": "1c38c8a6",
   "metadata": {},
   "outputs": [],
   "source": []
  },
  {
   "cell_type": "code",
   "execution_count": null,
   "id": "16b75dbe",
   "metadata": {},
   "outputs": [],
   "source": []
  },
  {
   "cell_type": "code",
   "execution_count": null,
   "id": "e6289fa6",
   "metadata": {},
   "outputs": [],
   "source": []
  },
  {
   "cell_type": "code",
   "execution_count": null,
   "id": "5c661ad2",
   "metadata": {},
   "outputs": [],
   "source": []
  },
  {
   "cell_type": "code",
   "execution_count": null,
   "id": "27b2d61a",
   "metadata": {},
   "outputs": [],
   "source": []
  },
  {
   "cell_type": "code",
   "execution_count": null,
   "id": "6e9551c1",
   "metadata": {},
   "outputs": [],
   "source": []
  },
  {
   "cell_type": "code",
   "execution_count": null,
   "id": "03f02748",
   "metadata": {},
   "outputs": [],
   "source": []
  },
  {
   "cell_type": "code",
   "execution_count": null,
   "id": "a6e672d1",
   "metadata": {},
   "outputs": [],
   "source": []
  },
  {
   "cell_type": "code",
   "execution_count": null,
   "id": "71d3f474",
   "metadata": {},
   "outputs": [],
   "source": []
  },
  {
   "cell_type": "code",
   "execution_count": null,
   "id": "854f77ef",
   "metadata": {},
   "outputs": [],
   "source": []
  },
  {
   "cell_type": "code",
   "execution_count": null,
   "id": "d7a181fc",
   "metadata": {},
   "outputs": [],
   "source": []
  },
  {
   "cell_type": "code",
   "execution_count": null,
   "id": "0bacf9f3",
   "metadata": {},
   "outputs": [],
   "source": []
  },
  {
   "cell_type": "code",
   "execution_count": null,
   "id": "be3456e1",
   "metadata": {},
   "outputs": [],
   "source": []
  },
  {
   "cell_type": "markdown",
   "id": "5a9c2203",
   "metadata": {},
   "source": [
    "### Struggle-Nightmare-Pattern Problems"
   ]
  },
  {
   "cell_type": "code",
   "execution_count": 29,
   "id": "2aa680fa",
   "metadata": {},
   "outputs": [
    {
     "name": "stdout",
     "output_type": "stream",
     "text": [
      "Enter the maximum number of * to print at the end: 5\n",
      "*  \n",
      "* *  \n",
      "* * *  \n",
      "* * * *  \n",
      "* * * * *  \n",
      "* * * * * *  \n"
     ]
    }
   ],
   "source": [
    "n = int(input(\"Enter the maximum number of * to print at the end: \"))\n",
    "for i in range(0, n+1):\n",
    "#     print(i)\n",
    "    for j in range(i+1):\n",
    "        print('*', end = ' ')\n",
    "    print(' ')"
   ]
  },
  {
   "cell_type": "code",
   "execution_count": null,
   "id": "8d1dac65",
   "metadata": {},
   "outputs": [],
   "source": []
  },
  {
   "cell_type": "code",
   "execution_count": null,
   "id": "b06ca837",
   "metadata": {},
   "outputs": [],
   "source": []
  },
  {
   "cell_type": "code",
   "execution_count": null,
   "id": "fe7c5568",
   "metadata": {},
   "outputs": [],
   "source": []
  },
  {
   "cell_type": "code",
   "execution_count": null,
   "id": "350d3111",
   "metadata": {},
   "outputs": [],
   "source": []
  }
 ],
 "metadata": {
  "kernelspec": {
   "display_name": "Python 3 (ipykernel)",
   "language": "python",
   "name": "python3"
  },
  "language_info": {
   "codemirror_mode": {
    "name": "ipython",
    "version": 3
   },
   "file_extension": ".py",
   "mimetype": "text/x-python",
   "name": "python",
   "nbconvert_exporter": "python",
   "pygments_lexer": "ipython3",
   "version": "3.9.7"
  }
 },
 "nbformat": 4,
 "nbformat_minor": 5
}
