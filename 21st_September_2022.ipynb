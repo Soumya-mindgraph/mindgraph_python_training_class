{
 "cells": [
  {
   "cell_type": "markdown",
   "id": "74478275",
   "metadata": {},
   "source": [
    "### Boolean - True or False"
   ]
  },
  {
   "cell_type": "markdown",
   "id": "97fca7af",
   "metadata": {},
   "source": [
    "### Boolean Values - 1(True) or 0(False)"
   ]
  },
  {
   "cell_type": "markdown",
   "id": "26696f79",
   "metadata": {},
   "source": [
    "# Control Statements"
   ]
  },
  {
   "cell_type": "code",
   "execution_count": 1,
   "id": "5ce9ce2f",
   "metadata": {},
   "outputs": [],
   "source": [
    "a = 10 # assigning a = 0"
   ]
  },
  {
   "cell_type": "code",
   "execution_count": 2,
   "id": "bde439f9",
   "metadata": {},
   "outputs": [
    {
     "name": "stdout",
     "output_type": "stream",
     "text": [
      "This is the value of a\n"
     ]
    }
   ],
   "source": [
    "if a:\n",
    "    print('This is the value of a') # if 'a' value is anything other than 0, then if part will execute"
   ]
  },
  {
   "cell_type": "code",
   "execution_count": 3,
   "id": "97230eab",
   "metadata": {},
   "outputs": [],
   "source": [
    "a = 0 # assigning a = 0"
   ]
  },
  {
   "cell_type": "code",
   "execution_count": 4,
   "id": "f74ab618",
   "metadata": {},
   "outputs": [
    {
     "name": "stdout",
     "output_type": "stream",
     "text": [
      "False\n"
     ]
    }
   ],
   "source": [
    "# if the first condition doesn't satisfy, it will go to the else part.\n",
    "if a:\n",
    "    print('This is the value of a')\n",
    "else:\n",
    "    print('False')"
   ]
  },
  {
   "cell_type": "code",
   "execution_count": 5,
   "id": "a114eae5",
   "metadata": {},
   "outputs": [],
   "source": [
    "a = 1 # assigning a = 1"
   ]
  },
  {
   "cell_type": "code",
   "execution_count": 6,
   "id": "45067b7a",
   "metadata": {},
   "outputs": [
    {
     "data": {
      "text/plain": [
       "1"
      ]
     },
     "execution_count": 6,
     "metadata": {},
     "output_type": "execute_result"
    }
   ],
   "source": [
    "a"
   ]
  },
  {
   "cell_type": "code",
   "execution_count": 7,
   "id": "989f7e05",
   "metadata": {},
   "outputs": [
    {
     "name": "stdout",
     "output_type": "stream",
     "text": [
      "This is the value of a\n"
     ]
    }
   ],
   "source": [
    "if a:\n",
    "    print('This is the value of a')\n",
    "else:\n",
    "    print('False')"
   ]
  },
  {
   "cell_type": "code",
   "execution_count": 8,
   "id": "06b6a000",
   "metadata": {},
   "outputs": [],
   "source": [
    "a = -1 # assigning a = 1"
   ]
  },
  {
   "cell_type": "code",
   "execution_count": 9,
   "id": "7c9e9a2f",
   "metadata": {},
   "outputs": [
    {
     "name": "stdout",
     "output_type": "stream",
     "text": [
      "This is the value of a\n"
     ]
    }
   ],
   "source": [
    "# if 'a' value is anything other than 0, then if part will execute\n",
    "if a:\n",
    "    print('This is the value of a')\n",
    "else:\n",
    "    print('False')"
   ]
  },
  {
   "cell_type": "markdown",
   "id": "df2c62fd",
   "metadata": {},
   "source": [
    "### pass"
   ]
  },
  {
   "cell_type": "code",
   "execution_count": 11,
   "id": "db080ce4",
   "metadata": {},
   "outputs": [],
   "source": [
    "a = 10"
   ]
  },
  {
   "cell_type": "code",
   "execution_count": 12,
   "id": "df209746",
   "metadata": {},
   "outputs": [
    {
     "name": "stdout",
     "output_type": "stream",
     "text": [
      "Condition is true\n"
     ]
    }
   ],
   "source": [
    "if a<20:\n",
    "    print(\"Condition is true\")\n",
    "else:\n",
    "    print(\"Condition is false\")"
   ]
  },
  {
   "cell_type": "code",
   "execution_count": 14,
   "id": "1d08d515",
   "metadata": {},
   "outputs": [],
   "source": [
    "a = 30"
   ]
  },
  {
   "cell_type": "code",
   "execution_count": 15,
   "id": "b6735828",
   "metadata": {},
   "outputs": [
    {
     "name": "stdout",
     "output_type": "stream",
     "text": [
      "Condition is false\n"
     ]
    }
   ],
   "source": [
    "if a<20:\n",
    "    print(\"Condition is true\")\n",
    "else:\n",
    "    print(\"Condition is false\")"
   ]
  },
  {
   "cell_type": "code",
   "execution_count": 16,
   "id": "5b124c71",
   "metadata": {},
   "outputs": [],
   "source": [
    "a = 10"
   ]
  },
  {
   "cell_type": "code",
   "execution_count": 17,
   "id": "766025ff",
   "metadata": {},
   "outputs": [],
   "source": [
    "if a<20:\n",
    "    pass\n",
    "else:\n",
    "    print(\"Condition is false\")"
   ]
  },
  {
   "cell_type": "code",
   "execution_count": 18,
   "id": "2ec720fb",
   "metadata": {},
   "outputs": [],
   "source": [
    "a = 30"
   ]
  },
  {
   "cell_type": "code",
   "execution_count": 19,
   "id": "661c390c",
   "metadata": {},
   "outputs": [
    {
     "name": "stdout",
     "output_type": "stream",
     "text": [
      "Condition is false\n"
     ]
    }
   ],
   "source": [
    "if a<20:\n",
    "    pass\n",
    "else:\n",
    "    print(\"Condition is false\")"
   ]
  },
  {
   "cell_type": "code",
   "execution_count": 22,
   "id": "77f84943",
   "metadata": {},
   "outputs": [],
   "source": [
    "a = 50"
   ]
  },
  {
   "cell_type": "code",
   "execution_count": 23,
   "id": "564ecb4f",
   "metadata": {},
   "outputs": [],
   "source": [
    "if a<20:\n",
    "    print(\"Condition is true\")\n",
    "else:\n",
    "    pass"
   ]
  },
  {
   "cell_type": "code",
   "execution_count": 24,
   "id": "3204d167",
   "metadata": {},
   "outputs": [],
   "source": [
    "a = 20"
   ]
  },
  {
   "cell_type": "code",
   "execution_count": 25,
   "id": "40430cb9",
   "metadata": {},
   "outputs": [
    {
     "name": "stdout",
     "output_type": "stream",
     "text": [
      "Condition is true\n"
     ]
    }
   ],
   "source": [
    "if a<=20:\n",
    "    print(\"Condition is true\")\n",
    "else:\n",
    "    pass"
   ]
  },
  {
   "cell_type": "code",
   "execution_count": 26,
   "id": "8fb3a9a0",
   "metadata": {},
   "outputs": [],
   "source": [
    "if a<20:\n",
    "    print(\"Condition is true\")\n",
    "else:\n",
    "    pass"
   ]
  },
  {
   "cell_type": "markdown",
   "id": "4978681f",
   "metadata": {},
   "source": [
    "### if-else"
   ]
  },
  {
   "cell_type": "code",
   "execution_count": 27,
   "id": "6b407faf",
   "metadata": {},
   "outputs": [],
   "source": [
    "a = 10"
   ]
  },
  {
   "cell_type": "code",
   "execution_count": 28,
   "id": "2b7d8cd6",
   "metadata": {},
   "outputs": [
    {
     "name": "stdout",
     "output_type": "stream",
     "text": [
      "This is a statement\n"
     ]
    }
   ],
   "source": [
    "if a>20:\n",
    "    print(\"This is a number\")\n",
    "else:\n",
    "    print('This is a statement')"
   ]
  },
  {
   "cell_type": "code",
   "execution_count": 29,
   "id": "9a7b18bb",
   "metadata": {},
   "outputs": [],
   "source": [
    "a = 20"
   ]
  },
  {
   "cell_type": "code",
   "execution_count": 30,
   "id": "e565b8a6",
   "metadata": {},
   "outputs": [
    {
     "name": "stdout",
     "output_type": "stream",
     "text": [
      "This is a statement\n"
     ]
    }
   ],
   "source": [
    "if a>20:\n",
    "    print(\"This is a number\")\n",
    "else:\n",
    "    print('This is a statement')"
   ]
  },
  {
   "cell_type": "markdown",
   "id": "85e26f9a",
   "metadata": {},
   "source": [
    "### if-if else"
   ]
  },
  {
   "cell_type": "code",
   "execution_count": 31,
   "id": "5ee3caa5",
   "metadata": {},
   "outputs": [
    {
     "name": "stdout",
     "output_type": "stream",
     "text": [
      "This is a alternate statement\n"
     ]
    }
   ],
   "source": [
    "a = 10\n",
    "if a>20:\n",
    "    print('This is a number')\n",
    "if a == 10:\n",
    "    print('This is a alternate statement')\n",
    "else:\n",
    "    print('Print this statement')"
   ]
  },
  {
   "cell_type": "code",
   "execution_count": 32,
   "id": "ab09166d",
   "metadata": {},
   "outputs": [
    {
     "name": "stdout",
     "output_type": "stream",
     "text": [
      "Print this statement\n"
     ]
    }
   ],
   "source": [
    "a = 11\n",
    "if a>20:\n",
    "    print('This is a number')\n",
    "if a == 10:\n",
    "    print('This is a alternate statement')\n",
    "else:\n",
    "    print('Print this statement')"
   ]
  },
  {
   "cell_type": "code",
   "execution_count": 33,
   "id": "25854bd3",
   "metadata": {},
   "outputs": [],
   "source": [
    "a = 10\n",
    "if a>20:\n",
    "    print('This is a number')\n",
    "if a == 10:\n",
    "    pass\n",
    "else:\n",
    "    print('Print this statement')"
   ]
  },
  {
   "cell_type": "code",
   "execution_count": 34,
   "id": "beda6580",
   "metadata": {},
   "outputs": [],
   "source": [
    "a = 11\n",
    "if a>20:\n",
    "    print('This is a number')\n",
    "if a == 10:\n",
    "    print('This is a alternate statement')\n",
    "else:\n",
    "    pass"
   ]
  },
  {
   "cell_type": "code",
   "execution_count": 35,
   "id": "23e3208a",
   "metadata": {},
   "outputs": [
    {
     "name": "stdout",
     "output_type": "stream",
     "text": [
      "This is a number\n",
      "This is a alternate statement\n"
     ]
    }
   ],
   "source": [
    "a = 10\n",
    "if a<20:\n",
    "    print('This is a number')\n",
    "if a == 10:\n",
    "    print('This is a alternate statement')\n",
    "else:\n",
    "    print('Print this statement')"
   ]
  },
  {
   "cell_type": "code",
   "execution_count": 36,
   "id": "4d43fe6e",
   "metadata": {},
   "outputs": [
    {
     "name": "stdout",
     "output_type": "stream",
     "text": [
      "This is a number\n"
     ]
    }
   ],
   "source": [
    "a = 10\n",
    "if a<20:\n",
    "    print('This is a number')\n",
    "if a == 10:\n",
    "    pass\n",
    "else:\n",
    "    print('Print this statement')"
   ]
  },
  {
   "cell_type": "markdown",
   "id": "dd128215",
   "metadata": {},
   "source": [
    "### Task 1"
   ]
  },
  {
   "cell_type": "markdown",
   "id": "7f81c376",
   "metadata": {},
   "source": [
    "* WAP to find the integer values in the list and replace them with their respective character.\n",
    "\n",
    "* Sample input:\n",
    "    \n",
    "    * [\"soumya\", \"ByteIQ\", 2, 4, \"Mindgraph\", 8.53, 7]\n",
    "\n",
    "\n",
    "* Sample output:\n",
    "    \n",
    "    * [\"soumya\", \"ByteIQ\", \"Two\", \"Four\", \"Mindgraph\", 8.53, \"Seven\"]"
   ]
  },
  {
   "cell_type": "code",
   "execution_count": 46,
   "id": "435cd1af",
   "metadata": {},
   "outputs": [],
   "source": [
    "number_dict = {1 : 'One', 2: 'Two', 3: 'Three', 4: 'Four', 5: 'Five', 6: 'Six', 7: 'Seven'}"
   ]
  },
  {
   "cell_type": "code",
   "execution_count": 47,
   "id": "43ccd723",
   "metadata": {},
   "outputs": [
    {
     "data": {
      "text/plain": [
       "{1: 'One', 2: 'Two', 3: 'Three', 4: 'Four', 5: 'Five', 6: 'Six', 7: 'Seven'}"
      ]
     },
     "execution_count": 47,
     "metadata": {},
     "output_type": "execute_result"
    }
   ],
   "source": [
    "number_dict"
   ]
  },
  {
   "cell_type": "code",
   "execution_count": 48,
   "id": "8b57c87a",
   "metadata": {},
   "outputs": [],
   "source": [
    "l = [\"soumya\", \"ByteIQ\", 2, 4, \"Mindgraph\", 8.53, 7]"
   ]
  },
  {
   "cell_type": "code",
   "execution_count": 50,
   "id": "505fc49a",
   "metadata": {},
   "outputs": [
    {
     "name": "stdout",
     "output_type": "stream",
     "text": [
      "['soumya', 'ByteIQ', 'Two', 'Four', 'Mindgraph', 8.53, 'Seven']\n"
     ]
    }
   ],
   "source": [
    "new_list = []\n",
    "for i in l:\n",
    "    if type(i) == int:\n",
    "        if i in number_dict.keys():\n",
    "            new_list.append(number_dict[i])\n",
    "    else:\n",
    "        new_list.append(i)\n",
    "print(new_list)            "
   ]
  },
  {
   "cell_type": "code",
   "execution_count": 51,
   "id": "bd0490f4",
   "metadata": {},
   "outputs": [],
   "source": [
    "new_list = []"
   ]
  },
  {
   "cell_type": "code",
   "execution_count": 52,
   "id": "8cf62d5c",
   "metadata": {},
   "outputs": [
    {
     "data": {
      "text/plain": [
       "[]"
      ]
     },
     "execution_count": 52,
     "metadata": {},
     "output_type": "execute_result"
    }
   ],
   "source": [
    "new_list"
   ]
  },
  {
   "cell_type": "code",
   "execution_count": 53,
   "id": "e3202f6d",
   "metadata": {},
   "outputs": [
    {
     "name": "stdout",
     "output_type": "stream",
     "text": [
      "soumya\n",
      "ByteIQ\n",
      "2\n",
      "4\n",
      "Mindgraph\n",
      "8.53\n",
      "7\n"
     ]
    }
   ],
   "source": [
    "for i in l:\n",
    "    print(i)"
   ]
  },
  {
   "cell_type": "code",
   "execution_count": 55,
   "id": "7066b854",
   "metadata": {},
   "outputs": [
    {
     "name": "stdout",
     "output_type": "stream",
     "text": [
      "soumya\n",
      "ByteIQ\n",
      "2\n",
      "2\n",
      "4\n",
      "4\n",
      "Mindgraph\n",
      "8.53\n",
      "7\n",
      "7\n"
     ]
    }
   ],
   "source": [
    "for i in l:\n",
    "    print(i)\n",
    "    if type(i) == int:\n",
    "        print(i)"
   ]
  },
  {
   "cell_type": "code",
   "execution_count": 56,
   "id": "d88bc2d4",
   "metadata": {},
   "outputs": [
    {
     "data": {
      "text/plain": [
       "{1: 'One', 2: 'Two', 3: 'Three', 4: 'Four', 5: 'Five', 6: 'Six', 7: 'Seven'}"
      ]
     },
     "execution_count": 56,
     "metadata": {},
     "output_type": "execute_result"
    }
   ],
   "source": [
    "number_dict"
   ]
  },
  {
   "cell_type": "code",
   "execution_count": 63,
   "id": "ed748c3f",
   "metadata": {},
   "outputs": [
    {
     "name": "stdout",
     "output_type": "stream",
     "text": [
      "1\n",
      "One\n",
      "2\n",
      "Two\n",
      "3\n",
      "Three\n",
      "4\n",
      "Four\n",
      "5\n",
      "Five\n",
      "6\n",
      "Six\n",
      "7\n",
      "Seven\n"
     ]
    }
   ],
   "source": [
    "for i in number_dict.keys():\n",
    "    print(i)\n",
    "    print(number_dict[i])"
   ]
  },
  {
   "cell_type": "code",
   "execution_count": 65,
   "id": "1cdebbe0",
   "metadata": {},
   "outputs": [
    {
     "data": {
      "text/plain": [
       "'One'"
      ]
     },
     "execution_count": 65,
     "metadata": {},
     "output_type": "execute_result"
    }
   ],
   "source": [
    "number_dict[1]"
   ]
  },
  {
   "cell_type": "code",
   "execution_count": 66,
   "id": "68e15b6e",
   "metadata": {},
   "outputs": [
    {
     "data": {
      "text/plain": [
       "'Two'"
      ]
     },
     "execution_count": 66,
     "metadata": {},
     "output_type": "execute_result"
    }
   ],
   "source": [
    "number_dict[2]"
   ]
  },
  {
   "cell_type": "code",
   "execution_count": 57,
   "id": "386c4d9c",
   "metadata": {},
   "outputs": [
    {
     "data": {
      "text/plain": [
       "dict_keys([1, 2, 3, 4, 5, 6, 7])"
      ]
     },
     "execution_count": 57,
     "metadata": {},
     "output_type": "execute_result"
    }
   ],
   "source": [
    "number_dict.keys()"
   ]
  },
  {
   "cell_type": "code",
   "execution_count": 58,
   "id": "5180c036",
   "metadata": {},
   "outputs": [
    {
     "data": {
      "text/plain": [
       "dict_values(['One', 'Two', 'Three', 'Four', 'Five', 'Six', 'Seven'])"
      ]
     },
     "execution_count": 58,
     "metadata": {},
     "output_type": "execute_result"
    }
   ],
   "source": [
    "number_dict.values()"
   ]
  },
  {
   "cell_type": "code",
   "execution_count": 59,
   "id": "d35f2d1b",
   "metadata": {},
   "outputs": [
    {
     "data": {
      "text/plain": [
       "dict_items([(1, 'One'), (2, 'Two'), (3, 'Three'), (4, 'Four'), (5, 'Five'), (6, 'Six'), (7, 'Seven')])"
      ]
     },
     "execution_count": 59,
     "metadata": {},
     "output_type": "execute_result"
    }
   ],
   "source": [
    "number_dict.items()"
   ]
  },
  {
   "cell_type": "code",
   "execution_count": 67,
   "id": "c1cbbf84",
   "metadata": {},
   "outputs": [
    {
     "name": "stdout",
     "output_type": "stream",
     "text": [
      "['soumya', 'ByteIQ', 'Two', 'Four', 'Mindgraph', 8.53, 'Seven']\n"
     ]
    }
   ],
   "source": [
    "new_list = []\n",
    "for i in l:\n",
    "    if type(i) == int:\n",
    "        if i in number_dict.keys():\n",
    "            new_list.append(number_dict[i])\n",
    "    else:\n",
    "        new_list.append(i)\n",
    "print(new_list)         "
   ]
  },
  {
   "cell_type": "code",
   "execution_count": 68,
   "id": "6fbb6b9f",
   "metadata": {},
   "outputs": [
    {
     "data": {
      "text/plain": [
       "['soumya', 'ByteIQ', 2, 4, 'Mindgraph', 8.53, 7]"
      ]
     },
     "execution_count": 68,
     "metadata": {},
     "output_type": "execute_result"
    }
   ],
   "source": [
    "l"
   ]
  },
  {
   "cell_type": "code",
   "execution_count": 69,
   "id": "b73df248",
   "metadata": {},
   "outputs": [
    {
     "data": {
      "text/plain": [
       "{1: 'One', 2: 'Two', 3: 'Three', 4: 'Four', 5: 'Five', 6: 'Six', 7: 'Seven'}"
      ]
     },
     "execution_count": 69,
     "metadata": {},
     "output_type": "execute_result"
    }
   ],
   "source": [
    "number_dict"
   ]
  },
  {
   "cell_type": "markdown",
   "id": "d33f1527",
   "metadata": {},
   "source": [
    "### Task 2"
   ]
  },
  {
   "cell_type": "markdown",
   "id": "d1363340",
   "metadata": {},
   "source": [
    "* WAP to print the the length of the every element inside the list.\n",
    "\n",
    "* Sample input: \n",
    "    \n",
    "    * [\"Hii\", \"ByteIQ\", \"Mindgraph\", \"Shubha\"]\n",
    "\n",
    "\n",
    "* Sample output:\n",
    "        \n",
    "        \n",
    "        * [3, 6, 9, 6]"
   ]
  },
  {
   "cell_type": "code",
   "execution_count": 39,
   "id": "023c14b1",
   "metadata": {},
   "outputs": [],
   "source": [
    "l = [\"Hii\", \"ByteIQ\", \"Mindgraph\", \"Shubha\"]"
   ]
  },
  {
   "cell_type": "code",
   "execution_count": 40,
   "id": "7ea71878",
   "metadata": {},
   "outputs": [
    {
     "data": {
      "text/plain": [
       "['Hii', 'ByteIQ', 'Mindgraph', 'Shubha']"
      ]
     },
     "execution_count": 40,
     "metadata": {},
     "output_type": "execute_result"
    }
   ],
   "source": [
    "l"
   ]
  },
  {
   "cell_type": "code",
   "execution_count": 42,
   "id": "8e6ade90",
   "metadata": {},
   "outputs": [
    {
     "name": "stdout",
     "output_type": "stream",
     "text": [
      "[3, 6, 9, 6]\n"
     ]
    }
   ],
   "source": [
    "output_list = []\n",
    "for i in l:\n",
    "    output_list.append(len(i))\n",
    "print(output_list)"
   ]
  },
  {
   "cell_type": "markdown",
   "id": "2a1cf222",
   "metadata": {},
   "source": [
    "### Task 3"
   ]
  },
  {
   "cell_type": "markdown",
   "id": "2774ea1e",
   "metadata": {},
   "source": [
    "* WAP to return True if there is any duplicate character in a string, otherwise false. \n",
    "    \n",
    "    * Sample input1:\n",
    "        \n",
    "       * \"Soumya\"\n",
    "    \n",
    "    * Sample output1:\n",
    "        \n",
    "        * False\n",
    "    \n",
    "    * Sample input2:\n",
    "        \n",
    "        * \"cuttack\"\n",
    "    \n",
    "    * Sample output2:\n",
    "        \n",
    "        * True"
   ]
  },
  {
   "cell_type": "code",
   "execution_count": 71,
   "id": "163f29f9",
   "metadata": {},
   "outputs": [
    {
     "name": "stdout",
     "output_type": "stream",
     "text": [
      "Enter a String: Cuttack\n"
     ]
    }
   ],
   "source": [
    "input_string = input('Enter a String: ')"
   ]
  },
  {
   "cell_type": "code",
   "execution_count": 72,
   "id": "de698af0",
   "metadata": {},
   "outputs": [
    {
     "data": {
      "text/plain": [
       "'Cuttack'"
      ]
     },
     "execution_count": 72,
     "metadata": {},
     "output_type": "execute_result"
    }
   ],
   "source": [
    "input_string"
   ]
  },
  {
   "cell_type": "code",
   "execution_count": 73,
   "id": "5eb41bf2",
   "metadata": {},
   "outputs": [
    {
     "data": {
      "text/plain": [
       "{'C', 'a', 'c', 'k', 't', 'u'}"
      ]
     },
     "execution_count": 73,
     "metadata": {},
     "output_type": "execute_result"
    }
   ],
   "source": [
    "set(input_string)"
   ]
  },
  {
   "cell_type": "code",
   "execution_count": 74,
   "id": "323ab17f",
   "metadata": {},
   "outputs": [],
   "source": [
    "set_string =set(input_string)"
   ]
  },
  {
   "cell_type": "code",
   "execution_count": 75,
   "id": "58eda4bc",
   "metadata": {},
   "outputs": [
    {
     "data": {
      "text/plain": [
       "7"
      ]
     },
     "execution_count": 75,
     "metadata": {},
     "output_type": "execute_result"
    }
   ],
   "source": [
    "len(input_string)"
   ]
  },
  {
   "cell_type": "code",
   "execution_count": 76,
   "id": "4b9a6922",
   "metadata": {},
   "outputs": [
    {
     "data": {
      "text/plain": [
       "6"
      ]
     },
     "execution_count": 76,
     "metadata": {},
     "output_type": "execute_result"
    }
   ],
   "source": [
    "len(set_string)"
   ]
  },
  {
   "cell_type": "code",
   "execution_count": 77,
   "id": "23a4b1a0",
   "metadata": {},
   "outputs": [
    {
     "name": "stdout",
     "output_type": "stream",
     "text": [
      "True\n"
     ]
    }
   ],
   "source": [
    "if len(set_string)< len(input_string):\n",
    "    print(True)"
   ]
  },
  {
   "cell_type": "code",
   "execution_count": 82,
   "id": "8be9a9db",
   "metadata": {},
   "outputs": [
    {
     "name": "stdout",
     "output_type": "stream",
     "text": [
      "Enter a String: Parth\n",
      "False\n"
     ]
    }
   ],
   "source": [
    "input_string = input('Enter a String: ')\n",
    "set_string =set(input_string)\n",
    "if len(set_string)< len(input_string):\n",
    "    print(True)\n",
    "else:\n",
    "    print(False)"
   ]
  },
  {
   "cell_type": "code",
   "execution_count": 83,
   "id": "f34a83c0",
   "metadata": {},
   "outputs": [
    {
     "name": "stdout",
     "output_type": "stream",
     "text": [
      "Enter a String: Shubha\n",
      "True\n"
     ]
    }
   ],
   "source": [
    "input_string = input('Enter a String: ')\n",
    "set_string =set(input_string)\n",
    "if len(set_string)< len(input_string):\n",
    "    print(True)\n",
    "else:\n",
    "    print(False)"
   ]
  },
  {
   "cell_type": "markdown",
   "id": "edf71be7",
   "metadata": {},
   "source": [
    "### Task - 4"
   ]
  },
  {
   "cell_type": "markdown",
   "id": "4cb0c2dd",
   "metadata": {},
   "source": [
    "* WAP to convert a list of character into a string.\n",
    "\n",
    "    * Sample input:\n",
    "       \n",
    "        * [\"s\", \"o\", \"u\", \"m\", \"y\", \"a\"]\n",
    "        \n",
    "    * Sample output:\n",
    "        \n",
    "        * \"soumya\""
   ]
  },
  {
   "cell_type": "code",
   "execution_count": 84,
   "id": "5ee54a83",
   "metadata": {},
   "outputs": [],
   "source": [
    "l = [\"s\", \"o\", \"u\", \"m\", \"y\", \"a\"]"
   ]
  },
  {
   "cell_type": "code",
   "execution_count": 85,
   "id": "b7c32f9c",
   "metadata": {
    "scrolled": true
   },
   "outputs": [
    {
     "data": {
      "text/plain": [
       "'soumya'"
      ]
     },
     "execution_count": 85,
     "metadata": {},
     "output_type": "execute_result"
    }
   ],
   "source": [
    "''.join(l)"
   ]
  },
  {
   "cell_type": "markdown",
   "id": "679b651b",
   "metadata": {},
   "source": [
    "### Task - 5"
   ]
  },
  {
   "cell_type": "markdown",
   "id": "dd32deb7",
   "metadata": {},
   "source": [
    "* WAP to remove all the characters from a string except integers.\n",
    "\n",
    "    \n",
    "    * Sample input:       \n",
    "        \n",
    "        * \"I bought 5 pens and 6 pencils\"\n",
    "    \n",
    "   \n",
    "   * Sample output:\n",
    "        \n",
    "        \n",
    "        * \"56\""
   ]
  },
  {
   "cell_type": "code",
   "execution_count": 86,
   "id": "1de771d5",
   "metadata": {},
   "outputs": [],
   "source": [
    "s = \"I bought 5 pens and 6 pencils\""
   ]
  },
  {
   "cell_type": "code",
   "execution_count": 88,
   "id": "a51324ab",
   "metadata": {},
   "outputs": [
    {
     "data": {
      "text/plain": [
       "['I', 'bought', '5', 'pens', 'and', '6', 'pencils']"
      ]
     },
     "execution_count": 88,
     "metadata": {},
     "output_type": "execute_result"
    }
   ],
   "source": [
    "s.split(' ')"
   ]
  },
  {
   "cell_type": "code",
   "execution_count": 94,
   "id": "fb23b4ab",
   "metadata": {},
   "outputs": [
    {
     "data": {
      "text/plain": [
       "'56'"
      ]
     },
     "execution_count": 94,
     "metadata": {},
     "output_type": "execute_result"
    }
   ],
   "source": [
    "new_list = []\n",
    "for i in s:\n",
    "    if i.isdigit():\n",
    "        new_list.append(i)\n",
    "''.join(new_list)"
   ]
  },
  {
   "cell_type": "code",
   "execution_count": 92,
   "id": "80bedc50",
   "metadata": {},
   "outputs": [
    {
     "data": {
      "text/plain": [
       "['5', '6']"
      ]
     },
     "execution_count": 92,
     "metadata": {},
     "output_type": "execute_result"
    }
   ],
   "source": [
    "new_list"
   ]
  }
 ],
 "metadata": {
  "kernelspec": {
   "display_name": "Python 3 (ipykernel)",
   "language": "python",
   "name": "python3"
  },
  "language_info": {
   "codemirror_mode": {
    "name": "ipython",
    "version": 3
   },
   "file_extension": ".py",
   "mimetype": "text/x-python",
   "name": "python",
   "nbconvert_exporter": "python",
   "pygments_lexer": "ipython3",
   "version": "3.9.7"
  }
 },
 "nbformat": 4,
 "nbformat_minor": 5
}
