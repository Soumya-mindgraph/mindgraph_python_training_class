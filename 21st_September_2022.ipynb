{
 "cells": [
  {
   "cell_type": "markdown",
   "id": "b88dc3cb",
   "metadata": {},
   "source": [
    "### Boolean - True or False"
   ]
  },
  {
   "cell_type": "markdown",
   "id": "0cea144c",
   "metadata": {},
   "source": [
    "### Boolean Values - 1(True) or 0(False)"
   ]
  },
  {
   "cell_type": "markdown",
   "id": "54e5b564",
   "metadata": {},
   "source": [
    "# Control Statements"
   ]
  },
  {
   "cell_type": "code",
   "execution_count": 1,
   "id": "fa156e23",
   "metadata": {},
   "outputs": [],
   "source": [
    "a = 10 # assigning a = 0"
   ]
  },
  {
   "cell_type": "code",
   "execution_count": 2,
   "id": "4074da24",
   "metadata": {},
   "outputs": [
    {
     "name": "stdout",
     "output_type": "stream",
     "text": [
      "This is the value of a\n"
     ]
    }
   ],
   "source": [
    "if a:\n",
    "    print('This is the value of a') # if 'a' value is anything other than 0, then if part will execute"
   ]
  },
  {
   "cell_type": "code",
   "execution_count": 3,
   "id": "fc785bb4",
   "metadata": {},
   "outputs": [],
   "source": [
    "a = 0 # assigning a = 0"
   ]
  },
  {
   "cell_type": "code",
   "execution_count": 4,
   "id": "fc5d6d84",
   "metadata": {},
   "outputs": [
    {
     "name": "stdout",
     "output_type": "stream",
     "text": [
      "False\n"
     ]
    }
   ],
   "source": [
    "# if the first condition doesn't satisfy, it will go to the else part.\n",
    "if a:\n",
    "    print('This is the value of a')\n",
    "else:\n",
    "    print('False')"
   ]
  },
  {
   "cell_type": "code",
   "execution_count": 5,
   "id": "132ae94d",
   "metadata": {},
   "outputs": [],
   "source": [
    "a = 1 # assigning a = 1"
   ]
  },
  {
   "cell_type": "code",
   "execution_count": 6,
   "id": "c9ba9264",
   "metadata": {},
   "outputs": [
    {
     "data": {
      "text/plain": [
       "1"
      ]
     },
     "execution_count": 6,
     "metadata": {},
     "output_type": "execute_result"
    }
   ],
   "source": [
    "a"
   ]
  },
  {
   "cell_type": "code",
   "execution_count": 7,
   "id": "882d2e12",
   "metadata": {},
   "outputs": [
    {
     "name": "stdout",
     "output_type": "stream",
     "text": [
      "This is the value of a\n"
     ]
    }
   ],
   "source": [
    "if a:\n",
    "    print('This is the value of a')\n",
    "else:\n",
    "    print('False')"
   ]
  },
  {
   "cell_type": "code",
   "execution_count": 8,
   "id": "9058b079",
   "metadata": {},
   "outputs": [],
   "source": [
    "a = -1 # assigning a = 1"
   ]
  },
  {
   "cell_type": "code",
   "execution_count": 9,
   "id": "bb235d86",
   "metadata": {},
   "outputs": [
    {
     "name": "stdout",
     "output_type": "stream",
     "text": [
      "This is the value of a\n"
     ]
    }
   ],
   "source": [
    "# if 'a' value is anything other than 0, then if part will execute\n",
    "if a:\n",
    "    print('This is the value of a')\n",
    "else:\n",
    "    print('False')"
   ]
  },
  {
   "cell_type": "markdown",
   "id": "820e38f7",
   "metadata": {},
   "source": [
    "### pass"
   ]
  },
  {
   "cell_type": "code",
   "execution_count": 11,
   "id": "13b7f0d9",
   "metadata": {},
   "outputs": [],
   "source": [
    "a = 10"
   ]
  },
  {
   "cell_type": "code",
   "execution_count": 12,
   "id": "d6a13e3c",
   "metadata": {},
   "outputs": [
    {
     "name": "stdout",
     "output_type": "stream",
     "text": [
      "Condition is true\n"
     ]
    }
   ],
   "source": [
    "if a<20:\n",
    "    print(\"Condition is true\")\n",
    "else:\n",
    "    print(\"Condition is false\")"
   ]
  },
  {
   "cell_type": "code",
   "execution_count": 14,
   "id": "7ceb60cd",
   "metadata": {},
   "outputs": [],
   "source": [
    "a = 30"
   ]
  },
  {
   "cell_type": "code",
   "execution_count": 15,
   "id": "4495149f",
   "metadata": {},
   "outputs": [
    {
     "name": "stdout",
     "output_type": "stream",
     "text": [
      "Condition is false\n"
     ]
    }
   ],
   "source": [
    "if a<20:\n",
    "    print(\"Condition is true\")\n",
    "else:\n",
    "    print(\"Condition is false\")"
   ]
  },
  {
   "cell_type": "code",
   "execution_count": 16,
   "id": "50e192cd",
   "metadata": {},
   "outputs": [],
   "source": [
    "a = 10"
   ]
  },
  {
   "cell_type": "code",
   "execution_count": 17,
   "id": "40a894e7",
   "metadata": {},
   "outputs": [],
   "source": [
    "if a<20:\n",
    "    pass\n",
    "else:\n",
    "    print(\"Condition is false\")"
   ]
  },
  {
   "cell_type": "code",
   "execution_count": 18,
   "id": "35b3685f",
   "metadata": {},
   "outputs": [],
   "source": [
    "a = 30"
   ]
  },
  {
   "cell_type": "code",
   "execution_count": 19,
   "id": "9d131e0c",
   "metadata": {},
   "outputs": [
    {
     "name": "stdout",
     "output_type": "stream",
     "text": [
      "Condition is false\n"
     ]
    }
   ],
   "source": [
    "if a<20:\n",
    "    pass\n",
    "else:\n",
    "    print(\"Condition is false\")"
   ]
  },
  {
   "cell_type": "code",
   "execution_count": 22,
   "id": "ed0cf2da",
   "metadata": {},
   "outputs": [],
   "source": [
    "a = 50"
   ]
  },
  {
   "cell_type": "code",
   "execution_count": 23,
   "id": "2dee4069",
   "metadata": {},
   "outputs": [],
   "source": [
    "if a<20:\n",
    "    print(\"Condition is true\")\n",
    "else:\n",
    "    pass"
   ]
  },
  {
   "cell_type": "code",
   "execution_count": 24,
   "id": "5d70b468",
   "metadata": {},
   "outputs": [],
   "source": [
    "a = 20"
   ]
  },
  {
   "cell_type": "code",
   "execution_count": 25,
   "id": "a771a84a",
   "metadata": {},
   "outputs": [
    {
     "name": "stdout",
     "output_type": "stream",
     "text": [
      "Condition is true\n"
     ]
    }
   ],
   "source": [
    "if a<=20:\n",
    "    print(\"Condition is true\")\n",
    "else:\n",
    "    pass"
   ]
  },
  {
   "cell_type": "code",
   "execution_count": 26,
   "id": "993a57ca",
   "metadata": {},
   "outputs": [],
   "source": [
    "if a<20:\n",
    "    print(\"Condition is true\")\n",
    "else:\n",
    "    pass"
   ]
  },
  {
   "cell_type": "markdown",
   "id": "862b25e3",
   "metadata": {},
   "source": [
    "### if-else"
   ]
  },
  {
   "cell_type": "code",
   "execution_count": 27,
   "id": "fe831454",
   "metadata": {},
   "outputs": [],
   "source": [
    "a = 10"
   ]
  },
  {
   "cell_type": "code",
   "execution_count": 28,
   "id": "2beac65c",
   "metadata": {},
   "outputs": [
    {
     "name": "stdout",
     "output_type": "stream",
     "text": [
      "This is a statement\n"
     ]
    }
   ],
   "source": [
    "if a>20:\n",
    "    print(\"This is a number\")\n",
    "else:\n",
    "    print('This is a statement')"
   ]
  },
  {
   "cell_type": "code",
   "execution_count": 29,
   "id": "da877d47",
   "metadata": {},
   "outputs": [],
   "source": [
    "a = 20"
   ]
  },
  {
   "cell_type": "code",
   "execution_count": 30,
   "id": "d3651107",
   "metadata": {},
   "outputs": [
    {
     "name": "stdout",
     "output_type": "stream",
     "text": [
      "This is a statement\n"
     ]
    }
   ],
   "source": [
    "if a>20:\n",
    "    print(\"This is a number\")\n",
    "else:\n",
    "    print('This is a statement')"
   ]
  },
  {
   "cell_type": "markdown",
   "id": "71d39995",
   "metadata": {},
   "source": [
    "### if-if else"
   ]
  }
 ],
 "metadata": {
  "kernelspec": {
   "display_name": "Python 3 (ipykernel)",
   "language": "python",
   "name": "python3"
  },
  "language_info": {
   "codemirror_mode": {
    "name": "ipython",
    "version": 3
   },
   "file_extension": ".py",
   "mimetype": "text/x-python",
   "name": "python",
   "nbconvert_exporter": "python",
   "pygments_lexer": "ipython3",
   "version": "3.9.7"
  }
 },
 "nbformat": 4,
 "nbformat_minor": 5
}
