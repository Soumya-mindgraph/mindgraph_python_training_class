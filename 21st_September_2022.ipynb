{
 "cells": [
  {
   "cell_type": "markdown",
   "id": "6263e4fe",
   "metadata": {},
   "source": [
    "### Boolean - True or False"
   ]
  },
  {
   "cell_type": "markdown",
   "id": "ac83d887",
   "metadata": {},
   "source": [
    "### Boolean Values - 1(True) or 0(False)"
   ]
  },
  {
   "cell_type": "markdown",
   "id": "8ed2432a",
   "metadata": {},
   "source": [
    "# Control Statements"
   ]
  },
  {
   "cell_type": "code",
   "execution_count": 1,
   "id": "bad7a6da",
   "metadata": {},
   "outputs": [],
   "source": [
    "a = 10 # assigning a = 0"
   ]
  },
  {
   "cell_type": "code",
   "execution_count": 2,
   "id": "1cf85f4c",
   "metadata": {},
   "outputs": [
    {
     "name": "stdout",
     "output_type": "stream",
     "text": [
      "This is the value of a\n"
     ]
    }
   ],
   "source": [
    "if a:\n",
    "    print('This is the value of a') # if 'a' value is anything other than 0, then if part will execute"
   ]
  },
  {
   "cell_type": "code",
   "execution_count": 3,
   "id": "8bdc4ec3",
   "metadata": {},
   "outputs": [],
   "source": [
    "a = 0 # assigning a = 0"
   ]
  },
  {
   "cell_type": "code",
   "execution_count": 4,
   "id": "f0ce7696",
   "metadata": {},
   "outputs": [
    {
     "name": "stdout",
     "output_type": "stream",
     "text": [
      "False\n"
     ]
    }
   ],
   "source": [
    "# if the first condition doesn't satisfy, it will go to the else part.\n",
    "if a:\n",
    "    print('This is the value of a')\n",
    "else:\n",
    "    print('False')"
   ]
  },
  {
   "cell_type": "code",
   "execution_count": 5,
   "id": "626ee6c0",
   "metadata": {},
   "outputs": [],
   "source": [
    "a = 1 # assigning a = 1"
   ]
  },
  {
   "cell_type": "code",
   "execution_count": 6,
   "id": "87698711",
   "metadata": {},
   "outputs": [
    {
     "data": {
      "text/plain": [
       "1"
      ]
     },
     "execution_count": 6,
     "metadata": {},
     "output_type": "execute_result"
    }
   ],
   "source": [
    "a"
   ]
  },
  {
   "cell_type": "code",
   "execution_count": 7,
   "id": "6eb419c3",
   "metadata": {},
   "outputs": [
    {
     "name": "stdout",
     "output_type": "stream",
     "text": [
      "This is the value of a\n"
     ]
    }
   ],
   "source": [
    "if a:\n",
    "    print('This is the value of a')\n",
    "else:\n",
    "    print('False')"
   ]
  },
  {
   "cell_type": "code",
   "execution_count": 8,
   "id": "fe3ff362",
   "metadata": {},
   "outputs": [],
   "source": [
    "a = -1 # assigning a = 1"
   ]
  },
  {
   "cell_type": "code",
   "execution_count": 9,
   "id": "0fefa894",
   "metadata": {},
   "outputs": [
    {
     "name": "stdout",
     "output_type": "stream",
     "text": [
      "This is the value of a\n"
     ]
    }
   ],
   "source": [
    "# if 'a' value is anything other than 0, then if part will execute\n",
    "if a:\n",
    "    print('This is the value of a')\n",
    "else:\n",
    "    print('False')"
   ]
  },
  {
   "cell_type": "markdown",
   "id": "1faf859b",
   "metadata": {},
   "source": [
    "### pass"
   ]
  },
  {
   "cell_type": "code",
   "execution_count": 11,
   "id": "1db24fce",
   "metadata": {},
   "outputs": [],
   "source": [
    "a = 10"
   ]
  },
  {
   "cell_type": "code",
   "execution_count": 12,
   "id": "22977232",
   "metadata": {},
   "outputs": [
    {
     "name": "stdout",
     "output_type": "stream",
     "text": [
      "Condition is true\n"
     ]
    }
   ],
   "source": [
    "if a<20:\n",
    "    print(\"Condition is true\")\n",
    "else:\n",
    "    print(\"Condition is false\")"
   ]
  },
  {
   "cell_type": "code",
   "execution_count": 14,
   "id": "4552b15a",
   "metadata": {},
   "outputs": [],
   "source": [
    "a = 30"
   ]
  },
  {
   "cell_type": "code",
   "execution_count": 15,
   "id": "86b4d063",
   "metadata": {},
   "outputs": [
    {
     "name": "stdout",
     "output_type": "stream",
     "text": [
      "Condition is false\n"
     ]
    }
   ],
   "source": [
    "if a<20:\n",
    "    print(\"Condition is true\")\n",
    "else:\n",
    "    print(\"Condition is false\")"
   ]
  },
  {
   "cell_type": "code",
   "execution_count": 16,
   "id": "96944019",
   "metadata": {},
   "outputs": [],
   "source": [
    "a = 10"
   ]
  },
  {
   "cell_type": "code",
   "execution_count": 17,
   "id": "4b82cc88",
   "metadata": {},
   "outputs": [],
   "source": [
    "if a<20:\n",
    "    pass\n",
    "else:\n",
    "    print(\"Condition is false\")"
   ]
  },
  {
   "cell_type": "code",
   "execution_count": 18,
   "id": "f4cb15de",
   "metadata": {},
   "outputs": [],
   "source": [
    "a = 30"
   ]
  },
  {
   "cell_type": "code",
   "execution_count": 19,
   "id": "61200ff1",
   "metadata": {},
   "outputs": [
    {
     "name": "stdout",
     "output_type": "stream",
     "text": [
      "Condition is false\n"
     ]
    }
   ],
   "source": [
    "if a<20:\n",
    "    pass\n",
    "else:\n",
    "    print(\"Condition is false\")"
   ]
  },
  {
   "cell_type": "code",
   "execution_count": 22,
   "id": "4a139a24",
   "metadata": {},
   "outputs": [],
   "source": [
    "a = 50"
   ]
  },
  {
   "cell_type": "code",
   "execution_count": 23,
   "id": "c2732af7",
   "metadata": {},
   "outputs": [],
   "source": [
    "if a<20:\n",
    "    print(\"Condition is true\")\n",
    "else:\n",
    "    pass"
   ]
  },
  {
   "cell_type": "code",
   "execution_count": 24,
   "id": "3eadeb4f",
   "metadata": {},
   "outputs": [],
   "source": [
    "a = 20"
   ]
  },
  {
   "cell_type": "code",
   "execution_count": 25,
   "id": "2bab3bcd",
   "metadata": {},
   "outputs": [
    {
     "name": "stdout",
     "output_type": "stream",
     "text": [
      "Condition is true\n"
     ]
    }
   ],
   "source": [
    "if a<=20:\n",
    "    print(\"Condition is true\")\n",
    "else:\n",
    "    pass"
   ]
  },
  {
   "cell_type": "code",
   "execution_count": 26,
   "id": "243a3322",
   "metadata": {},
   "outputs": [],
   "source": [
    "if a<20:\n",
    "    print(\"Condition is true\")\n",
    "else:\n",
    "    pass"
   ]
  },
  {
   "cell_type": "markdown",
   "id": "7c841098",
   "metadata": {},
   "source": [
    "### if-else"
   ]
  },
  {
   "cell_type": "code",
   "execution_count": 27,
   "id": "6b023b8d",
   "metadata": {},
   "outputs": [],
   "source": [
    "a = 10"
   ]
  },
  {
   "cell_type": "code",
   "execution_count": 28,
   "id": "6494f9c8",
   "metadata": {},
   "outputs": [
    {
     "name": "stdout",
     "output_type": "stream",
     "text": [
      "This is a statement\n"
     ]
    }
   ],
   "source": [
    "if a>20:\n",
    "    print(\"This is a number\")\n",
    "else:\n",
    "    print('This is a statement')"
   ]
  },
  {
   "cell_type": "code",
   "execution_count": 29,
   "id": "dbd76192",
   "metadata": {},
   "outputs": [],
   "source": [
    "a = 20"
   ]
  },
  {
   "cell_type": "code",
   "execution_count": 30,
   "id": "6da2f062",
   "metadata": {},
   "outputs": [
    {
     "name": "stdout",
     "output_type": "stream",
     "text": [
      "This is a statement\n"
     ]
    }
   ],
   "source": [
    "if a>20:\n",
    "    print(\"This is a number\")\n",
    "else:\n",
    "    print('This is a statement')"
   ]
  },
  {
   "cell_type": "markdown",
   "id": "b331c541",
   "metadata": {},
   "source": [
    "### if-if else"
   ]
  },
  {
   "cell_type": "code",
   "execution_count": 31,
   "id": "1ac52bd4",
   "metadata": {},
   "outputs": [
    {
     "name": "stdout",
     "output_type": "stream",
     "text": [
      "This is a alternate statement\n"
     ]
    }
   ],
   "source": [
    "a = 10\n",
    "if a>20:\n",
    "    print('This is a number')\n",
    "if a == 10:\n",
    "    print('This is a alternate statement')\n",
    "else:\n",
    "    print('Print this statement')"
   ]
  },
  {
   "cell_type": "code",
   "execution_count": 32,
   "id": "1672b156",
   "metadata": {},
   "outputs": [
    {
     "name": "stdout",
     "output_type": "stream",
     "text": [
      "Print this statement\n"
     ]
    }
   ],
   "source": [
    "a = 11\n",
    "if a>20:\n",
    "    print('This is a number')\n",
    "if a == 10:\n",
    "    print('This is a alternate statement')\n",
    "else:\n",
    "    print('Print this statement')"
   ]
  },
  {
   "cell_type": "code",
   "execution_count": 33,
   "id": "03304712",
   "metadata": {},
   "outputs": [],
   "source": [
    "a = 10\n",
    "if a>20:\n",
    "    print('This is a number')\n",
    "if a == 10:\n",
    "    pass\n",
    "else:\n",
    "    print('Print this statement')"
   ]
  },
  {
   "cell_type": "code",
   "execution_count": 34,
   "id": "69109206",
   "metadata": {},
   "outputs": [],
   "source": [
    "a = 11\n",
    "if a>20:\n",
    "    print('This is a number')\n",
    "if a == 10:\n",
    "    print('This is a alternate statement')\n",
    "else:\n",
    "    pass"
   ]
  },
  {
   "cell_type": "code",
   "execution_count": 35,
   "id": "3ac84c97",
   "metadata": {},
   "outputs": [
    {
     "name": "stdout",
     "output_type": "stream",
     "text": [
      "This is a number\n",
      "This is a alternate statement\n"
     ]
    }
   ],
   "source": [
    "a = 10\n",
    "if a<20:\n",
    "    print('This is a number')\n",
    "if a == 10:\n",
    "    print('This is a alternate statement')\n",
    "else:\n",
    "    print('Print this statement')"
   ]
  },
  {
   "cell_type": "code",
   "execution_count": 36,
   "id": "13cdde76",
   "metadata": {},
   "outputs": [
    {
     "name": "stdout",
     "output_type": "stream",
     "text": [
      "This is a number\n"
     ]
    }
   ],
   "source": [
    "a = 10\n",
    "if a<20:\n",
    "    print('This is a number')\n",
    "if a == 10:\n",
    "    pass\n",
    "else:\n",
    "    print('Print this statement')"
   ]
  },
  {
   "cell_type": "code",
   "execution_count": null,
   "id": "fe756d78",
   "metadata": {},
   "outputs": [],
   "source": [
    "a = 10\n",
    "if a>20:\n",
    "    print('This is a number')\n",
    "if a == 10:\n",
    "    print('This is a alternate statement')\n",
    "elid"
   ]
  },
  {
   "cell_type": "code",
   "execution_count": null,
   "id": "909836fd",
   "metadata": {},
   "outputs": [],
   "source": []
  }
 ],
 "metadata": {
  "kernelspec": {
   "display_name": "Python 3 (ipykernel)",
   "language": "python",
   "name": "python3"
  },
  "language_info": {
   "codemirror_mode": {
    "name": "ipython",
    "version": 3
   },
   "file_extension": ".py",
   "mimetype": "text/x-python",
   "name": "python",
   "nbconvert_exporter": "python",
   "pygments_lexer": "ipython3",
   "version": "3.9.7"
  }
 },
 "nbformat": 4,
 "nbformat_minor": 5
}
