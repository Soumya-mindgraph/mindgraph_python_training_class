{
 "cells": [
  {
   "cell_type": "markdown",
   "id": "0751b3c8",
   "metadata": {},
   "source": [
    "### Boolean - True or False"
   ]
  },
  {
   "cell_type": "markdown",
   "id": "f9b7d933",
   "metadata": {},
   "source": [
    "### Boolean Values - 1(True) or 0(False)"
   ]
  },
  {
   "cell_type": "markdown",
   "id": "7faf8b4d",
   "metadata": {},
   "source": [
    "# Control Statements"
   ]
  },
  {
   "cell_type": "code",
   "execution_count": 1,
   "id": "11b9719c",
   "metadata": {},
   "outputs": [],
   "source": [
    "a = 10 # assigning a = 0"
   ]
  },
  {
   "cell_type": "code",
   "execution_count": 2,
   "id": "7cfcdeae",
   "metadata": {},
   "outputs": [
    {
     "name": "stdout",
     "output_type": "stream",
     "text": [
      "This is the value of a\n"
     ]
    }
   ],
   "source": [
    "if a:\n",
    "    print('This is the value of a') # if 'a' value is anything other than 0, then if part will execute"
   ]
  },
  {
   "cell_type": "code",
   "execution_count": 3,
   "id": "a4980a9c",
   "metadata": {},
   "outputs": [],
   "source": [
    "a = 0 # assigning a = 0"
   ]
  },
  {
   "cell_type": "code",
   "execution_count": 4,
   "id": "102d8e7d",
   "metadata": {},
   "outputs": [
    {
     "name": "stdout",
     "output_type": "stream",
     "text": [
      "False\n"
     ]
    }
   ],
   "source": [
    "# if the first condition doesn't satisfy, it will go to the else part.\n",
    "if a:\n",
    "    print('This is the value of a')\n",
    "else:\n",
    "    print('False')"
   ]
  },
  {
   "cell_type": "code",
   "execution_count": 5,
   "id": "67618ba4",
   "metadata": {},
   "outputs": [],
   "source": [
    "a = 1 # assigning a = 1"
   ]
  },
  {
   "cell_type": "code",
   "execution_count": 6,
   "id": "61f2bf59",
   "metadata": {},
   "outputs": [
    {
     "data": {
      "text/plain": [
       "1"
      ]
     },
     "execution_count": 6,
     "metadata": {},
     "output_type": "execute_result"
    }
   ],
   "source": [
    "a"
   ]
  },
  {
   "cell_type": "code",
   "execution_count": 7,
   "id": "b2875522",
   "metadata": {},
   "outputs": [
    {
     "name": "stdout",
     "output_type": "stream",
     "text": [
      "This is the value of a\n"
     ]
    }
   ],
   "source": [
    "if a:\n",
    "    print('This is the value of a')\n",
    "else:\n",
    "    print('False')"
   ]
  },
  {
   "cell_type": "code",
   "execution_count": 8,
   "id": "6bc13645",
   "metadata": {},
   "outputs": [],
   "source": [
    "a = -1 # assigning a = 1"
   ]
  },
  {
   "cell_type": "code",
   "execution_count": 9,
   "id": "86925faa",
   "metadata": {},
   "outputs": [
    {
     "name": "stdout",
     "output_type": "stream",
     "text": [
      "This is the value of a\n"
     ]
    }
   ],
   "source": [
    "# if 'a' value is anything other than 0, then if part will execute\n",
    "if a:\n",
    "    print('This is the value of a')\n",
    "else:\n",
    "    print('False')"
   ]
  },
  {
   "cell_type": "markdown",
   "id": "f429ed75",
   "metadata": {},
   "source": [
    "### pass"
   ]
  },
  {
   "cell_type": "code",
   "execution_count": 11,
   "id": "38773f24",
   "metadata": {},
   "outputs": [],
   "source": [
    "a = 10"
   ]
  },
  {
   "cell_type": "code",
   "execution_count": 12,
   "id": "dd9cf395",
   "metadata": {},
   "outputs": [
    {
     "name": "stdout",
     "output_type": "stream",
     "text": [
      "Condition is true\n"
     ]
    }
   ],
   "source": [
    "if a<20:\n",
    "    print(\"Condition is true\")\n",
    "else:\n",
    "    print(\"Condition is false\")"
   ]
  },
  {
   "cell_type": "code",
   "execution_count": 14,
   "id": "7f1d43a0",
   "metadata": {},
   "outputs": [],
   "source": [
    "a = 30"
   ]
  },
  {
   "cell_type": "code",
   "execution_count": 15,
   "id": "e82c0334",
   "metadata": {},
   "outputs": [
    {
     "name": "stdout",
     "output_type": "stream",
     "text": [
      "Condition is false\n"
     ]
    }
   ],
   "source": [
    "if a<20:\n",
    "    print(\"Condition is true\")\n",
    "else:\n",
    "    print(\"Condition is false\")"
   ]
  },
  {
   "cell_type": "code",
   "execution_count": 16,
   "id": "36decf61",
   "metadata": {},
   "outputs": [],
   "source": [
    "a = 10"
   ]
  },
  {
   "cell_type": "code",
   "execution_count": 17,
   "id": "33f95efe",
   "metadata": {},
   "outputs": [],
   "source": [
    "if a<20:\n",
    "    pass\n",
    "else:\n",
    "    print(\"Condition is false\")"
   ]
  },
  {
   "cell_type": "code",
   "execution_count": 18,
   "id": "ae3bd32f",
   "metadata": {},
   "outputs": [],
   "source": [
    "a = 30"
   ]
  },
  {
   "cell_type": "code",
   "execution_count": 19,
   "id": "89e91fe6",
   "metadata": {},
   "outputs": [
    {
     "name": "stdout",
     "output_type": "stream",
     "text": [
      "Condition is false\n"
     ]
    }
   ],
   "source": [
    "if a<20:\n",
    "    pass\n",
    "else:\n",
    "    print(\"Condition is false\")"
   ]
  },
  {
   "cell_type": "code",
   "execution_count": 22,
   "id": "9fa1eb09",
   "metadata": {},
   "outputs": [],
   "source": [
    "a = 50"
   ]
  },
  {
   "cell_type": "code",
   "execution_count": 23,
   "id": "ac3813e3",
   "metadata": {},
   "outputs": [],
   "source": [
    "if a<20:\n",
    "    print(\"Condition is true\")\n",
    "else:\n",
    "    pass"
   ]
  },
  {
   "cell_type": "code",
   "execution_count": 24,
   "id": "8c5a82ce",
   "metadata": {},
   "outputs": [],
   "source": [
    "a = 20"
   ]
  },
  {
   "cell_type": "code",
   "execution_count": 25,
   "id": "4474c0ac",
   "metadata": {},
   "outputs": [
    {
     "name": "stdout",
     "output_type": "stream",
     "text": [
      "Condition is true\n"
     ]
    }
   ],
   "source": [
    "if a<=20:\n",
    "    print(\"Condition is true\")\n",
    "else:\n",
    "    pass"
   ]
  },
  {
   "cell_type": "code",
   "execution_count": 26,
   "id": "d6a04b8a",
   "metadata": {},
   "outputs": [],
   "source": [
    "if a<20:\n",
    "    print(\"Condition is true\")\n",
    "else:\n",
    "    pass"
   ]
  },
  {
   "cell_type": "markdown",
   "id": "549ee1f8",
   "metadata": {},
   "source": [
    "### if-else"
   ]
  },
  {
   "cell_type": "code",
   "execution_count": 27,
   "id": "641beb18",
   "metadata": {},
   "outputs": [],
   "source": [
    "a = 10"
   ]
  },
  {
   "cell_type": "code",
   "execution_count": 28,
   "id": "c2e711ed",
   "metadata": {},
   "outputs": [
    {
     "name": "stdout",
     "output_type": "stream",
     "text": [
      "This is a statement\n"
     ]
    }
   ],
   "source": [
    "if a>20:\n",
    "    print(\"This is a number\")\n",
    "else:\n",
    "    print('This is a statement')"
   ]
  },
  {
   "cell_type": "code",
   "execution_count": 29,
   "id": "98c31e3c",
   "metadata": {},
   "outputs": [],
   "source": [
    "a = 20"
   ]
  },
  {
   "cell_type": "code",
   "execution_count": 30,
   "id": "a9bbcd5e",
   "metadata": {},
   "outputs": [
    {
     "name": "stdout",
     "output_type": "stream",
     "text": [
      "This is a statement\n"
     ]
    }
   ],
   "source": [
    "if a>20:\n",
    "    print(\"This is a number\")\n",
    "else:\n",
    "    print('This is a statement')"
   ]
  },
  {
   "cell_type": "markdown",
   "id": "107ce29f",
   "metadata": {},
   "source": [
    "### if-if else"
   ]
  },
  {
   "cell_type": "code",
   "execution_count": 31,
   "id": "2256129c",
   "metadata": {},
   "outputs": [
    {
     "name": "stdout",
     "output_type": "stream",
     "text": [
      "This is a alternate statement\n"
     ]
    }
   ],
   "source": [
    "a = 10\n",
    "if a>20:\n",
    "    print('This is a number')\n",
    "if a == 10:\n",
    "    print('This is a alternate statement')\n",
    "else:\n",
    "    print('Print this statement')"
   ]
  },
  {
   "cell_type": "code",
   "execution_count": 32,
   "id": "dc4114da",
   "metadata": {},
   "outputs": [
    {
     "name": "stdout",
     "output_type": "stream",
     "text": [
      "Print this statement\n"
     ]
    }
   ],
   "source": [
    "a = 11\n",
    "if a>20:\n",
    "    print('This is a number')\n",
    "if a == 10:\n",
    "    print('This is a alternate statement')\n",
    "else:\n",
    "    print('Print this statement')"
   ]
  },
  {
   "cell_type": "code",
   "execution_count": 33,
   "id": "656de97f",
   "metadata": {},
   "outputs": [],
   "source": [
    "a = 10\n",
    "if a>20:\n",
    "    print('This is a number')\n",
    "if a == 10:\n",
    "    pass\n",
    "else:\n",
    "    print('Print this statement')"
   ]
  },
  {
   "cell_type": "code",
   "execution_count": 34,
   "id": "cc0f206a",
   "metadata": {},
   "outputs": [],
   "source": [
    "a = 11\n",
    "if a>20:\n",
    "    print('This is a number')\n",
    "if a == 10:\n",
    "    print('This is a alternate statement')\n",
    "else:\n",
    "    pass"
   ]
  },
  {
   "cell_type": "code",
   "execution_count": 35,
   "id": "4070a411",
   "metadata": {},
   "outputs": [
    {
     "name": "stdout",
     "output_type": "stream",
     "text": [
      "This is a number\n",
      "This is a alternate statement\n"
     ]
    }
   ],
   "source": [
    "a = 10\n",
    "if a<20:\n",
    "    print('This is a number')\n",
    "if a == 10:\n",
    "    print('This is a alternate statement')\n",
    "else:\n",
    "    print('Print this statement')"
   ]
  },
  {
   "cell_type": "code",
   "execution_count": 36,
   "id": "ccb50d12",
   "metadata": {},
   "outputs": [
    {
     "name": "stdout",
     "output_type": "stream",
     "text": [
      "This is a number\n"
     ]
    }
   ],
   "source": [
    "a = 10\n",
    "if a<20:\n",
    "    print('This is a number')\n",
    "if a == 10:\n",
    "    pass\n",
    "else:\n",
    "    print('Print this statement')"
   ]
  },
  {
   "cell_type": "markdown",
   "id": "cfd82246",
   "metadata": {},
   "source": [
    "### Task 1"
   ]
  },
  {
   "cell_type": "markdown",
   "id": "5af05ed6",
   "metadata": {},
   "source": [
    "* WAP to find the integer values in the list and replace them with their respective character.\n",
    "\n",
    "* Sample input:\n",
    "    \n",
    "    * [\"soumya\", \"ByteIQ\", 2, 4, \"Mindgraph\", 8.53, 7]\n",
    "\n",
    "\n",
    "* Sample output:\n",
    "    \n",
    "    * [\"soumya\", \"ByteIQ\", \"Two\", \"Four\", \"Mindgraph\", 8.53, \"Seven\"]"
   ]
  },
  {
   "cell_type": "code",
   "execution_count": 46,
   "id": "c81c9159",
   "metadata": {},
   "outputs": [],
   "source": [
    "number_dict = {1 : 'One', 2: 'Two', 3: 'Three', 4: 'Four', 5: 'Five', 6: 'Six', 7: 'Seven'}"
   ]
  },
  {
   "cell_type": "code",
   "execution_count": 47,
   "id": "58fbffd8",
   "metadata": {},
   "outputs": [
    {
     "data": {
      "text/plain": [
       "{1: 'One', 2: 'Two', 3: 'Three', 4: 'Four', 5: 'Five', 6: 'Six', 7: 'Seven'}"
      ]
     },
     "execution_count": 47,
     "metadata": {},
     "output_type": "execute_result"
    }
   ],
   "source": [
    "number_dict"
   ]
  },
  {
   "cell_type": "code",
   "execution_count": 48,
   "id": "fc71e0a7",
   "metadata": {},
   "outputs": [],
   "source": [
    "l = [\"soumya\", \"ByteIQ\", 2, 4, \"Mindgraph\", 8.53, 7]"
   ]
  },
  {
   "cell_type": "code",
   "execution_count": 50,
   "id": "6c509a1c",
   "metadata": {},
   "outputs": [
    {
     "name": "stdout",
     "output_type": "stream",
     "text": [
      "['soumya', 'ByteIQ', 'Two', 'Four', 'Mindgraph', 8.53, 'Seven']\n"
     ]
    }
   ],
   "source": [
    "new_list = []\n",
    "for i in l:\n",
    "    if type(i) == int:\n",
    "        if i in number_dict.keys():\n",
    "            new_list.append(number_dict[i])\n",
    "    else:\n",
    "        new_list.append(i)\n",
    "print(new_list)            "
   ]
  },
  {
   "cell_type": "code",
   "execution_count": 51,
   "id": "bd9eee84",
   "metadata": {},
   "outputs": [],
   "source": [
    "new_list = []"
   ]
  },
  {
   "cell_type": "code",
   "execution_count": 52,
   "id": "4f32a25b",
   "metadata": {},
   "outputs": [
    {
     "data": {
      "text/plain": [
       "[]"
      ]
     },
     "execution_count": 52,
     "metadata": {},
     "output_type": "execute_result"
    }
   ],
   "source": [
    "new_list"
   ]
  },
  {
   "cell_type": "code",
   "execution_count": 53,
   "id": "3e05625a",
   "metadata": {},
   "outputs": [
    {
     "name": "stdout",
     "output_type": "stream",
     "text": [
      "soumya\n",
      "ByteIQ\n",
      "2\n",
      "4\n",
      "Mindgraph\n",
      "8.53\n",
      "7\n"
     ]
    }
   ],
   "source": [
    "for i in l:\n",
    "    print(i)"
   ]
  },
  {
   "cell_type": "code",
   "execution_count": 55,
   "id": "8b9463d3",
   "metadata": {},
   "outputs": [
    {
     "name": "stdout",
     "output_type": "stream",
     "text": [
      "soumya\n",
      "ByteIQ\n",
      "2\n",
      "2\n",
      "4\n",
      "4\n",
      "Mindgraph\n",
      "8.53\n",
      "7\n",
      "7\n"
     ]
    }
   ],
   "source": [
    "for i in l:\n",
    "    print(i)\n",
    "    if type(i) == int:\n",
    "        print(i)"
   ]
  },
  {
   "cell_type": "code",
   "execution_count": 56,
   "id": "36f9ffc8",
   "metadata": {},
   "outputs": [
    {
     "data": {
      "text/plain": [
       "{1: 'One', 2: 'Two', 3: 'Three', 4: 'Four', 5: 'Five', 6: 'Six', 7: 'Seven'}"
      ]
     },
     "execution_count": 56,
     "metadata": {},
     "output_type": "execute_result"
    }
   ],
   "source": [
    "number_dict"
   ]
  },
  {
   "cell_type": "code",
   "execution_count": 63,
   "id": "38c605f4",
   "metadata": {},
   "outputs": [
    {
     "name": "stdout",
     "output_type": "stream",
     "text": [
      "1\n",
      "One\n",
      "2\n",
      "Two\n",
      "3\n",
      "Three\n",
      "4\n",
      "Four\n",
      "5\n",
      "Five\n",
      "6\n",
      "Six\n",
      "7\n",
      "Seven\n"
     ]
    }
   ],
   "source": [
    "for i in number_dict.keys():\n",
    "    print(i)\n",
    "    print(number_dict[i])"
   ]
  },
  {
   "cell_type": "code",
   "execution_count": 65,
   "id": "47b1b3b6",
   "metadata": {},
   "outputs": [
    {
     "data": {
      "text/plain": [
       "'One'"
      ]
     },
     "execution_count": 65,
     "metadata": {},
     "output_type": "execute_result"
    }
   ],
   "source": [
    "number_dict[1]"
   ]
  },
  {
   "cell_type": "code",
   "execution_count": 66,
   "id": "b5cfca94",
   "metadata": {},
   "outputs": [
    {
     "data": {
      "text/plain": [
       "'Two'"
      ]
     },
     "execution_count": 66,
     "metadata": {},
     "output_type": "execute_result"
    }
   ],
   "source": [
    "number_dict[2]"
   ]
  },
  {
   "cell_type": "code",
   "execution_count": 57,
   "id": "310b8612",
   "metadata": {},
   "outputs": [
    {
     "data": {
      "text/plain": [
       "dict_keys([1, 2, 3, 4, 5, 6, 7])"
      ]
     },
     "execution_count": 57,
     "metadata": {},
     "output_type": "execute_result"
    }
   ],
   "source": [
    "number_dict.keys()"
   ]
  },
  {
   "cell_type": "code",
   "execution_count": 58,
   "id": "b070fcac",
   "metadata": {},
   "outputs": [
    {
     "data": {
      "text/plain": [
       "dict_values(['One', 'Two', 'Three', 'Four', 'Five', 'Six', 'Seven'])"
      ]
     },
     "execution_count": 58,
     "metadata": {},
     "output_type": "execute_result"
    }
   ],
   "source": [
    "number_dict.values()"
   ]
  },
  {
   "cell_type": "code",
   "execution_count": 59,
   "id": "124afa97",
   "metadata": {},
   "outputs": [
    {
     "data": {
      "text/plain": [
       "dict_items([(1, 'One'), (2, 'Two'), (3, 'Three'), (4, 'Four'), (5, 'Five'), (6, 'Six'), (7, 'Seven')])"
      ]
     },
     "execution_count": 59,
     "metadata": {},
     "output_type": "execute_result"
    }
   ],
   "source": [
    "number_dict.items()"
   ]
  },
  {
   "cell_type": "code",
   "execution_count": 67,
   "id": "0d3ab5b8",
   "metadata": {},
   "outputs": [
    {
     "name": "stdout",
     "output_type": "stream",
     "text": [
      "['soumya', 'ByteIQ', 'Two', 'Four', 'Mindgraph', 8.53, 'Seven']\n"
     ]
    }
   ],
   "source": [
    "new_list = []\n",
    "for i in l:\n",
    "    if type(i) == int:\n",
    "        if i in number_dict.keys():\n",
    "            new_list.append(number_dict[i])\n",
    "    else:\n",
    "        new_list.append(i)\n",
    "print(new_list)         "
   ]
  },
  {
   "cell_type": "code",
   "execution_count": 68,
   "id": "77ceee94",
   "metadata": {},
   "outputs": [
    {
     "data": {
      "text/plain": [
       "['soumya', 'ByteIQ', 2, 4, 'Mindgraph', 8.53, 7]"
      ]
     },
     "execution_count": 68,
     "metadata": {},
     "output_type": "execute_result"
    }
   ],
   "source": [
    "l"
   ]
  },
  {
   "cell_type": "code",
   "execution_count": 69,
   "id": "6c2438ea",
   "metadata": {},
   "outputs": [
    {
     "data": {
      "text/plain": [
       "{1: 'One', 2: 'Two', 3: 'Three', 4: 'Four', 5: 'Five', 6: 'Six', 7: 'Seven'}"
      ]
     },
     "execution_count": 69,
     "metadata": {},
     "output_type": "execute_result"
    }
   ],
   "source": [
    "number_dict"
   ]
  },
  {
   "cell_type": "markdown",
   "id": "6031213a",
   "metadata": {},
   "source": [
    "### Task 2"
   ]
  },
  {
   "cell_type": "markdown",
   "id": "c2eaf1b3",
   "metadata": {},
   "source": [
    "* WAP to print the the length of the every element inside the list.\n",
    "\n",
    "* Sample input: \n",
    "    \n",
    "    * [\"Hii\", \"ByteIQ\", \"Mindgraph\", \"Shubha\"]\n",
    "\n",
    "\n",
    "* Sample output:\n",
    "        \n",
    "        \n",
    "        * [3, 6, 9, 6]"
   ]
  },
  {
   "cell_type": "code",
   "execution_count": 39,
   "id": "dab4c071",
   "metadata": {},
   "outputs": [],
   "source": [
    "l = [\"Hii\", \"ByteIQ\", \"Mindgraph\", \"Shubha\"]"
   ]
  },
  {
   "cell_type": "code",
   "execution_count": 40,
   "id": "1e53f040",
   "metadata": {},
   "outputs": [
    {
     "data": {
      "text/plain": [
       "['Hii', 'ByteIQ', 'Mindgraph', 'Shubha']"
      ]
     },
     "execution_count": 40,
     "metadata": {},
     "output_type": "execute_result"
    }
   ],
   "source": [
    "l"
   ]
  },
  {
   "cell_type": "code",
   "execution_count": 42,
   "id": "a1b058b9",
   "metadata": {},
   "outputs": [
    {
     "name": "stdout",
     "output_type": "stream",
     "text": [
      "[3, 6, 9, 6]\n"
     ]
    }
   ],
   "source": [
    "output_list = []\n",
    "for i in l:\n",
    "    output_list.append(len(i))\n",
    "print(output_list)"
   ]
  },
  {
   "cell_type": "markdown",
   "id": "6b84e888",
   "metadata": {},
   "source": [
    "### Task 3"
   ]
  },
  {
   "cell_type": "markdown",
   "id": "f148f063",
   "metadata": {},
   "source": [
    "* WAP to return True if there is any duplicate character in a string, otherwise false. \n",
    "    \n",
    "    * Sample input1:\n",
    "        \n",
    "       * \"Soumya\"\n",
    "    \n",
    "    * Sample output1:\n",
    "        \n",
    "        * False\n",
    "    \n",
    "    * Sample input2:\n",
    "        \n",
    "        * \"cuttack\"\n",
    "    \n",
    "    * Sample output2:\n",
    "        \n",
    "        * True"
   ]
  },
  {
   "cell_type": "code",
   "execution_count": 71,
   "id": "e44ea891",
   "metadata": {},
   "outputs": [
    {
     "name": "stdout",
     "output_type": "stream",
     "text": [
      "Enter a String: Cuttack\n"
     ]
    }
   ],
   "source": [
    "input_string = input('Enter a String: ')"
   ]
  },
  {
   "cell_type": "code",
   "execution_count": 72,
   "id": "f9fb5c46",
   "metadata": {},
   "outputs": [
    {
     "data": {
      "text/plain": [
       "'Cuttack'"
      ]
     },
     "execution_count": 72,
     "metadata": {},
     "output_type": "execute_result"
    }
   ],
   "source": [
    "input_string"
   ]
  },
  {
   "cell_type": "code",
   "execution_count": 73,
   "id": "9cfd56ff",
   "metadata": {},
   "outputs": [
    {
     "data": {
      "text/plain": [
       "{'C', 'a', 'c', 'k', 't', 'u'}"
      ]
     },
     "execution_count": 73,
     "metadata": {},
     "output_type": "execute_result"
    }
   ],
   "source": [
    "set(input_string)"
   ]
  },
  {
   "cell_type": "code",
   "execution_count": 74,
   "id": "6cc79d05",
   "metadata": {},
   "outputs": [],
   "source": [
    "set_string =set(input_string)"
   ]
  },
  {
   "cell_type": "code",
   "execution_count": 75,
   "id": "0983bafe",
   "metadata": {},
   "outputs": [
    {
     "data": {
      "text/plain": [
       "7"
      ]
     },
     "execution_count": 75,
     "metadata": {},
     "output_type": "execute_result"
    }
   ],
   "source": [
    "len(input_string)"
   ]
  },
  {
   "cell_type": "code",
   "execution_count": 76,
   "id": "d3278d7b",
   "metadata": {},
   "outputs": [
    {
     "data": {
      "text/plain": [
       "6"
      ]
     },
     "execution_count": 76,
     "metadata": {},
     "output_type": "execute_result"
    }
   ],
   "source": [
    "len(set_string)"
   ]
  },
  {
   "cell_type": "code",
   "execution_count": 77,
   "id": "8dd05954",
   "metadata": {},
   "outputs": [
    {
     "name": "stdout",
     "output_type": "stream",
     "text": [
      "True\n"
     ]
    }
   ],
   "source": [
    "if len(set_string)< len(input_string):\n",
    "    print(True)"
   ]
  },
  {
   "cell_type": "code",
   "execution_count": 82,
   "id": "8b28b2ac",
   "metadata": {},
   "outputs": [
    {
     "name": "stdout",
     "output_type": "stream",
     "text": [
      "Enter a String: Parth\n",
      "False\n"
     ]
    }
   ],
   "source": [
    "input_string = input('Enter a String: ')\n",
    "set_string =set(input_string)\n",
    "if len(set_string)< len(input_string):\n",
    "    print(True)\n",
    "else:\n",
    "    print(False)"
   ]
  },
  {
   "cell_type": "code",
   "execution_count": 83,
   "id": "f1a9a630",
   "metadata": {},
   "outputs": [
    {
     "name": "stdout",
     "output_type": "stream",
     "text": [
      "Enter a String: Shubha\n",
      "True\n"
     ]
    }
   ],
   "source": [
    "input_string = input('Enter a String: ')\n",
    "set_string =set(input_string)\n",
    "if len(set_string)< len(input_string):\n",
    "    print(True)\n",
    "else:\n",
    "    print(False)"
   ]
  },
  {
   "cell_type": "markdown",
   "id": "87d7257b",
   "metadata": {},
   "source": [
    "### Task - 4"
   ]
  },
  {
   "cell_type": "markdown",
   "id": "f149ff63",
   "metadata": {},
   "source": [
    "* WAP to convert a list of character into a string.\n",
    "\n",
    "    * Sample input:\n",
    "       \n",
    "        * [\"s\", \"o\", \"u\", \"m\", \"y\", \"a\"]\n",
    "        \n",
    "    * Sample output:\n",
    "        \n",
    "        * \"soumya\""
   ]
  },
  {
   "cell_type": "code",
   "execution_count": 84,
   "id": "43ca95e8",
   "metadata": {},
   "outputs": [],
   "source": [
    "l = [\"s\", \"o\", \"u\", \"m\", \"y\", \"a\"]"
   ]
  },
  {
   "cell_type": "code",
   "execution_count": 85,
   "id": "88a2f7ea",
   "metadata": {
    "scrolled": true
   },
   "outputs": [
    {
     "data": {
      "text/plain": [
       "'soumya'"
      ]
     },
     "execution_count": 85,
     "metadata": {},
     "output_type": "execute_result"
    }
   ],
   "source": [
    "''.join(l)"
   ]
  },
  {
   "cell_type": "markdown",
   "id": "d839fb2a",
   "metadata": {},
   "source": [
    "### Task - 5"
   ]
  },
  {
   "cell_type": "markdown",
   "id": "8c914090",
   "metadata": {},
   "source": [
    "* WAP to remove all the characters from a string except integers.\n",
    "\n",
    "    \n",
    "    * Sample input:       \n",
    "        \n",
    "        * \"I bought 5 pens and 6 pencils\"\n",
    "    \n",
    "   \n",
    "   * Sample output:\n",
    "        \n",
    "        \n",
    "        * \"56\""
   ]
  },
  {
   "cell_type": "code",
   "execution_count": 86,
   "id": "63c2b7b7",
   "metadata": {},
   "outputs": [],
   "source": [
    "s = \"I bought 5 pens and 6 pencils\""
   ]
  },
  {
   "cell_type": "code",
   "execution_count": 88,
   "id": "c5eec522",
   "metadata": {},
   "outputs": [
    {
     "data": {
      "text/plain": [
       "['I', 'bought', '5', 'pens', 'and', '6', 'pencils']"
      ]
     },
     "execution_count": 88,
     "metadata": {},
     "output_type": "execute_result"
    }
   ],
   "source": [
    "s.split(' ')"
   ]
  },
  {
   "cell_type": "code",
   "execution_count": 94,
   "id": "fcf4cf6e",
   "metadata": {},
   "outputs": [
    {
     "data": {
      "text/plain": [
       "'56'"
      ]
     },
     "execution_count": 94,
     "metadata": {},
     "output_type": "execute_result"
    }
   ],
   "source": [
    "new_list = []\n",
    "for i in s:\n",
    "    if i.isdigit():\n",
    "        new_list.append(i)\n",
    "''.join(new_list)"
   ]
  },
  {
   "cell_type": "code",
   "execution_count": 92,
   "id": "43dc90ff",
   "metadata": {},
   "outputs": [
    {
     "data": {
      "text/plain": [
       "['5', '6']"
      ]
     },
     "execution_count": 92,
     "metadata": {},
     "output_type": "execute_result"
    }
   ],
   "source": [
    "new_list"
   ]
  }
 ],
 "metadata": {
  "kernelspec": {
   "display_name": "Python 3 (ipykernel)",
   "language": "python",
   "name": "python3"
  },
  "language_info": {
   "codemirror_mode": {
    "name": "ipython",
    "version": 3
   },
   "file_extension": ".py",
   "mimetype": "text/x-python",
   "name": "python",
   "nbconvert_exporter": "python",
   "pygments_lexer": "ipython3",
   "version": "3.9.7"
  }
 },
 "nbformat": 4,
 "nbformat_minor": 5
}
