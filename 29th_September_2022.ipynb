{
 "cells": [
  {
   "cell_type": "markdown",
   "id": "7a0a3f1e",
   "metadata": {},
   "source": [
    "# While Loop - Continued..."
   ]
  },
  {
   "cell_type": "markdown",
   "id": "7ead3178",
   "metadata": {},
   "source": [
    "### Print all letters, excluding some, using python while loop"
   ]
  },
  {
   "cell_type": "markdown",
   "id": "9c2cd37d",
   "metadata": {},
   "source": [
    "```text\n",
    "print all letters except 'e' and 'o'\n",
    "```"
   ]
  },
  {
   "cell_type": "code",
   "execution_count": 1,
   "id": "c0f2069f",
   "metadata": {},
   "outputs": [],
   "source": [
    "word = 'Hello'"
   ]
  },
  {
   "cell_type": "code",
   "execution_count": 2,
   "id": "eba4dd71",
   "metadata": {},
   "outputs": [
    {
     "data": {
      "text/plain": [
       "'Hello'"
      ]
     },
     "execution_count": 2,
     "metadata": {},
     "output_type": "execute_result"
    }
   ],
   "source": [
    "word"
   ]
  },
  {
   "cell_type": "code",
   "execution_count": 3,
   "id": "ae55c304",
   "metadata": {},
   "outputs": [
    {
     "data": {
      "text/plain": [
       "5"
      ]
     },
     "execution_count": 3,
     "metadata": {},
     "output_type": "execute_result"
    }
   ],
   "source": [
    "len(word)"
   ]
  },
  {
   "cell_type": "code",
   "execution_count": 7,
   "id": "a028f6a5",
   "metadata": {},
   "outputs": [
    {
     "name": "stdout",
     "output_type": "stream",
     "text": [
      "Returned Letter:  H\n",
      "Returned Letter:  l\n",
      "Returned Letter:  l\n"
     ]
    }
   ],
   "source": [
    "i = 0\n",
    "while i<len(word):\n",
    "    if word[i] == 'e' or word[i] == 'o':\n",
    "        i += 1\n",
    "        continue\n",
    "    print('Returned Letter: ',word[i])\n",
    "    i += 1"
   ]
  },
  {
   "cell_type": "markdown",
   "id": "a2685a38",
   "metadata": {},
   "source": [
    "### Calculate the average of 'n' numbers using while loop. Ask user to enter the numbers. "
   ]
  },
  {
   "cell_type": "code",
   "execution_count": 11,
   "id": "ff5e3be2",
   "metadata": {},
   "outputs": [
    {
     "name": "stdout",
     "output_type": "stream",
     "text": [
      "How many numbers you want to calculate the average for? :4\n",
      "Enter the 1 number1\n",
      "Enter the 2 number2\n",
      "Enter the 3 number3\n",
      "Enter the 4 number4\n",
      "Average of entered numbers is :  2.5\n"
     ]
    }
   ],
   "source": [
    "count = int(input('How many numbers you want to calculate the average for? :'))\n",
    "sum_of_numbers = 0\n",
    "i = 0\n",
    "while count>0:\n",
    "    num = int(input('Enter the {} number'.format(i+1)))\n",
    "    i += 1\n",
    "    sum_of_numbers += num\n",
    "    count -= 1\n",
    "average = sum_of_numbers/i\n",
    "print('Average of entered numbers is : ', average)"
   ]
  },
  {
   "cell_type": "markdown",
   "id": "a809d76f",
   "metadata": {},
   "source": [
    "### Print the multiplication table of a number using while loop. The number will be entered by the user."
   ]
  },
  {
   "cell_type": "code",
   "execution_count": 13,
   "id": "44691eef",
   "metadata": {},
   "outputs": [
    {
     "name": "stdout",
     "output_type": "stream",
     "text": [
      "Enter the number to print its multiplication table : 5\n",
      "Enter the range till which you want to print the multiplication table : 20\n",
      "Multiplication table for 5 is displayed below:\n",
      "5 * 1 = 5\n",
      "5 * 2 = 10\n",
      "5 * 3 = 15\n",
      "5 * 4 = 20\n",
      "5 * 5 = 25\n",
      "5 * 6 = 30\n",
      "5 * 7 = 35\n",
      "5 * 8 = 40\n",
      "5 * 9 = 45\n",
      "5 * 10 = 50\n",
      "5 * 11 = 55\n",
      "5 * 12 = 60\n",
      "5 * 13 = 65\n",
      "5 * 14 = 70\n",
      "5 * 15 = 75\n",
      "5 * 16 = 80\n",
      "5 * 17 = 85\n",
      "5 * 18 = 90\n",
      "5 * 19 = 95\n",
      "5 * 20 = 100\n"
     ]
    }
   ],
   "source": [
    "n = int(input('Enter the number to print its multiplication table : '))\n",
    "i = 1\n",
    "# 'upto' is the range till which the multiplication table will be printed.\n",
    "upto = int(input('Enter the range till which you want to print the multiplication table : '))\n",
    "print('Multiplication table for {} is displayed below:'.format(n))\n",
    "while i<=upto:\n",
    "    mul = i*n\n",
    "    print('{} * {} = {}'.format(n, i, mul))\n",
    "    i += 1"
   ]
  },
  {
   "cell_type": "markdown",
   "id": "073f1854",
   "metadata": {},
   "source": [
    "### Reverse a number using while loop."
   ]
  },
  {
   "cell_type": "code",
   "execution_count": 17,
   "id": "57d58845",
   "metadata": {},
   "outputs": [
    {
     "name": "stdout",
     "output_type": "stream",
     "text": [
      "Enter a number to be reversed :12345\n",
      "Reversed Number : 54321\n"
     ]
    }
   ],
   "source": [
    "n = int(input('Enter a number to be reversed :'))\n",
    "rev = 0\n",
    "\n",
    "while n != 0:\n",
    "    r = n % 10\n",
    "    rev = rev * 10 + r\n",
    "    n = n // 10\n",
    "print('Reversed Number :', rev)"
   ]
  },
  {
   "cell_type": "markdown",
   "id": "655d603f",
   "metadata": {},
   "source": [
    "### find the sum of even numbers within a specified range."
   ]
  },
  {
   "cell_type": "code",
   "execution_count": 22,
   "id": "f29c53e2",
   "metadata": {},
   "outputs": [
    {
     "name": "stdout",
     "output_type": "stream",
     "text": [
      "Enter the lower bound number: 21\n",
      "Enter the upper bound number: 33\n",
      "Sum of even numbers between 21 and 33 is 162\n"
     ]
    }
   ],
   "source": [
    "sum_of_numbers = 0\n",
    "lower_bound = int(input('Enter the lower bound number: '))\n",
    "i = lower_bound\n",
    "upper_bound = int(input('Enter the upper bound number: '))\n",
    "while i <= upper_bound:\n",
    "    if i % 2 == 0:\n",
    "        sum_of_numbers += i\n",
    "    i += 1\n",
    "print('Sum of even numbers between {} and {} is {}'.format(lower_bound, upper_bound, sum_of_numbers))"
   ]
  },
  {
   "cell_type": "markdown",
   "id": "ba9c8982",
   "metadata": {},
   "source": [
    "### find the factorial of a given number using while loop"
   ]
  },
  {
   "cell_type": "markdown",
   "id": "d9e7df46",
   "metadata": {},
   "source": [
    "```text\n",
    "factorial of 5 : 1*2*3*4*5 = 120\n",
    "```"
   ]
  },
  {
   "cell_type": "code",
   "execution_count": 24,
   "id": "7d31c24b",
   "metadata": {},
   "outputs": [
    {
     "name": "stdout",
     "output_type": "stream",
     "text": [
      "Enter a number to find its factorial : 6\n",
      "Factorial of 6 is 720 \n"
     ]
    }
   ],
   "source": [
    "n = int(input('Enter a number to find its factorial : '))\n",
    "f = n\n",
    "r = 1\n",
    "\n",
    "while f != 0:\n",
    "    r *= f\n",
    "    f -= 1\n",
    "print('Factorial of {} is {} '.format(n, r))"
   ]
  },
  {
   "cell_type": "code",
   "execution_count": 25,
   "id": "b81c3599",
   "metadata": {},
   "outputs": [
    {
     "data": {
      "text/plain": [
       "0"
      ]
     },
     "execution_count": 25,
     "metadata": {},
     "output_type": "execute_result"
    }
   ],
   "source": [
    "f"
   ]
  }
 ],
 "metadata": {
  "kernelspec": {
   "display_name": "Python 3 (ipykernel)",
   "language": "python",
   "name": "python3"
  },
  "language_info": {
   "codemirror_mode": {
    "name": "ipython",
    "version": 3
   },
   "file_extension": ".py",
   "mimetype": "text/x-python",
   "name": "python",
   "nbconvert_exporter": "python",
   "pygments_lexer": "ipython3",
   "version": "3.9.7"
  }
 },
 "nbformat": 4,
 "nbformat_minor": 5
}
