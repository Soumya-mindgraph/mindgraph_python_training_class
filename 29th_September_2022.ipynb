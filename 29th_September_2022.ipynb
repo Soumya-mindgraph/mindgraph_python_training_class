{
 "cells": [
  {
   "cell_type": "markdown",
   "id": "2e11c7e7",
   "metadata": {},
   "source": [
    "# While Loop - Continued..."
   ]
  },
  {
   "cell_type": "markdown",
   "id": "55eea7c7",
   "metadata": {},
   "source": [
    "### Print all letters, excluding some, using python while loop"
   ]
  },
  {
   "cell_type": "markdown",
   "id": "7c172a99",
   "metadata": {},
   "source": [
    "```text\n",
    "print all letters except 'e' and 'o'\n",
    "```"
   ]
  },
  {
   "cell_type": "code",
   "execution_count": 1,
   "id": "a87c8db4",
   "metadata": {},
   "outputs": [],
   "source": [
    "word = 'Hello'"
   ]
  },
  {
   "cell_type": "code",
   "execution_count": 2,
   "id": "4a2536dc",
   "metadata": {},
   "outputs": [
    {
     "data": {
      "text/plain": [
       "'Hello'"
      ]
     },
     "execution_count": 2,
     "metadata": {},
     "output_type": "execute_result"
    }
   ],
   "source": [
    "word"
   ]
  },
  {
   "cell_type": "code",
   "execution_count": 3,
   "id": "0ce131a2",
   "metadata": {},
   "outputs": [
    {
     "data": {
      "text/plain": [
       "5"
      ]
     },
     "execution_count": 3,
     "metadata": {},
     "output_type": "execute_result"
    }
   ],
   "source": [
    "len(word)"
   ]
  },
  {
   "cell_type": "code",
   "execution_count": 7,
   "id": "a2337ae7",
   "metadata": {},
   "outputs": [
    {
     "name": "stdout",
     "output_type": "stream",
     "text": [
      "Returned Letter:  H\n",
      "Returned Letter:  l\n",
      "Returned Letter:  l\n"
     ]
    }
   ],
   "source": [
    "i = 0\n",
    "while i<len(word):\n",
    "    if word[i] == 'e' or word[i] == 'o':\n",
    "        i += 1\n",
    "        continue\n",
    "    print('Returned Letter: ',word[i])\n",
    "    i += 1"
   ]
  },
  {
   "cell_type": "markdown",
   "id": "932e6505",
   "metadata": {},
   "source": [
    "### Calculate the average of 'n' numbers using while loop. Ask user to enter the numbers. "
   ]
  },
  {
   "cell_type": "code",
   "execution_count": 11,
   "id": "e62bc064",
   "metadata": {},
   "outputs": [
    {
     "name": "stdout",
     "output_type": "stream",
     "text": [
      "How many numbers you want to calculate the average for? :4\n",
      "Enter the 1 number1\n",
      "Enter the 2 number2\n",
      "Enter the 3 number3\n",
      "Enter the 4 number4\n",
      "Average of entered numbers is :  2.5\n"
     ]
    }
   ],
   "source": [
    "count = int(input('How many numbers you want to calculate the average for? :'))\n",
    "sum_of_numbers = 0\n",
    "i = 0\n",
    "while count>0:\n",
    "    num = int(input('Enter the {} number'.format(i+1)))\n",
    "    i += 1\n",
    "    sum_of_numbers += num\n",
    "    count -= 1\n",
    "average = sum_of_numbers/i\n",
    "print('Average of entered numbers is : ', average)"
   ]
  },
  {
   "cell_type": "markdown",
   "id": "3e9b18a5",
   "metadata": {},
   "source": [
    "### Print the multiplication table of a number using while loop. The number will be entered by the user."
   ]
  },
  {
   "cell_type": "code",
   "execution_count": 13,
   "id": "46280342",
   "metadata": {},
   "outputs": [
    {
     "name": "stdout",
     "output_type": "stream",
     "text": [
      "Enter the number to print its multiplication table : 5\n",
      "Enter the range till which you want to print the multiplication table : 20\n",
      "Multiplication table for 5 is displayed below:\n",
      "5 * 1 = 5\n",
      "5 * 2 = 10\n",
      "5 * 3 = 15\n",
      "5 * 4 = 20\n",
      "5 * 5 = 25\n",
      "5 * 6 = 30\n",
      "5 * 7 = 35\n",
      "5 * 8 = 40\n",
      "5 * 9 = 45\n",
      "5 * 10 = 50\n",
      "5 * 11 = 55\n",
      "5 * 12 = 60\n",
      "5 * 13 = 65\n",
      "5 * 14 = 70\n",
      "5 * 15 = 75\n",
      "5 * 16 = 80\n",
      "5 * 17 = 85\n",
      "5 * 18 = 90\n",
      "5 * 19 = 95\n",
      "5 * 20 = 100\n"
     ]
    }
   ],
   "source": [
    "n = int(input('Enter the number to print its multiplication table : '))\n",
    "i = 1\n",
    "# 'upto' is the range till which the multiplication table will be printed.\n",
    "upto = int(input('Enter the range till which you want to print the multiplication table : '))\n",
    "print('Multiplication table for {} is displayed below:'.format(n))\n",
    "while i<=upto:\n",
    "    mul = i*n\n",
    "    print('{} * {} = {}'.format(n, i, mul))\n",
    "    i += 1"
   ]
  },
  {
   "cell_type": "markdown",
   "id": "91f8c848",
   "metadata": {},
   "source": [
    "### Reverse a number using while loop."
   ]
  },
  {
   "cell_type": "code",
   "execution_count": null,
   "id": "785234ad",
   "metadata": {},
   "outputs": [],
   "source": []
  },
  {
   "cell_type": "code",
   "execution_count": null,
   "id": "b5a5e49f",
   "metadata": {},
   "outputs": [],
   "source": []
  },
  {
   "cell_type": "code",
   "execution_count": null,
   "id": "10b97e8d",
   "metadata": {},
   "outputs": [],
   "source": []
  }
 ],
 "metadata": {
  "kernelspec": {
   "display_name": "Python 3 (ipykernel)",
   "language": "python",
   "name": "python3"
  },
  "language_info": {
   "codemirror_mode": {
    "name": "ipython",
    "version": 3
   },
   "file_extension": ".py",
   "mimetype": "text/x-python",
   "name": "python",
   "nbconvert_exporter": "python",
   "pygments_lexer": "ipython3",
   "version": "3.9.7"
  }
 },
 "nbformat": 4,
 "nbformat_minor": 5
}
