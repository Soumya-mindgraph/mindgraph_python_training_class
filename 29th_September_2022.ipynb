{
 "cells": [
  {
   "cell_type": "markdown",
   "id": "8109bdfc",
   "metadata": {},
   "source": [
    "# While Loop - Continued..."
   ]
  },
  {
   "cell_type": "markdown",
   "id": "3d4871c5",
   "metadata": {},
   "source": [
    "### Print all letters, excluding some, using python while loop"
   ]
  },
  {
   "cell_type": "markdown",
   "id": "5a2f7d90",
   "metadata": {},
   "source": [
    "```text\n",
    "print all letters except 'e' and 'o'\n",
    "```"
   ]
  },
  {
   "cell_type": "code",
   "execution_count": 1,
   "id": "5f7830dc",
   "metadata": {},
   "outputs": [],
   "source": [
    "word = 'Hello'"
   ]
  },
  {
   "cell_type": "code",
   "execution_count": 2,
   "id": "21ca2ed0",
   "metadata": {},
   "outputs": [
    {
     "data": {
      "text/plain": [
       "'Hello'"
      ]
     },
     "execution_count": 2,
     "metadata": {},
     "output_type": "execute_result"
    }
   ],
   "source": [
    "word"
   ]
  },
  {
   "cell_type": "code",
   "execution_count": 3,
   "id": "e55d2a86",
   "metadata": {},
   "outputs": [
    {
     "data": {
      "text/plain": [
       "5"
      ]
     },
     "execution_count": 3,
     "metadata": {},
     "output_type": "execute_result"
    }
   ],
   "source": [
    "len(word)"
   ]
  },
  {
   "cell_type": "code",
   "execution_count": 7,
   "id": "86615ec7",
   "metadata": {},
   "outputs": [
    {
     "name": "stdout",
     "output_type": "stream",
     "text": [
      "Returned Letter:  H\n",
      "Returned Letter:  l\n",
      "Returned Letter:  l\n"
     ]
    }
   ],
   "source": [
    "i = 0\n",
    "while i<len(word):\n",
    "    if word[i] == 'e' or word[i] == 'o':\n",
    "        i += 1\n",
    "        continue\n",
    "    print('Returned Letter: ',word[i])\n",
    "    i += 1"
   ]
  },
  {
   "cell_type": "markdown",
   "id": "8872109f",
   "metadata": {},
   "source": [
    "### Calculate the average of 'n' numbers using while loop. Ask user to enter the numbers. "
   ]
  },
  {
   "cell_type": "code",
   "execution_count": 11,
   "id": "48699d13",
   "metadata": {},
   "outputs": [
    {
     "name": "stdout",
     "output_type": "stream",
     "text": [
      "How many numbers you want to calculate the average for? :4\n",
      "Enter the 1 number1\n",
      "Enter the 2 number2\n",
      "Enter the 3 number3\n",
      "Enter the 4 number4\n",
      "Average of entered numbers is :  2.5\n"
     ]
    }
   ],
   "source": [
    "count = int(input('How many numbers you want to calculate the average for? :'))\n",
    "sum_of_numbers = 0\n",
    "i = 0\n",
    "while count>0:\n",
    "    num = int(input('Enter the {} number'.format(i+1)))\n",
    "    i += 1\n",
    "    sum_of_numbers += num\n",
    "    count -= 1\n",
    "average = sum_of_numbers/i\n",
    "print('Average of entered numbers is : ', average)"
   ]
  },
  {
   "cell_type": "markdown",
   "id": "4b7e75be",
   "metadata": {},
   "source": [
    "### Print the multiplication table of a number using while loop. The number will be entered by the user."
   ]
  },
  {
   "cell_type": "code",
   "execution_count": 13,
   "id": "e9ed90f3",
   "metadata": {},
   "outputs": [
    {
     "name": "stdout",
     "output_type": "stream",
     "text": [
      "Enter the number to print its multiplication table : 5\n",
      "Enter the range till which you want to print the multiplication table : 20\n",
      "Multiplication table for 5 is displayed below:\n",
      "5 * 1 = 5\n",
      "5 * 2 = 10\n",
      "5 * 3 = 15\n",
      "5 * 4 = 20\n",
      "5 * 5 = 25\n",
      "5 * 6 = 30\n",
      "5 * 7 = 35\n",
      "5 * 8 = 40\n",
      "5 * 9 = 45\n",
      "5 * 10 = 50\n",
      "5 * 11 = 55\n",
      "5 * 12 = 60\n",
      "5 * 13 = 65\n",
      "5 * 14 = 70\n",
      "5 * 15 = 75\n",
      "5 * 16 = 80\n",
      "5 * 17 = 85\n",
      "5 * 18 = 90\n",
      "5 * 19 = 95\n",
      "5 * 20 = 100\n"
     ]
    }
   ],
   "source": [
    "n = int(input('Enter the number to print its multiplication table : '))\n",
    "i = 1\n",
    "# 'upto' is the range till which the multiplication table will be printed.\n",
    "upto = int(input('Enter the range till which you want to print the multiplication table : '))\n",
    "print('Multiplication table for {} is displayed below:'.format(n))\n",
    "while i<=upto:\n",
    "    mul = i*n\n",
    "    print('{} * {} = {}'.format(n, i, mul))\n",
    "    i += 1"
   ]
  },
  {
   "cell_type": "markdown",
   "id": "d9b3f67b",
   "metadata": {},
   "source": [
    "### Reverse a number using while loop."
   ]
  },
  {
   "cell_type": "code",
   "execution_count": 17,
   "id": "039d7c01",
   "metadata": {},
   "outputs": [
    {
     "name": "stdout",
     "output_type": "stream",
     "text": [
      "Enter a number to be reversed :12345\n",
      "Reversed Number : 54321\n"
     ]
    }
   ],
   "source": [
    "n = int(input('Enter a number to be reversed :'))\n",
    "rev = 0\n",
    "\n",
    "while n != 0:\n",
    "    r = n % 10\n",
    "    rev = rev * 10 + r\n",
    "    n = n // 10\n",
    "print('Reversed Number :', rev)"
   ]
  },
  {
   "cell_type": "markdown",
   "id": "48110841",
   "metadata": {},
   "source": [
    "### find the sum of even numbers within a specified range."
   ]
  },
  {
   "cell_type": "code",
   "execution_count": 22,
   "id": "94b5c951",
   "metadata": {},
   "outputs": [
    {
     "name": "stdout",
     "output_type": "stream",
     "text": [
      "Enter the lower bound number: 21\n",
      "Enter the upper bound number: 33\n",
      "Sum of even numbers between 21 and 33 is 162\n"
     ]
    }
   ],
   "source": [
    "sum_of_numbers = 0\n",
    "lower_bound = int(input('Enter the lower bound number: '))\n",
    "i = lower_bound\n",
    "upper_bound = int(input('Enter the upper bound number: '))\n",
    "while i <= upper_bound:\n",
    "    if i % 2 == 0:\n",
    "        sum_of_numbers += i\n",
    "    i += 1\n",
    "print('Sum of even numbers between {} and {} is {}'.format(lower_bound, upper_bound, sum_of_numbers))"
   ]
  },
  {
   "cell_type": "markdown",
   "id": "81567aa5",
   "metadata": {},
   "source": [
    "### find the factorial of a given number using while loop"
   ]
  },
  {
   "cell_type": "markdown",
   "id": "90020bf4",
   "metadata": {},
   "source": [
    "```text\n",
    "factorial of 5 : 1*2*3*4*5 = 120\n",
    "```"
   ]
  },
  {
   "cell_type": "code",
   "execution_count": 24,
   "id": "81d1fab6",
   "metadata": {},
   "outputs": [
    {
     "name": "stdout",
     "output_type": "stream",
     "text": [
      "Enter a number to find its factorial : 6\n",
      "Factorial of 6 is 720 \n"
     ]
    }
   ],
   "source": [
    "n = int(input('Enter a number to find its factorial : '))\n",
    "f = n\n",
    "r = 1\n",
    "\n",
    "while f != 0:\n",
    "    r *= f\n",
    "    f -= 1\n",
    "print('Factorial of {} is {} '.format(n, r))"
   ]
  },
  {
   "cell_type": "code",
   "execution_count": 25,
   "id": "952ee491",
   "metadata": {},
   "outputs": [
    {
     "data": {
      "text/plain": [
       "0"
      ]
     },
     "execution_count": 25,
     "metadata": {},
     "output_type": "execute_result"
    }
   ],
   "source": [
    "f"
   ]
  },
  {
   "cell_type": "markdown",
   "id": "68ecd857",
   "metadata": {},
   "source": [
    "# try, except, else, finally"
   ]
  },
  {
   "cell_type": "code",
   "execution_count": 26,
   "id": "ba3fec27",
   "metadata": {
    "scrolled": true
   },
   "outputs": [
    {
     "ename": "NameError",
     "evalue": "name 'huvfdkvdkvcdakvbkd' is not defined",
     "output_type": "error",
     "traceback": [
      "\u001b[1;31m---------------------------------------------------------------------------\u001b[0m",
      "\u001b[1;31mNameError\u001b[0m                                 Traceback (most recent call last)",
      "\u001b[1;32m~\\AppData\\Local\\Temp/ipykernel_65176/2689932297.py\u001b[0m in \u001b[0;36m<module>\u001b[1;34m\u001b[0m\n\u001b[1;32m----> 1\u001b[1;33m \u001b[0mhuvfdkvdkvcdakvbkd\u001b[0m\u001b[1;33m\u001b[0m\u001b[1;33m\u001b[0m\u001b[0m\n\u001b[0m",
      "\u001b[1;31mNameError\u001b[0m: name 'huvfdkvdkvcdakvbkd' is not defined"
     ]
    }
   ],
   "source": [
    "huvfdkvdkvcdakvbkd # not encolsed between 'single' or \"double\" quotes"
   ]
  },
  {
   "cell_type": "markdown",
   "id": "1bd5a13a",
   "metadata": {},
   "source": [
    "```text\n",
    "syntactically this statement is correct, but there is a runtime error. Infinity is not present in core python. Incase of NumPy it will give \"infy\".\n",
    "```"
   ]
  },
  {
   "cell_type": "code",
   "execution_count": 29,
   "id": "c79c2580",
   "metadata": {},
   "outputs": [
    {
     "ename": "ZeroDivisionError",
     "evalue": "division by zero",
     "output_type": "error",
     "traceback": [
      "\u001b[1;31m---------------------------------------------------------------------------\u001b[0m",
      "\u001b[1;31mZeroDivisionError\u001b[0m                         Traceback (most recent call last)",
      "\u001b[1;32m~\\AppData\\Local\\Temp/ipykernel_65176/650850197.py\u001b[0m in \u001b[0;36m<module>\u001b[1;34m\u001b[0m\n\u001b[1;32m----> 1\u001b[1;33m \u001b[1;36m1\u001b[0m\u001b[1;33m/\u001b[0m\u001b[1;36m0\u001b[0m\u001b[1;33m\u001b[0m\u001b[1;33m\u001b[0m\u001b[0m\n\u001b[0m",
      "\u001b[1;31mZeroDivisionError\u001b[0m: division by zero"
     ]
    }
   ],
   "source": [
    "1/0 "
   ]
  },
  {
   "cell_type": "code",
   "execution_count": 30,
   "id": "f6a9314e",
   "metadata": {},
   "outputs": [
    {
     "ename": "ZeroDivisionError",
     "evalue": "division by zero",
     "output_type": "error",
     "traceback": [
      "\u001b[1;31m---------------------------------------------------------------------------\u001b[0m",
      "\u001b[1;31mZeroDivisionError\u001b[0m                         Traceback (most recent call last)",
      "\u001b[1;32m~\\AppData\\Local\\Temp/ipykernel_65176/3039682687.py\u001b[0m in \u001b[0;36m<module>\u001b[1;34m\u001b[0m\n\u001b[1;32m----> 1\u001b[1;33m \u001b[1;36m1\u001b[0m\u001b[1;33m/\u001b[0m\u001b[1;36m0\u001b[0m\u001b[1;33m\u001b[0m\u001b[1;33m\u001b[0m\u001b[0m\n\u001b[0m\u001b[0;32m      2\u001b[0m \u001b[0mprint\u001b[0m\u001b[1;33m(\u001b[0m\u001b[1;34m'this is my program'\u001b[0m\u001b[1;33m)\u001b[0m\u001b[1;33m\u001b[0m\u001b[1;33m\u001b[0m\u001b[0m\n",
      "\u001b[1;31mZeroDivisionError\u001b[0m: division by zero"
     ]
    }
   ],
   "source": [
    "1/0\n",
    "print('this is my program') # correct, but did not execute due to the error in the above line"
   ]
  },
  {
   "cell_type": "markdown",
   "id": "0cb3845c",
   "metadata": {},
   "source": [
    "Article on Exception Handling : https://en.wikipedia.org/wiki/Exception_handling"
   ]
  },
  {
   "cell_type": "markdown",
   "id": "52962efe",
   "metadata": {},
   "source": [
    "* e is the alias name\n",
    "* try throws the error\n",
    "* except block handles the error"
   ]
  },
  {
   "cell_type": "code",
   "execution_count": 33,
   "id": "a87ad89e",
   "metadata": {},
   "outputs": [
    {
     "name": "stdout",
     "output_type": "stream",
     "text": [
      "division by zero\n",
      "this is my program\n"
     ]
    }
   ],
   "source": [
    "try:\n",
    "    1/0\n",
    "except Exception as e:\n",
    "    print(e)\n",
    "print('this is my program')"
   ]
  },
  {
   "cell_type": "code",
   "execution_count": 34,
   "id": "dbffc0d2",
   "metadata": {},
   "outputs": [
    {
     "name": "stdout",
     "output_type": "stream",
     "text": [
      "this is my program\n"
     ]
    }
   ],
   "source": [
    "try:\n",
    "    1/0\n",
    "except Exception as e:\n",
    "    pass\n",
    "print('this is my program')"
   ]
  },
  {
   "cell_type": "code",
   "execution_count": 35,
   "id": "fcc67403",
   "metadata": {},
   "outputs": [
    {
     "name": "stdout",
     "output_type": "stream",
     "text": [
      "division by zero\n",
      "this is my program\n"
     ]
    }
   ],
   "source": [
    "try:\n",
    "    1/0\n",
    "except Exception as mindgraph:\n",
    "    print(mindgraph)\n",
    "print('this is my program')"
   ]
  },
  {
   "cell_type": "code",
   "execution_count": 54,
   "id": "e6c69e6e",
   "metadata": {},
   "outputs": [
    {
     "name": "stdout",
     "output_type": "stream",
     "text": [
      "Iteration number 1\n",
      "6\n",
      "Iteration number 2\n",
      "object of type 'complex' has no len()\n",
      "9\n",
      "Iteration number 3\n",
      "9\n"
     ]
    }
   ],
   "source": [
    "i = 0\n",
    "l = ['shubha', 7 + 8j, 'Mindgraph']\n",
    "while i<len(l):\n",
    "    try:\n",
    "        print('Iteration number {}'.format(i+1))\n",
    "        print(len(l[i]))\n",
    "        i += 1\n",
    "    except Exception as e:\n",
    "        print(e)\n",
    "        i += 1\n",
    "        print(len(l[i]))"
   ]
  }
 ],
 "metadata": {
  "kernelspec": {
   "display_name": "Python 3 (ipykernel)",
   "language": "python",
   "name": "python3"
  },
  "language_info": {
   "codemirror_mode": {
    "name": "ipython",
    "version": 3
   },
   "file_extension": ".py",
   "mimetype": "text/x-python",
   "name": "python",
   "nbconvert_exporter": "python",
   "pygments_lexer": "ipython3",
   "version": "3.9.7"
  }
 },
 "nbformat": 4,
 "nbformat_minor": 5
}
