{
 "cells": [
  {
   "cell_type": "markdown",
   "id": "f8a77188",
   "metadata": {},
   "source": [
    "### Tuples"
   ]
  },
  {
   "cell_type": "markdown",
   "id": "c1e508aa",
   "metadata": {},
   "source": [
    "* Tuples are immutable entity\n",
    "* Lists are mutable entity"
   ]
  },
  {
   "cell_type": "code",
   "execution_count": 6,
   "id": "ad2fb272",
   "metadata": {},
   "outputs": [],
   "source": [
    "t = (1, 2, 2, 2, 2, 3, 4, 5, 6, 7, 'Shubha', 'Mindgraph', 'ByteIQ')"
   ]
  },
  {
   "cell_type": "code",
   "execution_count": 2,
   "id": "632dcee6",
   "metadata": {},
   "outputs": [
    {
     "data": {
      "text/plain": [
       "1"
      ]
     },
     "execution_count": 2,
     "metadata": {},
     "output_type": "execute_result"
    }
   ],
   "source": [
    "t[0]"
   ]
  },
  {
   "cell_type": "code",
   "execution_count": 8,
   "id": "127de1d4",
   "metadata": {},
   "outputs": [
    {
     "data": {
      "text/plain": [
       "(1, 2, 2, 2, 2, 3, 4)"
      ]
     },
     "execution_count": 8,
     "metadata": {},
     "output_type": "execute_result"
    }
   ],
   "source": [
    "t[0:7]"
   ]
  },
  {
   "cell_type": "markdown",
   "id": "040f03dc",
   "metadata": {},
   "source": [
    "### count()"
   ]
  },
  {
   "cell_type": "code",
   "execution_count": 10,
   "id": "4d1d9465",
   "metadata": {},
   "outputs": [
    {
     "data": {
      "text/plain": [
       "4"
      ]
     },
     "execution_count": 10,
     "metadata": {},
     "output_type": "execute_result"
    }
   ],
   "source": [
    "t.count(2) # count function will calculate the number of occurence of an element in list, tuple, or String."
   ]
  },
  {
   "cell_type": "code",
   "execution_count": 11,
   "id": "72d9ce47",
   "metadata": {},
   "outputs": [],
   "source": [
    "l = [1, 2, 3, 4, 4] # list"
   ]
  },
  {
   "cell_type": "code",
   "execution_count": 12,
   "id": "857dbaee",
   "metadata": {},
   "outputs": [
    {
     "data": {
      "text/plain": [
       "2"
      ]
     },
     "execution_count": 12,
     "metadata": {},
     "output_type": "execute_result"
    }
   ],
   "source": [
    "l.count(4)"
   ]
  },
  {
   "cell_type": "code",
   "execution_count": 13,
   "id": "9873f240",
   "metadata": {},
   "outputs": [],
   "source": [
    "string = \"Bhubaneswar\""
   ]
  },
  {
   "cell_type": "code",
   "execution_count": 14,
   "id": "4e9352f8",
   "metadata": {},
   "outputs": [
    {
     "data": {
      "text/plain": [
       "2"
      ]
     },
     "execution_count": 14,
     "metadata": {},
     "output_type": "execute_result"
    }
   ],
   "source": [
    "string.count('a')"
   ]
  },
  {
   "cell_type": "code",
   "execution_count": 15,
   "id": "37a06460",
   "metadata": {},
   "outputs": [
    {
     "data": {
      "text/plain": [
       "(1, 2, 2, 2, 2, 3, 4, 5, 6, 7, 'Shubha', 'Mindgraph', 'ByteIQ')"
      ]
     },
     "execution_count": 15,
     "metadata": {},
     "output_type": "execute_result"
    }
   ],
   "source": [
    "t"
   ]
  },
  {
   "cell_type": "code",
   "execution_count": 16,
   "id": "a1e02ea9",
   "metadata": {},
   "outputs": [
    {
     "data": {
      "text/plain": [
       "1"
      ]
     },
     "execution_count": 16,
     "metadata": {},
     "output_type": "execute_result"
    }
   ],
   "source": [
    "t.count('Mindgraph')"
   ]
  },
  {
   "cell_type": "code",
   "execution_count": 17,
   "id": "07bfb4f1",
   "metadata": {},
   "outputs": [
    {
     "data": {
      "text/plain": [
       "0"
      ]
     },
     "execution_count": 17,
     "metadata": {},
     "output_type": "execute_result"
    }
   ],
   "source": [
    "t.count('Vineet')"
   ]
  },
  {
   "cell_type": "code",
   "execution_count": 18,
   "id": "c36c9ef5",
   "metadata": {},
   "outputs": [
    {
     "data": {
      "text/plain": [
       "2"
      ]
     },
     "execution_count": 18,
     "metadata": {},
     "output_type": "execute_result"
    }
   ],
   "source": [
    "'Vineet'.count('e')"
   ]
  },
  {
   "cell_type": "code",
   "execution_count": 19,
   "id": "b6206a65",
   "metadata": {},
   "outputs": [
    {
     "data": {
      "text/plain": [
       "(1, 2, 2, 2, 2, 3, 4, 5, 6, 7, 'Shubha', 'Mindgraph', 'ByteIQ')"
      ]
     },
     "execution_count": 19,
     "metadata": {},
     "output_type": "execute_result"
    }
   ],
   "source": [
    "t"
   ]
  },
  {
   "cell_type": "markdown",
   "id": "637f42fc",
   "metadata": {},
   "source": [
    "### index()"
   ]
  },
  {
   "cell_type": "code",
   "execution_count": 20,
   "id": "7b0712df",
   "metadata": {},
   "outputs": [
    {
     "data": {
      "text/plain": [
       "10"
      ]
     },
     "execution_count": 20,
     "metadata": {},
     "output_type": "execute_result"
    }
   ],
   "source": [
    "t.index('Shubha')"
   ]
  },
  {
   "cell_type": "code",
   "execution_count": 21,
   "id": "fc6be455",
   "metadata": {},
   "outputs": [
    {
     "data": {
      "text/plain": [
       "0"
      ]
     },
     "execution_count": 21,
     "metadata": {},
     "output_type": "execute_result"
    }
   ],
   "source": [
    "t.index(1)"
   ]
  },
  {
   "cell_type": "code",
   "execution_count": 22,
   "id": "81d03ce5",
   "metadata": {},
   "outputs": [
    {
     "data": {
      "text/plain": [
       "1"
      ]
     },
     "execution_count": 22,
     "metadata": {},
     "output_type": "execute_result"
    }
   ],
   "source": [
    "t.index(2) # will display the position of first occurence of the element"
   ]
  },
  {
   "cell_type": "code",
   "execution_count": 23,
   "id": "a1c030d3",
   "metadata": {},
   "outputs": [
    {
     "data": {
      "text/plain": [
       "[1, 2, 3, 4, 4]"
      ]
     },
     "execution_count": 23,
     "metadata": {},
     "output_type": "execute_result"
    }
   ],
   "source": [
    "l"
   ]
  },
  {
   "cell_type": "code",
   "execution_count": 24,
   "id": "fd986b4b",
   "metadata": {},
   "outputs": [
    {
     "data": {
      "text/plain": [
       "2"
      ]
     },
     "execution_count": 24,
     "metadata": {},
     "output_type": "execute_result"
    }
   ],
   "source": [
    "l.index(3) # index function works for list"
   ]
  },
  {
   "cell_type": "code",
   "execution_count": 25,
   "id": "c44b4d3d",
   "metadata": {},
   "outputs": [],
   "source": [
    "test_set = {1, 2, 3, 4, 5, 6}"
   ]
  },
  {
   "cell_type": "code",
   "execution_count": 26,
   "id": "c2003cdf",
   "metadata": {},
   "outputs": [
    {
     "ename": "TypeError",
     "evalue": "'set' object is not subscriptable",
     "output_type": "error",
     "traceback": [
      "\u001b[1;31m---------------------------------------------------------------------------\u001b[0m",
      "\u001b[1;31mTypeError\u001b[0m                                 Traceback (most recent call last)",
      "\u001b[1;32m~\\AppData\\Local\\Temp/ipykernel_6300/1846114615.py\u001b[0m in \u001b[0;36m<module>\u001b[1;34m\u001b[0m\n\u001b[1;32m----> 1\u001b[1;33m \u001b[0mtest_set\u001b[0m\u001b[1;33m[\u001b[0m\u001b[1;36m3\u001b[0m\u001b[1;33m]\u001b[0m\u001b[1;33m\u001b[0m\u001b[1;33m\u001b[0m\u001b[0m\n\u001b[0m",
      "\u001b[1;31mTypeError\u001b[0m: 'set' object is not subscriptable"
     ]
    }
   ],
   "source": [
    "test_set[3] # indexing not possible in set, so index() function won't work with set."
   ]
  },
  {
   "cell_type": "code",
   "execution_count": 27,
   "id": "acf4139c",
   "metadata": {},
   "outputs": [
    {
     "ename": "AttributeError",
     "evalue": "'set' object has no attribute 'index'",
     "output_type": "error",
     "traceback": [
      "\u001b[1;31m---------------------------------------------------------------------------\u001b[0m",
      "\u001b[1;31mAttributeError\u001b[0m                            Traceback (most recent call last)",
      "\u001b[1;32m~\\AppData\\Local\\Temp/ipykernel_6300/242590836.py\u001b[0m in \u001b[0;36m<module>\u001b[1;34m\u001b[0m\n\u001b[1;32m----> 1\u001b[1;33m \u001b[0mtest_set\u001b[0m\u001b[1;33m.\u001b[0m\u001b[0mindex\u001b[0m\u001b[1;33m(\u001b[0m\u001b[1;36m1\u001b[0m\u001b[1;33m)\u001b[0m\u001b[1;33m\u001b[0m\u001b[1;33m\u001b[0m\u001b[0m\n\u001b[0m",
      "\u001b[1;31mAttributeError\u001b[0m: 'set' object has no attribute 'index'"
     ]
    }
   ],
   "source": [
    "test_set.index(1) # index() function won't work with set."
   ]
  },
  {
   "cell_type": "markdown",
   "id": "9d639aa0",
   "metadata": {},
   "source": [
    "### del()"
   ]
  },
  {
   "cell_type": "code",
   "execution_count": 28,
   "id": "b5aa734b",
   "metadata": {},
   "outputs": [
    {
     "data": {
      "text/plain": [
       "(1, 2, 2, 2, 2, 3, 4, 5, 6, 7, 'Shubha', 'Mindgraph', 'ByteIQ')"
      ]
     },
     "execution_count": 28,
     "metadata": {},
     "output_type": "execute_result"
    }
   ],
   "source": [
    "t"
   ]
  },
  {
   "cell_type": "code",
   "execution_count": 29,
   "id": "b40b2359",
   "metadata": {},
   "outputs": [
    {
     "data": {
      "text/plain": [
       "[1, 2, 3, 4, 4]"
      ]
     },
     "execution_count": 29,
     "metadata": {},
     "output_type": "execute_result"
    }
   ],
   "source": [
    "l"
   ]
  },
  {
   "cell_type": "code",
   "execution_count": 30,
   "id": "78b72855",
   "metadata": {},
   "outputs": [
    {
     "data": {
      "text/plain": [
       "'Bhubaneswar'"
      ]
     },
     "execution_count": 30,
     "metadata": {},
     "output_type": "execute_result"
    }
   ],
   "source": [
    "string"
   ]
  },
  {
   "cell_type": "code",
   "execution_count": 41,
   "id": "a1722897",
   "metadata": {},
   "outputs": [
    {
     "data": {
      "text/plain": [
       "{1, 2, 3, 4, 5, 6}"
      ]
     },
     "execution_count": 41,
     "metadata": {},
     "output_type": "execute_result"
    }
   ],
   "source": [
    "test_set"
   ]
  },
  {
   "cell_type": "code",
   "execution_count": 34,
   "id": "955b0852",
   "metadata": {},
   "outputs": [],
   "source": [
    "del(t) # it will delete the tuple"
   ]
  },
  {
   "cell_type": "code",
   "execution_count": 32,
   "id": "26b0f963",
   "metadata": {},
   "outputs": [
    {
     "ename": "NameError",
     "evalue": "name 't' is not defined",
     "output_type": "error",
     "traceback": [
      "\u001b[1;31m---------------------------------------------------------------------------\u001b[0m",
      "\u001b[1;31mNameError\u001b[0m                                 Traceback (most recent call last)",
      "\u001b[1;32m~\\AppData\\Local\\Temp/ipykernel_6300/3790515489.py\u001b[0m in \u001b[0;36m<module>\u001b[1;34m\u001b[0m\n\u001b[1;32m----> 1\u001b[1;33m \u001b[0mt\u001b[0m\u001b[1;33m\u001b[0m\u001b[1;33m\u001b[0m\u001b[0m\n\u001b[0m",
      "\u001b[1;31mNameError\u001b[0m: name 't' is not defined"
     ]
    }
   ],
   "source": [
    "t  # tuple got deleted, it will throw error - name 't' is not defined"
   ]
  },
  {
   "cell_type": "code",
   "execution_count": 35,
   "id": "8b07d973",
   "metadata": {},
   "outputs": [],
   "source": [
    "del(l)  # it will delete the list"
   ]
  },
  {
   "cell_type": "code",
   "execution_count": 36,
   "id": "f57c9d8c",
   "metadata": {},
   "outputs": [
    {
     "ename": "NameError",
     "evalue": "name 'l' is not defined",
     "output_type": "error",
     "traceback": [
      "\u001b[1;31m---------------------------------------------------------------------------\u001b[0m",
      "\u001b[1;31mNameError\u001b[0m                                 Traceback (most recent call last)",
      "\u001b[1;32m~\\AppData\\Local\\Temp/ipykernel_6300/3723490112.py\u001b[0m in \u001b[0;36m<module>\u001b[1;34m\u001b[0m\n\u001b[1;32m----> 1\u001b[1;33m \u001b[0ml\u001b[0m\u001b[1;33m\u001b[0m\u001b[1;33m\u001b[0m\u001b[0m\n\u001b[0m",
      "\u001b[1;31mNameError\u001b[0m: name 'l' is not defined"
     ]
    }
   ],
   "source": [
    "l # list got deleted, it will throw error -  name 'l' is not defined"
   ]
  },
  {
   "cell_type": "code",
   "execution_count": 37,
   "id": "a59bc609",
   "metadata": {},
   "outputs": [],
   "source": [
    "del(string) # it will delete the value present in string"
   ]
  },
  {
   "cell_type": "code",
   "execution_count": 38,
   "id": "e79c57ff",
   "metadata": {},
   "outputs": [
    {
     "ename": "NameError",
     "evalue": "name 'string' is not defined",
     "output_type": "error",
     "traceback": [
      "\u001b[1;31m---------------------------------------------------------------------------\u001b[0m",
      "\u001b[1;31mNameError\u001b[0m                                 Traceback (most recent call last)",
      "\u001b[1;32m~\\AppData\\Local\\Temp/ipykernel_6300/41168278.py\u001b[0m in \u001b[0;36m<module>\u001b[1;34m\u001b[0m\n\u001b[1;32m----> 1\u001b[1;33m \u001b[0mstring\u001b[0m\u001b[1;33m\u001b[0m\u001b[1;33m\u001b[0m\u001b[0m\n\u001b[0m",
      "\u001b[1;31mNameError\u001b[0m: name 'string' is not defined"
     ]
    }
   ],
   "source": [
    "string # string got deleted, it will throw error - name 'string' is not defined"
   ]
  },
  {
   "cell_type": "code",
   "execution_count": 42,
   "id": "5fd281fa",
   "metadata": {},
   "outputs": [],
   "source": [
    "del(test_set) # it will delete set"
   ]
  },
  {
   "cell_type": "code",
   "execution_count": 43,
   "id": "c164e657",
   "metadata": {},
   "outputs": [
    {
     "ename": "NameError",
     "evalue": "name 'test_set' is not defined",
     "output_type": "error",
     "traceback": [
      "\u001b[1;31m---------------------------------------------------------------------------\u001b[0m",
      "\u001b[1;31mNameError\u001b[0m                                 Traceback (most recent call last)",
      "\u001b[1;32m~\\AppData\\Local\\Temp/ipykernel_6300/3639171774.py\u001b[0m in \u001b[0;36m<module>\u001b[1;34m\u001b[0m\n\u001b[1;32m----> 1\u001b[1;33m \u001b[0mtest_set\u001b[0m\u001b[1;33m\u001b[0m\u001b[1;33m\u001b[0m\u001b[0m\n\u001b[0m",
      "\u001b[1;31mNameError\u001b[0m: name 'test_set' is not defined"
     ]
    }
   ],
   "source": [
    "test_set # set got deleted, it will throw error - name 'test_set' is not defined"
   ]
  },
  {
   "cell_type": "markdown",
   "id": "3bb17e45",
   "metadata": {},
   "source": [
    "### Sets"
   ]
  },
  {
   "cell_type": "code",
   "execution_count": 44,
   "id": "4c60ec3c",
   "metadata": {},
   "outputs": [
    {
     "data": {
      "text/plain": [
       "set()"
      ]
     },
     "execution_count": 44,
     "metadata": {},
     "output_type": "execute_result"
    }
   ],
   "source": [
    "set()"
   ]
  },
  {
   "cell_type": "code",
   "execution_count": 45,
   "id": "40959092",
   "metadata": {},
   "outputs": [],
   "source": [
    "s = set()"
   ]
  },
  {
   "cell_type": "code",
   "execution_count": 46,
   "id": "19ce8ca1",
   "metadata": {},
   "outputs": [
    {
     "data": {
      "text/plain": [
       "set"
      ]
     },
     "execution_count": 46,
     "metadata": {},
     "output_type": "execute_result"
    }
   ],
   "source": [
    "type(s)"
   ]
  },
  {
   "cell_type": "code",
   "execution_count": 47,
   "id": "8691a962",
   "metadata": {},
   "outputs": [
    {
     "data": {
      "text/plain": [
       "set()"
      ]
     },
     "execution_count": 47,
     "metadata": {},
     "output_type": "execute_result"
    }
   ],
   "source": [
    "s"
   ]
  },
  {
   "cell_type": "markdown",
   "id": "ef39d23f",
   "metadata": {},
   "source": [
    "### add()"
   ]
  },
  {
   "cell_type": "code",
   "execution_count": 48,
   "id": "eacc4a38",
   "metadata": {},
   "outputs": [],
   "source": [
    "s.add(2)"
   ]
  },
  {
   "cell_type": "code",
   "execution_count": 49,
   "id": "9b343f62",
   "metadata": {},
   "outputs": [
    {
     "data": {
      "text/plain": [
       "{2}"
      ]
     },
     "execution_count": 49,
     "metadata": {},
     "output_type": "execute_result"
    }
   ],
   "source": [
    "s"
   ]
  },
  {
   "cell_type": "code",
   "execution_count": 50,
   "id": "afb77292",
   "metadata": {},
   "outputs": [],
   "source": [
    "s.add(3)"
   ]
  },
  {
   "cell_type": "code",
   "execution_count": 51,
   "id": "c256392f",
   "metadata": {},
   "outputs": [
    {
     "data": {
      "text/plain": [
       "{2, 3}"
      ]
     },
     "execution_count": 51,
     "metadata": {},
     "output_type": "execute_result"
    }
   ],
   "source": [
    "s"
   ]
  },
  {
   "cell_type": "code",
   "execution_count": 52,
   "id": "93fcd4cd",
   "metadata": {},
   "outputs": [],
   "source": [
    "s.add('Mindgraph')"
   ]
  },
  {
   "cell_type": "code",
   "execution_count": 53,
   "id": "68caae58",
   "metadata": {},
   "outputs": [
    {
     "data": {
      "text/plain": [
       "{2, 3, 'Mindgraph'}"
      ]
     },
     "execution_count": 53,
     "metadata": {},
     "output_type": "execute_result"
    }
   ],
   "source": [
    "s"
   ]
  },
  {
   "cell_type": "code",
   "execution_count": 56,
   "id": "b30286cf",
   "metadata": {},
   "outputs": [
    {
     "data": {
      "text/plain": [
       "set"
      ]
     },
     "execution_count": 56,
     "metadata": {},
     "output_type": "execute_result"
    }
   ],
   "source": [
    "type(s)"
   ]
  },
  {
   "cell_type": "code",
   "execution_count": 57,
   "id": "7e98ac70",
   "metadata": {},
   "outputs": [],
   "source": [
    "s.add('ByteIQ')"
   ]
  },
  {
   "cell_type": "code",
   "execution_count": 59,
   "id": "86469077",
   "metadata": {},
   "outputs": [],
   "source": [
    "s.add('Shubha')"
   ]
  },
  {
   "cell_type": "code",
   "execution_count": 60,
   "id": "cfe51d87",
   "metadata": {},
   "outputs": [
    {
     "data": {
      "text/plain": [
       "{2, 3, 'ByteIQ', 'Mindgraph', 'Shubha'}"
      ]
     },
     "execution_count": 60,
     "metadata": {},
     "output_type": "execute_result"
    }
   ],
   "source": [
    "s"
   ]
  },
  {
   "cell_type": "code",
   "execution_count": 64,
   "id": "cb43ec0b",
   "metadata": {},
   "outputs": [
    {
     "data": {
      "text/plain": [
       "6"
      ]
     },
     "execution_count": 64,
     "metadata": {},
     "output_type": "execute_result"
    }
   ],
   "source": [
    "len(s)"
   ]
  },
  {
   "cell_type": "code",
   "execution_count": 54,
   "id": "af5aca88",
   "metadata": {},
   "outputs": [
    {
     "ename": "AttributeError",
     "evalue": "'NoneType' object has no attribute 'add'",
     "output_type": "error",
     "traceback": [
      "\u001b[1;31m---------------------------------------------------------------------------\u001b[0m",
      "\u001b[1;31mAttributeError\u001b[0m                            Traceback (most recent call last)",
      "\u001b[1;32m~\\AppData\\Local\\Temp/ipykernel_6300/1840314704.py\u001b[0m in \u001b[0;36m<module>\u001b[1;34m\u001b[0m\n\u001b[1;32m----> 1\u001b[1;33m \u001b[0ms\u001b[0m\u001b[1;33m.\u001b[0m\u001b[0madd\u001b[0m\u001b[1;33m(\u001b[0m\u001b[1;34m'ByteIQ'\u001b[0m\u001b[1;33m)\u001b[0m\u001b[1;33m.\u001b[0m\u001b[0madd\u001b[0m\u001b[1;33m(\u001b[0m\u001b[1;34m'Shubha'\u001b[0m\u001b[1;33m)\u001b[0m\u001b[1;33m\u001b[0m\u001b[1;33m\u001b[0m\u001b[0m\n\u001b[0m",
      "\u001b[1;31mAttributeError\u001b[0m: 'NoneType' object has no attribute 'add'"
     ]
    }
   ],
   "source": [
    "s.add('ByteIQ').add('Shubha') # method chaining is not available in set"
   ]
  },
  {
   "cell_type": "markdown",
   "id": "48b37895",
   "metadata": {},
   "source": [
    "* NoneType in Python is a data type that simply shows that an object has no value/has a value of None"
   ]
  },
  {
   "cell_type": "code",
   "execution_count": 65,
   "id": "07045c6e",
   "metadata": {},
   "outputs": [
    {
     "data": {
      "text/plain": [
       "{2, 3, 'ByteIQ', 'Mindgraph', 'Shubha', 'Soumya'}"
      ]
     },
     "execution_count": 65,
     "metadata": {},
     "output_type": "execute_result"
    }
   ],
   "source": [
    "s"
   ]
  },
  {
   "cell_type": "code",
   "execution_count": 66,
   "id": "268d0b1c",
   "metadata": {},
   "outputs": [],
   "source": [
    "s.add('mindgraph')"
   ]
  },
  {
   "cell_type": "code",
   "execution_count": 67,
   "id": "181be148",
   "metadata": {},
   "outputs": [
    {
     "data": {
      "text/plain": [
       "{2, 3, 'ByteIQ', 'Mindgraph', 'Shubha', 'Soumya', 'mindgraph'}"
      ]
     },
     "execution_count": 67,
     "metadata": {},
     "output_type": "execute_result"
    }
   ],
   "source": [
    "s # sets are case sensitive"
   ]
  },
  {
   "cell_type": "code",
   "execution_count": 70,
   "id": "667f18ba",
   "metadata": {},
   "outputs": [],
   "source": [
    "s.add(2) # it will throw no error, but there will be no change in the set"
   ]
  },
  {
   "cell_type": "code",
   "execution_count": 71,
   "id": "8ca09c35",
   "metadata": {},
   "outputs": [
    {
     "data": {
      "text/plain": [
       "{2, 3, 'ByteIQ', 'Mindgraph', 'Shubha', 'Soumya', 'mindgraph'}"
      ]
     },
     "execution_count": 71,
     "metadata": {},
     "output_type": "execute_result"
    }
   ],
   "source": [
    "s"
   ]
  },
  {
   "cell_type": "code",
   "execution_count": 68,
   "id": "9df009fc",
   "metadata": {},
   "outputs": [],
   "source": [
    "l = [2, 3, 4, 5, 5, 7, 8, 9, 8, 9]"
   ]
  },
  {
   "cell_type": "markdown",
   "id": "bfc79c27",
   "metadata": {},
   "source": [
    "### removing duplicates from a list"
   ]
  },
  {
   "cell_type": "code",
   "execution_count": 69,
   "id": "189d3a17",
   "metadata": {},
   "outputs": [
    {
     "data": {
      "text/plain": [
       "{2, 3, 4, 5, 7, 8, 9}"
      ]
     },
     "execution_count": 69,
     "metadata": {},
     "output_type": "execute_result"
    }
   ],
   "source": [
    "set(l) # explicit type conversion which is know as type casting"
   ]
  },
  {
   "cell_type": "code",
   "execution_count": 72,
   "id": "f0eb5c36",
   "metadata": {},
   "outputs": [],
   "source": [
    "l = [1, 2, 3, 4, 5, 6, 7, 7, [1, 2, 3, 4, 5]]"
   ]
  },
  {
   "cell_type": "code",
   "execution_count": 73,
   "id": "0d1c8fcf",
   "metadata": {},
   "outputs": [
    {
     "data": {
      "text/plain": [
       "list"
      ]
     },
     "execution_count": 73,
     "metadata": {},
     "output_type": "execute_result"
    }
   ],
   "source": [
    "type(l)"
   ]
  },
  {
   "cell_type": "code",
   "execution_count": 74,
   "id": "a9eba4c7",
   "metadata": {},
   "outputs": [
    {
     "data": {
      "text/plain": [
       "[1, 2, 3, 4, 5]"
      ]
     },
     "execution_count": 74,
     "metadata": {},
     "output_type": "execute_result"
    }
   ],
   "source": [
    "l[-1]"
   ]
  },
  {
   "cell_type": "code",
   "execution_count": 75,
   "id": "59347556",
   "metadata": {},
   "outputs": [
    {
     "data": {
      "text/plain": [
       "list"
      ]
     },
     "execution_count": 75,
     "metadata": {},
     "output_type": "execute_result"
    }
   ],
   "source": [
    "type(l[-1])"
   ]
  },
  {
   "cell_type": "code",
   "execution_count": 76,
   "id": "3a164080",
   "metadata": {},
   "outputs": [
    {
     "ename": "TypeError",
     "evalue": "unhashable type: 'list'",
     "output_type": "error",
     "traceback": [
      "\u001b[1;31m---------------------------------------------------------------------------\u001b[0m",
      "\u001b[1;31mTypeError\u001b[0m                                 Traceback (most recent call last)",
      "\u001b[1;32m~\\AppData\\Local\\Temp/ipykernel_6300/2189031992.py\u001b[0m in \u001b[0;36m<module>\u001b[1;34m\u001b[0m\n\u001b[1;32m----> 1\u001b[1;33m \u001b[0mset\u001b[0m\u001b[1;33m(\u001b[0m\u001b[0ml\u001b[0m\u001b[1;33m)\u001b[0m\u001b[1;33m\u001b[0m\u001b[1;33m\u001b[0m\u001b[0m\n\u001b[0m",
      "\u001b[1;31mTypeError\u001b[0m: unhashable type: 'list'"
     ]
    }
   ],
   "source": [
    "set(l) # every element has a hash value, so conversion when there is a collection inside a collection is not possible."
   ]
  },
  {
   "cell_type": "code",
   "execution_count": 77,
   "id": "496f0411",
   "metadata": {},
   "outputs": [],
   "source": [
    "l = [1, 2, 3, 4, 5, 6, 7, 7, [1, 2, 3, 4, 5], [1, 2, 3, 4, 5]]"
   ]
  },
  {
   "cell_type": "code",
   "execution_count": 78,
   "id": "5815fba4",
   "metadata": {},
   "outputs": [
    {
     "ename": "TypeError",
     "evalue": "unhashable type: 'list'",
     "output_type": "error",
     "traceback": [
      "\u001b[1;31m---------------------------------------------------------------------------\u001b[0m",
      "\u001b[1;31mTypeError\u001b[0m                                 Traceback (most recent call last)",
      "\u001b[1;32m~\\AppData\\Local\\Temp/ipykernel_6300/2189031992.py\u001b[0m in \u001b[0;36m<module>\u001b[1;34m\u001b[0m\n\u001b[1;32m----> 1\u001b[1;33m \u001b[0mset\u001b[0m\u001b[1;33m(\u001b[0m\u001b[0ml\u001b[0m\u001b[1;33m)\u001b[0m\u001b[1;33m\u001b[0m\u001b[1;33m\u001b[0m\u001b[0m\n\u001b[0m",
      "\u001b[1;31mTypeError\u001b[0m: unhashable type: 'list'"
     ]
    }
   ],
   "source": [
    "set(l) # even if there is a same type of list, still it will throw error for the above mentioned reason."
   ]
  },
  {
   "cell_type": "code",
   "execution_count": 89,
   "id": "c8a2dd8d",
   "metadata": {},
   "outputs": [
    {
     "data": {
      "text/plain": [
       "[1, 2, 3, 4, 5, 6, 7, 7, [1, 2, 3, 4, 5], [1, 2, 3, 4, 5]]"
      ]
     },
     "execution_count": 89,
     "metadata": {},
     "output_type": "execute_result"
    }
   ],
   "source": [
    "l"
   ]
  },
  {
   "cell_type": "code",
   "execution_count": 97,
   "id": "b0b952b1",
   "metadata": {},
   "outputs": [],
   "source": [
    "test_set = set()"
   ]
  },
  {
   "cell_type": "markdown",
   "id": "89e92919",
   "metadata": {},
   "source": [
    "elemination of internal lists and duplicates"
   ]
  },
  {
   "cell_type": "markdown",
   "id": "0996032c",
   "metadata": {},
   "source": [
    "### understand the program below and explain it in 16th September - Task 1"
   ]
  },
  {
   "cell_type": "code",
   "execution_count": 99,
   "id": "bc4cd528",
   "metadata": {},
   "outputs": [
    {
     "name": "stdout",
     "output_type": "stream",
     "text": [
      "{1, 2, 3, 4, 5, 6, 7}\n"
     ]
    }
   ],
   "source": [
    "for i in l:\n",
    "#     print(i)\n",
    "    if type(i) != list:\n",
    "        test_set.add(i)\n",
    "print(test_set)"
   ]
  },
  {
   "cell_type": "code",
   "execution_count": 101,
   "id": "08b35527",
   "metadata": {},
   "outputs": [
    {
     "data": {
      "text/plain": [
       "{1, 2, 3, 4, 5, 6, 7}"
      ]
     },
     "execution_count": 101,
     "metadata": {},
     "output_type": "execute_result"
    }
   ],
   "source": [
    "test_set"
   ]
  },
  {
   "cell_type": "code",
   "execution_count": 100,
   "id": "99b7eca6",
   "metadata": {},
   "outputs": [
    {
     "data": {
      "text/plain": [
       "[1, 2, 3, 4, 5, 6, 7, 7, [1, 2, 3, 4, 5], [1, 2, 3, 4, 5]]"
      ]
     },
     "execution_count": 100,
     "metadata": {},
     "output_type": "execute_result"
    }
   ],
   "source": [
    "l"
   ]
  },
  {
   "cell_type": "code",
   "execution_count": 102,
   "id": "02e90761",
   "metadata": {},
   "outputs": [
    {
     "data": {
      "text/plain": [
       "{1, 2, 3, 4, 5, 6, 7}"
      ]
     },
     "execution_count": 102,
     "metadata": {},
     "output_type": "execute_result"
    }
   ],
   "source": [
    "test_set"
   ]
  },
  {
   "cell_type": "markdown",
   "id": "6f5c851d",
   "metadata": {},
   "source": [
    "### remove()"
   ]
  },
  {
   "cell_type": "code",
   "execution_count": 103,
   "id": "c8d18aac",
   "metadata": {},
   "outputs": [],
   "source": [
    "test_set.remove(3) # satya is terminated"
   ]
  },
  {
   "cell_type": "code",
   "execution_count": 104,
   "id": "66d637b7",
   "metadata": {},
   "outputs": [
    {
     "data": {
      "text/plain": [
       "{1, 2, 4, 5, 6, 7}"
      ]
     },
     "execution_count": 104,
     "metadata": {},
     "output_type": "execute_result"
    }
   ],
   "source": [
    "test_set"
   ]
  },
  {
   "cell_type": "code",
   "execution_count": 105,
   "id": "f044ac59",
   "metadata": {},
   "outputs": [
    {
     "ename": "KeyError",
     "evalue": "57",
     "output_type": "error",
     "traceback": [
      "\u001b[1;31m---------------------------------------------------------------------------\u001b[0m",
      "\u001b[1;31mKeyError\u001b[0m                                  Traceback (most recent call last)",
      "\u001b[1;32m~\\AppData\\Local\\Temp/ipykernel_6300/3805213903.py\u001b[0m in \u001b[0;36m<module>\u001b[1;34m\u001b[0m\n\u001b[1;32m----> 1\u001b[1;33m \u001b[0mtest_set\u001b[0m\u001b[1;33m.\u001b[0m\u001b[0mremove\u001b[0m\u001b[1;33m(\u001b[0m\u001b[1;36m57\u001b[0m\u001b[1;33m)\u001b[0m\u001b[1;33m\u001b[0m\u001b[1;33m\u001b[0m\u001b[0m\n\u001b[0m",
      "\u001b[1;31mKeyError\u001b[0m: 57"
     ]
    }
   ],
   "source": [
    "test_set.remove(57) # 57 is the element(not index) which is not present in the set."
   ]
  },
  {
   "cell_type": "code",
   "execution_count": 106,
   "id": "b41fac13",
   "metadata": {},
   "outputs": [
    {
     "data": {
      "text/plain": [
       "{1, 2, 4, 5, 6, 7}"
      ]
     },
     "execution_count": 106,
     "metadata": {},
     "output_type": "execute_result"
    }
   ],
   "source": [
    "test_set"
   ]
  },
  {
   "cell_type": "code",
   "execution_count": 107,
   "id": "51fec93d",
   "metadata": {},
   "outputs": [],
   "source": [
    "test_set.discard(57) # satya is discrded from training but present in mindgraph. It will not throw any error"
   ]
  },
  {
   "cell_type": "code",
   "execution_count": 109,
   "id": "99630635",
   "metadata": {},
   "outputs": [],
   "source": [
    "test_set.discard(1)"
   ]
  },
  {
   "cell_type": "code",
   "execution_count": 110,
   "id": "e1d8b5de",
   "metadata": {},
   "outputs": [
    {
     "data": {
      "text/plain": [
       "{2, 4, 5, 6, 7}"
      ]
     },
     "execution_count": 110,
     "metadata": {},
     "output_type": "execute_result"
    }
   ],
   "source": [
    "test_set"
   ]
  },
  {
   "cell_type": "code",
   "execution_count": 111,
   "id": "b0205037",
   "metadata": {},
   "outputs": [],
   "source": [
    "test_set.discard(1)"
   ]
  },
  {
   "cell_type": "markdown",
   "id": "3d986c97",
   "metadata": {},
   "source": [
    "* only difference between remove() and discard() is, even if the element is removed there is no error in case of discard but in case remove it will throw error."
   ]
  },
  {
   "cell_type": "markdown",
   "id": "37d24844",
   "metadata": {},
   "source": [
    "### difference()"
   ]
  },
  {
   "cell_type": "code",
   "execution_count": 117,
   "id": "87672b10",
   "metadata": {},
   "outputs": [],
   "source": [
    "byteiq = {'Shubha', 'Satya', 'Lalit', 'Soumya', 'Priyanka', 'Prity'}"
   ]
  },
  {
   "cell_type": "code",
   "execution_count": 114,
   "id": "88bdf128",
   "metadata": {},
   "outputs": [
    {
     "data": {
      "text/plain": [
       "set"
      ]
     },
     "execution_count": 114,
     "metadata": {},
     "output_type": "execute_result"
    }
   ],
   "source": [
    "type(byteiq)"
   ]
  },
  {
   "cell_type": "code",
   "execution_count": 118,
   "id": "df212c14",
   "metadata": {},
   "outputs": [],
   "source": [
    "mindgraph = {'Shubha', 'Lalit', 'Soumya', 'Nikhilesh', 'Sachin'}"
   ]
  },
  {
   "cell_type": "code",
   "execution_count": 115,
   "id": "faa6427d",
   "metadata": {},
   "outputs": [
    {
     "data": {
      "text/plain": [
       "set"
      ]
     },
     "execution_count": 115,
     "metadata": {},
     "output_type": "execute_result"
    }
   ],
   "source": [
    "type(mindgraph)"
   ]
  },
  {
   "cell_type": "code",
   "execution_count": 119,
   "id": "f28477a7",
   "metadata": {},
   "outputs": [
    {
     "data": {
      "text/plain": [
       "{'Prity', 'Priyanka', 'Satya'}"
      ]
     },
     "execution_count": 119,
     "metadata": {},
     "output_type": "execute_result"
    }
   ],
   "source": [
    "byteiq.difference(mindgraph)"
   ]
  },
  {
   "cell_type": "code",
   "execution_count": 120,
   "id": "cbde5ea8",
   "metadata": {},
   "outputs": [
    {
     "data": {
      "text/plain": [
       "{'Nikhilesh', 'Sachin'}"
      ]
     },
     "execution_count": 120,
     "metadata": {},
     "output_type": "execute_result"
    }
   ],
   "source": [
    "mindgraph.difference(byteiq)"
   ]
  },
  {
   "cell_type": "code",
   "execution_count": 121,
   "id": "7245be9e",
   "metadata": {},
   "outputs": [
    {
     "data": {
      "text/plain": [
       "{'Lalit', 'Prity', 'Priyanka', 'Satya', 'Shubha', 'Soumya'}"
      ]
     },
     "execution_count": 121,
     "metadata": {},
     "output_type": "execute_result"
    }
   ],
   "source": [
    "byteiq"
   ]
  },
  {
   "cell_type": "markdown",
   "id": "58c636cc",
   "metadata": {},
   "source": [
    "### indexing operation is not possible in case of set."
   ]
  },
  {
   "cell_type": "code",
   "execution_count": 123,
   "id": "8d765a8d",
   "metadata": {},
   "outputs": [
    {
     "ename": "TypeError",
     "evalue": "'set' object is not subscriptable",
     "output_type": "error",
     "traceback": [
      "\u001b[1;31m---------------------------------------------------------------------------\u001b[0m",
      "\u001b[1;31mTypeError\u001b[0m                                 Traceback (most recent call last)",
      "\u001b[1;32m~\\AppData\\Local\\Temp/ipykernel_6300/2890444192.py\u001b[0m in \u001b[0;36m<module>\u001b[1;34m\u001b[0m\n\u001b[1;32m----> 1\u001b[1;33m \u001b[0mbyteiq\u001b[0m\u001b[1;33m[\u001b[0m\u001b[1;36m0\u001b[0m\u001b[1;33m]\u001b[0m\u001b[1;33m\u001b[0m\u001b[1;33m\u001b[0m\u001b[0m\n\u001b[0m",
      "\u001b[1;31mTypeError\u001b[0m: 'set' object is not subscriptable"
     ]
    }
   ],
   "source": [
    "byteiq[0] # set is not subscriptable"
   ]
  },
  {
   "cell_type": "code",
   "execution_count": 122,
   "id": "6011baf7",
   "metadata": {},
   "outputs": [
    {
     "ename": "TypeError",
     "evalue": "'set' object is not callable",
     "output_type": "error",
     "traceback": [
      "\u001b[1;31m---------------------------------------------------------------------------\u001b[0m",
      "\u001b[1;31mTypeError\u001b[0m                                 Traceback (most recent call last)",
      "\u001b[1;32m~\\AppData\\Local\\Temp/ipykernel_6300/323880267.py\u001b[0m in \u001b[0;36m<module>\u001b[1;34m\u001b[0m\n\u001b[1;32m----> 1\u001b[1;33m \u001b[0mbyteiq\u001b[0m\u001b[1;33m(\u001b[0m\u001b[1;36m0\u001b[0m\u001b[1;33m)\u001b[0m\u001b[1;33m\u001b[0m\u001b[1;33m\u001b[0m\u001b[0m\n\u001b[0m",
      "\u001b[1;31mTypeError\u001b[0m: 'set' object is not callable"
     ]
    }
   ],
   "source": [
    "byteiq(0) # common bracket will be used only incase of functions"
   ]
  },
  {
   "cell_type": "markdown",
   "id": "5f7ebb86",
   "metadata": {},
   "source": [
    "* Set never stores elements in a ordered fashion."
   ]
  },
  {
   "cell_type": "markdown",
   "id": "019fd549",
   "metadata": {},
   "source": [
    "### understand the program below and explain it in 16th September - Task 2"
   ]
  },
  {
   "cell_type": "code",
   "execution_count": 125,
   "id": "af4b531a",
   "metadata": {},
   "outputs": [
    {
     "data": {
      "text/plain": [
       "{'Lalit', 'Prity', 'Priyanka', 'Satya', 'Shubha', 'Soumya'}"
      ]
     },
     "execution_count": 125,
     "metadata": {},
     "output_type": "execute_result"
    }
   ],
   "source": [
    "byteiq"
   ]
  },
  {
   "cell_type": "code",
   "execution_count": 124,
   "id": "3934cc39",
   "metadata": {},
   "outputs": [
    {
     "name": "stdout",
     "output_type": "stream",
     "text": [
      "Satya\n",
      "Soumya\n",
      "Lalit\n",
      "Prity\n",
      "Shubha\n",
      "Priyanka\n"
     ]
    }
   ],
   "source": [
    "for employee in byteiq:\n",
    "    print(employee) # Set never stores elements in a ordered fashion"
   ]
  },
  {
   "cell_type": "code",
   "execution_count": 126,
   "id": "f49355a3",
   "metadata": {},
   "outputs": [],
   "source": [
    "string_set = byteiq # assigning the values of byteiq to string_set variable."
   ]
  },
  {
   "cell_type": "code",
   "execution_count": 127,
   "id": "e50c6ad0",
   "metadata": {},
   "outputs": [
    {
     "data": {
      "text/plain": [
       "{'Lalit', 'Prity', 'Priyanka', 'Satya', 'Shubha', 'Soumya'}"
      ]
     },
     "execution_count": 127,
     "metadata": {},
     "output_type": "execute_result"
    }
   ],
   "source": [
    "string_set"
   ]
  },
  {
   "cell_type": "markdown",
   "id": "2c727d43",
   "metadata": {},
   "source": [
    "* To perform indexing operation on a set:\n",
    "    * convert set to list - perform indexing - then back to set. (in case you want to mutate)\n",
    "    * convert set to tuple - perform indexing - then back to set. (in case you do not want to mutate)"
   ]
  },
  {
   "cell_type": "code",
   "execution_count": 129,
   "id": "1b3777ba",
   "metadata": {},
   "outputs": [
    {
     "ename": "TypeError",
     "evalue": "'set' object is not subscriptable",
     "output_type": "error",
     "traceback": [
      "\u001b[1;31m---------------------------------------------------------------------------\u001b[0m",
      "\u001b[1;31mTypeError\u001b[0m                                 Traceback (most recent call last)",
      "\u001b[1;32m~\\AppData\\Local\\Temp/ipykernel_6300/2163490518.py\u001b[0m in \u001b[0;36m<module>\u001b[1;34m\u001b[0m\n\u001b[1;32m----> 1\u001b[1;33m \u001b[0mstring_set\u001b[0m\u001b[1;33m[\u001b[0m\u001b[1;36m1\u001b[0m\u001b[1;33m]\u001b[0m\u001b[1;33m\u001b[0m\u001b[1;33m\u001b[0m\u001b[0m\n\u001b[0m",
      "\u001b[1;31mTypeError\u001b[0m: 'set' object is not subscriptable"
     ]
    }
   ],
   "source": [
    "string_set[1]"
   ]
  },
  {
   "cell_type": "markdown",
   "id": "68d046c0",
   "metadata": {},
   "source": [
    "### convert set to list - perform indexing - then back to set. (in case you want to mutate)"
   ]
  },
  {
   "cell_type": "code",
   "execution_count": 130,
   "id": "00fa9039",
   "metadata": {},
   "outputs": [
    {
     "data": {
      "text/plain": [
       "['Satya', 'Soumya', 'Lalit', 'Prity', 'Shubha', 'Priyanka']"
      ]
     },
     "execution_count": 130,
     "metadata": {},
     "output_type": "execute_result"
    }
   ],
   "source": [
    "list(string_set) # just displaying"
   ]
  },
  {
   "cell_type": "code",
   "execution_count": 131,
   "id": "d3f478aa",
   "metadata": {},
   "outputs": [],
   "source": [
    "list_set = list(string_set) # converting set to list, and storing or assigning"
   ]
  },
  {
   "cell_type": "code",
   "execution_count": 140,
   "id": "e1267345",
   "metadata": {},
   "outputs": [
    {
     "data": {
      "text/plain": [
       "list"
      ]
     },
     "execution_count": 140,
     "metadata": {},
     "output_type": "execute_result"
    }
   ],
   "source": [
    "type(list_set)"
   ]
  },
  {
   "cell_type": "code",
   "execution_count": 132,
   "id": "0d4a2b75",
   "metadata": {},
   "outputs": [
    {
     "data": {
      "text/plain": [
       "['Satya', 'Soumya', 'Lalit', 'Prity', 'Shubha', 'Priyanka']"
      ]
     },
     "execution_count": 132,
     "metadata": {},
     "output_type": "execute_result"
    }
   ],
   "source": [
    "list_set"
   ]
  },
  {
   "cell_type": "code",
   "execution_count": 133,
   "id": "945e558e",
   "metadata": {},
   "outputs": [],
   "source": [
    "list_set[0] = 'Brahmhananda'"
   ]
  },
  {
   "cell_type": "code",
   "execution_count": 134,
   "id": "a2878b71",
   "metadata": {},
   "outputs": [
    {
     "data": {
      "text/plain": [
       "['Brahmhananda', 'Soumya', 'Lalit', 'Prity', 'Shubha', 'Priyanka']"
      ]
     },
     "execution_count": 134,
     "metadata": {},
     "output_type": "execute_result"
    }
   ],
   "source": [
    "list_set # just displaying"
   ]
  },
  {
   "cell_type": "code",
   "execution_count": 135,
   "id": "06b0ee32",
   "metadata": {},
   "outputs": [
    {
     "data": {
      "text/plain": [
       "list"
      ]
     },
     "execution_count": 135,
     "metadata": {},
     "output_type": "execute_result"
    }
   ],
   "source": [
    "type(list_set)"
   ]
  },
  {
   "cell_type": "code",
   "execution_count": 136,
   "id": "578fa8cf",
   "metadata": {},
   "outputs": [
    {
     "ename": "NameError",
     "evalue": "name 'new_set' is not defined",
     "output_type": "error",
     "traceback": [
      "\u001b[1;31m---------------------------------------------------------------------------\u001b[0m",
      "\u001b[1;31mNameError\u001b[0m                                 Traceback (most recent call last)",
      "\u001b[1;32m~\\AppData\\Local\\Temp/ipykernel_6300/502970480.py\u001b[0m in \u001b[0;36m<module>\u001b[1;34m\u001b[0m\n\u001b[1;32m----> 1\u001b[1;33m \u001b[0mnew_set\u001b[0m\u001b[1;33m\u001b[0m\u001b[1;33m\u001b[0m\u001b[0m\n\u001b[0m",
      "\u001b[1;31mNameError\u001b[0m: name 'new_set' is not defined"
     ]
    }
   ],
   "source": [
    "new_set"
   ]
  },
  {
   "cell_type": "code",
   "execution_count": 137,
   "id": "0a371c7d",
   "metadata": {},
   "outputs": [],
   "source": [
    "new_set = set(list_set) # new variable created named as 'new_set' and converted list is assigned or stored"
   ]
  },
  {
   "cell_type": "code",
   "execution_count": 138,
   "id": "f4d5abe0",
   "metadata": {},
   "outputs": [
    {
     "data": {
      "text/plain": [
       "{'Brahmhananda', 'Lalit', 'Prity', 'Priyanka', 'Shubha', 'Soumya'}"
      ]
     },
     "execution_count": 138,
     "metadata": {},
     "output_type": "execute_result"
    }
   ],
   "source": [
    "new_set # new set after manipulation, just displaying"
   ]
  },
  {
   "cell_type": "code",
   "execution_count": 139,
   "id": "b9b1debe",
   "metadata": {},
   "outputs": [
    {
     "data": {
      "text/plain": [
       "{'Lalit', 'Prity', 'Priyanka', 'Satya', 'Shubha', 'Soumya'}"
      ]
     },
     "execution_count": 139,
     "metadata": {},
     "output_type": "execute_result"
    }
   ],
   "source": [
    "string_set # original set, just displaying"
   ]
  },
  {
   "cell_type": "markdown",
   "id": "56b0c0c2",
   "metadata": {},
   "source": [
    "### convert set to tuple - perform indexing - then back to set. (in case you do not want to mutate)"
   ]
  },
  {
   "cell_type": "code",
   "execution_count": 141,
   "id": "f0854ecf",
   "metadata": {},
   "outputs": [
    {
     "data": {
      "text/plain": [
       "{'Lalit', 'Prity', 'Priyanka', 'Satya', 'Shubha', 'Soumya'}"
      ]
     },
     "execution_count": 141,
     "metadata": {},
     "output_type": "execute_result"
    }
   ],
   "source": [
    "string_set"
   ]
  },
  {
   "cell_type": "code",
   "execution_count": 143,
   "id": "3fb7c933",
   "metadata": {},
   "outputs": [
    {
     "ename": "TypeError",
     "evalue": "'set' object is not subscriptable",
     "output_type": "error",
     "traceback": [
      "\u001b[1;31m---------------------------------------------------------------------------\u001b[0m",
      "\u001b[1;31mTypeError\u001b[0m                                 Traceback (most recent call last)",
      "\u001b[1;32m~\\AppData\\Local\\Temp/ipykernel_6300/439649282.py\u001b[0m in \u001b[0;36m<module>\u001b[1;34m\u001b[0m\n\u001b[1;32m----> 1\u001b[1;33m \u001b[0mstring_set\u001b[0m\u001b[1;33m[\u001b[0m\u001b[1;36m0\u001b[0m\u001b[1;33m:\u001b[0m\u001b[1;36m2\u001b[0m\u001b[1;33m]\u001b[0m \u001b[1;31m# indexing not possible\u001b[0m\u001b[1;33m\u001b[0m\u001b[1;33m\u001b[0m\u001b[0m\n\u001b[0m",
      "\u001b[1;31mTypeError\u001b[0m: 'set' object is not subscriptable"
     ]
    }
   ],
   "source": [
    "string_set[0:2] # slicing or indexing not possible"
   ]
  },
  {
   "cell_type": "code",
   "execution_count": 144,
   "id": "9dc9601f",
   "metadata": {},
   "outputs": [
    {
     "data": {
      "text/plain": [
       "('Satya', 'Soumya', 'Lalit', 'Prity', 'Shubha', 'Priyanka')"
      ]
     },
     "execution_count": 144,
     "metadata": {},
     "output_type": "execute_result"
    }
   ],
   "source": [
    "tuple(string_set)"
   ]
  },
  {
   "cell_type": "code",
   "execution_count": 145,
   "id": "9ef94582",
   "metadata": {},
   "outputs": [],
   "source": [
    "tuple_set = tuple(string_set)"
   ]
  },
  {
   "cell_type": "code",
   "execution_count": 146,
   "id": "0458cc13",
   "metadata": {},
   "outputs": [
    {
     "data": {
      "text/plain": [
       "('Satya', 'Soumya', 'Lalit', 'Prity', 'Shubha', 'Priyanka')"
      ]
     },
     "execution_count": 146,
     "metadata": {},
     "output_type": "execute_result"
    }
   ],
   "source": [
    "tuple_set"
   ]
  },
  {
   "cell_type": "code",
   "execution_count": 147,
   "id": "abf57975",
   "metadata": {},
   "outputs": [
    {
     "data": {
      "text/plain": [
       "tuple"
      ]
     },
     "execution_count": 147,
     "metadata": {},
     "output_type": "execute_result"
    }
   ],
   "source": [
    "type(tuple_set)"
   ]
  },
  {
   "cell_type": "code",
   "execution_count": 148,
   "id": "a3396ab1",
   "metadata": {},
   "outputs": [
    {
     "data": {
      "text/plain": [
       "'Satya'"
      ]
     },
     "execution_count": 148,
     "metadata": {},
     "output_type": "execute_result"
    }
   ],
   "source": [
    "tuple_set[0] # can access element"
   ]
  },
  {
   "cell_type": "code",
   "execution_count": 149,
   "id": "09f1221d",
   "metadata": {},
   "outputs": [
    {
     "ename": "TypeError",
     "evalue": "'tuple' object does not support item assignment",
     "output_type": "error",
     "traceback": [
      "\u001b[1;31m---------------------------------------------------------------------------\u001b[0m",
      "\u001b[1;31mTypeError\u001b[0m                                 Traceback (most recent call last)",
      "\u001b[1;32m~\\AppData\\Local\\Temp/ipykernel_6300/3292373807.py\u001b[0m in \u001b[0;36m<module>\u001b[1;34m\u001b[0m\n\u001b[1;32m----> 1\u001b[1;33m \u001b[0mtuple_set\u001b[0m\u001b[1;33m[\u001b[0m\u001b[1;36m0\u001b[0m\u001b[1;33m]\u001b[0m \u001b[1;33m=\u001b[0m \u001b[1;36m1\u001b[0m\u001b[1;33m\u001b[0m\u001b[1;33m\u001b[0m\u001b[0m\n\u001b[0m",
      "\u001b[1;31mTypeError\u001b[0m: 'tuple' object does not support item assignment"
     ]
    }
   ],
   "source": [
    "tuple_set[0] = 1 # Immutable"
   ]
  },
  {
   "cell_type": "code",
   "execution_count": 150,
   "id": "8e5137c6",
   "metadata": {},
   "outputs": [
    {
     "data": {
      "text/plain": [
       "('Satya', 'Soumya', 'Lalit', 'Prity', 'Shubha', 'Priyanka')"
      ]
     },
     "execution_count": 150,
     "metadata": {},
     "output_type": "execute_result"
    }
   ],
   "source": [
    "tuple_set # order fasion is not changing, slicing is possible"
   ]
  },
  {
   "cell_type": "code",
   "execution_count": 151,
   "id": "e1731f66",
   "metadata": {},
   "outputs": [
    {
     "data": {
      "text/plain": [
       "('Satya', 'Soumya', 'Lalit')"
      ]
     },
     "execution_count": 151,
     "metadata": {},
     "output_type": "execute_result"
    }
   ],
   "source": [
    "tuple_set[0:3]"
   ]
  },
  {
   "cell_type": "code",
   "execution_count": 153,
   "id": "48de361a",
   "metadata": {},
   "outputs": [],
   "source": [
    "new_tuple = tuple_set[0:3]"
   ]
  },
  {
   "cell_type": "code",
   "execution_count": 154,
   "id": "efbac36a",
   "metadata": {},
   "outputs": [
    {
     "data": {
      "text/plain": [
       "('Satya', 'Soumya', 'Lalit')"
      ]
     },
     "execution_count": 154,
     "metadata": {},
     "output_type": "execute_result"
    }
   ],
   "source": [
    "new_tuple"
   ]
  },
  {
   "cell_type": "code",
   "execution_count": 155,
   "id": "4682cdd5",
   "metadata": {},
   "outputs": [
    {
     "data": {
      "text/plain": [
       "tuple"
      ]
     },
     "execution_count": 155,
     "metadata": {},
     "output_type": "execute_result"
    }
   ],
   "source": [
    "type(new_tuple)"
   ]
  },
  {
   "cell_type": "code",
   "execution_count": 156,
   "id": "c6104f7c",
   "metadata": {},
   "outputs": [
    {
     "data": {
      "text/plain": [
       "{'Lalit', 'Satya', 'Soumya'}"
      ]
     },
     "execution_count": 156,
     "metadata": {},
     "output_type": "execute_result"
    }
   ],
   "source": [
    "set(new_tuple)"
   ]
  },
  {
   "cell_type": "code",
   "execution_count": 157,
   "id": "391fbc8f",
   "metadata": {},
   "outputs": [],
   "source": [
    "new_set_tup = set(new_tuple)"
   ]
  },
  {
   "cell_type": "code",
   "execution_count": 158,
   "id": "d724e831",
   "metadata": {},
   "outputs": [
    {
     "data": {
      "text/plain": [
       "{'Lalit', 'Satya', 'Soumya'}"
      ]
     },
     "execution_count": 158,
     "metadata": {},
     "output_type": "execute_result"
    }
   ],
   "source": [
    "new_set_tup"
   ]
  }
 ],
 "metadata": {
  "kernelspec": {
   "display_name": "Python 3 (ipykernel)",
   "language": "python",
   "name": "python3"
  },
  "language_info": {
   "codemirror_mode": {
    "name": "ipython",
    "version": 3
   },
   "file_extension": ".py",
   "mimetype": "text/x-python",
   "name": "python",
   "nbconvert_exporter": "python",
   "pygments_lexer": "ipython3",
   "version": "3.9.7"
  }
 },
 "nbformat": 4,
 "nbformat_minor": 5
}
