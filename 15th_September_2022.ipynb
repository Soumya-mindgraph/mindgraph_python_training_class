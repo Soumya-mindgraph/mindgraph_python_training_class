{
 "cells": [
  {
   "cell_type": "markdown",
   "id": "31269659",
   "metadata": {},
   "source": [
    "### Tuples"
   ]
  },
  {
   "cell_type": "markdown",
   "id": "fce369f6",
   "metadata": {},
   "source": [
    "* Tuples are immutable entity\n",
    "* Lists are mutable entity"
   ]
  },
  {
   "cell_type": "code",
   "execution_count": 6,
   "id": "7138e391",
   "metadata": {},
   "outputs": [],
   "source": [
    "t = (1, 2, 2, 2, 2, 3, 4, 5, 6, 7, 'Shubha', 'Mindgraph', 'ByteIQ')"
   ]
  },
  {
   "cell_type": "code",
   "execution_count": 2,
   "id": "955a57c9",
   "metadata": {},
   "outputs": [
    {
     "data": {
      "text/plain": [
       "1"
      ]
     },
     "execution_count": 2,
     "metadata": {},
     "output_type": "execute_result"
    }
   ],
   "source": [
    "t[0]"
   ]
  },
  {
   "cell_type": "code",
   "execution_count": 8,
   "id": "97824c5e",
   "metadata": {},
   "outputs": [
    {
     "data": {
      "text/plain": [
       "(1, 2, 2, 2, 2, 3, 4)"
      ]
     },
     "execution_count": 8,
     "metadata": {},
     "output_type": "execute_result"
    }
   ],
   "source": [
    "t[0:7]"
   ]
  },
  {
   "cell_type": "markdown",
   "id": "cdd52823",
   "metadata": {},
   "source": [
    "### count()"
   ]
  },
  {
   "cell_type": "code",
   "execution_count": 10,
   "id": "461d5bc2",
   "metadata": {},
   "outputs": [
    {
     "data": {
      "text/plain": [
       "4"
      ]
     },
     "execution_count": 10,
     "metadata": {},
     "output_type": "execute_result"
    }
   ],
   "source": [
    "t.count(2) # count function will calculate the number of occurence of an element in list, tuple, or String."
   ]
  },
  {
   "cell_type": "code",
   "execution_count": 11,
   "id": "10a7bf68",
   "metadata": {},
   "outputs": [],
   "source": [
    "l = [1, 2, 3, 4, 4] # list"
   ]
  },
  {
   "cell_type": "code",
   "execution_count": 12,
   "id": "58dff91f",
   "metadata": {},
   "outputs": [
    {
     "data": {
      "text/plain": [
       "2"
      ]
     },
     "execution_count": 12,
     "metadata": {},
     "output_type": "execute_result"
    }
   ],
   "source": [
    "l.count(4)"
   ]
  },
  {
   "cell_type": "code",
   "execution_count": 13,
   "id": "e73e780c",
   "metadata": {},
   "outputs": [],
   "source": [
    "string = \"Bhubaneswar\""
   ]
  },
  {
   "cell_type": "code",
   "execution_count": 14,
   "id": "aababc12",
   "metadata": {},
   "outputs": [
    {
     "data": {
      "text/plain": [
       "2"
      ]
     },
     "execution_count": 14,
     "metadata": {},
     "output_type": "execute_result"
    }
   ],
   "source": [
    "string.count('a')"
   ]
  },
  {
   "cell_type": "code",
   "execution_count": 15,
   "id": "9b984baf",
   "metadata": {},
   "outputs": [
    {
     "data": {
      "text/plain": [
       "(1, 2, 2, 2, 2, 3, 4, 5, 6, 7, 'Shubha', 'Mindgraph', 'ByteIQ')"
      ]
     },
     "execution_count": 15,
     "metadata": {},
     "output_type": "execute_result"
    }
   ],
   "source": [
    "t"
   ]
  },
  {
   "cell_type": "code",
   "execution_count": 16,
   "id": "1c911c00",
   "metadata": {},
   "outputs": [
    {
     "data": {
      "text/plain": [
       "1"
      ]
     },
     "execution_count": 16,
     "metadata": {},
     "output_type": "execute_result"
    }
   ],
   "source": [
    "t.count('Mindgraph')"
   ]
  },
  {
   "cell_type": "code",
   "execution_count": 17,
   "id": "73974591",
   "metadata": {},
   "outputs": [
    {
     "data": {
      "text/plain": [
       "0"
      ]
     },
     "execution_count": 17,
     "metadata": {},
     "output_type": "execute_result"
    }
   ],
   "source": [
    "t.count('Vineet')"
   ]
  },
  {
   "cell_type": "code",
   "execution_count": 18,
   "id": "ff454c52",
   "metadata": {},
   "outputs": [
    {
     "data": {
      "text/plain": [
       "2"
      ]
     },
     "execution_count": 18,
     "metadata": {},
     "output_type": "execute_result"
    }
   ],
   "source": [
    "'Vineet'.count('e')"
   ]
  },
  {
   "cell_type": "code",
   "execution_count": 19,
   "id": "8942c648",
   "metadata": {},
   "outputs": [
    {
     "data": {
      "text/plain": [
       "(1, 2, 2, 2, 2, 3, 4, 5, 6, 7, 'Shubha', 'Mindgraph', 'ByteIQ')"
      ]
     },
     "execution_count": 19,
     "metadata": {},
     "output_type": "execute_result"
    }
   ],
   "source": [
    "t"
   ]
  },
  {
   "cell_type": "markdown",
   "id": "2e1f511e",
   "metadata": {},
   "source": [
    "### index()"
   ]
  },
  {
   "cell_type": "code",
   "execution_count": 20,
   "id": "37e13791",
   "metadata": {},
   "outputs": [
    {
     "data": {
      "text/plain": [
       "10"
      ]
     },
     "execution_count": 20,
     "metadata": {},
     "output_type": "execute_result"
    }
   ],
   "source": [
    "t.index('Shubha')"
   ]
  },
  {
   "cell_type": "code",
   "execution_count": 21,
   "id": "9cbc61e1",
   "metadata": {},
   "outputs": [
    {
     "data": {
      "text/plain": [
       "0"
      ]
     },
     "execution_count": 21,
     "metadata": {},
     "output_type": "execute_result"
    }
   ],
   "source": [
    "t.index(1)"
   ]
  },
  {
   "cell_type": "code",
   "execution_count": 22,
   "id": "9a3c8f73",
   "metadata": {},
   "outputs": [
    {
     "data": {
      "text/plain": [
       "1"
      ]
     },
     "execution_count": 22,
     "metadata": {},
     "output_type": "execute_result"
    }
   ],
   "source": [
    "t.index(2) # will display the position of first occurence of the element"
   ]
  },
  {
   "cell_type": "code",
   "execution_count": 23,
   "id": "f7c6e799",
   "metadata": {},
   "outputs": [
    {
     "data": {
      "text/plain": [
       "[1, 2, 3, 4, 4]"
      ]
     },
     "execution_count": 23,
     "metadata": {},
     "output_type": "execute_result"
    }
   ],
   "source": [
    "l"
   ]
  },
  {
   "cell_type": "code",
   "execution_count": 24,
   "id": "6a3870e4",
   "metadata": {},
   "outputs": [
    {
     "data": {
      "text/plain": [
       "2"
      ]
     },
     "execution_count": 24,
     "metadata": {},
     "output_type": "execute_result"
    }
   ],
   "source": [
    "l.index(3) # index function works for list"
   ]
  },
  {
   "cell_type": "code",
   "execution_count": 25,
   "id": "9f82ef4e",
   "metadata": {},
   "outputs": [],
   "source": [
    "test_set = {1, 2, 3, 4, 5, 6}"
   ]
  },
  {
   "cell_type": "code",
   "execution_count": 26,
   "id": "58da4f84",
   "metadata": {},
   "outputs": [
    {
     "ename": "TypeError",
     "evalue": "'set' object is not subscriptable",
     "output_type": "error",
     "traceback": [
      "\u001b[1;31m---------------------------------------------------------------------------\u001b[0m",
      "\u001b[1;31mTypeError\u001b[0m                                 Traceback (most recent call last)",
      "\u001b[1;32m~\\AppData\\Local\\Temp/ipykernel_6300/1846114615.py\u001b[0m in \u001b[0;36m<module>\u001b[1;34m\u001b[0m\n\u001b[1;32m----> 1\u001b[1;33m \u001b[0mtest_set\u001b[0m\u001b[1;33m[\u001b[0m\u001b[1;36m3\u001b[0m\u001b[1;33m]\u001b[0m\u001b[1;33m\u001b[0m\u001b[1;33m\u001b[0m\u001b[0m\n\u001b[0m",
      "\u001b[1;31mTypeError\u001b[0m: 'set' object is not subscriptable"
     ]
    }
   ],
   "source": [
    "test_set[3] # indexing not possible in set, so index() function won't work with set."
   ]
  },
  {
   "cell_type": "code",
   "execution_count": 27,
   "id": "9cdb0432",
   "metadata": {},
   "outputs": [
    {
     "ename": "AttributeError",
     "evalue": "'set' object has no attribute 'index'",
     "output_type": "error",
     "traceback": [
      "\u001b[1;31m---------------------------------------------------------------------------\u001b[0m",
      "\u001b[1;31mAttributeError\u001b[0m                            Traceback (most recent call last)",
      "\u001b[1;32m~\\AppData\\Local\\Temp/ipykernel_6300/242590836.py\u001b[0m in \u001b[0;36m<module>\u001b[1;34m\u001b[0m\n\u001b[1;32m----> 1\u001b[1;33m \u001b[0mtest_set\u001b[0m\u001b[1;33m.\u001b[0m\u001b[0mindex\u001b[0m\u001b[1;33m(\u001b[0m\u001b[1;36m1\u001b[0m\u001b[1;33m)\u001b[0m\u001b[1;33m\u001b[0m\u001b[1;33m\u001b[0m\u001b[0m\n\u001b[0m",
      "\u001b[1;31mAttributeError\u001b[0m: 'set' object has no attribute 'index'"
     ]
    }
   ],
   "source": [
    "test_set.index(1) # index() function won't work with set."
   ]
  },
  {
   "cell_type": "markdown",
   "id": "12baa8ea",
   "metadata": {},
   "source": [
    "### del()"
   ]
  },
  {
   "cell_type": "code",
   "execution_count": 28,
   "id": "13a05201",
   "metadata": {},
   "outputs": [
    {
     "data": {
      "text/plain": [
       "(1, 2, 2, 2, 2, 3, 4, 5, 6, 7, 'Shubha', 'Mindgraph', 'ByteIQ')"
      ]
     },
     "execution_count": 28,
     "metadata": {},
     "output_type": "execute_result"
    }
   ],
   "source": [
    "t"
   ]
  },
  {
   "cell_type": "code",
   "execution_count": 29,
   "id": "def5a1a2",
   "metadata": {},
   "outputs": [
    {
     "data": {
      "text/plain": [
       "[1, 2, 3, 4, 4]"
      ]
     },
     "execution_count": 29,
     "metadata": {},
     "output_type": "execute_result"
    }
   ],
   "source": [
    "l"
   ]
  },
  {
   "cell_type": "code",
   "execution_count": 30,
   "id": "0bf8d2bb",
   "metadata": {},
   "outputs": [
    {
     "data": {
      "text/plain": [
       "'Bhubaneswar'"
      ]
     },
     "execution_count": 30,
     "metadata": {},
     "output_type": "execute_result"
    }
   ],
   "source": [
    "string"
   ]
  },
  {
   "cell_type": "code",
   "execution_count": 41,
   "id": "fba14721",
   "metadata": {},
   "outputs": [
    {
     "data": {
      "text/plain": [
       "{1, 2, 3, 4, 5, 6}"
      ]
     },
     "execution_count": 41,
     "metadata": {},
     "output_type": "execute_result"
    }
   ],
   "source": [
    "test_set"
   ]
  },
  {
   "cell_type": "code",
   "execution_count": 34,
   "id": "f98961d6",
   "metadata": {},
   "outputs": [],
   "source": [
    "del(t) # it will delete the tuple"
   ]
  },
  {
   "cell_type": "code",
   "execution_count": 32,
   "id": "8bf87627",
   "metadata": {},
   "outputs": [
    {
     "ename": "NameError",
     "evalue": "name 't' is not defined",
     "output_type": "error",
     "traceback": [
      "\u001b[1;31m---------------------------------------------------------------------------\u001b[0m",
      "\u001b[1;31mNameError\u001b[0m                                 Traceback (most recent call last)",
      "\u001b[1;32m~\\AppData\\Local\\Temp/ipykernel_6300/3790515489.py\u001b[0m in \u001b[0;36m<module>\u001b[1;34m\u001b[0m\n\u001b[1;32m----> 1\u001b[1;33m \u001b[0mt\u001b[0m\u001b[1;33m\u001b[0m\u001b[1;33m\u001b[0m\u001b[0m\n\u001b[0m",
      "\u001b[1;31mNameError\u001b[0m: name 't' is not defined"
     ]
    }
   ],
   "source": [
    "t  # tuple got deleted, it will throw error - name 't' is not defined"
   ]
  },
  {
   "cell_type": "code",
   "execution_count": 35,
   "id": "e9a5a435",
   "metadata": {},
   "outputs": [],
   "source": [
    "del(l)  # it will delete the list"
   ]
  },
  {
   "cell_type": "code",
   "execution_count": 36,
   "id": "98e6f874",
   "metadata": {},
   "outputs": [
    {
     "ename": "NameError",
     "evalue": "name 'l' is not defined",
     "output_type": "error",
     "traceback": [
      "\u001b[1;31m---------------------------------------------------------------------------\u001b[0m",
      "\u001b[1;31mNameError\u001b[0m                                 Traceback (most recent call last)",
      "\u001b[1;32m~\\AppData\\Local\\Temp/ipykernel_6300/3723490112.py\u001b[0m in \u001b[0;36m<module>\u001b[1;34m\u001b[0m\n\u001b[1;32m----> 1\u001b[1;33m \u001b[0ml\u001b[0m\u001b[1;33m\u001b[0m\u001b[1;33m\u001b[0m\u001b[0m\n\u001b[0m",
      "\u001b[1;31mNameError\u001b[0m: name 'l' is not defined"
     ]
    }
   ],
   "source": [
    "l # list got deleted, it will throw error -  name 'l' is not defined"
   ]
  },
  {
   "cell_type": "code",
   "execution_count": 37,
   "id": "9ac72bc7",
   "metadata": {},
   "outputs": [],
   "source": [
    "del(string) # it will delete the value present in string"
   ]
  },
  {
   "cell_type": "code",
   "execution_count": 38,
   "id": "501b4e5a",
   "metadata": {},
   "outputs": [
    {
     "ename": "NameError",
     "evalue": "name 'string' is not defined",
     "output_type": "error",
     "traceback": [
      "\u001b[1;31m---------------------------------------------------------------------------\u001b[0m",
      "\u001b[1;31mNameError\u001b[0m                                 Traceback (most recent call last)",
      "\u001b[1;32m~\\AppData\\Local\\Temp/ipykernel_6300/41168278.py\u001b[0m in \u001b[0;36m<module>\u001b[1;34m\u001b[0m\n\u001b[1;32m----> 1\u001b[1;33m \u001b[0mstring\u001b[0m\u001b[1;33m\u001b[0m\u001b[1;33m\u001b[0m\u001b[0m\n\u001b[0m",
      "\u001b[1;31mNameError\u001b[0m: name 'string' is not defined"
     ]
    }
   ],
   "source": [
    "string # string got deleted, it will throw error - name 'string' is not defined"
   ]
  },
  {
   "cell_type": "code",
   "execution_count": 42,
   "id": "31c44658",
   "metadata": {},
   "outputs": [],
   "source": [
    "del(test_set) # it will delete set"
   ]
  },
  {
   "cell_type": "code",
   "execution_count": 43,
   "id": "dcf31834",
   "metadata": {},
   "outputs": [
    {
     "ename": "NameError",
     "evalue": "name 'test_set' is not defined",
     "output_type": "error",
     "traceback": [
      "\u001b[1;31m---------------------------------------------------------------------------\u001b[0m",
      "\u001b[1;31mNameError\u001b[0m                                 Traceback (most recent call last)",
      "\u001b[1;32m~\\AppData\\Local\\Temp/ipykernel_6300/3639171774.py\u001b[0m in \u001b[0;36m<module>\u001b[1;34m\u001b[0m\n\u001b[1;32m----> 1\u001b[1;33m \u001b[0mtest_set\u001b[0m\u001b[1;33m\u001b[0m\u001b[1;33m\u001b[0m\u001b[0m\n\u001b[0m",
      "\u001b[1;31mNameError\u001b[0m: name 'test_set' is not defined"
     ]
    }
   ],
   "source": [
    "test_set # set got deleted, it will throw error - name 'test_set' is not defined"
   ]
  },
  {
   "cell_type": "markdown",
   "id": "fb752ecd",
   "metadata": {},
   "source": [
    "### Sets"
   ]
  },
  {
   "cell_type": "code",
   "execution_count": 44,
   "id": "222c5916",
   "metadata": {},
   "outputs": [
    {
     "data": {
      "text/plain": [
       "set()"
      ]
     },
     "execution_count": 44,
     "metadata": {},
     "output_type": "execute_result"
    }
   ],
   "source": [
    "set()"
   ]
  },
  {
   "cell_type": "code",
   "execution_count": 45,
   "id": "14a4fcab",
   "metadata": {},
   "outputs": [],
   "source": [
    "s = set()"
   ]
  },
  {
   "cell_type": "code",
   "execution_count": 46,
   "id": "a5f37169",
   "metadata": {},
   "outputs": [
    {
     "data": {
      "text/plain": [
       "set"
      ]
     },
     "execution_count": 46,
     "metadata": {},
     "output_type": "execute_result"
    }
   ],
   "source": [
    "type(s)"
   ]
  },
  {
   "cell_type": "code",
   "execution_count": 47,
   "id": "aa0168b2",
   "metadata": {},
   "outputs": [
    {
     "data": {
      "text/plain": [
       "set()"
      ]
     },
     "execution_count": 47,
     "metadata": {},
     "output_type": "execute_result"
    }
   ],
   "source": [
    "s"
   ]
  },
  {
   "cell_type": "markdown",
   "id": "a4d0188d",
   "metadata": {},
   "source": [
    "### add()"
   ]
  },
  {
   "cell_type": "code",
   "execution_count": 48,
   "id": "369aff70",
   "metadata": {},
   "outputs": [],
   "source": [
    "s.add(2)"
   ]
  },
  {
   "cell_type": "code",
   "execution_count": 49,
   "id": "31ce037c",
   "metadata": {},
   "outputs": [
    {
     "data": {
      "text/plain": [
       "{2}"
      ]
     },
     "execution_count": 49,
     "metadata": {},
     "output_type": "execute_result"
    }
   ],
   "source": [
    "s"
   ]
  },
  {
   "cell_type": "code",
   "execution_count": 50,
   "id": "df9a576d",
   "metadata": {},
   "outputs": [],
   "source": [
    "s.add(3)"
   ]
  },
  {
   "cell_type": "code",
   "execution_count": 51,
   "id": "c608e19e",
   "metadata": {},
   "outputs": [
    {
     "data": {
      "text/plain": [
       "{2, 3}"
      ]
     },
     "execution_count": 51,
     "metadata": {},
     "output_type": "execute_result"
    }
   ],
   "source": [
    "s"
   ]
  },
  {
   "cell_type": "code",
   "execution_count": 52,
   "id": "80e15a8d",
   "metadata": {},
   "outputs": [],
   "source": [
    "s.add('Mindgraph')"
   ]
  },
  {
   "cell_type": "code",
   "execution_count": 53,
   "id": "b7deaaa9",
   "metadata": {},
   "outputs": [
    {
     "data": {
      "text/plain": [
       "{2, 3, 'Mindgraph'}"
      ]
     },
     "execution_count": 53,
     "metadata": {},
     "output_type": "execute_result"
    }
   ],
   "source": [
    "s"
   ]
  },
  {
   "cell_type": "code",
   "execution_count": 56,
   "id": "b5243122",
   "metadata": {},
   "outputs": [
    {
     "data": {
      "text/plain": [
       "set"
      ]
     },
     "execution_count": 56,
     "metadata": {},
     "output_type": "execute_result"
    }
   ],
   "source": [
    "type(s)"
   ]
  },
  {
   "cell_type": "code",
   "execution_count": 57,
   "id": "7242a469",
   "metadata": {},
   "outputs": [],
   "source": [
    "s.add('ByteIQ')"
   ]
  },
  {
   "cell_type": "code",
   "execution_count": 59,
   "id": "8a28ab7f",
   "metadata": {},
   "outputs": [],
   "source": [
    "s.add('Shubha')"
   ]
  },
  {
   "cell_type": "code",
   "execution_count": 60,
   "id": "244a94e5",
   "metadata": {},
   "outputs": [
    {
     "data": {
      "text/plain": [
       "{2, 3, 'ByteIQ', 'Mindgraph', 'Shubha'}"
      ]
     },
     "execution_count": 60,
     "metadata": {},
     "output_type": "execute_result"
    }
   ],
   "source": [
    "s"
   ]
  },
  {
   "cell_type": "code",
   "execution_count": 64,
   "id": "8bc350ff",
   "metadata": {},
   "outputs": [
    {
     "data": {
      "text/plain": [
       "6"
      ]
     },
     "execution_count": 64,
     "metadata": {},
     "output_type": "execute_result"
    }
   ],
   "source": [
    "len(s)"
   ]
  },
  {
   "cell_type": "code",
   "execution_count": 54,
   "id": "71b76034",
   "metadata": {},
   "outputs": [
    {
     "ename": "AttributeError",
     "evalue": "'NoneType' object has no attribute 'add'",
     "output_type": "error",
     "traceback": [
      "\u001b[1;31m---------------------------------------------------------------------------\u001b[0m",
      "\u001b[1;31mAttributeError\u001b[0m                            Traceback (most recent call last)",
      "\u001b[1;32m~\\AppData\\Local\\Temp/ipykernel_6300/1840314704.py\u001b[0m in \u001b[0;36m<module>\u001b[1;34m\u001b[0m\n\u001b[1;32m----> 1\u001b[1;33m \u001b[0ms\u001b[0m\u001b[1;33m.\u001b[0m\u001b[0madd\u001b[0m\u001b[1;33m(\u001b[0m\u001b[1;34m'ByteIQ'\u001b[0m\u001b[1;33m)\u001b[0m\u001b[1;33m.\u001b[0m\u001b[0madd\u001b[0m\u001b[1;33m(\u001b[0m\u001b[1;34m'Shubha'\u001b[0m\u001b[1;33m)\u001b[0m\u001b[1;33m\u001b[0m\u001b[1;33m\u001b[0m\u001b[0m\n\u001b[0m",
      "\u001b[1;31mAttributeError\u001b[0m: 'NoneType' object has no attribute 'add'"
     ]
    }
   ],
   "source": [
    "s.add('ByteIQ').add('Shubha') # method chaining is not available in set"
   ]
  },
  {
   "cell_type": "markdown",
   "id": "caea00c4",
   "metadata": {},
   "source": [
    "* NoneType in Python is a data type that simply shows that an object has no value/has a value of None"
   ]
  },
  {
   "cell_type": "code",
   "execution_count": 65,
   "id": "9177ffcc",
   "metadata": {},
   "outputs": [
    {
     "data": {
      "text/plain": [
       "{2, 3, 'ByteIQ', 'Mindgraph', 'Shubha', 'Soumya'}"
      ]
     },
     "execution_count": 65,
     "metadata": {},
     "output_type": "execute_result"
    }
   ],
   "source": [
    "s"
   ]
  },
  {
   "cell_type": "code",
   "execution_count": 66,
   "id": "ee4b0fcb",
   "metadata": {},
   "outputs": [],
   "source": [
    "s.add('mindgraph')"
   ]
  },
  {
   "cell_type": "code",
   "execution_count": 67,
   "id": "38d16a29",
   "metadata": {},
   "outputs": [
    {
     "data": {
      "text/plain": [
       "{2, 3, 'ByteIQ', 'Mindgraph', 'Shubha', 'Soumya', 'mindgraph'}"
      ]
     },
     "execution_count": 67,
     "metadata": {},
     "output_type": "execute_result"
    }
   ],
   "source": [
    "s # sets are case sensitive"
   ]
  },
  {
   "cell_type": "code",
   "execution_count": 70,
   "id": "b10c05eb",
   "metadata": {},
   "outputs": [],
   "source": [
    "s.add(2) # it will throw no error, but there will be no change in the set"
   ]
  },
  {
   "cell_type": "code",
   "execution_count": 71,
   "id": "401287df",
   "metadata": {},
   "outputs": [
    {
     "data": {
      "text/plain": [
       "{2, 3, 'ByteIQ', 'Mindgraph', 'Shubha', 'Soumya', 'mindgraph'}"
      ]
     },
     "execution_count": 71,
     "metadata": {},
     "output_type": "execute_result"
    }
   ],
   "source": [
    "s"
   ]
  },
  {
   "cell_type": "code",
   "execution_count": 68,
   "id": "90b55931",
   "metadata": {},
   "outputs": [],
   "source": [
    "l = [2, 3, 4, 5, 5, 7, 8, 9, 8, 9]"
   ]
  },
  {
   "cell_type": "markdown",
   "id": "4960a947",
   "metadata": {},
   "source": [
    "### removing duplicates from a list"
   ]
  },
  {
   "cell_type": "code",
   "execution_count": 69,
   "id": "053e4fcd",
   "metadata": {},
   "outputs": [
    {
     "data": {
      "text/plain": [
       "{2, 3, 4, 5, 7, 8, 9}"
      ]
     },
     "execution_count": 69,
     "metadata": {},
     "output_type": "execute_result"
    }
   ],
   "source": [
    "set(l) # explicit type conversion which is know as type casting"
   ]
  },
  {
   "cell_type": "code",
   "execution_count": 72,
   "id": "264504b1",
   "metadata": {},
   "outputs": [],
   "source": [
    "l = [1, 2, 3, 4, 5, 6, 7, 7, [1, 2, 3, 4, 5]]"
   ]
  },
  {
   "cell_type": "code",
   "execution_count": 73,
   "id": "8047640b",
   "metadata": {},
   "outputs": [
    {
     "data": {
      "text/plain": [
       "list"
      ]
     },
     "execution_count": 73,
     "metadata": {},
     "output_type": "execute_result"
    }
   ],
   "source": [
    "type(l)"
   ]
  },
  {
   "cell_type": "code",
   "execution_count": 74,
   "id": "27d55db8",
   "metadata": {},
   "outputs": [
    {
     "data": {
      "text/plain": [
       "[1, 2, 3, 4, 5]"
      ]
     },
     "execution_count": 74,
     "metadata": {},
     "output_type": "execute_result"
    }
   ],
   "source": [
    "l[-1]"
   ]
  },
  {
   "cell_type": "code",
   "execution_count": 75,
   "id": "dec4fca4",
   "metadata": {},
   "outputs": [
    {
     "data": {
      "text/plain": [
       "list"
      ]
     },
     "execution_count": 75,
     "metadata": {},
     "output_type": "execute_result"
    }
   ],
   "source": [
    "type(l[-1])"
   ]
  },
  {
   "cell_type": "code",
   "execution_count": 76,
   "id": "d8ff8c0f",
   "metadata": {},
   "outputs": [
    {
     "ename": "TypeError",
     "evalue": "unhashable type: 'list'",
     "output_type": "error",
     "traceback": [
      "\u001b[1;31m---------------------------------------------------------------------------\u001b[0m",
      "\u001b[1;31mTypeError\u001b[0m                                 Traceback (most recent call last)",
      "\u001b[1;32m~\\AppData\\Local\\Temp/ipykernel_6300/2189031992.py\u001b[0m in \u001b[0;36m<module>\u001b[1;34m\u001b[0m\n\u001b[1;32m----> 1\u001b[1;33m \u001b[0mset\u001b[0m\u001b[1;33m(\u001b[0m\u001b[0ml\u001b[0m\u001b[1;33m)\u001b[0m\u001b[1;33m\u001b[0m\u001b[1;33m\u001b[0m\u001b[0m\n\u001b[0m",
      "\u001b[1;31mTypeError\u001b[0m: unhashable type: 'list'"
     ]
    }
   ],
   "source": [
    "set(l) # every element has a hash value, so conversion when there is a collection inside a collection is not possible."
   ]
  },
  {
   "cell_type": "code",
   "execution_count": 77,
   "id": "081a1604",
   "metadata": {},
   "outputs": [],
   "source": [
    "l = [1, 2, 3, 4, 5, 6, 7, 7, [1, 2, 3, 4, 5], [1, 2, 3, 4, 5]]"
   ]
  },
  {
   "cell_type": "code",
   "execution_count": 78,
   "id": "22fe5bb3",
   "metadata": {},
   "outputs": [
    {
     "ename": "TypeError",
     "evalue": "unhashable type: 'list'",
     "output_type": "error",
     "traceback": [
      "\u001b[1;31m---------------------------------------------------------------------------\u001b[0m",
      "\u001b[1;31mTypeError\u001b[0m                                 Traceback (most recent call last)",
      "\u001b[1;32m~\\AppData\\Local\\Temp/ipykernel_6300/2189031992.py\u001b[0m in \u001b[0;36m<module>\u001b[1;34m\u001b[0m\n\u001b[1;32m----> 1\u001b[1;33m \u001b[0mset\u001b[0m\u001b[1;33m(\u001b[0m\u001b[0ml\u001b[0m\u001b[1;33m)\u001b[0m\u001b[1;33m\u001b[0m\u001b[1;33m\u001b[0m\u001b[0m\n\u001b[0m",
      "\u001b[1;31mTypeError\u001b[0m: unhashable type: 'list'"
     ]
    }
   ],
   "source": [
    "set(l) # even if there is a same type of list, still it will throw error for the above mentioned reason."
   ]
  },
  {
   "cell_type": "code",
   "execution_count": 89,
   "id": "dceabbf6",
   "metadata": {},
   "outputs": [
    {
     "data": {
      "text/plain": [
       "[1, 2, 3, 4, 5, 6, 7, 7, [1, 2, 3, 4, 5], [1, 2, 3, 4, 5]]"
      ]
     },
     "execution_count": 89,
     "metadata": {},
     "output_type": "execute_result"
    }
   ],
   "source": [
    "l"
   ]
  },
  {
   "cell_type": "code",
   "execution_count": 97,
   "id": "250403dd",
   "metadata": {},
   "outputs": [],
   "source": [
    "test_set = set()"
   ]
  },
  {
   "cell_type": "markdown",
   "id": "996d2be1",
   "metadata": {},
   "source": [
    "elemination of internal lists and duplicates"
   ]
  },
  {
   "cell_type": "markdown",
   "id": "6372bd76",
   "metadata": {},
   "source": [
    "### understand the program below and explain it in 16th September - Task 1"
   ]
  },
  {
   "cell_type": "code",
   "execution_count": 99,
   "id": "3e5e8ebf",
   "metadata": {},
   "outputs": [
    {
     "name": "stdout",
     "output_type": "stream",
     "text": [
      "{1, 2, 3, 4, 5, 6, 7}\n"
     ]
    }
   ],
   "source": [
    "for i in l:\n",
    "#     print(i)\n",
    "    if type(i) != list:\n",
    "        test_set.add(i)\n",
    "print(test_set)"
   ]
  },
  {
   "cell_type": "code",
   "execution_count": 101,
   "id": "b6b45c48",
   "metadata": {},
   "outputs": [
    {
     "data": {
      "text/plain": [
       "{1, 2, 3, 4, 5, 6, 7}"
      ]
     },
     "execution_count": 101,
     "metadata": {},
     "output_type": "execute_result"
    }
   ],
   "source": [
    "test_set"
   ]
  },
  {
   "cell_type": "code",
   "execution_count": 100,
   "id": "559adcd7",
   "metadata": {},
   "outputs": [
    {
     "data": {
      "text/plain": [
       "[1, 2, 3, 4, 5, 6, 7, 7, [1, 2, 3, 4, 5], [1, 2, 3, 4, 5]]"
      ]
     },
     "execution_count": 100,
     "metadata": {},
     "output_type": "execute_result"
    }
   ],
   "source": [
    "l"
   ]
  },
  {
   "cell_type": "code",
   "execution_count": 102,
   "id": "a13ea017",
   "metadata": {},
   "outputs": [
    {
     "data": {
      "text/plain": [
       "{1, 2, 3, 4, 5, 6, 7}"
      ]
     },
     "execution_count": 102,
     "metadata": {},
     "output_type": "execute_result"
    }
   ],
   "source": [
    "test_set"
   ]
  },
  {
   "cell_type": "markdown",
   "id": "92b5ba34",
   "metadata": {},
   "source": [
    "### remove()"
   ]
  },
  {
   "cell_type": "code",
   "execution_count": 103,
   "id": "e063214c",
   "metadata": {},
   "outputs": [],
   "source": [
    "test_set.remove(3) # satya is terminated"
   ]
  },
  {
   "cell_type": "code",
   "execution_count": 104,
   "id": "9fa4f036",
   "metadata": {},
   "outputs": [
    {
     "data": {
      "text/plain": [
       "{1, 2, 4, 5, 6, 7}"
      ]
     },
     "execution_count": 104,
     "metadata": {},
     "output_type": "execute_result"
    }
   ],
   "source": [
    "test_set"
   ]
  },
  {
   "cell_type": "code",
   "execution_count": 105,
   "id": "1176c53e",
   "metadata": {},
   "outputs": [
    {
     "ename": "KeyError",
     "evalue": "57",
     "output_type": "error",
     "traceback": [
      "\u001b[1;31m---------------------------------------------------------------------------\u001b[0m",
      "\u001b[1;31mKeyError\u001b[0m                                  Traceback (most recent call last)",
      "\u001b[1;32m~\\AppData\\Local\\Temp/ipykernel_6300/3805213903.py\u001b[0m in \u001b[0;36m<module>\u001b[1;34m\u001b[0m\n\u001b[1;32m----> 1\u001b[1;33m \u001b[0mtest_set\u001b[0m\u001b[1;33m.\u001b[0m\u001b[0mremove\u001b[0m\u001b[1;33m(\u001b[0m\u001b[1;36m57\u001b[0m\u001b[1;33m)\u001b[0m\u001b[1;33m\u001b[0m\u001b[1;33m\u001b[0m\u001b[0m\n\u001b[0m",
      "\u001b[1;31mKeyError\u001b[0m: 57"
     ]
    }
   ],
   "source": [
    "test_set.remove(57) # 57 is the element(not index) which is not present in the set."
   ]
  },
  {
   "cell_type": "code",
   "execution_count": 106,
   "id": "477b117d",
   "metadata": {},
   "outputs": [
    {
     "data": {
      "text/plain": [
       "{1, 2, 4, 5, 6, 7}"
      ]
     },
     "execution_count": 106,
     "metadata": {},
     "output_type": "execute_result"
    }
   ],
   "source": [
    "test_set"
   ]
  },
  {
   "cell_type": "code",
   "execution_count": 107,
   "id": "f4add012",
   "metadata": {},
   "outputs": [],
   "source": [
    "test_set.discard(57) # satya is discrded from training but present in mindgraph. It will not throw any error"
   ]
  },
  {
   "cell_type": "code",
   "execution_count": 109,
   "id": "44f91d92",
   "metadata": {},
   "outputs": [],
   "source": [
    "test_set.discard(1)"
   ]
  },
  {
   "cell_type": "code",
   "execution_count": 110,
   "id": "ae2acedd",
   "metadata": {},
   "outputs": [
    {
     "data": {
      "text/plain": [
       "{2, 4, 5, 6, 7}"
      ]
     },
     "execution_count": 110,
     "metadata": {},
     "output_type": "execute_result"
    }
   ],
   "source": [
    "test_set"
   ]
  },
  {
   "cell_type": "code",
   "execution_count": 111,
   "id": "9f757c49",
   "metadata": {},
   "outputs": [],
   "source": [
    "test_set.discard(1)"
   ]
  },
  {
   "cell_type": "markdown",
   "id": "6d978b8e",
   "metadata": {},
   "source": [
    "* only difference between remove() and discard() is, even if the element is removed there is no error in case of discard but in case remove it will throw error."
   ]
  },
  {
   "cell_type": "markdown",
   "id": "3c45c0a9",
   "metadata": {},
   "source": [
    "### difference()"
   ]
  },
  {
   "cell_type": "code",
   "execution_count": 117,
   "id": "b5558ab3",
   "metadata": {},
   "outputs": [],
   "source": [
    "byteiq = {'Shubha', 'Satya', 'Lalit', 'Soumya', 'Priyanka', 'Prity'}"
   ]
  },
  {
   "cell_type": "code",
   "execution_count": 114,
   "id": "1fb8eb41",
   "metadata": {},
   "outputs": [
    {
     "data": {
      "text/plain": [
       "set"
      ]
     },
     "execution_count": 114,
     "metadata": {},
     "output_type": "execute_result"
    }
   ],
   "source": [
    "type(byteiq)"
   ]
  },
  {
   "cell_type": "code",
   "execution_count": 118,
   "id": "9130e804",
   "metadata": {},
   "outputs": [],
   "source": [
    "mindgraph = {'Shubha', 'Lalit', 'Soumya', 'Nikhilesh', 'Sachin'}"
   ]
  },
  {
   "cell_type": "code",
   "execution_count": 115,
   "id": "6949a702",
   "metadata": {},
   "outputs": [
    {
     "data": {
      "text/plain": [
       "set"
      ]
     },
     "execution_count": 115,
     "metadata": {},
     "output_type": "execute_result"
    }
   ],
   "source": [
    "type(mindgraph)"
   ]
  },
  {
   "cell_type": "code",
   "execution_count": 119,
   "id": "cc32641b",
   "metadata": {},
   "outputs": [
    {
     "data": {
      "text/plain": [
       "{'Prity', 'Priyanka', 'Satya'}"
      ]
     },
     "execution_count": 119,
     "metadata": {},
     "output_type": "execute_result"
    }
   ],
   "source": [
    "byteiq.difference(mindgraph)"
   ]
  },
  {
   "cell_type": "code",
   "execution_count": 120,
   "id": "729fe9cf",
   "metadata": {},
   "outputs": [
    {
     "data": {
      "text/plain": [
       "{'Nikhilesh', 'Sachin'}"
      ]
     },
     "execution_count": 120,
     "metadata": {},
     "output_type": "execute_result"
    }
   ],
   "source": [
    "mindgraph.difference(byteiq)"
   ]
  },
  {
   "cell_type": "code",
   "execution_count": 121,
   "id": "f7f90413",
   "metadata": {},
   "outputs": [
    {
     "data": {
      "text/plain": [
       "{'Lalit', 'Prity', 'Priyanka', 'Satya', 'Shubha', 'Soumya'}"
      ]
     },
     "execution_count": 121,
     "metadata": {},
     "output_type": "execute_result"
    }
   ],
   "source": [
    "byteiq"
   ]
  },
  {
   "cell_type": "markdown",
   "id": "d0696b57",
   "metadata": {},
   "source": [
    "### indexing operation is not possible in case of set."
   ]
  },
  {
   "cell_type": "code",
   "execution_count": 123,
   "id": "0d09ed3c",
   "metadata": {},
   "outputs": [
    {
     "ename": "TypeError",
     "evalue": "'set' object is not subscriptable",
     "output_type": "error",
     "traceback": [
      "\u001b[1;31m---------------------------------------------------------------------------\u001b[0m",
      "\u001b[1;31mTypeError\u001b[0m                                 Traceback (most recent call last)",
      "\u001b[1;32m~\\AppData\\Local\\Temp/ipykernel_6300/2890444192.py\u001b[0m in \u001b[0;36m<module>\u001b[1;34m\u001b[0m\n\u001b[1;32m----> 1\u001b[1;33m \u001b[0mbyteiq\u001b[0m\u001b[1;33m[\u001b[0m\u001b[1;36m0\u001b[0m\u001b[1;33m]\u001b[0m\u001b[1;33m\u001b[0m\u001b[1;33m\u001b[0m\u001b[0m\n\u001b[0m",
      "\u001b[1;31mTypeError\u001b[0m: 'set' object is not subscriptable"
     ]
    }
   ],
   "source": [
    "byteiq[0] # set is not subscriptable"
   ]
  },
  {
   "cell_type": "code",
   "execution_count": 122,
   "id": "8cdbc9bc",
   "metadata": {},
   "outputs": [
    {
     "ename": "TypeError",
     "evalue": "'set' object is not callable",
     "output_type": "error",
     "traceback": [
      "\u001b[1;31m---------------------------------------------------------------------------\u001b[0m",
      "\u001b[1;31mTypeError\u001b[0m                                 Traceback (most recent call last)",
      "\u001b[1;32m~\\AppData\\Local\\Temp/ipykernel_6300/323880267.py\u001b[0m in \u001b[0;36m<module>\u001b[1;34m\u001b[0m\n\u001b[1;32m----> 1\u001b[1;33m \u001b[0mbyteiq\u001b[0m\u001b[1;33m(\u001b[0m\u001b[1;36m0\u001b[0m\u001b[1;33m)\u001b[0m\u001b[1;33m\u001b[0m\u001b[1;33m\u001b[0m\u001b[0m\n\u001b[0m",
      "\u001b[1;31mTypeError\u001b[0m: 'set' object is not callable"
     ]
    }
   ],
   "source": [
    "byteiq(0) # common bracket will be used only incase of functions"
   ]
  },
  {
   "cell_type": "markdown",
   "id": "0a11326e",
   "metadata": {},
   "source": [
    "* Set never stores elements in a ordered fashion."
   ]
  },
  {
   "cell_type": "markdown",
   "id": "60aba0ce",
   "metadata": {},
   "source": [
    "### understand the program below and explain it in 16th September - Task 2"
   ]
  },
  {
   "cell_type": "code",
   "execution_count": 125,
   "id": "d7519484",
   "metadata": {},
   "outputs": [
    {
     "data": {
      "text/plain": [
       "{'Lalit', 'Prity', 'Priyanka', 'Satya', 'Shubha', 'Soumya'}"
      ]
     },
     "execution_count": 125,
     "metadata": {},
     "output_type": "execute_result"
    }
   ],
   "source": [
    "byteiq"
   ]
  },
  {
   "cell_type": "code",
   "execution_count": 124,
   "id": "e39bde96",
   "metadata": {},
   "outputs": [
    {
     "name": "stdout",
     "output_type": "stream",
     "text": [
      "Satya\n",
      "Soumya\n",
      "Lalit\n",
      "Prity\n",
      "Shubha\n",
      "Priyanka\n"
     ]
    }
   ],
   "source": [
    "for employee in byteiq:\n",
    "    print(employee) # Set never stores elements in a ordered fashion"
   ]
  },
  {
   "cell_type": "code",
   "execution_count": 126,
   "id": "c33fd2a3",
   "metadata": {},
   "outputs": [],
   "source": [
    "string_set = byteiq # assigning the values of byteiq to string_set variable."
   ]
  },
  {
   "cell_type": "code",
   "execution_count": 127,
   "id": "4f45458d",
   "metadata": {},
   "outputs": [
    {
     "data": {
      "text/plain": [
       "{'Lalit', 'Prity', 'Priyanka', 'Satya', 'Shubha', 'Soumya'}"
      ]
     },
     "execution_count": 127,
     "metadata": {},
     "output_type": "execute_result"
    }
   ],
   "source": [
    "string_set"
   ]
  },
  {
   "cell_type": "markdown",
   "id": "cdb8383d",
   "metadata": {},
   "source": [
    "* To perform indexing operation on a set:\n",
    "    * convert set to list - perform indexing - then back to set. (in case you want to mutate)\n",
    "    * convert set to tuple - perform indexing - then back to set. (in case you do not want to mutate)"
   ]
  },
  {
   "cell_type": "code",
   "execution_count": 129,
   "id": "0fdd3414",
   "metadata": {},
   "outputs": [
    {
     "ename": "TypeError",
     "evalue": "'set' object is not subscriptable",
     "output_type": "error",
     "traceback": [
      "\u001b[1;31m---------------------------------------------------------------------------\u001b[0m",
      "\u001b[1;31mTypeError\u001b[0m                                 Traceback (most recent call last)",
      "\u001b[1;32m~\\AppData\\Local\\Temp/ipykernel_6300/2163490518.py\u001b[0m in \u001b[0;36m<module>\u001b[1;34m\u001b[0m\n\u001b[1;32m----> 1\u001b[1;33m \u001b[0mstring_set\u001b[0m\u001b[1;33m[\u001b[0m\u001b[1;36m1\u001b[0m\u001b[1;33m]\u001b[0m\u001b[1;33m\u001b[0m\u001b[1;33m\u001b[0m\u001b[0m\n\u001b[0m",
      "\u001b[1;31mTypeError\u001b[0m: 'set' object is not subscriptable"
     ]
    }
   ],
   "source": [
    "string_set[1]"
   ]
  },
  {
   "cell_type": "markdown",
   "id": "4a679820",
   "metadata": {},
   "source": [
    "### convert set to list - perform indexing - then back to set. (in case you want to mutate)"
   ]
  },
  {
   "cell_type": "code",
   "execution_count": 130,
   "id": "d2bec635",
   "metadata": {},
   "outputs": [
    {
     "data": {
      "text/plain": [
       "['Satya', 'Soumya', 'Lalit', 'Prity', 'Shubha', 'Priyanka']"
      ]
     },
     "execution_count": 130,
     "metadata": {},
     "output_type": "execute_result"
    }
   ],
   "source": [
    "list(string_set) # just displaying"
   ]
  },
  {
   "cell_type": "code",
   "execution_count": 131,
   "id": "7e847174",
   "metadata": {},
   "outputs": [],
   "source": [
    "list_set = list(string_set) # converting set to list, and storing or assigning"
   ]
  },
  {
   "cell_type": "code",
   "execution_count": 140,
   "id": "f915eea4",
   "metadata": {},
   "outputs": [
    {
     "data": {
      "text/plain": [
       "list"
      ]
     },
     "execution_count": 140,
     "metadata": {},
     "output_type": "execute_result"
    }
   ],
   "source": [
    "type(list_set)"
   ]
  },
  {
   "cell_type": "code",
   "execution_count": 132,
   "id": "28ccb3e5",
   "metadata": {},
   "outputs": [
    {
     "data": {
      "text/plain": [
       "['Satya', 'Soumya', 'Lalit', 'Prity', 'Shubha', 'Priyanka']"
      ]
     },
     "execution_count": 132,
     "metadata": {},
     "output_type": "execute_result"
    }
   ],
   "source": [
    "list_set"
   ]
  },
  {
   "cell_type": "code",
   "execution_count": 133,
   "id": "c33110d0",
   "metadata": {},
   "outputs": [],
   "source": [
    "list_set[0] = 'Brahmhananda'"
   ]
  },
  {
   "cell_type": "code",
   "execution_count": 134,
   "id": "471302e2",
   "metadata": {},
   "outputs": [
    {
     "data": {
      "text/plain": [
       "['Brahmhananda', 'Soumya', 'Lalit', 'Prity', 'Shubha', 'Priyanka']"
      ]
     },
     "execution_count": 134,
     "metadata": {},
     "output_type": "execute_result"
    }
   ],
   "source": [
    "list_set # just displaying"
   ]
  },
  {
   "cell_type": "code",
   "execution_count": 135,
   "id": "eda7ba16",
   "metadata": {},
   "outputs": [
    {
     "data": {
      "text/plain": [
       "list"
      ]
     },
     "execution_count": 135,
     "metadata": {},
     "output_type": "execute_result"
    }
   ],
   "source": [
    "type(list_set)"
   ]
  },
  {
   "cell_type": "code",
   "execution_count": 136,
   "id": "573097cd",
   "metadata": {},
   "outputs": [
    {
     "ename": "NameError",
     "evalue": "name 'new_set' is not defined",
     "output_type": "error",
     "traceback": [
      "\u001b[1;31m---------------------------------------------------------------------------\u001b[0m",
      "\u001b[1;31mNameError\u001b[0m                                 Traceback (most recent call last)",
      "\u001b[1;32m~\\AppData\\Local\\Temp/ipykernel_6300/502970480.py\u001b[0m in \u001b[0;36m<module>\u001b[1;34m\u001b[0m\n\u001b[1;32m----> 1\u001b[1;33m \u001b[0mnew_set\u001b[0m\u001b[1;33m\u001b[0m\u001b[1;33m\u001b[0m\u001b[0m\n\u001b[0m",
      "\u001b[1;31mNameError\u001b[0m: name 'new_set' is not defined"
     ]
    }
   ],
   "source": [
    "new_set"
   ]
  },
  {
   "cell_type": "code",
   "execution_count": 137,
   "id": "877b4fc1",
   "metadata": {},
   "outputs": [],
   "source": [
    "new_set = set(list_set) # new variable created named as 'new_set' and converted list is assigned or stored"
   ]
  },
  {
   "cell_type": "code",
   "execution_count": 138,
   "id": "2db2076e",
   "metadata": {},
   "outputs": [
    {
     "data": {
      "text/plain": [
       "{'Brahmhananda', 'Lalit', 'Prity', 'Priyanka', 'Shubha', 'Soumya'}"
      ]
     },
     "execution_count": 138,
     "metadata": {},
     "output_type": "execute_result"
    }
   ],
   "source": [
    "new_set # new set after manipulation, just displaying"
   ]
  },
  {
   "cell_type": "code",
   "execution_count": 139,
   "id": "4d6d8bdf",
   "metadata": {},
   "outputs": [
    {
     "data": {
      "text/plain": [
       "{'Lalit', 'Prity', 'Priyanka', 'Satya', 'Shubha', 'Soumya'}"
      ]
     },
     "execution_count": 139,
     "metadata": {},
     "output_type": "execute_result"
    }
   ],
   "source": [
    "string_set # original set, just displaying"
   ]
  },
  {
   "cell_type": "markdown",
   "id": "37bd5489",
   "metadata": {},
   "source": [
    "### convert set to tuple - perform indexing - then back to set. (in case you do not want to mutate)"
   ]
  },
  {
   "cell_type": "code",
   "execution_count": 141,
   "id": "42656b3a",
   "metadata": {},
   "outputs": [
    {
     "data": {
      "text/plain": [
       "{'Lalit', 'Prity', 'Priyanka', 'Satya', 'Shubha', 'Soumya'}"
      ]
     },
     "execution_count": 141,
     "metadata": {},
     "output_type": "execute_result"
    }
   ],
   "source": [
    "string_set"
   ]
  },
  {
   "cell_type": "code",
   "execution_count": 143,
   "id": "96941d54",
   "metadata": {},
   "outputs": [
    {
     "ename": "TypeError",
     "evalue": "'set' object is not subscriptable",
     "output_type": "error",
     "traceback": [
      "\u001b[1;31m---------------------------------------------------------------------------\u001b[0m",
      "\u001b[1;31mTypeError\u001b[0m                                 Traceback (most recent call last)",
      "\u001b[1;32m~\\AppData\\Local\\Temp/ipykernel_6300/439649282.py\u001b[0m in \u001b[0;36m<module>\u001b[1;34m\u001b[0m\n\u001b[1;32m----> 1\u001b[1;33m \u001b[0mstring_set\u001b[0m\u001b[1;33m[\u001b[0m\u001b[1;36m0\u001b[0m\u001b[1;33m:\u001b[0m\u001b[1;36m2\u001b[0m\u001b[1;33m]\u001b[0m \u001b[1;31m# indexing not possible\u001b[0m\u001b[1;33m\u001b[0m\u001b[1;33m\u001b[0m\u001b[0m\n\u001b[0m",
      "\u001b[1;31mTypeError\u001b[0m: 'set' object is not subscriptable"
     ]
    }
   ],
   "source": [
    "string_set[0:2] # slicing or indexing not possible"
   ]
  },
  {
   "cell_type": "code",
   "execution_count": 144,
   "id": "c2efdc8d",
   "metadata": {},
   "outputs": [
    {
     "data": {
      "text/plain": [
       "('Satya', 'Soumya', 'Lalit', 'Prity', 'Shubha', 'Priyanka')"
      ]
     },
     "execution_count": 144,
     "metadata": {},
     "output_type": "execute_result"
    }
   ],
   "source": [
    "tuple(string_set)"
   ]
  },
  {
   "cell_type": "code",
   "execution_count": 145,
   "id": "23fffc62",
   "metadata": {},
   "outputs": [],
   "source": [
    "tuple_set = tuple(string_set)"
   ]
  },
  {
   "cell_type": "code",
   "execution_count": 146,
   "id": "255d8c6c",
   "metadata": {},
   "outputs": [
    {
     "data": {
      "text/plain": [
       "('Satya', 'Soumya', 'Lalit', 'Prity', 'Shubha', 'Priyanka')"
      ]
     },
     "execution_count": 146,
     "metadata": {},
     "output_type": "execute_result"
    }
   ],
   "source": [
    "tuple_set"
   ]
  },
  {
   "cell_type": "code",
   "execution_count": 147,
   "id": "7091c0f5",
   "metadata": {},
   "outputs": [
    {
     "data": {
      "text/plain": [
       "tuple"
      ]
     },
     "execution_count": 147,
     "metadata": {},
     "output_type": "execute_result"
    }
   ],
   "source": [
    "type(tuple_set)"
   ]
  },
  {
   "cell_type": "code",
   "execution_count": 148,
   "id": "704d2087",
   "metadata": {},
   "outputs": [
    {
     "data": {
      "text/plain": [
       "'Satya'"
      ]
     },
     "execution_count": 148,
     "metadata": {},
     "output_type": "execute_result"
    }
   ],
   "source": [
    "tuple_set[0] # can access element"
   ]
  },
  {
   "cell_type": "code",
   "execution_count": 149,
   "id": "7497dd42",
   "metadata": {},
   "outputs": [
    {
     "ename": "TypeError",
     "evalue": "'tuple' object does not support item assignment",
     "output_type": "error",
     "traceback": [
      "\u001b[1;31m---------------------------------------------------------------------------\u001b[0m",
      "\u001b[1;31mTypeError\u001b[0m                                 Traceback (most recent call last)",
      "\u001b[1;32m~\\AppData\\Local\\Temp/ipykernel_6300/3292373807.py\u001b[0m in \u001b[0;36m<module>\u001b[1;34m\u001b[0m\n\u001b[1;32m----> 1\u001b[1;33m \u001b[0mtuple_set\u001b[0m\u001b[1;33m[\u001b[0m\u001b[1;36m0\u001b[0m\u001b[1;33m]\u001b[0m \u001b[1;33m=\u001b[0m \u001b[1;36m1\u001b[0m\u001b[1;33m\u001b[0m\u001b[1;33m\u001b[0m\u001b[0m\n\u001b[0m",
      "\u001b[1;31mTypeError\u001b[0m: 'tuple' object does not support item assignment"
     ]
    }
   ],
   "source": [
    "tuple_set[0] = 1 # Immutable"
   ]
  },
  {
   "cell_type": "code",
   "execution_count": 150,
   "id": "7b1e9925",
   "metadata": {},
   "outputs": [
    {
     "data": {
      "text/plain": [
       "('Satya', 'Soumya', 'Lalit', 'Prity', 'Shubha', 'Priyanka')"
      ]
     },
     "execution_count": 150,
     "metadata": {},
     "output_type": "execute_result"
    }
   ],
   "source": [
    "tuple_set # order fasion is not changing, slicing is possible"
   ]
  },
  {
   "cell_type": "code",
   "execution_count": 151,
   "id": "861c00d5",
   "metadata": {},
   "outputs": [
    {
     "data": {
      "text/plain": [
       "('Satya', 'Soumya', 'Lalit')"
      ]
     },
     "execution_count": 151,
     "metadata": {},
     "output_type": "execute_result"
    }
   ],
   "source": [
    "tuple_set[0:3]"
   ]
  },
  {
   "cell_type": "code",
   "execution_count": 153,
   "id": "af4ef30c",
   "metadata": {},
   "outputs": [],
   "source": [
    "new_tuple = tuple_set[0:3]"
   ]
  },
  {
   "cell_type": "code",
   "execution_count": 154,
   "id": "67326b3b",
   "metadata": {},
   "outputs": [
    {
     "data": {
      "text/plain": [
       "('Satya', 'Soumya', 'Lalit')"
      ]
     },
     "execution_count": 154,
     "metadata": {},
     "output_type": "execute_result"
    }
   ],
   "source": [
    "new_tuple"
   ]
  },
  {
   "cell_type": "code",
   "execution_count": 155,
   "id": "f4379ca5",
   "metadata": {},
   "outputs": [
    {
     "data": {
      "text/plain": [
       "tuple"
      ]
     },
     "execution_count": 155,
     "metadata": {},
     "output_type": "execute_result"
    }
   ],
   "source": [
    "type(new_tuple)"
   ]
  },
  {
   "cell_type": "code",
   "execution_count": 156,
   "id": "b3cda5d2",
   "metadata": {},
   "outputs": [
    {
     "data": {
      "text/plain": [
       "{'Lalit', 'Satya', 'Soumya'}"
      ]
     },
     "execution_count": 156,
     "metadata": {},
     "output_type": "execute_result"
    }
   ],
   "source": [
    "set(new_tuple)"
   ]
  },
  {
   "cell_type": "code",
   "execution_count": 157,
   "id": "54e62b74",
   "metadata": {},
   "outputs": [],
   "source": [
    "new_set_tup = set(new_tuple)"
   ]
  },
  {
   "cell_type": "code",
   "execution_count": 158,
   "id": "dc07b6fa",
   "metadata": {},
   "outputs": [
    {
     "data": {
      "text/plain": [
       "{'Lalit', 'Satya', 'Soumya'}"
      ]
     },
     "execution_count": 158,
     "metadata": {},
     "output_type": "execute_result"
    }
   ],
   "source": [
    "new_set_tup"
   ]
  },
  {
   "cell_type": "markdown",
   "id": "91ef6d9f",
   "metadata": {},
   "source": [
    "### Dictionary - dict"
   ]
  },
  {
   "cell_type": "code",
   "execution_count": 159,
   "id": "25879613",
   "metadata": {},
   "outputs": [],
   "source": [
    "d = {} #initializing an empty dict, dict stores value in key and value pair."
   ]
  },
  {
   "cell_type": "code",
   "execution_count": 160,
   "id": "18ec0276",
   "metadata": {},
   "outputs": [
    {
     "data": {
      "text/plain": [
       "dict"
      ]
     },
     "execution_count": 160,
     "metadata": {},
     "output_type": "execute_result"
    }
   ],
   "source": [
    "type(d)"
   ]
  },
  {
   "cell_type": "code",
   "execution_count": 161,
   "id": "f7d8a7a2",
   "metadata": {},
   "outputs": [],
   "source": [
    "d = {4, 5, 6}"
   ]
  },
  {
   "cell_type": "code",
   "execution_count": 162,
   "id": "95763a16",
   "metadata": {},
   "outputs": [
    {
     "data": {
      "text/plain": [
       "set"
      ]
     },
     "execution_count": 162,
     "metadata": {},
     "output_type": "execute_result"
    }
   ],
   "source": [
    "type(d)"
   ]
  },
  {
   "cell_type": "code",
   "execution_count": 163,
   "id": "239c41ca",
   "metadata": {},
   "outputs": [],
   "source": [
    "d = {\"key\": \"value\"}"
   ]
  },
  {
   "cell_type": "code",
   "execution_count": 164,
   "id": "867f69e5",
   "metadata": {},
   "outputs": [
    {
     "data": {
      "text/plain": [
       "dict"
      ]
     },
     "execution_count": 164,
     "metadata": {},
     "output_type": "execute_result"
    }
   ],
   "source": [
    "type(d)"
   ]
  },
  {
   "cell_type": "code",
   "execution_count": 165,
   "id": "57e64376",
   "metadata": {},
   "outputs": [],
   "source": [
    "# Example\n",
    "l = [1, 2, 3, 4, 5, 6, 7, 8, 9]"
   ]
  },
  {
   "cell_type": "code",
   "execution_count": 166,
   "id": "e4d8a934",
   "metadata": {},
   "outputs": [
    {
     "data": {
      "text/plain": [
       "2"
      ]
     },
     "execution_count": 166,
     "metadata": {},
     "output_type": "execute_result"
    }
   ],
   "source": [
    "l[1]"
   ]
  },
  {
   "cell_type": "code",
   "execution_count": 167,
   "id": "8678659d",
   "metadata": {},
   "outputs": [],
   "source": [
    "d = {'Name' : 'Shubha', 'Employer' : 'Mindgraph and ByteIQ', 'EmployeeID' : 'E007', 'YOE' : 1.4, 'People Handling' : 7}"
   ]
  },
  {
   "cell_type": "code",
   "execution_count": 168,
   "id": "c924488b",
   "metadata": {},
   "outputs": [
    {
     "data": {
      "text/plain": [
       "{'Name': 'Shubha',\n",
       " 'Employer': 'Mindgraph and ByteIQ',\n",
       " 'EmployeeID': 'E007',\n",
       " 'YOE': 1.4,\n",
       " 'People Handling': 7}"
      ]
     },
     "execution_count": 168,
     "metadata": {},
     "output_type": "execute_result"
    }
   ],
   "source": [
    "d"
   ]
  },
  {
   "cell_type": "code",
   "execution_count": 169,
   "id": "162874b9",
   "metadata": {},
   "outputs": [
    {
     "data": {
      "text/plain": [
       "dict"
      ]
     },
     "execution_count": 169,
     "metadata": {},
     "output_type": "execute_result"
    }
   ],
   "source": [
    "type(d)"
   ]
  },
  {
   "cell_type": "code",
   "execution_count": 170,
   "id": "d19befa5",
   "metadata": {},
   "outputs": [
    {
     "data": {
      "text/plain": [
       "dict_keys(['Name', 'Employer', 'EmployeeID', 'YOE', 'People Handling'])"
      ]
     },
     "execution_count": 170,
     "metadata": {},
     "output_type": "execute_result"
    }
   ],
   "source": [
    "d.keys()"
   ]
  },
  {
   "cell_type": "code",
   "execution_count": 171,
   "id": "13214872",
   "metadata": {},
   "outputs": [
    {
     "data": {
      "text/plain": [
       "dict_values(['Shubha', 'Mindgraph and ByteIQ', 'E007', 1.4, 7])"
      ]
     },
     "execution_count": 171,
     "metadata": {},
     "output_type": "execute_result"
    }
   ],
   "source": [
    "d.values()"
   ]
  },
  {
   "cell_type": "markdown",
   "id": "2790f93e",
   "metadata": {},
   "source": [
    "* Keys inside a Python dictionary can only be of a type that is immutable. Immutable data types in Python are integers , strings , tuples , floating point numbers , and Booleans "
   ]
  },
  {
   "cell_type": "code",
   "execution_count": 191,
   "id": "cad9db85",
   "metadata": {},
   "outputs": [
    {
     "ename": "SyntaxError",
     "evalue": "invalid syntax (Temp/ipykernel_6300/627109955.py, line 1)",
     "output_type": "error",
     "traceback": [
      "\u001b[1;36m  File \u001b[1;32m\"C:\\Users\\Acer\\AppData\\Local\\Temp/ipykernel_6300/627109955.py\"\u001b[1;36m, line \u001b[1;32m1\u001b[0m\n\u001b[1;33m    d = {1:\"Shubha\", 5.5 : 5, \"Nikki\" : False, 'SP' : /}\u001b[0m\n\u001b[1;37m                                                      ^\u001b[0m\n\u001b[1;31mSyntaxError\u001b[0m\u001b[1;31m:\u001b[0m invalid syntax\n"
     ]
    }
   ],
   "source": [
    "d = {1:\"Shubha\", 5.5 : 5, \"Nikki\" : False, 'SP' : /} # doesn't take special character as value"
   ]
  },
  {
   "cell_type": "code",
   "execution_count": 192,
   "id": "df74f027",
   "metadata": {},
   "outputs": [
    {
     "ename": "SyntaxError",
     "evalue": "unexpected EOF while parsing (Temp/ipykernel_6300/1034445040.py, line 1)",
     "output_type": "error",
     "traceback": [
      "\u001b[1;36m  File \u001b[1;32m\"C:\\Users\\Acer\\AppData\\Local\\Temp/ipykernel_6300/1034445040.py\"\u001b[1;36m, line \u001b[1;32m1\u001b[0m\n\u001b[1;33m    d = {1:\"Shubha\", 5.5 : 5, \"Nikki\" : False, 'SP' : # } # doesn't take special character as value\u001b[0m\n\u001b[1;37m                                                                                                   ^\u001b[0m\n\u001b[1;31mSyntaxError\u001b[0m\u001b[1;31m:\u001b[0m unexpected EOF while parsing\n"
     ]
    }
   ],
   "source": [
    "d = {1:\"Shubha\", 5.5 : 5, \"Nikki\" : False, 'SP' : # } # doesn't take special character as value"
   ]
  },
  {
   "cell_type": "code",
   "execution_count": 223,
   "id": "1746063c",
   "metadata": {},
   "outputs": [],
   "source": [
    "d = {1:\"Shubha\", 5.5 : 5, \"Nikki\" : False, 'SP' : '#' } # will work if the special character is written as string."
   ]
  },
  {
   "cell_type": "code",
   "execution_count": 224,
   "id": "0a3aa986",
   "metadata": {},
   "outputs": [
    {
     "data": {
      "text/plain": [
       "{1: 'Shubha', 5.5: 5, 'Nikki': False, 'SP': '#'}"
      ]
     },
     "execution_count": 224,
     "metadata": {},
     "output_type": "execute_result"
    }
   ],
   "source": [
    "d"
   ]
  },
  {
   "cell_type": "code",
   "execution_count": 226,
   "id": "c555cece",
   "metadata": {},
   "outputs": [
    {
     "ename": "TypeError",
     "evalue": "unhashable type: 'list'",
     "output_type": "error",
     "traceback": [
      "\u001b[1;31m---------------------------------------------------------------------------\u001b[0m",
      "\u001b[1;31mTypeError\u001b[0m                                 Traceback (most recent call last)",
      "\u001b[1;32m~\\AppData\\Local\\Temp/ipykernel_6300/1752774683.py\u001b[0m in \u001b[0;36m<module>\u001b[1;34m\u001b[0m\n\u001b[0;32m      1\u001b[0m \u001b[1;31m# won't work for a list, unable to create a hash value for collection\u001b[0m\u001b[1;33m\u001b[0m\u001b[1;33m\u001b[0m\u001b[0m\n\u001b[1;32m----> 2\u001b[1;33m \u001b[0md\u001b[0m \u001b[1;33m=\u001b[0m \u001b[1;33m{\u001b[0m\u001b[1;36m1\u001b[0m\u001b[1;33m:\u001b[0m\u001b[1;34m\"Shubha\"\u001b[0m\u001b[1;33m,\u001b[0m \u001b[1;36m5.5\u001b[0m \u001b[1;33m:\u001b[0m \u001b[1;36m5\u001b[0m\u001b[1;33m,\u001b[0m \u001b[1;34m\"Nikki\"\u001b[0m \u001b[1;33m:\u001b[0m \u001b[1;32mFalse\u001b[0m\u001b[1;33m,\u001b[0m \u001b[1;34m'SP'\u001b[0m \u001b[1;33m:\u001b[0m \u001b[1;34m'#'\u001b[0m\u001b[1;33m,\u001b[0m \u001b[1;33m[\u001b[0m\u001b[1;36m1\u001b[0m\u001b[1;33m,\u001b[0m \u001b[1;36m2\u001b[0m\u001b[1;33m,\u001b[0m \u001b[1;36m3\u001b[0m\u001b[1;33m,\u001b[0m \u001b[1;36m5\u001b[0m\u001b[1;33m]\u001b[0m \u001b[1;33m:\u001b[0m \u001b[1;36m8\u001b[0m \u001b[1;33m}\u001b[0m\u001b[1;33m\u001b[0m\u001b[1;33m\u001b[0m\u001b[0m\n\u001b[0m",
      "\u001b[1;31mTypeError\u001b[0m: unhashable type: 'list'"
     ]
    }
   ],
   "source": [
    "# won't work for a list, unable to create a hash value for collection\n",
    "d = {1:\"Shubha\", 5.5 : 5, \"Nikki\" : False, 'SP' : '#', [1, 2, 3, 5] : 8 }  # will not work when list is key"
   ]
  },
  {
   "cell_type": "code",
   "execution_count": 227,
   "id": "b5254cce",
   "metadata": {},
   "outputs": [],
   "source": [
    "d = {1:\"Shubha\", 5.5 : 5, \"Nikki\" : False, 'SP' : '#', (1, 2, 3, 5) : 8 } # will work when tuple is key"
   ]
  },
  {
   "cell_type": "code",
   "execution_count": 230,
   "id": "e2b33ef7",
   "metadata": {},
   "outputs": [
    {
     "ename": "TypeError",
     "evalue": "unhashable type: 'set'",
     "output_type": "error",
     "traceback": [
      "\u001b[1;31m---------------------------------------------------------------------------\u001b[0m",
      "\u001b[1;31mTypeError\u001b[0m                                 Traceback (most recent call last)",
      "\u001b[1;32m~\\AppData\\Local\\Temp/ipykernel_6300/3381012358.py\u001b[0m in \u001b[0;36m<module>\u001b[1;34m\u001b[0m\n\u001b[1;32m----> 1\u001b[1;33m \u001b[0md\u001b[0m \u001b[1;33m=\u001b[0m \u001b[1;33m{\u001b[0m\u001b[1;36m1\u001b[0m\u001b[1;33m:\u001b[0m\u001b[1;34m\"Shubha\"\u001b[0m\u001b[1;33m,\u001b[0m \u001b[1;36m5.5\u001b[0m \u001b[1;33m:\u001b[0m \u001b[1;36m5\u001b[0m\u001b[1;33m,\u001b[0m \u001b[1;34m\"Nikki\"\u001b[0m \u001b[1;33m:\u001b[0m \u001b[1;32mFalse\u001b[0m\u001b[1;33m,\u001b[0m \u001b[1;34m'SP'\u001b[0m \u001b[1;33m:\u001b[0m \u001b[1;34m'#'\u001b[0m\u001b[1;33m,\u001b[0m \u001b[1;33m{\u001b[0m\u001b[1;36m1\u001b[0m\u001b[1;33m,\u001b[0m \u001b[1;36m2\u001b[0m\u001b[1;33m,\u001b[0m \u001b[1;36m3\u001b[0m\u001b[1;33m,\u001b[0m \u001b[1;36m5\u001b[0m\u001b[1;33m}\u001b[0m \u001b[1;33m:\u001b[0m \u001b[1;36m8\u001b[0m \u001b[1;33m}\u001b[0m\u001b[1;33m\u001b[0m\u001b[1;33m\u001b[0m\u001b[0m\n\u001b[0m",
      "\u001b[1;31mTypeError\u001b[0m: unhashable type: 'set'"
     ]
    }
   ],
   "source": [
    "d = {1:\"Shubha\", 5.5 : 5, \"Nikki\" : False, 'SP' : '#', {1, 2, 3, 5} : 8 } # will not work when set is key"
   ]
  },
  {
   "cell_type": "code",
   "execution_count": 228,
   "id": "51d3cd5a",
   "metadata": {},
   "outputs": [
    {
     "data": {
      "text/plain": [
       "dict_keys([1, 5.5, 'Nikki', 'SP', (1, 2, 3, 5)])"
      ]
     },
     "execution_count": 228,
     "metadata": {},
     "output_type": "execute_result"
    }
   ],
   "source": [
    "d.keys()"
   ]
  },
  {
   "cell_type": "code",
   "execution_count": 229,
   "id": "630ea43f",
   "metadata": {},
   "outputs": [
    {
     "data": {
      "text/plain": [
       "dict_values(['Shubha', 5, False, '#', 8])"
      ]
     },
     "execution_count": 229,
     "metadata": {},
     "output_type": "execute_result"
    }
   ],
   "source": [
    "d.values()"
   ]
  },
  {
   "cell_type": "code",
   "execution_count": 236,
   "id": "84528cc8",
   "metadata": {},
   "outputs": [
    {
     "ename": "NameError",
     "evalue": "name '_' is not defined",
     "output_type": "error",
     "traceback": [
      "\u001b[1;31m---------------------------------------------------------------------------\u001b[0m",
      "\u001b[1;31mNameError\u001b[0m                                 Traceback (most recent call last)",
      "\u001b[1;32m~\\AppData\\Local\\Temp/ipykernel_6300/3634096859.py\u001b[0m in \u001b[0;36m<module>\u001b[1;34m\u001b[0m\n\u001b[1;32m----> 1\u001b[1;33m \u001b[0md\u001b[0m \u001b[1;33m=\u001b[0m \u001b[1;33m{\u001b[0m\u001b[1;36m1\u001b[0m\u001b[1;33m:\u001b[0m\u001b[1;34m\"Shubha\"\u001b[0m\u001b[1;33m,\u001b[0m \u001b[1;36m5.5\u001b[0m \u001b[1;33m:\u001b[0m \u001b[1;36m5\u001b[0m\u001b[1;33m,\u001b[0m \u001b[1;34m\"Nikki\"\u001b[0m \u001b[1;33m:\u001b[0m \u001b[1;32mFalse\u001b[0m\u001b[1;33m,\u001b[0m \u001b[0m_\u001b[0m \u001b[1;33m:\u001b[0m \u001b[1;36m45\u001b[0m \u001b[1;33m}\u001b[0m \u001b[1;31m# underscore can be taken as a key in a dict\u001b[0m\u001b[1;33m\u001b[0m\u001b[1;33m\u001b[0m\u001b[0m\n\u001b[0m",
      "\u001b[1;31mNameError\u001b[0m: name '_' is not defined"
     ]
    }
   ],
   "source": [
    "d = {1:\"Shubha\", 5.5 : 5, \"Nikki\" : False, _ : 45 } # underscore can't be taken as a key in a dict"
   ]
  },
  {
   "cell_type": "code",
   "execution_count": 237,
   "id": "6df9260c",
   "metadata": {},
   "outputs": [],
   "source": [
    "# '_' is a placeholder\n",
    "_ = 'New Key'"
   ]
  },
  {
   "cell_type": "code",
   "execution_count": 238,
   "id": "55f455d9",
   "metadata": {},
   "outputs": [],
   "source": [
    "d = {1:\"Shubha\", 5.5 : 5, \"Nikki\" : False, _ : 45 } # underscore can be taken as a key in a dict, if we have assigned a value to it."
   ]
  },
  {
   "cell_type": "code",
   "execution_count": 241,
   "id": "046f591b",
   "metadata": {},
   "outputs": [
    {
     "data": {
      "text/plain": [
       "dict_keys([1, 5.5, 'Nikki', 'New Key'])"
      ]
     },
     "execution_count": 241,
     "metadata": {},
     "output_type": "execute_result"
    }
   ],
   "source": [
    "d.keys()"
   ]
  },
  {
   "cell_type": "markdown",
   "id": "1dbde8a5",
   "metadata": {},
   "source": [
    "### duplicate keys not allowed"
   ]
  },
  {
   "cell_type": "code",
   "execution_count": 3,
   "id": "3811488d",
   "metadata": {},
   "outputs": [],
   "source": [
    "new_dict_1 = {1:\"Shubha\", 5.5 : 5, \"Nikki\" : False, 1 : \"Soumya\", \"Nikki\" : True,  1 : \"Soumya2\"}"
   ]
  },
  {
   "cell_type": "code",
   "execution_count": 4,
   "id": "a69aa390",
   "metadata": {},
   "outputs": [
    {
     "data": {
      "text/plain": [
       "{1: 'Soumya2', 5.5: 5, 'Nikki': True}"
      ]
     },
     "execution_count": 4,
     "metadata": {},
     "output_type": "execute_result"
    }
   ],
   "source": [
    "new_dict_1 # same key name will overwrite values and you will be able to see the latest value for the last key"
   ]
  },
  {
   "cell_type": "markdown",
   "id": "6401b555",
   "metadata": {},
   "source": [
    "### duplicate values are allowed"
   ]
  },
  {
   "cell_type": "code",
   "execution_count": 5,
   "id": "ea1aba9a",
   "metadata": {},
   "outputs": [],
   "source": [
    "d = { 1 : 'Brahmhananda', 2 : 'Brahmhananda', \"Satya 2\" : 'Brahmhananda'}"
   ]
  },
  {
   "cell_type": "code",
   "execution_count": 6,
   "id": "7e3eef2a",
   "metadata": {},
   "outputs": [
    {
     "data": {
      "text/plain": [
       "dict_keys([1, 2, 'Satya 2'])"
      ]
     },
     "execution_count": 6,
     "metadata": {},
     "output_type": "execute_result"
    }
   ],
   "source": [
    "d.keys()"
   ]
  },
  {
   "cell_type": "code",
   "execution_count": 7,
   "id": "1dc712e8",
   "metadata": {},
   "outputs": [
    {
     "data": {
      "text/plain": [
       "dict_values(['Brahmhananda', 'Brahmhananda', 'Brahmhananda'])"
      ]
     },
     "execution_count": 7,
     "metadata": {},
     "output_type": "execute_result"
    }
   ],
   "source": [
    "d.values()"
   ]
  },
  {
   "cell_type": "code",
   "execution_count": 12,
   "id": "bef5fb68",
   "metadata": {},
   "outputs": [],
   "source": [
    "d = {1: 'Shubha', 2: 'Mohanty', 'Profile': ['Data Engineer', 'Project Manager', 'COE Data'], 4: 'ByteIQ and Mindgraph'}"
   ]
  },
  {
   "cell_type": "code",
   "execution_count": 13,
   "id": "8e8c6c88",
   "metadata": {},
   "outputs": [
    {
     "data": {
      "text/plain": [
       "dict_keys([1, 2, 'Profile', 4])"
      ]
     },
     "execution_count": 13,
     "metadata": {},
     "output_type": "execute_result"
    }
   ],
   "source": [
    "d.keys()"
   ]
  },
  {
   "cell_type": "code",
   "execution_count": 14,
   "id": "4c5ffd76",
   "metadata": {},
   "outputs": [
    {
     "data": {
      "text/plain": [
       "dict_values(['Shubha', 'Mohanty', ['Data Engineer', 'Project Manager', 'COE Data'], 'ByteIQ and Mindgraph'])"
      ]
     },
     "execution_count": 14,
     "metadata": {},
     "output_type": "execute_result"
    }
   ],
   "source": [
    "d.values()"
   ]
  },
  {
   "cell_type": "code",
   "execution_count": 11,
   "id": "0d3776df",
   "metadata": {},
   "outputs": [
    {
     "ename": "KeyError",
     "evalue": "0",
     "output_type": "error",
     "traceback": [
      "\u001b[1;31m---------------------------------------------------------------------------\u001b[0m",
      "\u001b[1;31mKeyError\u001b[0m                                  Traceback (most recent call last)",
      "\u001b[1;32m~\\AppData\\Local\\Temp/ipykernel_16912/1089268471.py\u001b[0m in \u001b[0;36m<module>\u001b[1;34m\u001b[0m\n\u001b[1;32m----> 1\u001b[1;33m \u001b[0md\u001b[0m\u001b[1;33m[\u001b[0m\u001b[1;36m0\u001b[0m\u001b[1;33m]\u001b[0m\u001b[1;33m\u001b[0m\u001b[1;33m\u001b[0m\u001b[0m\n\u001b[0m",
      "\u001b[1;31mKeyError\u001b[0m: 0"
     ]
    }
   ],
   "source": [
    "d[0] # indexing doesn't work here."
   ]
  },
  {
   "cell_type": "markdown",
   "id": "f4287d6b",
   "metadata": {},
   "source": [
    "### Accessing elements(values) in a dict"
   ]
  },
  {
   "cell_type": "code",
   "execution_count": 17,
   "id": "5f9a2d2b",
   "metadata": {},
   "outputs": [
    {
     "data": {
      "text/plain": [
       "{1: 'Shubha',\n",
       " 2: 'Mohanty',\n",
       " 'Profile': ['Data Engineer', 'Project Manager', 'COE Data'],\n",
       " 4: 'ByteIQ and Mindgraph'}"
      ]
     },
     "execution_count": 17,
     "metadata": {},
     "output_type": "execute_result"
    }
   ],
   "source": [
    "d"
   ]
  },
  {
   "cell_type": "code",
   "execution_count": 16,
   "id": "6174b878",
   "metadata": {},
   "outputs": [
    {
     "data": {
      "text/plain": [
       "dict_keys([1, 2, 'Profile', 4])"
      ]
     },
     "execution_count": 16,
     "metadata": {},
     "output_type": "execute_result"
    }
   ],
   "source": [
    "d.keys()"
   ]
  },
  {
   "cell_type": "code",
   "execution_count": 18,
   "id": "72ea8b10",
   "metadata": {},
   "outputs": [
    {
     "data": {
      "text/plain": [
       "'Shubha'"
      ]
     },
     "execution_count": 18,
     "metadata": {},
     "output_type": "execute_result"
    }
   ],
   "source": [
    "d[1]"
   ]
  },
  {
   "cell_type": "code",
   "execution_count": 21,
   "id": "b1a1645d",
   "metadata": {},
   "outputs": [
    {
     "data": {
      "text/plain": [
       "'Mohanty'"
      ]
     },
     "execution_count": 21,
     "metadata": {},
     "output_type": "execute_result"
    }
   ],
   "source": [
    "d[2]"
   ]
  },
  {
   "cell_type": "code",
   "execution_count": 20,
   "id": "60460d99",
   "metadata": {},
   "outputs": [
    {
     "data": {
      "text/plain": [
       "['Data Engineer', 'Project Manager', 'COE Data']"
      ]
     },
     "execution_count": 20,
     "metadata": {},
     "output_type": "execute_result"
    }
   ],
   "source": [
    "d['Profile']"
   ]
  },
  {
   "cell_type": "code",
   "execution_count": 19,
   "id": "86fa33f3",
   "metadata": {},
   "outputs": [
    {
     "data": {
      "text/plain": [
       "'ByteIQ and Mindgraph'"
      ]
     },
     "execution_count": 19,
     "metadata": {},
     "output_type": "execute_result"
    }
   ],
   "source": [
    "d[4]"
   ]
  },
  {
   "cell_type": "markdown",
   "id": "f99b8fb6",
   "metadata": {},
   "source": [
    "### Dictionary inside a dictionary"
   ]
  },
  {
   "cell_type": "code",
   "execution_count": 22,
   "id": "972eba1f",
   "metadata": {},
   "outputs": [],
   "source": [
    "d = {'Satya' : 'ByteIQ', 'Soumya': 'ByteIQ', 'Lalit': 'ByteIQ', 'Mindgraph' : {'HR' : 'Prajna', 'Inventory Guy' : 'Mallika Arjun'}}"
   ]
  },
  {
   "cell_type": "code",
   "execution_count": 23,
   "id": "e9cad23d",
   "metadata": {},
   "outputs": [
    {
     "data": {
      "text/plain": [
       "{'Satya': 'ByteIQ',\n",
       " 'Soumya': 'ByteIQ',\n",
       " 'Lalit': 'ByteIQ',\n",
       " 'Mindgraph': {'HR': 'Prajna', 'Inventory Guy': 'Mallika Arjun'}}"
      ]
     },
     "execution_count": 23,
     "metadata": {},
     "output_type": "execute_result"
    }
   ],
   "source": [
    "d"
   ]
  },
  {
   "cell_type": "code",
   "execution_count": 24,
   "id": "1d98b61b",
   "metadata": {},
   "outputs": [
    {
     "data": {
      "text/plain": [
       "dict_keys(['Satya', 'Soumya', 'Lalit', 'Mindgraph'])"
      ]
     },
     "execution_count": 24,
     "metadata": {},
     "output_type": "execute_result"
    }
   ],
   "source": [
    "d.keys()"
   ]
  },
  {
   "cell_type": "code",
   "execution_count": 25,
   "id": "5f2ad71a",
   "metadata": {},
   "outputs": [
    {
     "data": {
      "text/plain": [
       "dict_values(['ByteIQ', 'ByteIQ', 'ByteIQ', {'HR': 'Prajna', 'Inventory Guy': 'Mallika Arjun'}])"
      ]
     },
     "execution_count": 25,
     "metadata": {},
     "output_type": "execute_result"
    }
   ],
   "source": [
    "d.values()"
   ]
  },
  {
   "cell_type": "code",
   "execution_count": 26,
   "id": "28b0e50d",
   "metadata": {},
   "outputs": [
    {
     "data": {
      "text/plain": [
       "{'HR': 'Prajna', 'Inventory Guy': 'Mallika Arjun'}"
      ]
     },
     "execution_count": 26,
     "metadata": {},
     "output_type": "execute_result"
    }
   ],
   "source": [
    "d['Mindgraph']"
   ]
  },
  {
   "cell_type": "code",
   "execution_count": 27,
   "id": "3e08ed32",
   "metadata": {},
   "outputs": [
    {
     "data": {
      "text/plain": [
       "'Prajna'"
      ]
     },
     "execution_count": 27,
     "metadata": {},
     "output_type": "execute_result"
    }
   ],
   "source": [
    "d['Mindgraph']['HR']"
   ]
  },
  {
   "cell_type": "code",
   "execution_count": 30,
   "id": "7c784137",
   "metadata": {},
   "outputs": [
    {
     "data": {
      "text/plain": [
       "'Mallika Arjun'"
      ]
     },
     "execution_count": 30,
     "metadata": {},
     "output_type": "execute_result"
    }
   ],
   "source": [
    "d['Mindgraph']['Inventory Guy']"
   ]
  },
  {
   "cell_type": "code",
   "execution_count": 31,
   "id": "e2280633",
   "metadata": {},
   "outputs": [
    {
     "data": {
      "text/plain": [
       "{'Satya': 'ByteIQ',\n",
       " 'Soumya': 'ByteIQ',\n",
       " 'Lalit': 'ByteIQ',\n",
       " 'Mindgraph': {'HR': 'Prajna', 'Inventory Guy': 'Mallika Arjun'}}"
      ]
     },
     "execution_count": 31,
     "metadata": {},
     "output_type": "execute_result"
    }
   ],
   "source": [
    "d"
   ]
  },
  {
   "cell_type": "markdown",
   "id": "b127e275",
   "metadata": {},
   "source": [
    "### Adding a new key : value to the dictionary"
   ]
  },
  {
   "cell_type": "code",
   "execution_count": 32,
   "id": "6d3e4ad8",
   "metadata": {},
   "outputs": [],
   "source": [
    "d = {1 : 'one', 2 : 'two', 3 : 'three'}"
   ]
  },
  {
   "cell_type": "code",
   "execution_count": 33,
   "id": "0ee6c18d",
   "metadata": {},
   "outputs": [
    {
     "data": {
      "text/plain": [
       "dict"
      ]
     },
     "execution_count": 33,
     "metadata": {},
     "output_type": "execute_result"
    }
   ],
   "source": [
    "type(d)"
   ]
  },
  {
   "cell_type": "code",
   "execution_count": 34,
   "id": "3f84ecd0",
   "metadata": {},
   "outputs": [],
   "source": [
    "d[4] = 'four' # adding a key value to dictionary"
   ]
  },
  {
   "cell_type": "code",
   "execution_count": 35,
   "id": "c8ff0fa7",
   "metadata": {},
   "outputs": [
    {
     "data": {
      "text/plain": [
       "{1: 'one', 2: 'two', 3: 'three', 4: 'four'}"
      ]
     },
     "execution_count": 35,
     "metadata": {},
     "output_type": "execute_result"
    }
   ],
   "source": [
    "d"
   ]
  },
  {
   "cell_type": "code",
   "execution_count": 43,
   "id": "33466d55",
   "metadata": {},
   "outputs": [],
   "source": [
    "d['Satya 2'] = 'Unattentive'"
   ]
  },
  {
   "cell_type": "code",
   "execution_count": 37,
   "id": "f33794a0",
   "metadata": {},
   "outputs": [
    {
     "data": {
      "text/plain": [
       "{1: 'one', 2: 'two', 3: 'three', 4: 'four', 'Satya': 'Unattentive'}"
      ]
     },
     "execution_count": 37,
     "metadata": {},
     "output_type": "execute_result"
    }
   ],
   "source": [
    "d"
   ]
  },
  {
   "cell_type": "code",
   "execution_count": 44,
   "id": "3eb5f224",
   "metadata": {
    "scrolled": true
   },
   "outputs": [
    {
     "data": {
      "text/plain": [
       "'Unattentive'"
      ]
     },
     "execution_count": 44,
     "metadata": {},
     "output_type": "execute_result"
    }
   ],
   "source": [
    "d['Satya 2']"
   ]
  },
  {
   "cell_type": "markdown",
   "id": "1d656b90",
   "metadata": {},
   "source": [
    "### Updating the value for a key"
   ]
  },
  {
   "cell_type": "code",
   "execution_count": 45,
   "id": "bbb04a6a",
   "metadata": {},
   "outputs": [],
   "source": [
    "d[4] = 'Satya 2'"
   ]
  },
  {
   "cell_type": "code",
   "execution_count": 46,
   "id": "f84bc807",
   "metadata": {},
   "outputs": [
    {
     "data": {
      "text/plain": [
       "{1: 'one',\n",
       " 2: 'two',\n",
       " 3: 'three',\n",
       " 4: 'Satya 2',\n",
       " 'Satya': 'Unattentive',\n",
       " 'Gone Case': 'Satya 2',\n",
       " 'Satya 2': 'Unattentive'}"
      ]
     },
     "execution_count": 46,
     "metadata": {},
     "output_type": "execute_result"
    }
   ],
   "source": [
    "d"
   ]
  },
  {
   "cell_type": "code",
   "execution_count": 47,
   "id": "bdc6a1ec",
   "metadata": {},
   "outputs": [],
   "source": [
    "d['Gone Case'] = 'Satya 2' # If nothing is there to edit, it will add the key as a new key along with the value."
   ]
  },
  {
   "cell_type": "code",
   "execution_count": 49,
   "id": "55f25cd6",
   "metadata": {},
   "outputs": [
    {
     "data": {
      "text/plain": [
       "{1: 'one',\n",
       " 2: 'two',\n",
       " 3: 'three',\n",
       " 4: 'Satya 2',\n",
       " 'Gone Case': 'Satya 2',\n",
       " 'Satya 2': 'Unattentive'}"
      ]
     },
     "execution_count": 49,
     "metadata": {},
     "output_type": "execute_result"
    }
   ],
   "source": [
    "d"
   ]
  },
  {
   "cell_type": "code",
   "execution_count": 50,
   "id": "70ebc91a",
   "metadata": {},
   "outputs": [
    {
     "data": {
      "text/plain": [
       "dict_keys([1, 2, 3, 4, 'Gone Case', 'Satya 2'])"
      ]
     },
     "execution_count": 50,
     "metadata": {},
     "output_type": "execute_result"
    }
   ],
   "source": [
    "d.keys() # will display keys"
   ]
  },
  {
   "cell_type": "code",
   "execution_count": 51,
   "id": "4f24d6d1",
   "metadata": {},
   "outputs": [
    {
     "data": {
      "text/plain": [
       "dict_values(['one', 'two', 'three', 'Satya 2', 'Satya 2', 'Unattentive'])"
      ]
     },
     "execution_count": 51,
     "metadata": {},
     "output_type": "execute_result"
    }
   ],
   "source": [
    "d.values() # will display values"
   ]
  },
  {
   "cell_type": "code",
   "execution_count": 52,
   "id": "f1dc64f1",
   "metadata": {},
   "outputs": [
    {
     "data": {
      "text/plain": [
       "dict_items([(1, 'one'), (2, 'two'), (3, 'three'), (4, 'Satya 2'), ('Gone Case', 'Satya 2'), ('Satya 2', 'Unattentive')])"
      ]
     },
     "execution_count": 52,
     "metadata": {},
     "output_type": "execute_result"
    }
   ],
   "source": [
    "d.items() # will display key-value pair inside a list in the form of tuple."
   ]
  }
 ],
 "metadata": {
  "kernelspec": {
   "display_name": "Python 3 (ipykernel)",
   "language": "python",
   "name": "python3"
  },
  "language_info": {
   "codemirror_mode": {
    "name": "ipython",
    "version": 3
   },
   "file_extension": ".py",
   "mimetype": "text/x-python",
   "name": "python",
   "nbconvert_exporter": "python",
   "pygments_lexer": "ipython3",
   "version": "3.9.7"
  }
 },
 "nbformat": 4,
 "nbformat_minor": 5
}
