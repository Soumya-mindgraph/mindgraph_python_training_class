{
 "cells": [
  {
   "cell_type": "markdown",
   "id": "c52f7589",
   "metadata": {},
   "source": [
    "### Tuples"
   ]
  },
  {
   "cell_type": "markdown",
   "id": "caf271d9",
   "metadata": {},
   "source": [
    "* Tuples are immutable entity\n",
    "* Lists are mutable entity"
   ]
  },
  {
   "cell_type": "code",
   "execution_count": 6,
   "id": "0fc7e219",
   "metadata": {},
   "outputs": [],
   "source": [
    "t = (1, 2, 2, 2, 2, 3, 4, 5, 6, 7, 'Shubha', 'Mindgraph', 'ByteIQ')"
   ]
  },
  {
   "cell_type": "code",
   "execution_count": 2,
   "id": "1c4321d3",
   "metadata": {},
   "outputs": [
    {
     "data": {
      "text/plain": [
       "1"
      ]
     },
     "execution_count": 2,
     "metadata": {},
     "output_type": "execute_result"
    }
   ],
   "source": [
    "t[0]"
   ]
  },
  {
   "cell_type": "code",
   "execution_count": 8,
   "id": "4fae9c35",
   "metadata": {},
   "outputs": [
    {
     "data": {
      "text/plain": [
       "(1, 2, 2, 2, 2, 3, 4)"
      ]
     },
     "execution_count": 8,
     "metadata": {},
     "output_type": "execute_result"
    }
   ],
   "source": [
    "t[0:7]"
   ]
  },
  {
   "cell_type": "markdown",
   "id": "63c96bc3",
   "metadata": {},
   "source": [
    "### count()"
   ]
  },
  {
   "cell_type": "code",
   "execution_count": 10,
   "id": "3ee3d349",
   "metadata": {},
   "outputs": [
    {
     "data": {
      "text/plain": [
       "4"
      ]
     },
     "execution_count": 10,
     "metadata": {},
     "output_type": "execute_result"
    }
   ],
   "source": [
    "t.count(2) # count function will calculate the number of occurence of an element in list, tuple, or String."
   ]
  },
  {
   "cell_type": "code",
   "execution_count": 11,
   "id": "b659a23a",
   "metadata": {},
   "outputs": [],
   "source": [
    "l = [1, 2, 3, 4, 4] # list"
   ]
  },
  {
   "cell_type": "code",
   "execution_count": 12,
   "id": "d31ee9d9",
   "metadata": {},
   "outputs": [
    {
     "data": {
      "text/plain": [
       "2"
      ]
     },
     "execution_count": 12,
     "metadata": {},
     "output_type": "execute_result"
    }
   ],
   "source": [
    "l.count(4)"
   ]
  },
  {
   "cell_type": "code",
   "execution_count": 13,
   "id": "ce737b76",
   "metadata": {},
   "outputs": [],
   "source": [
    "string = \"Bhubaneswar\""
   ]
  },
  {
   "cell_type": "code",
   "execution_count": 14,
   "id": "1bc66608",
   "metadata": {},
   "outputs": [
    {
     "data": {
      "text/plain": [
       "2"
      ]
     },
     "execution_count": 14,
     "metadata": {},
     "output_type": "execute_result"
    }
   ],
   "source": [
    "string.count('a')"
   ]
  },
  {
   "cell_type": "code",
   "execution_count": 15,
   "id": "32b34aed",
   "metadata": {},
   "outputs": [
    {
     "data": {
      "text/plain": [
       "(1, 2, 2, 2, 2, 3, 4, 5, 6, 7, 'Shubha', 'Mindgraph', 'ByteIQ')"
      ]
     },
     "execution_count": 15,
     "metadata": {},
     "output_type": "execute_result"
    }
   ],
   "source": [
    "t"
   ]
  },
  {
   "cell_type": "code",
   "execution_count": 16,
   "id": "dcd23624",
   "metadata": {},
   "outputs": [
    {
     "data": {
      "text/plain": [
       "1"
      ]
     },
     "execution_count": 16,
     "metadata": {},
     "output_type": "execute_result"
    }
   ],
   "source": [
    "t.count('Mindgraph')"
   ]
  },
  {
   "cell_type": "code",
   "execution_count": 17,
   "id": "c6ae8c8b",
   "metadata": {},
   "outputs": [
    {
     "data": {
      "text/plain": [
       "0"
      ]
     },
     "execution_count": 17,
     "metadata": {},
     "output_type": "execute_result"
    }
   ],
   "source": [
    "t.count('Vineet')"
   ]
  },
  {
   "cell_type": "code",
   "execution_count": 18,
   "id": "9d264fe7",
   "metadata": {},
   "outputs": [
    {
     "data": {
      "text/plain": [
       "2"
      ]
     },
     "execution_count": 18,
     "metadata": {},
     "output_type": "execute_result"
    }
   ],
   "source": [
    "'Vineet'.count('e')"
   ]
  },
  {
   "cell_type": "code",
   "execution_count": 19,
   "id": "26734d20",
   "metadata": {},
   "outputs": [
    {
     "data": {
      "text/plain": [
       "(1, 2, 2, 2, 2, 3, 4, 5, 6, 7, 'Shubha', 'Mindgraph', 'ByteIQ')"
      ]
     },
     "execution_count": 19,
     "metadata": {},
     "output_type": "execute_result"
    }
   ],
   "source": [
    "t"
   ]
  },
  {
   "cell_type": "markdown",
   "id": "f75ff2cd",
   "metadata": {},
   "source": [
    "### index()"
   ]
  },
  {
   "cell_type": "code",
   "execution_count": 20,
   "id": "54d2192a",
   "metadata": {},
   "outputs": [
    {
     "data": {
      "text/plain": [
       "10"
      ]
     },
     "execution_count": 20,
     "metadata": {},
     "output_type": "execute_result"
    }
   ],
   "source": [
    "t.index('Shubha')"
   ]
  },
  {
   "cell_type": "code",
   "execution_count": 21,
   "id": "379d24f5",
   "metadata": {},
   "outputs": [
    {
     "data": {
      "text/plain": [
       "0"
      ]
     },
     "execution_count": 21,
     "metadata": {},
     "output_type": "execute_result"
    }
   ],
   "source": [
    "t.index(1)"
   ]
  },
  {
   "cell_type": "code",
   "execution_count": 22,
   "id": "31ce78d5",
   "metadata": {},
   "outputs": [
    {
     "data": {
      "text/plain": [
       "1"
      ]
     },
     "execution_count": 22,
     "metadata": {},
     "output_type": "execute_result"
    }
   ],
   "source": [
    "t.index(2) # will display the position of first occurence of the element"
   ]
  },
  {
   "cell_type": "code",
   "execution_count": 23,
   "id": "3a5ae401",
   "metadata": {},
   "outputs": [
    {
     "data": {
      "text/plain": [
       "[1, 2, 3, 4, 4]"
      ]
     },
     "execution_count": 23,
     "metadata": {},
     "output_type": "execute_result"
    }
   ],
   "source": [
    "l"
   ]
  },
  {
   "cell_type": "code",
   "execution_count": 24,
   "id": "0a3fcd0e",
   "metadata": {},
   "outputs": [
    {
     "data": {
      "text/plain": [
       "2"
      ]
     },
     "execution_count": 24,
     "metadata": {},
     "output_type": "execute_result"
    }
   ],
   "source": [
    "l.index(3) # index function works for list"
   ]
  },
  {
   "cell_type": "code",
   "execution_count": 25,
   "id": "3dc89add",
   "metadata": {},
   "outputs": [],
   "source": [
    "test_set = {1, 2, 3, 4, 5, 6}"
   ]
  },
  {
   "cell_type": "code",
   "execution_count": 26,
   "id": "70d166fc",
   "metadata": {},
   "outputs": [
    {
     "ename": "TypeError",
     "evalue": "'set' object is not subscriptable",
     "output_type": "error",
     "traceback": [
      "\u001b[1;31m---------------------------------------------------------------------------\u001b[0m",
      "\u001b[1;31mTypeError\u001b[0m                                 Traceback (most recent call last)",
      "\u001b[1;32m~\\AppData\\Local\\Temp/ipykernel_6300/1846114615.py\u001b[0m in \u001b[0;36m<module>\u001b[1;34m\u001b[0m\n\u001b[1;32m----> 1\u001b[1;33m \u001b[0mtest_set\u001b[0m\u001b[1;33m[\u001b[0m\u001b[1;36m3\u001b[0m\u001b[1;33m]\u001b[0m\u001b[1;33m\u001b[0m\u001b[1;33m\u001b[0m\u001b[0m\n\u001b[0m",
      "\u001b[1;31mTypeError\u001b[0m: 'set' object is not subscriptable"
     ]
    }
   ],
   "source": [
    "test_set[3] # indexing not possible in set, so index() function won't work with set."
   ]
  },
  {
   "cell_type": "code",
   "execution_count": 27,
   "id": "e090a4e7",
   "metadata": {},
   "outputs": [
    {
     "ename": "AttributeError",
     "evalue": "'set' object has no attribute 'index'",
     "output_type": "error",
     "traceback": [
      "\u001b[1;31m---------------------------------------------------------------------------\u001b[0m",
      "\u001b[1;31mAttributeError\u001b[0m                            Traceback (most recent call last)",
      "\u001b[1;32m~\\AppData\\Local\\Temp/ipykernel_6300/242590836.py\u001b[0m in \u001b[0;36m<module>\u001b[1;34m\u001b[0m\n\u001b[1;32m----> 1\u001b[1;33m \u001b[0mtest_set\u001b[0m\u001b[1;33m.\u001b[0m\u001b[0mindex\u001b[0m\u001b[1;33m(\u001b[0m\u001b[1;36m1\u001b[0m\u001b[1;33m)\u001b[0m\u001b[1;33m\u001b[0m\u001b[1;33m\u001b[0m\u001b[0m\n\u001b[0m",
      "\u001b[1;31mAttributeError\u001b[0m: 'set' object has no attribute 'index'"
     ]
    }
   ],
   "source": [
    "test_set.index(1) # index() function won't work with set."
   ]
  },
  {
   "cell_type": "markdown",
   "id": "51da544c",
   "metadata": {},
   "source": [
    "### del()"
   ]
  },
  {
   "cell_type": "code",
   "execution_count": 28,
   "id": "9acf9842",
   "metadata": {},
   "outputs": [
    {
     "data": {
      "text/plain": [
       "(1, 2, 2, 2, 2, 3, 4, 5, 6, 7, 'Shubha', 'Mindgraph', 'ByteIQ')"
      ]
     },
     "execution_count": 28,
     "metadata": {},
     "output_type": "execute_result"
    }
   ],
   "source": [
    "t"
   ]
  },
  {
   "cell_type": "code",
   "execution_count": 29,
   "id": "ee9e0543",
   "metadata": {},
   "outputs": [
    {
     "data": {
      "text/plain": [
       "[1, 2, 3, 4, 4]"
      ]
     },
     "execution_count": 29,
     "metadata": {},
     "output_type": "execute_result"
    }
   ],
   "source": [
    "l"
   ]
  },
  {
   "cell_type": "code",
   "execution_count": 30,
   "id": "cf93ff8a",
   "metadata": {},
   "outputs": [
    {
     "data": {
      "text/plain": [
       "'Bhubaneswar'"
      ]
     },
     "execution_count": 30,
     "metadata": {},
     "output_type": "execute_result"
    }
   ],
   "source": [
    "string"
   ]
  },
  {
   "cell_type": "code",
   "execution_count": 41,
   "id": "966404e5",
   "metadata": {},
   "outputs": [
    {
     "data": {
      "text/plain": [
       "{1, 2, 3, 4, 5, 6}"
      ]
     },
     "execution_count": 41,
     "metadata": {},
     "output_type": "execute_result"
    }
   ],
   "source": [
    "test_set"
   ]
  },
  {
   "cell_type": "code",
   "execution_count": 34,
   "id": "db724b5f",
   "metadata": {},
   "outputs": [],
   "source": [
    "del(t) # it will delete the tuple"
   ]
  },
  {
   "cell_type": "code",
   "execution_count": 32,
   "id": "d75584c5",
   "metadata": {},
   "outputs": [
    {
     "ename": "NameError",
     "evalue": "name 't' is not defined",
     "output_type": "error",
     "traceback": [
      "\u001b[1;31m---------------------------------------------------------------------------\u001b[0m",
      "\u001b[1;31mNameError\u001b[0m                                 Traceback (most recent call last)",
      "\u001b[1;32m~\\AppData\\Local\\Temp/ipykernel_6300/3790515489.py\u001b[0m in \u001b[0;36m<module>\u001b[1;34m\u001b[0m\n\u001b[1;32m----> 1\u001b[1;33m \u001b[0mt\u001b[0m\u001b[1;33m\u001b[0m\u001b[1;33m\u001b[0m\u001b[0m\n\u001b[0m",
      "\u001b[1;31mNameError\u001b[0m: name 't' is not defined"
     ]
    }
   ],
   "source": [
    "t  # tuple got deleted, it will throw error - name 't' is not defined"
   ]
  },
  {
   "cell_type": "code",
   "execution_count": 35,
   "id": "52fe7989",
   "metadata": {},
   "outputs": [],
   "source": [
    "del(l)  # it will delete the list"
   ]
  },
  {
   "cell_type": "code",
   "execution_count": 36,
   "id": "65d82d52",
   "metadata": {},
   "outputs": [
    {
     "ename": "NameError",
     "evalue": "name 'l' is not defined",
     "output_type": "error",
     "traceback": [
      "\u001b[1;31m---------------------------------------------------------------------------\u001b[0m",
      "\u001b[1;31mNameError\u001b[0m                                 Traceback (most recent call last)",
      "\u001b[1;32m~\\AppData\\Local\\Temp/ipykernel_6300/3723490112.py\u001b[0m in \u001b[0;36m<module>\u001b[1;34m\u001b[0m\n\u001b[1;32m----> 1\u001b[1;33m \u001b[0ml\u001b[0m\u001b[1;33m\u001b[0m\u001b[1;33m\u001b[0m\u001b[0m\n\u001b[0m",
      "\u001b[1;31mNameError\u001b[0m: name 'l' is not defined"
     ]
    }
   ],
   "source": [
    "l # list got deleted, it will throw error -  name 'l' is not defined"
   ]
  },
  {
   "cell_type": "code",
   "execution_count": 37,
   "id": "6bc90f36",
   "metadata": {},
   "outputs": [],
   "source": [
    "del(string) # it will delete the value present in string"
   ]
  },
  {
   "cell_type": "code",
   "execution_count": 38,
   "id": "a7d69f16",
   "metadata": {},
   "outputs": [
    {
     "ename": "NameError",
     "evalue": "name 'string' is not defined",
     "output_type": "error",
     "traceback": [
      "\u001b[1;31m---------------------------------------------------------------------------\u001b[0m",
      "\u001b[1;31mNameError\u001b[0m                                 Traceback (most recent call last)",
      "\u001b[1;32m~\\AppData\\Local\\Temp/ipykernel_6300/41168278.py\u001b[0m in \u001b[0;36m<module>\u001b[1;34m\u001b[0m\n\u001b[1;32m----> 1\u001b[1;33m \u001b[0mstring\u001b[0m\u001b[1;33m\u001b[0m\u001b[1;33m\u001b[0m\u001b[0m\n\u001b[0m",
      "\u001b[1;31mNameError\u001b[0m: name 'string' is not defined"
     ]
    }
   ],
   "source": [
    "string # string got deleted, it will throw error - name 'string' is not defined"
   ]
  },
  {
   "cell_type": "code",
   "execution_count": 42,
   "id": "af8ac5fe",
   "metadata": {},
   "outputs": [],
   "source": [
    "del(test_set) # it will delete set"
   ]
  },
  {
   "cell_type": "code",
   "execution_count": 43,
   "id": "1f963356",
   "metadata": {},
   "outputs": [
    {
     "ename": "NameError",
     "evalue": "name 'test_set' is not defined",
     "output_type": "error",
     "traceback": [
      "\u001b[1;31m---------------------------------------------------------------------------\u001b[0m",
      "\u001b[1;31mNameError\u001b[0m                                 Traceback (most recent call last)",
      "\u001b[1;32m~\\AppData\\Local\\Temp/ipykernel_6300/3639171774.py\u001b[0m in \u001b[0;36m<module>\u001b[1;34m\u001b[0m\n\u001b[1;32m----> 1\u001b[1;33m \u001b[0mtest_set\u001b[0m\u001b[1;33m\u001b[0m\u001b[1;33m\u001b[0m\u001b[0m\n\u001b[0m",
      "\u001b[1;31mNameError\u001b[0m: name 'test_set' is not defined"
     ]
    }
   ],
   "source": [
    "test_set # set got deleted, it will throw error - name 'test_set' is not defined"
   ]
  },
  {
   "cell_type": "markdown",
   "id": "294ea9ca",
   "metadata": {},
   "source": [
    "### Sets"
   ]
  },
  {
   "cell_type": "code",
   "execution_count": 44,
   "id": "15a1ea5c",
   "metadata": {},
   "outputs": [
    {
     "data": {
      "text/plain": [
       "set()"
      ]
     },
     "execution_count": 44,
     "metadata": {},
     "output_type": "execute_result"
    }
   ],
   "source": [
    "set()"
   ]
  },
  {
   "cell_type": "code",
   "execution_count": 45,
   "id": "6a79ba7f",
   "metadata": {},
   "outputs": [],
   "source": [
    "s = set()"
   ]
  },
  {
   "cell_type": "code",
   "execution_count": 46,
   "id": "8b601cc7",
   "metadata": {},
   "outputs": [
    {
     "data": {
      "text/plain": [
       "set"
      ]
     },
     "execution_count": 46,
     "metadata": {},
     "output_type": "execute_result"
    }
   ],
   "source": [
    "type(s)"
   ]
  },
  {
   "cell_type": "code",
   "execution_count": 47,
   "id": "de02f78c",
   "metadata": {},
   "outputs": [
    {
     "data": {
      "text/plain": [
       "set()"
      ]
     },
     "execution_count": 47,
     "metadata": {},
     "output_type": "execute_result"
    }
   ],
   "source": [
    "s"
   ]
  },
  {
   "cell_type": "markdown",
   "id": "4ea55caa",
   "metadata": {},
   "source": [
    "### add()"
   ]
  },
  {
   "cell_type": "code",
   "execution_count": 48,
   "id": "6245b7f8",
   "metadata": {},
   "outputs": [],
   "source": [
    "s.add(2)"
   ]
  },
  {
   "cell_type": "code",
   "execution_count": 49,
   "id": "556911bf",
   "metadata": {},
   "outputs": [
    {
     "data": {
      "text/plain": [
       "{2}"
      ]
     },
     "execution_count": 49,
     "metadata": {},
     "output_type": "execute_result"
    }
   ],
   "source": [
    "s"
   ]
  },
  {
   "cell_type": "code",
   "execution_count": 50,
   "id": "31c997f1",
   "metadata": {},
   "outputs": [],
   "source": [
    "s.add(3)"
   ]
  },
  {
   "cell_type": "code",
   "execution_count": 51,
   "id": "a78b6fe3",
   "metadata": {},
   "outputs": [
    {
     "data": {
      "text/plain": [
       "{2, 3}"
      ]
     },
     "execution_count": 51,
     "metadata": {},
     "output_type": "execute_result"
    }
   ],
   "source": [
    "s"
   ]
  },
  {
   "cell_type": "code",
   "execution_count": 52,
   "id": "27c16230",
   "metadata": {},
   "outputs": [],
   "source": [
    "s.add('Mindgraph')"
   ]
  },
  {
   "cell_type": "code",
   "execution_count": 53,
   "id": "2032380e",
   "metadata": {},
   "outputs": [
    {
     "data": {
      "text/plain": [
       "{2, 3, 'Mindgraph'}"
      ]
     },
     "execution_count": 53,
     "metadata": {},
     "output_type": "execute_result"
    }
   ],
   "source": [
    "s"
   ]
  },
  {
   "cell_type": "code",
   "execution_count": 56,
   "id": "beb6b740",
   "metadata": {},
   "outputs": [
    {
     "data": {
      "text/plain": [
       "set"
      ]
     },
     "execution_count": 56,
     "metadata": {},
     "output_type": "execute_result"
    }
   ],
   "source": [
    "type(s)"
   ]
  },
  {
   "cell_type": "code",
   "execution_count": 57,
   "id": "1bd7a23c",
   "metadata": {},
   "outputs": [],
   "source": [
    "s.add('ByteIQ')"
   ]
  },
  {
   "cell_type": "code",
   "execution_count": 59,
   "id": "848b8934",
   "metadata": {},
   "outputs": [],
   "source": [
    "s.add('Shubha')"
   ]
  },
  {
   "cell_type": "code",
   "execution_count": 60,
   "id": "799060a7",
   "metadata": {},
   "outputs": [
    {
     "data": {
      "text/plain": [
       "{2, 3, 'ByteIQ', 'Mindgraph', 'Shubha'}"
      ]
     },
     "execution_count": 60,
     "metadata": {},
     "output_type": "execute_result"
    }
   ],
   "source": [
    "s"
   ]
  },
  {
   "cell_type": "code",
   "execution_count": 64,
   "id": "d3373419",
   "metadata": {},
   "outputs": [
    {
     "data": {
      "text/plain": [
       "6"
      ]
     },
     "execution_count": 64,
     "metadata": {},
     "output_type": "execute_result"
    }
   ],
   "source": [
    "len(s)"
   ]
  },
  {
   "cell_type": "code",
   "execution_count": 54,
   "id": "43ee0255",
   "metadata": {},
   "outputs": [
    {
     "ename": "AttributeError",
     "evalue": "'NoneType' object has no attribute 'add'",
     "output_type": "error",
     "traceback": [
      "\u001b[1;31m---------------------------------------------------------------------------\u001b[0m",
      "\u001b[1;31mAttributeError\u001b[0m                            Traceback (most recent call last)",
      "\u001b[1;32m~\\AppData\\Local\\Temp/ipykernel_6300/1840314704.py\u001b[0m in \u001b[0;36m<module>\u001b[1;34m\u001b[0m\n\u001b[1;32m----> 1\u001b[1;33m \u001b[0ms\u001b[0m\u001b[1;33m.\u001b[0m\u001b[0madd\u001b[0m\u001b[1;33m(\u001b[0m\u001b[1;34m'ByteIQ'\u001b[0m\u001b[1;33m)\u001b[0m\u001b[1;33m.\u001b[0m\u001b[0madd\u001b[0m\u001b[1;33m(\u001b[0m\u001b[1;34m'Shubha'\u001b[0m\u001b[1;33m)\u001b[0m\u001b[1;33m\u001b[0m\u001b[1;33m\u001b[0m\u001b[0m\n\u001b[0m",
      "\u001b[1;31mAttributeError\u001b[0m: 'NoneType' object has no attribute 'add'"
     ]
    }
   ],
   "source": [
    "s.add('ByteIQ').add('Shubha') # method chaining is not available in set"
   ]
  },
  {
   "cell_type": "markdown",
   "id": "237d1577",
   "metadata": {},
   "source": [
    "* NoneType in Python is a data type that simply shows that an object has no value/has a value of None"
   ]
  },
  {
   "cell_type": "code",
   "execution_count": 65,
   "id": "053e356a",
   "metadata": {},
   "outputs": [
    {
     "data": {
      "text/plain": [
       "{2, 3, 'ByteIQ', 'Mindgraph', 'Shubha', 'Soumya'}"
      ]
     },
     "execution_count": 65,
     "metadata": {},
     "output_type": "execute_result"
    }
   ],
   "source": [
    "s"
   ]
  },
  {
   "cell_type": "code",
   "execution_count": 66,
   "id": "5a235e30",
   "metadata": {},
   "outputs": [],
   "source": [
    "s.add('mindgraph')"
   ]
  },
  {
   "cell_type": "code",
   "execution_count": 67,
   "id": "c1c882f3",
   "metadata": {},
   "outputs": [
    {
     "data": {
      "text/plain": [
       "{2, 3, 'ByteIQ', 'Mindgraph', 'Shubha', 'Soumya', 'mindgraph'}"
      ]
     },
     "execution_count": 67,
     "metadata": {},
     "output_type": "execute_result"
    }
   ],
   "source": [
    "s # sets are case sensitive"
   ]
  },
  {
   "cell_type": "code",
   "execution_count": 70,
   "id": "5d959922",
   "metadata": {},
   "outputs": [],
   "source": [
    "s.add(2) # it will throw no error, but there will be no change in the set"
   ]
  },
  {
   "cell_type": "code",
   "execution_count": 71,
   "id": "ddabc5c9",
   "metadata": {},
   "outputs": [
    {
     "data": {
      "text/plain": [
       "{2, 3, 'ByteIQ', 'Mindgraph', 'Shubha', 'Soumya', 'mindgraph'}"
      ]
     },
     "execution_count": 71,
     "metadata": {},
     "output_type": "execute_result"
    }
   ],
   "source": [
    "s"
   ]
  },
  {
   "cell_type": "code",
   "execution_count": 68,
   "id": "383df875",
   "metadata": {},
   "outputs": [],
   "source": [
    "l = [2, 3, 4, 5, 5, 7, 8, 9, 8, 9]"
   ]
  },
  {
   "cell_type": "markdown",
   "id": "af2b389a",
   "metadata": {},
   "source": [
    "### removing duplicates from a list"
   ]
  },
  {
   "cell_type": "code",
   "execution_count": 69,
   "id": "02b54cd0",
   "metadata": {},
   "outputs": [
    {
     "data": {
      "text/plain": [
       "{2, 3, 4, 5, 7, 8, 9}"
      ]
     },
     "execution_count": 69,
     "metadata": {},
     "output_type": "execute_result"
    }
   ],
   "source": [
    "set(l) # explicit type conversion which is know as type casting"
   ]
  },
  {
   "cell_type": "code",
   "execution_count": 72,
   "id": "453dc5fe",
   "metadata": {},
   "outputs": [],
   "source": [
    "l = [1, 2, 3, 4, 5, 6, 7, 7, [1, 2, 3, 4, 5]]"
   ]
  },
  {
   "cell_type": "code",
   "execution_count": 73,
   "id": "ae5f8248",
   "metadata": {},
   "outputs": [
    {
     "data": {
      "text/plain": [
       "list"
      ]
     },
     "execution_count": 73,
     "metadata": {},
     "output_type": "execute_result"
    }
   ],
   "source": [
    "type(l)"
   ]
  },
  {
   "cell_type": "code",
   "execution_count": 74,
   "id": "9d2036fb",
   "metadata": {},
   "outputs": [
    {
     "data": {
      "text/plain": [
       "[1, 2, 3, 4, 5]"
      ]
     },
     "execution_count": 74,
     "metadata": {},
     "output_type": "execute_result"
    }
   ],
   "source": [
    "l[-1]"
   ]
  },
  {
   "cell_type": "code",
   "execution_count": 75,
   "id": "c3d98072",
   "metadata": {},
   "outputs": [
    {
     "data": {
      "text/plain": [
       "list"
      ]
     },
     "execution_count": 75,
     "metadata": {},
     "output_type": "execute_result"
    }
   ],
   "source": [
    "type(l[-1])"
   ]
  },
  {
   "cell_type": "code",
   "execution_count": 76,
   "id": "a12d6fd3",
   "metadata": {},
   "outputs": [
    {
     "ename": "TypeError",
     "evalue": "unhashable type: 'list'",
     "output_type": "error",
     "traceback": [
      "\u001b[1;31m---------------------------------------------------------------------------\u001b[0m",
      "\u001b[1;31mTypeError\u001b[0m                                 Traceback (most recent call last)",
      "\u001b[1;32m~\\AppData\\Local\\Temp/ipykernel_6300/2189031992.py\u001b[0m in \u001b[0;36m<module>\u001b[1;34m\u001b[0m\n\u001b[1;32m----> 1\u001b[1;33m \u001b[0mset\u001b[0m\u001b[1;33m(\u001b[0m\u001b[0ml\u001b[0m\u001b[1;33m)\u001b[0m\u001b[1;33m\u001b[0m\u001b[1;33m\u001b[0m\u001b[0m\n\u001b[0m",
      "\u001b[1;31mTypeError\u001b[0m: unhashable type: 'list'"
     ]
    }
   ],
   "source": [
    "set(l) # every element has a hash value, so conversion when there is a collection inside a collection is not possible."
   ]
  },
  {
   "cell_type": "code",
   "execution_count": 77,
   "id": "5bd1f1ce",
   "metadata": {},
   "outputs": [],
   "source": [
    "l = [1, 2, 3, 4, 5, 6, 7, 7, [1, 2, 3, 4, 5], [1, 2, 3, 4, 5]]"
   ]
  },
  {
   "cell_type": "code",
   "execution_count": 78,
   "id": "7e83f5d2",
   "metadata": {},
   "outputs": [
    {
     "ename": "TypeError",
     "evalue": "unhashable type: 'list'",
     "output_type": "error",
     "traceback": [
      "\u001b[1;31m---------------------------------------------------------------------------\u001b[0m",
      "\u001b[1;31mTypeError\u001b[0m                                 Traceback (most recent call last)",
      "\u001b[1;32m~\\AppData\\Local\\Temp/ipykernel_6300/2189031992.py\u001b[0m in \u001b[0;36m<module>\u001b[1;34m\u001b[0m\n\u001b[1;32m----> 1\u001b[1;33m \u001b[0mset\u001b[0m\u001b[1;33m(\u001b[0m\u001b[0ml\u001b[0m\u001b[1;33m)\u001b[0m\u001b[1;33m\u001b[0m\u001b[1;33m\u001b[0m\u001b[0m\n\u001b[0m",
      "\u001b[1;31mTypeError\u001b[0m: unhashable type: 'list'"
     ]
    }
   ],
   "source": [
    "set(l) # even if there is a same type of list, still it will throw error for the above mentioned reason."
   ]
  },
  {
   "cell_type": "code",
   "execution_count": 89,
   "id": "34375fb4",
   "metadata": {},
   "outputs": [
    {
     "data": {
      "text/plain": [
       "[1, 2, 3, 4, 5, 6, 7, 7, [1, 2, 3, 4, 5], [1, 2, 3, 4, 5]]"
      ]
     },
     "execution_count": 89,
     "metadata": {},
     "output_type": "execute_result"
    }
   ],
   "source": [
    "l"
   ]
  },
  {
   "cell_type": "code",
   "execution_count": 97,
   "id": "7e7d97da",
   "metadata": {},
   "outputs": [],
   "source": [
    "test_set = set()"
   ]
  },
  {
   "cell_type": "markdown",
   "id": "b5dd86f3",
   "metadata": {},
   "source": [
    "elemination of internal lists and duplicates"
   ]
  },
  {
   "cell_type": "markdown",
   "id": "71687e68",
   "metadata": {},
   "source": [
    "### understand the program below and explain it in 16th September - Task 1"
   ]
  },
  {
   "cell_type": "code",
   "execution_count": 99,
   "id": "de9fa594",
   "metadata": {},
   "outputs": [
    {
     "name": "stdout",
     "output_type": "stream",
     "text": [
      "{1, 2, 3, 4, 5, 6, 7}\n"
     ]
    }
   ],
   "source": [
    "for i in l:\n",
    "#     print(i)\n",
    "    if type(i) != list:\n",
    "        test_set.add(i)\n",
    "print(test_set)"
   ]
  },
  {
   "cell_type": "code",
   "execution_count": 101,
   "id": "c2d5e26a",
   "metadata": {},
   "outputs": [
    {
     "data": {
      "text/plain": [
       "{1, 2, 3, 4, 5, 6, 7}"
      ]
     },
     "execution_count": 101,
     "metadata": {},
     "output_type": "execute_result"
    }
   ],
   "source": [
    "test_set"
   ]
  },
  {
   "cell_type": "code",
   "execution_count": 100,
   "id": "f2fd4de3",
   "metadata": {},
   "outputs": [
    {
     "data": {
      "text/plain": [
       "[1, 2, 3, 4, 5, 6, 7, 7, [1, 2, 3, 4, 5], [1, 2, 3, 4, 5]]"
      ]
     },
     "execution_count": 100,
     "metadata": {},
     "output_type": "execute_result"
    }
   ],
   "source": [
    "l"
   ]
  },
  {
   "cell_type": "code",
   "execution_count": 102,
   "id": "265de6d1",
   "metadata": {},
   "outputs": [
    {
     "data": {
      "text/plain": [
       "{1, 2, 3, 4, 5, 6, 7}"
      ]
     },
     "execution_count": 102,
     "metadata": {},
     "output_type": "execute_result"
    }
   ],
   "source": [
    "test_set"
   ]
  },
  {
   "cell_type": "markdown",
   "id": "2aee0532",
   "metadata": {},
   "source": [
    "### remove()"
   ]
  },
  {
   "cell_type": "code",
   "execution_count": 103,
   "id": "4aac68c6",
   "metadata": {},
   "outputs": [],
   "source": [
    "test_set.remove(3) # satya is terminated"
   ]
  },
  {
   "cell_type": "code",
   "execution_count": 104,
   "id": "3bfe58b7",
   "metadata": {},
   "outputs": [
    {
     "data": {
      "text/plain": [
       "{1, 2, 4, 5, 6, 7}"
      ]
     },
     "execution_count": 104,
     "metadata": {},
     "output_type": "execute_result"
    }
   ],
   "source": [
    "test_set"
   ]
  },
  {
   "cell_type": "code",
   "execution_count": 105,
   "id": "95c426a6",
   "metadata": {},
   "outputs": [
    {
     "ename": "KeyError",
     "evalue": "57",
     "output_type": "error",
     "traceback": [
      "\u001b[1;31m---------------------------------------------------------------------------\u001b[0m",
      "\u001b[1;31mKeyError\u001b[0m                                  Traceback (most recent call last)",
      "\u001b[1;32m~\\AppData\\Local\\Temp/ipykernel_6300/3805213903.py\u001b[0m in \u001b[0;36m<module>\u001b[1;34m\u001b[0m\n\u001b[1;32m----> 1\u001b[1;33m \u001b[0mtest_set\u001b[0m\u001b[1;33m.\u001b[0m\u001b[0mremove\u001b[0m\u001b[1;33m(\u001b[0m\u001b[1;36m57\u001b[0m\u001b[1;33m)\u001b[0m\u001b[1;33m\u001b[0m\u001b[1;33m\u001b[0m\u001b[0m\n\u001b[0m",
      "\u001b[1;31mKeyError\u001b[0m: 57"
     ]
    }
   ],
   "source": [
    "test_set.remove(57) # 57 is the element(not index) which is not present in the set."
   ]
  },
  {
   "cell_type": "code",
   "execution_count": 106,
   "id": "9c1fd954",
   "metadata": {},
   "outputs": [
    {
     "data": {
      "text/plain": [
       "{1, 2, 4, 5, 6, 7}"
      ]
     },
     "execution_count": 106,
     "metadata": {},
     "output_type": "execute_result"
    }
   ],
   "source": [
    "test_set"
   ]
  },
  {
   "cell_type": "code",
   "execution_count": 107,
   "id": "220402a7",
   "metadata": {},
   "outputs": [],
   "source": [
    "test_set.discard(57) # satya is discrded from training but present in mindgraph. It will not throw any error"
   ]
  },
  {
   "cell_type": "code",
   "execution_count": 109,
   "id": "56bcd501",
   "metadata": {},
   "outputs": [],
   "source": [
    "test_set.discard(1)"
   ]
  },
  {
   "cell_type": "code",
   "execution_count": 110,
   "id": "6db5e0d8",
   "metadata": {},
   "outputs": [
    {
     "data": {
      "text/plain": [
       "{2, 4, 5, 6, 7}"
      ]
     },
     "execution_count": 110,
     "metadata": {},
     "output_type": "execute_result"
    }
   ],
   "source": [
    "test_set"
   ]
  },
  {
   "cell_type": "code",
   "execution_count": 111,
   "id": "f8ab6834",
   "metadata": {},
   "outputs": [],
   "source": [
    "test_set.discard(1)"
   ]
  },
  {
   "cell_type": "markdown",
   "id": "97a8e94c",
   "metadata": {},
   "source": [
    "* only difference between remove() and discard() is, even if the element is removed there is no error in case of discard but in case remove it will throw error."
   ]
  },
  {
   "cell_type": "markdown",
   "id": "5bb75595",
   "metadata": {},
   "source": [
    "### difference()"
   ]
  },
  {
   "cell_type": "code",
   "execution_count": 117,
   "id": "d92d3bfd",
   "metadata": {},
   "outputs": [],
   "source": [
    "byteiq = {'Shubha', 'Satya', 'Lalit', 'Soumya', 'Priyanka', 'Prity'}"
   ]
  },
  {
   "cell_type": "code",
   "execution_count": 114,
   "id": "6d5088f7",
   "metadata": {},
   "outputs": [
    {
     "data": {
      "text/plain": [
       "set"
      ]
     },
     "execution_count": 114,
     "metadata": {},
     "output_type": "execute_result"
    }
   ],
   "source": [
    "type(byteiq)"
   ]
  },
  {
   "cell_type": "code",
   "execution_count": 118,
   "id": "7ea72126",
   "metadata": {},
   "outputs": [],
   "source": [
    "mindgraph = {'Shubha', 'Lalit', 'Soumya', 'Nikhilesh', 'Sachin'}"
   ]
  },
  {
   "cell_type": "code",
   "execution_count": 115,
   "id": "b1edfd7b",
   "metadata": {},
   "outputs": [
    {
     "data": {
      "text/plain": [
       "set"
      ]
     },
     "execution_count": 115,
     "metadata": {},
     "output_type": "execute_result"
    }
   ],
   "source": [
    "type(mindgraph)"
   ]
  },
  {
   "cell_type": "code",
   "execution_count": 119,
   "id": "48fa26d6",
   "metadata": {},
   "outputs": [
    {
     "data": {
      "text/plain": [
       "{'Prity', 'Priyanka', 'Satya'}"
      ]
     },
     "execution_count": 119,
     "metadata": {},
     "output_type": "execute_result"
    }
   ],
   "source": [
    "byteiq.difference(mindgraph)"
   ]
  },
  {
   "cell_type": "code",
   "execution_count": 120,
   "id": "873e834f",
   "metadata": {},
   "outputs": [
    {
     "data": {
      "text/plain": [
       "{'Nikhilesh', 'Sachin'}"
      ]
     },
     "execution_count": 120,
     "metadata": {},
     "output_type": "execute_result"
    }
   ],
   "source": [
    "mindgraph.difference(byteiq)"
   ]
  },
  {
   "cell_type": "code",
   "execution_count": 121,
   "id": "efb258cf",
   "metadata": {},
   "outputs": [
    {
     "data": {
      "text/plain": [
       "{'Lalit', 'Prity', 'Priyanka', 'Satya', 'Shubha', 'Soumya'}"
      ]
     },
     "execution_count": 121,
     "metadata": {},
     "output_type": "execute_result"
    }
   ],
   "source": [
    "byteiq"
   ]
  },
  {
   "cell_type": "markdown",
   "id": "2fbfe1ee",
   "metadata": {},
   "source": [
    "### indexing operation is not possible in case of set."
   ]
  },
  {
   "cell_type": "code",
   "execution_count": 123,
   "id": "858cdb80",
   "metadata": {},
   "outputs": [
    {
     "ename": "TypeError",
     "evalue": "'set' object is not subscriptable",
     "output_type": "error",
     "traceback": [
      "\u001b[1;31m---------------------------------------------------------------------------\u001b[0m",
      "\u001b[1;31mTypeError\u001b[0m                                 Traceback (most recent call last)",
      "\u001b[1;32m~\\AppData\\Local\\Temp/ipykernel_6300/2890444192.py\u001b[0m in \u001b[0;36m<module>\u001b[1;34m\u001b[0m\n\u001b[1;32m----> 1\u001b[1;33m \u001b[0mbyteiq\u001b[0m\u001b[1;33m[\u001b[0m\u001b[1;36m0\u001b[0m\u001b[1;33m]\u001b[0m\u001b[1;33m\u001b[0m\u001b[1;33m\u001b[0m\u001b[0m\n\u001b[0m",
      "\u001b[1;31mTypeError\u001b[0m: 'set' object is not subscriptable"
     ]
    }
   ],
   "source": [
    "byteiq[0] # set is not subscriptable"
   ]
  },
  {
   "cell_type": "code",
   "execution_count": 122,
   "id": "55e1774f",
   "metadata": {},
   "outputs": [
    {
     "ename": "TypeError",
     "evalue": "'set' object is not callable",
     "output_type": "error",
     "traceback": [
      "\u001b[1;31m---------------------------------------------------------------------------\u001b[0m",
      "\u001b[1;31mTypeError\u001b[0m                                 Traceback (most recent call last)",
      "\u001b[1;32m~\\AppData\\Local\\Temp/ipykernel_6300/323880267.py\u001b[0m in \u001b[0;36m<module>\u001b[1;34m\u001b[0m\n\u001b[1;32m----> 1\u001b[1;33m \u001b[0mbyteiq\u001b[0m\u001b[1;33m(\u001b[0m\u001b[1;36m0\u001b[0m\u001b[1;33m)\u001b[0m\u001b[1;33m\u001b[0m\u001b[1;33m\u001b[0m\u001b[0m\n\u001b[0m",
      "\u001b[1;31mTypeError\u001b[0m: 'set' object is not callable"
     ]
    }
   ],
   "source": [
    "byteiq(0) # common bracket will be used only incase of functions"
   ]
  },
  {
   "cell_type": "markdown",
   "id": "c5fcca9b",
   "metadata": {},
   "source": [
    "* Set never stores elements in a ordered fashion."
   ]
  },
  {
   "cell_type": "markdown",
   "id": "e413fbb4",
   "metadata": {},
   "source": [
    "### understand the program below and explain it in 16th September - Task 2"
   ]
  },
  {
   "cell_type": "code",
   "execution_count": 125,
   "id": "115db09d",
   "metadata": {},
   "outputs": [
    {
     "data": {
      "text/plain": [
       "{'Lalit', 'Prity', 'Priyanka', 'Satya', 'Shubha', 'Soumya'}"
      ]
     },
     "execution_count": 125,
     "metadata": {},
     "output_type": "execute_result"
    }
   ],
   "source": [
    "byteiq"
   ]
  },
  {
   "cell_type": "code",
   "execution_count": 124,
   "id": "91f196e2",
   "metadata": {},
   "outputs": [
    {
     "name": "stdout",
     "output_type": "stream",
     "text": [
      "Satya\n",
      "Soumya\n",
      "Lalit\n",
      "Prity\n",
      "Shubha\n",
      "Priyanka\n"
     ]
    }
   ],
   "source": [
    "for employee in byteiq:\n",
    "    print(employee) # Set never stores elements in a ordered fashion"
   ]
  },
  {
   "cell_type": "code",
   "execution_count": 126,
   "id": "0719458e",
   "metadata": {},
   "outputs": [],
   "source": [
    "string_set = byteiq # assigning the values of byteiq to string_set variable."
   ]
  },
  {
   "cell_type": "code",
   "execution_count": 127,
   "id": "a4752082",
   "metadata": {},
   "outputs": [
    {
     "data": {
      "text/plain": [
       "{'Lalit', 'Prity', 'Priyanka', 'Satya', 'Shubha', 'Soumya'}"
      ]
     },
     "execution_count": 127,
     "metadata": {},
     "output_type": "execute_result"
    }
   ],
   "source": [
    "string_set"
   ]
  },
  {
   "cell_type": "markdown",
   "id": "ffa32323",
   "metadata": {},
   "source": [
    "* To perform indexing operation on a set:\n",
    "    * convert set to list - perform indexing - then back to set. (in case you want to mutate)\n",
    "    * convert set to tuple - perform indexing - then back to set. (in case you do not want to mutate)"
   ]
  },
  {
   "cell_type": "code",
   "execution_count": 129,
   "id": "8808d759",
   "metadata": {},
   "outputs": [
    {
     "ename": "TypeError",
     "evalue": "'set' object is not subscriptable",
     "output_type": "error",
     "traceback": [
      "\u001b[1;31m---------------------------------------------------------------------------\u001b[0m",
      "\u001b[1;31mTypeError\u001b[0m                                 Traceback (most recent call last)",
      "\u001b[1;32m~\\AppData\\Local\\Temp/ipykernel_6300/2163490518.py\u001b[0m in \u001b[0;36m<module>\u001b[1;34m\u001b[0m\n\u001b[1;32m----> 1\u001b[1;33m \u001b[0mstring_set\u001b[0m\u001b[1;33m[\u001b[0m\u001b[1;36m1\u001b[0m\u001b[1;33m]\u001b[0m\u001b[1;33m\u001b[0m\u001b[1;33m\u001b[0m\u001b[0m\n\u001b[0m",
      "\u001b[1;31mTypeError\u001b[0m: 'set' object is not subscriptable"
     ]
    }
   ],
   "source": [
    "string_set[1]"
   ]
  },
  {
   "cell_type": "markdown",
   "id": "395056d3",
   "metadata": {},
   "source": [
    "### convert set to list - perform indexing - then back to set. (in case you want to mutate)"
   ]
  },
  {
   "cell_type": "code",
   "execution_count": 130,
   "id": "8b4271f7",
   "metadata": {},
   "outputs": [
    {
     "data": {
      "text/plain": [
       "['Satya', 'Soumya', 'Lalit', 'Prity', 'Shubha', 'Priyanka']"
      ]
     },
     "execution_count": 130,
     "metadata": {},
     "output_type": "execute_result"
    }
   ],
   "source": [
    "list(string_set) # just displaying"
   ]
  },
  {
   "cell_type": "code",
   "execution_count": 131,
   "id": "a446e093",
   "metadata": {},
   "outputs": [],
   "source": [
    "list_set = list(string_set) # converting set to list, and storing or assigning"
   ]
  },
  {
   "cell_type": "code",
   "execution_count": 140,
   "id": "18dabfe6",
   "metadata": {},
   "outputs": [
    {
     "data": {
      "text/plain": [
       "list"
      ]
     },
     "execution_count": 140,
     "metadata": {},
     "output_type": "execute_result"
    }
   ],
   "source": [
    "type(list_set)"
   ]
  },
  {
   "cell_type": "code",
   "execution_count": 132,
   "id": "acfddb63",
   "metadata": {},
   "outputs": [
    {
     "data": {
      "text/plain": [
       "['Satya', 'Soumya', 'Lalit', 'Prity', 'Shubha', 'Priyanka']"
      ]
     },
     "execution_count": 132,
     "metadata": {},
     "output_type": "execute_result"
    }
   ],
   "source": [
    "list_set"
   ]
  },
  {
   "cell_type": "code",
   "execution_count": 133,
   "id": "84361d5a",
   "metadata": {},
   "outputs": [],
   "source": [
    "list_set[0] = 'Brahmhananda'"
   ]
  },
  {
   "cell_type": "code",
   "execution_count": 134,
   "id": "45772feb",
   "metadata": {},
   "outputs": [
    {
     "data": {
      "text/plain": [
       "['Brahmhananda', 'Soumya', 'Lalit', 'Prity', 'Shubha', 'Priyanka']"
      ]
     },
     "execution_count": 134,
     "metadata": {},
     "output_type": "execute_result"
    }
   ],
   "source": [
    "list_set # just displaying"
   ]
  },
  {
   "cell_type": "code",
   "execution_count": 135,
   "id": "8cd28b30",
   "metadata": {},
   "outputs": [
    {
     "data": {
      "text/plain": [
       "list"
      ]
     },
     "execution_count": 135,
     "metadata": {},
     "output_type": "execute_result"
    }
   ],
   "source": [
    "type(list_set)"
   ]
  },
  {
   "cell_type": "code",
   "execution_count": 136,
   "id": "6871322c",
   "metadata": {},
   "outputs": [
    {
     "ename": "NameError",
     "evalue": "name 'new_set' is not defined",
     "output_type": "error",
     "traceback": [
      "\u001b[1;31m---------------------------------------------------------------------------\u001b[0m",
      "\u001b[1;31mNameError\u001b[0m                                 Traceback (most recent call last)",
      "\u001b[1;32m~\\AppData\\Local\\Temp/ipykernel_6300/502970480.py\u001b[0m in \u001b[0;36m<module>\u001b[1;34m\u001b[0m\n\u001b[1;32m----> 1\u001b[1;33m \u001b[0mnew_set\u001b[0m\u001b[1;33m\u001b[0m\u001b[1;33m\u001b[0m\u001b[0m\n\u001b[0m",
      "\u001b[1;31mNameError\u001b[0m: name 'new_set' is not defined"
     ]
    }
   ],
   "source": [
    "new_set"
   ]
  },
  {
   "cell_type": "code",
   "execution_count": 137,
   "id": "94e971e1",
   "metadata": {},
   "outputs": [],
   "source": [
    "new_set = set(list_set) # new variable created named as 'new_set' and converted list is assigned or stored"
   ]
  },
  {
   "cell_type": "code",
   "execution_count": 138,
   "id": "36c17ea1",
   "metadata": {},
   "outputs": [
    {
     "data": {
      "text/plain": [
       "{'Brahmhananda', 'Lalit', 'Prity', 'Priyanka', 'Shubha', 'Soumya'}"
      ]
     },
     "execution_count": 138,
     "metadata": {},
     "output_type": "execute_result"
    }
   ],
   "source": [
    "new_set # new set after manipulation, just displaying"
   ]
  },
  {
   "cell_type": "code",
   "execution_count": 139,
   "id": "0cca9930",
   "metadata": {},
   "outputs": [
    {
     "data": {
      "text/plain": [
       "{'Lalit', 'Prity', 'Priyanka', 'Satya', 'Shubha', 'Soumya'}"
      ]
     },
     "execution_count": 139,
     "metadata": {},
     "output_type": "execute_result"
    }
   ],
   "source": [
    "string_set # original set, just displaying"
   ]
  },
  {
   "cell_type": "markdown",
   "id": "704a10f9",
   "metadata": {},
   "source": [
    "### convert set to tuple - perform indexing - then back to set. (in case you do not want to mutate)"
   ]
  },
  {
   "cell_type": "code",
   "execution_count": 141,
   "id": "c9c87454",
   "metadata": {},
   "outputs": [
    {
     "data": {
      "text/plain": [
       "{'Lalit', 'Prity', 'Priyanka', 'Satya', 'Shubha', 'Soumya'}"
      ]
     },
     "execution_count": 141,
     "metadata": {},
     "output_type": "execute_result"
    }
   ],
   "source": [
    "string_set"
   ]
  },
  {
   "cell_type": "code",
   "execution_count": 143,
   "id": "2586dba7",
   "metadata": {},
   "outputs": [
    {
     "ename": "TypeError",
     "evalue": "'set' object is not subscriptable",
     "output_type": "error",
     "traceback": [
      "\u001b[1;31m---------------------------------------------------------------------------\u001b[0m",
      "\u001b[1;31mTypeError\u001b[0m                                 Traceback (most recent call last)",
      "\u001b[1;32m~\\AppData\\Local\\Temp/ipykernel_6300/439649282.py\u001b[0m in \u001b[0;36m<module>\u001b[1;34m\u001b[0m\n\u001b[1;32m----> 1\u001b[1;33m \u001b[0mstring_set\u001b[0m\u001b[1;33m[\u001b[0m\u001b[1;36m0\u001b[0m\u001b[1;33m:\u001b[0m\u001b[1;36m2\u001b[0m\u001b[1;33m]\u001b[0m \u001b[1;31m# indexing not possible\u001b[0m\u001b[1;33m\u001b[0m\u001b[1;33m\u001b[0m\u001b[0m\n\u001b[0m",
      "\u001b[1;31mTypeError\u001b[0m: 'set' object is not subscriptable"
     ]
    }
   ],
   "source": [
    "string_set[0:2] # slicing or indexing not possible"
   ]
  },
  {
   "cell_type": "code",
   "execution_count": 144,
   "id": "775eb946",
   "metadata": {},
   "outputs": [
    {
     "data": {
      "text/plain": [
       "('Satya', 'Soumya', 'Lalit', 'Prity', 'Shubha', 'Priyanka')"
      ]
     },
     "execution_count": 144,
     "metadata": {},
     "output_type": "execute_result"
    }
   ],
   "source": [
    "tuple(string_set)"
   ]
  },
  {
   "cell_type": "code",
   "execution_count": 145,
   "id": "55d41fae",
   "metadata": {},
   "outputs": [],
   "source": [
    "tuple_set = tuple(string_set)"
   ]
  },
  {
   "cell_type": "code",
   "execution_count": 146,
   "id": "13f3fc4a",
   "metadata": {},
   "outputs": [
    {
     "data": {
      "text/plain": [
       "('Satya', 'Soumya', 'Lalit', 'Prity', 'Shubha', 'Priyanka')"
      ]
     },
     "execution_count": 146,
     "metadata": {},
     "output_type": "execute_result"
    }
   ],
   "source": [
    "tuple_set"
   ]
  },
  {
   "cell_type": "code",
   "execution_count": 147,
   "id": "9dbdcfda",
   "metadata": {},
   "outputs": [
    {
     "data": {
      "text/plain": [
       "tuple"
      ]
     },
     "execution_count": 147,
     "metadata": {},
     "output_type": "execute_result"
    }
   ],
   "source": [
    "type(tuple_set)"
   ]
  },
  {
   "cell_type": "code",
   "execution_count": 148,
   "id": "1503d993",
   "metadata": {},
   "outputs": [
    {
     "data": {
      "text/plain": [
       "'Satya'"
      ]
     },
     "execution_count": 148,
     "metadata": {},
     "output_type": "execute_result"
    }
   ],
   "source": [
    "tuple_set[0] # can access element"
   ]
  },
  {
   "cell_type": "code",
   "execution_count": 149,
   "id": "4f5dcaf8",
   "metadata": {},
   "outputs": [
    {
     "ename": "TypeError",
     "evalue": "'tuple' object does not support item assignment",
     "output_type": "error",
     "traceback": [
      "\u001b[1;31m---------------------------------------------------------------------------\u001b[0m",
      "\u001b[1;31mTypeError\u001b[0m                                 Traceback (most recent call last)",
      "\u001b[1;32m~\\AppData\\Local\\Temp/ipykernel_6300/3292373807.py\u001b[0m in \u001b[0;36m<module>\u001b[1;34m\u001b[0m\n\u001b[1;32m----> 1\u001b[1;33m \u001b[0mtuple_set\u001b[0m\u001b[1;33m[\u001b[0m\u001b[1;36m0\u001b[0m\u001b[1;33m]\u001b[0m \u001b[1;33m=\u001b[0m \u001b[1;36m1\u001b[0m\u001b[1;33m\u001b[0m\u001b[1;33m\u001b[0m\u001b[0m\n\u001b[0m",
      "\u001b[1;31mTypeError\u001b[0m: 'tuple' object does not support item assignment"
     ]
    }
   ],
   "source": [
    "tuple_set[0] = 1 # Immutable"
   ]
  },
  {
   "cell_type": "code",
   "execution_count": 150,
   "id": "620ef318",
   "metadata": {},
   "outputs": [
    {
     "data": {
      "text/plain": [
       "('Satya', 'Soumya', 'Lalit', 'Prity', 'Shubha', 'Priyanka')"
      ]
     },
     "execution_count": 150,
     "metadata": {},
     "output_type": "execute_result"
    }
   ],
   "source": [
    "tuple_set # order fasion is not changing, slicing is possible"
   ]
  },
  {
   "cell_type": "code",
   "execution_count": 151,
   "id": "b89fec2b",
   "metadata": {},
   "outputs": [
    {
     "data": {
      "text/plain": [
       "('Satya', 'Soumya', 'Lalit')"
      ]
     },
     "execution_count": 151,
     "metadata": {},
     "output_type": "execute_result"
    }
   ],
   "source": [
    "tuple_set[0:3]"
   ]
  },
  {
   "cell_type": "code",
   "execution_count": 153,
   "id": "90a86c1b",
   "metadata": {},
   "outputs": [],
   "source": [
    "new_tuple = tuple_set[0:3]"
   ]
  },
  {
   "cell_type": "code",
   "execution_count": 154,
   "id": "a81fb082",
   "metadata": {},
   "outputs": [
    {
     "data": {
      "text/plain": [
       "('Satya', 'Soumya', 'Lalit')"
      ]
     },
     "execution_count": 154,
     "metadata": {},
     "output_type": "execute_result"
    }
   ],
   "source": [
    "new_tuple"
   ]
  },
  {
   "cell_type": "code",
   "execution_count": 155,
   "id": "ed3b9498",
   "metadata": {},
   "outputs": [
    {
     "data": {
      "text/plain": [
       "tuple"
      ]
     },
     "execution_count": 155,
     "metadata": {},
     "output_type": "execute_result"
    }
   ],
   "source": [
    "type(new_tuple)"
   ]
  },
  {
   "cell_type": "code",
   "execution_count": 156,
   "id": "9a8de085",
   "metadata": {},
   "outputs": [
    {
     "data": {
      "text/plain": [
       "{'Lalit', 'Satya', 'Soumya'}"
      ]
     },
     "execution_count": 156,
     "metadata": {},
     "output_type": "execute_result"
    }
   ],
   "source": [
    "set(new_tuple)"
   ]
  },
  {
   "cell_type": "code",
   "execution_count": 157,
   "id": "5780697a",
   "metadata": {},
   "outputs": [],
   "source": [
    "new_set_tup = set(new_tuple)"
   ]
  },
  {
   "cell_type": "code",
   "execution_count": 158,
   "id": "c87940e8",
   "metadata": {},
   "outputs": [
    {
     "data": {
      "text/plain": [
       "{'Lalit', 'Satya', 'Soumya'}"
      ]
     },
     "execution_count": 158,
     "metadata": {},
     "output_type": "execute_result"
    }
   ],
   "source": [
    "new_set_tup"
   ]
  },
  {
   "cell_type": "markdown",
   "id": "171a877a",
   "metadata": {},
   "source": [
    "### Dictionary - dict"
   ]
  },
  {
   "cell_type": "code",
   "execution_count": 159,
   "id": "44784aea",
   "metadata": {},
   "outputs": [],
   "source": [
    "d = {} #initializing an empty dict, dict stores value in key and value pair."
   ]
  },
  {
   "cell_type": "code",
   "execution_count": 160,
   "id": "4ea6727c",
   "metadata": {},
   "outputs": [
    {
     "data": {
      "text/plain": [
       "dict"
      ]
     },
     "execution_count": 160,
     "metadata": {},
     "output_type": "execute_result"
    }
   ],
   "source": [
    "type(d)"
   ]
  },
  {
   "cell_type": "code",
   "execution_count": 161,
   "id": "44ab909b",
   "metadata": {},
   "outputs": [],
   "source": [
    "d = {4, 5, 6}"
   ]
  },
  {
   "cell_type": "code",
   "execution_count": 162,
   "id": "67ec2e6d",
   "metadata": {},
   "outputs": [
    {
     "data": {
      "text/plain": [
       "set"
      ]
     },
     "execution_count": 162,
     "metadata": {},
     "output_type": "execute_result"
    }
   ],
   "source": [
    "type(d)"
   ]
  },
  {
   "cell_type": "code",
   "execution_count": 163,
   "id": "d41b2c6f",
   "metadata": {},
   "outputs": [],
   "source": [
    "d = {\"key\": \"value\"}"
   ]
  },
  {
   "cell_type": "code",
   "execution_count": 164,
   "id": "f776d14b",
   "metadata": {},
   "outputs": [
    {
     "data": {
      "text/plain": [
       "dict"
      ]
     },
     "execution_count": 164,
     "metadata": {},
     "output_type": "execute_result"
    }
   ],
   "source": [
    "type(d)"
   ]
  },
  {
   "cell_type": "code",
   "execution_count": 165,
   "id": "b78cfd11",
   "metadata": {},
   "outputs": [],
   "source": [
    "# Example\n",
    "l = [1, 2, 3, 4, 5, 6, 7, 8, 9]"
   ]
  },
  {
   "cell_type": "code",
   "execution_count": 166,
   "id": "ceb4938a",
   "metadata": {},
   "outputs": [
    {
     "data": {
      "text/plain": [
       "2"
      ]
     },
     "execution_count": 166,
     "metadata": {},
     "output_type": "execute_result"
    }
   ],
   "source": [
    "l[1]"
   ]
  },
  {
   "cell_type": "code",
   "execution_count": 167,
   "id": "cdb16392",
   "metadata": {},
   "outputs": [],
   "source": [
    "d = {'Name' : 'Shubha', 'Employer' : 'Mindgraph and ByteIQ', 'EmployeeID' : 'E007', 'YOE' : 1.4, 'People Handling' : 7}"
   ]
  },
  {
   "cell_type": "code",
   "execution_count": 168,
   "id": "50ead63b",
   "metadata": {},
   "outputs": [
    {
     "data": {
      "text/plain": [
       "{'Name': 'Shubha',\n",
       " 'Employer': 'Mindgraph and ByteIQ',\n",
       " 'EmployeeID': 'E007',\n",
       " 'YOE': 1.4,\n",
       " 'People Handling': 7}"
      ]
     },
     "execution_count": 168,
     "metadata": {},
     "output_type": "execute_result"
    }
   ],
   "source": [
    "d"
   ]
  },
  {
   "cell_type": "code",
   "execution_count": 169,
   "id": "31b12780",
   "metadata": {},
   "outputs": [
    {
     "data": {
      "text/plain": [
       "dict"
      ]
     },
     "execution_count": 169,
     "metadata": {},
     "output_type": "execute_result"
    }
   ],
   "source": [
    "type(d)"
   ]
  },
  {
   "cell_type": "code",
   "execution_count": 170,
   "id": "d16b13bf",
   "metadata": {},
   "outputs": [
    {
     "data": {
      "text/plain": [
       "dict_keys(['Name', 'Employer', 'EmployeeID', 'YOE', 'People Handling'])"
      ]
     },
     "execution_count": 170,
     "metadata": {},
     "output_type": "execute_result"
    }
   ],
   "source": [
    "d.keys()"
   ]
  },
  {
   "cell_type": "code",
   "execution_count": 171,
   "id": "2d14002d",
   "metadata": {},
   "outputs": [
    {
     "data": {
      "text/plain": [
       "dict_values(['Shubha', 'Mindgraph and ByteIQ', 'E007', 1.4, 7])"
      ]
     },
     "execution_count": 171,
     "metadata": {},
     "output_type": "execute_result"
    }
   ],
   "source": [
    "d.values()"
   ]
  },
  {
   "cell_type": "markdown",
   "id": "fc0f7d67",
   "metadata": {},
   "source": [
    "* Keys inside a Python dictionary can only be of a type that is immutable. Immutable data types in Python are integers , strings , tuples , floating point numbers , and Booleans "
   ]
  },
  {
   "cell_type": "code",
   "execution_count": 191,
   "id": "22ff0402",
   "metadata": {},
   "outputs": [
    {
     "ename": "SyntaxError",
     "evalue": "invalid syntax (Temp/ipykernel_6300/627109955.py, line 1)",
     "output_type": "error",
     "traceback": [
      "\u001b[1;36m  File \u001b[1;32m\"C:\\Users\\Acer\\AppData\\Local\\Temp/ipykernel_6300/627109955.py\"\u001b[1;36m, line \u001b[1;32m1\u001b[0m\n\u001b[1;33m    d = {1:\"Shubha\", 5.5 : 5, \"Nikki\" : False, 'SP' : /}\u001b[0m\n\u001b[1;37m                                                      ^\u001b[0m\n\u001b[1;31mSyntaxError\u001b[0m\u001b[1;31m:\u001b[0m invalid syntax\n"
     ]
    }
   ],
   "source": [
    "d = {1:\"Shubha\", 5.5 : 5, \"Nikki\" : False, 'SP' : /} # doesn't take special character as value"
   ]
  },
  {
   "cell_type": "code",
   "execution_count": 192,
   "id": "233b9e2f",
   "metadata": {},
   "outputs": [
    {
     "ename": "SyntaxError",
     "evalue": "unexpected EOF while parsing (Temp/ipykernel_6300/1034445040.py, line 1)",
     "output_type": "error",
     "traceback": [
      "\u001b[1;36m  File \u001b[1;32m\"C:\\Users\\Acer\\AppData\\Local\\Temp/ipykernel_6300/1034445040.py\"\u001b[1;36m, line \u001b[1;32m1\u001b[0m\n\u001b[1;33m    d = {1:\"Shubha\", 5.5 : 5, \"Nikki\" : False, 'SP' : # } # doesn't take special character as value\u001b[0m\n\u001b[1;37m                                                                                                   ^\u001b[0m\n\u001b[1;31mSyntaxError\u001b[0m\u001b[1;31m:\u001b[0m unexpected EOF while parsing\n"
     ]
    }
   ],
   "source": [
    "d = {1:\"Shubha\", 5.5 : 5, \"Nikki\" : False, 'SP' : # } # doesn't take special character as value"
   ]
  },
  {
   "cell_type": "code",
   "execution_count": 223,
   "id": "5942dcdb",
   "metadata": {},
   "outputs": [],
   "source": [
    "d = {1:\"Shubha\", 5.5 : 5, \"Nikki\" : False, 'SP' : '#' } # will work if the special character is written as string."
   ]
  },
  {
   "cell_type": "code",
   "execution_count": 224,
   "id": "5dcb1dc9",
   "metadata": {},
   "outputs": [
    {
     "data": {
      "text/plain": [
       "{1: 'Shubha', 5.5: 5, 'Nikki': False, 'SP': '#'}"
      ]
     },
     "execution_count": 224,
     "metadata": {},
     "output_type": "execute_result"
    }
   ],
   "source": [
    "d"
   ]
  },
  {
   "cell_type": "code",
   "execution_count": 226,
   "id": "c6b1e241",
   "metadata": {},
   "outputs": [
    {
     "ename": "TypeError",
     "evalue": "unhashable type: 'list'",
     "output_type": "error",
     "traceback": [
      "\u001b[1;31m---------------------------------------------------------------------------\u001b[0m",
      "\u001b[1;31mTypeError\u001b[0m                                 Traceback (most recent call last)",
      "\u001b[1;32m~\\AppData\\Local\\Temp/ipykernel_6300/1752774683.py\u001b[0m in \u001b[0;36m<module>\u001b[1;34m\u001b[0m\n\u001b[0;32m      1\u001b[0m \u001b[1;31m# won't work for a list, unable to create a hash value for collection\u001b[0m\u001b[1;33m\u001b[0m\u001b[1;33m\u001b[0m\u001b[0m\n\u001b[1;32m----> 2\u001b[1;33m \u001b[0md\u001b[0m \u001b[1;33m=\u001b[0m \u001b[1;33m{\u001b[0m\u001b[1;36m1\u001b[0m\u001b[1;33m:\u001b[0m\u001b[1;34m\"Shubha\"\u001b[0m\u001b[1;33m,\u001b[0m \u001b[1;36m5.5\u001b[0m \u001b[1;33m:\u001b[0m \u001b[1;36m5\u001b[0m\u001b[1;33m,\u001b[0m \u001b[1;34m\"Nikki\"\u001b[0m \u001b[1;33m:\u001b[0m \u001b[1;32mFalse\u001b[0m\u001b[1;33m,\u001b[0m \u001b[1;34m'SP'\u001b[0m \u001b[1;33m:\u001b[0m \u001b[1;34m'#'\u001b[0m\u001b[1;33m,\u001b[0m \u001b[1;33m[\u001b[0m\u001b[1;36m1\u001b[0m\u001b[1;33m,\u001b[0m \u001b[1;36m2\u001b[0m\u001b[1;33m,\u001b[0m \u001b[1;36m3\u001b[0m\u001b[1;33m,\u001b[0m \u001b[1;36m5\u001b[0m\u001b[1;33m]\u001b[0m \u001b[1;33m:\u001b[0m \u001b[1;36m8\u001b[0m \u001b[1;33m}\u001b[0m\u001b[1;33m\u001b[0m\u001b[1;33m\u001b[0m\u001b[0m\n\u001b[0m",
      "\u001b[1;31mTypeError\u001b[0m: unhashable type: 'list'"
     ]
    }
   ],
   "source": [
    "# won't work for a list, unable to create a hash value for collection\n",
    "d = {1:\"Shubha\", 5.5 : 5, \"Nikki\" : False, 'SP' : '#', [1, 2, 3, 5] : 8 }  # will not work when list is key"
   ]
  },
  {
   "cell_type": "code",
   "execution_count": 227,
   "id": "4654ead5",
   "metadata": {},
   "outputs": [],
   "source": [
    "d = {1:\"Shubha\", 5.5 : 5, \"Nikki\" : False, 'SP' : '#', (1, 2, 3, 5) : 8 } # will work when tuple is key"
   ]
  },
  {
   "cell_type": "code",
   "execution_count": 230,
   "id": "531b0247",
   "metadata": {},
   "outputs": [
    {
     "ename": "TypeError",
     "evalue": "unhashable type: 'set'",
     "output_type": "error",
     "traceback": [
      "\u001b[1;31m---------------------------------------------------------------------------\u001b[0m",
      "\u001b[1;31mTypeError\u001b[0m                                 Traceback (most recent call last)",
      "\u001b[1;32m~\\AppData\\Local\\Temp/ipykernel_6300/3381012358.py\u001b[0m in \u001b[0;36m<module>\u001b[1;34m\u001b[0m\n\u001b[1;32m----> 1\u001b[1;33m \u001b[0md\u001b[0m \u001b[1;33m=\u001b[0m \u001b[1;33m{\u001b[0m\u001b[1;36m1\u001b[0m\u001b[1;33m:\u001b[0m\u001b[1;34m\"Shubha\"\u001b[0m\u001b[1;33m,\u001b[0m \u001b[1;36m5.5\u001b[0m \u001b[1;33m:\u001b[0m \u001b[1;36m5\u001b[0m\u001b[1;33m,\u001b[0m \u001b[1;34m\"Nikki\"\u001b[0m \u001b[1;33m:\u001b[0m \u001b[1;32mFalse\u001b[0m\u001b[1;33m,\u001b[0m \u001b[1;34m'SP'\u001b[0m \u001b[1;33m:\u001b[0m \u001b[1;34m'#'\u001b[0m\u001b[1;33m,\u001b[0m \u001b[1;33m{\u001b[0m\u001b[1;36m1\u001b[0m\u001b[1;33m,\u001b[0m \u001b[1;36m2\u001b[0m\u001b[1;33m,\u001b[0m \u001b[1;36m3\u001b[0m\u001b[1;33m,\u001b[0m \u001b[1;36m5\u001b[0m\u001b[1;33m}\u001b[0m \u001b[1;33m:\u001b[0m \u001b[1;36m8\u001b[0m \u001b[1;33m}\u001b[0m\u001b[1;33m\u001b[0m\u001b[1;33m\u001b[0m\u001b[0m\n\u001b[0m",
      "\u001b[1;31mTypeError\u001b[0m: unhashable type: 'set'"
     ]
    }
   ],
   "source": [
    "d = {1:\"Shubha\", 5.5 : 5, \"Nikki\" : False, 'SP' : '#', {1, 2, 3, 5} : 8 } # will not work when set is key"
   ]
  },
  {
   "cell_type": "code",
   "execution_count": 228,
   "id": "37b53853",
   "metadata": {},
   "outputs": [
    {
     "data": {
      "text/plain": [
       "dict_keys([1, 5.5, 'Nikki', 'SP', (1, 2, 3, 5)])"
      ]
     },
     "execution_count": 228,
     "metadata": {},
     "output_type": "execute_result"
    }
   ],
   "source": [
    "d.keys()"
   ]
  },
  {
   "cell_type": "code",
   "execution_count": 229,
   "id": "ea7d5478",
   "metadata": {},
   "outputs": [
    {
     "data": {
      "text/plain": [
       "dict_values(['Shubha', 5, False, '#', 8])"
      ]
     },
     "execution_count": 229,
     "metadata": {},
     "output_type": "execute_result"
    }
   ],
   "source": [
    "d.values()"
   ]
  },
  {
   "cell_type": "code",
   "execution_count": 236,
   "id": "f56cdb4d",
   "metadata": {},
   "outputs": [
    {
     "ename": "NameError",
     "evalue": "name '_' is not defined",
     "output_type": "error",
     "traceback": [
      "\u001b[1;31m---------------------------------------------------------------------------\u001b[0m",
      "\u001b[1;31mNameError\u001b[0m                                 Traceback (most recent call last)",
      "\u001b[1;32m~\\AppData\\Local\\Temp/ipykernel_6300/3634096859.py\u001b[0m in \u001b[0;36m<module>\u001b[1;34m\u001b[0m\n\u001b[1;32m----> 1\u001b[1;33m \u001b[0md\u001b[0m \u001b[1;33m=\u001b[0m \u001b[1;33m{\u001b[0m\u001b[1;36m1\u001b[0m\u001b[1;33m:\u001b[0m\u001b[1;34m\"Shubha\"\u001b[0m\u001b[1;33m,\u001b[0m \u001b[1;36m5.5\u001b[0m \u001b[1;33m:\u001b[0m \u001b[1;36m5\u001b[0m\u001b[1;33m,\u001b[0m \u001b[1;34m\"Nikki\"\u001b[0m \u001b[1;33m:\u001b[0m \u001b[1;32mFalse\u001b[0m\u001b[1;33m,\u001b[0m \u001b[0m_\u001b[0m \u001b[1;33m:\u001b[0m \u001b[1;36m45\u001b[0m \u001b[1;33m}\u001b[0m \u001b[1;31m# underscore can be taken as a key in a dict\u001b[0m\u001b[1;33m\u001b[0m\u001b[1;33m\u001b[0m\u001b[0m\n\u001b[0m",
      "\u001b[1;31mNameError\u001b[0m: name '_' is not defined"
     ]
    }
   ],
   "source": [
    "d = {1:\"Shubha\", 5.5 : 5, \"Nikki\" : False, _ : 45 } # underscore can't be taken as a key in a dict"
   ]
  },
  {
   "cell_type": "code",
   "execution_count": 237,
   "id": "fe4bc3a6",
   "metadata": {},
   "outputs": [],
   "source": [
    "# '_' is a placeholder\n",
    "_ = 'New Key'"
   ]
  },
  {
   "cell_type": "code",
   "execution_count": 238,
   "id": "58b572ec",
   "metadata": {},
   "outputs": [],
   "source": [
    "d = {1:\"Shubha\", 5.5 : 5, \"Nikki\" : False, _ : 45 } # underscore can be taken as a key in a dict, if we have assigned a value to it."
   ]
  },
  {
   "cell_type": "code",
   "execution_count": 241,
   "id": "e661cb81",
   "metadata": {},
   "outputs": [
    {
     "data": {
      "text/plain": [
       "dict_keys([1, 5.5, 'Nikki', 'New Key'])"
      ]
     },
     "execution_count": 241,
     "metadata": {},
     "output_type": "execute_result"
    }
   ],
   "source": [
    "d.keys()"
   ]
  },
  {
   "cell_type": "markdown",
   "id": "96642e4b",
   "metadata": {},
   "source": [
    "### duplicate keys not allowed"
   ]
  },
  {
   "cell_type": "code",
   "execution_count": 3,
   "id": "e88219e2",
   "metadata": {},
   "outputs": [],
   "source": [
    "new_dict_1 = {1:\"Shubha\", 5.5 : 5, \"Nikki\" : False, 1 : \"Soumya\", \"Nikki\" : True,  1 : \"Soumya2\"}"
   ]
  },
  {
   "cell_type": "code",
   "execution_count": 4,
   "id": "5c310ed7",
   "metadata": {},
   "outputs": [
    {
     "data": {
      "text/plain": [
       "{1: 'Soumya2', 5.5: 5, 'Nikki': True}"
      ]
     },
     "execution_count": 4,
     "metadata": {},
     "output_type": "execute_result"
    }
   ],
   "source": [
    "new_dict_1 # same key name will overwrite values and you will be able to see the latest value for the last key"
   ]
  },
  {
   "cell_type": "markdown",
   "id": "451b9a50",
   "metadata": {},
   "source": [
    "### duplicate values are allowed"
   ]
  },
  {
   "cell_type": "code",
   "execution_count": 5,
   "id": "bb686dbf",
   "metadata": {},
   "outputs": [],
   "source": [
    "d = { 1 : 'Brahmhananda', 2 : 'Brahmhananda', \"Satya 2\" : 'Brahmhananda'}"
   ]
  },
  {
   "cell_type": "code",
   "execution_count": 6,
   "id": "022ae126",
   "metadata": {},
   "outputs": [
    {
     "data": {
      "text/plain": [
       "dict_keys([1, 2, 'Satya 2'])"
      ]
     },
     "execution_count": 6,
     "metadata": {},
     "output_type": "execute_result"
    }
   ],
   "source": [
    "d.keys()"
   ]
  },
  {
   "cell_type": "code",
   "execution_count": 7,
   "id": "8bf2a529",
   "metadata": {},
   "outputs": [
    {
     "data": {
      "text/plain": [
       "dict_values(['Brahmhananda', 'Brahmhananda', 'Brahmhananda'])"
      ]
     },
     "execution_count": 7,
     "metadata": {},
     "output_type": "execute_result"
    }
   ],
   "source": [
    "d.values()"
   ]
  },
  {
   "cell_type": "code",
   "execution_count": 12,
   "id": "4538d8b5",
   "metadata": {},
   "outputs": [],
   "source": [
    "d = {1: 'Shubha', 2: 'Mohanty', 'Profile': ['Data Engineer', 'Project Manager', 'COE Data'], 4: 'ByteIQ and Mindgraph'}"
   ]
  },
  {
   "cell_type": "code",
   "execution_count": 13,
   "id": "a63bd97b",
   "metadata": {},
   "outputs": [
    {
     "data": {
      "text/plain": [
       "dict_keys([1, 2, 'Profile', 4])"
      ]
     },
     "execution_count": 13,
     "metadata": {},
     "output_type": "execute_result"
    }
   ],
   "source": [
    "d.keys()"
   ]
  },
  {
   "cell_type": "code",
   "execution_count": 14,
   "id": "65a92cdc",
   "metadata": {},
   "outputs": [
    {
     "data": {
      "text/plain": [
       "dict_values(['Shubha', 'Mohanty', ['Data Engineer', 'Project Manager', 'COE Data'], 'ByteIQ and Mindgraph'])"
      ]
     },
     "execution_count": 14,
     "metadata": {},
     "output_type": "execute_result"
    }
   ],
   "source": [
    "d.values()"
   ]
  },
  {
   "cell_type": "code",
   "execution_count": 11,
   "id": "128bf142",
   "metadata": {},
   "outputs": [
    {
     "ename": "KeyError",
     "evalue": "0",
     "output_type": "error",
     "traceback": [
      "\u001b[1;31m---------------------------------------------------------------------------\u001b[0m",
      "\u001b[1;31mKeyError\u001b[0m                                  Traceback (most recent call last)",
      "\u001b[1;32m~\\AppData\\Local\\Temp/ipykernel_16912/1089268471.py\u001b[0m in \u001b[0;36m<module>\u001b[1;34m\u001b[0m\n\u001b[1;32m----> 1\u001b[1;33m \u001b[0md\u001b[0m\u001b[1;33m[\u001b[0m\u001b[1;36m0\u001b[0m\u001b[1;33m]\u001b[0m\u001b[1;33m\u001b[0m\u001b[1;33m\u001b[0m\u001b[0m\n\u001b[0m",
      "\u001b[1;31mKeyError\u001b[0m: 0"
     ]
    }
   ],
   "source": [
    "d[0] # indexing doesn't work here."
   ]
  },
  {
   "cell_type": "markdown",
   "id": "31143cf5",
   "metadata": {},
   "source": [
    "### Accessing elements(values) in a dict"
   ]
  },
  {
   "cell_type": "code",
   "execution_count": 17,
   "id": "63dfc10b",
   "metadata": {},
   "outputs": [
    {
     "data": {
      "text/plain": [
       "{1: 'Shubha',\n",
       " 2: 'Mohanty',\n",
       " 'Profile': ['Data Engineer', 'Project Manager', 'COE Data'],\n",
       " 4: 'ByteIQ and Mindgraph'}"
      ]
     },
     "execution_count": 17,
     "metadata": {},
     "output_type": "execute_result"
    }
   ],
   "source": [
    "d"
   ]
  },
  {
   "cell_type": "code",
   "execution_count": 16,
   "id": "efc74737",
   "metadata": {},
   "outputs": [
    {
     "data": {
      "text/plain": [
       "dict_keys([1, 2, 'Profile', 4])"
      ]
     },
     "execution_count": 16,
     "metadata": {},
     "output_type": "execute_result"
    }
   ],
   "source": [
    "d.keys()"
   ]
  },
  {
   "cell_type": "code",
   "execution_count": 18,
   "id": "48bdec99",
   "metadata": {},
   "outputs": [
    {
     "data": {
      "text/plain": [
       "'Shubha'"
      ]
     },
     "execution_count": 18,
     "metadata": {},
     "output_type": "execute_result"
    }
   ],
   "source": [
    "d[1]"
   ]
  },
  {
   "cell_type": "code",
   "execution_count": 21,
   "id": "3e78c380",
   "metadata": {},
   "outputs": [
    {
     "data": {
      "text/plain": [
       "'Mohanty'"
      ]
     },
     "execution_count": 21,
     "metadata": {},
     "output_type": "execute_result"
    }
   ],
   "source": [
    "d[2]"
   ]
  },
  {
   "cell_type": "code",
   "execution_count": 20,
   "id": "ddcda2df",
   "metadata": {},
   "outputs": [
    {
     "data": {
      "text/plain": [
       "['Data Engineer', 'Project Manager', 'COE Data']"
      ]
     },
     "execution_count": 20,
     "metadata": {},
     "output_type": "execute_result"
    }
   ],
   "source": [
    "d['Profile']"
   ]
  },
  {
   "cell_type": "code",
   "execution_count": 19,
   "id": "071daec2",
   "metadata": {},
   "outputs": [
    {
     "data": {
      "text/plain": [
       "'ByteIQ and Mindgraph'"
      ]
     },
     "execution_count": 19,
     "metadata": {},
     "output_type": "execute_result"
    }
   ],
   "source": [
    "d[4]"
   ]
  },
  {
   "cell_type": "markdown",
   "id": "5373337f",
   "metadata": {},
   "source": [
    "### Dictionary inside a dictionary"
   ]
  },
  {
   "cell_type": "code",
   "execution_count": 22,
   "id": "74167d44",
   "metadata": {},
   "outputs": [],
   "source": [
    "d = {'Satya' : 'ByteIQ', 'Soumya': 'ByteIQ', 'Lalit': 'ByteIQ', 'Mindgraph' : {'HR' : 'Prajna', 'Inventory Guy' : 'Mallika Arjun'}}"
   ]
  },
  {
   "cell_type": "code",
   "execution_count": 23,
   "id": "3ab6f1ea",
   "metadata": {},
   "outputs": [
    {
     "data": {
      "text/plain": [
       "{'Satya': 'ByteIQ',\n",
       " 'Soumya': 'ByteIQ',\n",
       " 'Lalit': 'ByteIQ',\n",
       " 'Mindgraph': {'HR': 'Prajna', 'Inventory Guy': 'Mallika Arjun'}}"
      ]
     },
     "execution_count": 23,
     "metadata": {},
     "output_type": "execute_result"
    }
   ],
   "source": [
    "d"
   ]
  },
  {
   "cell_type": "code",
   "execution_count": 24,
   "id": "f1f1e8cb",
   "metadata": {},
   "outputs": [
    {
     "data": {
      "text/plain": [
       "dict_keys(['Satya', 'Soumya', 'Lalit', 'Mindgraph'])"
      ]
     },
     "execution_count": 24,
     "metadata": {},
     "output_type": "execute_result"
    }
   ],
   "source": [
    "d.keys()"
   ]
  },
  {
   "cell_type": "code",
   "execution_count": 25,
   "id": "c4a8de2b",
   "metadata": {},
   "outputs": [
    {
     "data": {
      "text/plain": [
       "dict_values(['ByteIQ', 'ByteIQ', 'ByteIQ', {'HR': 'Prajna', 'Inventory Guy': 'Mallika Arjun'}])"
      ]
     },
     "execution_count": 25,
     "metadata": {},
     "output_type": "execute_result"
    }
   ],
   "source": [
    "d.values()"
   ]
  },
  {
   "cell_type": "code",
   "execution_count": 26,
   "id": "ff6fca3f",
   "metadata": {},
   "outputs": [
    {
     "data": {
      "text/plain": [
       "{'HR': 'Prajna', 'Inventory Guy': 'Mallika Arjun'}"
      ]
     },
     "execution_count": 26,
     "metadata": {},
     "output_type": "execute_result"
    }
   ],
   "source": [
    "d['Mindgraph']"
   ]
  },
  {
   "cell_type": "code",
   "execution_count": 27,
   "id": "5d0adfa1",
   "metadata": {},
   "outputs": [
    {
     "data": {
      "text/plain": [
       "'Prajna'"
      ]
     },
     "execution_count": 27,
     "metadata": {},
     "output_type": "execute_result"
    }
   ],
   "source": [
    "d['Mindgraph']['HR']"
   ]
  },
  {
   "cell_type": "code",
   "execution_count": 30,
   "id": "ae4e64ce",
   "metadata": {},
   "outputs": [
    {
     "data": {
      "text/plain": [
       "'Mallika Arjun'"
      ]
     },
     "execution_count": 30,
     "metadata": {},
     "output_type": "execute_result"
    }
   ],
   "source": [
    "d['Mindgraph']['Inventory Guy']"
   ]
  },
  {
   "cell_type": "code",
   "execution_count": 31,
   "id": "3b2d362b",
   "metadata": {},
   "outputs": [
    {
     "data": {
      "text/plain": [
       "{'Satya': 'ByteIQ',\n",
       " 'Soumya': 'ByteIQ',\n",
       " 'Lalit': 'ByteIQ',\n",
       " 'Mindgraph': {'HR': 'Prajna', 'Inventory Guy': 'Mallika Arjun'}}"
      ]
     },
     "execution_count": 31,
     "metadata": {},
     "output_type": "execute_result"
    }
   ],
   "source": [
    "d"
   ]
  },
  {
   "cell_type": "markdown",
   "id": "fad0c6ed",
   "metadata": {},
   "source": [
    "### Adding a new key : value to the dictionary"
   ]
  },
  {
   "cell_type": "code",
   "execution_count": 32,
   "id": "a0800315",
   "metadata": {},
   "outputs": [],
   "source": [
    "d = {1 : 'one', 2 : 'two', 3 : 'three'}"
   ]
  },
  {
   "cell_type": "code",
   "execution_count": 33,
   "id": "a5616f0c",
   "metadata": {},
   "outputs": [
    {
     "data": {
      "text/plain": [
       "dict"
      ]
     },
     "execution_count": 33,
     "metadata": {},
     "output_type": "execute_result"
    }
   ],
   "source": [
    "type(d)"
   ]
  },
  {
   "cell_type": "code",
   "execution_count": 34,
   "id": "ad0bb986",
   "metadata": {},
   "outputs": [],
   "source": [
    "d[4] = 'four' # adding a key value to dictionary"
   ]
  },
  {
   "cell_type": "code",
   "execution_count": 35,
   "id": "c0c73e00",
   "metadata": {},
   "outputs": [
    {
     "data": {
      "text/plain": [
       "{1: 'one', 2: 'two', 3: 'three', 4: 'four'}"
      ]
     },
     "execution_count": 35,
     "metadata": {},
     "output_type": "execute_result"
    }
   ],
   "source": [
    "d"
   ]
  },
  {
   "cell_type": "code",
   "execution_count": 43,
   "id": "43863d88",
   "metadata": {},
   "outputs": [],
   "source": [
    "d['Satya 2'] = 'Unattentive'"
   ]
  },
  {
   "cell_type": "code",
   "execution_count": 37,
   "id": "711a14b5",
   "metadata": {},
   "outputs": [
    {
     "data": {
      "text/plain": [
       "{1: 'one', 2: 'two', 3: 'three', 4: 'four', 'Satya': 'Unattentive'}"
      ]
     },
     "execution_count": 37,
     "metadata": {},
     "output_type": "execute_result"
    }
   ],
   "source": [
    "d"
   ]
  },
  {
   "cell_type": "code",
   "execution_count": 44,
   "id": "44ba42c3",
   "metadata": {
    "scrolled": true
   },
   "outputs": [
    {
     "data": {
      "text/plain": [
       "'Unattentive'"
      ]
     },
     "execution_count": 44,
     "metadata": {},
     "output_type": "execute_result"
    }
   ],
   "source": [
    "d['Satya 2']"
   ]
  },
  {
   "cell_type": "markdown",
   "id": "00f52f6a",
   "metadata": {},
   "source": [
    "### Updating the value for a key"
   ]
  },
  {
   "cell_type": "code",
   "execution_count": 45,
   "id": "8ac13ccc",
   "metadata": {},
   "outputs": [],
   "source": [
    "d[4] = 'Satya 2'"
   ]
  },
  {
   "cell_type": "code",
   "execution_count": 46,
   "id": "73b8c505",
   "metadata": {},
   "outputs": [
    {
     "data": {
      "text/plain": [
       "{1: 'one',\n",
       " 2: 'two',\n",
       " 3: 'three',\n",
       " 4: 'Satya 2',\n",
       " 'Satya': 'Unattentive',\n",
       " 'Gone Case': 'Satya 2',\n",
       " 'Satya 2': 'Unattentive'}"
      ]
     },
     "execution_count": 46,
     "metadata": {},
     "output_type": "execute_result"
    }
   ],
   "source": [
    "d"
   ]
  },
  {
   "cell_type": "code",
   "execution_count": 47,
   "id": "4532d718",
   "metadata": {},
   "outputs": [],
   "source": [
    "d['Gone Case'] = 'Satya 2' # If nothing is there to edit, it will add the key as a new key along with the value."
   ]
  },
  {
   "cell_type": "code",
   "execution_count": 49,
   "id": "9f9f1a91",
   "metadata": {},
   "outputs": [
    {
     "data": {
      "text/plain": [
       "{1: 'one',\n",
       " 2: 'two',\n",
       " 3: 'three',\n",
       " 4: 'Satya 2',\n",
       " 'Gone Case': 'Satya 2',\n",
       " 'Satya 2': 'Unattentive'}"
      ]
     },
     "execution_count": 49,
     "metadata": {},
     "output_type": "execute_result"
    }
   ],
   "source": [
    "d"
   ]
  },
  {
   "cell_type": "code",
   "execution_count": 50,
   "id": "bb833141",
   "metadata": {},
   "outputs": [
    {
     "data": {
      "text/plain": [
       "dict_keys([1, 2, 3, 4, 'Gone Case', 'Satya 2'])"
      ]
     },
     "execution_count": 50,
     "metadata": {},
     "output_type": "execute_result"
    }
   ],
   "source": [
    "d.keys() # will display keys"
   ]
  },
  {
   "cell_type": "code",
   "execution_count": 51,
   "id": "631347ea",
   "metadata": {},
   "outputs": [
    {
     "data": {
      "text/plain": [
       "dict_values(['one', 'two', 'three', 'Satya 2', 'Satya 2', 'Unattentive'])"
      ]
     },
     "execution_count": 51,
     "metadata": {},
     "output_type": "execute_result"
    }
   ],
   "source": [
    "d.values() # will display values"
   ]
  },
  {
   "cell_type": "code",
   "execution_count": 52,
   "id": "23af872a",
   "metadata": {},
   "outputs": [
    {
     "data": {
      "text/plain": [
       "dict_items([(1, 'one'), (2, 'two'), (3, 'three'), (4, 'Satya 2'), ('Gone Case', 'Satya 2'), ('Satya 2', 'Unattentive')])"
      ]
     },
     "execution_count": 52,
     "metadata": {},
     "output_type": "execute_result"
    }
   ],
   "source": [
    "d.items() # will display key-value pair inside a list in the form of tuple."
   ]
  }
 ],
 "metadata": {
  "kernelspec": {
   "display_name": "Python 3 (ipykernel)",
   "language": "python",
   "name": "python3"
  },
  "language_info": {
   "codemirror_mode": {
    "name": "ipython",
    "version": 3
   },
   "file_extension": ".py",
   "mimetype": "text/x-python",
   "name": "python",
   "nbconvert_exporter": "python",
   "pygments_lexer": "ipython3",
   "version": "3.9.7"
  }
 },
 "nbformat": 4,
 "nbformat_minor": 5
}
