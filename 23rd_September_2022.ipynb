{
 "cells": [
  {
   "cell_type": "markdown",
   "id": "d5cbf1dc",
   "metadata": {},
   "source": [
    "# Dictionary - Extensive use"
   ]
  },
  {
   "cell_type": "code",
   "execution_count": 11,
   "id": "7e753c4d",
   "metadata": {},
   "outputs": [],
   "source": [
    "d = {'ByteIQ':{'Shubha': {'Emp ID':'E007', 'Profile':'Data Engineering'}, 'Satya':{'Emp ID':'E009', 'Profile':'Data Engineering'}},\n",
    "    'Mindgraph':{'Chaitanya' : {'Emp ID':'MG180298', 'Profile':'Data Engineering'}, 'Saiteja': {'Emp ID':'MG180299', 'Profile':'Data Engineering'}}}"
   ]
  },
  {
   "cell_type": "markdown",
   "id": "54caee7b",
   "metadata": {},
   "source": [
    "### Breakdown Type-1"
   ]
  },
  {
   "cell_type": "code",
   "execution_count": 10,
   "id": "7ba82fd5",
   "metadata": {
    "scrolled": true
   },
   "outputs": [
    {
     "data": {
      "text/plain": [
       "{'ByteIQ': {'Shubha': {'Emp ID': 'E007', 'Profile': 'Data Engineering'},\n",
       "  'Satya': {'Emp ID': 'E009', 'Profile': 'Data Engineering'}},\n",
       " 'Mindgraph': {'Chaitanya': {'Emp ID': 'MG180298',\n",
       "   'Profile': 'Data Engineering'},\n",
       "  'Saiteja': {'Emp ID': 'MG180299', 'Profile': 'Data Engineering'}}}"
      ]
     },
     "execution_count": 10,
     "metadata": {},
     "output_type": "execute_result"
    }
   ],
   "source": [
    "{'ByteIQ':\n",
    " {'Shubha': {'Emp ID':'E007', 'Profile':'Data Engineering'}, \n",
    "  'Satya':{'Emp ID':'E009', 'Profile':'Data Engineering'}\n",
    " },\n",
    " 'Mindgraph':\n",
    " {'Chaitanya' : {'Emp ID':'MG180298', 'Profile':'Data Engineering'}, \n",
    "  'Saiteja': {'Emp ID':'MG180299', 'Profile':'Data Engineering'}\n",
    " }\n",
    "}"
   ]
  },
  {
   "cell_type": "markdown",
   "id": "7228f614",
   "metadata": {},
   "source": [
    "### Breakdown Type-2"
   ]
  },
  {
   "cell_type": "code",
   "execution_count": 20,
   "id": "a615b2ca",
   "metadata": {},
   "outputs": [
    {
     "data": {
      "text/plain": [
       "{'ByteIQ': {'Shubha': {'Emp ID': 'E007', 'Profile': 'Data Engineering'},\n",
       "  'Satya': {'Emp ID': 'E009', 'Profile': 'Data Engineering'}},\n",
       " 'Mindgraph': {'Chaitanya': {'Emp ID': 'MG180298',\n",
       "   'Profile': 'Data Engineering'},\n",
       "  'Saiteja': {'Emp ID': 'MG180299', 'Profile': 'Data Engineering'}}}"
      ]
     },
     "execution_count": 20,
     "metadata": {},
     "output_type": "execute_result"
    }
   ],
   "source": [
    "{'ByteIQ':\n",
    " {'Shubha': \n",
    "  {'Emp ID':'E007', 'Profile':'Data Engineering'}, \n",
    "  'Satya':\n",
    "  {'Emp ID':'E009', 'Profile':'Data Engineering'}\n",
    " },\n",
    " 'Mindgraph':\n",
    " {'Chaitanya' : \n",
    "  {'Emp ID':'MG180298', 'Profile':'Data Engineering'}, \n",
    "  'Saiteja': \n",
    "  {'Emp ID':'MG180299', 'Profile':'Data Engineering'}\n",
    " }\n",
    "}"
   ]
  },
  {
   "cell_type": "markdown",
   "id": "0d3a047c",
   "metadata": {},
   "source": [
    "### Display for Shubha"
   ]
  },
  {
   "cell_type": "code",
   "execution_count": 16,
   "id": "55add8c4",
   "metadata": {},
   "outputs": [
    {
     "data": {
      "text/plain": [
       "{'Shubha': {'Emp ID': 'E007', 'Profile': 'Data Engineering'},\n",
       " 'Satya': {'Emp ID': 'E009', 'Profile': 'Data Engineering'}}"
      ]
     },
     "execution_count": 16,
     "metadata": {},
     "output_type": "execute_result"
    }
   ],
   "source": [
    "d['ByteIQ']"
   ]
  },
  {
   "cell_type": "code",
   "execution_count": 17,
   "id": "ae64e073",
   "metadata": {},
   "outputs": [
    {
     "data": {
      "text/plain": [
       "{'Emp ID': 'E007', 'Profile': 'Data Engineering'}"
      ]
     },
     "execution_count": 17,
     "metadata": {},
     "output_type": "execute_result"
    }
   ],
   "source": [
    "d['ByteIQ']['Shubha']"
   ]
  },
  {
   "cell_type": "code",
   "execution_count": 18,
   "id": "2e96592b",
   "metadata": {},
   "outputs": [
    {
     "data": {
      "text/plain": [
       "'E007'"
      ]
     },
     "execution_count": 18,
     "metadata": {},
     "output_type": "execute_result"
    }
   ],
   "source": [
    "d['ByteIQ']['Shubha']['Emp ID']"
   ]
  },
  {
   "cell_type": "code",
   "execution_count": 19,
   "id": "efcfe998",
   "metadata": {},
   "outputs": [
    {
     "data": {
      "text/plain": [
       "'Data Engineering'"
      ]
     },
     "execution_count": 19,
     "metadata": {},
     "output_type": "execute_result"
    }
   ],
   "source": [
    "d['ByteIQ']['Shubha']['Profile']"
   ]
  },
  {
   "cell_type": "markdown",
   "id": "d378a9a1",
   "metadata": {},
   "source": [
    "### Tasks\n",
    "\n",
    "1. Display the Details of ByteIQ\n",
    "2. Display the Details of Mindgraph\n",
    "3. Display the Details of Employees of ByteIQ(Shubha, Satya) - Profile and Emp ID\n",
    "4. Display the Details of Employees of Mindgraph(Saiteja, Chaitanya) - Profile and Emp ID"
   ]
  },
  {
   "cell_type": "markdown",
   "id": "b6a69c9d",
   "metadata": {},
   "source": [
    "### Task - 1"
   ]
  },
  {
   "cell_type": "code",
   "execution_count": 21,
   "id": "e503f28c",
   "metadata": {},
   "outputs": [
    {
     "name": "stdout",
     "output_type": "stream",
     "text": [
      "The Details of ByteIQ Employees are \n",
      "{'Shubha': {'Emp ID': 'E007', 'Profile': 'Data Engineering'}, 'Satya': {'Emp ID': 'E009', 'Profile': 'Data Engineering'}}\n"
     ]
    }
   ],
   "source": [
    "print('The Details of ByteIQ Employees are \\n{}'.format(d['ByteIQ']))"
   ]
  },
  {
   "cell_type": "markdown",
   "id": "561ba415",
   "metadata": {},
   "source": [
    "### Task - 2"
   ]
  },
  {
   "cell_type": "code",
   "execution_count": 22,
   "id": "cbd2dc58",
   "metadata": {},
   "outputs": [
    {
     "name": "stdout",
     "output_type": "stream",
     "text": [
      "The Details of Mindgraph Employees are \n",
      "{'Chaitanya': {'Emp ID': 'MG180298', 'Profile': 'Data Engineering'}, 'Saiteja': {'Emp ID': 'MG180299', 'Profile': 'Data Engineering'}}\n"
     ]
    }
   ],
   "source": [
    "print('The Details of Mindgraph Employees are \\n{}'.format(d['Mindgraph']))"
   ]
  },
  {
   "cell_type": "markdown",
   "id": "c2d6ccd1",
   "metadata": {},
   "source": [
    "### Task -3 \n",
    "\n",
    "* Display the Details of Employees of ByteIQ(Shubha, Satya) - Profile and Emp ID"
   ]
  },
  {
   "cell_type": "markdown",
   "id": "b6cb1fc0",
   "metadata": {},
   "source": [
    "### Details of Shubha"
   ]
  },
  {
   "cell_type": "code",
   "execution_count": 23,
   "id": "aa234439",
   "metadata": {},
   "outputs": [
    {
     "name": "stdout",
     "output_type": "stream",
     "text": [
      "The Details of Shubha\n",
      "{'Emp ID': 'E007', 'Profile': 'Data Engineering'}\n"
     ]
    }
   ],
   "source": [
    "print('The Details of Shubha\\n{}'.format(d['ByteIQ']['Shubha']))"
   ]
  },
  {
   "cell_type": "code",
   "execution_count": 26,
   "id": "8abe1df5",
   "metadata": {},
   "outputs": [
    {
     "name": "stdout",
     "output_type": "stream",
     "text": [
      "Employee ID of Shubha\n",
      "E007\n"
     ]
    }
   ],
   "source": [
    "print('Employee ID of Shubha is \\n{}'.format(d['ByteIQ']['Shubha']['Emp ID']))"
   ]
  },
  {
   "cell_type": "code",
   "execution_count": 27,
   "id": "c7589430",
   "metadata": {},
   "outputs": [
    {
     "name": "stdout",
     "output_type": "stream",
     "text": [
      "Profile of Shubha\n",
      "Data Engineering\n"
     ]
    }
   ],
   "source": [
    "print('Profile of Shubha\\n{}'.format(d['ByteIQ']['Shubha']['Profile']))"
   ]
  },
  {
   "cell_type": "markdown",
   "id": "6a8142f6",
   "metadata": {},
   "source": [
    "### Details of Satya"
   ]
  },
  {
   "cell_type": "code",
   "execution_count": 25,
   "id": "51191129",
   "metadata": {},
   "outputs": [
    {
     "name": "stdout",
     "output_type": "stream",
     "text": [
      "The Details of Satya\n",
      "{'Emp ID': 'E009', 'Profile': 'Data Engineering'}\n"
     ]
    }
   ],
   "source": [
    "print('The Details of Satya\\n{}'.format(d['ByteIQ']['Satya']))"
   ]
  },
  {
   "cell_type": "code",
   "execution_count": 28,
   "id": "7b0f1053",
   "metadata": {},
   "outputs": [
    {
     "name": "stdout",
     "output_type": "stream",
     "text": [
      "Employee ID of Satya is \n",
      "E009\n"
     ]
    }
   ],
   "source": [
    "print('Employee ID of Satya is \\n{}'.format(d['ByteIQ']['Satya']['Emp ID']))"
   ]
  },
  {
   "cell_type": "code",
   "execution_count": 31,
   "id": "ee22e091",
   "metadata": {},
   "outputs": [
    {
     "name": "stdout",
     "output_type": "stream",
     "text": [
      "Profile of Satya\n",
      "Data Engineering\n"
     ]
    }
   ],
   "source": [
    "print('Profile of Satya\\n{}'.format(d['ByteIQ']['Satya']['Profile']))"
   ]
  },
  {
   "cell_type": "markdown",
   "id": "0b967a7f",
   "metadata": {},
   "source": [
    "### Task - 4 - Display the Details of Employees of Mindgraph(Saiteja, Chaitanya) - Profile and Emp ID"
   ]
  },
  {
   "cell_type": "markdown",
   "id": "fdf72d28",
   "metadata": {},
   "source": [
    "### Details of Chaitanya"
   ]
  },
  {
   "cell_type": "code",
   "execution_count": 32,
   "id": "499c4b6a",
   "metadata": {},
   "outputs": [
    {
     "name": "stdout",
     "output_type": "stream",
     "text": [
      "The Details of Chaitanya\n",
      "{'Emp ID': 'MG180298', 'Profile': 'Data Engineering'}\n"
     ]
    }
   ],
   "source": [
    "print('The Details of Chaitanya\\n{}'.format(d['Mindgraph']['Chaitanya']))"
   ]
  },
  {
   "cell_type": "code",
   "execution_count": 33,
   "id": "dc4b4f69",
   "metadata": {},
   "outputs": [
    {
     "name": "stdout",
     "output_type": "stream",
     "text": [
      "Employee ID of Chaitanya is \n",
      "MG180298\n"
     ]
    }
   ],
   "source": [
    "print('Employee ID of Chaitanya is \\n{}'.format(d['Mindgraph']['Chaitanya']['Emp ID']))"
   ]
  },
  {
   "cell_type": "code",
   "execution_count": 34,
   "id": "9487003d",
   "metadata": {},
   "outputs": [
    {
     "name": "stdout",
     "output_type": "stream",
     "text": [
      "Profile of Chaitanya\n",
      "Data Engineering\n"
     ]
    }
   ],
   "source": [
    "print('Profile of Chaitanya\\n{}'.format(d['Mindgraph']['Chaitanya']['Profile']))"
   ]
  },
  {
   "cell_type": "markdown",
   "id": "5181a096",
   "metadata": {},
   "source": [
    "### Details of Saiteja"
   ]
  },
  {
   "cell_type": "code",
   "execution_count": 38,
   "id": "091a7133",
   "metadata": {},
   "outputs": [
    {
     "name": "stdout",
     "output_type": "stream",
     "text": [
      "The Details of Saiteja\n",
      "{'Emp ID': 'MG180299', 'Profile': 'Data Engineering'}\n"
     ]
    }
   ],
   "source": [
    "print('The Details of Saiteja\\n{}'.format(d['Mindgraph']['Saiteja']))"
   ]
  },
  {
   "cell_type": "code",
   "execution_count": 36,
   "id": "6a1b773b",
   "metadata": {},
   "outputs": [
    {
     "name": "stdout",
     "output_type": "stream",
     "text": [
      "Employee ID of Saiteja is \n",
      "MG180299\n"
     ]
    }
   ],
   "source": [
    "print('Employee ID of Saiteja is \\n{}'.format(d['Mindgraph']['Saiteja']['Emp ID']))"
   ]
  },
  {
   "cell_type": "code",
   "execution_count": 37,
   "id": "91881960",
   "metadata": {},
   "outputs": [
    {
     "name": "stdout",
     "output_type": "stream",
     "text": [
      "Profile of Saiteja\n",
      "Data Engineering\n"
     ]
    }
   ],
   "source": [
    "print('Profile of Saiteja\\n{}'.format(d['Mindgraph']['Saiteja']['Profile']))"
   ]
  },
  {
   "cell_type": "code",
   "execution_count": 44,
   "id": "d538ff07",
   "metadata": {},
   "outputs": [
    {
     "data": {
      "text/plain": [
       "{'ByteIQ': {'Shubha': {'Emp ID': 'E007', 'Profile': 'Data Engineering'},\n",
       "  'Satya': {'Emp ID': 'E009', 'Profile': 'Data Engineering'}},\n",
       " 'Mindgraph': {'Chaitanya': {'Emp ID': 'MG180298',\n",
       "   'Profile': 'Data Engineering'},\n",
       "  'Saiteja': {'Emp ID': 'MG180299', 'Profile': 'Data Engineering'}}}"
      ]
     },
     "execution_count": 44,
     "metadata": {},
     "output_type": "execute_result"
    }
   ],
   "source": [
    "d"
   ]
  },
  {
   "cell_type": "markdown",
   "id": "eafa3db6",
   "metadata": {},
   "source": [
    "### Keys"
   ]
  },
  {
   "cell_type": "code",
   "execution_count": 39,
   "id": "061b1fe3",
   "metadata": {},
   "outputs": [
    {
     "data": {
      "text/plain": [
       "dict_keys(['ByteIQ', 'Mindgraph'])"
      ]
     },
     "execution_count": 39,
     "metadata": {},
     "output_type": "execute_result"
    }
   ],
   "source": [
    "d.keys()"
   ]
  },
  {
   "cell_type": "code",
   "execution_count": 40,
   "id": "0a2fb57a",
   "metadata": {},
   "outputs": [
    {
     "data": {
      "text/plain": [
       "dict_keys(['Shubha', 'Satya'])"
      ]
     },
     "execution_count": 40,
     "metadata": {},
     "output_type": "execute_result"
    }
   ],
   "source": [
    "d['ByteIQ'].keys()"
   ]
  },
  {
   "cell_type": "code",
   "execution_count": 42,
   "id": "4eae86d6",
   "metadata": {
    "scrolled": true
   },
   "outputs": [
    {
     "data": {
      "text/plain": [
       "dict_keys(['Emp ID', 'Profile'])"
      ]
     },
     "execution_count": 42,
     "metadata": {},
     "output_type": "execute_result"
    }
   ],
   "source": [
    "d['ByteIQ']['Shubha'].keys()"
   ]
  },
  {
   "cell_type": "markdown",
   "id": "f7976b45",
   "metadata": {},
   "source": [
    "### Values"
   ]
  },
  {
   "cell_type": "code",
   "execution_count": 45,
   "id": "5cd0666a",
   "metadata": {},
   "outputs": [
    {
     "data": {
      "text/plain": [
       "dict_values([{'Shubha': {'Emp ID': 'E007', 'Profile': 'Data Engineering'}, 'Satya': {'Emp ID': 'E009', 'Profile': 'Data Engineering'}}, {'Chaitanya': {'Emp ID': 'MG180298', 'Profile': 'Data Engineering'}, 'Saiteja': {'Emp ID': 'MG180299', 'Profile': 'Data Engineering'}}])"
      ]
     },
     "execution_count": 45,
     "metadata": {},
     "output_type": "execute_result"
    }
   ],
   "source": [
    "d.values()"
   ]
  },
  {
   "cell_type": "code",
   "execution_count": 46,
   "id": "2c9a4db0",
   "metadata": {},
   "outputs": [
    {
     "data": {
      "text/plain": [
       "dict_values([{'Emp ID': 'E007', 'Profile': 'Data Engineering'}, {'Emp ID': 'E009', 'Profile': 'Data Engineering'}])"
      ]
     },
     "execution_count": 46,
     "metadata": {},
     "output_type": "execute_result"
    }
   ],
   "source": [
    "d['ByteIQ'].values()"
   ]
  },
  {
   "cell_type": "code",
   "execution_count": 48,
   "id": "e930b3ea",
   "metadata": {},
   "outputs": [
    {
     "data": {
      "text/plain": [
       "dict_values(['E007', 'Data Engineering'])"
      ]
     },
     "execution_count": 48,
     "metadata": {},
     "output_type": "execute_result"
    }
   ],
   "source": [
    "d['ByteIQ']['Shubha'].values()"
   ]
  },
  {
   "cell_type": "markdown",
   "id": "88b5c54a",
   "metadata": {},
   "source": [
    "### Items"
   ]
  },
  {
   "cell_type": "code",
   "execution_count": 50,
   "id": "092d4363",
   "metadata": {},
   "outputs": [
    {
     "data": {
      "text/plain": [
       "dict_items([('ByteIQ', {'Shubha': {'Emp ID': 'E007', 'Profile': 'Data Engineering'}, 'Satya': {'Emp ID': 'E009', 'Profile': 'Data Engineering'}}), ('Mindgraph', {'Chaitanya': {'Emp ID': 'MG180298', 'Profile': 'Data Engineering'}, 'Saiteja': {'Emp ID': 'MG180299', 'Profile': 'Data Engineering'}})])"
      ]
     },
     "execution_count": 50,
     "metadata": {},
     "output_type": "execute_result"
    }
   ],
   "source": [
    "d.items()"
   ]
  },
  {
   "cell_type": "code",
   "execution_count": 51,
   "id": "e54ce60a",
   "metadata": {},
   "outputs": [
    {
     "data": {
      "text/plain": [
       "dict_items([('Shubha', {'Emp ID': 'E007', 'Profile': 'Data Engineering'}), ('Satya', {'Emp ID': 'E009', 'Profile': 'Data Engineering'})])"
      ]
     },
     "execution_count": 51,
     "metadata": {},
     "output_type": "execute_result"
    }
   ],
   "source": [
    "d['ByteIQ'].items()"
   ]
  },
  {
   "cell_type": "code",
   "execution_count": 52,
   "id": "83a047a6",
   "metadata": {},
   "outputs": [
    {
     "data": {
      "text/plain": [
       "dict_items([('Emp ID', 'E007'), ('Profile', 'Data Engineering')])"
      ]
     },
     "execution_count": 52,
     "metadata": {},
     "output_type": "execute_result"
    }
   ],
   "source": [
    "d['ByteIQ']['Shubha'].items()"
   ]
  },
  {
   "cell_type": "code",
   "execution_count": 53,
   "id": "4134a552",
   "metadata": {},
   "outputs": [
    {
     "ename": "AttributeError",
     "evalue": "'str' object has no attribute 'items'",
     "output_type": "error",
     "traceback": [
      "\u001b[1;31m---------------------------------------------------------------------------\u001b[0m",
      "\u001b[1;31mAttributeError\u001b[0m                            Traceback (most recent call last)",
      "\u001b[1;32m~\\AppData\\Local\\Temp/ipykernel_45576/2780432808.py\u001b[0m in \u001b[0;36m<module>\u001b[1;34m\u001b[0m\n\u001b[1;32m----> 1\u001b[1;33m \u001b[0md\u001b[0m\u001b[1;33m[\u001b[0m\u001b[1;34m'ByteIQ'\u001b[0m\u001b[1;33m]\u001b[0m\u001b[1;33m[\u001b[0m\u001b[1;34m'Shubha'\u001b[0m\u001b[1;33m]\u001b[0m\u001b[1;33m[\u001b[0m\u001b[1;34m'Emp ID'\u001b[0m\u001b[1;33m]\u001b[0m\u001b[1;33m.\u001b[0m\u001b[0mitems\u001b[0m\u001b[1;33m(\u001b[0m\u001b[1;33m)\u001b[0m\u001b[1;33m\u001b[0m\u001b[1;33m\u001b[0m\u001b[0m\n\u001b[0m",
      "\u001b[1;31mAttributeError\u001b[0m: 'str' object has no attribute 'items'"
     ]
    }
   ],
   "source": [
    "d['ByteIQ']['Shubha']['Emp ID'].items() # cannot go beyond 'Emp ID' of 'Shubha'"
   ]
  },
  {
   "cell_type": "markdown",
   "id": "ca2a27e7",
   "metadata": {},
   "source": [
    "# for loop continued\n",
    "\n",
    "### and Operator"
   ]
  },
  {
   "cell_type": "code",
   "execution_count": 54,
   "id": "9d13c63c",
   "metadata": {},
   "outputs": [],
   "source": [
    "l= ['Shubha', [1, 2, 3, 4, 5], (2, 3, 4, 5, 6), 56, 67, 6+7j, True, 45.67, 'Mindgraph']"
   ]
  },
  {
   "cell_type": "code",
   "execution_count": 55,
   "id": "f0ac2a85",
   "metadata": {},
   "outputs": [
    {
     "data": {
      "text/plain": [
       "9"
      ]
     },
     "execution_count": 55,
     "metadata": {},
     "output_type": "execute_result"
    }
   ],
   "source": [
    "len(l)"
   ]
  },
  {
   "cell_type": "code",
   "execution_count": 56,
   "id": "d0a7bb1d",
   "metadata": {},
   "outputs": [
    {
     "data": {
      "text/plain": [
       "range(0, 9)"
      ]
     },
     "execution_count": 56,
     "metadata": {},
     "output_type": "execute_result"
    }
   ],
   "source": [
    "range(len(l))"
   ]
  },
  {
   "cell_type": "markdown",
   "id": "eb6ceaf4",
   "metadata": {},
   "source": [
    "* In case of 'or' if one condition satisfies - condition is true - inner block will be executed.\n",
    "* In case of 'and' if one confition does not satify - condition is false - inner block will not be executed."
   ]
  },
  {
   "cell_type": "code",
   "execution_count": 57,
   "id": "a683a408",
   "metadata": {},
   "outputs": [
    {
     "data": {
      "text/plain": [
       "['Shubha',\n",
       " [1, 2, 3, 4, 5],\n",
       " (2, 3, 4, 5, 6),\n",
       " 56,\n",
       " 67,\n",
       " (6+7j),\n",
       " True,\n",
       " 45.67,\n",
       " 'Mindgraph']"
      ]
     },
     "execution_count": 57,
     "metadata": {},
     "output_type": "execute_result"
    }
   ],
   "source": [
    "l"
   ]
  },
  {
   "cell_type": "code",
   "execution_count": 61,
   "id": "4ad8746b",
   "metadata": {},
   "outputs": [
    {
     "name": "stdout",
     "output_type": "stream",
     "text": [
      "Iteration Number 1 for Shubha from False Block\n",
      "Iteration Number 2 for [1, 2, 3, 4, 5] from False Block\n",
      "Iteration Number 3 for (2, 3, 4, 5, 6) from False Block\n",
      "Iteration Number 4 for 56 from False Block\n",
      "Iteration Number 5 for 67 from False Block\n",
      "Iteration Number 6 for (6+7j) from False Block\n",
      "Iteration Number 7 for True from False Block\n",
      "Iteration Number 8 for 45.67 from False Block\n",
      "Iteration Number 9 for Mindgraph from False Block\n"
     ]
    }
   ],
   "source": [
    "c = 1\n",
    "for i in l:\n",
    "    if type(i) == list and type(i) == tuple and type(i) == str:\n",
    "        print(i)\n",
    "        print(\"Iteration Number {} for {}\".format(c, i))\n",
    "        c += 1\n",
    "    else:\n",
    "#         print(i)\n",
    "        print(\"Iteration Number {} for {} from False Block\".format(c, i))\n",
    "        c += 1"
   ]
  },
  {
   "cell_type": "code",
   "execution_count": 62,
   "id": "1da83a26",
   "metadata": {
    "scrolled": true
   },
   "outputs": [
    {
     "name": "stdout",
     "output_type": "stream",
     "text": [
      "this is not possible\n",
      "this is not possible\n",
      "this is not possible\n",
      "this is not possible\n",
      "this is not possible\n",
      "this is not possible\n",
      "this is not possible\n",
      "this is not possible\n",
      "this is not possible\n"
     ]
    }
   ],
   "source": [
    "for i in l:\n",
    "    if type(i) == list and type(i) == tuple and type(i) == str:\n",
    "        print(i)\n",
    "    else:\n",
    "        print('this is not possible')"
   ]
  },
  {
   "cell_type": "code",
   "execution_count": 63,
   "id": "4202d277",
   "metadata": {},
   "outputs": [
    {
     "data": {
      "text/plain": [
       "['Shubha',\n",
       " [1, 2, 3, 4, 5],\n",
       " (2, 3, 4, 5, 6),\n",
       " 56,\n",
       " 67,\n",
       " (6+7j),\n",
       " True,\n",
       " 45.67,\n",
       " 'Mindgraph']"
      ]
     },
     "execution_count": 63,
     "metadata": {},
     "output_type": "execute_result"
    }
   ],
   "source": [
    "l"
   ]
  },
  {
   "cell_type": "code",
   "execution_count": 64,
   "id": "eb314c1c",
   "metadata": {
    "scrolled": true
   },
   "outputs": [
    {
     "name": "stdout",
     "output_type": "stream",
     "text": [
      "Iteration Number 1 for Shubha from True Block\n",
      "Iteration Number 2 for [1, 2, 3, 4, 5] from True Block\n",
      "Iteration Number 3 for (2, 3, 4, 5, 6) from True Block\n",
      "Iteration Number 4 for 56 from False Block\n",
      "Iteration Number 5 for 67 from False Block\n",
      "Iteration Number 6 for (6+7j) from False Block\n",
      "Iteration Number 7 for True from False Block\n",
      "Iteration Number 8 for 45.67 from False Block\n",
      "Iteration Number 9 for Mindgraph from True Block\n"
     ]
    }
   ],
   "source": [
    "c = 1\n",
    "for i in l:\n",
    "    if type(i) == list or type(i) == tuple or type(i) == str:\n",
    "#         print(i)\n",
    "        print(\"Iteration Number {} for {} from True Block\".format(c, i))\n",
    "        c += 1\n",
    "    else:\n",
    "#         print(i)\n",
    "        print(\"Iteration Number {} for {} from False Block\".format(c, i))\n",
    "        c += 1"
   ]
  },
  {
   "cell_type": "code",
   "execution_count": 65,
   "id": "7320e501",
   "metadata": {},
   "outputs": [
    {
     "data": {
      "text/plain": [
       "['Shubha',\n",
       " [1, 2, 3, 4, 5],\n",
       " (2, 3, 4, 5, 6),\n",
       " 56,\n",
       " 67,\n",
       " (6+7j),\n",
       " True,\n",
       " 45.67,\n",
       " 'Mindgraph']"
      ]
     },
     "execution_count": 65,
     "metadata": {},
     "output_type": "execute_result"
    }
   ],
   "source": [
    "l"
   ]
  },
  {
   "cell_type": "code",
   "execution_count": 66,
   "id": "9151757e",
   "metadata": {
    "scrolled": true
   },
   "outputs": [
    {
     "name": "stdout",
     "output_type": "stream",
     "text": [
      "Iteration Number 1 for Shubha from False Block\n",
      "Iteration Number 2 for [1, 2, 3, 4, 5] from True Block\n",
      "Iteration Number 3 for (2, 3, 4, 5, 6) from False Block\n",
      "Iteration Number 4 for 56 from False Block\n",
      "Iteration Number 5 for 67 from False Block\n",
      "Iteration Number 6 for (6+7j) from False Block\n",
      "Iteration Number 7 for True from False Block\n",
      "Iteration Number 8 for 45.67 from False Block\n",
      "Iteration Number 9 for Mindgraph from False Block\n"
     ]
    }
   ],
   "source": [
    "c = 1\n",
    "for i in l:\n",
    "    if type(i) == list or type(i) == tuple and type(i) == str:\n",
    "#         print(i)\n",
    "        print(\"Iteration Number {} for {} from True Block\".format(c, i))\n",
    "        c += 1\n",
    "    else:\n",
    "#         print(i)\n",
    "        print(\"Iteration Number {} for {} from False Block\".format(c, i))\n",
    "        c += 1"
   ]
  },
  {
   "cell_type": "code",
   "execution_count": 68,
   "id": "1812aed5",
   "metadata": {},
   "outputs": [
    {
     "data": {
      "text/plain": [
       "['Shubha',\n",
       " [1, 2, 3, 4, 5],\n",
       " (2, 3, 4, 5, 6),\n",
       " 56,\n",
       " 67,\n",
       " (6+7j),\n",
       " True,\n",
       " 45.67,\n",
       " 'Mindgraph']"
      ]
     },
     "execution_count": 68,
     "metadata": {},
     "output_type": "execute_result"
    }
   ],
   "source": [
    "l"
   ]
  },
  {
   "cell_type": "code",
   "execution_count": 67,
   "id": "69753df6",
   "metadata": {
    "scrolled": true
   },
   "outputs": [
    {
     "name": "stdout",
     "output_type": "stream",
     "text": [
      "Iteration Number 1 for Shubha from True Block\n",
      "Iteration Number 2 for [1, 2, 3, 4, 5] from False Block\n",
      "Iteration Number 3 for (2, 3, 4, 5, 6) from False Block\n",
      "Iteration Number 4 for 56 from False Block\n",
      "Iteration Number 5 for 67 from False Block\n",
      "Iteration Number 6 for (6+7j) from False Block\n",
      "Iteration Number 7 for True from False Block\n",
      "Iteration Number 8 for 45.67 from False Block\n",
      "Iteration Number 9 for Mindgraph from True Block\n"
     ]
    }
   ],
   "source": [
    "c = 1\n",
    "for i in l:\n",
    "    if type(i) == list and type(i) == tuple or type(i) == str:\n",
    "#         print(i)\n",
    "        print(\"Iteration Number {} for {} from True Block\".format(c, i))\n",
    "        c += 1\n",
    "    else:\n",
    "#         print(i)\n",
    "        print(\"Iteration Number {} for {} from False Block\".format(c, i))\n",
    "        c += 1"
   ]
  },
  {
   "cell_type": "code",
   "execution_count": 69,
   "id": "0c8a5ad5",
   "metadata": {},
   "outputs": [
    {
     "data": {
      "text/plain": [
       "['Shubha',\n",
       " [1, 2, 3, 4, 5],\n",
       " (2, 3, 4, 5, 6),\n",
       " 56,\n",
       " 67,\n",
       " (6+7j),\n",
       " True,\n",
       " 45.67,\n",
       " 'Mindgraph']"
      ]
     },
     "execution_count": 69,
     "metadata": {},
     "output_type": "execute_result"
    }
   ],
   "source": [
    "l"
   ]
  },
  {
   "cell_type": "code",
   "execution_count": 70,
   "id": "a2e9aaed",
   "metadata": {},
   "outputs": [
    {
     "name": "stdout",
     "output_type": "stream",
     "text": [
      "Iteration Number 1 for Shubha from True Block\n",
      "Iteration Number 2 for [1, 2, 3, 4, 5] from False Block\n",
      "Iteration Number 3 for (2, 3, 4, 5, 6) from False Block\n",
      "Iteration Number 4 for 56 from False Block\n",
      "Iteration Number 5 for 67 from False Block\n",
      "Iteration Number 6 for (6+7j) from False Block\n",
      "Iteration Number 7 for True from False Block\n",
      "Iteration Number 8 for 45.67 from False Block\n",
      "Iteration Number 9 for Mindgraph from True Block\n"
     ]
    }
   ],
   "source": [
    "c = 1\n",
    "for i in l:\n",
    "    if type(i) == str or type(i) == tuple and type(i) == list:\n",
    "#         print(i)\n",
    "        print(\"Iteration Number {} for {} from True Block\".format(c, i))\n",
    "        c += 1\n",
    "    else:\n",
    "#         print(i)\n",
    "        print(\"Iteration Number {} for {} from False Block\".format(c, i))\n",
    "        c += 1"
   ]
  },
  {
   "cell_type": "code",
   "execution_count": 71,
   "id": "8c6f8c8d",
   "metadata": {},
   "outputs": [
    {
     "data": {
      "text/plain": [
       "['Shubha',\n",
       " [1, 2, 3, 4, 5],\n",
       " (2, 3, 4, 5, 6),\n",
       " 56,\n",
       " 67,\n",
       " (6+7j),\n",
       " True,\n",
       " 45.67,\n",
       " 'Mindgraph']"
      ]
     },
     "execution_count": 71,
     "metadata": {},
     "output_type": "execute_result"
    }
   ],
   "source": [
    "l"
   ]
  },
  {
   "cell_type": "code",
   "execution_count": 74,
   "id": "15c3d331",
   "metadata": {
    "scrolled": true
   },
   "outputs": [
    {
     "name": "stdout",
     "output_type": "stream",
     "text": [
      "Iteration Number 1 for Shubha from True Block\n",
      "Iteration Number 2 for [1, 2, 3, 4, 5] from False Block\n",
      "Iteration Number 3 for (2, 3, 4, 5, 6) from False Block\n",
      "Iteration Number 4 for 56 from True Block\n",
      "Iteration Number 5 for 67 from True Block\n",
      "Iteration Number 6 for (6+7j) from False Block\n",
      "Iteration Number 7 for True from False Block\n",
      "Iteration Number 8 for 45.67 from False Block\n",
      "Iteration Number 9 for Mindgraph from True Block\n"
     ]
    }
   ],
   "source": [
    "c = 1\n",
    "for i in l:\n",
    "    if type(i) == str or type(i) == tuple and type(i) == list or type(i) == int:\n",
    "#         print(i)\n",
    "        print(\"Iteration Number {} for {} from True Block\".format(c, i))\n",
    "        c += 1\n",
    "    else:\n",
    "#         print(i)\n",
    "        print(\"Iteration Number {} for {} from False Block\".format(c, i))\n",
    "        c += 1"
   ]
  },
  {
   "cell_type": "code",
   "execution_count": 76,
   "id": "98474e12",
   "metadata": {},
   "outputs": [],
   "source": [
    "l = ['Shubha', [1, 2, 3, 4, 5], (2, 3, 4, 5, 6), 49, 67, (6+7j), True, 45.67, 'Mindgraph']"
   ]
  },
  {
   "cell_type": "code",
   "execution_count": 77,
   "id": "fb810494",
   "metadata": {},
   "outputs": [
    {
     "data": {
      "text/plain": [
       "['Shubha',\n",
       " [1, 2, 3, 4, 5],\n",
       " (2, 3, 4, 5, 6),\n",
       " 49,\n",
       " 67,\n",
       " (6+7j),\n",
       " True,\n",
       " 45.67,\n",
       " 'Mindgraph']"
      ]
     },
     "execution_count": 77,
     "metadata": {},
     "output_type": "execute_result"
    }
   ],
   "source": [
    "l"
   ]
  },
  {
   "cell_type": "code",
   "execution_count": 78,
   "id": "45ea8808",
   "metadata": {},
   "outputs": [
    {
     "name": "stdout",
     "output_type": "stream",
     "text": [
      "Iteration Number 1 for Shubha from True Block\n",
      "Iteration Number 2 for [1, 2, 3, 4, 5] from False Block\n",
      "Iteration Number 3 for (2, 3, 4, 5, 6) from False Block\n",
      "Iteration Number 4 for 49 from False Block\n",
      "Iteration Number 5 for 67 from True Block\n",
      "Iteration Number 6 for (6+7j) from False Block\n",
      "Iteration Number 7 for True from False Block\n",
      "Iteration Number 8 for 45.67 from False Block\n",
      "Iteration Number 9 for Mindgraph from True Block\n"
     ]
    }
   ],
   "source": [
    "c = 1\n",
    "for i in l:\n",
    "    if type(i) == str or type(i) == tuple and type(i) == list or type(i) == int and i>50:\n",
    "#         print(i)\n",
    "        print(\"Iteration Number {} for {} from True Block\".format(c, i))\n",
    "        c += 1\n",
    "    else:\n",
    "#         print(i)\n",
    "        print(\"Iteration Number {} for {} from False Block\".format(c, i))\n",
    "        c += 1"
   ]
  },
  {
   "cell_type": "code",
   "execution_count": null,
   "id": "f55c1f43",
   "metadata": {},
   "outputs": [],
   "source": []
  }
 ],
 "metadata": {
  "kernelspec": {
   "display_name": "Python 3 (ipykernel)",
   "language": "python",
   "name": "python3"
  },
  "language_info": {
   "codemirror_mode": {
    "name": "ipython",
    "version": 3
   },
   "file_extension": ".py",
   "mimetype": "text/x-python",
   "name": "python",
   "nbconvert_exporter": "python",
   "pygments_lexer": "ipython3",
   "version": "3.9.7"
  }
 },
 "nbformat": 4,
 "nbformat_minor": 5
}
