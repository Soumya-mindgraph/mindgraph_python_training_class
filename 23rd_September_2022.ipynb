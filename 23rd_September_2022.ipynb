{
 "cells": [
  {
   "cell_type": "markdown",
   "id": "79c684c2",
   "metadata": {},
   "source": [
    "# Dictionary - Extensive use"
   ]
  },
  {
   "cell_type": "code",
   "execution_count": 11,
   "id": "e02b3876",
   "metadata": {},
   "outputs": [],
   "source": [
    "d = {'ByteIQ':{'Shubha': {'Emp ID':'E007', 'Profile':'Data Engineering'}, 'Satya':{'Emp ID':'E009', 'Profile':'Data Engineering'}},\n",
    "    'Mindgraph':{'Chaitanya' : {'Emp ID':'MG180298', 'Profile':'Data Engineering'}, 'Saiteja': {'Emp ID':'MG180299', 'Profile':'Data Engineering'}}}"
   ]
  },
  {
   "cell_type": "markdown",
   "id": "cbc2b696",
   "metadata": {},
   "source": [
    "### Breakdown Type-1"
   ]
  },
  {
   "cell_type": "code",
   "execution_count": 10,
   "id": "738ac4b9",
   "metadata": {
    "scrolled": true
   },
   "outputs": [
    {
     "data": {
      "text/plain": [
       "{'ByteIQ': {'Shubha': {'Emp ID': 'E007', 'Profile': 'Data Engineering'},\n",
       "  'Satya': {'Emp ID': 'E009', 'Profile': 'Data Engineering'}},\n",
       " 'Mindgraph': {'Chaitanya': {'Emp ID': 'MG180298',\n",
       "   'Profile': 'Data Engineering'},\n",
       "  'Saiteja': {'Emp ID': 'MG180299', 'Profile': 'Data Engineering'}}}"
      ]
     },
     "execution_count": 10,
     "metadata": {},
     "output_type": "execute_result"
    }
   ],
   "source": [
    "{'ByteIQ':\n",
    " {'Shubha': {'Emp ID':'E007', 'Profile':'Data Engineering'}, \n",
    "  'Satya':{'Emp ID':'E009', 'Profile':'Data Engineering'}\n",
    " },\n",
    " 'Mindgraph':\n",
    " {'Chaitanya' : {'Emp ID':'MG180298', 'Profile':'Data Engineering'}, \n",
    "  'Saiteja': {'Emp ID':'MG180299', 'Profile':'Data Engineering'}\n",
    " }\n",
    "}"
   ]
  },
  {
   "cell_type": "markdown",
   "id": "0ce6d6d2",
   "metadata": {},
   "source": [
    "### Breakdown Type-2"
   ]
  },
  {
   "cell_type": "code",
   "execution_count": 20,
   "id": "6c541d14",
   "metadata": {},
   "outputs": [
    {
     "data": {
      "text/plain": [
       "{'ByteIQ': {'Shubha': {'Emp ID': 'E007', 'Profile': 'Data Engineering'},\n",
       "  'Satya': {'Emp ID': 'E009', 'Profile': 'Data Engineering'}},\n",
       " 'Mindgraph': {'Chaitanya': {'Emp ID': 'MG180298',\n",
       "   'Profile': 'Data Engineering'},\n",
       "  'Saiteja': {'Emp ID': 'MG180299', 'Profile': 'Data Engineering'}}}"
      ]
     },
     "execution_count": 20,
     "metadata": {},
     "output_type": "execute_result"
    }
   ],
   "source": [
    "{'ByteIQ':\n",
    " {'Shubha': \n",
    "  {'Emp ID':'E007', 'Profile':'Data Engineering'}, \n",
    "  'Satya':\n",
    "  {'Emp ID':'E009', 'Profile':'Data Engineering'}\n",
    " },\n",
    " 'Mindgraph':\n",
    " {'Chaitanya' : \n",
    "  {'Emp ID':'MG180298', 'Profile':'Data Engineering'}, \n",
    "  'Saiteja': \n",
    "  {'Emp ID':'MG180299', 'Profile':'Data Engineering'}\n",
    " }\n",
    "}"
   ]
  },
  {
   "cell_type": "markdown",
   "id": "9204a68c",
   "metadata": {},
   "source": [
    "### Display for Shubha"
   ]
  },
  {
   "cell_type": "code",
   "execution_count": 16,
   "id": "746147dd",
   "metadata": {},
   "outputs": [
    {
     "data": {
      "text/plain": [
       "{'Shubha': {'Emp ID': 'E007', 'Profile': 'Data Engineering'},\n",
       " 'Satya': {'Emp ID': 'E009', 'Profile': 'Data Engineering'}}"
      ]
     },
     "execution_count": 16,
     "metadata": {},
     "output_type": "execute_result"
    }
   ],
   "source": [
    "d['ByteIQ']"
   ]
  },
  {
   "cell_type": "code",
   "execution_count": 17,
   "id": "6e12cdf7",
   "metadata": {},
   "outputs": [
    {
     "data": {
      "text/plain": [
       "{'Emp ID': 'E007', 'Profile': 'Data Engineering'}"
      ]
     },
     "execution_count": 17,
     "metadata": {},
     "output_type": "execute_result"
    }
   ],
   "source": [
    "d['ByteIQ']['Shubha']"
   ]
  },
  {
   "cell_type": "code",
   "execution_count": 18,
   "id": "3f6fcf77",
   "metadata": {},
   "outputs": [
    {
     "data": {
      "text/plain": [
       "'E007'"
      ]
     },
     "execution_count": 18,
     "metadata": {},
     "output_type": "execute_result"
    }
   ],
   "source": [
    "d['ByteIQ']['Shubha']['Emp ID']"
   ]
  },
  {
   "cell_type": "code",
   "execution_count": 19,
   "id": "9f9fc0f5",
   "metadata": {},
   "outputs": [
    {
     "data": {
      "text/plain": [
       "'Data Engineering'"
      ]
     },
     "execution_count": 19,
     "metadata": {},
     "output_type": "execute_result"
    }
   ],
   "source": [
    "d['ByteIQ']['Shubha']['Profile']"
   ]
  },
  {
   "cell_type": "markdown",
   "id": "356ef08b",
   "metadata": {},
   "source": [
    "### Tasks\n",
    "\n",
    "1. Display the Details of ByteIQ\n",
    "2. Display the Details of Mindgraph\n",
    "3. Display the Details of Employees of ByteIQ(Shubha, Satya) - Profile and Emp ID\n",
    "4. Display the Details of Employees of Mindgraph(Saiteja, Chaitanya) - Profile and Emp ID"
   ]
  },
  {
   "cell_type": "markdown",
   "id": "4033c772",
   "metadata": {},
   "source": [
    "### Task - 1"
   ]
  },
  {
   "cell_type": "code",
   "execution_count": 21,
   "id": "a418fbce",
   "metadata": {},
   "outputs": [
    {
     "name": "stdout",
     "output_type": "stream",
     "text": [
      "The Details of ByteIQ Employees are \n",
      "{'Shubha': {'Emp ID': 'E007', 'Profile': 'Data Engineering'}, 'Satya': {'Emp ID': 'E009', 'Profile': 'Data Engineering'}}\n"
     ]
    }
   ],
   "source": [
    "print('The Details of ByteIQ Employees are \\n{}'.format(d['ByteIQ']))"
   ]
  },
  {
   "cell_type": "markdown",
   "id": "8198e412",
   "metadata": {},
   "source": [
    "### Task - 2"
   ]
  },
  {
   "cell_type": "code",
   "execution_count": 22,
   "id": "576047c4",
   "metadata": {},
   "outputs": [
    {
     "name": "stdout",
     "output_type": "stream",
     "text": [
      "The Details of Mindgraph Employees are \n",
      "{'Chaitanya': {'Emp ID': 'MG180298', 'Profile': 'Data Engineering'}, 'Saiteja': {'Emp ID': 'MG180299', 'Profile': 'Data Engineering'}}\n"
     ]
    }
   ],
   "source": [
    "print('The Details of Mindgraph Employees are \\n{}'.format(d['Mindgraph']))"
   ]
  },
  {
   "cell_type": "markdown",
   "id": "0dbeb434",
   "metadata": {},
   "source": [
    "### Task -3 \n",
    "\n",
    "* Display the Details of Employees of ByteIQ(Shubha, Satya) - Profile and Emp ID"
   ]
  },
  {
   "cell_type": "markdown",
   "id": "72b83732",
   "metadata": {},
   "source": [
    "### Details of Shubha"
   ]
  },
  {
   "cell_type": "code",
   "execution_count": 23,
   "id": "d7522b54",
   "metadata": {},
   "outputs": [
    {
     "name": "stdout",
     "output_type": "stream",
     "text": [
      "The Details of Shubha\n",
      "{'Emp ID': 'E007', 'Profile': 'Data Engineering'}\n"
     ]
    }
   ],
   "source": [
    "print('The Details of Shubha\\n{}'.format(d['ByteIQ']['Shubha']))"
   ]
  },
  {
   "cell_type": "code",
   "execution_count": 26,
   "id": "fa5bed3f",
   "metadata": {},
   "outputs": [
    {
     "name": "stdout",
     "output_type": "stream",
     "text": [
      "Employee ID of Shubha\n",
      "E007\n"
     ]
    }
   ],
   "source": [
    "print('Employee ID of Shubha is \\n{}'.format(d['ByteIQ']['Shubha']['Emp ID']))"
   ]
  },
  {
   "cell_type": "code",
   "execution_count": 27,
   "id": "7e3a94a6",
   "metadata": {},
   "outputs": [
    {
     "name": "stdout",
     "output_type": "stream",
     "text": [
      "Profile of Shubha\n",
      "Data Engineering\n"
     ]
    }
   ],
   "source": [
    "print('Profile of Shubha\\n{}'.format(d['ByteIQ']['Shubha']['Profile']))"
   ]
  },
  {
   "cell_type": "markdown",
   "id": "e78edb6c",
   "metadata": {},
   "source": [
    "### Details of Satya"
   ]
  },
  {
   "cell_type": "code",
   "execution_count": 25,
   "id": "5f2f6453",
   "metadata": {},
   "outputs": [
    {
     "name": "stdout",
     "output_type": "stream",
     "text": [
      "The Details of Satya\n",
      "{'Emp ID': 'E009', 'Profile': 'Data Engineering'}\n"
     ]
    }
   ],
   "source": [
    "print('The Details of Satya\\n{}'.format(d['ByteIQ']['Satya']))"
   ]
  },
  {
   "cell_type": "code",
   "execution_count": 28,
   "id": "ed793d1b",
   "metadata": {},
   "outputs": [
    {
     "name": "stdout",
     "output_type": "stream",
     "text": [
      "Employee ID of Satya is \n",
      "E009\n"
     ]
    }
   ],
   "source": [
    "print('Employee ID of Satya is \\n{}'.format(d['ByteIQ']['Satya']['Emp ID']))"
   ]
  },
  {
   "cell_type": "code",
   "execution_count": 31,
   "id": "092beedd",
   "metadata": {},
   "outputs": [
    {
     "name": "stdout",
     "output_type": "stream",
     "text": [
      "Profile of Satya\n",
      "Data Engineering\n"
     ]
    }
   ],
   "source": [
    "print('Profile of Satya\\n{}'.format(d['ByteIQ']['Satya']['Profile']))"
   ]
  },
  {
   "cell_type": "markdown",
   "id": "3ccbeba2",
   "metadata": {},
   "source": [
    "### Task - 4 - Display the Details of Employees of Mindgraph(Saiteja, Chaitanya) - Profile and Emp ID"
   ]
  },
  {
   "cell_type": "markdown",
   "id": "158d84fc",
   "metadata": {},
   "source": [
    "### Details of Chaitanya"
   ]
  },
  {
   "cell_type": "code",
   "execution_count": 32,
   "id": "d677c7c3",
   "metadata": {},
   "outputs": [
    {
     "name": "stdout",
     "output_type": "stream",
     "text": [
      "The Details of Chaitanya\n",
      "{'Emp ID': 'MG180298', 'Profile': 'Data Engineering'}\n"
     ]
    }
   ],
   "source": [
    "print('The Details of Chaitanya\\n{}'.format(d['Mindgraph']['Chaitanya']))"
   ]
  },
  {
   "cell_type": "code",
   "execution_count": 33,
   "id": "591a5fd8",
   "metadata": {},
   "outputs": [
    {
     "name": "stdout",
     "output_type": "stream",
     "text": [
      "Employee ID of Chaitanya is \n",
      "MG180298\n"
     ]
    }
   ],
   "source": [
    "print('Employee ID of Chaitanya is \\n{}'.format(d['Mindgraph']['Chaitanya']['Emp ID']))"
   ]
  },
  {
   "cell_type": "code",
   "execution_count": 34,
   "id": "2ca6aeda",
   "metadata": {},
   "outputs": [
    {
     "name": "stdout",
     "output_type": "stream",
     "text": [
      "Profile of Chaitanya\n",
      "Data Engineering\n"
     ]
    }
   ],
   "source": [
    "print('Profile of Chaitanya\\n{}'.format(d['Mindgraph']['Chaitanya']['Profile']))"
   ]
  },
  {
   "cell_type": "markdown",
   "id": "dca32976",
   "metadata": {},
   "source": [
    "### Details of Saiteja"
   ]
  },
  {
   "cell_type": "code",
   "execution_count": 38,
   "id": "b97e8a4b",
   "metadata": {},
   "outputs": [
    {
     "name": "stdout",
     "output_type": "stream",
     "text": [
      "The Details of Saiteja\n",
      "{'Emp ID': 'MG180299', 'Profile': 'Data Engineering'}\n"
     ]
    }
   ],
   "source": [
    "print('The Details of Saiteja\\n{}'.format(d['Mindgraph']['Saiteja']))"
   ]
  },
  {
   "cell_type": "code",
   "execution_count": 36,
   "id": "c060295a",
   "metadata": {},
   "outputs": [
    {
     "name": "stdout",
     "output_type": "stream",
     "text": [
      "Employee ID of Saiteja is \n",
      "MG180299\n"
     ]
    }
   ],
   "source": [
    "print('Employee ID of Saiteja is \\n{}'.format(d['Mindgraph']['Saiteja']['Emp ID']))"
   ]
  },
  {
   "cell_type": "code",
   "execution_count": 37,
   "id": "47261290",
   "metadata": {},
   "outputs": [
    {
     "name": "stdout",
     "output_type": "stream",
     "text": [
      "Profile of Saiteja\n",
      "Data Engineering\n"
     ]
    }
   ],
   "source": [
    "print('Profile of Saiteja\\n{}'.format(d['Mindgraph']['Saiteja']['Profile']))"
   ]
  }
 ],
 "metadata": {
  "kernelspec": {
   "display_name": "Python 3 (ipykernel)",
   "language": "python",
   "name": "python3"
  },
  "language_info": {
   "codemirror_mode": {
    "name": "ipython",
    "version": 3
   },
   "file_extension": ".py",
   "mimetype": "text/x-python",
   "name": "python",
   "nbconvert_exporter": "python",
   "pygments_lexer": "ipython3",
   "version": "3.9.7"
  }
 },
 "nbformat": 4,
 "nbformat_minor": 5
}
