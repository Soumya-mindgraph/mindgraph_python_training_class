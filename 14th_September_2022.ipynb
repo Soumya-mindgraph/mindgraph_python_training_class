{
 "cells": [
  {
   "cell_type": "markdown",
   "id": "bc3cb3a2",
   "metadata": {},
   "source": [
    "## Homogenous Data Set"
   ]
  },
  {
   "cell_type": "code",
   "execution_count": 3,
   "id": "07f51ee4",
   "metadata": {},
   "outputs": [],
   "source": [
    "ho = [1, 3, 4, 6, 7, 7]"
   ]
  },
  {
   "cell_type": "code",
   "execution_count": 4,
   "id": "55283e49",
   "metadata": {},
   "outputs": [],
   "source": [
    "ho_str = [\"Mindgraph\", \"ByteIQ\"]"
   ]
  },
  {
   "cell_type": "code",
   "execution_count": 5,
   "id": "60769364",
   "metadata": {},
   "outputs": [],
   "source": [
    "ho_float = (67.27, 2.2, 1.2)"
   ]
  },
  {
   "cell_type": "markdown",
   "id": "da224af2",
   "metadata": {},
   "source": [
    "## Heterogeneous Data Set"
   ]
  },
  {
   "cell_type": "code",
   "execution_count": 6,
   "id": "f3f93e06",
   "metadata": {},
   "outputs": [],
   "source": [
    "he = (1, 2, 3, 'Mindgraph', 'ByteIQ', 7+8j)"
   ]
  },
  {
   "cell_type": "markdown",
   "id": "a23f76cf",
   "metadata": {},
   "source": [
    "###  Mutable"
   ]
  },
  {
   "cell_type": "code",
   "execution_count": 7,
   "id": "814e780a",
   "metadata": {},
   "outputs": [],
   "source": [
    "l = [1, 2, 3, 4, 5, \"Mindgraph\"]"
   ]
  },
  {
   "cell_type": "code",
   "execution_count": 8,
   "id": "71d213f1",
   "metadata": {},
   "outputs": [],
   "source": [
    "l[1] = \"ByteIQ\""
   ]
  },
  {
   "cell_type": "code",
   "execution_count": 9,
   "id": "12a19ba4",
   "metadata": {},
   "outputs": [
    {
     "data": {
      "text/plain": [
       "[1, 'ByteIQ', 3, 4, 5, 'Mindgraph']"
      ]
     },
     "execution_count": 9,
     "metadata": {},
     "output_type": "execute_result"
    }
   ],
   "source": [
    "l"
   ]
  },
  {
   "cell_type": "markdown",
   "id": "9e6a5448",
   "metadata": {},
   "source": [
    "### Immutable"
   ]
  },
  {
   "cell_type": "code",
   "execution_count": 11,
   "id": "01fdbb83",
   "metadata": {},
   "outputs": [],
   "source": [
    "t = (1, 2, 3, 'Mindgraph')"
   ]
  },
  {
   "cell_type": "code",
   "execution_count": 12,
   "id": "4901e81f",
   "metadata": {},
   "outputs": [
    {
     "data": {
      "text/plain": [
       "2"
      ]
     },
     "execution_count": 12,
     "metadata": {},
     "output_type": "execute_result"
    }
   ],
   "source": [
    "t[1]"
   ]
  },
  {
   "cell_type": "code",
   "execution_count": 13,
   "id": "d4243816",
   "metadata": {},
   "outputs": [
    {
     "ename": "TypeError",
     "evalue": "'tuple' object does not support item assignment",
     "output_type": "error",
     "traceback": [
      "\u001b[1;31m---------------------------------------------------------------------------\u001b[0m",
      "\u001b[1;31mTypeError\u001b[0m                                 Traceback (most recent call last)",
      "\u001b[1;32m~\\AppData\\Local\\Temp/ipykernel_45368/180164371.py\u001b[0m in \u001b[0;36m<module>\u001b[1;34m\u001b[0m\n\u001b[1;32m----> 1\u001b[1;33m \u001b[0mt\u001b[0m\u001b[1;33m[\u001b[0m\u001b[1;36m1\u001b[0m\u001b[1;33m]\u001b[0m \u001b[1;33m=\u001b[0m \u001b[1;34m'ByteIQ'\u001b[0m\u001b[1;33m\u001b[0m\u001b[1;33m\u001b[0m\u001b[0m\n\u001b[0m",
      "\u001b[1;31mTypeError\u001b[0m: 'tuple' object does not support item assignment"
     ]
    }
   ],
   "source": [
    "t[1] = 'ByteIQ' # Immutable"
   ]
  },
  {
   "cell_type": "markdown",
   "id": "43b3a69f",
   "metadata": {},
   "source": [
    "### Sets"
   ]
  },
  {
   "cell_type": "code",
   "execution_count": 14,
   "id": "33383371",
   "metadata": {},
   "outputs": [
    {
     "data": {
      "text/plain": [
       "set()"
      ]
     },
     "execution_count": 14,
     "metadata": {},
     "output_type": "execute_result"
    }
   ],
   "source": [
    "set()"
   ]
  },
  {
   "cell_type": "code",
   "execution_count": 18,
   "id": "ec0987bf",
   "metadata": {
    "scrolled": true
   },
   "outputs": [
    {
     "ename": "TypeError",
     "evalue": "set expected at most 1 argument, got 5",
     "output_type": "error",
     "traceback": [
      "\u001b[1;31m---------------------------------------------------------------------------\u001b[0m",
      "\u001b[1;31mTypeError\u001b[0m                                 Traceback (most recent call last)",
      "\u001b[1;32m~\\AppData\\Local\\Temp/ipykernel_45368/3161474162.py\u001b[0m in \u001b[0;36m<module>\u001b[1;34m\u001b[0m\n\u001b[1;32m----> 1\u001b[1;33m \u001b[0mset\u001b[0m\u001b[1;33m(\u001b[0m\u001b[1;36m1\u001b[0m\u001b[1;33m,\u001b[0m \u001b[1;36m2\u001b[0m\u001b[1;33m,\u001b[0m \u001b[1;36m3\u001b[0m\u001b[1;33m,\u001b[0m \u001b[1;36m4\u001b[0m\u001b[1;33m,\u001b[0m \u001b[1;36m5\u001b[0m\u001b[1;33m)\u001b[0m\u001b[1;33m\u001b[0m\u001b[1;33m\u001b[0m\u001b[0m\n\u001b[0m",
      "\u001b[1;31mTypeError\u001b[0m: set expected at most 1 argument, got 5"
     ]
    }
   ],
   "source": [
    "set(1, 2, 3, 4, 5) # cannot define a set like this, it will be used for type casting."
   ]
  },
  {
   "cell_type": "markdown",
   "id": "32ffd27b",
   "metadata": {},
   "source": [
    "* Explicit type conversion is know as type casting"
   ]
  },
  {
   "cell_type": "code",
   "execution_count": 20,
   "id": "c98401aa",
   "metadata": {},
   "outputs": [],
   "source": [
    "l = [1, 2, 3, 4, 4, 5, 5, 5, 5, 5, 5, 5, 5, 5, 5, 5]"
   ]
  },
  {
   "cell_type": "code",
   "execution_count": 21,
   "id": "7058a32e",
   "metadata": {},
   "outputs": [
    {
     "data": {
      "text/plain": [
       "[1, 2, 3, 4, 4, 5, 5, 5, 5, 5, 5, 5, 5, 5, 5, 5]"
      ]
     },
     "execution_count": 21,
     "metadata": {},
     "output_type": "execute_result"
    }
   ],
   "source": [
    "l"
   ]
  },
  {
   "cell_type": "code",
   "execution_count": 22,
   "id": "c7f7d0f7",
   "metadata": {},
   "outputs": [
    {
     "data": {
      "text/plain": [
       "list"
      ]
     },
     "execution_count": 22,
     "metadata": {},
     "output_type": "execute_result"
    }
   ],
   "source": [
    "type(l)"
   ]
  },
  {
   "cell_type": "code",
   "execution_count": 25,
   "id": "24f9d3b8",
   "metadata": {},
   "outputs": [],
   "source": [
    "s = set(l)"
   ]
  },
  {
   "cell_type": "code",
   "execution_count": 26,
   "id": "5d9b3521",
   "metadata": {},
   "outputs": [
    {
     "data": {
      "text/plain": [
       "{1, 2, 3, 4, 5}"
      ]
     },
     "execution_count": 26,
     "metadata": {},
     "output_type": "execute_result"
    }
   ],
   "source": [
    "s"
   ]
  },
  {
   "cell_type": "code",
   "execution_count": 24,
   "id": "81359e32",
   "metadata": {},
   "outputs": [
    {
     "data": {
      "text/plain": [
       "list"
      ]
     },
     "execution_count": 24,
     "metadata": {},
     "output_type": "execute_result"
    }
   ],
   "source": [
    "type(l)"
   ]
  },
  {
   "cell_type": "code",
   "execution_count": 27,
   "id": "d4c989cb",
   "metadata": {},
   "outputs": [
    {
     "data": {
      "text/plain": [
       "set"
      ]
     },
     "execution_count": 27,
     "metadata": {},
     "output_type": "execute_result"
    }
   ],
   "source": [
    "type(s)"
   ]
  },
  {
   "cell_type": "code",
   "execution_count": 28,
   "id": "771550b8",
   "metadata": {},
   "outputs": [],
   "source": [
    "set1 = 'Mindgraph'"
   ]
  },
  {
   "cell_type": "code",
   "execution_count": 29,
   "id": "9d63db6a",
   "metadata": {},
   "outputs": [
    {
     "data": {
      "text/plain": [
       "str"
      ]
     },
     "execution_count": 29,
     "metadata": {},
     "output_type": "execute_result"
    }
   ],
   "source": [
    "type(set1)"
   ]
  },
  {
   "cell_type": "code",
   "execution_count": 30,
   "id": "6b7ecbd3",
   "metadata": {},
   "outputs": [
    {
     "data": {
      "text/plain": [
       "{'M', 'a', 'd', 'g', 'h', 'i', 'n', 'p', 'r'}"
      ]
     },
     "execution_count": 30,
     "metadata": {},
     "output_type": "execute_result"
    }
   ],
   "source": [
    "set(set1)"
   ]
  },
  {
   "cell_type": "markdown",
   "id": "c77170ff",
   "metadata": {},
   "source": [
    "### ASCII Values"
   ]
  },
  {
   "cell_type": "markdown",
   "id": "fe70bc98",
   "metadata": {},
   "source": [
    "* ASCII VALUES will range from 0 to 255\n",
    "    * A-Z = 65-90\n",
    "    * a-z = 97-122\n",
    "    * 0-9 = 48-57\n",
    "    * Special characters - Remaining numbers excluding the above mentioned once."
   ]
  },
  {
   "cell_type": "markdown",
   "id": "08c7ceea",
   "metadata": {},
   "source": [
    "* To get ascii value of a character:  **ord('character')**\n",
    "* To get a character from ASCII value:  **chr(number from 0-255)**"
   ]
  },
  {
   "cell_type": "markdown",
   "id": "f0c0d755",
   "metadata": {},
   "source": [
    "## To get ascii value of a character: ord('character')"
   ]
  },
  {
   "cell_type": "code",
   "execution_count": 48,
   "id": "45917877",
   "metadata": {},
   "outputs": [
    {
     "data": {
      "text/plain": [
       "65"
      ]
     },
     "execution_count": 48,
     "metadata": {},
     "output_type": "execute_result"
    }
   ],
   "source": [
    "ord('A')"
   ]
  },
  {
   "cell_type": "code",
   "execution_count": 49,
   "id": "9f95d506",
   "metadata": {},
   "outputs": [
    {
     "data": {
      "text/plain": [
       "90"
      ]
     },
     "execution_count": 49,
     "metadata": {},
     "output_type": "execute_result"
    }
   ],
   "source": [
    "ord('Z')"
   ]
  },
  {
   "cell_type": "code",
   "execution_count": 50,
   "id": "22aed4a9",
   "metadata": {},
   "outputs": [
    {
     "data": {
      "text/plain": [
       "range(65, 90)"
      ]
     },
     "execution_count": 50,
     "metadata": {},
     "output_type": "execute_result"
    }
   ],
   "source": [
    "range(ord('A'), ord('Z')) # A-Z"
   ]
  },
  {
   "cell_type": "code",
   "execution_count": 52,
   "id": "5202e12b",
   "metadata": {},
   "outputs": [
    {
     "data": {
      "text/plain": [
       "[65,\n",
       " 66,\n",
       " 67,\n",
       " 68,\n",
       " 69,\n",
       " 70,\n",
       " 71,\n",
       " 72,\n",
       " 73,\n",
       " 74,\n",
       " 75,\n",
       " 76,\n",
       " 77,\n",
       " 78,\n",
       " 79,\n",
       " 80,\n",
       " 81,\n",
       " 82,\n",
       " 83,\n",
       " 84,\n",
       " 85,\n",
       " 86,\n",
       " 87,\n",
       " 88,\n",
       " 89,\n",
       " 90]"
      ]
     },
     "execution_count": 52,
     "metadata": {},
     "output_type": "execute_result"
    }
   ],
   "source": [
    "list(range(ord('A'), ord('Z')+1))"
   ]
  },
  {
   "cell_type": "code",
   "execution_count": 53,
   "id": "f4d1392f",
   "metadata": {},
   "outputs": [
    {
     "data": {
      "text/plain": [
       "97"
      ]
     },
     "execution_count": 53,
     "metadata": {},
     "output_type": "execute_result"
    }
   ],
   "source": [
    "ord('a')"
   ]
  },
  {
   "cell_type": "code",
   "execution_count": 54,
   "id": "b3b7fa0f",
   "metadata": {},
   "outputs": [
    {
     "data": {
      "text/plain": [
       "122"
      ]
     },
     "execution_count": 54,
     "metadata": {},
     "output_type": "execute_result"
    }
   ],
   "source": [
    "ord('z')"
   ]
  },
  {
   "cell_type": "code",
   "execution_count": 56,
   "id": "baaa0a81",
   "metadata": {},
   "outputs": [
    {
     "data": {
      "text/plain": [
       "range(97, 122)"
      ]
     },
     "execution_count": 56,
     "metadata": {},
     "output_type": "execute_result"
    }
   ],
   "source": [
    "range(ord('a'), ord('z'))"
   ]
  },
  {
   "cell_type": "code",
   "execution_count": 58,
   "id": "0ddc80b5",
   "metadata": {},
   "outputs": [
    {
     "data": {
      "text/plain": [
       "(97,\n",
       " 98,\n",
       " 99,\n",
       " 100,\n",
       " 101,\n",
       " 102,\n",
       " 103,\n",
       " 104,\n",
       " 105,\n",
       " 106,\n",
       " 107,\n",
       " 108,\n",
       " 109,\n",
       " 110,\n",
       " 111,\n",
       " 112,\n",
       " 113,\n",
       " 114,\n",
       " 115,\n",
       " 116,\n",
       " 117,\n",
       " 118,\n",
       " 119,\n",
       " 120,\n",
       " 121,\n",
       " 122)"
      ]
     },
     "execution_count": 58,
     "metadata": {},
     "output_type": "execute_result"
    }
   ],
   "source": [
    "tuple(range(ord('a'), ord('z') + 1))"
   ]
  },
  {
   "cell_type": "code",
   "execution_count": 59,
   "id": "9152a991",
   "metadata": {},
   "outputs": [
    {
     "data": {
      "text/plain": [
       "48"
      ]
     },
     "execution_count": 59,
     "metadata": {},
     "output_type": "execute_result"
    }
   ],
   "source": [
    "ord('0')"
   ]
  },
  {
   "cell_type": "code",
   "execution_count": 60,
   "id": "1c6a7dd2",
   "metadata": {},
   "outputs": [
    {
     "data": {
      "text/plain": [
       "57"
      ]
     },
     "execution_count": 60,
     "metadata": {},
     "output_type": "execute_result"
    }
   ],
   "source": [
    "ord('9')"
   ]
  },
  {
   "cell_type": "code",
   "execution_count": 62,
   "id": "c34c5e3f",
   "metadata": {},
   "outputs": [
    {
     "data": {
      "text/plain": [
       "range(48, 57)"
      ]
     },
     "execution_count": 62,
     "metadata": {},
     "output_type": "execute_result"
    }
   ],
   "source": [
    "range(ord('0'), ord('9'))"
   ]
  },
  {
   "cell_type": "code",
   "execution_count": 63,
   "id": "639c145a",
   "metadata": {},
   "outputs": [
    {
     "data": {
      "text/plain": [
       "{48, 49, 50, 51, 52, 53, 54, 55, 56}"
      ]
     },
     "execution_count": 63,
     "metadata": {},
     "output_type": "execute_result"
    }
   ],
   "source": [
    "set(range(ord('0'), ord('9')))"
   ]
  },
  {
   "cell_type": "markdown",
   "id": "fb41d0fd",
   "metadata": {},
   "source": [
    "## To get a character from ASCII value: chr(number from 0-255)"
   ]
  },
  {
   "cell_type": "code",
   "execution_count": 65,
   "id": "af3c470f",
   "metadata": {},
   "outputs": [
    {
     "data": {
      "text/plain": [
       "'A'"
      ]
     },
     "execution_count": 65,
     "metadata": {},
     "output_type": "execute_result"
    }
   ],
   "source": [
    "chr(65)"
   ]
  },
  {
   "cell_type": "code",
   "execution_count": 64,
   "id": "68eac39d",
   "metadata": {},
   "outputs": [
    {
     "data": {
      "text/plain": [
       "'Z'"
      ]
     },
     "execution_count": 64,
     "metadata": {},
     "output_type": "execute_result"
    }
   ],
   "source": [
    "chr(90)"
   ]
  },
  {
   "cell_type": "code",
   "execution_count": 67,
   "id": "6af29149",
   "metadata": {},
   "outputs": [
    {
     "data": {
      "text/plain": [
       "'a'"
      ]
     },
     "execution_count": 67,
     "metadata": {},
     "output_type": "execute_result"
    }
   ],
   "source": [
    "chr(97)"
   ]
  },
  {
   "cell_type": "code",
   "execution_count": 68,
   "id": "74ee8aa7",
   "metadata": {},
   "outputs": [
    {
     "data": {
      "text/plain": [
       "'z'"
      ]
     },
     "execution_count": 68,
     "metadata": {},
     "output_type": "execute_result"
    }
   ],
   "source": [
    "chr(122)"
   ]
  },
  {
   "cell_type": "code",
   "execution_count": 70,
   "id": "8664beb1",
   "metadata": {},
   "outputs": [
    {
     "data": {
      "text/plain": [
       "'0'"
      ]
     },
     "execution_count": 70,
     "metadata": {},
     "output_type": "execute_result"
    }
   ],
   "source": [
    "chr(48)"
   ]
  },
  {
   "cell_type": "code",
   "execution_count": 72,
   "id": "6537db5d",
   "metadata": {},
   "outputs": [
    {
     "data": {
      "text/plain": [
       "'9'"
      ]
     },
     "execution_count": 72,
     "metadata": {},
     "output_type": "execute_result"
    }
   ],
   "source": [
    "chr(57)"
   ]
  },
  {
   "cell_type": "markdown",
   "id": "bb951a7e",
   "metadata": {},
   "source": [
    "* Implicit conversion is the conversion in which a derived class is converted into a base class like int into a float type. \n",
    "* Explicit conversion is the conversion that may cause data loss. For example - List to Set(repeated data will be deleted)"
   ]
  },
  {
   "cell_type": "markdown",
   "id": "f45fe22e",
   "metadata": {},
   "source": [
    "### Implicit Conversion"
   ]
  },
  {
   "cell_type": "code",
   "execution_count": 73,
   "id": "4853408c",
   "metadata": {},
   "outputs": [
    {
     "data": {
      "text/plain": [
       "5.0"
      ]
     },
     "execution_count": 73,
     "metadata": {},
     "output_type": "execute_result"
    }
   ],
   "source": [
    "float(5)"
   ]
  },
  {
   "cell_type": "code",
   "execution_count": 75,
   "id": "8e3ae484",
   "metadata": {},
   "outputs": [
    {
     "data": {
      "text/plain": [
       "3"
      ]
     },
     "execution_count": 75,
     "metadata": {},
     "output_type": "execute_result"
    }
   ],
   "source": [
    "int(3.0)"
   ]
  },
  {
   "cell_type": "code",
   "execution_count": 74,
   "id": "60086753",
   "metadata": {},
   "outputs": [
    {
     "data": {
      "text/plain": [
       "3"
      ]
     },
     "execution_count": 74,
     "metadata": {},
     "output_type": "execute_result"
    }
   ],
   "source": [
    "int(3.5)"
   ]
  },
  {
   "cell_type": "code",
   "execution_count": 76,
   "id": "0da40bd4",
   "metadata": {},
   "outputs": [
    {
     "data": {
      "text/plain": [
       "3"
      ]
     },
     "execution_count": 76,
     "metadata": {},
     "output_type": "execute_result"
    }
   ],
   "source": [
    "int(3.7)"
   ]
  },
  {
   "cell_type": "markdown",
   "id": "fac11889",
   "metadata": {},
   "source": [
    "### Explicit Type conversion is known as type casting"
   ]
  },
  {
   "cell_type": "code",
   "execution_count": 77,
   "id": "b72db6d9",
   "metadata": {},
   "outputs": [],
   "source": [
    "l = [1, 2, 3, 4, 10, 11, 10, 100, 11, 11]"
   ]
  },
  {
   "cell_type": "code",
   "execution_count": 78,
   "id": "3686e581",
   "metadata": {},
   "outputs": [
    {
     "data": {
      "text/plain": [
       "list"
      ]
     },
     "execution_count": 78,
     "metadata": {},
     "output_type": "execute_result"
    }
   ],
   "source": [
    "type(l)"
   ]
  },
  {
   "cell_type": "code",
   "execution_count": 79,
   "id": "ce87381b",
   "metadata": {},
   "outputs": [
    {
     "data": {
      "text/plain": [
       "{1, 2, 3, 4, 10, 11, 100}"
      ]
     },
     "execution_count": 79,
     "metadata": {},
     "output_type": "execute_result"
    }
   ],
   "source": [
    "set(l)"
   ]
  },
  {
   "cell_type": "code",
   "execution_count": null,
   "id": "e47432b9",
   "metadata": {},
   "outputs": [],
   "source": []
  }
 ],
 "metadata": {
  "kernelspec": {
   "display_name": "Python 3 (ipykernel)",
   "language": "python",
   "name": "python3"
  },
  "language_info": {
   "codemirror_mode": {
    "name": "ipython",
    "version": 3
   },
   "file_extension": ".py",
   "mimetype": "text/x-python",
   "name": "python",
   "nbconvert_exporter": "python",
   "pygments_lexer": "ipython3",
   "version": "3.9.7"
  }
 },
 "nbformat": 4,
 "nbformat_minor": 5
}
