{
 "cells": [
  {
   "cell_type": "markdown",
   "id": "19cdd78f",
   "metadata": {},
   "source": [
    "### Variable"
   ]
  },
  {
   "cell_type": "code",
   "execution_count": 1,
   "id": "834874b3",
   "metadata": {},
   "outputs": [],
   "source": [
    "a = 10 # a is a variable that will contain value of 10"
   ]
  },
  {
   "cell_type": "code",
   "execution_count": 2,
   "id": "a9663ea9",
   "metadata": {},
   "outputs": [
    {
     "data": {
      "text/plain": [
       "10"
      ]
     },
     "execution_count": 2,
     "metadata": {},
     "output_type": "execute_result"
    }
   ],
   "source": [
    "a"
   ]
  },
  {
   "cell_type": "code",
   "execution_count": 3,
   "id": "cb6682d3",
   "metadata": {},
   "outputs": [],
   "source": [
    "a = 20"
   ]
  },
  {
   "cell_type": "code",
   "execution_count": 4,
   "id": "61a02806",
   "metadata": {},
   "outputs": [
    {
     "data": {
      "text/plain": [
       "20"
      ]
     },
     "execution_count": 4,
     "metadata": {},
     "output_type": "execute_result"
    }
   ],
   "source": [
    "a"
   ]
  },
  {
   "cell_type": "code",
   "execution_count": 5,
   "id": "86e66804",
   "metadata": {},
   "outputs": [
    {
     "data": {
      "text/plain": [
       "int"
      ]
     },
     "execution_count": 5,
     "metadata": {},
     "output_type": "execute_result"
    }
   ],
   "source": [
    "type(a)"
   ]
  },
  {
   "cell_type": "code",
   "execution_count": 6,
   "id": "acb9ed45",
   "metadata": {},
   "outputs": [],
   "source": [
    "b = \"Mindgraph\""
   ]
  },
  {
   "cell_type": "code",
   "execution_count": 7,
   "id": "9d088ae5",
   "metadata": {},
   "outputs": [
    {
     "data": {
      "text/plain": [
       "str"
      ]
     },
     "execution_count": 7,
     "metadata": {},
     "output_type": "execute_result"
    }
   ],
   "source": [
    "type(b)"
   ]
  },
  {
   "cell_type": "code",
   "execution_count": 8,
   "id": "0abe3005",
   "metadata": {},
   "outputs": [],
   "source": [
    "c = 'Mindgraph'"
   ]
  },
  {
   "cell_type": "code",
   "execution_count": 9,
   "id": "cdecf084",
   "metadata": {},
   "outputs": [
    {
     "data": {
      "text/plain": [
       "str"
      ]
     },
     "execution_count": 9,
     "metadata": {},
     "output_type": "execute_result"
    }
   ],
   "source": [
    "type(c)"
   ]
  },
  {
   "cell_type": "markdown",
   "id": "7bceaaf4",
   "metadata": {},
   "source": [
    "* in python we do not have data type as 'char'"
   ]
  },
  {
   "cell_type": "code",
   "execution_count": 13,
   "id": "c79184f8",
   "metadata": {},
   "outputs": [],
   "source": [
    "Mindgraph = \"Mindgraph\""
   ]
  },
  {
   "cell_type": "code",
   "execution_count": 14,
   "id": "4544de0b",
   "metadata": {},
   "outputs": [
    {
     "data": {
      "text/plain": [
       "'Mindgraph'"
      ]
     },
     "execution_count": 14,
     "metadata": {},
     "output_type": "execute_result"
    }
   ],
   "source": [
    "Mindgraph"
   ]
  },
  {
   "cell_type": "code",
   "execution_count": 15,
   "id": "319bab77",
   "metadata": {},
   "outputs": [
    {
     "data": {
      "text/plain": [
       "str"
      ]
     },
     "execution_count": 15,
     "metadata": {},
     "output_type": "execute_result"
    }
   ],
   "source": [
    "type(Mindgraph)"
   ]
  },
  {
   "cell_type": "markdown",
   "id": "b9c1b720",
   "metadata": {},
   "source": [
    "### simple arithmetic "
   ]
  },
  {
   "cell_type": "code",
   "execution_count": null,
   "id": "91214453",
   "metadata": {},
   "outputs": [],
   "source": []
  },
  {
   "cell_type": "code",
   "execution_count": null,
   "id": "205452eb",
   "metadata": {},
   "outputs": [],
   "source": []
  }
 ],
 "metadata": {
  "kernelspec": {
   "display_name": "Python 3 (ipykernel)",
   "language": "python",
   "name": "python3"
  },
  "language_info": {
   "codemirror_mode": {
    "name": "ipython",
    "version": 3
   },
   "file_extension": ".py",
   "mimetype": "text/x-python",
   "name": "python",
   "nbconvert_exporter": "python",
   "pygments_lexer": "ipython3",
   "version": "3.9.7"
  }
 },
 "nbformat": 4,
 "nbformat_minor": 5
}
