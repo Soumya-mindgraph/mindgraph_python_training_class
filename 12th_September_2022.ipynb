{
 "cells": [
  {
   "cell_type": "markdown",
   "id": "5e23bab0",
   "metadata": {},
   "source": [
    "### Variable"
   ]
  },
  {
   "cell_type": "code",
   "execution_count": 1,
   "id": "1f051858",
   "metadata": {},
   "outputs": [],
   "source": [
    "a = 10 # a is a variable that will contain value of 10"
   ]
  },
  {
   "cell_type": "code",
   "execution_count": 2,
   "id": "bc6e0e62",
   "metadata": {},
   "outputs": [
    {
     "data": {
      "text/plain": [
       "10"
      ]
     },
     "execution_count": 2,
     "metadata": {},
     "output_type": "execute_result"
    }
   ],
   "source": [
    "a"
   ]
  },
  {
   "cell_type": "code",
   "execution_count": 3,
   "id": "cbe7991f",
   "metadata": {},
   "outputs": [],
   "source": [
    "a = 20"
   ]
  },
  {
   "cell_type": "code",
   "execution_count": 4,
   "id": "a38fe81a",
   "metadata": {},
   "outputs": [
    {
     "data": {
      "text/plain": [
       "20"
      ]
     },
     "execution_count": 4,
     "metadata": {},
     "output_type": "execute_result"
    }
   ],
   "source": [
    "a"
   ]
  },
  {
   "cell_type": "code",
   "execution_count": 5,
   "id": "392067fd",
   "metadata": {},
   "outputs": [
    {
     "data": {
      "text/plain": [
       "int"
      ]
     },
     "execution_count": 5,
     "metadata": {},
     "output_type": "execute_result"
    }
   ],
   "source": [
    "type(a)"
   ]
  },
  {
   "cell_type": "code",
   "execution_count": 6,
   "id": "244beb0f",
   "metadata": {},
   "outputs": [],
   "source": [
    "b = \"Mindgraph\""
   ]
  },
  {
   "cell_type": "code",
   "execution_count": 7,
   "id": "87cbb534",
   "metadata": {},
   "outputs": [
    {
     "data": {
      "text/plain": [
       "str"
      ]
     },
     "execution_count": 7,
     "metadata": {},
     "output_type": "execute_result"
    }
   ],
   "source": [
    "type(b)"
   ]
  },
  {
   "cell_type": "code",
   "execution_count": 8,
   "id": "605e8f22",
   "metadata": {},
   "outputs": [],
   "source": [
    "c = 'Mindgraph'"
   ]
  },
  {
   "cell_type": "code",
   "execution_count": 9,
   "id": "a2cbe10a",
   "metadata": {},
   "outputs": [
    {
     "data": {
      "text/plain": [
       "str"
      ]
     },
     "execution_count": 9,
     "metadata": {},
     "output_type": "execute_result"
    }
   ],
   "source": [
    "type(c)"
   ]
  },
  {
   "cell_type": "markdown",
   "id": "44d9a4e2",
   "metadata": {},
   "source": [
    "* in python we do not have data type as 'char'"
   ]
  },
  {
   "cell_type": "code",
   "execution_count": 13,
   "id": "cb0d9c4c",
   "metadata": {},
   "outputs": [],
   "source": [
    "Mindgraph = \"Mindgraph\""
   ]
  },
  {
   "cell_type": "code",
   "execution_count": 14,
   "id": "a058be87",
   "metadata": {},
   "outputs": [
    {
     "data": {
      "text/plain": [
       "'Mindgraph'"
      ]
     },
     "execution_count": 14,
     "metadata": {},
     "output_type": "execute_result"
    }
   ],
   "source": [
    "Mindgraph"
   ]
  },
  {
   "cell_type": "code",
   "execution_count": 15,
   "id": "ca47a0a0",
   "metadata": {},
   "outputs": [
    {
     "data": {
      "text/plain": [
       "str"
      ]
     },
     "execution_count": 15,
     "metadata": {},
     "output_type": "execute_result"
    }
   ],
   "source": [
    "type(Mindgraph)"
   ]
  },
  {
   "cell_type": "markdown",
   "id": "c5cc2883",
   "metadata": {},
   "source": [
    "### simple arithmetic operations"
   ]
  },
  {
   "cell_type": "code",
   "execution_count": 18,
   "id": "8765d604",
   "metadata": {},
   "outputs": [
    {
     "data": {
      "text/plain": [
       "30"
      ]
     },
     "execution_count": 18,
     "metadata": {},
     "output_type": "execute_result"
    }
   ],
   "source": [
    "a = 10\n",
    "b = 20\n",
    "c = a + b\n",
    "c"
   ]
  },
  {
   "cell_type": "code",
   "execution_count": 19,
   "id": "c8d42588",
   "metadata": {},
   "outputs": [
    {
     "data": {
      "text/plain": [
       "200"
      ]
     },
     "execution_count": 19,
     "metadata": {},
     "output_type": "execute_result"
    }
   ],
   "source": [
    "a * b "
   ]
  },
  {
   "cell_type": "code",
   "execution_count": 20,
   "id": "0c8fcfd1",
   "metadata": {},
   "outputs": [],
   "source": [
    "f = 45.67"
   ]
  },
  {
   "cell_type": "code",
   "execution_count": 21,
   "id": "fac1cdb6",
   "metadata": {},
   "outputs": [
    {
     "data": {
      "text/plain": [
       "float"
      ]
     },
     "execution_count": 21,
     "metadata": {},
     "output_type": "execute_result"
    }
   ],
   "source": [
    "type(f)"
   ]
  },
  {
   "cell_type": "code",
   "execution_count": 22,
   "id": "aa44408d",
   "metadata": {},
   "outputs": [],
   "source": [
    "c = 7 + 8j # a complex number, conjugate of 7+8j is '7-8j' (negative sign in the imaginary part)"
   ]
  },
  {
   "cell_type": "code",
   "execution_count": 23,
   "id": "c73db854",
   "metadata": {},
   "outputs": [
    {
     "data": {
      "text/plain": [
       "complex"
      ]
     },
     "execution_count": 23,
     "metadata": {},
     "output_type": "execute_result"
    }
   ],
   "source": [
    "type(c) # complex"
   ]
  },
  {
   "cell_type": "code",
   "execution_count": 24,
   "id": "58c0fcd7",
   "metadata": {},
   "outputs": [
    {
     "data": {
      "text/plain": [
       "(7+8j)"
      ]
     },
     "execution_count": 24,
     "metadata": {},
     "output_type": "execute_result"
    }
   ],
   "source": [
    "c # diplayed the complex number"
   ]
  },
  {
   "cell_type": "code",
   "execution_count": 25,
   "id": "2056677f",
   "metadata": {},
   "outputs": [
    {
     "data": {
      "text/plain": [
       "7.0"
      ]
     },
     "execution_count": 25,
     "metadata": {},
     "output_type": "execute_result"
    }
   ],
   "source": [
    "c.real # real part of the complex number"
   ]
  },
  {
   "cell_type": "code",
   "execution_count": 26,
   "id": "fe40049a",
   "metadata": {},
   "outputs": [
    {
     "data": {
      "text/plain": [
       "8.0"
      ]
     },
     "execution_count": 26,
     "metadata": {},
     "output_type": "execute_result"
    }
   ],
   "source": [
    "c.imag # imaginary part of the complex number"
   ]
  },
  {
   "cell_type": "code",
   "execution_count": 27,
   "id": "77eb1ca4",
   "metadata": {},
   "outputs": [
    {
     "data": {
      "text/plain": [
       "<function complex.conjugate>"
      ]
     },
     "execution_count": 27,
     "metadata": {},
     "output_type": "execute_result"
    }
   ],
   "source": [
    "c.conjugate"
   ]
  },
  {
   "cell_type": "code",
   "execution_count": 28,
   "id": "a5754c7e",
   "metadata": {},
   "outputs": [
    {
     "data": {
      "text/plain": [
       "2"
      ]
     },
     "execution_count": 28,
     "metadata": {},
     "output_type": "execute_result"
    }
   ],
   "source": [
    "1 + 1"
   ]
  },
  {
   "cell_type": "code",
   "execution_count": 30,
   "id": "3ffd321b",
   "metadata": {},
   "outputs": [
    {
     "ename": "TypeError",
     "evalue": "unsupported operand type(s) for +: 'int' and 'str'",
     "output_type": "error",
     "traceback": [
      "\u001b[1;31m---------------------------------------------------------------------------\u001b[0m",
      "\u001b[1;31mTypeError\u001b[0m                                 Traceback (most recent call last)",
      "\u001b[1;32m~\\AppData\\Local\\Temp/ipykernel_45156/275535519.py\u001b[0m in \u001b[0;36m<module>\u001b[1;34m\u001b[0m\n\u001b[1;32m----> 1\u001b[1;33m \u001b[1;36m1\u001b[0m \u001b[1;33m+\u001b[0m \u001b[1;34m'Mindgraph'\u001b[0m \u001b[1;31m# Heterogenous Data Types\u001b[0m\u001b[1;33m\u001b[0m\u001b[1;33m\u001b[0m\u001b[0m\n\u001b[0m",
      "\u001b[1;31mTypeError\u001b[0m: unsupported operand type(s) for +: 'int' and 'str'"
     ]
    }
   ],
   "source": [
    "1 + 'Mindgraph' # Heterogenous Data Types"
   ]
  },
  {
   "cell_type": "code",
   "execution_count": 31,
   "id": "51106633",
   "metadata": {},
   "outputs": [
    {
     "data": {
      "text/plain": [
       "'1Mindgraph'"
      ]
     },
     "execution_count": 31,
     "metadata": {},
     "output_type": "execute_result"
    }
   ],
   "source": [
    "str(1) + 'Mindgraph'"
   ]
  },
  {
   "cell_type": "code",
   "execution_count": 33,
   "id": "60e08b38",
   "metadata": {},
   "outputs": [
    {
     "data": {
      "text/plain": [
       "'1'"
      ]
     },
     "execution_count": 33,
     "metadata": {},
     "output_type": "execute_result"
    }
   ],
   "source": [
    "str(1) # Type Casting - From integer to string"
   ]
  },
  {
   "cell_type": "markdown",
   "id": "b6295ae9",
   "metadata": {},
   "source": [
    "## Indexing "
   ]
  },
  {
   "cell_type": "markdown",
   "id": "cbd65e22",
   "metadata": {},
   "source": [
    "* Mindgraph\n",
    "    * Forward Indexing - 0, 1, 2, 3, 4, 5, 6, 7, 8\n",
    "    * Backward Indexing - -9, -8, -7, -6, -5, -4, -3, -2, -1"
   ]
  },
  {
   "cell_type": "markdown",
   "id": "3abf2d94",
   "metadata": {},
   "source": [
    "### Forward Indexing"
   ]
  },
  {
   "cell_type": "code",
   "execution_count": 34,
   "id": "2fa80607",
   "metadata": {},
   "outputs": [],
   "source": [
    "s = 'Mindgraph' # store"
   ]
  },
  {
   "cell_type": "code",
   "execution_count": 35,
   "id": "b715488c",
   "metadata": {},
   "outputs": [
    {
     "data": {
      "text/plain": [
       "'Mindgraph'"
      ]
     },
     "execution_count": 35,
     "metadata": {},
     "output_type": "execute_result"
    }
   ],
   "source": [
    "s # display or execute"
   ]
  },
  {
   "cell_type": "code",
   "execution_count": 36,
   "id": "303988d9",
   "metadata": {},
   "outputs": [
    {
     "data": {
      "text/plain": [
       "9"
      ]
     },
     "execution_count": 36,
     "metadata": {},
     "output_type": "execute_result"
    }
   ],
   "source": [
    "len(s) # length function"
   ]
  },
  {
   "cell_type": "code",
   "execution_count": 37,
   "id": "9b010d79",
   "metadata": {},
   "outputs": [
    {
     "data": {
      "text/plain": [
       "'M'"
      ]
     },
     "execution_count": 37,
     "metadata": {},
     "output_type": "execute_result"
    }
   ],
   "source": [
    "s[0]"
   ]
  },
  {
   "cell_type": "code",
   "execution_count": 38,
   "id": "d4515826",
   "metadata": {},
   "outputs": [
    {
     "data": {
      "text/plain": [
       "'h'"
      ]
     },
     "execution_count": 38,
     "metadata": {},
     "output_type": "execute_result"
    }
   ],
   "source": [
    "s[8]"
   ]
  },
  {
   "cell_type": "code",
   "execution_count": 39,
   "id": "088fa785",
   "metadata": {},
   "outputs": [
    {
     "ename": "IndexError",
     "evalue": "string index out of range",
     "output_type": "error",
     "traceback": [
      "\u001b[1;31m---------------------------------------------------------------------------\u001b[0m",
      "\u001b[1;31mIndexError\u001b[0m                                Traceback (most recent call last)",
      "\u001b[1;32m~\\AppData\\Local\\Temp/ipykernel_45156/3290760013.py\u001b[0m in \u001b[0;36m<module>\u001b[1;34m\u001b[0m\n\u001b[1;32m----> 1\u001b[1;33m \u001b[0ms\u001b[0m\u001b[1;33m[\u001b[0m\u001b[1;36m90\u001b[0m\u001b[1;33m]\u001b[0m\u001b[1;33m\u001b[0m\u001b[1;33m\u001b[0m\u001b[0m\n\u001b[0m",
      "\u001b[1;31mIndexError\u001b[0m: string index out of range"
     ]
    }
   ],
   "source": [
    "s[90] # string index out of range"
   ]
  },
  {
   "cell_type": "markdown",
   "id": "753831fb",
   "metadata": {},
   "source": [
    "### Backward Indexing"
   ]
  },
  {
   "cell_type": "code",
   "execution_count": 40,
   "id": "d9437550",
   "metadata": {},
   "outputs": [],
   "source": [
    "s = 'ByteIQ'"
   ]
  },
  {
   "cell_type": "code",
   "execution_count": 41,
   "id": "c6afa469",
   "metadata": {},
   "outputs": [
    {
     "data": {
      "text/plain": [
       "'e'"
      ]
     },
     "execution_count": 41,
     "metadata": {},
     "output_type": "execute_result"
    }
   ],
   "source": [
    "s[-3]"
   ]
  },
  {
   "cell_type": "code",
   "execution_count": 42,
   "id": "24189f09",
   "metadata": {},
   "outputs": [
    {
     "data": {
      "text/plain": [
       "'B'"
      ]
     },
     "execution_count": 42,
     "metadata": {},
     "output_type": "execute_result"
    }
   ],
   "source": [
    "s[-6]"
   ]
  },
  {
   "cell_type": "code",
   "execution_count": 43,
   "id": "0bbb3d13",
   "metadata": {},
   "outputs": [
    {
     "data": {
      "text/plain": [
       "'t'"
      ]
     },
     "execution_count": 43,
     "metadata": {},
     "output_type": "execute_result"
    }
   ],
   "source": [
    "s[-4]"
   ]
  },
  {
   "cell_type": "markdown",
   "id": "5195194c",
   "metadata": {},
   "source": [
    "## Slicing Operation"
   ]
  },
  {
   "cell_type": "code",
   "execution_count": 45,
   "id": "31e80a52",
   "metadata": {},
   "outputs": [],
   "source": [
    "s = 'Mindgraph Office'"
   ]
  },
  {
   "cell_type": "code",
   "execution_count": 46,
   "id": "5c9c8a5c",
   "metadata": {},
   "outputs": [
    {
     "data": {
      "text/plain": [
       "' '"
      ]
     },
     "execution_count": 46,
     "metadata": {},
     "output_type": "execute_result"
    }
   ],
   "source": [
    "s[9] # forward indexing"
   ]
  },
  {
   "cell_type": "code",
   "execution_count": 47,
   "id": "34107633",
   "metadata": {},
   "outputs": [
    {
     "data": {
      "text/plain": [
       "' '"
      ]
     },
     "execution_count": 47,
     "metadata": {},
     "output_type": "execute_result"
    }
   ],
   "source": [
    "s[-7] # backward indexing"
   ]
  },
  {
   "cell_type": "code",
   "execution_count": 48,
   "id": "f3c6985b",
   "metadata": {},
   "outputs": [
    {
     "data": {
      "text/plain": [
       "'O'"
      ]
     },
     "execution_count": 48,
     "metadata": {},
     "output_type": "execute_result"
    }
   ],
   "source": [
    "s[-6]"
   ]
  },
  {
   "cell_type": "code",
   "execution_count": 49,
   "id": "337de9c8",
   "metadata": {},
   "outputs": [
    {
     "data": {
      "text/plain": [
       "'Mindgraph Office'"
      ]
     },
     "execution_count": 49,
     "metadata": {},
     "output_type": "execute_result"
    }
   ],
   "source": [
    "s"
   ]
  },
  {
   "cell_type": "code",
   "execution_count": 51,
   "id": "f432924f",
   "metadata": {},
   "outputs": [
    {
     "data": {
      "text/plain": [
       "'Mindgraph'"
      ]
     },
     "execution_count": 51,
     "metadata": {},
     "output_type": "execute_result"
    }
   ],
   "source": [
    "s[0:9]"
   ]
  },
  {
   "cell_type": "code",
   "execution_count": 53,
   "id": "05be2661",
   "metadata": {},
   "outputs": [
    {
     "data": {
      "text/plain": [
       "'Office'"
      ]
     },
     "execution_count": 53,
     "metadata": {},
     "output_type": "execute_result"
    }
   ],
   "source": [
    "s[10:16]"
   ]
  },
  {
   "cell_type": "code",
   "execution_count": 54,
   "id": "93936784",
   "metadata": {},
   "outputs": [
    {
     "data": {
      "text/plain": [
       "'Mindgraph Office'"
      ]
     },
     "execution_count": 54,
     "metadata": {},
     "output_type": "execute_result"
    }
   ],
   "source": [
    "s[:]"
   ]
  },
  {
   "cell_type": "code",
   "execution_count": 55,
   "id": "79aa9e5f",
   "metadata": {},
   "outputs": [
    {
     "data": {
      "text/plain": [
       "'Mindgraph Office'"
      ]
     },
     "execution_count": 55,
     "metadata": {},
     "output_type": "execute_result"
    }
   ],
   "source": [
    "s[0:]"
   ]
  },
  {
   "cell_type": "code",
   "execution_count": 60,
   "id": "a8217097",
   "metadata": {},
   "outputs": [
    {
     "data": {
      "text/plain": [
       "'Mindgraph Office'"
      ]
     },
     "execution_count": 60,
     "metadata": {},
     "output_type": "execute_result"
    }
   ],
   "source": [
    "s[0:16]"
   ]
  },
  {
   "cell_type": "code",
   "execution_count": 61,
   "id": "ddfd242b",
   "metadata": {},
   "outputs": [
    {
     "data": {
      "text/plain": [
       "'Mindgraph Office'"
      ]
     },
     "execution_count": 61,
     "metadata": {},
     "output_type": "execute_result"
    }
   ],
   "source": [
    "s[0:16:1]"
   ]
  },
  {
   "cell_type": "code",
   "execution_count": 62,
   "id": "da80f8b7",
   "metadata": {},
   "outputs": [
    {
     "data": {
      "text/plain": [
       "'MngahOfc'"
      ]
     },
     "execution_count": 62,
     "metadata": {},
     "output_type": "execute_result"
    }
   ],
   "source": [
    "s[0:16:2]"
   ]
  },
  {
   "cell_type": "code",
   "execution_count": 63,
   "id": "eb8c2a38",
   "metadata": {},
   "outputs": [
    {
     "data": {
      "text/plain": [
       "'Mindgraph Office'"
      ]
     },
     "execution_count": 63,
     "metadata": {},
     "output_type": "execute_result"
    }
   ],
   "source": [
    "s"
   ]
  },
  {
   "cell_type": "code",
   "execution_count": 78,
   "id": "982b9b1a",
   "metadata": {},
   "outputs": [],
   "source": [
    "# s[lower_bound, upper_bound, skip]\n",
    "# s[start_point, end_point, jump or skip]"
   ]
  },
  {
   "cell_type": "code",
   "execution_count": 77,
   "id": "dc7c6ece",
   "metadata": {},
   "outputs": [
    {
     "data": {
      "text/plain": [
       "'Mindgraph Office'"
      ]
     },
     "execution_count": 77,
     "metadata": {},
     "output_type": "execute_result"
    }
   ],
   "source": [
    "s"
   ]
  },
  {
   "cell_type": "code",
   "execution_count": 79,
   "id": "3c31b0e9",
   "metadata": {},
   "outputs": [
    {
     "data": {
      "text/plain": [
       "'Mindgraph'"
      ]
     },
     "execution_count": 79,
     "metadata": {},
     "output_type": "execute_result"
    }
   ],
   "source": [
    "s[0:9] # slicing operation excludes the upper_bound (in this case the upper bound is 9)"
   ]
  },
  {
   "cell_type": "code",
   "execution_count": 80,
   "id": "994f6c72",
   "metadata": {},
   "outputs": [
    {
     "data": {
      "text/plain": [
       "' Office'"
      ]
     },
     "execution_count": 80,
     "metadata": {},
     "output_type": "execute_result"
    }
   ],
   "source": [
    "s[9:100] # In case of slicing operation, if the index is out of range, it will go till the end of the string."
   ]
  },
  {
   "cell_type": "code",
   "execution_count": 82,
   "id": "9f7c678f",
   "metadata": {},
   "outputs": [
    {
     "data": {
      "text/plain": [
       "'Mindgraph Office'"
      ]
     },
     "execution_count": 82,
     "metadata": {},
     "output_type": "execute_result"
    }
   ],
   "source": [
    "s[0:16:] # If nothing is specified in skip or jump, by default the jump is +1."
   ]
  },
  {
   "cell_type": "code",
   "execution_count": 83,
   "id": "119e5d58",
   "metadata": {},
   "outputs": [
    {
     "data": {
      "text/plain": [
       "'Mindgraph Office'"
      ]
     },
     "execution_count": 83,
     "metadata": {},
     "output_type": "execute_result"
    }
   ],
   "source": [
    "s[0:16:1] # jump = 1"
   ]
  },
  {
   "cell_type": "code",
   "execution_count": 84,
   "id": "0becdbd5",
   "metadata": {
    "scrolled": true
   },
   "outputs": [
    {
     "data": {
      "text/plain": [
       "'MngahOfc'"
      ]
     },
     "execution_count": 84,
     "metadata": {},
     "output_type": "execute_result"
    }
   ],
   "source": [
    "s[0:16:2] # start from 0, go till end, extract alternate characters."
   ]
  },
  {
   "cell_type": "code",
   "execution_count": 85,
   "id": "11397528",
   "metadata": {},
   "outputs": [
    {
     "data": {
      "text/plain": [
       "'Mda fe'"
      ]
     },
     "execution_count": 85,
     "metadata": {},
     "output_type": "execute_result"
    }
   ],
   "source": [
    "s[0:16:3]"
   ]
  },
  {
   "cell_type": "code",
   "execution_count": 86,
   "id": "e6d6cf9e",
   "metadata": {},
   "outputs": [
    {
     "data": {
      "text/plain": [
       "'MngahOfc'"
      ]
     },
     "execution_count": 86,
     "metadata": {},
     "output_type": "execute_result"
    }
   ],
   "source": [
    "s[::2]"
   ]
  },
  {
   "cell_type": "code",
   "execution_count": 87,
   "id": "6ad8aa38",
   "metadata": {},
   "outputs": [
    {
     "data": {
      "text/plain": [
       "'Mda fe'"
      ]
     },
     "execution_count": 87,
     "metadata": {},
     "output_type": "execute_result"
    }
   ],
   "source": [
    "s[::3]"
   ]
  },
  {
   "cell_type": "code",
   "execution_count": 88,
   "id": "bcaf8ef3",
   "metadata": {},
   "outputs": [
    {
     "data": {
      "text/plain": [
       "'eciffO hpargdniM'"
      ]
     },
     "execution_count": 88,
     "metadata": {},
     "output_type": "execute_result"
    }
   ],
   "source": [
    "s[::-1] # reverse order, no upper bound  or lower bound, the execution takes flow of the jump in the negative direction."
   ]
  },
  {
   "cell_type": "code",
   "execution_count": 91,
   "id": "fbd1e940",
   "metadata": {},
   "outputs": [
    {
     "data": {
      "text/plain": [
       "'M'"
      ]
     },
     "execution_count": 91,
     "metadata": {},
     "output_type": "execute_result"
    }
   ],
   "source": [
    "# it will start from the element at 0, since lower bound is 0, it will jump in negative direction to find the characters.\n",
    "s[0::-1] "
   ]
  },
  {
   "cell_type": "code",
   "execution_count": 90,
   "id": "0348ca7c",
   "metadata": {},
   "outputs": [
    {
     "data": {
      "text/plain": [
       "'iM'"
      ]
     },
     "execution_count": 90,
     "metadata": {},
     "output_type": "execute_result"
    }
   ],
   "source": [
    "s[1::-1]"
   ]
  },
  {
   "cell_type": "code",
   "execution_count": 92,
   "id": "d5b88a23",
   "metadata": {},
   "outputs": [
    {
     "data": {
      "text/plain": [
       "''"
      ]
     },
     "execution_count": 92,
     "metadata": {},
     "output_type": "execute_result"
    }
   ],
   "source": [
    "s[0:9:-1]"
   ]
  },
  {
   "cell_type": "code",
   "execution_count": 94,
   "id": "104ce8b7",
   "metadata": {},
   "outputs": [
    {
     "data": {
      "text/plain": [
       "'M'"
      ]
     },
     "execution_count": 94,
     "metadata": {},
     "output_type": "execute_result"
    }
   ],
   "source": [
    "s[-16::-1]"
   ]
  },
  {
   "cell_type": "code",
   "execution_count": 95,
   "id": "74b1e161",
   "metadata": {},
   "outputs": [
    {
     "data": {
      "text/plain": [
       "''"
      ]
     },
     "execution_count": 95,
     "metadata": {},
     "output_type": "execute_result"
    }
   ],
   "source": [
    "s[-16:-1:-1]"
   ]
  },
  {
   "cell_type": "code",
   "execution_count": 96,
   "id": "9c989b20",
   "metadata": {},
   "outputs": [
    {
     "data": {
      "text/plain": [
       "'Mindgraph Offic'"
      ]
     },
     "execution_count": 96,
     "metadata": {},
     "output_type": "execute_result"
    }
   ],
   "source": [
    "s[-16:-1:1]"
   ]
  },
  {
   "cell_type": "code",
   "execution_count": 97,
   "id": "39583d91",
   "metadata": {},
   "outputs": [
    {
     "data": {
      "text/plain": [
       "'Mindgraph Office'"
      ]
     },
     "execution_count": 97,
     "metadata": {},
     "output_type": "execute_result"
    }
   ],
   "source": [
    "s[-16::1]"
   ]
  },
  {
   "cell_type": "code",
   "execution_count": 99,
   "id": "6183d8a9",
   "metadata": {},
   "outputs": [
    {
     "data": {
      "text/plain": [
       "'raph Offic'"
      ]
     },
     "execution_count": 99,
     "metadata": {},
     "output_type": "execute_result"
    }
   ],
   "source": [
    "s[5:-1]"
   ]
  },
  {
   "cell_type": "code",
   "execution_count": 100,
   "id": "95c6dd2b",
   "metadata": {},
   "outputs": [
    {
     "data": {
      "text/plain": [
       "''"
      ]
     },
     "execution_count": 100,
     "metadata": {},
     "output_type": "execute_result"
    }
   ],
   "source": [
    "s[5:-16]"
   ]
  },
  {
   "cell_type": "code",
   "execution_count": 101,
   "id": "0fa771fe",
   "metadata": {},
   "outputs": [
    {
     "data": {
      "text/plain": [
       "'rgdni'"
      ]
     },
     "execution_count": 101,
     "metadata": {},
     "output_type": "execute_result"
    }
   ],
   "source": [
    "s[5:-16:-1]"
   ]
  },
  {
   "cell_type": "code",
   "execution_count": 102,
   "id": "d93f6031",
   "metadata": {},
   "outputs": [
    {
     "data": {
      "text/plain": [
       "''"
      ]
     },
     "execution_count": 102,
     "metadata": {},
     "output_type": "execute_result"
    }
   ],
   "source": [
    "s[5:-1:-1]"
   ]
  }
 ],
 "metadata": {
  "kernelspec": {
   "display_name": "Python 3 (ipykernel)",
   "language": "python",
   "name": "python3"
  },
  "language_info": {
   "codemirror_mode": {
    "name": "ipython",
    "version": 3
   },
   "file_extension": ".py",
   "mimetype": "text/x-python",
   "name": "python",
   "nbconvert_exporter": "python",
   "pygments_lexer": "ipython3",
   "version": "3.9.7"
  }
 },
 "nbformat": 4,
 "nbformat_minor": 5
}
