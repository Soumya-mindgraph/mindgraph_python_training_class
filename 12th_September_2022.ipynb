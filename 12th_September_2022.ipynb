{
 "cells": [
  {
   "cell_type": "markdown",
   "id": "32c322d7",
   "metadata": {},
   "source": [
    "### Variable"
   ]
  },
  {
   "cell_type": "code",
   "execution_count": 1,
   "id": "aa76e229",
   "metadata": {},
   "outputs": [],
   "source": [
    "a = 10 # a is a variable that will contain value of 10"
   ]
  },
  {
   "cell_type": "code",
   "execution_count": 2,
   "id": "30fadf1e",
   "metadata": {},
   "outputs": [
    {
     "data": {
      "text/plain": [
       "10"
      ]
     },
     "execution_count": 2,
     "metadata": {},
     "output_type": "execute_result"
    }
   ],
   "source": [
    "a"
   ]
  },
  {
   "cell_type": "code",
   "execution_count": 3,
   "id": "2f1494d2",
   "metadata": {},
   "outputs": [],
   "source": [
    "a = 20"
   ]
  },
  {
   "cell_type": "code",
   "execution_count": 4,
   "id": "81fef8b8",
   "metadata": {},
   "outputs": [
    {
     "data": {
      "text/plain": [
       "20"
      ]
     },
     "execution_count": 4,
     "metadata": {},
     "output_type": "execute_result"
    }
   ],
   "source": [
    "a"
   ]
  },
  {
   "cell_type": "code",
   "execution_count": 5,
   "id": "e37450de",
   "metadata": {},
   "outputs": [
    {
     "data": {
      "text/plain": [
       "int"
      ]
     },
     "execution_count": 5,
     "metadata": {},
     "output_type": "execute_result"
    }
   ],
   "source": [
    "type(a)"
   ]
  },
  {
   "cell_type": "code",
   "execution_count": 6,
   "id": "ce56f3cb",
   "metadata": {},
   "outputs": [],
   "source": [
    "b = \"Mindgraph\""
   ]
  },
  {
   "cell_type": "code",
   "execution_count": 7,
   "id": "5e2b78bf",
   "metadata": {},
   "outputs": [
    {
     "data": {
      "text/plain": [
       "str"
      ]
     },
     "execution_count": 7,
     "metadata": {},
     "output_type": "execute_result"
    }
   ],
   "source": [
    "type(b)"
   ]
  },
  {
   "cell_type": "code",
   "execution_count": 8,
   "id": "b0887d40",
   "metadata": {},
   "outputs": [],
   "source": [
    "c = 'Mindgraph'"
   ]
  },
  {
   "cell_type": "code",
   "execution_count": 9,
   "id": "801a3d3b",
   "metadata": {},
   "outputs": [
    {
     "data": {
      "text/plain": [
       "str"
      ]
     },
     "execution_count": 9,
     "metadata": {},
     "output_type": "execute_result"
    }
   ],
   "source": [
    "type(c)"
   ]
  },
  {
   "cell_type": "markdown",
   "id": "788adaad",
   "metadata": {},
   "source": [
    "* in python we do not have data type as 'char'"
   ]
  },
  {
   "cell_type": "code",
   "execution_count": 10,
   "id": "4a1dae15",
   "metadata": {},
   "outputs": [],
   "source": [
    "Mindgraph = \"Mindgraph\""
   ]
  },
  {
   "cell_type": "code",
   "execution_count": 11,
   "id": "1b3a8e3b",
   "metadata": {},
   "outputs": [
    {
     "data": {
      "text/plain": [
       "'Mindgraph'"
      ]
     },
     "execution_count": 11,
     "metadata": {},
     "output_type": "execute_result"
    }
   ],
   "source": [
    "Mindgraph"
   ]
  },
  {
   "cell_type": "code",
   "execution_count": 12,
   "id": "e915d5b3",
   "metadata": {},
   "outputs": [
    {
     "data": {
      "text/plain": [
       "str"
      ]
     },
     "execution_count": 12,
     "metadata": {},
     "output_type": "execute_result"
    }
   ],
   "source": [
    "type(Mindgraph)"
   ]
  },
  {
   "cell_type": "markdown",
   "id": "6f162e39",
   "metadata": {},
   "source": [
    "### simple arithmetic operations"
   ]
  },
  {
   "cell_type": "code",
   "execution_count": 13,
   "id": "23964aca",
   "metadata": {},
   "outputs": [
    {
     "data": {
      "text/plain": [
       "30"
      ]
     },
     "execution_count": 13,
     "metadata": {},
     "output_type": "execute_result"
    }
   ],
   "source": [
    "a = 10\n",
    "b = 20\n",
    "c = a + b\n",
    "c"
   ]
  },
  {
   "cell_type": "code",
   "execution_count": 14,
   "id": "48a72b05",
   "metadata": {},
   "outputs": [
    {
     "data": {
      "text/plain": [
       "200"
      ]
     },
     "execution_count": 14,
     "metadata": {},
     "output_type": "execute_result"
    }
   ],
   "source": [
    "a * b "
   ]
  },
  {
   "cell_type": "code",
   "execution_count": 15,
   "id": "8acc64ea",
   "metadata": {},
   "outputs": [],
   "source": [
    "f = 45.67"
   ]
  },
  {
   "cell_type": "code",
   "execution_count": 16,
   "id": "7843c373",
   "metadata": {},
   "outputs": [
    {
     "data": {
      "text/plain": [
       "float"
      ]
     },
     "execution_count": 16,
     "metadata": {},
     "output_type": "execute_result"
    }
   ],
   "source": [
    "type(f)"
   ]
  },
  {
   "cell_type": "code",
   "execution_count": 17,
   "id": "09520c57",
   "metadata": {},
   "outputs": [],
   "source": [
    "c = 7 + 8j # a complex number, conjugate of 7+8j is '7-8j' (negative sign in the imaginary part)"
   ]
  },
  {
   "cell_type": "code",
   "execution_count": 18,
   "id": "eece6ad5",
   "metadata": {},
   "outputs": [
    {
     "data": {
      "text/plain": [
       "complex"
      ]
     },
     "execution_count": 18,
     "metadata": {},
     "output_type": "execute_result"
    }
   ],
   "source": [
    "type(c) # complex"
   ]
  },
  {
   "cell_type": "code",
   "execution_count": 19,
   "id": "cfe68c5a",
   "metadata": {},
   "outputs": [
    {
     "data": {
      "text/plain": [
       "(7+8j)"
      ]
     },
     "execution_count": 19,
     "metadata": {},
     "output_type": "execute_result"
    }
   ],
   "source": [
    "c # diplayed the complex number"
   ]
  },
  {
   "cell_type": "code",
   "execution_count": 20,
   "id": "812b2a53",
   "metadata": {},
   "outputs": [
    {
     "data": {
      "text/plain": [
       "7.0"
      ]
     },
     "execution_count": 20,
     "metadata": {},
     "output_type": "execute_result"
    }
   ],
   "source": [
    "c.real # real part of the complex number"
   ]
  },
  {
   "cell_type": "code",
   "execution_count": 21,
   "id": "8f2de15e",
   "metadata": {},
   "outputs": [
    {
     "data": {
      "text/plain": [
       "8.0"
      ]
     },
     "execution_count": 21,
     "metadata": {},
     "output_type": "execute_result"
    }
   ],
   "source": [
    "c.imag # imaginary part of the complex number"
   ]
  },
  {
   "cell_type": "code",
   "execution_count": 22,
   "id": "ccfb1f0d",
   "metadata": {},
   "outputs": [
    {
     "data": {
      "text/plain": [
       "<function complex.conjugate>"
      ]
     },
     "execution_count": 22,
     "metadata": {},
     "output_type": "execute_result"
    }
   ],
   "source": [
    "c.conjugate"
   ]
  },
  {
   "cell_type": "code",
   "execution_count": 23,
   "id": "33f52490",
   "metadata": {},
   "outputs": [
    {
     "data": {
      "text/plain": [
       "2"
      ]
     },
     "execution_count": 23,
     "metadata": {},
     "output_type": "execute_result"
    }
   ],
   "source": [
    "1 + 1"
   ]
  },
  {
   "cell_type": "code",
   "execution_count": 24,
   "id": "8ec9d66d",
   "metadata": {},
   "outputs": [
    {
     "ename": "TypeError",
     "evalue": "unsupported operand type(s) for +: 'int' and 'str'",
     "output_type": "error",
     "traceback": [
      "\u001b[1;31m---------------------------------------------------------------------------\u001b[0m",
      "\u001b[1;31mTypeError\u001b[0m                                 Traceback (most recent call last)",
      "\u001b[1;32m~\\AppData\\Local\\Temp/ipykernel_61748/275535519.py\u001b[0m in \u001b[0;36m<module>\u001b[1;34m\u001b[0m\n\u001b[1;32m----> 1\u001b[1;33m \u001b[1;36m1\u001b[0m \u001b[1;33m+\u001b[0m \u001b[1;34m'Mindgraph'\u001b[0m \u001b[1;31m# Heterogenous Data Types\u001b[0m\u001b[1;33m\u001b[0m\u001b[1;33m\u001b[0m\u001b[0m\n\u001b[0m",
      "\u001b[1;31mTypeError\u001b[0m: unsupported operand type(s) for +: 'int' and 'str'"
     ]
    }
   ],
   "source": [
    "1 + 'Mindgraph' # Heterogenous Data Types"
   ]
  },
  {
   "cell_type": "code",
   "execution_count": null,
   "id": "a15c5f59",
   "metadata": {},
   "outputs": [],
   "source": [
    "str(1) + 'Mindgraph'"
   ]
  },
  {
   "cell_type": "code",
   "execution_count": null,
   "id": "66ccb397",
   "metadata": {},
   "outputs": [],
   "source": [
    "str(1) # Type Casting - From integer to string"
   ]
  },
  {
   "cell_type": "markdown",
   "id": "52b1c379",
   "metadata": {},
   "source": [
    "## Indexing "
   ]
  },
  {
   "cell_type": "markdown",
   "id": "b97fccce",
   "metadata": {},
   "source": [
    "* Mindgraph\n",
    "    * Forward Indexing - 0, 1, 2, 3, 4, 5, 6, 7, 8\n",
    "    * Backward Indexing - -9, -8, -7, -6, -5, -4, -3, -2, -1"
   ]
  },
  {
   "cell_type": "markdown",
   "id": "4697be22",
   "metadata": {},
   "source": [
    "### Forward Indexing"
   ]
  },
  {
   "cell_type": "code",
   "execution_count": 25,
   "id": "4d4f34d2",
   "metadata": {},
   "outputs": [],
   "source": [
    "s = 'Mindgraph' # store"
   ]
  },
  {
   "cell_type": "code",
   "execution_count": 26,
   "id": "ffbe8ccf",
   "metadata": {},
   "outputs": [
    {
     "data": {
      "text/plain": [
       "'Mindgraph'"
      ]
     },
     "execution_count": 26,
     "metadata": {},
     "output_type": "execute_result"
    }
   ],
   "source": [
    "s # display or execute"
   ]
  },
  {
   "cell_type": "code",
   "execution_count": 27,
   "id": "e8db155b",
   "metadata": {},
   "outputs": [
    {
     "data": {
      "text/plain": [
       "9"
      ]
     },
     "execution_count": 27,
     "metadata": {},
     "output_type": "execute_result"
    }
   ],
   "source": [
    "len(s) # length function"
   ]
  },
  {
   "cell_type": "code",
   "execution_count": 28,
   "id": "598c3632",
   "metadata": {},
   "outputs": [
    {
     "data": {
      "text/plain": [
       "'M'"
      ]
     },
     "execution_count": 28,
     "metadata": {},
     "output_type": "execute_result"
    }
   ],
   "source": [
    "s[0]"
   ]
  },
  {
   "cell_type": "code",
   "execution_count": 29,
   "id": "e7d1e443",
   "metadata": {},
   "outputs": [
    {
     "data": {
      "text/plain": [
       "'h'"
      ]
     },
     "execution_count": 29,
     "metadata": {},
     "output_type": "execute_result"
    }
   ],
   "source": [
    "s[8]"
   ]
  },
  {
   "cell_type": "code",
   "execution_count": 30,
   "id": "281255cc",
   "metadata": {},
   "outputs": [
    {
     "ename": "IndexError",
     "evalue": "string index out of range",
     "output_type": "error",
     "traceback": [
      "\u001b[1;31m---------------------------------------------------------------------------\u001b[0m",
      "\u001b[1;31mIndexError\u001b[0m                                Traceback (most recent call last)",
      "\u001b[1;32m~\\AppData\\Local\\Temp/ipykernel_61748/1829066243.py\u001b[0m in \u001b[0;36m<module>\u001b[1;34m\u001b[0m\n\u001b[1;32m----> 1\u001b[1;33m \u001b[0ms\u001b[0m\u001b[1;33m[\u001b[0m\u001b[1;36m90\u001b[0m\u001b[1;33m]\u001b[0m \u001b[1;31m# string index out of range\u001b[0m\u001b[1;33m\u001b[0m\u001b[1;33m\u001b[0m\u001b[0m\n\u001b[0m",
      "\u001b[1;31mIndexError\u001b[0m: string index out of range"
     ]
    }
   ],
   "source": [
    "s[90] # string index out of range"
   ]
  },
  {
   "cell_type": "markdown",
   "id": "03252697",
   "metadata": {},
   "source": [
    "### Backward Indexing"
   ]
  },
  {
   "cell_type": "code",
   "execution_count": 31,
   "id": "7eb1622e",
   "metadata": {},
   "outputs": [],
   "source": [
    "s = 'ByteIQ'"
   ]
  },
  {
   "cell_type": "code",
   "execution_count": 32,
   "id": "84274319",
   "metadata": {},
   "outputs": [
    {
     "data": {
      "text/plain": [
       "'e'"
      ]
     },
     "execution_count": 32,
     "metadata": {},
     "output_type": "execute_result"
    }
   ],
   "source": [
    "s[-3]"
   ]
  },
  {
   "cell_type": "code",
   "execution_count": 34,
   "id": "ccf1f90d",
   "metadata": {},
   "outputs": [
    {
     "data": {
      "text/plain": [
       "'B'"
      ]
     },
     "execution_count": 34,
     "metadata": {},
     "output_type": "execute_result"
    }
   ],
   "source": [
    "s[-6]"
   ]
  },
  {
   "cell_type": "code",
   "execution_count": 35,
   "id": "a32b4ba6",
   "metadata": {},
   "outputs": [
    {
     "data": {
      "text/plain": [
       "'t'"
      ]
     },
     "execution_count": 35,
     "metadata": {},
     "output_type": "execute_result"
    }
   ],
   "source": [
    "s[-4]"
   ]
  },
  {
   "cell_type": "markdown",
   "id": "8d13cb88",
   "metadata": {},
   "source": [
    "## Slicing Operation"
   ]
  },
  {
   "cell_type": "code",
   "execution_count": 36,
   "id": "89274985",
   "metadata": {},
   "outputs": [],
   "source": [
    "s = 'Mindgraph Office'"
   ]
  },
  {
   "cell_type": "code",
   "execution_count": 37,
   "id": "7ece0396",
   "metadata": {},
   "outputs": [
    {
     "data": {
      "text/plain": [
       "' '"
      ]
     },
     "execution_count": 37,
     "metadata": {},
     "output_type": "execute_result"
    }
   ],
   "source": [
    "s[9] # forward indexing"
   ]
  },
  {
   "cell_type": "code",
   "execution_count": 38,
   "id": "e152c976",
   "metadata": {},
   "outputs": [
    {
     "data": {
      "text/plain": [
       "' '"
      ]
     },
     "execution_count": 38,
     "metadata": {},
     "output_type": "execute_result"
    }
   ],
   "source": [
    "s[-7] # backward indexing"
   ]
  },
  {
   "cell_type": "code",
   "execution_count": 39,
   "id": "357491b2",
   "metadata": {},
   "outputs": [
    {
     "data": {
      "text/plain": [
       "'O'"
      ]
     },
     "execution_count": 39,
     "metadata": {},
     "output_type": "execute_result"
    }
   ],
   "source": [
    "s[-6]"
   ]
  },
  {
   "cell_type": "code",
   "execution_count": 40,
   "id": "1ef0905e",
   "metadata": {},
   "outputs": [
    {
     "data": {
      "text/plain": [
       "'Mindgraph Office'"
      ]
     },
     "execution_count": 40,
     "metadata": {},
     "output_type": "execute_result"
    }
   ],
   "source": [
    "s"
   ]
  },
  {
   "cell_type": "code",
   "execution_count": 41,
   "id": "64d44c96",
   "metadata": {},
   "outputs": [
    {
     "data": {
      "text/plain": [
       "'Mindgraph'"
      ]
     },
     "execution_count": 41,
     "metadata": {},
     "output_type": "execute_result"
    }
   ],
   "source": [
    "s[0:9]"
   ]
  },
  {
   "cell_type": "code",
   "execution_count": 42,
   "id": "55d4b66d",
   "metadata": {},
   "outputs": [
    {
     "data": {
      "text/plain": [
       "'Office'"
      ]
     },
     "execution_count": 42,
     "metadata": {},
     "output_type": "execute_result"
    }
   ],
   "source": [
    "s[10:16]"
   ]
  },
  {
   "cell_type": "code",
   "execution_count": 43,
   "id": "0a05e9a7",
   "metadata": {},
   "outputs": [
    {
     "data": {
      "text/plain": [
       "'Mindgraph Office'"
      ]
     },
     "execution_count": 43,
     "metadata": {},
     "output_type": "execute_result"
    }
   ],
   "source": [
    "s[:]"
   ]
  },
  {
   "cell_type": "code",
   "execution_count": 44,
   "id": "6e0b4d03",
   "metadata": {},
   "outputs": [
    {
     "data": {
      "text/plain": [
       "'Mindgraph Office'"
      ]
     },
     "execution_count": 44,
     "metadata": {},
     "output_type": "execute_result"
    }
   ],
   "source": [
    "s[0:]"
   ]
  },
  {
   "cell_type": "code",
   "execution_count": 45,
   "id": "5865442e",
   "metadata": {},
   "outputs": [
    {
     "data": {
      "text/plain": [
       "'Mindgraph Office'"
      ]
     },
     "execution_count": 45,
     "metadata": {},
     "output_type": "execute_result"
    }
   ],
   "source": [
    "s[0:16]"
   ]
  },
  {
   "cell_type": "code",
   "execution_count": 46,
   "id": "17d2e792",
   "metadata": {},
   "outputs": [
    {
     "data": {
      "text/plain": [
       "'Mindgraph Office'"
      ]
     },
     "execution_count": 46,
     "metadata": {},
     "output_type": "execute_result"
    }
   ],
   "source": [
    "s[0:16:1]"
   ]
  },
  {
   "cell_type": "code",
   "execution_count": 47,
   "id": "f33908fe",
   "metadata": {},
   "outputs": [
    {
     "data": {
      "text/plain": [
       "'MngahOfc'"
      ]
     },
     "execution_count": 47,
     "metadata": {},
     "output_type": "execute_result"
    }
   ],
   "source": [
    "s[0:16:2]"
   ]
  },
  {
   "cell_type": "code",
   "execution_count": 48,
   "id": "5d847ea8",
   "metadata": {},
   "outputs": [
    {
     "data": {
      "text/plain": [
       "'Mindgraph Office'"
      ]
     },
     "execution_count": 48,
     "metadata": {},
     "output_type": "execute_result"
    }
   ],
   "source": [
    "s"
   ]
  },
  {
   "cell_type": "code",
   "execution_count": 49,
   "id": "bb9d0538",
   "metadata": {},
   "outputs": [],
   "source": [
    "# s[lower_bound, upper_bound, skip]\n",
    "# s[start_point, end_point, jump or skip]"
   ]
  },
  {
   "cell_type": "code",
   "execution_count": 50,
   "id": "7f3a3a37",
   "metadata": {},
   "outputs": [
    {
     "data": {
      "text/plain": [
       "'Mindgraph Office'"
      ]
     },
     "execution_count": 50,
     "metadata": {},
     "output_type": "execute_result"
    }
   ],
   "source": [
    "s"
   ]
  },
  {
   "cell_type": "code",
   "execution_count": 51,
   "id": "3cd04e21",
   "metadata": {},
   "outputs": [
    {
     "data": {
      "text/plain": [
       "'Mindgraph'"
      ]
     },
     "execution_count": 51,
     "metadata": {},
     "output_type": "execute_result"
    }
   ],
   "source": [
    "s[0:9] # slicing operation excludes the upper_bound (in this case the upper bound is 9)"
   ]
  },
  {
   "cell_type": "code",
   "execution_count": 52,
   "id": "58ea6e3d",
   "metadata": {},
   "outputs": [
    {
     "data": {
      "text/plain": [
       "' Office'"
      ]
     },
     "execution_count": 52,
     "metadata": {},
     "output_type": "execute_result"
    }
   ],
   "source": [
    "s[9:100] # In case of slicing operation, if the index is out of range, it will go till the end of the string."
   ]
  },
  {
   "cell_type": "code",
   "execution_count": 53,
   "id": "40aca898",
   "metadata": {},
   "outputs": [
    {
     "data": {
      "text/plain": [
       "'Mindgraph Office'"
      ]
     },
     "execution_count": 53,
     "metadata": {},
     "output_type": "execute_result"
    }
   ],
   "source": [
    "s[0:16:] # If nothing is specified in skip or jump, by default the jump is +1."
   ]
  },
  {
   "cell_type": "code",
   "execution_count": 54,
   "id": "8caf872d",
   "metadata": {},
   "outputs": [
    {
     "data": {
      "text/plain": [
       "'Mindgraph Office'"
      ]
     },
     "execution_count": 54,
     "metadata": {},
     "output_type": "execute_result"
    }
   ],
   "source": [
    "s[0:16:1] # jump = 1"
   ]
  },
  {
   "cell_type": "code",
   "execution_count": 55,
   "id": "8b08b0bc",
   "metadata": {
    "scrolled": true
   },
   "outputs": [
    {
     "data": {
      "text/plain": [
       "'MngahOfc'"
      ]
     },
     "execution_count": 55,
     "metadata": {},
     "output_type": "execute_result"
    }
   ],
   "source": [
    "s[0:16:2] # start from 0, go till end, extract alternate characters."
   ]
  },
  {
   "cell_type": "code",
   "execution_count": 56,
   "id": "5863d449",
   "metadata": {},
   "outputs": [
    {
     "data": {
      "text/plain": [
       "'Mda fe'"
      ]
     },
     "execution_count": 56,
     "metadata": {},
     "output_type": "execute_result"
    }
   ],
   "source": [
    "s[0:16:3]"
   ]
  },
  {
   "cell_type": "code",
   "execution_count": 57,
   "id": "095674ab",
   "metadata": {},
   "outputs": [
    {
     "data": {
      "text/plain": [
       "'MngahOfc'"
      ]
     },
     "execution_count": 57,
     "metadata": {},
     "output_type": "execute_result"
    }
   ],
   "source": [
    "s[::2]"
   ]
  },
  {
   "cell_type": "code",
   "execution_count": 58,
   "id": "9cd34768",
   "metadata": {},
   "outputs": [
    {
     "data": {
      "text/plain": [
       "'Mda fe'"
      ]
     },
     "execution_count": 58,
     "metadata": {},
     "output_type": "execute_result"
    }
   ],
   "source": [
    "s[::3]"
   ]
  },
  {
   "cell_type": "code",
   "execution_count": 59,
   "id": "97081d9c",
   "metadata": {},
   "outputs": [
    {
     "data": {
      "text/plain": [
       "'eciffO hpargdniM'"
      ]
     },
     "execution_count": 59,
     "metadata": {},
     "output_type": "execute_result"
    }
   ],
   "source": [
    "s[::-1] # reverse order, no upper bound  or lower bound, the execution takes flow of the jump in the negative direction."
   ]
  },
  {
   "cell_type": "code",
   "execution_count": 60,
   "id": "5e3306dd",
   "metadata": {},
   "outputs": [
    {
     "data": {
      "text/plain": [
       "'M'"
      ]
     },
     "execution_count": 60,
     "metadata": {},
     "output_type": "execute_result"
    }
   ],
   "source": [
    "# it will start from the element at 0, since lower bound is 0, it will jump in negative direction to find the characters.\n",
    "s[0::-1] "
   ]
  },
  {
   "cell_type": "code",
   "execution_count": 61,
   "id": "8f6e5a97",
   "metadata": {},
   "outputs": [
    {
     "data": {
      "text/plain": [
       "'iM'"
      ]
     },
     "execution_count": 61,
     "metadata": {},
     "output_type": "execute_result"
    }
   ],
   "source": [
    "s[1::-1]"
   ]
  },
  {
   "cell_type": "code",
   "execution_count": 62,
   "id": "ee5d93b8",
   "metadata": {},
   "outputs": [
    {
     "data": {
      "text/plain": [
       "''"
      ]
     },
     "execution_count": 62,
     "metadata": {},
     "output_type": "execute_result"
    }
   ],
   "source": [
    "s[0:9:-1]"
   ]
  },
  {
   "cell_type": "code",
   "execution_count": 63,
   "id": "ff5168b7",
   "metadata": {},
   "outputs": [
    {
     "data": {
      "text/plain": [
       "'M'"
      ]
     },
     "execution_count": 63,
     "metadata": {},
     "output_type": "execute_result"
    }
   ],
   "source": [
    "s[-16::-1]"
   ]
  },
  {
   "cell_type": "code",
   "execution_count": 64,
   "id": "a7f1cb75",
   "metadata": {},
   "outputs": [
    {
     "data": {
      "text/plain": [
       "''"
      ]
     },
     "execution_count": 64,
     "metadata": {},
     "output_type": "execute_result"
    }
   ],
   "source": [
    "s[-16:-1:-1]"
   ]
  },
  {
   "cell_type": "code",
   "execution_count": 65,
   "id": "9e6c83ca",
   "metadata": {},
   "outputs": [
    {
     "data": {
      "text/plain": [
       "'Mindgraph Offic'"
      ]
     },
     "execution_count": 65,
     "metadata": {},
     "output_type": "execute_result"
    }
   ],
   "source": [
    "s[-16:-1:1]"
   ]
  },
  {
   "cell_type": "code",
   "execution_count": 66,
   "id": "05134df1",
   "metadata": {},
   "outputs": [
    {
     "data": {
      "text/plain": [
       "'Mindgraph Office'"
      ]
     },
     "execution_count": 66,
     "metadata": {},
     "output_type": "execute_result"
    }
   ],
   "source": [
    "s[-16::1]"
   ]
  },
  {
   "cell_type": "code",
   "execution_count": 67,
   "id": "2bb91ee8",
   "metadata": {},
   "outputs": [
    {
     "data": {
      "text/plain": [
       "'raph Offic'"
      ]
     },
     "execution_count": 67,
     "metadata": {},
     "output_type": "execute_result"
    }
   ],
   "source": [
    "s[5:-1]"
   ]
  },
  {
   "cell_type": "code",
   "execution_count": 68,
   "id": "2c5e8f60",
   "metadata": {},
   "outputs": [
    {
     "data": {
      "text/plain": [
       "''"
      ]
     },
     "execution_count": 68,
     "metadata": {},
     "output_type": "execute_result"
    }
   ],
   "source": [
    "s[5:-16]"
   ]
  },
  {
   "cell_type": "code",
   "execution_count": 69,
   "id": "050247a2",
   "metadata": {},
   "outputs": [
    {
     "data": {
      "text/plain": [
       "'rgdni'"
      ]
     },
     "execution_count": 69,
     "metadata": {},
     "output_type": "execute_result"
    }
   ],
   "source": [
    "s[5:-16:-1]"
   ]
  },
  {
   "cell_type": "code",
   "execution_count": 70,
   "id": "f0323132",
   "metadata": {},
   "outputs": [
    {
     "data": {
      "text/plain": [
       "''"
      ]
     },
     "execution_count": 70,
     "metadata": {},
     "output_type": "execute_result"
    }
   ],
   "source": [
    "s[5:-1:-1]"
   ]
  },
  {
   "cell_type": "code",
   "execution_count": 71,
   "id": "16757b93",
   "metadata": {},
   "outputs": [
    {
     "ename": "TypeError",
     "evalue": "can only concatenate str (not \"int\") to str",
     "output_type": "error",
     "traceback": [
      "\u001b[1;31m---------------------------------------------------------------------------\u001b[0m",
      "\u001b[1;31mTypeError\u001b[0m                                 Traceback (most recent call last)",
      "\u001b[1;32m~\\AppData\\Local\\Temp/ipykernel_61748/3619353408.py\u001b[0m in \u001b[0;36m<module>\u001b[1;34m\u001b[0m\n\u001b[1;32m----> 1\u001b[1;33m \u001b[1;34m\"Mindgraph\"\u001b[0m \u001b[1;33m+\u001b[0m \u001b[1;36m10\u001b[0m\u001b[1;33m\u001b[0m\u001b[1;33m\u001b[0m\u001b[0m\n\u001b[0m",
      "\u001b[1;31mTypeError\u001b[0m: can only concatenate str (not \"int\") to str"
     ]
    }
   ],
   "source": [
    "\"Mindgraph\" + 10"
   ]
  },
  {
   "cell_type": "code",
   "execution_count": 72,
   "id": "9e35bdc1",
   "metadata": {},
   "outputs": [
    {
     "ename": "TypeError",
     "evalue": "unsupported operand type(s) for -: 'str' and 'int'",
     "output_type": "error",
     "traceback": [
      "\u001b[1;31m---------------------------------------------------------------------------\u001b[0m",
      "\u001b[1;31mTypeError\u001b[0m                                 Traceback (most recent call last)",
      "\u001b[1;32m~\\AppData\\Local\\Temp/ipykernel_61748/4233797815.py\u001b[0m in \u001b[0;36m<module>\u001b[1;34m\u001b[0m\n\u001b[1;32m----> 1\u001b[1;33m \u001b[1;34m\"Mindgraph\"\u001b[0m \u001b[1;33m-\u001b[0m \u001b[1;36m10\u001b[0m\u001b[1;33m\u001b[0m\u001b[1;33m\u001b[0m\u001b[0m\n\u001b[0m",
      "\u001b[1;31mTypeError\u001b[0m: unsupported operand type(s) for -: 'str' and 'int'"
     ]
    }
   ],
   "source": [
    "\"Mindgraph\" - 10"
   ]
  },
  {
   "cell_type": "code",
   "execution_count": 73,
   "id": "76cec9a8",
   "metadata": {},
   "outputs": [
    {
     "data": {
      "text/plain": [
       "'Mindgraph Mindgraph Mindgraph Mindgraph Mindgraph Mindgraph Mindgraph Mindgraph Mindgraph Mindgraph '"
      ]
     },
     "execution_count": 73,
     "metadata": {},
     "output_type": "execute_result"
    }
   ],
   "source": [
    "\"Mindgraph \" * 10"
   ]
  },
  {
   "cell_type": "code",
   "execution_count": 74,
   "id": "f966ab4a",
   "metadata": {},
   "outputs": [
    {
     "ename": "TypeError",
     "evalue": "unsupported operand type(s) for /: 'str' and 'int'",
     "output_type": "error",
     "traceback": [
      "\u001b[1;31m---------------------------------------------------------------------------\u001b[0m",
      "\u001b[1;31mTypeError\u001b[0m                                 Traceback (most recent call last)",
      "\u001b[1;32m~\\AppData\\Local\\Temp/ipykernel_61748/2719477834.py\u001b[0m in \u001b[0;36m<module>\u001b[1;34m\u001b[0m\n\u001b[1;32m----> 1\u001b[1;33m \u001b[1;34m\"Mindgraph\"\u001b[0m \u001b[1;33m/\u001b[0m \u001b[1;36m10\u001b[0m\u001b[1;33m\u001b[0m\u001b[1;33m\u001b[0m\u001b[0m\n\u001b[0m",
      "\u001b[1;31mTypeError\u001b[0m: unsupported operand type(s) for /: 'str' and 'int'"
     ]
    }
   ],
   "source": [
    "\"Mindgraph\" / 10"
   ]
  },
  {
   "cell_type": "code",
   "execution_count": 75,
   "id": "70ccae13",
   "metadata": {},
   "outputs": [],
   "source": [
    "string = \"My name is Shubha, I work for Mindgraph & ByteIQ.\""
   ]
  },
  {
   "cell_type": "code",
   "execution_count": 76,
   "id": "8b88bc86",
   "metadata": {},
   "outputs": [
    {
     "data": {
      "text/plain": [
       "'My name is Shubha, I work for Mindgraph & ByteIQ.'"
      ]
     },
     "execution_count": 76,
     "metadata": {},
     "output_type": "execute_result"
    }
   ],
   "source": [
    "string"
   ]
  },
  {
   "cell_type": "code",
   "execution_count": 77,
   "id": "48325e31",
   "metadata": {},
   "outputs": [
    {
     "name": "stdout",
     "output_type": "stream",
     "text": [
      "My name is Shubha, I work for Mindgraph & ByteIQ.\n"
     ]
    }
   ],
   "source": [
    "print(string)"
   ]
  },
  {
   "cell_type": "code",
   "execution_count": 78,
   "id": "8eb0a5a9",
   "metadata": {},
   "outputs": [
    {
     "name": "stdout",
     "output_type": "stream",
     "text": [
      "My name is Shubha, I work for Mindgraph & ByteIQ.\n"
     ]
    }
   ],
   "source": [
    "print(\"My name is Shubha, I work for Mindgraph & ByteIQ.\")"
   ]
  },
  {
   "cell_type": "code",
   "execution_count": 79,
   "id": "c29284b8",
   "metadata": {},
   "outputs": [
    {
     "name": "stdout",
     "output_type": "stream",
     "text": [
      "My name is Shubha, I work for Mindgraph & ByteIQ.\n"
     ]
    }
   ],
   "source": [
    "print('My name is Shubha, I work for Mindgraph & ByteIQ.')"
   ]
  },
  {
   "cell_type": "code",
   "execution_count": 80,
   "id": "544ed1d2",
   "metadata": {},
   "outputs": [
    {
     "data": {
      "text/plain": [
       "49"
      ]
     },
     "execution_count": 80,
     "metadata": {},
     "output_type": "execute_result"
    }
   ],
   "source": [
    "len(string)"
   ]
  },
  {
   "cell_type": "code",
   "execution_count": 81,
   "id": "cf993240",
   "metadata": {},
   "outputs": [
    {
     "data": {
      "text/plain": [
       "'1'"
      ]
     },
     "execution_count": 81,
     "metadata": {},
     "output_type": "execute_result"
    }
   ],
   "source": [
    "str(1)"
   ]
  },
  {
   "cell_type": "code",
   "execution_count": 82,
   "id": "06ef85d3",
   "metadata": {},
   "outputs": [
    {
     "data": {
      "text/plain": [
       "'1Mindgraph'"
      ]
     },
     "execution_count": 82,
     "metadata": {},
     "output_type": "execute_result"
    }
   ],
   "source": [
    "str(1) + 'Mindgraph'  # while addition data types should be same. Python supports strong Type casting"
   ]
  },
  {
   "cell_type": "code",
   "execution_count": 83,
   "id": "f069377c",
   "metadata": {},
   "outputs": [
    {
     "data": {
      "text/plain": [
       "'Mindgraph ByteIQ'"
      ]
     },
     "execution_count": 83,
     "metadata": {},
     "output_type": "execute_result"
    }
   ],
   "source": [
    "\"Mindgraph \" + \"ByteIQ\""
   ]
  },
  {
   "cell_type": "code",
   "execution_count": 84,
   "id": "dad1c630",
   "metadata": {},
   "outputs": [
    {
     "data": {
      "text/plain": [
       "30"
      ]
     },
     "execution_count": 84,
     "metadata": {},
     "output_type": "execute_result"
    }
   ],
   "source": [
    "3 * 10"
   ]
  },
  {
   "cell_type": "code",
   "execution_count": 85,
   "id": "d63869af",
   "metadata": {},
   "outputs": [
    {
     "data": {
      "text/plain": [
       "'Mindgraph Mindgraph Mindgraph Mindgraph Mindgraph Mindgraph Mindgraph Mindgraph Mindgraph Mindgraph '"
      ]
     },
     "execution_count": 85,
     "metadata": {},
     "output_type": "execute_result"
    }
   ],
   "source": [
    "\"Mindgraph \" * 10"
   ]
  },
  {
   "cell_type": "code",
   "execution_count": 86,
   "id": "f05f7b20",
   "metadata": {},
   "outputs": [
    {
     "data": {
      "text/plain": [
       "[1, 10]"
      ]
     },
     "execution_count": 86,
     "metadata": {},
     "output_type": "execute_result"
    }
   ],
   "source": [
    "[1, 10]"
   ]
  },
  {
   "cell_type": "code",
   "execution_count": 87,
   "id": "747eef53",
   "metadata": {},
   "outputs": [
    {
     "data": {
      "text/plain": [
       "[1, 10, 1, 10, 1, 10, 1, 10, 1, 10]"
      ]
     },
     "execution_count": 87,
     "metadata": {},
     "output_type": "execute_result"
    }
   ],
   "source": [
    "[1, 10] * 5"
   ]
  },
  {
   "cell_type": "code",
   "execution_count": 89,
   "id": "2a5ce282",
   "metadata": {},
   "outputs": [
    {
     "data": {
      "text/plain": [
       "0.6666666666666666"
      ]
     },
     "execution_count": 89,
     "metadata": {},
     "output_type": "execute_result"
    }
   ],
   "source": [
    "4/6"
   ]
  },
  {
   "cell_type": "code",
   "execution_count": 88,
   "id": "28891f0d",
   "metadata": {},
   "outputs": [
    {
     "data": {
      "text/plain": [
       "0"
      ]
     },
     "execution_count": 88,
     "metadata": {},
     "output_type": "execute_result"
    }
   ],
   "source": [
    "4//6"
   ]
  },
  {
   "cell_type": "code",
   "execution_count": 90,
   "id": "7492d38c",
   "metadata": {},
   "outputs": [
    {
     "ename": "TypeError",
     "evalue": "unsupported operand type(s) for /: 'str' and 'int'",
     "output_type": "error",
     "traceback": [
      "\u001b[1;31m---------------------------------------------------------------------------\u001b[0m",
      "\u001b[1;31mTypeError\u001b[0m                                 Traceback (most recent call last)",
      "\u001b[1;32m~\\AppData\\Local\\Temp/ipykernel_61748/3784615645.py\u001b[0m in \u001b[0;36m<module>\u001b[1;34m\u001b[0m\n\u001b[1;32m----> 1\u001b[1;33m \u001b[1;34m'Mindgraph'\u001b[0m \u001b[1;33m/\u001b[0m \u001b[1;36m9\u001b[0m\u001b[1;33m\u001b[0m\u001b[1;33m\u001b[0m\u001b[0m\n\u001b[0m",
      "\u001b[1;31mTypeError\u001b[0m: unsupported operand type(s) for /: 'str' and 'int'"
     ]
    }
   ],
   "source": [
    "'Mindgraph' / 9"
   ]
  },
  {
   "cell_type": "markdown",
   "id": "d575129c",
   "metadata": {},
   "source": [
    "### Boolean Values"
   ]
  },
  {
   "cell_type": "code",
   "execution_count": 91,
   "id": "b0e1c623",
   "metadata": {},
   "outputs": [],
   "source": [
    "b = True"
   ]
  },
  {
   "cell_type": "code",
   "execution_count": 92,
   "id": "c45c9b1e",
   "metadata": {},
   "outputs": [
    {
     "data": {
      "text/plain": [
       "True"
      ]
     },
     "execution_count": 92,
     "metadata": {},
     "output_type": "execute_result"
    }
   ],
   "source": [
    "b"
   ]
  },
  {
   "cell_type": "code",
   "execution_count": 93,
   "id": "165fcc84",
   "metadata": {},
   "outputs": [],
   "source": [
    "b = True + True"
   ]
  },
  {
   "cell_type": "code",
   "execution_count": 94,
   "id": "bcf84229",
   "metadata": {},
   "outputs": [
    {
     "data": {
      "text/plain": [
       "2"
      ]
     },
     "execution_count": 94,
     "metadata": {},
     "output_type": "execute_result"
    }
   ],
   "source": [
    "b"
   ]
  },
  {
   "cell_type": "code",
   "execution_count": 95,
   "id": "4c5dd9e9",
   "metadata": {},
   "outputs": [],
   "source": [
    "b = \"Mindgraph\" + \"Mindgraph\""
   ]
  },
  {
   "cell_type": "code",
   "execution_count": 96,
   "id": "d151a815",
   "metadata": {},
   "outputs": [
    {
     "data": {
      "text/plain": [
       "'MindgraphMindgraph'"
      ]
     },
     "execution_count": 96,
     "metadata": {},
     "output_type": "execute_result"
    }
   ],
   "source": [
    "b"
   ]
  },
  {
   "cell_type": "code",
   "execution_count": 97,
   "id": "192dc39b",
   "metadata": {},
   "outputs": [],
   "source": [
    "b = True"
   ]
  },
  {
   "cell_type": "code",
   "execution_count": 98,
   "id": "d69e07f1",
   "metadata": {},
   "outputs": [
    {
     "data": {
      "text/plain": [
       "bool"
      ]
     },
     "execution_count": 98,
     "metadata": {},
     "output_type": "execute_result"
    }
   ],
   "source": [
    "type(b)"
   ]
  },
  {
   "cell_type": "code",
   "execution_count": 99,
   "id": "982e9eff",
   "metadata": {},
   "outputs": [],
   "source": [
    "v = False"
   ]
  },
  {
   "cell_type": "code",
   "execution_count": 100,
   "id": "e1cd742c",
   "metadata": {},
   "outputs": [
    {
     "data": {
      "text/plain": [
       "False"
      ]
     },
     "execution_count": 100,
     "metadata": {},
     "output_type": "execute_result"
    }
   ],
   "source": [
    "v"
   ]
  },
  {
   "cell_type": "code",
   "execution_count": 101,
   "id": "a3b23467",
   "metadata": {},
   "outputs": [
    {
     "data": {
      "text/plain": [
       "bool"
      ]
     },
     "execution_count": 101,
     "metadata": {},
     "output_type": "execute_result"
    }
   ],
   "source": [
    "type(v)"
   ]
  },
  {
   "cell_type": "code",
   "execution_count": 102,
   "id": "4d639c41",
   "metadata": {},
   "outputs": [
    {
     "data": {
      "text/plain": [
       "0"
      ]
     },
     "execution_count": 102,
     "metadata": {},
     "output_type": "execute_result"
    }
   ],
   "source": [
    "True - True # (1-1 = 0)"
   ]
  },
  {
   "cell_type": "code",
   "execution_count": 103,
   "id": "c0dc3713",
   "metadata": {},
   "outputs": [
    {
     "data": {
      "text/plain": [
       "1"
      ]
     },
     "execution_count": 103,
     "metadata": {},
     "output_type": "execute_result"
    }
   ],
   "source": [
    "True - False #  (1-0 = 1) "
   ]
  },
  {
   "cell_type": "code",
   "execution_count": 108,
   "id": "a63c7fb2",
   "metadata": {},
   "outputs": [
    {
     "data": {
      "text/plain": [
       "1"
      ]
     },
     "execution_count": 108,
     "metadata": {},
     "output_type": "execute_result"
    }
   ],
   "source": [
    "True * True # (1*1 = 1)"
   ]
  },
  {
   "cell_type": "code",
   "execution_count": 109,
   "id": "978c4dc5",
   "metadata": {},
   "outputs": [
    {
     "data": {
      "text/plain": [
       "1.0"
      ]
     },
     "execution_count": 109,
     "metadata": {},
     "output_type": "execute_result"
    }
   ],
   "source": [
    "True/True # (1/1 = 1.0)"
   ]
  },
  {
   "cell_type": "code",
   "execution_count": 110,
   "id": "9f1dc665",
   "metadata": {},
   "outputs": [
    {
     "ename": "ZeroDivisionError",
     "evalue": "division by zero",
     "output_type": "error",
     "traceback": [
      "\u001b[1;31m---------------------------------------------------------------------------\u001b[0m",
      "\u001b[1;31mZeroDivisionError\u001b[0m                         Traceback (most recent call last)",
      "\u001b[1;32m~\\AppData\\Local\\Temp/ipykernel_61748/346991274.py\u001b[0m in \u001b[0;36m<module>\u001b[1;34m\u001b[0m\n\u001b[1;32m----> 1\u001b[1;33m \u001b[1;32mTrue\u001b[0m\u001b[1;33m/\u001b[0m\u001b[1;32mFalse\u001b[0m  \u001b[1;31m# (1/0 = ZeroDivisionError)\u001b[0m\u001b[1;33m\u001b[0m\u001b[1;33m\u001b[0m\u001b[0m\n\u001b[0m",
      "\u001b[1;31mZeroDivisionError\u001b[0m: division by zero"
     ]
    }
   ],
   "source": [
    "True/False  # (1/0 = ZeroDivisionError)"
   ]
  },
  {
   "cell_type": "code",
   "execution_count": 111,
   "id": "654b2836",
   "metadata": {},
   "outputs": [
    {
     "ename": "ZeroDivisionError",
     "evalue": "division by zero",
     "output_type": "error",
     "traceback": [
      "\u001b[1;31m---------------------------------------------------------------------------\u001b[0m",
      "\u001b[1;31mZeroDivisionError\u001b[0m                         Traceback (most recent call last)",
      "\u001b[1;32m~\\AppData\\Local\\Temp/ipykernel_61748/4293641902.py\u001b[0m in \u001b[0;36m<module>\u001b[1;34m\u001b[0m\n\u001b[1;32m----> 1\u001b[1;33m \u001b[1;36m1\u001b[0m\u001b[1;33m/\u001b[0m\u001b[1;36m0\u001b[0m  \u001b[1;31m# (1/0 = ZeroDivisionError)\u001b[0m\u001b[1;33m\u001b[0m\u001b[1;33m\u001b[0m\u001b[0m\n\u001b[0m",
      "\u001b[1;31mZeroDivisionError\u001b[0m: division by zero"
     ]
    }
   ],
   "source": [
    "1/0  # (1/0 = ZeroDivisionError)"
   ]
  },
  {
   "cell_type": "markdown",
   "id": "95d2e928",
   "metadata": {},
   "source": [
    "* In core python anything/0 is not possible. The same thing will work with NumPy."
   ]
  },
  {
   "cell_type": "code",
   "execution_count": 112,
   "id": "283f4de0",
   "metadata": {},
   "outputs": [],
   "source": [
    "import numpy as mindgraph # here mindgraph is the alias name for numpy"
   ]
  },
  {
   "cell_type": "code",
   "execution_count": 124,
   "id": "2b4effee",
   "metadata": {},
   "outputs": [],
   "source": [
    "import numpy as np"
   ]
  },
  {
   "cell_type": "code",
   "execution_count": 125,
   "id": "0f61a867",
   "metadata": {},
   "outputs": [
    {
     "name": "stderr",
     "output_type": "stream",
     "text": [
      "C:\\Users\\Acer\\AppData\\Local\\Temp/ipykernel_61748/1638319671.py:1: RuntimeWarning: divide by zero encountered in true_divide\n",
      "  np.asanyarray([1])/0\n"
     ]
    },
    {
     "data": {
      "text/plain": [
       "array([inf])"
      ]
     },
     "execution_count": 125,
     "metadata": {},
     "output_type": "execute_result"
    }
   ],
   "source": [
    "np.asanyarray([1])/0"
   ]
  },
  {
   "cell_type": "code",
   "execution_count": 126,
   "id": "723b6623",
   "metadata": {
    "scrolled": true
   },
   "outputs": [
    {
     "name": "stderr",
     "output_type": "stream",
     "text": [
      "C:\\Users\\Acer\\AppData\\Local\\Temp/ipykernel_61748/1866925015.py:1: RuntimeWarning: divide by zero encountered in true_divide\n",
      "  np.asanyarray([0,1])/0\n",
      "C:\\Users\\Acer\\AppData\\Local\\Temp/ipykernel_61748/1866925015.py:1: RuntimeWarning: invalid value encountered in true_divide\n",
      "  np.asanyarray([0,1])/0\n"
     ]
    },
    {
     "data": {
      "text/plain": [
       "array([nan, inf])"
      ]
     },
     "execution_count": 126,
     "metadata": {},
     "output_type": "execute_result"
    }
   ],
   "source": [
    "np.asanyarray([0,1])/0"
   ]
  },
  {
   "cell_type": "markdown",
   "id": "00531858",
   "metadata": {},
   "source": [
    "## Collections in Python"
   ]
  },
  {
   "cell_type": "markdown",
   "id": "bb00e476",
   "metadata": {},
   "source": [
    "## List"
   ]
  },
  {
   "cell_type": "code",
   "execution_count": 127,
   "id": "782a3368",
   "metadata": {},
   "outputs": [],
   "source": [
    "l = [1, 2, 3, 4, 5] # can store multiple values , # Homogenou"
   ]
  },
  {
   "cell_type": "code",
   "execution_count": 128,
   "id": "320ba15f",
   "metadata": {},
   "outputs": [],
   "source": [
    "a = 10 # stores a single integer value"
   ]
  },
  {
   "cell_type": "markdown",
   "id": "614723a4",
   "metadata": {},
   "source": [
    "* Homogeneous Dataset (Same Type of Values)\n",
    "* Hetrogeneous Dataset (Different type of Values)"
   ]
  },
  {
   "cell_type": "code",
   "execution_count": 129,
   "id": "06d6571c",
   "metadata": {},
   "outputs": [
    {
     "data": {
      "text/plain": [
       "list"
      ]
     },
     "execution_count": 129,
     "metadata": {},
     "output_type": "execute_result"
    }
   ],
   "source": [
    "type(l)"
   ]
  },
  {
   "cell_type": "code",
   "execution_count": 130,
   "id": "54913176",
   "metadata": {},
   "outputs": [],
   "source": [
    "l2 = [1, 2, 3, 4, 5, \"Mindgraph\", 'ByteIQ']  # Hetrogeneous"
   ]
  },
  {
   "cell_type": "code",
   "execution_count": 132,
   "id": "940cff25",
   "metadata": {},
   "outputs": [
    {
     "data": {
      "text/plain": [
       "list"
      ]
     },
     "execution_count": 132,
     "metadata": {},
     "output_type": "execute_result"
    }
   ],
   "source": [
    "type(l2)"
   ]
  },
  {
   "cell_type": "code",
   "execution_count": 131,
   "id": "c8d395bd",
   "metadata": {},
   "outputs": [],
   "source": [
    "l3 = [1, 2, 3, 4, 5, \"Mindgraph\", 'ByteIQ', [3.2, 4.5, \"list\", \"error\"]] # list inside a list"
   ]
  },
  {
   "cell_type": "code",
   "execution_count": 142,
   "id": "28dfa390",
   "metadata": {},
   "outputs": [
    {
     "data": {
      "text/plain": [
       "[1, 2, 3, 4, 5, 'Mindgraph', 'ByteIQ', [3.2, 4.5, 'list', 'error']]"
      ]
     },
     "execution_count": 142,
     "metadata": {},
     "output_type": "execute_result"
    }
   ],
   "source": [
    "l3"
   ]
  },
  {
   "cell_type": "code",
   "execution_count": 134,
   "id": "697caeda",
   "metadata": {},
   "outputs": [
    {
     "data": {
      "text/plain": [
       "list"
      ]
     },
     "execution_count": 134,
     "metadata": {},
     "output_type": "execute_result"
    }
   ],
   "source": [
    "type(l3)"
   ]
  },
  {
   "cell_type": "markdown",
   "id": "727f4d73",
   "metadata": {},
   "source": [
    "### Forward"
   ]
  },
  {
   "cell_type": "code",
   "execution_count": 148,
   "id": "6b5cc664",
   "metadata": {},
   "outputs": [
    {
     "data": {
      "text/plain": [
       "[3.2, 4.5, 'list', 'error']"
      ]
     },
     "execution_count": 148,
     "metadata": {},
     "output_type": "execute_result"
    }
   ],
   "source": [
    "l3[7]"
   ]
  },
  {
   "cell_type": "code",
   "execution_count": 149,
   "id": "462725c5",
   "metadata": {},
   "outputs": [
    {
     "data": {
      "text/plain": [
       "'error'"
      ]
     },
     "execution_count": 149,
     "metadata": {},
     "output_type": "execute_result"
    }
   ],
   "source": [
    "l3[7][3]"
   ]
  },
  {
   "cell_type": "code",
   "execution_count": 150,
   "id": "0836a57e",
   "metadata": {},
   "outputs": [
    {
     "data": {
      "text/plain": [
       "8"
      ]
     },
     "execution_count": 150,
     "metadata": {},
     "output_type": "execute_result"
    }
   ],
   "source": [
    "len(l3)"
   ]
  },
  {
   "cell_type": "markdown",
   "id": "843528f4",
   "metadata": {},
   "source": [
    "### Backward"
   ]
  },
  {
   "cell_type": "code",
   "execution_count": 135,
   "id": "c6db59c4",
   "metadata": {},
   "outputs": [
    {
     "data": {
      "text/plain": [
       "[3.2, 4.5, 'list', 'error']"
      ]
     },
     "execution_count": 135,
     "metadata": {},
     "output_type": "execute_result"
    }
   ],
   "source": [
    "l3[-1]"
   ]
  },
  {
   "cell_type": "code",
   "execution_count": 136,
   "id": "5f3536c6",
   "metadata": {},
   "outputs": [
    {
     "data": {
      "text/plain": [
       "list"
      ]
     },
     "execution_count": 136,
     "metadata": {},
     "output_type": "execute_result"
    }
   ],
   "source": [
    "type(l3[-1])"
   ]
  },
  {
   "cell_type": "code",
   "execution_count": 144,
   "id": "b5c18b88",
   "metadata": {},
   "outputs": [
    {
     "data": {
      "text/plain": [
       "'error'"
      ]
     },
     "execution_count": 144,
     "metadata": {},
     "output_type": "execute_result"
    }
   ],
   "source": [
    "(l3[-1])[-1]"
   ]
  },
  {
   "cell_type": "code",
   "execution_count": 152,
   "id": "8f359b86",
   "metadata": {},
   "outputs": [
    {
     "data": {
      "text/plain": [
       "[1, 2, 3, 4, 5, 'Mindgraph', 'ByteIQ', [3.2, 4.5, 'list', 'error']]"
      ]
     },
     "execution_count": 152,
     "metadata": {},
     "output_type": "execute_result"
    }
   ],
   "source": [
    "l3"
   ]
  },
  {
   "cell_type": "code",
   "execution_count": 145,
   "id": "2ae2773b",
   "metadata": {},
   "outputs": [
    {
     "data": {
      "text/plain": [
       "'error'"
      ]
     },
     "execution_count": 145,
     "metadata": {},
     "output_type": "execute_result"
    }
   ],
   "source": [
    "l3[-1][3]"
   ]
  },
  {
   "cell_type": "code",
   "execution_count": 153,
   "id": "3fddb302",
   "metadata": {},
   "outputs": [],
   "source": [
    "l = [\"Mindgraph\", 45, 54, 454, 5, 4, 45.67, 67, 5+9j]"
   ]
  },
  {
   "cell_type": "code",
   "execution_count": 154,
   "id": "942120ab",
   "metadata": {},
   "outputs": [
    {
     "data": {
      "text/plain": [
       "['Mindgraph', 45, 54, 454, 5, 4, 45.67, 67, (5+9j)]"
      ]
     },
     "execution_count": 154,
     "metadata": {},
     "output_type": "execute_result"
    }
   ],
   "source": [
    "l"
   ]
  },
  {
   "cell_type": "code",
   "execution_count": 155,
   "id": "68038bf9",
   "metadata": {},
   "outputs": [
    {
     "data": {
      "text/plain": [
       "list"
      ]
     },
     "execution_count": 155,
     "metadata": {},
     "output_type": "execute_result"
    }
   ],
   "source": [
    "type(l)"
   ]
  },
  {
   "cell_type": "code",
   "execution_count": 156,
   "id": "9f9983c2",
   "metadata": {},
   "outputs": [
    {
     "ename": "IndexError",
     "evalue": "list index out of range",
     "output_type": "error",
     "traceback": [
      "\u001b[1;31m---------------------------------------------------------------------------\u001b[0m",
      "\u001b[1;31mIndexError\u001b[0m                                Traceback (most recent call last)",
      "\u001b[1;32m~\\AppData\\Local\\Temp/ipykernel_61748/2321736930.py\u001b[0m in \u001b[0;36m<module>\u001b[1;34m\u001b[0m\n\u001b[1;32m----> 1\u001b[1;33m \u001b[0ml\u001b[0m\u001b[1;33m[\u001b[0m\u001b[1;36m100\u001b[0m\u001b[1;33m]\u001b[0m\u001b[1;33m\u001b[0m\u001b[1;33m\u001b[0m\u001b[0m\n\u001b[0m",
      "\u001b[1;31mIndexError\u001b[0m: list index out of range"
     ]
    }
   ],
   "source": [
    "l[100]"
   ]
  },
  {
   "cell_type": "code",
   "execution_count": 157,
   "id": "53e33256",
   "metadata": {},
   "outputs": [
    {
     "data": {
      "text/plain": [
       "[1, 2, 3, 4, 5, 'Mindgraph', 'ByteIQ', [3.2, 4.5, 'list', 'error']]"
      ]
     },
     "execution_count": 157,
     "metadata": {},
     "output_type": "execute_result"
    }
   ],
   "source": [
    "l3"
   ]
  },
  {
   "cell_type": "code",
   "execution_count": 158,
   "id": "005d83f4",
   "metadata": {},
   "outputs": [
    {
     "data": {
      "text/plain": [
       "[3.2, 4.5, 'list', 'error']"
      ]
     },
     "execution_count": 158,
     "metadata": {},
     "output_type": "execute_result"
    }
   ],
   "source": [
    "l3[-1]"
   ]
  },
  {
   "cell_type": "code",
   "execution_count": 159,
   "id": "f133aa52",
   "metadata": {},
   "outputs": [
    {
     "data": {
      "text/plain": [
       "[1, 2, 3, 4, 5]"
      ]
     },
     "execution_count": 159,
     "metadata": {},
     "output_type": "execute_result"
    }
   ],
   "source": [
    "l3[0:5] "
   ]
  },
  {
   "cell_type": "code",
   "execution_count": 160,
   "id": "cc004635",
   "metadata": {},
   "outputs": [
    {
     "data": {
      "text/plain": [
       "[1, 2, 3, 4, 5, 'Mindgraph', 'ByteIQ', [3.2, 4.5, 'list', 'error']]"
      ]
     },
     "execution_count": 160,
     "metadata": {},
     "output_type": "execute_result"
    }
   ],
   "source": [
    "l3"
   ]
  },
  {
   "cell_type": "code",
   "execution_count": 162,
   "id": "b973c7b4",
   "metadata": {},
   "outputs": [
    {
     "data": {
      "text/plain": [
       "[[3.2, 4.5, 'list', 'error'], 'ByteIQ', 'Mindgraph', 5, 4, 3, 2, 1]"
      ]
     },
     "execution_count": 162,
     "metadata": {},
     "output_type": "execute_result"
    }
   ],
   "source": [
    "l3[::-1]"
   ]
  },
  {
   "cell_type": "code",
   "execution_count": 163,
   "id": "da1b4286",
   "metadata": {},
   "outputs": [
    {
     "data": {
      "text/plain": [
       "[1, 2, 3, 4, 5, 'Mindgraph', 'ByteIQ', [3.2, 4.5, 'list', 'error']]"
      ]
     },
     "execution_count": 163,
     "metadata": {},
     "output_type": "execute_result"
    }
   ],
   "source": [
    "l3"
   ]
  },
  {
   "cell_type": "code",
   "execution_count": 164,
   "id": "e3bd91e4",
   "metadata": {},
   "outputs": [
    {
     "data": {
      "text/plain": [
       "[]"
      ]
     },
     "execution_count": 164,
     "metadata": {},
     "output_type": "execute_result"
    }
   ],
   "source": [
    "l3[5:0:1]\n",
    "# satya - 1\n",
    "# chay - \n",
    "# brahma - ['Mindgraph', 5, 4, 3, 2]\n",
    "# Rohit - ' '\n",
    "# Vineet - \n",
    "# Sai - [2]\n",
    "# Nikki - ' '"
   ]
  },
  {
   "cell_type": "code",
   "execution_count": 165,
   "id": "defd658c",
   "metadata": {
    "scrolled": true
   },
   "outputs": [
    {
     "data": {
      "text/plain": [
       "['Mindgraph', 5, 4, 3, 2]"
      ]
     },
     "execution_count": 165,
     "metadata": {},
     "output_type": "execute_result"
    }
   ],
   "source": [
    "l3[5:0:-1]\n",
    "# satya - ' '\n",
    "# chay - [1, 2, 3, 4]\n",
    "# brahma - ['Mindgraph', 5, 4, 3, 2]\n",
    "# Rohit - [Mindgraph, 5, 4, 3,2]\n",
    "# Vineet - []\n",
    "# Sai = [Mindgraph, 4, 2]\n",
    "# Nikki -[Mindgraph, 5, 4, 3,2]"
   ]
  },
  {
   "cell_type": "code",
   "execution_count": 166,
   "id": "32449575",
   "metadata": {},
   "outputs": [
    {
     "data": {
      "text/plain": [
       "[1, 2, 3, 4, 5, 'Mindgraph', 'ByteIQ', [3.2, 4.5, 'list', 'error']]"
      ]
     },
     "execution_count": 166,
     "metadata": {},
     "output_type": "execute_result"
    }
   ],
   "source": [
    "l3"
   ]
  },
  {
   "cell_type": "code",
   "execution_count": 168,
   "id": "ce140c08",
   "metadata": {},
   "outputs": [
    {
     "ename": "IndexError",
     "evalue": "list index out of range",
     "output_type": "error",
     "traceback": [
      "\u001b[1;31m---------------------------------------------------------------------------\u001b[0m",
      "\u001b[1;31mIndexError\u001b[0m                                Traceback (most recent call last)",
      "\u001b[1;32m~\\AppData\\Local\\Temp/ipykernel_61748/3018451186.py\u001b[0m in \u001b[0;36m<module>\u001b[1;34m\u001b[0m\n\u001b[1;32m----> 1\u001b[1;33m \u001b[0ml3\u001b[0m\u001b[1;33m[\u001b[0m\u001b[1;36m100\u001b[0m\u001b[1;33m]\u001b[0m\u001b[1;33m\u001b[0m\u001b[1;33m\u001b[0m\u001b[0m\n\u001b[0m",
      "\u001b[1;31mIndexError\u001b[0m: list index out of range"
     ]
    }
   ],
   "source": [
    "l3[100]"
   ]
  },
  {
   "cell_type": "code",
   "execution_count": 167,
   "id": "6c5d5be7",
   "metadata": {},
   "outputs": [
    {
     "data": {
      "text/plain": [
       "[1, 2, 3, 4, 5, 'Mindgraph', 'ByteIQ', [3.2, 4.5, 'list', 'error']]"
      ]
     },
     "execution_count": 167,
     "metadata": {},
     "output_type": "execute_result"
    }
   ],
   "source": [
    "l3[0:100]"
   ]
  },
  {
   "cell_type": "code",
   "execution_count": 169,
   "id": "7f53d263",
   "metadata": {},
   "outputs": [],
   "source": [
    "l = ['Shubha', 45, 54, 454, 5, 4, 45.67, 67, 5+7j, [1, 2, 3, 4, 5]]"
   ]
  },
  {
   "cell_type": "code",
   "execution_count": 170,
   "id": "2a46bc2d",
   "metadata": {},
   "outputs": [
    {
     "data": {
      "text/plain": [
       "list"
      ]
     },
     "execution_count": 170,
     "metadata": {},
     "output_type": "execute_result"
    }
   ],
   "source": [
    "type(l)"
   ]
  },
  {
   "cell_type": "code",
   "execution_count": 171,
   "id": "31e0d7a8",
   "metadata": {},
   "outputs": [
    {
     "data": {
      "text/plain": [
       "[[1, 2, 3, 4, 5], (5+7j), 67, 45.67, 4, 5, 454, 54, 45, 'Shubha']"
      ]
     },
     "execution_count": 171,
     "metadata": {},
     "output_type": "execute_result"
    }
   ],
   "source": [
    "l[::-1]"
   ]
  },
  {
   "cell_type": "code",
   "execution_count": 172,
   "id": "4127b29b",
   "metadata": {},
   "outputs": [
    {
     "data": {
      "text/plain": [
       "['Shubha', 45, 54, 454, 5, 4, 45.67, 67, (5+7j), [1, 2, 3, 4, 5]]"
      ]
     },
     "execution_count": 172,
     "metadata": {},
     "output_type": "execute_result"
    }
   ],
   "source": [
    "l"
   ]
  },
  {
   "cell_type": "code",
   "execution_count": 173,
   "id": "9ad71bd6",
   "metadata": {},
   "outputs": [
    {
     "data": {
      "text/plain": [
       "[]"
      ]
     },
     "execution_count": 173,
     "metadata": {},
     "output_type": "execute_result"
    }
   ],
   "source": [
    "l[5:0:1] # chay "
   ]
  },
  {
   "cell_type": "code",
   "execution_count": 180,
   "id": "74956b97",
   "metadata": {},
   "outputs": [
    {
     "data": {
      "text/plain": [
       "[]"
      ]
     },
     "execution_count": 180,
     "metadata": {},
     "output_type": "execute_result"
    }
   ],
   "source": [
    "l[5:10:-1] # Vineet - Reverse"
   ]
  },
  {
   "cell_type": "code",
   "execution_count": 179,
   "id": "5e3f0b6e",
   "metadata": {},
   "outputs": [
    {
     "data": {
      "text/plain": [
       "[]"
      ]
     },
     "execution_count": 179,
     "metadata": {},
     "output_type": "execute_result"
    }
   ],
   "source": [
    "l[-2:-5:1] # satya"
   ]
  },
  {
   "cell_type": "code",
   "execution_count": 178,
   "id": "e0f87861",
   "metadata": {},
   "outputs": [
    {
     "data": {
      "text/plain": [
       "[(5+7j), 67, 45.67]"
      ]
     },
     "execution_count": 178,
     "metadata": {},
     "output_type": "execute_result"
    }
   ],
   "source": [
    "l[-2:-5:-1] # rohit"
   ]
  },
  {
   "cell_type": "code",
   "execution_count": 177,
   "id": "5ee3ff0e",
   "metadata": {},
   "outputs": [
    {
     "data": {
      "text/plain": [
       "'ahbuhS'"
      ]
     },
     "execution_count": 177,
     "metadata": {},
     "output_type": "execute_result"
    }
   ],
   "source": [
    "l[0][::-1] # sai"
   ]
  },
  {
   "cell_type": "code",
   "execution_count": 174,
   "id": "5af32640",
   "metadata": {},
   "outputs": [
    {
     "data": {
      "text/plain": [
       "[5, 4, 3, 2, 1]"
      ]
     },
     "execution_count": 174,
     "metadata": {},
     "output_type": "execute_result"
    }
   ],
   "source": [
    "l[-1][::-1] # brahma"
   ]
  },
  {
   "cell_type": "code",
   "execution_count": 181,
   "id": "1ddc0334",
   "metadata": {},
   "outputs": [
    {
     "ename": "TypeError",
     "evalue": "'int' object is not subscriptable",
     "output_type": "error",
     "traceback": [
      "\u001b[1;31m---------------------------------------------------------------------------\u001b[0m",
      "\u001b[1;31mTypeError\u001b[0m                                 Traceback (most recent call last)",
      "\u001b[1;32m~\\AppData\\Local\\Temp/ipykernel_61748/163622517.py\u001b[0m in \u001b[0;36m<module>\u001b[1;34m\u001b[0m\n\u001b[1;32m----> 1\u001b[1;33m \u001b[0ml\u001b[0m\u001b[1;33m[\u001b[0m\u001b[1;36m1\u001b[0m\u001b[1;33m]\u001b[0m\u001b[1;33m[\u001b[0m\u001b[1;33m:\u001b[0m\u001b[1;33m:\u001b[0m\u001b[1;36m1\u001b[0m\u001b[1;33m]\u001b[0m \u001b[1;31m#nikki\u001b[0m\u001b[1;33m\u001b[0m\u001b[1;33m\u001b[0m\u001b[0m\n\u001b[0m",
      "\u001b[1;31mTypeError\u001b[0m: 'int' object is not subscriptable"
     ]
    }
   ],
   "source": [
    "l[1][::1] #nikki"
   ]
  },
  {
   "cell_type": "code",
   "execution_count": 176,
   "id": "2cc724e3",
   "metadata": {},
   "outputs": [
    {
     "ename": "TypeError",
     "evalue": "can only concatenate list (not \"str\") to list",
     "output_type": "error",
     "traceback": [
      "\u001b[1;31m---------------------------------------------------------------------------\u001b[0m",
      "\u001b[1;31mTypeError\u001b[0m                                 Traceback (most recent call last)",
      "\u001b[1;32m~\\AppData\\Local\\Temp/ipykernel_61748/269212659.py\u001b[0m in \u001b[0;36m<module>\u001b[1;34m\u001b[0m\n\u001b[1;32m----> 1\u001b[1;33m \u001b[0ml\u001b[0m \u001b[1;33m+\u001b[0m \u001b[1;34m\"Soumya\"\u001b[0m\u001b[1;33m\u001b[0m\u001b[1;33m\u001b[0m\u001b[0m\n\u001b[0m",
      "\u001b[1;31mTypeError\u001b[0m: can only concatenate list (not \"str\") to list"
     ]
    }
   ],
   "source": [
    "l + \"Soumya\""
   ]
  },
  {
   "cell_type": "code",
   "execution_count": 175,
   "id": "019e4591",
   "metadata": {},
   "outputs": [
    {
     "data": {
      "text/plain": [
       "['Shubha',\n",
       " 45,\n",
       " 54,\n",
       " 454,\n",
       " 5,\n",
       " 4,\n",
       " 45.67,\n",
       " 67,\n",
       " (5+7j),\n",
       " [1, 2, 3, 4, 5],\n",
       " 'S',\n",
       " 'o',\n",
       " 'u',\n",
       " 'm',\n",
       " 'y',\n",
       " 'a']"
      ]
     },
     "execution_count": 175,
     "metadata": {},
     "output_type": "execute_result"
    }
   ],
   "source": [
    "l + list(\"Soumya\")"
   ]
  },
  {
   "cell_type": "code",
   "execution_count": 182,
   "id": "aa228925",
   "metadata": {
    "scrolled": true
   },
   "outputs": [
    {
     "data": {
      "text/plain": [
       "[1, 2, 3, 4, 1, 2, 3, 4, 1, 2, 3, 4, 1, 2, 3, 4]"
      ]
     },
     "execution_count": 182,
     "metadata": {},
     "output_type": "execute_result"
    }
   ],
   "source": [
    "[1, 2, 3, 4] * 4"
   ]
  },
  {
   "cell_type": "code",
   "execution_count": 184,
   "id": "9533460b",
   "metadata": {},
   "outputs": [
    {
     "ename": "TypeError",
     "evalue": "can only concatenate list (not \"str\") to list",
     "output_type": "error",
     "traceback": [
      "\u001b[1;31m---------------------------------------------------------------------------\u001b[0m",
      "\u001b[1;31mTypeError\u001b[0m                                 Traceback (most recent call last)",
      "\u001b[1;32m~\\AppData\\Local\\Temp/ipykernel_61748/3354790828.py\u001b[0m in \u001b[0;36m<module>\u001b[1;34m\u001b[0m\n\u001b[1;32m----> 1\u001b[1;33m \u001b[0ml\u001b[0m \u001b[1;33m+\u001b[0m \u001b[1;34m\"Priyanka\"\u001b[0m\u001b[1;33m\u001b[0m\u001b[1;33m\u001b[0m\u001b[0m\n\u001b[0m",
      "\u001b[1;31mTypeError\u001b[0m: can only concatenate list (not \"str\") to list"
     ]
    }
   ],
   "source": [
    "l + \"Priyanka\""
   ]
  },
  {
   "cell_type": "code",
   "execution_count": 185,
   "id": "d06aa86d",
   "metadata": {},
   "outputs": [
    {
     "data": {
      "text/plain": [
       "['Shubha',\n",
       " 45,\n",
       " 54,\n",
       " 454,\n",
       " 5,\n",
       " 4,\n",
       " 45.67,\n",
       " 67,\n",
       " (5+7j),\n",
       " [1, 2, 3, 4, 5],\n",
       " 'P',\n",
       " 'r',\n",
       " 'i',\n",
       " 'y',\n",
       " 'a',\n",
       " 'n',\n",
       " 'k',\n",
       " 'a']"
      ]
     },
     "execution_count": 185,
     "metadata": {},
     "output_type": "execute_result"
    }
   ],
   "source": [
    "l + list(\"Priyanka\")"
   ]
  },
  {
   "cell_type": "code",
   "execution_count": 186,
   "id": "3550fbbf",
   "metadata": {},
   "outputs": [
    {
     "data": {
      "text/plain": [
       "['P', 'r', 'i', 'y', 'a', 'n', 'k', 'a']"
      ]
     },
     "execution_count": 186,
     "metadata": {},
     "output_type": "execute_result"
    }
   ],
   "source": [
    "list(\"Priyanka\")"
   ]
  },
  {
   "cell_type": "code",
   "execution_count": 187,
   "id": "37dc0f2c",
   "metadata": {},
   "outputs": [
    {
     "ename": "TypeError",
     "evalue": "'int' object is not iterable",
     "output_type": "error",
     "traceback": [
      "\u001b[1;31m---------------------------------------------------------------------------\u001b[0m",
      "\u001b[1;31mTypeError\u001b[0m                                 Traceback (most recent call last)",
      "\u001b[1;32m~\\AppData\\Local\\Temp/ipykernel_61748/1516601922.py\u001b[0m in \u001b[0;36m<module>\u001b[1;34m\u001b[0m\n\u001b[1;32m----> 1\u001b[1;33m \u001b[0mlist\u001b[0m\u001b[1;33m(\u001b[0m\u001b[1;36m1234\u001b[0m\u001b[1;33m)\u001b[0m\u001b[1;33m\u001b[0m\u001b[1;33m\u001b[0m\u001b[0m\n\u001b[0m",
      "\u001b[1;31mTypeError\u001b[0m: 'int' object is not iterable"
     ]
    }
   ],
   "source": [
    "list(1234)"
   ]
  },
  {
   "cell_type": "code",
   "execution_count": 188,
   "id": "cb0e7eac",
   "metadata": {},
   "outputs": [
    {
     "data": {
      "text/plain": [
       "['1', '2', '3', '4']"
      ]
     },
     "execution_count": 188,
     "metadata": {},
     "output_type": "execute_result"
    }
   ],
   "source": [
    "list('1234')"
   ]
  }
 ],
 "metadata": {
  "kernelspec": {
   "display_name": "Python 3 (ipykernel)",
   "language": "python",
   "name": "python3"
  },
  "language_info": {
   "codemirror_mode": {
    "name": "ipython",
    "version": 3
   },
   "file_extension": ".py",
   "mimetype": "text/x-python",
   "name": "python",
   "nbconvert_exporter": "python",
   "pygments_lexer": "ipython3",
   "version": "3.9.7"
  }
 },
 "nbformat": 4,
 "nbformat_minor": 5
}
