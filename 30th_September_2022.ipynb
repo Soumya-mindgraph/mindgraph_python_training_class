{
 "cells": [
  {
   "cell_type": "markdown",
   "id": "27341a48",
   "metadata": {},
   "source": [
    "# try, except, else, finally (Continued..)"
   ]
  },
  {
   "cell_type": "code",
   "execution_count": 1,
   "id": "1d0f1042",
   "metadata": {},
   "outputs": [
    {
     "ename": "NameError",
     "evalue": "name 'lhghjvfjcvhcvd' is not defined",
     "output_type": "error",
     "traceback": [
      "\u001b[1;31m---------------------------------------------------------------------------\u001b[0m",
      "\u001b[1;31mNameError\u001b[0m                                 Traceback (most recent call last)",
      "\u001b[1;32m~\\AppData\\Local\\Temp/ipykernel_69836/1206411615.py\u001b[0m in \u001b[0;36m<module>\u001b[1;34m\u001b[0m\n\u001b[1;32m----> 1\u001b[1;33m \u001b[0mlhghjvfjcvhcvd\u001b[0m\u001b[1;33m\u001b[0m\u001b[1;33m\u001b[0m\u001b[0m\n\u001b[0m",
      "\u001b[1;31mNameError\u001b[0m: name 'lhghjvfjcvhcvd' is not defined"
     ]
    }
   ],
   "source": [
    "lhghjvfjcvhcvd # not enclosed in single quotes or double quotes..interpreter assuming it as a variable which is not defined"
   ]
  },
  {
   "cell_type": "code",
   "execution_count": 2,
   "id": "f5b0f461",
   "metadata": {},
   "outputs": [
    {
     "data": {
      "text/plain": [
       "'lhghjvfjcvhcvd'"
      ]
     },
     "execution_count": 2,
     "metadata": {},
     "output_type": "execute_result"
    }
   ],
   "source": [
    "'lhghjvfjcvhcvd'"
   ]
  },
  {
   "cell_type": "markdown",
   "id": "9d9b88d1",
   "metadata": {},
   "source": [
    "```text\n",
    "syntactically fine, but this is a run time error. Infinity is not present in core python,  In case of Numpy, it will give 'infy'\n",
    "```"
   ]
  },
  {
   "cell_type": "code",
   "execution_count": 4,
   "id": "da8ceb91",
   "metadata": {},
   "outputs": [
    {
     "ename": "ZeroDivisionError",
     "evalue": "division by zero",
     "output_type": "error",
     "traceback": [
      "\u001b[1;31m---------------------------------------------------------------------------\u001b[0m",
      "\u001b[1;31mZeroDivisionError\u001b[0m                         Traceback (most recent call last)",
      "\u001b[1;32m~\\AppData\\Local\\Temp/ipykernel_69836/2354412189.py\u001b[0m in \u001b[0;36m<module>\u001b[1;34m\u001b[0m\n\u001b[1;32m----> 1\u001b[1;33m \u001b[1;36m1\u001b[0m\u001b[1;33m/\u001b[0m\u001b[1;36m0\u001b[0m\u001b[1;33m\u001b[0m\u001b[1;33m\u001b[0m\u001b[0m\n\u001b[0m",
      "\u001b[1;31mZeroDivisionError\u001b[0m: division by zero"
     ]
    }
   ],
   "source": [
    "1/0"
   ]
  },
  {
   "cell_type": "code",
   "execution_count": 5,
   "id": "3719ed5a",
   "metadata": {},
   "outputs": [
    {
     "ename": "ZeroDivisionError",
     "evalue": "division by zero",
     "output_type": "error",
     "traceback": [
      "\u001b[1;31m---------------------------------------------------------------------------\u001b[0m",
      "\u001b[1;31mZeroDivisionError\u001b[0m                         Traceback (most recent call last)",
      "\u001b[1;32m~\\AppData\\Local\\Temp/ipykernel_69836/252656412.py\u001b[0m in \u001b[0;36m<module>\u001b[1;34m\u001b[0m\n\u001b[1;32m----> 1\u001b[1;33m \u001b[1;36m1\u001b[0m\u001b[1;33m/\u001b[0m\u001b[1;36m0\u001b[0m\u001b[1;33m\u001b[0m\u001b[1;33m\u001b[0m\u001b[0m\n\u001b[0m\u001b[0;32m      2\u001b[0m \u001b[0mprint\u001b[0m\u001b[1;33m(\u001b[0m\u001b[1;34m'this line will execute'\u001b[0m\u001b[1;33m)\u001b[0m\u001b[1;33m\u001b[0m\u001b[1;33m\u001b[0m\u001b[0m\n",
      "\u001b[1;31mZeroDivisionError\u001b[0m: division by zero"
     ]
    }
   ],
   "source": [
    "1/0 # Error \n",
    "print('this line will execute') # This line will not execute, since python is an interpreted language, but this statement is correct."
   ]
  },
  {
   "cell_type": "markdown",
   "id": "039f723d",
   "metadata": {},
   "source": [
    "# Exception Handling"
   ]
  },
  {
   "cell_type": "markdown",
   "id": "178a4790",
   "metadata": {},
   "source": [
    "Article on exception handling : https://en.wikipedia.org/wiki/Exception_handling"
   ]
  },
  {
   "cell_type": "markdown",
   "id": "d9c21b84",
   "metadata": {},
   "source": [
    "### try-except"
   ]
  },
  {
   "cell_type": "markdown",
   "id": "7d86e71a",
   "metadata": {},
   "source": [
    "```python\n",
    "Thumb Rule - If try block executes, then it will not execute except block.\n",
    "```"
   ]
  },
  {
   "cell_type": "code",
   "execution_count": 7,
   "id": "fc1a81ab",
   "metadata": {},
   "outputs": [
    {
     "name": "stdout",
     "output_type": "stream",
     "text": [
      "division by zero\n",
      "this line will excecute\n"
     ]
    }
   ],
   "source": [
    "try:\n",
    "    1/0\n",
    "except Exception as e:\n",
    "    print(e) # custom messages can be written, further we will be using logger instead of print..\n",
    "    print('this line will excecute')\n",
    "# e the alias name for Exception.\n",
    "# try block throws the error.\n",
    "# except block handles the error."
   ]
  },
  {
   "cell_type": "code",
   "execution_count": 6,
   "id": "71a93df4",
   "metadata": {},
   "outputs": [
    {
     "name": "stdout",
     "output_type": "stream",
     "text": [
      "division by zero\n",
      "this line will excecute\n"
     ]
    }
   ],
   "source": [
    "try:\n",
    "    1/0\n",
    "except Exception as parth:\n",
    "    print(parth)\n",
    "    print('this line will excecute')"
   ]
  },
  {
   "cell_type": "code",
   "execution_count": 8,
   "id": "2011f5e1",
   "metadata": {},
   "outputs": [],
   "source": [
    "a = 10"
   ]
  },
  {
   "cell_type": "code",
   "execution_count": 9,
   "id": "6c6ab897",
   "metadata": {},
   "outputs": [
    {
     "ename": "NameError",
     "evalue": "name 'A' is not defined",
     "output_type": "error",
     "traceback": [
      "\u001b[1;31m---------------------------------------------------------------------------\u001b[0m",
      "\u001b[1;31mNameError\u001b[0m                                 Traceback (most recent call last)",
      "\u001b[1;32m~\\AppData\\Local\\Temp/ipykernel_69836/378453753.py\u001b[0m in \u001b[0;36m<module>\u001b[1;34m\u001b[0m\n\u001b[1;32m----> 1\u001b[1;33m \u001b[0mA\u001b[0m\u001b[1;33m\u001b[0m\u001b[1;33m\u001b[0m\u001b[0m\n\u001b[0m",
      "\u001b[1;31mNameError\u001b[0m: name 'A' is not defined"
     ]
    }
   ],
   "source": [
    "A # python is a case-sensitive language."
   ]
  },
  {
   "cell_type": "markdown",
   "id": "3976574d",
   "metadata": {},
   "source": [
    "### multiple try-except"
   ]
  },
  {
   "cell_type": "code",
   "execution_count": 11,
   "id": "3b49202c",
   "metadata": {},
   "outputs": [
    {
     "name": "stdout",
     "output_type": "stream",
     "text": [
      "try block\n",
      "this line will execute\n"
     ]
    }
   ],
   "source": [
    "try:\n",
    "    print('try block')\n",
    "    print('this line will execute')\n",
    "except Exception as e:\n",
    "    print('except block')\n",
    "    print(e)"
   ]
  },
  {
   "cell_type": "code",
   "execution_count": 12,
   "id": "8de00667",
   "metadata": {},
   "outputs": [
    {
     "ename": "SyntaxError",
     "evalue": "unexpected EOF while parsing (Temp/ipykernel_69836/812782496.py, line 6)",
     "output_type": "error",
     "traceback": [
      "\u001b[1;36m  File \u001b[1;32m\"C:\\Users\\Acer\\AppData\\Local\\Temp/ipykernel_69836/812782496.py\"\u001b[1;36m, line \u001b[1;32m6\u001b[0m\n\u001b[1;33m    print('this line will execute')\u001b[0m\n\u001b[1;37m                                   ^\u001b[0m\n\u001b[1;31mSyntaxError\u001b[0m\u001b[1;31m:\u001b[0m unexpected EOF while parsing\n"
     ]
    }
   ],
   "source": [
    "try:\n",
    "    1/0\n",
    "except Exception as e:\n",
    "    print(e)\n",
    "try:\n",
    "    print('this line will execute') # if we start a try block, we need to end it with an except block."
   ]
  },
  {
   "cell_type": "code",
   "execution_count": 13,
   "id": "320629a4",
   "metadata": {},
   "outputs": [
    {
     "name": "stdout",
     "output_type": "stream",
     "text": [
      "division by zero\n"
     ]
    }
   ],
   "source": [
    "try:\n",
    "    1/0\n",
    "except Exception as e:\n",
    "    print(e)"
   ]
  },
  {
   "cell_type": "code",
   "execution_count": 14,
   "id": "8ab050b3",
   "metadata": {
    "scrolled": true
   },
   "outputs": [
    {
     "ename": "SyntaxError",
     "evalue": "unexpected EOF while parsing (Temp/ipykernel_69836/3301162315.py, line 2)",
     "output_type": "error",
     "traceback": [
      "\u001b[1;36m  File \u001b[1;32m\"C:\\Users\\Acer\\AppData\\Local\\Temp/ipykernel_69836/3301162315.py\"\u001b[1;36m, line \u001b[1;32m2\u001b[0m\n\u001b[1;33m    print('this line will execute')\u001b[0m\n\u001b[1;37m                                   ^\u001b[0m\n\u001b[1;31mSyntaxError\u001b[0m\u001b[1;31m:\u001b[0m unexpected EOF while parsing\n"
     ]
    }
   ],
   "source": [
    "try:\n",
    "    print('this line will execute') # if we start a try block, we need to end it with an except block."
   ]
  },
  {
   "cell_type": "code",
   "execution_count": 15,
   "id": "99571e99",
   "metadata": {},
   "outputs": [
    {
     "name": "stdout",
     "output_type": "stream",
     "text": [
      "division by zero\n",
      "this line will execute\n"
     ]
    }
   ],
   "source": [
    "# If try block executes, then it will not execute except block.\n",
    "# try-except block-1\n",
    "try:\n",
    "    # try block-1\n",
    "    1/0\n",
    "except Exception as e:\n",
    "    # except block-1\n",
    "    print(e) # display the error of the try block\n",
    "# try-except block-2\n",
    "try:\n",
    "    # try block-2\n",
    "    print('this line will execute')\n",
    "except:\n",
    "    # except block-2\n",
    "    print('this is second except block')"
   ]
  },
  {
   "cell_type": "code",
   "execution_count": 17,
   "id": "f98a226b",
   "metadata": {
    "scrolled": false
   },
   "outputs": [
    {
     "ename": "SyntaxError",
     "evalue": "EOL while scanning string literal (Temp/ipykernel_69836/1100387366.py, line 12)",
     "output_type": "error",
     "traceback": [
      "\u001b[1;36m  File \u001b[1;32m\"C:\\Users\\Acer\\AppData\\Local\\Temp/ipykernel_69836/1100387366.py\"\u001b[1;36m, line \u001b[1;32m12\u001b[0m\n\u001b[1;33m    print('this line will execute)\u001b[0m\n\u001b[1;37m                                  ^\u001b[0m\n\u001b[1;31mSyntaxError\u001b[0m\u001b[1;31m:\u001b[0m EOL while scanning string literal\n"
     ]
    }
   ],
   "source": [
    "# If try block executes, then it will not execute except block.\n",
    "# try-except block-1\n",
    "try:\n",
    "    # try block-1\n",
    "    1/0\n",
    "except Exception as e:\n",
    "    # except block-1\n",
    "    print(e) # display the error of the try block\n",
    "# try-except block-2\n",
    "try:\n",
    "    # try block-2\n",
    "    print('this line will execute)\n",
    "except:\n",
    "    # except block-2\n",
    "    print('this is second except block')"
   ]
  },
  {
   "cell_type": "markdown",
   "id": "cbcf131d",
   "metadata": {},
   "source": [
    "### To be fixed by soumya"
   ]
  },
  {
   "cell_type": "code",
   "execution_count": 36,
   "id": "96d7e252",
   "metadata": {},
   "outputs": [
    {
     "ename": "SyntaxError",
     "evalue": "EOL while scanning string literal (Temp/ipykernel_69836/3439359702.py, line 12)",
     "output_type": "error",
     "traceback": [
      "\u001b[1;36m  File \u001b[1;32m\"C:\\Users\\Acer\\AppData\\Local\\Temp/ipykernel_69836/3439359702.py\"\u001b[1;36m, line \u001b[1;32m12\u001b[0m\n\u001b[1;33m    print('this line will execute)\u001b[0m\n\u001b[1;37m                                  ^\u001b[0m\n\u001b[1;31mSyntaxError\u001b[0m\u001b[1;31m:\u001b[0m EOL while scanning string literal\n"
     ]
    }
   ],
   "source": [
    "# If try block executes, then it will not execute except block.\n",
    "# try-except block-1\n",
    "try:\n",
    "    # try block-1\n",
    "    1/0\n",
    "except Exception as e:\n",
    "    # except block-1\n",
    "    print(e) # display the error of the try block\n",
    "# try-except block-2\n",
    "try:\n",
    "    # try block-2\n",
    "    print('this line will execute)\n",
    "    raise SyntaxError\n",
    "except SyntaxError as parth:\n",
    "    print(parth)\n",
    "    print('this is second except block')"
   ]
  },
  {
   "cell_type": "code",
   "execution_count": 43,
   "id": "cea06b8e",
   "metadata": {},
   "outputs": [
    {
     "name": "stdout",
     "output_type": "stream",
     "text": [
      "name 'Print' is not defined\n"
     ]
    }
   ],
   "source": [
    "try:\n",
    "    Print('this line will execute') # Print is a not defined variable, but in python print() is a inbuilt function.\n",
    "except Exception as e:\n",
    "    print(e)"
   ]
  },
  {
   "cell_type": "markdown",
   "id": "3bc89695",
   "metadata": {},
   "source": [
    "### Basic file handling"
   ]
  },
  {
   "cell_type": "code",
   "execution_count": 16,
   "id": "b3e68a87",
   "metadata": {},
   "outputs": [
    {
     "ename": "FileNotFoundError",
     "evalue": "[Errno 2] No such file or directory: 'test.txt'",
     "output_type": "error",
     "traceback": [
      "\u001b[1;31m---------------------------------------------------------------------------\u001b[0m",
      "\u001b[1;31mFileNotFoundError\u001b[0m                         Traceback (most recent call last)",
      "\u001b[1;32m~\\AppData\\Local\\Temp/ipykernel_69836/1460582371.py\u001b[0m in \u001b[0;36m<module>\u001b[1;34m\u001b[0m\n\u001b[1;32m----> 1\u001b[1;33m \u001b[0mopen\u001b[0m\u001b[1;33m(\u001b[0m\u001b[1;34m'test.txt'\u001b[0m\u001b[1;33m)\u001b[0m\u001b[1;33m\u001b[0m\u001b[1;33m\u001b[0m\u001b[0m\n\u001b[0m",
      "\u001b[1;31mFileNotFoundError\u001b[0m: [Errno 2] No such file or directory: 'test.txt'"
     ]
    }
   ],
   "source": [
    "open('test.txt')"
   ]
  },
  {
   "cell_type": "code",
   "execution_count": 45,
   "id": "3e934cb0",
   "metadata": {},
   "outputs": [
    {
     "data": {
      "text/plain": [
       "<_io.TextIOWrapper name='test.txt' mode='r' encoding='cp1252'>"
      ]
     },
     "execution_count": 45,
     "metadata": {},
     "output_type": "execute_result"
    }
   ],
   "source": [
    "# Opening a file\n",
    "open('test.txt') # r is 'read' mode, by default it will open in read mode."
   ]
  },
  {
   "cell_type": "code",
   "execution_count": 46,
   "id": "4b3a05c5",
   "metadata": {},
   "outputs": [
    {
     "data": {
      "text/plain": [
       "<_io.TextIOWrapper name='test.txt' mode='r' encoding='cp1252'>"
      ]
     },
     "execution_count": 46,
     "metadata": {},
     "output_type": "execute_result"
    }
   ],
   "source": [
    "open('test.txt', 'r') # r is 'read' mode, but exclusively specified."
   ]
  },
  {
   "cell_type": "code",
   "execution_count": 47,
   "id": "b0685520",
   "metadata": {},
   "outputs": [
    {
     "data": {
      "text/plain": [
       "<_io.TextIOWrapper name='test.txt' mode='w' encoding='cp1252'>"
      ]
     },
     "execution_count": 47,
     "metadata": {},
     "output_type": "execute_result"
    }
   ],
   "source": [
    "open('test.txt', 'w') # w is 'write' mode, exclusively specified."
   ]
  },
  {
   "cell_type": "code",
   "execution_count": 48,
   "id": "18f259aa",
   "metadata": {},
   "outputs": [
    {
     "ename": "UnsupportedOperation",
     "evalue": "not writable",
     "output_type": "error",
     "traceback": [
      "\u001b[1;31m---------------------------------------------------------------------------\u001b[0m",
      "\u001b[1;31mUnsupportedOperation\u001b[0m                      Traceback (most recent call last)",
      "\u001b[1;32m~\\AppData\\Local\\Temp/ipykernel_69836/2597875468.py\u001b[0m in \u001b[0;36m<module>\u001b[1;34m\u001b[0m\n\u001b[0;32m      1\u001b[0m \u001b[0mf\u001b[0m \u001b[1;33m=\u001b[0m \u001b[0mopen\u001b[0m\u001b[1;33m(\u001b[0m\u001b[1;34m'test.txt'\u001b[0m\u001b[1;33m,\u001b[0m \u001b[1;34m'r'\u001b[0m\u001b[1;33m)\u001b[0m \u001b[1;31m# Opening the file in 'read' mode, but\u001b[0m\u001b[1;33m\u001b[0m\u001b[1;33m\u001b[0m\u001b[0m\n\u001b[1;32m----> 2\u001b[1;33m \u001b[0mf\u001b[0m\u001b[1;33m.\u001b[0m\u001b[0mwrite\u001b[0m\u001b[1;33m(\u001b[0m\u001b[1;34m'This is my first write'\u001b[0m\u001b[1;33m)\u001b[0m \u001b[1;31m# trying two write\u001b[0m\u001b[1;33m\u001b[0m\u001b[1;33m\u001b[0m\u001b[0m\n\u001b[0m",
      "\u001b[1;31mUnsupportedOperation\u001b[0m: not writable"
     ]
    }
   ],
   "source": [
    "f = open('test.txt', 'r') # Opening the file in 'read' mode, but\n",
    "f.write('This is my first write') # trying two write"
   ]
  },
  {
   "cell_type": "code",
   "execution_count": 50,
   "id": "a4ddc90a",
   "metadata": {},
   "outputs": [
    {
     "data": {
      "text/plain": [
       "22"
      ]
     },
     "execution_count": 50,
     "metadata": {},
     "output_type": "execute_result"
    }
   ],
   "source": [
    "f = open('test.txt', 'w') # Opening the file in 'write' mode, and\n",
    "f.write('This is my first write') # trying two write"
   ]
  },
  {
   "cell_type": "code",
   "execution_count": 52,
   "id": "464d4ac2",
   "metadata": {},
   "outputs": [],
   "source": [
    "f.close()"
   ]
  },
  {
   "cell_type": "code",
   "execution_count": null,
   "id": "f3233070",
   "metadata": {},
   "outputs": [],
   "source": []
  }
 ],
 "metadata": {
  "kernelspec": {
   "display_name": "Python 3 (ipykernel)",
   "language": "python",
   "name": "python3"
  },
  "language_info": {
   "codemirror_mode": {
    "name": "ipython",
    "version": 3
   },
   "file_extension": ".py",
   "mimetype": "text/x-python",
   "name": "python",
   "nbconvert_exporter": "python",
   "pygments_lexer": "ipython3",
   "version": "3.9.7"
  }
 },
 "nbformat": 4,
 "nbformat_minor": 5
}
