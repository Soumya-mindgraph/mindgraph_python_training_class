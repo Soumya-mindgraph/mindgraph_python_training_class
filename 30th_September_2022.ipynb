{
 "cells": [
  {
   "cell_type": "markdown",
   "id": "4add2ae5",
   "metadata": {},
   "source": [
    "# try, except, else, finally (Continued..)"
   ]
  },
  {
   "cell_type": "code",
   "execution_count": 1,
   "id": "073e3b3b",
   "metadata": {},
   "outputs": [
    {
     "ename": "NameError",
     "evalue": "name 'lhghjvfjcvhcvd' is not defined",
     "output_type": "error",
     "traceback": [
      "\u001b[1;31m---------------------------------------------------------------------------\u001b[0m",
      "\u001b[1;31mNameError\u001b[0m                                 Traceback (most recent call last)",
      "\u001b[1;32m~\\AppData\\Local\\Temp/ipykernel_69836/1206411615.py\u001b[0m in \u001b[0;36m<module>\u001b[1;34m\u001b[0m\n\u001b[1;32m----> 1\u001b[1;33m \u001b[0mlhghjvfjcvhcvd\u001b[0m\u001b[1;33m\u001b[0m\u001b[1;33m\u001b[0m\u001b[0m\n\u001b[0m",
      "\u001b[1;31mNameError\u001b[0m: name 'lhghjvfjcvhcvd' is not defined"
     ]
    }
   ],
   "source": [
    "lhghjvfjcvhcvd # not enclosed in single quotes or double quotes..interpreter assuming it as a variable which is not defined"
   ]
  },
  {
   "cell_type": "code",
   "execution_count": 2,
   "id": "c65d0c29",
   "metadata": {},
   "outputs": [
    {
     "data": {
      "text/plain": [
       "'lhghjvfjcvhcvd'"
      ]
     },
     "execution_count": 2,
     "metadata": {},
     "output_type": "execute_result"
    }
   ],
   "source": [
    "'lhghjvfjcvhcvd'"
   ]
  },
  {
   "cell_type": "markdown",
   "id": "d33544ae",
   "metadata": {},
   "source": [
    "```text\n",
    "syntactically fine, but this is a run time error. Infinity is not present in core python,  In case of Numpy, it will give 'infy'\n",
    "```"
   ]
  },
  {
   "cell_type": "code",
   "execution_count": 4,
   "id": "7ca3507a",
   "metadata": {},
   "outputs": [
    {
     "ename": "ZeroDivisionError",
     "evalue": "division by zero",
     "output_type": "error",
     "traceback": [
      "\u001b[1;31m---------------------------------------------------------------------------\u001b[0m",
      "\u001b[1;31mZeroDivisionError\u001b[0m                         Traceback (most recent call last)",
      "\u001b[1;32m~\\AppData\\Local\\Temp/ipykernel_69836/2354412189.py\u001b[0m in \u001b[0;36m<module>\u001b[1;34m\u001b[0m\n\u001b[1;32m----> 1\u001b[1;33m \u001b[1;36m1\u001b[0m\u001b[1;33m/\u001b[0m\u001b[1;36m0\u001b[0m\u001b[1;33m\u001b[0m\u001b[1;33m\u001b[0m\u001b[0m\n\u001b[0m",
      "\u001b[1;31mZeroDivisionError\u001b[0m: division by zero"
     ]
    }
   ],
   "source": [
    "1/0"
   ]
  },
  {
   "cell_type": "code",
   "execution_count": 5,
   "id": "2565fdcd",
   "metadata": {},
   "outputs": [
    {
     "ename": "ZeroDivisionError",
     "evalue": "division by zero",
     "output_type": "error",
     "traceback": [
      "\u001b[1;31m---------------------------------------------------------------------------\u001b[0m",
      "\u001b[1;31mZeroDivisionError\u001b[0m                         Traceback (most recent call last)",
      "\u001b[1;32m~\\AppData\\Local\\Temp/ipykernel_69836/252656412.py\u001b[0m in \u001b[0;36m<module>\u001b[1;34m\u001b[0m\n\u001b[1;32m----> 1\u001b[1;33m \u001b[1;36m1\u001b[0m\u001b[1;33m/\u001b[0m\u001b[1;36m0\u001b[0m\u001b[1;33m\u001b[0m\u001b[1;33m\u001b[0m\u001b[0m\n\u001b[0m\u001b[0;32m      2\u001b[0m \u001b[0mprint\u001b[0m\u001b[1;33m(\u001b[0m\u001b[1;34m'this line will execute'\u001b[0m\u001b[1;33m)\u001b[0m\u001b[1;33m\u001b[0m\u001b[1;33m\u001b[0m\u001b[0m\n",
      "\u001b[1;31mZeroDivisionError\u001b[0m: division by zero"
     ]
    }
   ],
   "source": [
    "1/0 # Error \n",
    "print('this line will execute') # This line will not execute, since python is an interpreted language, but this statement is correct."
   ]
  },
  {
   "cell_type": "markdown",
   "id": "85bdffe4",
   "metadata": {},
   "source": [
    "# Exception Handling"
   ]
  },
  {
   "cell_type": "markdown",
   "id": "4d63c0eb",
   "metadata": {},
   "source": [
    "Article on exception handling : https://en.wikipedia.org/wiki/Exception_handling"
   ]
  },
  {
   "cell_type": "markdown",
   "id": "65c02f09",
   "metadata": {},
   "source": [
    "### try-except"
   ]
  },
  {
   "cell_type": "markdown",
   "id": "3e13bfa0",
   "metadata": {},
   "source": [
    "```python\n",
    "Thumb Rule - If try block executes, then it will not execute except block.\n",
    "```"
   ]
  },
  {
   "cell_type": "code",
   "execution_count": 7,
   "id": "db30fc64",
   "metadata": {},
   "outputs": [
    {
     "name": "stdout",
     "output_type": "stream",
     "text": [
      "division by zero\n",
      "this line will excecute\n"
     ]
    }
   ],
   "source": [
    "try:\n",
    "    1/0\n",
    "except Exception as e:\n",
    "    print(e) # custom messages can be written, further we will be using logger instead of print..\n",
    "    print('this line will excecute')\n",
    "# e the alias name for Exception.\n",
    "# try block throws the error.\n",
    "# except block handles the error."
   ]
  },
  {
   "cell_type": "code",
   "execution_count": 6,
   "id": "b796deb4",
   "metadata": {},
   "outputs": [
    {
     "name": "stdout",
     "output_type": "stream",
     "text": [
      "division by zero\n",
      "this line will excecute\n"
     ]
    }
   ],
   "source": [
    "try:\n",
    "    1/0\n",
    "except Exception as parth:\n",
    "    print(parth)\n",
    "    print('this line will excecute')"
   ]
  },
  {
   "cell_type": "code",
   "execution_count": 8,
   "id": "c5594f26",
   "metadata": {},
   "outputs": [],
   "source": [
    "a = 10"
   ]
  },
  {
   "cell_type": "code",
   "execution_count": 9,
   "id": "0fb8be52",
   "metadata": {},
   "outputs": [
    {
     "ename": "NameError",
     "evalue": "name 'A' is not defined",
     "output_type": "error",
     "traceback": [
      "\u001b[1;31m---------------------------------------------------------------------------\u001b[0m",
      "\u001b[1;31mNameError\u001b[0m                                 Traceback (most recent call last)",
      "\u001b[1;32m~\\AppData\\Local\\Temp/ipykernel_69836/378453753.py\u001b[0m in \u001b[0;36m<module>\u001b[1;34m\u001b[0m\n\u001b[1;32m----> 1\u001b[1;33m \u001b[0mA\u001b[0m\u001b[1;33m\u001b[0m\u001b[1;33m\u001b[0m\u001b[0m\n\u001b[0m",
      "\u001b[1;31mNameError\u001b[0m: name 'A' is not defined"
     ]
    }
   ],
   "source": [
    "A # python is a case-sensitive language."
   ]
  },
  {
   "cell_type": "markdown",
   "id": "f47aafc6",
   "metadata": {},
   "source": [
    "### multiple try-except"
   ]
  },
  {
   "cell_type": "code",
   "execution_count": 11,
   "id": "f6d091c4",
   "metadata": {},
   "outputs": [
    {
     "name": "stdout",
     "output_type": "stream",
     "text": [
      "try block\n",
      "this line will execute\n"
     ]
    }
   ],
   "source": [
    "try:\n",
    "    print('try block')\n",
    "    print('this line will execute')\n",
    "except Exception as e:\n",
    "    print('except block')\n",
    "    print(e)"
   ]
  },
  {
   "cell_type": "code",
   "execution_count": 12,
   "id": "24123d44",
   "metadata": {},
   "outputs": [
    {
     "ename": "SyntaxError",
     "evalue": "unexpected EOF while parsing (Temp/ipykernel_69836/812782496.py, line 6)",
     "output_type": "error",
     "traceback": [
      "\u001b[1;36m  File \u001b[1;32m\"C:\\Users\\Acer\\AppData\\Local\\Temp/ipykernel_69836/812782496.py\"\u001b[1;36m, line \u001b[1;32m6\u001b[0m\n\u001b[1;33m    print('this line will execute')\u001b[0m\n\u001b[1;37m                                   ^\u001b[0m\n\u001b[1;31mSyntaxError\u001b[0m\u001b[1;31m:\u001b[0m unexpected EOF while parsing\n"
     ]
    }
   ],
   "source": [
    "try:\n",
    "    1/0\n",
    "except Exception as e:\n",
    "    print(e)\n",
    "try:\n",
    "    print('this line will execute') # if we start a try block, we need to end it with an except block."
   ]
  },
  {
   "cell_type": "code",
   "execution_count": 13,
   "id": "644ec750",
   "metadata": {},
   "outputs": [
    {
     "name": "stdout",
     "output_type": "stream",
     "text": [
      "division by zero\n"
     ]
    }
   ],
   "source": [
    "try:\n",
    "    1/0\n",
    "except Exception as e:\n",
    "    print(e)"
   ]
  },
  {
   "cell_type": "code",
   "execution_count": 14,
   "id": "6d2fc1b3",
   "metadata": {
    "scrolled": true
   },
   "outputs": [
    {
     "ename": "SyntaxError",
     "evalue": "unexpected EOF while parsing (Temp/ipykernel_69836/3301162315.py, line 2)",
     "output_type": "error",
     "traceback": [
      "\u001b[1;36m  File \u001b[1;32m\"C:\\Users\\Acer\\AppData\\Local\\Temp/ipykernel_69836/3301162315.py\"\u001b[1;36m, line \u001b[1;32m2\u001b[0m\n\u001b[1;33m    print('this line will execute')\u001b[0m\n\u001b[1;37m                                   ^\u001b[0m\n\u001b[1;31mSyntaxError\u001b[0m\u001b[1;31m:\u001b[0m unexpected EOF while parsing\n"
     ]
    }
   ],
   "source": [
    "try:\n",
    "    print('this line will execute') # if we start a try block, we need to end it with an except block."
   ]
  },
  {
   "cell_type": "code",
   "execution_count": 15,
   "id": "fc3fd8f4",
   "metadata": {},
   "outputs": [
    {
     "name": "stdout",
     "output_type": "stream",
     "text": [
      "division by zero\n",
      "this line will execute\n"
     ]
    }
   ],
   "source": [
    "# If try block executes, then it will not execute except block.\n",
    "# try-except block-1\n",
    "try:\n",
    "    # try block-1\n",
    "    1/0\n",
    "except Exception as e:\n",
    "    # except block-1\n",
    "    print(e) # display the error of the try block\n",
    "# try-except block-2\n",
    "try:\n",
    "    # try block-2\n",
    "    print('this line will execute')\n",
    "except:\n",
    "    # except block-2\n",
    "    print('this is second except block')"
   ]
  },
  {
   "cell_type": "code",
   "execution_count": 17,
   "id": "fe49994b",
   "metadata": {
    "scrolled": false
   },
   "outputs": [
    {
     "ename": "SyntaxError",
     "evalue": "EOL while scanning string literal (Temp/ipykernel_69836/1100387366.py, line 12)",
     "output_type": "error",
     "traceback": [
      "\u001b[1;36m  File \u001b[1;32m\"C:\\Users\\Acer\\AppData\\Local\\Temp/ipykernel_69836/1100387366.py\"\u001b[1;36m, line \u001b[1;32m12\u001b[0m\n\u001b[1;33m    print('this line will execute)\u001b[0m\n\u001b[1;37m                                  ^\u001b[0m\n\u001b[1;31mSyntaxError\u001b[0m\u001b[1;31m:\u001b[0m EOL while scanning string literal\n"
     ]
    }
   ],
   "source": [
    "# If try block executes, then it will not execute except block.\n",
    "# try-except block-1\n",
    "try:\n",
    "    # try block-1\n",
    "    1/0\n",
    "except Exception as e:\n",
    "    # except block-1\n",
    "    print(e) # display the error of the try block\n",
    "# try-except block-2\n",
    "try:\n",
    "    # try block-2\n",
    "    print('this line will execute)\n",
    "except:\n",
    "    # except block-2\n",
    "    print('this is second except block')"
   ]
  },
  {
   "cell_type": "markdown",
   "id": "6907d4b9",
   "metadata": {},
   "source": [
    "### To be fixed by soumya"
   ]
  },
  {
   "cell_type": "code",
   "execution_count": 36,
   "id": "95a4efed",
   "metadata": {},
   "outputs": [
    {
     "ename": "SyntaxError",
     "evalue": "EOL while scanning string literal (Temp/ipykernel_69836/3439359702.py, line 12)",
     "output_type": "error",
     "traceback": [
      "\u001b[1;36m  File \u001b[1;32m\"C:\\Users\\Acer\\AppData\\Local\\Temp/ipykernel_69836/3439359702.py\"\u001b[1;36m, line \u001b[1;32m12\u001b[0m\n\u001b[1;33m    print('this line will execute)\u001b[0m\n\u001b[1;37m                                  ^\u001b[0m\n\u001b[1;31mSyntaxError\u001b[0m\u001b[1;31m:\u001b[0m EOL while scanning string literal\n"
     ]
    }
   ],
   "source": [
    "# If try block executes, then it will not execute except block.\n",
    "# try-except block-1\n",
    "try:\n",
    "    # try block-1\n",
    "    1/0\n",
    "except Exception as e:\n",
    "    # except block-1\n",
    "    print(e) # display the error of the try block\n",
    "# try-except block-2\n",
    "try:\n",
    "    # try block-2\n",
    "    print('this line will execute)\n",
    "    raise SyntaxError\n",
    "except SyntaxError as parth:\n",
    "    print(parth)\n",
    "    print('this is second except block')"
   ]
  },
  {
   "cell_type": "code",
   "execution_count": 43,
   "id": "d46d1496",
   "metadata": {},
   "outputs": [
    {
     "name": "stdout",
     "output_type": "stream",
     "text": [
      "name 'Print' is not defined\n"
     ]
    }
   ],
   "source": [
    "try:\n",
    "    Print('this line will execute') # Print is a not defined variable, but in python print() is a inbuilt function.\n",
    "except Exception as e:\n",
    "    print(e)"
   ]
  },
  {
   "cell_type": "markdown",
   "id": "b7fb4a30",
   "metadata": {},
   "source": [
    "### Basic file handling"
   ]
  },
  {
   "cell_type": "code",
   "execution_count": 16,
   "id": "d8a6a79c",
   "metadata": {},
   "outputs": [
    {
     "ename": "FileNotFoundError",
     "evalue": "[Errno 2] No such file or directory: 'test.txt'",
     "output_type": "error",
     "traceback": [
      "\u001b[1;31m---------------------------------------------------------------------------\u001b[0m",
      "\u001b[1;31mFileNotFoundError\u001b[0m                         Traceback (most recent call last)",
      "\u001b[1;32m~\\AppData\\Local\\Temp/ipykernel_69836/1460582371.py\u001b[0m in \u001b[0;36m<module>\u001b[1;34m\u001b[0m\n\u001b[1;32m----> 1\u001b[1;33m \u001b[0mopen\u001b[0m\u001b[1;33m(\u001b[0m\u001b[1;34m'test.txt'\u001b[0m\u001b[1;33m)\u001b[0m\u001b[1;33m\u001b[0m\u001b[1;33m\u001b[0m\u001b[0m\n\u001b[0m",
      "\u001b[1;31mFileNotFoundError\u001b[0m: [Errno 2] No such file or directory: 'test.txt'"
     ]
    }
   ],
   "source": [
    "open('test.txt')"
   ]
  },
  {
   "cell_type": "code",
   "execution_count": 45,
   "id": "27d6dc22",
   "metadata": {},
   "outputs": [
    {
     "data": {
      "text/plain": [
       "<_io.TextIOWrapper name='test.txt' mode='r' encoding='cp1252'>"
      ]
     },
     "execution_count": 45,
     "metadata": {},
     "output_type": "execute_result"
    }
   ],
   "source": [
    "# Opening a file\n",
    "open('test.txt') # r is 'read' mode, by default it will open in read mode."
   ]
  },
  {
   "cell_type": "code",
   "execution_count": 46,
   "id": "9f74147a",
   "metadata": {},
   "outputs": [
    {
     "data": {
      "text/plain": [
       "<_io.TextIOWrapper name='test.txt' mode='r' encoding='cp1252'>"
      ]
     },
     "execution_count": 46,
     "metadata": {},
     "output_type": "execute_result"
    }
   ],
   "source": [
    "open('test.txt', 'r') # r is 'read' mode, but exclusively specified."
   ]
  },
  {
   "cell_type": "code",
   "execution_count": 47,
   "id": "6cb6757f",
   "metadata": {},
   "outputs": [
    {
     "data": {
      "text/plain": [
       "<_io.TextIOWrapper name='test.txt' mode='w' encoding='cp1252'>"
      ]
     },
     "execution_count": 47,
     "metadata": {},
     "output_type": "execute_result"
    }
   ],
   "source": [
    "open('test.txt', 'w') # w is 'write' mode, exclusively specified."
   ]
  },
  {
   "cell_type": "code",
   "execution_count": 48,
   "id": "5915f2c8",
   "metadata": {},
   "outputs": [
    {
     "ename": "UnsupportedOperation",
     "evalue": "not writable",
     "output_type": "error",
     "traceback": [
      "\u001b[1;31m---------------------------------------------------------------------------\u001b[0m",
      "\u001b[1;31mUnsupportedOperation\u001b[0m                      Traceback (most recent call last)",
      "\u001b[1;32m~\\AppData\\Local\\Temp/ipykernel_69836/2597875468.py\u001b[0m in \u001b[0;36m<module>\u001b[1;34m\u001b[0m\n\u001b[0;32m      1\u001b[0m \u001b[0mf\u001b[0m \u001b[1;33m=\u001b[0m \u001b[0mopen\u001b[0m\u001b[1;33m(\u001b[0m\u001b[1;34m'test.txt'\u001b[0m\u001b[1;33m,\u001b[0m \u001b[1;34m'r'\u001b[0m\u001b[1;33m)\u001b[0m \u001b[1;31m# Opening the file in 'read' mode, but\u001b[0m\u001b[1;33m\u001b[0m\u001b[1;33m\u001b[0m\u001b[0m\n\u001b[1;32m----> 2\u001b[1;33m \u001b[0mf\u001b[0m\u001b[1;33m.\u001b[0m\u001b[0mwrite\u001b[0m\u001b[1;33m(\u001b[0m\u001b[1;34m'This is my first write'\u001b[0m\u001b[1;33m)\u001b[0m \u001b[1;31m# trying two write\u001b[0m\u001b[1;33m\u001b[0m\u001b[1;33m\u001b[0m\u001b[0m\n\u001b[0m",
      "\u001b[1;31mUnsupportedOperation\u001b[0m: not writable"
     ]
    }
   ],
   "source": [
    "f = open('test.txt', 'r') # Opening the file in 'read' mode, but\n",
    "f.write('This is my first write') # trying two write"
   ]
  },
  {
   "cell_type": "code",
   "execution_count": 50,
   "id": "b73ed841",
   "metadata": {},
   "outputs": [
    {
     "data": {
      "text/plain": [
       "22"
      ]
     },
     "execution_count": 50,
     "metadata": {},
     "output_type": "execute_result"
    }
   ],
   "source": [
    "f = open('test.txt', 'w') # Opening the file in 'write' mode, and\n",
    "f.write('This is my first write') # trying to write"
   ]
  },
  {
   "cell_type": "code",
   "execution_count": 52,
   "id": "5e93f129",
   "metadata": {},
   "outputs": [],
   "source": [
    "f.close()"
   ]
  },
  {
   "cell_type": "code",
   "execution_count": 53,
   "id": "84eca810",
   "metadata": {},
   "outputs": [],
   "source": [
    "f = open('test.txt', 'w') # Opening the file in 'write' mode, and\n",
    "f.write('This is my second write') # trying to write\n",
    "f.close() # closing the file, after writing a message"
   ]
  },
  {
   "cell_type": "code",
   "execution_count": 70,
   "id": "a6e27340",
   "metadata": {},
   "outputs": [],
   "source": [
    "f = open('test.txt', 'w') # Opening the file in 'write' mode, and\n",
    "f.write('This is my second write\\nThis is my third write') # trying to write\n",
    "f.close() # closing the file, after writing a message"
   ]
  },
  {
   "cell_type": "code",
   "execution_count": 71,
   "id": "dc62f6de",
   "metadata": {},
   "outputs": [],
   "source": [
    "f = open('test.txt', 'w') # Opening the file in 'write' mode, and\n",
    "f.write('This is my first write\\n')\n",
    "f.write('This is my second write\\nThis is my third write\\n') # trying to write\n",
    "f.write('This is my fourth write\\nThis is my fifth write')\n",
    "f.close() # closing the file, after writing a message"
   ]
  },
  {
   "cell_type": "code",
   "execution_count": 57,
   "id": "037655a9",
   "metadata": {},
   "outputs": [
    {
     "data": {
      "text/plain": [
       "'D:\\\\DE_Training_Mindgraph\\\\python_training'"
      ]
     },
     "execution_count": 57,
     "metadata": {},
     "output_type": "execute_result"
    }
   ],
   "source": [
    "pwd # present working directory"
   ]
  },
  {
   "cell_type": "markdown",
   "id": "ddd9fa79",
   "metadata": {},
   "source": [
    "* present directory - **python_training**\n",
    "* path to files - **D:\\\\DE_Training_Mindgraph\\\\python_training**"
   ]
  },
  {
   "cell_type": "code",
   "execution_count": 58,
   "id": "6cd759f6",
   "metadata": {},
   "outputs": [
    {
     "data": {
      "text/plain": [
       "'D:\\\\DE_Training_Mindgraph\\\\python_training'"
      ]
     },
     "execution_count": 58,
     "metadata": {},
     "output_type": "execute_result"
    }
   ],
   "source": [
    "pwd()"
   ]
  },
  {
   "cell_type": "code",
   "execution_count": 59,
   "id": "bf4b7fd0",
   "metadata": {
    "scrolled": true
   },
   "outputs": [
    {
     "name": "stdout",
     "output_type": "stream",
     "text": [
      " Volume in drive D is storage\n",
      " Volume Serial Number is 7C24-A5A9\n",
      "\n",
      " Directory of D:\\DE_Training_Mindgraph\\python_training\n",
      "\n",
      "30-09-2022  12:00    <DIR>          .\n",
      "09-09-2022  10:46    <DIR>          ..\n",
      "30-09-2022  10:45    <DIR>          .ipynb_checkpoints\n",
      "12-09-2022  15:49            63,889 12th_September_2022.ipynb\n",
      "13-09-2022  15:28            66,399 13th_September_2022.ipynb\n",
      "15-09-2022  15:12            21,449 14th_September_2022.ipynb\n",
      "16-09-2022  11:47            77,010 15th_September_2022.ipynb\n",
      "19-09-2022  09:22            15,449 16th_September_2022.ipynb\n",
      "20-09-2022  10:25            58,321 19th_September_2022.ipynb\n",
      "22-09-2022  08:08            43,721 20th_September_2022.ipynb\n",
      "22-09-2022  14:59            25,741 21st_September_2022.ipynb\n",
      "23-09-2022  10:29            48,697 22nd_September_2022.ipynb\n",
      "23-09-2022  13:58            32,481 23rd_September_2022.ipynb\n",
      "26-09-2022  13:17            13,556 26th_September_2022.ipynb\n",
      "28-09-2022  16:16            19,923 28th_September_2022.ipynb\n",
      "29-09-2022  13:29            13,361 29th_September_2022.ipynb\n",
      "30-09-2022  12:00            18,996 30th_September_2022.ipynb\n",
      "08-09-2022  16:05            18,138 8th_September_2022.ipynb\n",
      "12-09-2022  10:39            12,307 9th_September_2022.ipynb\n",
      "30-09-2022  12:00               120 test.txt\n",
      "              17 File(s)        549,558 bytes\n",
      "               3 Dir(s)  127,751,172,096 bytes free\n"
     ]
    }
   ],
   "source": [
    "ls # list all the files present in current the directory."
   ]
  },
  {
   "cell_type": "markdown",
   "id": "c2131652",
   "metadata": {},
   "source": [
    "### write five messages to test2.txt"
   ]
  },
  {
   "cell_type": "markdown",
   "id": "14b8e42a",
   "metadata": {},
   "source": [
    "### below program will not satisfy the requirements"
   ]
  },
  {
   "cell_type": "code",
   "execution_count": 62,
   "id": "da9733d7",
   "metadata": {},
   "outputs": [],
   "source": [
    "# This is automatically creating a file named as test2.txt and writing the below five messages - Requirement not satisfied.\n",
    "f = open('test2.txt', 'w') # Opening the file in 'write' mode, and\n",
    "f.write('This is my first write\\n')\n",
    "f.write('This is my second write\\nThis is my third write\\n') # trying to write\n",
    "f.write('This is my fourth write\\nThis is my fifth write')\n",
    "f.close()"
   ]
  },
  {
   "cell_type": "markdown",
   "id": "7b3f9542",
   "metadata": {},
   "source": [
    "### below program will satisfy the requirements"
   ]
  },
  {
   "cell_type": "code",
   "execution_count": 63,
   "id": "d92dce0c",
   "metadata": {},
   "outputs": [
    {
     "name": "stdout",
     "output_type": "stream",
     "text": [
      " Volume in drive D is storage\n",
      " Volume Serial Number is 7C24-A5A9\n",
      "\n",
      " Directory of D:\\DE_Training_Mindgraph\\python_training\n",
      "\n",
      "30-09-2022  12:13    <DIR>          .\n",
      "30-09-2022  12:10    <DIR>          ..\n",
      "30-09-2022  10:45    <DIR>          .ipynb_checkpoints\n",
      "12-09-2022  15:49            63,889 12th_September_2022.ipynb\n",
      "13-09-2022  15:28            66,399 13th_September_2022.ipynb\n",
      "15-09-2022  15:12            21,449 14th_September_2022.ipynb\n",
      "16-09-2022  11:47            77,010 15th_September_2022.ipynb\n",
      "19-09-2022  09:22            15,449 16th_September_2022.ipynb\n",
      "20-09-2022  10:25            58,321 19th_September_2022.ipynb\n",
      "22-09-2022  08:08            43,721 20th_September_2022.ipynb\n",
      "22-09-2022  14:59            25,741 21st_September_2022.ipynb\n",
      "23-09-2022  10:29            48,697 22nd_September_2022.ipynb\n",
      "23-09-2022  13:58            32,481 23rd_September_2022.ipynb\n",
      "26-09-2022  13:17            13,556 26th_September_2022.ipynb\n",
      "28-09-2022  16:16            19,923 28th_September_2022.ipynb\n",
      "29-09-2022  13:29            13,361 29th_September_2022.ipynb\n",
      "30-09-2022  12:13            23,353 30th_September_2022.ipynb\n",
      "08-09-2022  16:05            18,138 8th_September_2022.ipynb\n",
      "12-09-2022  10:39            12,307 9th_September_2022.ipynb\n",
      "30-09-2022  12:00               120 test.txt\n",
      "30-09-2022  12:12               120 test2.txt\n",
      "              18 File(s)        554,035 bytes\n",
      "               3 Dir(s)  127,751,163,904 bytes free\n"
     ]
    }
   ],
   "source": [
    "ls"
   ]
  },
  {
   "cell_type": "code",
   "execution_count": 64,
   "id": "51a985af",
   "metadata": {},
   "outputs": [
    {
     "data": {
      "text/plain": [
       "'D:\\\\DE_Training_Mindgraph\\\\python_training'"
      ]
     },
     "execution_count": 64,
     "metadata": {},
     "output_type": "execute_result"
    }
   ],
   "source": [
    "pwd"
   ]
  },
  {
   "cell_type": "code",
   "execution_count": 65,
   "id": "223a5ec0",
   "metadata": {},
   "outputs": [],
   "source": [
    "f = open('D:\\\\DE_Training_Mindgraph\\\\test2.txt', 'w') # Opening the file in 'write' mode, and\n",
    "f.write('This is my first write\\n')\n",
    "f.write('This is my second write\\nThis is my third write\\n') # trying to write\n",
    "f.write('This is my fourth write\\nThis is my fifth write')\n",
    "f.close()"
   ]
  },
  {
   "cell_type": "markdown",
   "id": "d56a48cc",
   "metadata": {},
   "source": [
    "* If name is specified diretly, the file must be in the same directory, else give the path if the file is present in some other directory."
   ]
  },
  {
   "cell_type": "code",
   "execution_count": 66,
   "id": "d90c8b9a",
   "metadata": {},
   "outputs": [
    {
     "data": {
      "text/plain": [
       "'D:\\\\DE_Training_Mindgraph\\\\python_training'"
      ]
     },
     "execution_count": 66,
     "metadata": {},
     "output_type": "execute_result"
    }
   ],
   "source": [
    "pwd"
   ]
  },
  {
   "cell_type": "code",
   "execution_count": 68,
   "id": "6336c8ef",
   "metadata": {},
   "outputs": [],
   "source": [
    "f = open('D:\\\\DE_Training_Mindgraph\\\\python_training\\\\test_folder\\\\test3.txt', 'w') # Opening the file in 'write' mode, and\n",
    "f.write('Internal Execution\\n')\n",
    "f.write('This is my first write\\n')\n",
    "f.write('This is my second write\\nThis is my third write\\n') # trying to write\n",
    "f.write('This is my fourth write\\nThis is my fifth write')\n",
    "f.close()"
   ]
  },
  {
   "cell_type": "code",
   "execution_count": 69,
   "id": "afb89e49",
   "metadata": {},
   "outputs": [],
   "source": [
    "f = open('test3.txt', 'w') # Opening the file in 'write' mode, and\n",
    "f.write('Internal Execution 2\\n')\n",
    "f.write('This is my first write\\n')\n",
    "f.write('This is my second write\\nThis is my third write\\n') # trying to write\n",
    "f.write('This is my fourth write\\nThis is my fifth write')\n",
    "f.close()"
   ]
  }
 ],
 "metadata": {
  "kernelspec": {
   "display_name": "Python 3 (ipykernel)",
   "language": "python",
   "name": "python3"
  },
  "language_info": {
   "codemirror_mode": {
    "name": "ipython",
    "version": 3
   },
   "file_extension": ".py",
   "mimetype": "text/x-python",
   "name": "python",
   "nbconvert_exporter": "python",
   "pygments_lexer": "ipython3",
   "version": "3.9.7"
  }
 },
 "nbformat": 4,
 "nbformat_minor": 5
}
