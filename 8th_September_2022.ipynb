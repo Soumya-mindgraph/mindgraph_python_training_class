{
 "cells": [
  {
   "cell_type": "markdown",
   "id": "b5e762cd",
   "metadata": {},
   "source": [
    "# Python Basic"
   ]
  },
  {
   "cell_type": "markdown",
   "id": "4e090b20",
   "metadata": {},
   "source": [
    "* For executing every cell - Ctrl + Enter (For pointing in the same cell after execution)\n",
    "* For executing every cell - Shift + Enter (For moving to the next cell after execution)"
   ]
  },
  {
   "cell_type": "markdown",
   "id": "d9667f8c",
   "metadata": {},
   "source": [
    "* Point 1\n",
    "    * Sub-Point 1\n",
    "        * Sub-Point 1.1\n",
    "    * Sub-Point 2\n",
    "        * Sub-Point 2.1"
   ]
  },
  {
   "cell_type": "markdown",
   "id": "27c6077b",
   "metadata": {},
   "source": [
    "* Operating Jupyter Notebook\n",
    "    * To add a new cell above - Select the cell + Press A\n",
    "    * To add a new cell below - Select the cell + Press B\n",
    "    * To Delete a cell - Select the cell \n",
    "        * Press \"D\" + \"D\" fast\n",
    "        * Press \"X\""
   ]
  },
  {
   "cell_type": "code",
   "execution_count": 17,
   "id": "ea6a7726",
   "metadata": {},
   "outputs": [],
   "source": [
    "# Single line comment - Ctrl + '/'"
   ]
  },
  {
   "cell_type": "code",
   "execution_count": 16,
   "id": "2f8b1147",
   "metadata": {},
   "outputs": [],
   "source": [
    "# Select all and then Ctrl + '/'\n",
    "# Multi\n",
    "# line \n",
    "# Comment "
   ]
  },
  {
   "cell_type": "markdown",
   "id": "25a613ec",
   "metadata": {},
   "source": [
    "* Both are applicable for single line and multi line comments\n",
    "    * For adding a comment - Select all + Ctrl + '/'\n",
    "    * For removing a comment - Select all + Ctrl + '/'"
   ]
  },
  {
   "cell_type": "markdown",
   "id": "040911ae",
   "metadata": {},
   "source": [
    "# Heading"
   ]
  },
  {
   "cell_type": "markdown",
   "id": "4072a7b3",
   "metadata": {},
   "source": [
    "## Sub Heading 1"
   ]
  },
  {
   "cell_type": "markdown",
   "id": "12bc1ff7",
   "metadata": {},
   "source": [
    "### Sub Heading 2"
   ]
  },
  {
   "cell_type": "markdown",
   "id": "17a4b059",
   "metadata": {},
   "source": [
    "#### Sub Heading 3"
   ]
  },
  {
   "cell_type": "code",
   "execution_count": 19,
   "id": "114f6a97",
   "metadata": {},
   "outputs": [
    {
     "data": {
      "text/plain": [
       "2"
      ]
     },
     "execution_count": 19,
     "metadata": {},
     "output_type": "execute_result"
    }
   ],
   "source": [
    "2 # executable integer statement"
   ]
  },
  {
   "cell_type": "code",
   "execution_count": 20,
   "id": "a2e3ec9a",
   "metadata": {},
   "outputs": [
    {
     "data": {
      "text/plain": [
       "int"
      ]
     },
     "execution_count": 20,
     "metadata": {},
     "output_type": "execute_result"
    }
   ],
   "source": [
    "type(2)"
   ]
  },
  {
   "cell_type": "code",
   "execution_count": 22,
   "id": "0dcccdec",
   "metadata": {},
   "outputs": [],
   "source": [
    "# 2 - commented(single line comment) - No Output"
   ]
  },
  {
   "cell_type": "code",
   "execution_count": 23,
   "id": "6f09903a",
   "metadata": {},
   "outputs": [
    {
     "data": {
      "text/plain": [
       "'my name is shubha'"
      ]
     },
     "execution_count": 23,
     "metadata": {},
     "output_type": "execute_result"
    }
   ],
   "source": [
    "\"my name is shubha\" # - executable string statement"
   ]
  },
  {
   "cell_type": "code",
   "execution_count": 24,
   "id": "9848293b",
   "metadata": {},
   "outputs": [
    {
     "data": {
      "text/plain": [
       "str"
      ]
     },
     "execution_count": 24,
     "metadata": {},
     "output_type": "execute_result"
    }
   ],
   "source": [
    "type(\"my name is shubha\") # String Type"
   ]
  },
  {
   "cell_type": "code",
   "execution_count": 26,
   "id": "c9c727ac",
   "metadata": {},
   "outputs": [
    {
     "data": {
      "text/plain": [
       "3.4"
      ]
     },
     "execution_count": 26,
     "metadata": {},
     "output_type": "execute_result"
    }
   ],
   "source": [
    "3.4"
   ]
  },
  {
   "cell_type": "code",
   "execution_count": 27,
   "id": "ce3f0eff",
   "metadata": {},
   "outputs": [
    {
     "data": {
      "text/plain": [
       "float"
      ]
     },
     "execution_count": 27,
     "metadata": {},
     "output_type": "execute_result"
    }
   ],
   "source": [
    "type(3.4)"
   ]
  },
  {
   "cell_type": "code",
   "execution_count": 28,
   "id": "708e5682",
   "metadata": {},
   "outputs": [
    {
     "data": {
      "text/plain": [
       "True"
      ]
     },
     "execution_count": 28,
     "metadata": {},
     "output_type": "execute_result"
    }
   ],
   "source": [
    "True"
   ]
  },
  {
   "cell_type": "code",
   "execution_count": 29,
   "id": "1728a474",
   "metadata": {},
   "outputs": [
    {
     "data": {
      "text/plain": [
       "False"
      ]
     },
     "execution_count": 29,
     "metadata": {},
     "output_type": "execute_result"
    }
   ],
   "source": [
    "False"
   ]
  },
  {
   "cell_type": "code",
   "execution_count": 30,
   "id": "2afeacdd",
   "metadata": {},
   "outputs": [
    {
     "data": {
      "text/plain": [
       "bool"
      ]
     },
     "execution_count": 30,
     "metadata": {},
     "output_type": "execute_result"
    }
   ],
   "source": [
    "type(True)"
   ]
  },
  {
   "cell_type": "code",
   "execution_count": 31,
   "id": "fc43c34e",
   "metadata": {},
   "outputs": [
    {
     "data": {
      "text/plain": [
       "bool"
      ]
     },
     "execution_count": 31,
     "metadata": {},
     "output_type": "execute_result"
    }
   ],
   "source": [
    "type(False) # boolean type"
   ]
  },
  {
   "cell_type": "markdown",
   "id": "b5c9fbc1",
   "metadata": {},
   "source": [
    "* DataType\n",
    "    * INTEGER - int\n",
    "    * FLOAT - float\n",
    "    * BOOLEAN - True/False\n",
    "    * STRING - str"
   ]
  },
  {
   "cell_type": "code",
   "execution_count": 39,
   "id": "83d80dce",
   "metadata": {},
   "outputs": [
    {
     "ename": "NameError",
     "evalue": "name 'a' is not defined",
     "output_type": "error",
     "traceback": [
      "\u001b[1;31m---------------------------------------------------------------------------\u001b[0m",
      "\u001b[1;31mNameError\u001b[0m                                 Traceback (most recent call last)",
      "\u001b[1;32m~\\AppData\\Local\\Temp/ipykernel_153852/3624927969.py\u001b[0m in \u001b[0;36m<module>\u001b[1;34m\u001b[0m\n\u001b[1;32m----> 1\u001b[1;33m \u001b[0ma\u001b[0m \u001b[1;31m# acting like a variable\u001b[0m\u001b[1;33m\u001b[0m\u001b[1;33m\u001b[0m\u001b[0m\n\u001b[0m",
      "\u001b[1;31mNameError\u001b[0m: name 'a' is not defined"
     ]
    }
   ],
   "source": [
    "a # acting like a variable"
   ]
  },
  {
   "cell_type": "code",
   "execution_count": 6,
   "id": "c3345b66",
   "metadata": {},
   "outputs": [
    {
     "data": {
      "text/plain": [
       "'a'"
      ]
     },
     "execution_count": 6,
     "metadata": {},
     "output_type": "execute_result"
    }
   ],
   "source": [
    "\"a\" # character or a string"
   ]
  },
  {
   "cell_type": "code",
   "execution_count": 33,
   "id": "78db9de7",
   "metadata": {},
   "outputs": [
    {
     "data": {
      "text/plain": [
       "str"
      ]
     },
     "execution_count": 33,
     "metadata": {},
     "output_type": "execute_result"
    }
   ],
   "source": [
    "type('a')"
   ]
  },
  {
   "cell_type": "code",
   "execution_count": 40,
   "id": "1e0167e3",
   "metadata": {},
   "outputs": [
    {
     "ename": "NameError",
     "evalue": "name 'my_name_is_shubha' is not defined",
     "output_type": "error",
     "traceback": [
      "\u001b[1;31m---------------------------------------------------------------------------\u001b[0m",
      "\u001b[1;31mNameError\u001b[0m                                 Traceback (most recent call last)",
      "\u001b[1;32m~\\AppData\\Local\\Temp/ipykernel_153852/202599450.py\u001b[0m in \u001b[0;36m<module>\u001b[1;34m\u001b[0m\n\u001b[1;32m----> 1\u001b[1;33m \u001b[0mmy_name_is_shubha\u001b[0m  \u001b[1;31m# acting like a variable\u001b[0m\u001b[1;33m\u001b[0m\u001b[1;33m\u001b[0m\u001b[0m\n\u001b[0m",
      "\u001b[1;31mNameError\u001b[0m: name 'my_name_is_shubha' is not defined"
     ]
    }
   ],
   "source": [
    "my_name_is_shubha  # acting like a variable"
   ]
  },
  {
   "cell_type": "code",
   "execution_count": 35,
   "id": "a8134622",
   "metadata": {},
   "outputs": [
    {
     "ename": "SyntaxError",
     "evalue": "invalid syntax (Temp/ipykernel_153852/2244079357.py, line 1)",
     "output_type": "error",
     "traceback": [
      "\u001b[1;36m  File \u001b[1;32m\"C:\\Users\\Acer\\AppData\\Local\\Temp/ipykernel_153852/2244079357.py\"\u001b[1;36m, line \u001b[1;32m1\u001b[0m\n\u001b[1;33m    my name is shubha # combination of separate variable names and characters.\u001b[0m\n\u001b[1;37m       ^\u001b[0m\n\u001b[1;31mSyntaxError\u001b[0m\u001b[1;31m:\u001b[0m invalid syntax\n"
     ]
    }
   ],
   "source": [
    "my name is shubha # combination of separate variable names and characters."
   ]
  },
  {
   "cell_type": "code",
   "execution_count": 36,
   "id": "5002de1e",
   "metadata": {},
   "outputs": [
    {
     "data": {
      "text/plain": [
       "str"
      ]
     },
     "execution_count": 36,
     "metadata": {},
     "output_type": "execute_result"
    }
   ],
   "source": [
    "type(\"my name is shubha\")"
   ]
  },
  {
   "cell_type": "markdown",
   "id": "15773333",
   "metadata": {},
   "source": [
    "* Strings are always enclosed within single quotes 'String' or \"Double Quotes\""
   ]
  },
  {
   "cell_type": "code",
   "execution_count": 37,
   "id": "9d260ef1",
   "metadata": {},
   "outputs": [
    {
     "data": {
      "text/plain": [
       "'Single Quotes String Example'"
      ]
     },
     "execution_count": 37,
     "metadata": {},
     "output_type": "execute_result"
    }
   ],
   "source": [
    "# Single Quotes Example\n",
    "'Single Quotes String Example'"
   ]
  },
  {
   "cell_type": "code",
   "execution_count": 38,
   "id": "48d10b10",
   "metadata": {},
   "outputs": [
    {
     "data": {
      "text/plain": [
       "'Double Quotes String Example'"
      ]
     },
     "execution_count": 38,
     "metadata": {},
     "output_type": "execute_result"
    }
   ],
   "source": [
    "# Double Quotes Example\n",
    "\"Double Quotes String Example\""
   ]
  },
  {
   "cell_type": "markdown",
   "id": "bf878d42",
   "metadata": {},
   "source": [
    "* From Code to Markdown - Select the Cell, Press M\n",
    "* From Markdown to Code - Select the Cell, Press Y"
   ]
  },
  {
   "cell_type": "markdown",
   "id": "dbc4ac64",
   "metadata": {},
   "source": [
    "### Using a variable"
   ]
  },
  {
   "cell_type": "code",
   "execution_count": 42,
   "id": "e32a2102",
   "metadata": {},
   "outputs": [],
   "source": [
    "# a variable is a container, which stores values\n",
    "variable = \"value\"   # a variable is a container, which stored value of string type"
   ]
  },
  {
   "cell_type": "code",
   "execution_count": 43,
   "id": "342503bd",
   "metadata": {},
   "outputs": [
    {
     "data": {
      "text/plain": [
       "'value'"
      ]
     },
     "execution_count": 43,
     "metadata": {},
     "output_type": "execute_result"
    }
   ],
   "source": [
    "variable"
   ]
  },
  {
   "cell_type": "code",
   "execution_count": 45,
   "id": "4b9e3b87",
   "metadata": {},
   "outputs": [],
   "source": [
    "a = 10 # stored value of integer 10 in container/variable a"
   ]
  },
  {
   "cell_type": "code",
   "execution_count": 46,
   "id": "80635d21",
   "metadata": {},
   "outputs": [
    {
     "data": {
      "text/plain": [
       "int"
      ]
     },
     "execution_count": 46,
     "metadata": {},
     "output_type": "execute_result"
    }
   ],
   "source": [
    "type(a)"
   ]
  },
  {
   "cell_type": "markdown",
   "id": "472c08c9",
   "metadata": {},
   "source": [
    "* = is an assignment operator\n",
    "* == is a comparison operator"
   ]
  },
  {
   "cell_type": "code",
   "execution_count": 47,
   "id": "ffb42915",
   "metadata": {},
   "outputs": [],
   "source": [
    "a = 5 # assigning a value of 5 to variable a"
   ]
  },
  {
   "cell_type": "code",
   "execution_count": 48,
   "id": "7d01ec0f",
   "metadata": {},
   "outputs": [
    {
     "data": {
      "text/plain": [
       "5"
      ]
     },
     "execution_count": 48,
     "metadata": {},
     "output_type": "execute_result"
    }
   ],
   "source": [
    "a"
   ]
  },
  {
   "cell_type": "code",
   "execution_count": 49,
   "id": "948f40c0",
   "metadata": {},
   "outputs": [
    {
     "data": {
      "text/plain": [
       "False"
      ]
     },
     "execution_count": 49,
     "metadata": {},
     "output_type": "execute_result"
    }
   ],
   "source": [
    "a == 10 # comparison"
   ]
  },
  {
   "cell_type": "code",
   "execution_count": 50,
   "id": "528d5438",
   "metadata": {},
   "outputs": [
    {
     "data": {
      "text/plain": [
       "int"
      ]
     },
     "execution_count": 50,
     "metadata": {},
     "output_type": "execute_result"
    }
   ],
   "source": [
    "type(a)"
   ]
  },
  {
   "cell_type": "code",
   "execution_count": 51,
   "id": "e10a9be0",
   "metadata": {},
   "outputs": [
    {
     "data": {
      "text/plain": [
       "True"
      ]
     },
     "execution_count": 51,
     "metadata": {},
     "output_type": "execute_result"
    }
   ],
   "source": [
    "type(a) == int"
   ]
  },
  {
   "cell_type": "code",
   "execution_count": 52,
   "id": "9189da35",
   "metadata": {},
   "outputs": [
    {
     "data": {
      "text/plain": [
       "False"
      ]
     },
     "execution_count": 52,
     "metadata": {},
     "output_type": "execute_result"
    }
   ],
   "source": [
    "type(a) == float"
   ]
  },
  {
   "cell_type": "code",
   "execution_count": 53,
   "id": "17001ca1",
   "metadata": {},
   "outputs": [
    {
     "data": {
      "text/plain": [
       "False"
      ]
     },
     "execution_count": 53,
     "metadata": {},
     "output_type": "execute_result"
    }
   ],
   "source": [
    "type(a) == bool"
   ]
  },
  {
   "cell_type": "code",
   "execution_count": 54,
   "id": "dcf6b341",
   "metadata": {},
   "outputs": [
    {
     "data": {
      "text/plain": [
       "True"
      ]
     },
     "execution_count": 54,
     "metadata": {},
     "output_type": "execute_result"
    }
   ],
   "source": [
    "(type(a) == int) == True"
   ]
  },
  {
   "cell_type": "code",
   "execution_count": 59,
   "id": "2f0f70ad",
   "metadata": {
    "scrolled": true
   },
   "outputs": [
    {
     "data": {
      "text/plain": [
       "False"
      ]
     },
     "execution_count": 59,
     "metadata": {},
     "output_type": "execute_result"
    }
   ],
   "source": [
    "((type(a) == int) == True)!= True"
   ]
  },
  {
   "cell_type": "markdown",
   "id": "354dd937",
   "metadata": {},
   "source": [
    "* ! - NOT"
   ]
  },
  {
   "cell_type": "code",
   "execution_count": 60,
   "id": "1bd9663c",
   "metadata": {},
   "outputs": [],
   "source": [
    "a = True"
   ]
  },
  {
   "cell_type": "code",
   "execution_count": 62,
   "id": "ed1c5bae",
   "metadata": {},
   "outputs": [
    {
     "data": {
      "text/plain": [
       "False"
      ]
     },
     "execution_count": 62,
     "metadata": {},
     "output_type": "execute_result"
    }
   ],
   "source": [
    "(((type(a) == int) == True)!= True)!= (False != type(a))"
   ]
  },
  {
   "cell_type": "code",
   "execution_count": 67,
   "id": "6584ca86",
   "metadata": {},
   "outputs": [
    {
     "data": {
      "text/plain": [
       "False"
      ]
     },
     "execution_count": 67,
     "metadata": {},
     "output_type": "execute_result"
    }
   ],
   "source": [
    "((((type(a) == int) == True)!= True)) != (False != type(a))"
   ]
  },
  {
   "cell_type": "code",
   "execution_count": 68,
   "id": "aaa41980",
   "metadata": {},
   "outputs": [
    {
     "data": {
      "text/plain": [
       "True"
      ]
     },
     "execution_count": 68,
     "metadata": {},
     "output_type": "execute_result"
    }
   ],
   "source": [
    "((((type(a) == int) == True)!= True)) == (False != type(a))"
   ]
  },
  {
   "cell_type": "code",
   "execution_count": 71,
   "id": "7b4eb259",
   "metadata": {},
   "outputs": [],
   "source": [
    "a = True"
   ]
  },
  {
   "cell_type": "code",
   "execution_count": 74,
   "id": "07ba248e",
   "metadata": {},
   "outputs": [
    {
     "data": {
      "text/plain": [
       "bool"
      ]
     },
     "execution_count": 74,
     "metadata": {},
     "output_type": "execute_result"
    }
   ],
   "source": [
    "type(a)"
   ]
  },
  {
   "cell_type": "code",
   "execution_count": 77,
   "id": "299e5e52",
   "metadata": {},
   "outputs": [
    {
     "data": {
      "text/plain": [
       "True"
      ]
     },
     "execution_count": 77,
     "metadata": {},
     "output_type": "execute_result"
    }
   ],
   "source": [
    "((((type(a) == int) == True)!= True)) == ((False != type(a)) == True) # solve this `"
   ]
  },
  {
   "cell_type": "markdown",
   "id": "b90ca388",
   "metadata": {},
   "source": [
    "* Platforms where we can write our python code.\n",
    "    * Jupyter Notebook\n",
    "    * Jupyter Lab\n",
    "    * Spyder\n",
    "    * VSCode\n",
    "    * IntelliJ\n",
    "    * Pycharm\n",
    "    * Atom\n",
    "    * txt.py(txt file with a .py extension)\n",
    "    * Google Collab (Online)"
   ]
  }
 ],
 "metadata": {
  "kernelspec": {
   "display_name": "Python 3 (ipykernel)",
   "language": "python",
   "name": "python3"
  },
  "language_info": {
   "codemirror_mode": {
    "name": "ipython",
    "version": 3
   },
   "file_extension": ".py",
   "mimetype": "text/x-python",
   "name": "python",
   "nbconvert_exporter": "python",
   "pygments_lexer": "ipython3",
   "version": "3.9.7"
  }
 },
 "nbformat": 4,
 "nbformat_minor": 5
}
