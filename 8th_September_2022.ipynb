{
 "cells": [
  {
   "cell_type": "markdown",
   "id": "c4ff8759",
   "metadata": {},
   "source": [
    "## Python Basics and Conditionals"
   ]
  },
  {
   "cell_type": "markdown",
   "id": "d11222a3",
   "metadata": {},
   "source": [
    "* Go to File Location, and open Jupyter Notebook"
   ]
  },
  {
   "cell_type": "markdown",
   "id": "00fd08b2",
   "metadata": {},
   "source": [
    "* Type Python on Anaconda Platform, 1+2, print(\"shubha\")\n",
    "* Execution can be done through the prompt, but for proper execution of code we need some GUI or IDE to so that we can write our code in a structured format and execute it.(Error correction can be done easily)."
   ]
  },
  {
   "cell_type": "markdown",
   "id": "71533d5f",
   "metadata": {},
   "source": [
    "* Platforms where we can write our python code.\n",
    "    * Jupyter Notebook\n",
    "    * Jupyter Lab\n",
    "    * Spyder\n",
    "    * VSCode\n",
    "    * IntelliJ\n",
    "    * Pycharm\n",
    "    * Atom\n",
    "    * txt.py(txt file with a .py extension)\n",
    "    * Google Collab (Online)"
   ]
  },
  {
   "cell_type": "markdown",
   "id": "e806835c",
   "metadata": {},
   "source": [
    "* Jupyter Notebook is an IDE, Compiler Vs Interpreter. JupyterNotebook"
   ]
  },
  {
   "cell_type": "code",
   "execution_count": 1,
   "id": "5f8ea585",
   "metadata": {
    "scrolled": true
   },
   "outputs": [
    {
     "name": "stdout",
     "output_type": "stream",
     "text": [
      "The Zen of Python, by Tim Peters\n",
      "\n",
      "Beautiful is better than ugly.\n",
      "Explicit is better than implicit.\n",
      "Simple is better than complex.\n",
      "Complex is better than complicated.\n",
      "Flat is better than nested.\n",
      "Sparse is better than dense.\n",
      "Readability counts.\n",
      "Special cases aren't special enough to break the rules.\n",
      "Although practicality beats purity.\n",
      "Errors should never pass silently.\n",
      "Unless explicitly silenced.\n",
      "In the face of ambiguity, refuse the temptation to guess.\n",
      "There should be one-- and preferably only one --obvious way to do it.\n",
      "Although that way may not be obvious at first unless you're Dutch.\n",
      "Now is better than never.\n",
      "Although never is often better than *right* now.\n",
      "If the implementation is hard to explain, it's a bad idea.\n",
      "If the implementation is easy to explain, it may be a good idea.\n",
      "Namespaces are one honking great idea -- let's do more of those!\n"
     ]
    }
   ],
   "source": [
    "import this # this is a shell"
   ]
  },
  {
   "cell_type": "markdown",
   "id": "2ab54102",
   "metadata": {},
   "source": [
    "* Jupyter Notebook is a Web Based IDE"
   ]
  },
  {
   "cell_type": "code",
   "execution_count": 2,
   "id": "14eb2914",
   "metadata": {},
   "outputs": [
    {
     "data": {
      "text/plain": [
       "3"
      ]
     },
     "execution_count": 2,
     "metadata": {},
     "output_type": "execute_result"
    }
   ],
   "source": [
    "1 + 2"
   ]
  },
  {
   "cell_type": "code",
   "execution_count": 3,
   "id": "5638482e",
   "metadata": {},
   "outputs": [
    {
     "ename": "NameError",
     "evalue": "name 'fsdssddasddf' is not defined",
     "output_type": "error",
     "traceback": [
      "\u001b[1;31m---------------------------------------------------------------------------\u001b[0m",
      "\u001b[1;31mNameError\u001b[0m                                 Traceback (most recent call last)",
      "\u001b[1;32m~\\AppData\\Local\\Temp/ipykernel_166964/1447215134.py\u001b[0m in \u001b[0;36m<module>\u001b[1;34m\u001b[0m\n\u001b[1;32m----> 1\u001b[1;33m \u001b[0mfsdssddasddf\u001b[0m\u001b[1;33m\u001b[0m\u001b[1;33m\u001b[0m\u001b[0m\n\u001b[0m",
      "\u001b[1;31mNameError\u001b[0m: name 'fsdssddasddf' is not defined"
     ]
    }
   ],
   "source": [
    "fsdssddasddf"
   ]
  },
  {
   "cell_type": "markdown",
   "id": "05eebe80",
   "metadata": {},
   "source": [
    "### import this"
   ]
  },
  {
   "cell_type": "markdown",
   "id": "331692a2",
   "metadata": {},
   "source": [
    "### my name is Shubha"
   ]
  },
  {
   "cell_type": "markdown",
   "id": "2f637528",
   "metadata": {},
   "source": [
    "### I work for ByteIQ and Mindgraph"
   ]
  },
  {
   "cell_type": "code",
   "execution_count": 4,
   "id": "7e6f9852",
   "metadata": {},
   "outputs": [
    {
     "name": "stdout",
     "output_type": "stream",
     "text": [
      "My Name is Shubha\n"
     ]
    }
   ],
   "source": [
    "print(\"My Name is Shubha\")"
   ]
  },
  {
   "cell_type": "code",
   "execution_count": 5,
   "id": "d5f9d175",
   "metadata": {},
   "outputs": [
    {
     "name": "stdout",
     "output_type": "stream",
     "text": [
      "\n"
     ]
    },
    {
     "data": {
      "text/plain": [
       "[]"
      ]
     },
     "execution_count": 5,
     "metadata": {},
     "output_type": "execute_result"
    }
   ],
   "source": [
    "print() # If i don't know about python function, go inside (shift + Tab) to know more about the function.\n",
    "list()"
   ]
  },
  {
   "cell_type": "code",
   "execution_count": 6,
   "id": "2af1367b",
   "metadata": {},
   "outputs": [
    {
     "name": "stdout",
     "output_type": "stream",
     "text": [
      " Volume in drive D is storage\n",
      " Volume Serial Number is 7C24-A5A9\n",
      "\n",
      " Directory of D:\\DE_Training_Mindgraph\\8th_September_2022\n",
      "\n",
      "08-09-2022  07:19    <DIR>          .\n",
      "08-09-2022  06:51    <DIR>          ..\n",
      "08-09-2022  06:52    <DIR>          .ipynb_checkpoints\n",
      "08-09-2022  07:19             6,941 8th_September_2022.ipynb\n",
      "               1 File(s)          6,941 bytes\n",
      "               3 Dir(s)  159,494,860,800 bytes free\n"
     ]
    }
   ],
   "source": [
    "ls"
   ]
  },
  {
   "cell_type": "code",
   "execution_count": 7,
   "id": "b1c10c61",
   "metadata": {},
   "outputs": [
    {
     "data": {
      "text/plain": [
       "'D:\\\\DE_Training_Mindgraph\\\\8th_September_2022'"
      ]
     },
     "execution_count": 7,
     "metadata": {},
     "output_type": "execute_result"
    }
   ],
   "source": [
    "pwd"
   ]
  },
  {
   "cell_type": "code",
   "execution_count": 14,
   "id": "c7dddb9d",
   "metadata": {},
   "outputs": [
    {
     "name": "stdout",
     "output_type": "stream",
     "text": [
      "This is my first python program\n"
     ]
    }
   ],
   "source": [
    "print('This is my first python program')"
   ]
  },
  {
   "cell_type": "code",
   "execution_count": 15,
   "id": "751c2de0",
   "metadata": {},
   "outputs": [
    {
     "ename": "SyntaxError",
     "evalue": "EOL while scanning string literal (Temp/ipykernel_166964/2118013772.py, line 1)",
     "output_type": "error",
     "traceback": [
      "\u001b[1;36m  File \u001b[1;32m\"C:\\Users\\Acer\\AppData\\Local\\Temp/ipykernel_166964/2118013772.py\"\u001b[1;36m, line \u001b[1;32m1\u001b[0m\n\u001b[1;33m    print('This is my first python program)\u001b[0m\n\u001b[1;37m                                           ^\u001b[0m\n\u001b[1;31mSyntaxError\u001b[0m\u001b[1;31m:\u001b[0m EOL while scanning string literal\n"
     ]
    }
   ],
   "source": [
    "# rectify error in GUI\n",
    "print('This is my first python program)   "
   ]
  },
  {
   "cell_type": "code",
   "execution_count": 16,
   "id": "dbfdc28d",
   "metadata": {},
   "outputs": [
    {
     "ename": "SyntaxError",
     "evalue": "Missing parentheses in call to 'print'. Did you mean print(\"This is my first python program\")? (Temp/ipykernel_166964/2593072552.py, line 1)",
     "output_type": "error",
     "traceback": [
      "\u001b[1;36m  File \u001b[1;32m\"C:\\Users\\Acer\\AppData\\Local\\Temp/ipykernel_166964/2593072552.py\"\u001b[1;36m, line \u001b[1;32m1\u001b[0m\n\u001b[1;33m    print \"This is my first python program\"\u001b[0m\n\u001b[1;37m          ^\u001b[0m\n\u001b[1;31mSyntaxError\u001b[0m\u001b[1;31m:\u001b[0m Missing parentheses in call to 'print'. Did you mean print(\"This is my first python program\")?\n"
     ]
    }
   ],
   "source": [
    "print \"This is my first python program\" # valid in 2.x version, you will find may codes in git and stack overflow like this"
   ]
  },
  {
   "cell_type": "code",
   "execution_count": 17,
   "id": "c3096c0b",
   "metadata": {},
   "outputs": [
    {
     "ename": "SyntaxError",
     "evalue": "invalid syntax (Temp/ipykernel_166964/4151315894.py, line 1)",
     "output_type": "error",
     "traceback": [
      "\u001b[1;36m  File \u001b[1;32m\"C:\\Users\\Acer\\AppData\\Local\\Temp/ipykernel_166964/4151315894.py\"\u001b[1;36m, line \u001b[1;32m1\u001b[0m\n\u001b[1;33m    my name is shubha\u001b[0m\n\u001b[1;37m       ^\u001b[0m\n\u001b[1;31mSyntaxError\u001b[0m\u001b[1;31m:\u001b[0m invalid syntax\n"
     ]
    }
   ],
   "source": [
    "my name is shubha"
   ]
  },
  {
   "cell_type": "code",
   "execution_count": 18,
   "id": "b3dbea58",
   "metadata": {},
   "outputs": [
    {
     "data": {
      "text/plain": [
       "'my name is shubha'"
      ]
     },
     "execution_count": 18,
     "metadata": {},
     "output_type": "execute_result"
    }
   ],
   "source": [
    "\"my name is shubha\""
   ]
  },
  {
   "cell_type": "code",
   "execution_count": null,
   "id": "f807751c",
   "metadata": {},
   "outputs": [],
   "source": [
    "# non-executable line or comment. No Logical Execution for this particular line."
   ]
  },
  {
   "cell_type": "code",
   "execution_count": 19,
   "id": "d4897896",
   "metadata": {},
   "outputs": [
    {
     "ename": "SyntaxError",
     "evalue": "invalid syntax (Temp/ipykernel_166964/1460892755.py, line 2)",
     "output_type": "error",
     "traceback": [
      "\u001b[1;36m  File \u001b[1;32m\"C:\\Users\\Acer\\AppData\\Local\\Temp/ipykernel_166964/1460892755.py\"\u001b[1;36m, line \u001b[1;32m2\u001b[0m\n\u001b[1;33m    second line\u001b[0m\n\u001b[1;37m           ^\u001b[0m\n\u001b[1;31mSyntaxError\u001b[0m\u001b[1;31m:\u001b[0m invalid syntax\n"
     ]
    }
   ],
   "source": [
    "# my name is shubha\n",
    "second line\n",
    "third line\n",
    "fourth line\n",
    "fifth line\n",
    "sixth line"
   ]
  },
  {
   "cell_type": "code",
   "execution_count": 20,
   "id": "a02cd33b",
   "metadata": {},
   "outputs": [
    {
     "ename": "SyntaxError",
     "evalue": "invalid syntax (Temp/ipykernel_166964/2276439882.py, line 4)",
     "output_type": "error",
     "traceback": [
      "\u001b[1;36m  File \u001b[1;32m\"C:\\Users\\Acer\\AppData\\Local\\Temp/ipykernel_166964/2276439882.py\"\u001b[1;36m, line \u001b[1;32m4\u001b[0m\n\u001b[1;33m    third line\u001b[0m\n\u001b[1;37m          ^\u001b[0m\n\u001b[1;31mSyntaxError\u001b[0m\u001b[1;31m:\u001b[0m invalid syntax\n"
     ]
    }
   ],
   "source": [
    "# debug and solve\n",
    "# my name is shubha\n",
    "# second line\n",
    "third line\n",
    "fourth line\n",
    "fifth line\n",
    "sixth line"
   ]
  },
  {
   "cell_type": "code",
   "execution_count": 20,
   "id": "4e407a8b",
   "metadata": {},
   "outputs": [
    {
     "ename": "SyntaxError",
     "evalue": "invalid syntax (Temp/ipykernel_166964/2276439882.py, line 4)",
     "output_type": "error",
     "traceback": [
      "\u001b[1;36m  File \u001b[1;32m\"C:\\Users\\Acer\\AppData\\Local\\Temp/ipykernel_166964/2276439882.py\"\u001b[1;36m, line \u001b[1;32m4\u001b[0m\n\u001b[1;33m    third line\u001b[0m\n\u001b[1;37m          ^\u001b[0m\n\u001b[1;31mSyntaxError\u001b[0m\u001b[1;31m:\u001b[0m invalid syntax\n"
     ]
    }
   ],
   "source": [
    "# multiline comment\n",
    "# my name is shubha\n",
    "# second line\n",
    "# third line\n",
    "# fourth line\n",
    "# fifth line\n",
    "# sixth line"
   ]
  },
  {
   "cell_type": "code",
   "execution_count": null,
   "id": "de65a61c",
   "metadata": {},
   "outputs": [],
   "source": []
  }
 ],
 "metadata": {
  "kernelspec": {
   "display_name": "Python 3 (ipykernel)",
   "language": "python",
   "name": "python3"
  },
  "language_info": {
   "codemirror_mode": {
    "name": "ipython",
    "version": 3
   },
   "file_extension": ".py",
   "mimetype": "text/x-python",
   "name": "python",
   "nbconvert_exporter": "python",
   "pygments_lexer": "ipython3",
   "version": "3.9.7"
  }
 },
 "nbformat": 4,
 "nbformat_minor": 5
}
